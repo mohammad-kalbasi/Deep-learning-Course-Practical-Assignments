{
  "cells": [
    {
      "cell_type": "markdown",
      "metadata": {
        "deletable": false,
        "editable": false,
        "heading_collapsed": true,
        "run_control": {
          "frozen": true
        },
        "id": "O-Tp12jzvDeO"
      },
      "source": [
        "# Deep Learning"
      ]
    },
    {
      "cell_type": "markdown",
      "metadata": {
        "deletable": false,
        "editable": false,
        "heading_collapsed": true,
        "hidden": true,
        "run_control": {
          "frozen": true
        },
        "id": "gn5wtEWkvDeQ"
      },
      "source": [
        "## HW1- Problem 3 - Regression (100 pts)"
      ]
    },
    {
      "cell_type": "markdown",
      "metadata": {
        "heading_collapsed": true,
        "hidden": true,
        "id": "XimS7NJBvDeR"
      },
      "source": [
        "### Please fill this part\n",
        "\n",
        "\n",
        "1.   Full Name: Mohammad Kalbasi\n",
        "2.   Student Number: 401211028\n",
        "\n",
        "\n",
        "*You are just allowded to change those parts that start with \"TO DO\". Please do not change other parts.*\n",
        "\n",
        "*It is highly recommended to read each codeline carefully and try to understand what it exactly does. Best of luck and have fun!*"
      ]
    },
    {
      "cell_type": "code",
      "execution_count": null,
      "metadata": {
        "hidden": true,
        "id": "HB-ulXt9vDeR"
      },
      "outputs": [],
      "source": [
        "# You are not allowed to import other packages.\n",
        "\n",
        "import numpy as np\n",
        "import pandas as pd\n",
        "\n",
        "from matplotlib import pyplot as plt\n",
        "from sklearn.metrics import mean_squared_error"
      ]
    },
    {
      "cell_type": "markdown",
      "metadata": {
        "deletable": false,
        "editable": false,
        "heading_collapsed": true,
        "hidden": true,
        "run_control": {
          "frozen": true
        },
        "id": "6p5YJ6kPvDeS"
      },
      "source": [
        "### Part1:\n",
        "Consider the dataset which has been given to you. Split the dataset into the `training dataset` and `test dataset`. You can use `80%` of the data for training and the rest for testing."
      ]
    },
    {
      "cell_type": "code",
      "execution_count": null,
      "metadata": {
        "hidden": true,
        "id": "1GePNH_pvDeS"
      },
      "outputs": [],
      "source": [
        "dataset = pd.read_csv(\"./data/data01.csv\")\n",
        "\n",
        "# implement the split part\n",
        "# name them: x_train, x_test, y_train, y_test\n",
        "samples,_  = dataset.shape\n",
        "index = np.arange(samples)\n",
        "#np.random.shuffle(index) uncomment this part if you want to first shuffle the data and then choose train and validation data\n",
        "#after seeing dataset we don't see need for shuffeling data because train and test data seems to be shuffeled before and they don't have a specific pattern(like x values of train be bigger than test) so we didn't shuffle the data but if you want to see the result uncomment the code!\n",
        "x_train = np.asarray(dataset['X'][index[0:int(samples*0.8)]])\n",
        "y_train = np.asarray(dataset['Y'][index[0:int(samples*0.8)]])\n",
        "\n",
        "x_test = np.asarray(dataset['X'][index[int(samples*0.8):]])\n",
        "y_test = np.asarray(dataset['Y'][index[int(samples*0.8):]])"
      ]
    },
    {
      "cell_type": "markdown",
      "metadata": {
        "deletable": false,
        "editable": false,
        "heading_collapsed": true,
        "hidden": true,
        "run_control": {
          "frozen": true
        },
        "id": "0aaHJwyMvDeT"
      },
      "source": [
        "### Part2:\n",
        "Assume there is simple linear relationship between X and Y. Train a simple `Linear Regression` on the training dataset and report its accuracy on the training and testing dataset, separately."
      ]
    },
    {
      "cell_type": "code",
      "execution_count": null,
      "metadata": {
        "hidden": true,
        "id": "ZcgDHvYEvDeT"
      },
      "outputs": [],
      "source": [
        "# here you can implement via sgd or use least square solution. we suggest the second one inv(A^T A) * A^T y.\n",
        "# consider m as the returned line --> m[0] = the slope , m[1] = y intercept, also don't forget to use numpy for calculating m.\n",
        "bias = np.ones(int(0.8*samples),)\n",
        "A = np.vstack((x_train,bias)).T\n",
        "m = np.matmul(np.matmul(np.linalg.inv(np.matmul(A.T,A)),A.T),y_train)"
      ]
    },
    {
      "cell_type": "code",
      "execution_count": null,
      "metadata": {
        "hidden": true,
        "id": "z9TpEUbYvDeT",
        "colab": {
          "base_uri": "https://localhost:8080/"
        },
        "outputId": "b02ae5cd-6a18-475d-a37a-da117b9e2284"
      },
      "outputs": [
        {
          "output_type": "stream",
          "name": "stdout",
          "text": [
            "MSE train error: 0.32467763017774226\n",
            "MSE test error: 0.3544951192130029\n"
          ]
        }
      ],
      "source": [
        "predicted_train_y = m[0] * x_train + m[1]\n",
        "predicted_test_y = m[0] * x_test + m[1]\n",
        "\n",
        "train_error = np.square(np.subtract(y_train,predicted_train_y)).mean()\n",
        "test_error = np.square(np.subtract(y_test,predicted_test_y)).mean()\n",
        "\n",
        "print(f\"MSE train error: {train_error}\\nMSE test error: {test_error}\")"
      ]
    },
    {
      "cell_type": "markdown",
      "metadata": {
        "deletable": false,
        "editable": false,
        "heading_collapsed": true,
        "hidden": true,
        "run_control": {
          "frozen": true
        },
        "id": "Yr-Wjk32vDeU"
      },
      "source": [
        "### Part3:\n",
        "Draw the line you've found in the last part, on train and test points (each separately)."
      ]
    },
    {
      "cell_type": "code",
      "execution_count": null,
      "metadata": {
        "hidden": true,
        "id": "El7Dc6q-vDeU",
        "colab": {
          "base_uri": "https://localhost:8080/",
          "height": 298
        },
        "outputId": "57451ff5-9c9a-46b7-ad14-1e63342fe107"
      },
      "outputs": [
        {
          "output_type": "execute_result",
          "data": {
            "text/plain": [
              "Text(0.5, 1.0, 'Train dataset')"
            ]
          },
          "metadata": {},
          "execution_count": 5
        },
        {
          "output_type": "display_data",
          "data": {
            "text/plain": [
              "<Figure size 432x288 with 1 Axes>"
            ],
            "image/png": "[encoded data removed]"
          },
          "metadata": {
            "needs_background": "light"
          }
        }
      ],
      "source": [
        "plt.scatter(x_train, y_train)\n",
        "plt.scatter(x_train, m[0]*x_train + m[1], s=1)\n",
        "plt.title(\"Train dataset\")"
      ]
    },
    {
      "cell_type": "code",
      "execution_count": null,
      "metadata": {
        "hidden": true,
        "id": "th8dxkTavDeU",
        "colab": {
          "base_uri": "https://localhost:8080/",
          "height": 298
        },
        "outputId": "2b88a4ea-6154-4c59-fa12-cd1073c94ce9"
      },
      "outputs": [
        {
          "output_type": "execute_result",
          "data": {
            "text/plain": [
              "Text(0.5, 1.0, 'Test dataset')"
            ]
          },
          "metadata": {},
          "execution_count": 6
        },
        {
          "output_type": "display_data",
          "data": {
            "text/plain": [
              "<Figure size 432x288 with 1 Axes>"
            ],
            "image/png": "[encoded data removed]"
          },
          "metadata": {
            "needs_background": "light"
          }
        }
      ],
      "source": [
        "plt.scatter(x_test, y_test)\n",
        "plt.scatter(x_test, m[0]*x_test + m[1], s=1)\n",
        "plt.title(\"Test dataset\")"
      ]
    },
    {
      "cell_type": "markdown",
      "metadata": {
        "deletable": false,
        "editable": false,
        "heading_collapsed": true,
        "hidden": true,
        "run_control": {
          "frozen": true
        },
        "id": "iuh2VhvyvDeU"
      },
      "source": [
        "### Part4:\n",
        "Were the reported accuracies acceptable?\n",
        "\n",
        "What about the line you drew in the last part?\n",
        "\n",
        "Was it appropriate for the dataset?\n",
        "<br><br/>\n",
        "Explain what are the main problems here."
      ]
    },
    {
      "cell_type": "markdown",
      "metadata": {
        "hidden": true,
        "id": "lpsnFAfOvDeV"
      },
      "source": [
        "it's a little tricky to say our result is acceptable only based of mse, because it's only show distance between original and predicted vector so if norm of original signal is very little, even a bad estimation will get low \"mse\",so it's usually better to normalize mse based on norm of original. but if we had to say anything, based of distribution of y vector they are between 1.5 and -1.5 so we have at least %10 error but so many point have magnitude less than 1.5 so it's a sizable error and not acceptable.\n",
        "the line we draw follow overall trend of data but it is obvious that it isn't good enough for describing data and it is not appropriate for this dataset.\n",
        "main problem here is that data doesn't follow a linear realation ship between y and x data so estimating y based on x with simple linear equation will not give us good enough result"
      ]
    },
    {
      "cell_type": "markdown",
      "metadata": {
        "deletable": false,
        "editable": false,
        "heading_collapsed": true,
        "hidden": true,
        "run_control": {
          "frozen": true
        },
        "id": "Saa-ydkdvDeV"
      },
      "source": [
        "### Part5:\n",
        "Now, consider the `Locally Weighted Linear Regression` approach for this problem. Do expect it performs better than simple `Linear Regression` for this dataset?"
      ]
    },
    {
      "cell_type": "markdown",
      "metadata": {
        "hidden": true,
        "id": "7jv5fFqOvDeV"
      },
      "source": [
        "yes we expect to achive better result, because we add non linearity to our model so it will be more complex and also data have a good local pattern(in each part we see slow changes) that will be used in algorithm like Locally Weighted Linear Regression."
      ]
    },
    {
      "cell_type": "markdown",
      "metadata": {
        "deletable": false,
        "editable": false,
        "heading_collapsed": true,
        "hidden": true,
        "run_control": {
          "frozen": true
        },
        "id": "bdhFAXfSvDeV"
      },
      "source": [
        "### Part6:\n",
        "Here, we want to implement the `suggested model`. You can implement any weight function you want, the below implementation is just a sample:\n",
        "<br><br/>\n",
        "\\begin{equation*}\n",
        "    w^{(i)}=exp\\left(-\\frac{(\\mathbf x^{(i)}-\\mathbf x)^\\top(\\mathbf x^{(i)}-\\mathbf x)}{2\\tau^2}\\right)\n",
        "\\end{equation*}"
      ]
    },
    {
      "cell_type": "code",
      "execution_count": null,
      "metadata": {
        "hidden": true,
        "id": "dmpF9wFivDeV"
      },
      "outputs": [],
      "source": [
        "def get_weight_matrix(the_query_point, train_dataset, hyperparameter):\n",
        "    l = train_dataset.shape[0]\n",
        "    W = np.mat(np.eye(l))\n",
        "    for i, xi in enumerate(train_dataset):\n",
        "        denum = 2*(hyperparameter**2)\n",
        "        W[i, i] = np.exp(np.dot(-1*(xi-the_query_point), (xi-the_query_point).T)/denum) \n",
        "    return W"
      ]
    },
    {
      "cell_type": "markdown",
      "metadata": {
        "deletable": false,
        "editable": false,
        "hidden": true,
        "run_control": {
          "frozen": true
        },
        "id": "TTBJrhAYvDeW"
      },
      "source": [
        "Now implement the `closed form solution` based on the following formula:\n",
        "<br><br/>\n",
        "\\begin{equation*}\n",
        "    \\boldsymbol\\theta=(X^\\top WX)^{-1}(X^\\top WY)\n",
        "\\end{equation*}\n",
        "<br><br/>\n",
        "Of course if you use another form, implement your own."
      ]
    },
    {
      "cell_type": "code",
      "execution_count": null,
      "metadata": {
        "hidden": true,
        "id": "FO-3ASj7vDeW"
      },
      "outputs": [],
      "source": [
        "def predict(train_X, train_Y, query_x, hyperparameter):\n",
        "    l = train_Y.shape[0] # we change it from train_dataset to train_Y\n",
        "    train_Y = np.reshape(train_Y,(l,1))\n",
        "    #X = np.hstack((train_X, np.ones((l, 1))))\n",
        "    X = np.vstack((train_X,np.ones(l,))).T\n",
        "    qx = np.mat([query_x, 1])\n",
        "    W = get_weight_matrix(qx, X, hyperparameter)\n",
        "\n",
        "    theta = (np.linalg.inv(X.T@W@X))@(X.T@W@train_Y)\n",
        "    return np.dot(qx, theta)"
      ]
    },
    {
      "cell_type": "code",
      "source": [],
      "metadata": {
        "id": "kkscTKT9ddeA"
      },
      "execution_count": null,
      "outputs": []
    },
    {
      "cell_type": "markdown",
      "metadata": {
        "deletable": false,
        "editable": false,
        "heading_collapsed": true,
        "hidden": true,
        "run_control": {
          "frozen": true
        },
        "id": "iNKsiHZlvDeX"
      },
      "source": [
        "### Part7:\n",
        "Report accuracy of this model on the test dataset. Also, draw a plot that contains (x_test, y_test) pairs and (x_test, predicted_y) pairs that differ in color."
      ]
    },
    {
      "cell_type": "code",
      "execution_count": null,
      "metadata": {
        "hidden": true,
        "id": "vi7K6i8yvDeY",
        "colab": {
          "base_uri": "https://localhost:8080/"
        },
        "outputId": "62af8842-b8d5-473e-a678-737a10264c43"
      },
      "outputs": [
        {
          "output_type": "stream",
          "name": "stdout",
          "text": [
            "MSE test error: 0.0966317411543251\n"
          ]
        }
      ],
      "source": [
        "predicted_test = np.asarray([predict(x_train, y_train, query, 0.02) for query in x_test]).squeeze()\n",
        "error = np.square(np.subtract(y_test,predicted_test)).mean()\n",
        "print(f\"MSE test error: {error}\")"
      ]
    },
    {
      "cell_type": "code",
      "execution_count": null,
      "metadata": {
        "hidden": true,
        "id": "l-pOp_f5vDeY",
        "colab": {
          "base_uri": "https://localhost:8080/",
          "height": 283
        },
        "outputId": "12a34011-0127-4f31-f0c6-c25e39c94f5a"
      },
      "outputs": [
        {
          "output_type": "execute_result",
          "data": {
            "text/plain": [
              "<matplotlib.collections.PathCollection at 0x7f05a294c950>"
            ]
          },
          "metadata": {},
          "execution_count": 10
        },
        {
          "output_type": "display_data",
          "data": {
            "text/plain": [
              "<Figure size 432x288 with 1 Axes>"
            ],
            "image/png": "[encoded data removed]"
          },
          "metadata": {
            "needs_background": "light"
          }
        }
      ],
      "source": [
        "plt.scatter(x_test, y_test, c=\"blue\")\n",
        "plt.scatter(x_test, predicted_test, c=\"yellow\")"
      ]
    },
    {
      "cell_type": "markdown",
      "metadata": {
        "deletable": false,
        "editable": false,
        "heading_collapsed": true,
        "hidden": true,
        "run_control": {
          "frozen": true
        },
        "id": "-K7foPstvDeZ"
      },
      "source": [
        "### Part8:\n",
        "Is the performance of the new model better than the previous one? `Explain`."
      ]
    },
    {
      "cell_type": "markdown",
      "metadata": {
        "hidden": true,
        "id": "AKwo3sFUvDeZ"
      },
      "source": [
        "Yes it performs much better! because first it adds non linearity to our model which is obviosly non linear, and second train and test data distributioin is in a way that we interpolate our data in test data set rather than extrapolait, and in Locally Weighted Linear Regression, points that are closer to the point that we want to estimate have more significant impact, y based of x is rather smooth(there isn't a significant change with small change x) so locally weighing sample is a good method to estimate y and help to lower our error"
      ]
    },
    {
      "cell_type": "markdown",
      "metadata": {
        "deletable": false,
        "editable": false,
        "heading_collapsed": true,
        "hidden": true,
        "run_control": {
          "frozen": true
        },
        "id": "nUKB6cAgvDeZ"
      },
      "source": [
        "### Part9:\n",
        "Now, we want to consider the `KNN` approach for this problem; Do you think it will perform well?"
      ]
    },
    {
      "cell_type": "markdown",
      "metadata": {
        "hidden": true,
        "id": "KkcmlEc1vDeZ"
      },
      "source": [
        "Yes! because if we think about it, KNN is really like weighed regression, but we only choose closest point to estimate output, and our data have a good local patterns so we expect that knn give us good results, but probably not as good as  Locally Weighted Linear Regression"
      ]
    },
    {
      "cell_type": "markdown",
      "metadata": {
        "deletable": false,
        "editable": false,
        "heading_collapsed": true,
        "hidden": true,
        "run_control": {
          "frozen": true
        },
        "id": "QmkJ97oDvDeZ"
      },
      "source": [
        "### Part10:\n",
        "Implementing the `KNN model`."
      ]
    },
    {
      "cell_type": "code",
      "execution_count": null,
      "metadata": {
        "hidden": true,
        "id": "RqpsHBVzvDea"
      },
      "outputs": [],
      "source": [
        "class KNN:\n",
        "    def __init__(self, number_neighbours, X, Y):\n",
        "        self.k = number_neighbours\n",
        "        self.X = X\n",
        "        self.Y = Y\n",
        "\n",
        "    def distance(self, x1, x2):\n",
        "        distance = np.sqrt(((x1-x2)**2)) # implement the distance function\n",
        "        return distance\n",
        "\n",
        "    def return_nn_ids(self, x):\n",
        "        dist_mat = self.distance(self.X,x)\n",
        "        sort_index = np.argsort(dist_mat)\n",
        "        \n",
        "        indices = sort_index[0:self.k] # find indices of k nearest neighbours to x\n",
        "        return indices\n",
        "\n",
        "    def predict(self, x):\n",
        "        neareest_indices = self.return_nn_ids(x)\n",
        "        predicted_y = np.mean(self.Y[neareest_indices]) # it also can be median or other operators but mean is most common one\n",
        "        return predicted_y"
      ]
    },
    {
      "cell_type": "code",
      "execution_count": null,
      "metadata": {
        "hidden": true,
        "id": "2D43kCsIvDea"
      },
      "outputs": [],
      "source": [
        "def evaluation(k, x_train, y_train, x_test, y_test):\n",
        "    model = KNN(k, x_train, y_train)\n",
        "    predicted_y = np.asarray([model.predict(x) for x in x_test]).squeeze()\n",
        "    error = np.square(np.subtract(y_test,predicted_y)).mean()\n",
        "    return error, predicted_y"
      ]
    },
    {
      "cell_type": "code",
      "source": [
        "#cross validation\n",
        "samples_train = len(y_train)\n",
        "x_train_train = np.asarray(x_train[0:int(samples_train*0.8)])\n",
        "y_train_train= np.asarray(y_train[0:int(samples_train*0.8)])\n",
        "\n",
        "x_val = np.asarray(x_train[int(samples_train*0.8):])\n",
        "y_val = np.asarray(y_train[int(samples_train*0.8):])\n",
        "\n",
        "k_score = np.zeros((30,1))\n",
        "for i in range(30):\n",
        "  error, predicted_y = evaluation(i+1, x_train_train, y_train_train, x_val, y_val)\n",
        "  k_score[i] = error\n",
        "\n",
        "\n"
      ],
      "metadata": {
        "id": "irSaNsQjBQZh"
      },
      "execution_count": null,
      "outputs": []
    },
    {
      "cell_type": "code",
      "source": [
        "print(f\"best k based on cross validation = {np.argmin(k_score) +1}\" )"
      ],
      "metadata": {
        "colab": {
          "base_uri": "https://localhost:8080/"
        },
        "id": "gTH5yqw5Dsxn",
        "outputId": "c90c2d39-edef-4e5b-85ff-876723bde095"
      },
      "execution_count": null,
      "outputs": [
        {
          "output_type": "stream",
          "name": "stdout",
          "text": [
            "best k based on cross validation = 11\n"
          ]
        }
      ]
    },
    {
      "cell_type": "code",
      "execution_count": null,
      "metadata": {
        "hidden": true,
        "id": "ZBZZOHQ4vDea",
        "colab": {
          "base_uri": "https://localhost:8080/"
        },
        "outputId": "42c93b2f-e32d-4d66-b31e-0668bb11e932"
      },
      "outputs": [
        {
          "output_type": "stream",
          "name": "stdout",
          "text": [
            "MSE error of KNN for test dataset: 0.09687363389746836\n"
          ]
        }
      ],
      "source": [
        "k = 19 # in previous part we told that k = 11 is best score for validation but here with testing we get minimum test error for k = 19\n",
        "# but mse error for this two selection of k are so close(error for k = 11 is 0.098 wich is very close)\n",
        "error_knn, predicted_y = evaluation(k, x_train, y_train, x_test, y_test)\n",
        "print(f\"MSE error of KNN for test dataset: {error_knn}\")"
      ]
    },
    {
      "cell_type": "code",
      "execution_count": null,
      "metadata": {
        "hidden": true,
        "id": "QzEQ53BFvDeb",
        "colab": {
          "base_uri": "https://localhost:8080/",
          "height": 283
        },
        "outputId": "605251a0-6b46-4688-f096-baeeb785b358"
      },
      "outputs": [
        {
          "output_type": "execute_result",
          "data": {
            "text/plain": [
              "<matplotlib.collections.PathCollection at 0x7f059fc3fa90>"
            ]
          },
          "metadata": {},
          "execution_count": 34
        },
        {
          "output_type": "display_data",
          "data": {
            "text/plain": [
              "<Figure size 432x288 with 1 Axes>"
            ],
            "image/png": "[encoded data removed]"
          },
          "metadata": {
            "needs_background": "light"
          }
        }
      ],
      "source": [
        "plt.scatter(x_test, y_test, c=\"blue\")\n",
        "plt.scatter(x_test, predicted_y, c=\"yellow\")"
      ]
    },
    {
      "cell_type": "markdown",
      "metadata": {
        "deletable": false,
        "editable": false,
        "hidden": true,
        "run_control": {
          "frozen": true
        },
        "id": "87m27AGcvDeb"
      },
      "source": [
        "To find best K for this algorithm we suggest to use cross-validation.\n",
        "<br><br/>\n",
        "Did this model perform well (due to the plot and test accuracy)?"
      ]
    },
    {
      "cell_type": "markdown",
      "metadata": {
        "hidden": true,
        "id": "9_9dP8NKvDeb"
      },
      "source": [
        "yes it performs well! if we compare accuracy the result is as good as  Locally Weighted Linear Regression, if we compare two methods based on hyperparameter tau that we set, in Locally Weighted Linear Regression we used small variance for computing distance so based on point distribution we can roughly say that it select 20~30 nearest points and others don't have any significant impact on our estimation so it is expected that our mse for this two method should be close to each other, and also based on figure we can se that knn can follow the main trend of signal so it seem both knn and Locally Weighted Linear Regression are good methods for this dataset"
      ]
    }
  ],
  "metadata": {
    "kernelspec": {
      "display_name": "Python 3.7.4 64-bit",
      "language": "python",
      "name": "python3"
    },
    "language_info": {
      "codemirror_mode": {
        "name": "ipython",
        "version": 3
      },
      "file_extension": ".py",
      "mimetype": "text/x-python",
      "name": "python",
      "nbconvert_exporter": "python",
      "pygments_lexer": "ipython3",
      "version": "3.7.4"
    },
    "toc": {
      "base_numbering": 1,
      "nav_menu": {},
      "number_sections": true,
      "sideBar": true,
      "skip_h1_title": false,
      "title_cell": "Table of Contents",
      "title_sidebar": "Contents",
      "toc_cell": false,
      "toc_position": {},
      "toc_section_display": true,
      "toc_window_display": false
    },
    "varInspector": {
      "cols": {
        "lenName": 16,
        "lenType": 16,
        "lenVar": 40
      },
      "kernels_config": {
        "python": {
          "delete_cmd_postfix": "",
          "delete_cmd_prefix": "del ",
          "library": "var_list.py",
          "varRefreshCmd": "print(var_dic_list())"
        },
        "r": {
          "delete_cmd_postfix": ") ",
          "delete_cmd_prefix": "rm(",
          "library": "var_list.r",
          "varRefreshCmd": "cat(var_dic_list()) "
        }
      },
      "types_to_exclude": [
        "module",
        "function",
        "builtin_function_or_method",
        "instance",
        "_Feature"
      ],
      "window_display": false
    },
    "vscode": {
      "interpreter": {
        "hash": "aee8b7b246df8f9039afb4144a1f6fd8d2ca17a180786b69acc140d282b71a49"
      }
    },
    "colab": {
      "provenance": [],
      "collapsed_sections": []
    }
  },
  "nbformat": 4,
  "nbformat_minor": 0
}