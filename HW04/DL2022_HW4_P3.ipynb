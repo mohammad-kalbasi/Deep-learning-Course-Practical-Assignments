{
  "cells": [
    {
      "cell_type": "markdown",
      "metadata": {
        "id": "mAR7_rmdvmqR"
      },
      "source": [
        "# Deep Learning"
      ]
    },
    {
      "cell_type": "markdown",
      "metadata": {
        "id": "LYnjQytdvp3i"
      },
      "source": [
        "## HW4- Problem 3 \n"
      ]
    },
    {
      "cell_type": "markdown",
      "metadata": {
        "id": "CGKNyqudvukX"
      },
      "source": [
        "1.   Full Name: Mohammad Kalbasi\n",
        "2.   Student Number: 401211028"
      ]
    },
    {
      "cell_type": "markdown",
      "source": [
        "references:\n",
        "https://huggingface.co/HooshvareLab/bert-fa-base-uncased-sentiment-digikala\n",
        "https://huggingface.co/spaces/evaluate-metric/perplexity\n",
        "https://stackoverflow.com/questions/59209086/calculate-perplexity-in-pytorch"
      ],
      "metadata": {
        "id": "kyr6mrVFcpP2"
      }
    },
    {
      "cell_type": "code",
      "execution_count": 1,
      "metadata": {
        "colab": {
          "base_uri": "https://localhost:8080/"
        },
        "id": "uy-2o1TAq7St",
        "outputId": "4a5cd5af-1728-4be5-dc46-b018febb4425"
      },
      "outputs": [
        {
          "output_type": "stream",
          "name": "stdout",
          "text": [
            "Looking in indexes: https://pypi.org/simple, https://us-python.pkg.dev/colab-wheels/public/simple/\n",
            "Collecting transformers\n",
            "  Downloading transformers-4.26.0-py3-none-any.whl (6.3 MB)\n",
            "\u001b[2K     \u001b[90m━━━━━━━━━━━━━━━━━━━━━━━━━━━━━━━━━━━━━━━━\u001b[0m \u001b[32m6.3/6.3 MB\u001b[0m \u001b[31m41.0 MB/s\u001b[0m eta \u001b[36m0:00:00\u001b[0m\n",
            "\u001b[?25hRequirement already satisfied: tqdm>=4.27 in /usr/local/lib/python3.8/dist-packages (from transformers) (4.64.1)\n",
            "Requirement already satisfied: filelock in /usr/local/lib/python3.8/dist-packages (from transformers) (3.9.0)\n",
            "Requirement already satisfied: numpy>=1.17 in /usr/local/lib/python3.8/dist-packages (from transformers) (1.21.6)\n",
            "Collecting huggingface-hub<1.0,>=0.11.0\n",
            "  Downloading huggingface_hub-0.12.0-py3-none-any.whl (190 kB)\n",
            "\u001b[2K     \u001b[90m━━━━━━━━━━━━━━━━━━━━━━━━━━━━━━━━━━━━━━\u001b[0m \u001b[32m190.3/190.3 KB\u001b[0m \u001b[31m11.7 MB/s\u001b[0m eta \u001b[36m0:00:00\u001b[0m\n",
            "\u001b[?25hRequirement already satisfied: packaging>=20.0 in /usr/local/lib/python3.8/dist-packages (from transformers) (23.0)\n",
            "Requirement already satisfied: pyyaml>=5.1 in /usr/local/lib/python3.8/dist-packages (from transformers) (6.0)\n",
            "Requirement already satisfied: requests in /usr/local/lib/python3.8/dist-packages (from transformers) (2.25.1)\n",
            "Collecting tokenizers!=0.11.3,<0.14,>=0.11.1\n",
            "  Downloading tokenizers-0.13.2-cp38-cp38-manylinux_2_17_x86_64.manylinux2014_x86_64.whl (7.6 MB)\n",
            "\u001b[2K     \u001b[90m━━━━━━━━━━━━━━━━━━━━━━━━━━━━━━━━━━━━━━━━\u001b[0m \u001b[32m7.6/7.6 MB\u001b[0m \u001b[31m71.0 MB/s\u001b[0m eta \u001b[36m0:00:00\u001b[0m\n",
            "\u001b[?25hRequirement already satisfied: regex!=2019.12.17 in /usr/local/lib/python3.8/dist-packages (from transformers) (2022.6.2)\n",
            "Requirement already satisfied: typing-extensions>=3.7.4.3 in /usr/local/lib/python3.8/dist-packages (from huggingface-hub<1.0,>=0.11.0->transformers) (4.4.0)\n",
            "Requirement already satisfied: idna<3,>=2.5 in /usr/local/lib/python3.8/dist-packages (from requests->transformers) (2.10)\n",
            "Requirement already satisfied: urllib3<1.27,>=1.21.1 in /usr/local/lib/python3.8/dist-packages (from requests->transformers) (1.24.3)\n",
            "Requirement already satisfied: chardet<5,>=3.0.2 in /usr/local/lib/python3.8/dist-packages (from requests->transformers) (4.0.0)\n",
            "Requirement already satisfied: certifi>=2017.4.17 in /usr/local/lib/python3.8/dist-packages (from requests->transformers) (2022.12.7)\n",
            "Installing collected packages: tokenizers, huggingface-hub, transformers\n",
            "Successfully installed huggingface-hub-0.12.0 tokenizers-0.13.2 transformers-4.26.0\n"
          ]
        }
      ],
      "source": [
        "!pip install transformers\n",
        "from transformers import AutoConfig, AutoTokenizer, AutoModel\n",
        "import base64\n",
        "import requests\n",
        "import numpy as np\n",
        "import gdown\n",
        "from zipfile import ZipFile\n",
        "import os\n",
        "\n",
        "import torch\n",
        "from torch.utils.data import Dataset\n",
        "from torchvision import datasets\n",
        "from torchvision.transforms import ToTensor\n",
        "import matplotlib.pyplot as plt\n",
        "\n",
        "import pandas as pd\n",
        "from torchvision.io import read_image\n",
        "import re\n",
        "from skimage.transform import resize\n",
        "from google.colab.patches import cv2_imshow\n",
        "from tqdm import tqdm\n",
        "import random\n",
        "from torch.utils.data import Dataset,DataLoader\n",
        "\n",
        "import torch.nn as nn\n",
        "import torch.optim as optim\n",
        "from torch.optim import lr_scheduler\n",
        "import torch.backends.cudnn as cudnn\n",
        "from torchsummary import summary\n",
        "import time\n",
        "import os\n",
        "import copy"
      ]
    },
    {
      "cell_type": "code",
      "execution_count": 2,
      "metadata": {
        "colab": {
          "base_uri": "https://localhost:8080/"
        },
        "id": "o4dqhW27mwza",
        "outputId": "28432a11-146b-41f7-84db-3af8764a1797"
      },
      "outputs": [
        {
          "output_type": "stream",
          "name": "stdout",
          "text": [
            "cuda\n"
          ]
        }
      ],
      "source": [
        "device = \"cuda\" if torch.cuda.is_available() else \"cpu\"\n",
        "print(device)"
      ]
    },
    {
      "cell_type": "code",
      "execution_count": 3,
      "metadata": {
        "colab": {
          "base_uri": "https://localhost:8080/"
        },
        "id": "SI0sgpk6V3AF",
        "outputId": "8d26dd31-4098-4c2b-c233-0f60811f8c5e"
      },
      "outputs": [
        {
          "output_type": "stream",
          "name": "stdout",
          "text": [
            "Cloning into 'Persian_poems_corpus'...\n",
            "remote: Enumerating objects: 159, done.\u001b[K\n",
            "remote: Total 159 (delta 0), reused 0 (delta 0), pack-reused 159\u001b[K\n",
            "Receiving objects: 100% (159/159), 45.21 MiB | 10.52 MiB/s, done.\n",
            "Resolving deltas: 100% (3/3), done.\n",
            "Updating files: 100% (148/148), done.\n"
          ]
        }
      ],
      "source": [
        "!git clone https://github.com/amnghd/Persian_poems_corpus"
      ]
    },
    {
      "cell_type": "markdown",
      "metadata": {
        "id": "mHsEknvyyw0k"
      },
      "source": [
        "### Part A: linear tuning\n",
        "in part A we just add a linear layer on top of transformer and we only train that layer, but for loading data we have two options, normalized or with stop words removed, in normalized version we have all the words and theoritically, it seems that we need all words to undrestand rhytme and style of poet, so first we train two models for this two different conditions and then find which one is better, and then from that point forward we use dataset which we achived higher accuracy wtih."
      ]
    },
    {
      "cell_type": "markdown",
      "metadata": {
        "id": "Zd6DGBHRzk0m"
      },
      "source": [
        "first lets try normalized text"
      ]
    },
    {
      "cell_type": "code",
      "execution_count": 5,
      "metadata": {
        "id": "ETV3USuMdA0g"
      },
      "outputs": [],
      "source": [
        "with open('/content/Persian_poems_corpus/normalized/hafez_norm.txt') as f:\n",
        "  lines = [line.rstrip('\\n') for line in f]\n",
        "  hafez = [line for line in lines if line]\n",
        "with open('/content/Persian_poems_corpus/normalized/ferdousi_norm.txt') as f:\n",
        "  lines = [line.rstrip('\\n') for line in f]\n",
        "  ferdousi = [line for line in lines if line]\n",
        "with open('/content/Persian_poems_corpus/normalized/bidel_norm.txt') as f:\n",
        "  lines = [line.rstrip('\\n') for line in f]\n",
        "  bidel = [line for line in lines if line]\n",
        "with open('/content/Persian_poems_corpus/normalized/iqbal_norm.txt') as f:\n",
        "  lines = [line.rstrip('\\n') for line in f]\n",
        "  iqbal = [line for line in lines if line]\n",
        "with open('/content/Persian_poems_corpus/normalized/amir_norm.txt') as f:\n",
        "  lines = [line.rstrip('\\n') for line in f]\n",
        "  amir = [line for line in lines if line]\n",
        "with open('/content/Persian_poems_corpus/normalized/vahshi_norm.txt') as f:\n",
        "  lines = [line.rstrip('\\n') for line in f]\n",
        "  vahshi = [line for line in lines if line]\n",
        "with open('/content/Persian_poems_corpus/normalized/saeb_norm.txt') as f:\n",
        "  lines = [line.rstrip('\\n') for line in f]\n",
        "  saeb = [line for line in lines if line]\n",
        "with open('/content/Persian_poems_corpus/normalized/khajoo_norm.txt') as f:\n",
        "  lines = [line.rstrip('\\n') for line in f]\n",
        "  khajoo = [line for line in lines if line]\n",
        "with open('/content/Persian_poems_corpus/normalized/bahar_norm.txt') as f:\n",
        "  lines = [line.rstrip('\\n') for line in f]\n",
        "  bahar = [line for line in lines if line]\n",
        "with open('/content/Persian_poems_corpus/normalized/moulavi_norm.txt') as f:\n",
        "  lines = [line.rstrip('\\n') for line in f]\n",
        "  moulavi = [line for line in lines if line]"
      ]
    },
    {
      "cell_type": "markdown",
      "metadata": {
        "id": "wU49b6KSzpCG"
      },
      "source": [
        "we define bayt creator, we want to have (nearly) equal number of samples for each poet, so we define max_len, which is maximum length of output data so this way we can force our data to have same number of samples"
      ]
    },
    {
      "cell_type": "code",
      "execution_count": 6,
      "metadata": {
        "id": "eX05vzNanV5N"
      },
      "outputs": [],
      "source": [
        "def beyt_creator(poem_list,start_line,assigned_label,max_len):\n",
        "  \"\"\"\n",
        "  create list of \"beyts\" of poem\n",
        "  inputs:\n",
        "    poem_list: list of poem\n",
        "    start_line: index of list where poem starts\n",
        "    assigned_label: assigned label for classification\n",
        "    max_len: maximum length of output data\n",
        "  \"\"\"\n",
        "  poem_len = len(poem_list)\n",
        "  out_poem = []\n",
        "  poem_label = []\n",
        "  for i in range(start_line,poem_len-1,2):\n",
        "    temp_beyt = poem_list[i] + \" \" + poem_list[i+1]\n",
        "    out_poem.append(temp_beyt)\n",
        "    poem_label.append(int(assigned_label))\n",
        "  if len(poem_label)>max_len:\n",
        "    out_poem = out_poem[:max_len]\n",
        "    poem_label = poem_label[:max_len]\n",
        "  return out_poem,poem_label"
      ]
    },
    {
      "cell_type": "code",
      "execution_count": 7,
      "metadata": {
        "id": "0vzEy2o5qcmd"
      },
      "outputs": [],
      "source": [
        "out_poem0,poem_label0 = beyt_creator(hafez,1,0,5000)\n",
        "out_poem1,poem_label1 = beyt_creator(ferdousi,1,1,5000)\n",
        "out_poem2,poem_label2 = beyt_creator(bidel,1,2,5000)\n",
        "out_poem3,poem_label3 = beyt_creator(iqbal,1,3,5000)\n",
        "out_poem4,poem_label4 = beyt_creator(amir,1,4,5000)\n",
        "out_poem5,poem_label5 = beyt_creator(vahshi,1,5,5000)\n",
        "out_poem6,poem_label6 = beyt_creator(saeb,1,6,5000)\n",
        "out_poem7,poem_label7 = beyt_creator(khajoo,1,7,5000)\n",
        "out_poem8,poem_label8 = beyt_creator(bahar,1,8,5000)\n",
        "out_poem9,poem_label9 = beyt_creator(moulavi,1,9,5000)\n",
        "out_poem = out_poem0 + out_poem1 + out_poem2 + out_poem3 + out_poem4 + out_poem5 + out_poem6 + out_poem7 + out_poem8 + out_poem9\n",
        "poem_label = poem_label0 + poem_label1 + poem_label2 + poem_label3 + poem_label4 + poem_label5 + poem_label6 + poem_label7 + poem_label8 + poem_label9\n",
        "\n",
        "\n"
      ]
    },
    {
      "cell_type": "code",
      "execution_count": 43,
      "metadata": {
        "id": "y5XItXiO1cEb"
      },
      "outputs": [],
      "source": [
        "temp = list(zip(out_poem, poem_label))\n",
        "random.shuffle(temp)\n",
        "X, y = zip(*temp)"
      ]
    },
    {
      "cell_type": "markdown",
      "metadata": {
        "id": "WRQnZJvc1WjF"
      },
      "source": [
        "we splited data to train, test and validation, to be honest we don't need both test and validation because we only add one layer (with fixed output length) but because in next part we use different kinds of optimizers(and it have different effect on accuracy for validation data) we can say that we need validation to find best optimizer and use test data after,"
      ]
    },
    {
      "cell_type": "code",
      "execution_count": 44,
      "metadata": {
        "id": "eOtMyjw_GZoX"
      },
      "outputs": [],
      "source": [
        "X_train_all = X[0:int(0.8*len(X))]\n",
        "y_train_all = y[0:int(0.8*len(y))]\n",
        "X_train = X_train_all[0:int(0.9*len(X_train_all))]\n",
        "y_train = y_train_all[0:int(0.9*len(X_train_all))]\n",
        "X_valid = X_train_all[int(0.9*len(X_train_all)):]\n",
        "y_valid = y_train_all[int(0.9*len(X_train_all)):]\n",
        "X_test = X[int(0.8*len(X)):]\n",
        "y_test = y[int(0.8*len(X)):]"
      ]
    },
    {
      "cell_type": "markdown",
      "metadata": {
        "id": "eYydGP7fHm1k"
      },
      "source": [
        "looking at labels distrinution"
      ]
    },
    {
      "cell_type": "code",
      "execution_count": 10,
      "metadata": {
        "colab": {
          "base_uri": "https://localhost:8080/",
          "height": 295
        },
        "id": "kfbumrRUHpCb",
        "outputId": "44545d48-9a95-4e78-8c90-b21e4317aa20"
      },
      "outputs": [
        {
          "output_type": "display_data",
          "data": {
            "text/plain": [
              "<Figure size 432x288 with 1 Axes>"
            ],
            "image/png": "[encoded data removed]"
          },
          "metadata": {
            "needs_background": "light"
          }
        }
      ],
      "source": [
        "train_dist = np.zeros(10,)\n",
        "test_dist = np.zeros(10,)\n",
        "valid_dist = np.zeros(10,)\n",
        "orig_dist = np.zeros(10,)\n",
        "for i in range(10):\n",
        "  temp= np.sum(np.asarray(y_train) == i)\n",
        "  train_dist[i]  = temp\n",
        "  temp= np.sum(np.asarray(y) == i)\n",
        "  orig_dist[i] = temp\n",
        "\n",
        "label_list = ['0','1','2','3','4','5','6','7','8','9']\n",
        "values = train_dist/np.sum(train_dist) # normalizing sum to make it probability\n",
        "plt.bar(label_list, values, color ='maroon',width = 0.4)\n",
        " \n",
        "plt.xlabel(\"label\")\n",
        "plt.ylabel(\"probability\")\n",
        "plt.title(\"distribution train data\")\n",
        "plt.show()"
      ]
    },
    {
      "cell_type": "code",
      "execution_count": 11,
      "metadata": {
        "colab": {
          "base_uri": "https://localhost:8080/",
          "height": 295
        },
        "id": "rsOzpMacKCHw",
        "outputId": "cc1fe36f-a85b-43f6-ebda-761244c73006"
      },
      "outputs": [
        {
          "output_type": "display_data",
          "data": {
            "text/plain": [
              "<Figure size 432x288 with 1 Axes>"
            ],
            "image/png": "[encoded data removed]"
          },
          "metadata": {
            "needs_background": "light"
          }
        }
      ],
      "source": [
        "values = orig_dist/np.sum(orig_dist) # normalizing sum to make it probability\n",
        "plt.bar(label_list, values, color ='maroon',width = 0.4)\n",
        " \n",
        "plt.xlabel(\"label\")\n",
        "plt.ylabel(\"probability\")\n",
        "plt.title(\"distribution of all data\")\n",
        "plt.show()"
      ]
    },
    {
      "cell_type": "markdown",
      "metadata": {
        "id": "P3NoGhGZz-nX"
      },
      "source": [
        "as we can see, we have same number of samples for different poets(expect first one(hafez, but because I love hafez i couldn't bring myself to replace him with another poet)  because it has less samples than max_len that we defined)"
      ]
    },
    {
      "cell_type": "markdown",
      "metadata": {
        "id": "jeGCg8Pc0WDb"
      },
      "source": [
        "loading our transformer"
      ]
    },
    {
      "cell_type": "code",
      "execution_count": 12,
      "metadata": {
        "colab": {
          "base_uri": "https://localhost:8080/",
          "height": 185,
          "referenced_widgets": [
            "c259407b6522423fbe42bc85b2bc5d12",
            "6f04a938c8f849f8b1c6a19e75dc2697",
            "8c52344eb44d48b9b8be5469c972399e",
            "c3b68fcd729f4ebf96519141532bfec5",
            "447d357be688490c9210c74edfe5fb0d",
            "65a52e4ab6d34b79bffea843a4a3db27",
            "e0d24fcdfab14ca7835f7418a311022a",
            "a042a4f5996441ad92f6506d383786a8",
            "85bf2300dc3d496d857d20eaa62f482b",
            "f4f309e87c7642d9bba2400e76736fc1",
            "92e8a0746b484a0da257be54ecf58f2d",
            "a19f149f3bcc48aabbdfdc726e9eb04f",
            "65907d79f3554f5895c5943916305d1e",
            "c8dc87445a21423fa4913c22775875a1",
            "89facc060dcd45149b52f09d46c77fd2",
            "eb38a84247174d96a4418d902b5205dd",
            "165a8b0d2e0346a69ea0713998a67345",
            "29074834019446dba2dc9760275b5152",
            "7af33cc249e14dcb95683ef6d28831c3",
            "19c8163746c245fdb8e062c7d0394a1a",
            "a96233aa9edc473580bf29d2c205bfc5",
            "fc9df2b23b7d4fd8ac39df1c828d62e5",
            "705ae49cd9f749579dc1cba72ef19c7d",
            "3c06a56a09e14183a11fd442a7829593",
            "62e630ca088b49ac9decb6a7c6b31473",
            "b6e46a1832d54c97b4288eec5e8355ed",
            "9a7e2a1b8d4c40ef98e7966343598a48",
            "1a9dcb3a5224424f91bf24a841cb7f87",
            "534bf190ccd84571b23dbe80be3ef0d1",
            "04eaa39ba40f452284992b52e04a87be",
            "9ffc548e32ab462ea83166cf11a2bbb6",
            "23a01ceee8bb49e581dd16ae2478de85",
            "c199f1d51f7e4b089a406dbe900273fe"
          ]
        },
        "id": "wZecAQeTxoXL",
        "outputId": "f03b35ec-146b-431e-c708-96a1e68ec82d"
      },
      "outputs": [
        {
          "output_type": "display_data",
          "data": {
            "text/plain": [
              "Downloading (…)lve/main/config.json:   0%|          | 0.00/440 [00:00<?, ?B/s]"
            ],
            "application/vnd.jupyter.widget-view+json": {
              "version_major": 2,
              "version_minor": 0,
              "model_id": "c259407b6522423fbe42bc85b2bc5d12"
            }
          },
          "metadata": {}
        },
        {
          "output_type": "display_data",
          "data": {
            "text/plain": [
              "Downloading (…)solve/main/vocab.txt:   0%|          | 0.00/1.20M [00:00<?, ?B/s]"
            ],
            "application/vnd.jupyter.widget-view+json": {
              "version_major": 2,
              "version_minor": 0,
              "model_id": "a19f149f3bcc48aabbdfdc726e9eb04f"
            }
          },
          "metadata": {}
        },
        {
          "output_type": "display_data",
          "data": {
            "text/plain": [
              "Downloading (…)\"pytorch_model.bin\";:   0%|          | 0.00/654M [00:00<?, ?B/s]"
            ],
            "application/vnd.jupyter.widget-view+json": {
              "version_major": 2,
              "version_minor": 0,
              "model_id": "705ae49cd9f749579dc1cba72ef19c7d"
            }
          },
          "metadata": {}
        },
        {
          "output_type": "stream",
          "name": "stderr",
          "text": [
            "Some weights of the model checkpoint at HooshvareLab/bert-fa-base-uncased were not used when initializing BertModel: ['cls.predictions.transform.LayerNorm.bias', 'cls.seq_relationship.bias', 'cls.predictions.decoder.weight', 'cls.predictions.transform.LayerNorm.weight', 'cls.predictions.transform.dense.bias', 'cls.predictions.decoder.bias', 'cls.seq_relationship.weight', 'cls.predictions.transform.dense.weight', 'cls.predictions.bias']\n",
            "- This IS expected if you are initializing BertModel from the checkpoint of a model trained on another task or with another architecture (e.g. initializing a BertForSequenceClassification model from a BertForPreTraining model).\n",
            "- This IS NOT expected if you are initializing BertModel from the checkpoint of a model that you expect to be exactly identical (initializing a BertForSequenceClassification model from a BertForSequenceClassification model).\n"
          ]
        }
      ],
      "source": [
        "config = AutoConfig.from_pretrained(\"HooshvareLab/bert-fa-base-uncased\")\n",
        "tokenizer = AutoTokenizer.from_pretrained(\"HooshvareLab/bert-fa-base-uncased\")\n",
        "model = AutoModel.from_pretrained(\"HooshvareLab/bert-fa-base-uncased\")\n"
      ]
    },
    {
      "cell_type": "code",
      "execution_count": 13,
      "metadata": {
        "colab": {
          "base_uri": "https://localhost:8080/"
        },
        "id": "X1mENjehe5as",
        "outputId": "f0bc4731-99e9-436c-badc-83093eb27999"
      },
      "outputs": [
        {
          "output_type": "execute_result",
          "data": {
            "text/plain": [
              "['کو',\n",
              " 'پیک',\n",
              " 'صبح',\n",
              " 'تا',\n",
              " 'گله',\n",
              " 'های',\n",
              " 'شب',\n",
              " 'فراق',\n",
              " 'با',\n",
              " 'ان',\n",
              " 'خجسته',\n",
              " 'طالع',\n",
              " 'فرخنده',\n",
              " 'پی',\n",
              " 'کنم']"
            ]
          },
          "metadata": {},
          "execution_count": 13
        }
      ],
      "source": [
        "tokenizer.tokenize(X[30])\n"
      ]
    },
    {
      "cell_type": "code",
      "execution_count": 14,
      "metadata": {
        "colab": {
          "base_uri": "https://localhost:8080/"
        },
        "id": "XUYWkJhBSxiW",
        "outputId": "2c1e9444-7636-43b5-de53-a8dc68e49887"
      },
      "outputs": [
        {
          "output_type": "stream",
          "name": "stdout",
          "text": [
            "maximum length = 26\n",
            "Keys: dict_keys(['input_ids', 'token_type_ids', 'attention_mask'])\n",
            "\n",
            "input_ids:\n",
            "tensor([[    2, 19444,  2789, 69424,  1379,  9689,  2789,  4776,  2787, 14456,\n",
            "         13101,  2806,  1379, 12320,  2806, 11262,     4,     0,     0,     0,\n",
            "             0,     0,     0,     0,     0,     0,     0,     0]])\n",
            "token_type_ids:\n",
            "tensor([[0, 0, 0, 0, 0, 0, 0, 0, 0, 0, 0, 0, 0, 0, 0, 0, 0, 0, 0, 0, 0, 0, 0, 0,\n",
            "         0, 0, 0, 0]])\n",
            "attention_mask:\n",
            "tensor([[1, 1, 1, 1, 1, 1, 1, 1, 1, 1, 1, 1, 1, 1, 1, 1, 1, 0, 0, 0, 0, 0, 0, 0,\n",
            "         0, 0, 0, 0]])\n"
          ]
        }
      ],
      "source": [
        "#finding max length\n",
        "len_max = 0;\n",
        "for i in range(len(X)):\n",
        "  x_temp = X[i].split()\n",
        "  if len(x_temp)>len_max:\n",
        "    len_max = len(x_temp)\n",
        "print(f\"maximum length = {len_max}\")\n",
        "# now tokenizing based of max length we find\n",
        "encoding = tokenizer.encode_plus(\n",
        "    X[32],\n",
        "    max_length=len_max+2,\n",
        "    truncation=True,\n",
        "    add_special_tokens=True, # Add '[CLS]' and '[SEP]'\n",
        "    return_token_type_ids=True,\n",
        "    return_attention_mask=True,\n",
        "    padding='max_length',\n",
        "    return_tensors='pt',  # Return PyTorch tensors\n",
        ")\n",
        "\n",
        "print(f'Keys: {encoding.keys()}\\n')\n",
        "for k in encoding.keys():\n",
        "    print(f'{k}:\\n{encoding[k]}')"
      ]
    },
    {
      "cell_type": "code",
      "execution_count": 15,
      "metadata": {
        "id": "qmYLxFa1Zq-f"
      },
      "outputs": [],
      "source": [
        "MAX_LEN = len_max + 2\n",
        "BATCH_SIZE = 16"
      ]
    },
    {
      "cell_type": "markdown",
      "metadata": {
        "id": "3-QFeEoX1c22"
      },
      "source": [
        "define our data loader"
      ]
    },
    {
      "cell_type": "code",
      "execution_count": 16,
      "metadata": {
        "id": "UvBWnWrnViWz"
      },
      "outputs": [],
      "source": [
        "class poet_dataset(torch.utils.data.Dataset):\n",
        "    \"\"\" Create a PyTorch dataset for Taaghche. \"\"\"\n",
        "\n",
        "    def __init__(self, tokenizer, data,labels, max_len=128):\n",
        "        self.data = data\n",
        "        self.labels = labels\n",
        "        self.tokenizer = tokenizer\n",
        "        self.max_len = max_len\n",
        "\n",
        "    def __len__(self):\n",
        "        return len(self.labels)\n",
        "\n",
        "    def __getitem__(self, item):\n",
        "        poet = str(self.data[item])\n",
        "\n",
        "       \n",
        "        target = self.labels[item]\n",
        "\n",
        "        encoding = self.tokenizer.encode_plus(\n",
        "            poet,\n",
        "            add_special_tokens=True,\n",
        "            truncation=True,\n",
        "            max_length=self.max_len,\n",
        "            return_token_type_ids=True,\n",
        "            padding='max_length',\n",
        "            return_attention_mask=True,\n",
        "            return_tensors='pt')\n",
        "        \n",
        "        inputs = {\n",
        "            'poet': poet,\n",
        "            'input_ids': encoding['input_ids'].flatten(),\n",
        "            'attention_mask': encoding['attention_mask'].flatten(),\n",
        "            'token_type_ids': encoding['token_type_ids'].flatten(),\n",
        "            \n",
        "        }\n",
        "\n",
        "       \n",
        "        inputs['targets'] = torch.tensor(target, dtype=torch.long)\n",
        "        \n",
        "        return inputs\n",
        "\n"
      ]
    },
    {
      "cell_type": "code",
      "execution_count": 17,
      "metadata": {
        "colab": {
          "base_uri": "https://localhost:8080/"
        },
        "id": "g-qNKjhBrNAS",
        "outputId": "4ee412f7-ef68-40b2-8cf6-c785f0a58471"
      },
      "outputs": [
        {
          "output_type": "stream",
          "name": "stdout",
          "text": [
            "number batches in train = 2238\n",
            "number batches in validation = 249\n"
          ]
        }
      ],
      "source": [
        "dataset = poet_dataset(\n",
        "        data=X_train,\n",
        "        labels=y_train,\n",
        "        tokenizer=tokenizer,\n",
        "        max_len=MAX_LEN,)\n",
        "train_data_loader = DataLoader(dataset,batch_size = 16,shuffle = True)\n",
        "print(f\"number batches in train = {len(train_data_loader)}\")\n",
        "dataset = poet_dataset(\n",
        "        data=X_valid,\n",
        "        labels=y_valid,\n",
        "        tokenizer=tokenizer,\n",
        "        max_len=MAX_LEN,)\n",
        "valid_data_loader = DataLoader(dataset,batch_size = 16,shuffle = False)\n",
        "print(f\"number batches in validation = {len(valid_data_loader)}\")\n",
        "\n",
        "dataset = poet_dataset(\n",
        "        data=X_test,\n",
        "        labels=y_test,\n",
        "        tokenizer=tokenizer,\n",
        "        max_len=MAX_LEN,)\n",
        "test_data_loader = DataLoader(dataset,batch_size = 16,shuffle = False)\n"
      ]
    },
    {
      "cell_type": "code",
      "execution_count": 18,
      "metadata": {
        "colab": {
          "base_uri": "https://localhost:8080/"
        },
        "id": "KsTMyS1taeux",
        "outputId": "83adfbdb-5d1f-46f3-e854-0292642357a4"
      },
      "outputs": [
        {
          "output_type": "stream",
          "name": "stdout",
          "text": [
            "dict_keys(['poet', 'input_ids', 'attention_mask', 'token_type_ids', 'targets'])\n",
            "['بر طرف چمن شاخ درختان ز شکوفه مانند بت سیمبر مشک عذارست', 'هرگزم نقش تو از لوح دل و جان نرود هرگز از یاد من آن سرو خرامان نرود', 'مالد به قصر و بر در و دیوار خویشتن گویی ز فرق تا قد مش  گر و دمل است', 'بی خط تو سر نامه سودا نتوان خواند بی زلف تو سر در سر سودا نتوان کرد', 'زگریه خاک جهان بی تو داده ایم به باد هنوز چون مژه ها می زنیم چنگ درآب', 'محکوم حرص و پاس مراتب چه ممکن است با شرم کار نیست زبان سوال را', 'ایران کهن شده است سراپای درمانش جز به تازه شدن نیست', 'گذشت بر من مسکین و با رقیبان گفت دریغ حافظ مسکین من چه جانی داد', 'چه قیامت است جانا که به عاشقان نمودی دل و جان فدای رویت بنما عذار ما را', 'دل رهروان فریبی به کلام نیش داری مگر اینکه لذت او نرسد به نوک خاری', 'آن گمره زرق دله محتال  وین فتنه برق عینک دلبر', 'تیر هرگز نشنیدم که  کند فعل سپر تیر او خلق جهان را ز بلاها سپرست', 'شاعر اندر سینه ملت چو دل ملتی بی شاعری انبار گل', 'ز های و هوی غریوش هزار دل چو دلم بر آتش غم و تیمار بیش  گشته کباب', 'یاد رخسارت جبین فکر را آیینه ساخت حرف زلفت کرد سنبل رشته تقریر را', 'شرار از خاک من خیزد کجا ریزم کرا سوزم غلط کردی که در جانم فکندی سوز مشتاقی']\n",
            "torch.Size([16, 28])\n",
            "tensor([    2,  2801,  3583, 13225,  5848,  7271,  1363, 24284,  3331,  6888,\n",
            "         4301,  2905,  3309, 13776, 27760,  2009,     4,     0,     0,     0,\n",
            "            0,     0,     0,     0,     0,     0,     0,     0])\n",
            "torch.Size([16, 28])\n",
            "tensor([1, 1, 1, 1, 1, 1, 1, 1, 1, 1, 1, 1, 1, 1, 1, 1, 1, 0, 0, 0, 0, 0, 0, 0,\n",
            "        0, 0, 0, 0])\n",
            "torch.Size([16, 28])\n",
            "tensor([0, 0, 0, 0, 0, 0, 0, 0, 0, 0, 0, 0, 0, 0, 0, 0, 0, 0, 0, 0, 0, 0, 0, 0,\n",
            "        0, 0, 0, 0])\n",
            "torch.Size([16])\n",
            "tensor(4)\n"
          ]
        }
      ],
      "source": [
        "#testing dataloader\n",
        "sample_data = next(iter(train_data_loader))\n",
        "print(sample_data.keys())\n",
        "\n",
        "print(sample_data['poet'])\n",
        "print(sample_data['input_ids'].shape)\n",
        "print(sample_data['input_ids'][0, :])\n",
        "print(sample_data['attention_mask'].shape)\n",
        "print(sample_data['attention_mask'][0, :])\n",
        "print(sample_data['token_type_ids'].shape)\n",
        "print(sample_data['token_type_ids'][0, :])\n",
        "print(sample_data['targets'].shape)\n",
        "print(sample_data['targets'][0])\n"
      ]
    },
    {
      "cell_type": "code",
      "execution_count": 19,
      "metadata": {
        "colab": {
          "base_uri": "https://localhost:8080/"
        },
        "id": "37CIKTqjaq09",
        "outputId": "f51250fd-cbb2-48bf-874d-fb4d5634fd0b"
      },
      "outputs": [
        {
          "output_type": "stream",
          "name": "stdout",
          "text": [
            "label2id: {'hafez': 0, 'ferdousi': 1, 'bidel': 2, 'iqbal': 3, 'amir': 4, 'vahshi': 5, 'saeb': 6, 'khajoo': 7, 'bahar': 8, 'moulavi': 9}\n",
            "id2label: {0: 'hafez', 1: 'ferdousi', 2: 'bidel', 3: 'iqbal', 4: 'amir', 5: 'vahshi', 6: 'saeb', 7: 'khajoo', 8: 'bahar', 9: 'moulavi'}\n",
            "{\n",
            "  \"architectures\": [\n",
            "    \"BertForMaskedLM\"\n",
            "  ],\n",
            "  \"attention_probs_dropout_prob\": 0.1,\n",
            "  \"classifier_dropout\": null,\n",
            "  \"hidden_act\": \"gelu\",\n",
            "  \"hidden_dropout_prob\": 0.1,\n",
            "  \"hidden_size\": 768,\n",
            "  \"id2label\": {\n",
            "    \"0\": \"hafez\",\n",
            "    \"1\": \"ferdousi\",\n",
            "    \"2\": \"bidel\",\n",
            "    \"3\": \"iqbal\",\n",
            "    \"4\": \"amir\",\n",
            "    \"5\": \"vahshi\",\n",
            "    \"6\": \"saeb\",\n",
            "    \"7\": \"khajoo\",\n",
            "    \"8\": \"bahar\",\n",
            "    \"9\": \"moulavi\"\n",
            "  },\n",
            "  \"initializer_range\": 0.02,\n",
            "  \"intermediate_size\": 3072,\n",
            "  \"label2id\": {\n",
            "    \"amir\": 4,\n",
            "    \"bahar\": 8,\n",
            "    \"bidel\": 2,\n",
            "    \"ferdousi\": 1,\n",
            "    \"hafez\": 0,\n",
            "    \"iqbal\": 3,\n",
            "    \"khajoo\": 7,\n",
            "    \"moulavi\": 9,\n",
            "    \"saeb\": 6,\n",
            "    \"vahshi\": 5\n",
            "  },\n",
            "  \"layer_norm_eps\": 1e-12,\n",
            "  \"max_position_embeddings\": 512,\n",
            "  \"model_type\": \"bert\",\n",
            "  \"num_attention_heads\": 12,\n",
            "  \"num_hidden_layers\": 12,\n",
            "  \"pad_token_id\": 0,\n",
            "  \"position_embedding_type\": \"absolute\",\n",
            "  \"transformers_version\": \"4.26.0\",\n",
            "  \"type_vocab_size\": 2,\n",
            "  \"use_cache\": true,\n",
            "  \"vocab_size\": 100000\n",
            "}\n",
            "\n"
          ]
        }
      ],
      "source": [
        "# getting model configuration\n",
        "from transformers import BertConfig, BertTokenizer,BertModel\n",
        "\n",
        "\n",
        "labels = ['hafez','ferdousi','bidel','iqbal','amir','vahshi','saeb','khajoo','bahar','moulavi']\n",
        "label2id = {label: i for i, label in enumerate(labels)}\n",
        "id2label = {v: k for k, v in label2id.items()}\n",
        "\n",
        "print(f'label2id: {label2id}')\n",
        "print(f'id2label: {id2label}')\n",
        "MODEL_NAME_OR_PATH = \"HooshvareLab/bert-fa-base-uncased\"\n",
        "tokenizer = BertTokenizer.from_pretrained(MODEL_NAME_OR_PATH)\n",
        "config = BertConfig.from_pretrained(\n",
        "    MODEL_NAME_OR_PATH, **{\n",
        "        'label2id': label2id,\n",
        "        'id2label': id2label,\n",
        "    })\n",
        "\n",
        "print(config.to_json_string())"
      ]
    },
    {
      "cell_type": "markdown",
      "metadata": {
        "id": "X7Ah87Ip1lsI"
      },
      "source": [
        "for defining model, we define fine_tune parameter, if its true, we allow transformer to be involved in train process, but if its false we only fine tune linear layer ( and freeze transformer weights), for part A we use second method to only train linear layer"
      ]
    },
    {
      "cell_type": "code",
      "execution_count": 20,
      "metadata": {
        "id": "B-D4FZgMyChf"
      },
      "outputs": [],
      "source": [
        "from torch import nn\n",
        "class Poet_Bert_classifier(nn.Module):\n",
        "\n",
        "    def __init__(self, config,MODEL_NAME_OR_PATH,fine_tune):\n",
        "        super(Poet_Bert_classifier, self).__init__()\n",
        "\n",
        "        bert_model = BertModel.from_pretrained(MODEL_NAME_OR_PATH)\n",
        "        if (fine_tune):\n",
        "          self.bert = bert_model\n",
        "        else:\n",
        "          for param in bert_model.parameters():\n",
        "            param.requires_grad = False\n",
        "          self.bert = bert_model\n",
        "        self.dropout = nn.Dropout(config.hidden_dropout_prob)\n",
        "        self.classifier = nn.Linear(config.hidden_size, config.num_labels)\n",
        "    \n",
        "    def forward(self, input_ids, attention_mask, token_type_ids):\n",
        "        _, pooled_output = self.bert(input_ids=input_ids,attention_mask=attention_mask, token_type_ids=token_type_ids,return_dict=False)\n",
        "        \n",
        "        pooled_output = self.dropout(pooled_output)\n",
        "        logits = self.classifier(pooled_output)\n",
        "        return logits "
      ]
    },
    {
      "cell_type": "code",
      "execution_count": 21,
      "metadata": {
        "colab": {
          "base_uri": "https://localhost:8080/"
        },
        "id": "YNMB5GM7OvqE",
        "outputId": "fdc438ff-856d-4695-fbac-e58369fae9d4"
      },
      "outputs": [
        {
          "output_type": "stream",
          "name": "stderr",
          "text": [
            "Some weights of the model checkpoint at HooshvareLab/bert-fa-base-uncased were not used when initializing BertModel: ['cls.predictions.transform.LayerNorm.bias', 'cls.seq_relationship.bias', 'cls.predictions.decoder.weight', 'cls.predictions.transform.LayerNorm.weight', 'cls.predictions.transform.dense.bias', 'cls.predictions.decoder.bias', 'cls.seq_relationship.weight', 'cls.predictions.transform.dense.weight', 'cls.predictions.bias']\n",
            "- This IS expected if you are initializing BertModel from the checkpoint of a model trained on another task or with another architecture (e.g. initializing a BertForSequenceClassification model from a BertForPreTraining model).\n",
            "- This IS NOT expected if you are initializing BertModel from the checkpoint of a model that you expect to be exactly identical (initializing a BertForSequenceClassification model from a BertForSequenceClassification model).\n"
          ]
        },
        {
          "output_type": "stream",
          "name": "stdout",
          "text": [
            "pt_model <class '__main__.Poet_Bert_classifier'>\n"
          ]
        }
      ],
      "source": [
        "pt_model = Poet_Bert_classifier(config=config,MODEL_NAME_OR_PATH = \"HooshvareLab/bert-fa-base-uncased\",fine_tune = False )\n",
        "pt_model = pt_model.to(device)\n",
        "\n",
        "print('pt_model', type(pt_model))"
      ]
    },
    {
      "cell_type": "code",
      "execution_count": null,
      "metadata": {
        "colab": {
          "base_uri": "https://localhost:8080/"
        },
        "id": "2Y_zcBUNm-2M",
        "outputId": "c683fe31-679b-4f9e-b11c-cfaea62987f5"
      },
      "outputs": [
        {
          "name": "stdout",
          "output_type": "stream",
          "text": [
            "number of all parameters in model 162849034\n",
            "number of trainable parameters in model 7690\n"
          ]
        }
      ],
      "source": [
        "pytorch_total_params = sum(p.numel() for p in pt_model.parameters())\n",
        "print(f\"number of all parameters in model {pytorch_total_params}\")\n",
        "pytorch_total_params = sum(p.numel() for p in pt_model.parameters() if p.requires_grad)\n",
        "print(f\"number of trainable parameters in model {pytorch_total_params}\")\n"
      ]
    },
    {
      "cell_type": "markdown",
      "metadata": {
        "id": "y5RFRbVJW3MX"
      },
      "source": [
        "as we can see, we only have 7690 trainable parameter so in this case we just fine tune linear layer"
      ]
    },
    {
      "cell_type": "code",
      "execution_count": null,
      "metadata": {
        "colab": {
          "base_uri": "https://localhost:8080/"
        },
        "id": "Lna971_6yBhV",
        "outputId": "f36c8202-5937-49b5-8c90-5d676d2bcc67"
      },
      "outputs": [
        {
          "name": "stdout",
          "output_type": "stream",
          "text": [
            "tensor([[-0.1372,  0.2707, -0.4495,  0.4449, -0.7266,  0.4119, -0.2000, -0.4184,\n",
            "          0.0915,  0.4978],\n",
            "        [-0.0439,  0.6669, -0.0528,  0.2207, -0.4717,  0.1205, -0.1659, -0.2691,\n",
            "          0.3662,  0.0064],\n",
            "        [-0.1181,  0.1615, -0.4056,  0.1816, -0.5724,  0.2286, -0.1090, -0.1351,\n",
            "          0.1988,  0.0679],\n",
            "        [-0.1354,  0.2366, -0.4773,  0.4017, -0.9289,  0.3154, -0.3524, -0.1143,\n",
            "          0.4461,  0.0192],\n",
            "        [-0.0603,  0.4829, -0.1939, -0.0049, -0.8043,  0.1390, -0.2564, -0.4613,\n",
            "          0.2636,  0.3570]], device='cuda:0', grad_fn=<SliceBackward0>)\n",
            "tensor([9, 1, 5, 8, 1], device='cuda:0')\n"
          ]
        }
      ],
      "source": [
        "\n",
        "sample_data_poet = sample_data['poet']\n",
        "sample_data_input_ids = sample_data['input_ids']\n",
        "sample_data_attention_mask = sample_data['attention_mask']\n",
        "sample_data_token_type_ids = sample_data['token_type_ids']\n",
        "sample_data_targets = sample_data['targets']\n",
        "\n",
        "# available for using in GPU\n",
        "sample_data_input_ids = sample_data_input_ids.to(device)\n",
        "sample_data_attention_mask = sample_data_attention_mask.to(device)\n",
        "sample_data_token_type_ids = sample_data_token_type_ids.to(device)\n",
        "sample_data_targets = sample_data_targets.to(device)\n",
        "\n",
        "\n",
        "\n",
        "\n",
        "outputs = pt_model(sample_data_input_ids, sample_data_attention_mask, sample_data_token_type_ids)\n",
        "_, preds = torch.max(outputs, dim=1)\n",
        "\n",
        "print(outputs[:5, :])\n",
        "print(preds[:5])"
      ]
    },
    {
      "cell_type": "code",
      "execution_count": null,
      "metadata": {
        "id": "SdnnEMorp1jp"
      },
      "outputs": [],
      "source": [
        "def train_model_manual(model, criterion, optimizer,scheduler,val_beark,clip, num_epochs=25):\n",
        "  \"\"\"\n",
        "  function for train our model! in this function we use dataloader directly.\n",
        "  inputs: \n",
        "      model: input model \n",
        "      criterion: desired loss function\n",
        "      optimizer: our optimizer(!)\n",
        "      scheduler: for changing learning rate after sum epochs\n",
        "      num_epochs: number of epoches\n",
        "      val_beark: threshold for early stopping, if after \"val_beark\" steps our model don't get better, we end procces\n",
        "      clip: for gradient clipping\n",
        "  output:\n",
        "      model: our trained model!\n",
        "\n",
        "\n",
        "  \"\"\"\n",
        "  train_acc = []\n",
        "  train_loss = []\n",
        "  test_acc = []\n",
        "  test_loss = []\n",
        "  since = time.time()\n",
        "\n",
        "  best_model_wts = copy.deepcopy(model.state_dict())\n",
        "  best_acc = 0.0\n",
        "  best_loss = 100000000000\n",
        "  counter_val_beark = 0\n",
        "  for epoch in range(num_epochs):\n",
        "    ### Training\n",
        "    model.train()\n",
        "    loss_train = 0\n",
        "    acc_train = 0\n",
        "    counter = 1\n",
        "    for dl in tqdm(train_data_loader, total=len(train_data_loader), desc=\"Training... \"):\n",
        "      # 1. Forward pass\n",
        "      input_ids = dl['input_ids']\n",
        "      attention_mask = dl['attention_mask']\n",
        "      token_type_ids = dl['token_type_ids']\n",
        "      targets = dl['targets']\n",
        "      input_ids = input_ids.to(device)\n",
        "      attention_mask = attention_mask.to(device)\n",
        "      token_type_ids = token_type_ids.to(device)\n",
        "      targets = targets.to(device)\n",
        " \n",
        "      outputs = model(input_ids=input_ids,attention_mask=attention_mask,token_type_ids=token_type_ids) # model outputs raw logits \n",
        "      _, preds = torch.max(outputs, 1)\n",
        "\n",
        "      # print(y_logits)\n",
        "      # 2. Calculate loss and accuracy\n",
        "      counter = counter + 1\n",
        "      loss = criterion(outputs, targets)\n",
        "      acc_train += torch.sum(preds == targets.data)\n",
        "      loss_train = loss_train + loss\n",
        "      # 3. Optimizer zero grad\n",
        "      optimizer.zero_grad()\n",
        "\n",
        "      # 4. Loss backwards\n",
        "      loss.backward()\n",
        "      if clip > 0.0:\n",
        "            nn.utils.clip_grad_norm_(model.parameters(), max_norm=clip)\n",
        "\n",
        "      # 5. Optimizer step\n",
        "      optimizer.step()\n",
        "    loss_train = loss_train/counter\n",
        "    acc_train = acc_train/len(X_train)\n",
        "    train_acc.append(acc_train)\n",
        "    train_loss.append(loss_train)\n",
        "    scheduler.step()\n",
        "    ### Testing\n",
        "    loss_test = 0\n",
        "    acc_test = 0\n",
        "    counter = 1\n",
        "    model.eval()\n",
        "    with torch.inference_mode():\n",
        "      for dl in tqdm(valid_data_loader, total=len(valid_data_loader), desc=\"Validating... \"):\n",
        "      # 1. Forward pass\n",
        "        input_ids = dl['input_ids']\n",
        "        attention_mask = dl['attention_mask']\n",
        "        token_type_ids = dl['token_type_ids']\n",
        "        targets = dl['targets']\n",
        "        input_ids = input_ids.to(device)\n",
        "        attention_mask = attention_mask.to(device)\n",
        "        token_type_ids = token_type_ids.to(device)\n",
        "        targets = targets.to(device)\n",
        "        outputs = model(input_ids=input_ids,attention_mask=attention_mask,token_type_ids=token_type_ids) # model outputs raw logits \n",
        "        _, preds = torch.max(outputs, 1)\n",
        "        loss_test= criterion(outputs, targets.data)\n",
        "        acc_test += torch.sum(preds == targets.data)\n",
        "      loss_test = loss_test/counter\n",
        "      acc_test = acc_test/len(X_valid)\n",
        "      test_loss.append(loss_test)\n",
        "      test_acc.append(acc_test)\n",
        "    if acc_test > best_acc:\n",
        "                best_acc = acc_test\n",
        "                best_model_wts = copy.deepcopy(model.state_dict())\n",
        "    if loss_test <= best_loss:\n",
        "                best_loss = loss_test\n",
        "                counter_val_beark = 0\n",
        "    if loss_test > best_loss:\n",
        "                counter_val_beark = counter_val_beark + 1\n",
        "                if (counter_val_beark > val_beark):\n",
        "                  print(f\"early stopping happend!\")\n",
        "                  break;\n",
        "\n",
        "    # Print out what's happening\n",
        "    if epoch % 1 == 0:\n",
        "      print(f\"Epoch: {epoch} | Loss: {loss_train:.5f}, Acc: {acc_train:.2f}% | Test Loss: {loss_test:.5f}, Test Acc: {acc_test:.2f}%\") \n",
        "  time_elapsed = time.time() - since\n",
        "  print(f'Training complete in {time_elapsed // 60:.0f}m {time_elapsed % 60:.0f}s')\n",
        "  print(f'Best val Acc: {best_acc:4f}')\n",
        "\n",
        "  # load best model weights\n",
        "  model.load_state_dict(best_model_wts)\n",
        "  return model,best_loss,best_acc\n"
      ]
    },
    {
      "cell_type": "code",
      "execution_count": null,
      "metadata": {
        "colab": {
          "base_uri": "https://localhost:8080/"
        },
        "id": "ZBFhIzlov8fC",
        "outputId": "71567bba-37af-4317-e3be-968c50396cc4"
      },
      "outputs": [
        {
          "name": "stderr",
          "output_type": "stream",
          "text": [
            "Training... : 100%|██████████| 2238/2238 [01:03<00:00, 35.13it/s]\n",
            "Validating... : 100%|██████████| 249/249 [00:06<00:00, 37.19it/s]\n"
          ]
        },
        {
          "name": "stdout",
          "output_type": "stream",
          "text": [
            "Epoch: 0 | Loss: 2.04523, Acc: 0.27% | Test Loss: 1.77942, Test Acc: 0.35%\n"
          ]
        },
        {
          "name": "stderr",
          "output_type": "stream",
          "text": [
            "Training... : 100%|██████████| 2238/2238 [01:02<00:00, 35.55it/s]\n",
            "Validating... : 100%|██████████| 249/249 [00:06<00:00, 36.11it/s]\n"
          ]
        },
        {
          "name": "stdout",
          "output_type": "stream",
          "text": [
            "Epoch: 1 | Loss: 1.88982, Acc: 0.33% | Test Loss: 1.74580, Test Acc: 0.37%\n"
          ]
        },
        {
          "name": "stderr",
          "output_type": "stream",
          "text": [
            "Training... : 100%|██████████| 2238/2238 [01:02<00:00, 35.80it/s]\n",
            "Validating... : 100%|██████████| 249/249 [00:06<00:00, 35.91it/s]\n"
          ]
        },
        {
          "name": "stdout",
          "output_type": "stream",
          "text": [
            "Epoch: 2 | Loss: 1.84349, Acc: 0.35% | Test Loss: 1.55632, Test Acc: 0.39%\n"
          ]
        },
        {
          "name": "stderr",
          "output_type": "stream",
          "text": [
            "Training... : 100%|██████████| 2238/2238 [01:02<00:00, 35.64it/s]\n",
            "Validating... : 100%|██████████| 249/249 [00:06<00:00, 36.15it/s]\n"
          ]
        },
        {
          "name": "stdout",
          "output_type": "stream",
          "text": [
            "Epoch: 3 | Loss: 1.81332, Acc: 0.36% | Test Loss: 1.54100, Test Acc: 0.39%\n"
          ]
        },
        {
          "name": "stderr",
          "output_type": "stream",
          "text": [
            "Training... : 100%|██████████| 2238/2238 [01:02<00:00, 35.82it/s]\n",
            "Validating... : 100%|██████████| 249/249 [00:06<00:00, 36.28it/s]\n"
          ]
        },
        {
          "name": "stdout",
          "output_type": "stream",
          "text": [
            "Epoch: 4 | Loss: 1.80168, Acc: 0.37% | Test Loss: 1.73374, Test Acc: 0.40%\n"
          ]
        },
        {
          "name": "stderr",
          "output_type": "stream",
          "text": [
            "Training... : 100%|██████████| 2238/2238 [01:02<00:00, 35.77it/s]\n",
            "Validating... : 100%|██████████| 249/249 [00:06<00:00, 36.21it/s]\n"
          ]
        },
        {
          "name": "stdout",
          "output_type": "stream",
          "text": [
            "Epoch: 5 | Loss: 1.78917, Acc: 0.37% | Test Loss: 1.64024, Test Acc: 0.40%\n"
          ]
        },
        {
          "name": "stderr",
          "output_type": "stream",
          "text": [
            "Training... : 100%|██████████| 2238/2238 [01:02<00:00, 35.84it/s]\n",
            "Validating... : 100%|██████████| 249/249 [00:06<00:00, 36.38it/s]\n"
          ]
        },
        {
          "name": "stdout",
          "output_type": "stream",
          "text": [
            "Epoch: 6 | Loss: 1.77541, Acc: 0.37% | Test Loss: 1.47460, Test Acc: 0.39%\n"
          ]
        },
        {
          "name": "stderr",
          "output_type": "stream",
          "text": [
            "Training... : 100%|██████████| 2238/2238 [01:02<00:00, 35.81it/s]\n",
            "Validating... : 100%|██████████| 249/249 [00:06<00:00, 36.19it/s]\n"
          ]
        },
        {
          "name": "stdout",
          "output_type": "stream",
          "text": [
            "Epoch: 7 | Loss: 1.76490, Acc: 0.38% | Test Loss: 1.57522, Test Acc: 0.40%\n"
          ]
        },
        {
          "name": "stderr",
          "output_type": "stream",
          "text": [
            "Training... : 100%|██████████| 2238/2238 [01:02<00:00, 35.76it/s]\n",
            "Validating... : 100%|██████████| 249/249 [00:06<00:00, 36.15it/s]\n"
          ]
        },
        {
          "name": "stdout",
          "output_type": "stream",
          "text": [
            "Epoch: 8 | Loss: 1.75631, Acc: 0.38% | Test Loss: 1.62872, Test Acc: 0.41%\n"
          ]
        },
        {
          "name": "stderr",
          "output_type": "stream",
          "text": [
            "Training... : 100%|██████████| 2238/2238 [01:02<00:00, 35.64it/s]\n",
            "Validating... : 100%|██████████| 249/249 [00:06<00:00, 36.08it/s]\n"
          ]
        },
        {
          "name": "stdout",
          "output_type": "stream",
          "text": [
            "Epoch: 9 | Loss: 1.75122, Acc: 0.38% | Test Loss: 1.69776, Test Acc: 0.42%\n"
          ]
        },
        {
          "name": "stderr",
          "output_type": "stream",
          "text": [
            "Training... : 100%|██████████| 2238/2238 [01:02<00:00, 35.71it/s]\n",
            "Validating... : 100%|██████████| 249/249 [00:06<00:00, 36.07it/s]\n"
          ]
        },
        {
          "name": "stdout",
          "output_type": "stream",
          "text": [
            "Epoch: 10 | Loss: 1.75342, Acc: 0.38% | Test Loss: 1.66009, Test Acc: 0.41%\n"
          ]
        },
        {
          "name": "stderr",
          "output_type": "stream",
          "text": [
            "Training... : 100%|██████████| 2238/2238 [01:02<00:00, 35.67it/s]\n",
            "Validating... : 100%|██████████| 249/249 [00:06<00:00, 35.97it/s]\n"
          ]
        },
        {
          "name": "stdout",
          "output_type": "stream",
          "text": [
            "Epoch: 11 | Loss: 1.74653, Acc: 0.39% | Test Loss: 1.33195, Test Acc: 0.41%\n"
          ]
        },
        {
          "name": "stderr",
          "output_type": "stream",
          "text": [
            "Training... : 100%|██████████| 2238/2238 [01:02<00:00, 35.69it/s]\n",
            "Validating... : 100%|██████████| 249/249 [00:06<00:00, 36.15it/s]\n"
          ]
        },
        {
          "name": "stdout",
          "output_type": "stream",
          "text": [
            "Epoch: 12 | Loss: 1.74434, Acc: 0.39% | Test Loss: 1.49750, Test Acc: 0.42%\n"
          ]
        },
        {
          "name": "stderr",
          "output_type": "stream",
          "text": [
            "Training... : 100%|██████████| 2238/2238 [01:02<00:00, 35.60it/s]\n",
            "Validating... : 100%|██████████| 249/249 [00:06<00:00, 36.02it/s]\n"
          ]
        },
        {
          "name": "stdout",
          "output_type": "stream",
          "text": [
            "Epoch: 13 | Loss: 1.73961, Acc: 0.39% | Test Loss: 1.40092, Test Acc: 0.42%\n"
          ]
        },
        {
          "name": "stderr",
          "output_type": "stream",
          "text": [
            "Training... : 100%|██████████| 2238/2238 [01:02<00:00, 35.60it/s]\n",
            "Validating... : 100%|██████████| 249/249 [00:06<00:00, 36.18it/s]\n"
          ]
        },
        {
          "name": "stdout",
          "output_type": "stream",
          "text": [
            "Epoch: 14 | Loss: 1.73506, Acc: 0.39% | Test Loss: 1.49037, Test Acc: 0.42%\n"
          ]
        },
        {
          "name": "stderr",
          "output_type": "stream",
          "text": [
            "Training... : 100%|██████████| 2238/2238 [01:02<00:00, 35.74it/s]\n",
            "Validating... : 100%|██████████| 249/249 [00:06<00:00, 36.15it/s]\n"
          ]
        },
        {
          "name": "stdout",
          "output_type": "stream",
          "text": [
            "Epoch: 15 | Loss: 1.73340, Acc: 0.39% | Test Loss: 1.71937, Test Acc: 0.40%\n"
          ]
        },
        {
          "name": "stderr",
          "output_type": "stream",
          "text": [
            "Training... : 100%|██████████| 2238/2238 [01:02<00:00, 35.71it/s]\n",
            "Validating... : 100%|██████████| 249/249 [00:06<00:00, 36.01it/s]\n"
          ]
        },
        {
          "name": "stdout",
          "output_type": "stream",
          "text": [
            "Epoch: 16 | Loss: 1.72990, Acc: 0.40% | Test Loss: 1.65474, Test Acc: 0.42%\n"
          ]
        },
        {
          "name": "stderr",
          "output_type": "stream",
          "text": [
            "Training... : 100%|██████████| 2238/2238 [01:02<00:00, 35.65it/s]\n",
            "Validating... : 100%|██████████| 249/249 [00:06<00:00, 36.12it/s]\n"
          ]
        },
        {
          "name": "stdout",
          "output_type": "stream",
          "text": [
            "Epoch: 17 | Loss: 1.73425, Acc: 0.39% | Test Loss: 1.44215, Test Acc: 0.42%\n"
          ]
        },
        {
          "name": "stderr",
          "output_type": "stream",
          "text": [
            "Training... : 100%|██████████| 2238/2238 [01:02<00:00, 35.64it/s]\n",
            "Validating... : 100%|██████████| 249/249 [00:06<00:00, 36.20it/s]\n"
          ]
        },
        {
          "name": "stdout",
          "output_type": "stream",
          "text": [
            "Epoch: 18 | Loss: 1.73225, Acc: 0.39% | Test Loss: 1.40835, Test Acc: 0.41%\n"
          ]
        },
        {
          "name": "stderr",
          "output_type": "stream",
          "text": [
            "Training... : 100%|██████████| 2238/2238 [01:02<00:00, 35.69it/s]\n",
            "Validating... : 100%|██████████| 249/249 [00:06<00:00, 36.18it/s]\n"
          ]
        },
        {
          "name": "stdout",
          "output_type": "stream",
          "text": [
            "Epoch: 19 | Loss: 1.72946, Acc: 0.39% | Test Loss: 1.45706, Test Acc: 0.42%\n",
            "Training complete in 23m 13s\n",
            "Best val Acc: 0.424837\n"
          ]
        }
      ],
      "source": [
        "criterion = nn.CrossEntropyLoss()\n",
        "\n",
        "\n",
        "optimizer_conv = optim.SGD(pt_model.parameters(), lr=0.001, momentum=0.9)\n",
        "exp_lr_scheduler = lr_scheduler.StepLR(optimizer_conv, step_size=50, gamma=0.5)\n",
        "\n",
        "pt_model = pt_model.to(device)\n",
        "pt_model_trained,best_loss,best_acc = train_model_manual(pt_model, criterion, optimizer_conv,exp_lr_scheduler,20,0.0,num_epochs=20)"
      ]
    },
    {
      "cell_type": "markdown",
      "metadata": {
        "id": "wwJ3JX8iO0-S"
      },
      "source": [
        "now testing it when using stop words removed and compare result"
      ]
    },
    {
      "cell_type": "code",
      "execution_count": null,
      "metadata": {
        "id": "-AdggLSpvNSV"
      },
      "outputs": [],
      "source": [
        "with open('/content/Persian_poems_corpus/stop words removed/hafez_stp_rmv.txt') as f:\n",
        "  lines = [line.rstrip('\\n') for line in f]\n",
        "  hafez = [line for line in lines if line]\n",
        "with open('/content/Persian_poems_corpus/stop words removed/ferdousi_stp_rmv.txt') as f:\n",
        "  lines = [line.rstrip('\\n') for line in f]\n",
        "  ferdousi = [line for line in lines if line]\n",
        "with open('/content/Persian_poems_corpus/stop words removed/bidel_stp_rmv.txt') as f:\n",
        "  lines = [line.rstrip('\\n') for line in f]\n",
        "  bidel = [line for line in lines if line]\n",
        "with open('/content/Persian_poems_corpus/stop words removed/iqbal_stp_rmv.txt') as f:\n",
        "  lines = [line.rstrip('\\n') for line in f]\n",
        "  iqbal = [line for line in lines if line]\n",
        "with open('/content/Persian_poems_corpus/stop words removed/amir_stp_rmv.txt') as f:\n",
        "  lines = [line.rstrip('\\n') for line in f]\n",
        "  amir = [line for line in lines if line]\n",
        "with open('/content/Persian_poems_corpus/stop words removed/vahshi_stp_rmv.txt') as f:\n",
        "  lines = [line.rstrip('\\n') for line in f]\n",
        "  vahshi = [line for line in lines if line]\n",
        "with open('/content/Persian_poems_corpus/stop words removed/saeb_stp_rmv.txt') as f:\n",
        "  lines = [line.rstrip('\\n') for line in f]\n",
        "  saeb = [line for line in lines if line]\n",
        "with open('/content/Persian_poems_corpus/stop words removed/khajoo_stp_rmv.txt') as f:\n",
        "  lines = [line.rstrip('\\n') for line in f]\n",
        "  khajoo = [line for line in lines if line]\n",
        "with open('/content/Persian_poems_corpus/stop words removed/bahar_stp_rmv.txt') as f:\n",
        "  lines = [line.rstrip('\\n') for line in f]\n",
        "  bahar = [line for line in lines if line]\n",
        "with open('/content/Persian_poems_corpus/stop words removed/moulavi_stp_rmv.txt') as f:\n",
        "  lines = [line.rstrip('\\n') for line in f]\n",
        "  moulavi = [line for line in lines if line]"
      ]
    },
    {
      "cell_type": "code",
      "execution_count": null,
      "metadata": {
        "id": "UOs4gqFo-_Xl"
      },
      "outputs": [],
      "source": [
        "out_poem0,poem_label0 = beyt_creator(hafez,1,0,5000)\n",
        "out_poem1,poem_label1 = beyt_creator(ferdousi,1,1,5000)\n",
        "out_poem2,poem_label2 = beyt_creator(bidel,1,2,5000)\n",
        "out_poem3,poem_label3 = beyt_creator(iqbal,1,3,5000)\n",
        "out_poem4,poem_label4 = beyt_creator(amir,1,4,5000)\n",
        "out_poem5,poem_label5 = beyt_creator(vahshi,1,5,5000)\n",
        "out_poem6,poem_label6 = beyt_creator(saeb,1,6,5000)\n",
        "out_poem7,poem_label7 = beyt_creator(khajoo,1,7,5000)\n",
        "out_poem8,poem_label8 = beyt_creator(bahar,1,8,5000)\n",
        "out_poem9,poem_label9 = beyt_creator(moulavi,1,9,5000)\n",
        "out_poem = out_poem0 + out_poem1 + out_poem2 + out_poem3 + out_poem4 + out_poem5 + out_poem6 + out_poem7 + out_poem8 + out_poem9\n",
        "poem_label = poem_label0 + poem_label1 + poem_label2 + poem_label3 + poem_label4 + poem_label5 + poem_label6 + poem_label7 + poem_label8 + poem_label9\n",
        "\n",
        "\n"
      ]
    },
    {
      "cell_type": "code",
      "execution_count": null,
      "metadata": {
        "id": "pgmbB0Gg_Mir"
      },
      "outputs": [],
      "source": [
        "temp = list(zip(out_poem, poem_label))\n",
        "random.shuffle(temp)\n",
        "X, y = zip(*temp)"
      ]
    },
    {
      "cell_type": "code",
      "execution_count": null,
      "metadata": {
        "id": "GsZ3v6z9_UyC"
      },
      "outputs": [],
      "source": [
        "X_train_all = X[0:int(0.8*len(X))]\n",
        "y_train_all = y[0:int(0.8*len(y))]\n",
        "X_train = X_train_all[0:int(0.9*len(X_train_all))]\n",
        "y_train = y_train_all[0:int(0.9*len(X_train_all))]\n",
        "X_valid = X_train_all[int(0.9*len(X_train_all)):]\n",
        "y_valid = y_train_all[int(0.9*len(X_train_all)):]\n",
        "X_test = X[int(0.8*len(X)):]\n",
        "y_test = y[int(0.8*len(X)):]"
      ]
    },
    {
      "cell_type": "code",
      "execution_count": null,
      "metadata": {
        "colab": {
          "base_uri": "https://localhost:8080/"
        },
        "id": "DC3WfFWQ-rSg",
        "outputId": "453b33b1-ba61-475e-d874-7027b9c154af"
      },
      "outputs": [
        {
          "name": "stdout",
          "output_type": "stream",
          "text": [
            "number batches in train = 2237\n",
            "number batches in validation = 249\n"
          ]
        }
      ],
      "source": [
        "dataset = poet_dataset(\n",
        "        data=X_train,\n",
        "        labels=y_train,\n",
        "        tokenizer=tokenizer,\n",
        "        max_len=MAX_LEN,)\n",
        "train_data_loader = DataLoader(dataset,batch_size = 16,shuffle = True)\n",
        "print(f\"number batches in train = {len(train_data_loader)}\")\n",
        "dataset = poet_dataset(\n",
        "        data=X_valid,\n",
        "        labels=y_valid,\n",
        "        tokenizer=tokenizer,\n",
        "        max_len=MAX_LEN,)\n",
        "valid_data_loader = DataLoader(dataset,batch_size = 16,shuffle = False)\n",
        "print(f\"number batches in validation = {len(valid_data_loader)}\")\n",
        "\n",
        "dataset = poet_dataset(\n",
        "        data=X_test,\n",
        "        labels=y_test,\n",
        "        tokenizer=tokenizer,\n",
        "        max_len=MAX_LEN,)\n",
        "test_data_loader = DataLoader(dataset,batch_size = 16,shuffle = False)\n"
      ]
    },
    {
      "cell_type": "code",
      "execution_count": null,
      "metadata": {
        "colab": {
          "base_uri": "https://localhost:8080/"
        },
        "id": "m6NnwTOc_ahg",
        "outputId": "52c6e1f8-9699-44eb-eb06-d4e090c5ba55"
      },
      "outputs": [
        {
          "data": {
            "text/plain": [
              "{'poet': 'شورش رستخیز منست مغز پشنگ شتاب',\n",
              " 'input_ids': tensor([    2,  8155,  5005, 10377,  9023,  2009,  5368, 56531,  8099,     4,\n",
              "             0,     0,     0,     0,     0,     0,     0,     0,     0,     0,\n",
              "             0,     0,     0,     0,     0,     0,     0,     0]),\n",
              " 'attention_mask': tensor([1, 1, 1, 1, 1, 1, 1, 1, 1, 1, 0, 0, 0, 0, 0, 0, 0, 0, 0, 0, 0, 0, 0, 0,\n",
              "         0, 0, 0, 0]),\n",
              " 'token_type_ids': tensor([0, 0, 0, 0, 0, 0, 0, 0, 0, 0, 0, 0, 0, 0, 0, 0, 0, 0, 0, 0, 0, 0, 0, 0,\n",
              "         0, 0, 0, 0]),\n",
              " 'targets': tensor(1)}"
            ]
          },
          "execution_count": 41,
          "metadata": {},
          "output_type": "execute_result"
        }
      ],
      "source": [
        "dataset[1]"
      ]
    },
    {
      "cell_type": "code",
      "execution_count": null,
      "metadata": {
        "colab": {
          "base_uri": "https://localhost:8080/"
        },
        "id": "YBka8kWR-vn6",
        "outputId": "4d8f5522-e8c4-46a8-a67f-21a21e8f9147"
      },
      "outputs": [
        {
          "name": "stderr",
          "output_type": "stream",
          "text": [
            "Some weights of the model checkpoint at HooshvareLab/bert-fa-base-uncased were not used when initializing BertModel: ['cls.predictions.transform.dense.bias', 'cls.predictions.decoder.bias', 'cls.seq_relationship.weight', 'cls.seq_relationship.bias', 'cls.predictions.decoder.weight', 'cls.predictions.transform.LayerNorm.weight', 'cls.predictions.bias', 'cls.predictions.transform.dense.weight', 'cls.predictions.transform.LayerNorm.bias']\n",
            "- This IS expected if you are initializing BertModel from the checkpoint of a model trained on another task or with another architecture (e.g. initializing a BertForSequenceClassification model from a BertForPreTraining model).\n",
            "- This IS NOT expected if you are initializing BertModel from the checkpoint of a model that you expect to be exactly identical (initializing a BertForSequenceClassification model from a BertForSequenceClassification model).\n"
          ]
        },
        {
          "name": "stdout",
          "output_type": "stream",
          "text": [
            "pt_model <class '__main__.Poet_Bert_classifier'>\n"
          ]
        }
      ],
      "source": [
        "pt_model = Poet_Bert_classifier(config=config,MODEL_NAME_OR_PATH = \"HooshvareLab/bert-fa-base-uncased\",fine_tune = False )\n",
        "pt_model = pt_model.to(device)\n",
        "\n",
        "print('pt_model', type(pt_model))"
      ]
    },
    {
      "cell_type": "code",
      "execution_count": null,
      "metadata": {
        "colab": {
          "base_uri": "https://localhost:8080/"
        },
        "id": "GgR-5PiA-1iV",
        "outputId": "481066a3-2950-4be0-fa80-88b7139b4dfe"
      },
      "outputs": [
        {
          "name": "stderr",
          "output_type": "stream",
          "text": [
            "Training... : 100%|██████████| 2237/2237 [01:00<00:00, 37.08it/s]\n",
            "Validating... : 100%|██████████| 249/249 [00:07<00:00, 34.88it/s]\n"
          ]
        },
        {
          "name": "stdout",
          "output_type": "stream",
          "text": [
            "Epoch: 0 | Loss: 2.13938, Acc: 0.22% | Test Loss: 2.01426, Test Acc: 0.25%\n"
          ]
        },
        {
          "name": "stderr",
          "output_type": "stream",
          "text": [
            "Training... : 100%|██████████| 2237/2237 [01:02<00:00, 35.55it/s]\n",
            "Validating... : 100%|██████████| 249/249 [00:06<00:00, 36.17it/s]\n"
          ]
        },
        {
          "name": "stdout",
          "output_type": "stream",
          "text": [
            "Epoch: 1 | Loss: 2.02523, Acc: 0.28% | Test Loss: 1.71349, Test Acc: 0.32%\n"
          ]
        },
        {
          "name": "stderr",
          "output_type": "stream",
          "text": [
            "Training... : 100%|██████████| 2237/2237 [01:02<00:00, 35.52it/s]\n",
            "Validating... : 100%|██████████| 249/249 [00:06<00:00, 36.30it/s]\n"
          ]
        },
        {
          "name": "stdout",
          "output_type": "stream",
          "text": [
            "Epoch: 2 | Loss: 1.99334, Acc: 0.29% | Test Loss: 1.71403, Test Acc: 0.33%\n"
          ]
        },
        {
          "name": "stderr",
          "output_type": "stream",
          "text": [
            "Training... : 100%|██████████| 2237/2237 [01:02<00:00, 35.59it/s]\n",
            "Validating... : 100%|██████████| 249/249 [00:06<00:00, 36.04it/s]\n"
          ]
        },
        {
          "name": "stdout",
          "output_type": "stream",
          "text": [
            "Epoch: 3 | Loss: 1.97456, Acc: 0.30% | Test Loss: 1.61894, Test Acc: 0.34%\n"
          ]
        },
        {
          "name": "stderr",
          "output_type": "stream",
          "text": [
            "Training... : 100%|██████████| 2237/2237 [01:02<00:00, 35.77it/s]\n",
            "Validating... : 100%|██████████| 249/249 [00:06<00:00, 36.09it/s]\n"
          ]
        },
        {
          "name": "stdout",
          "output_type": "stream",
          "text": [
            "Epoch: 4 | Loss: 1.96235, Acc: 0.30% | Test Loss: 1.48459, Test Acc: 0.33%\n"
          ]
        },
        {
          "name": "stderr",
          "output_type": "stream",
          "text": [
            "Training... : 100%|██████████| 2237/2237 [01:02<00:00, 35.89it/s]\n",
            "Validating... : 100%|██████████| 249/249 [00:06<00:00, 36.21it/s]\n"
          ]
        },
        {
          "name": "stdout",
          "output_type": "stream",
          "text": [
            "Epoch: 5 | Loss: 1.95370, Acc: 0.31% | Test Loss: 1.61490, Test Acc: 0.34%\n"
          ]
        },
        {
          "name": "stderr",
          "output_type": "stream",
          "text": [
            "Training... : 100%|██████████| 2237/2237 [01:02<00:00, 35.80it/s]\n",
            "Validating... : 100%|██████████| 249/249 [00:06<00:00, 36.14it/s]\n"
          ]
        },
        {
          "name": "stdout",
          "output_type": "stream",
          "text": [
            "Epoch: 6 | Loss: 1.94578, Acc: 0.31% | Test Loss: 1.52308, Test Acc: 0.33%\n"
          ]
        },
        {
          "name": "stderr",
          "output_type": "stream",
          "text": [
            "Training... : 100%|██████████| 2237/2237 [01:02<00:00, 35.83it/s]\n",
            "Validating... : 100%|██████████| 249/249 [00:06<00:00, 36.25it/s]\n"
          ]
        },
        {
          "name": "stdout",
          "output_type": "stream",
          "text": [
            "Epoch: 7 | Loss: 1.94139, Acc: 0.31% | Test Loss: 1.60109, Test Acc: 0.34%\n"
          ]
        },
        {
          "name": "stderr",
          "output_type": "stream",
          "text": [
            "Training... : 100%|██████████| 2237/2237 [01:02<00:00, 35.77it/s]\n",
            "Validating... : 100%|██████████| 249/249 [00:06<00:00, 36.04it/s]\n"
          ]
        },
        {
          "name": "stdout",
          "output_type": "stream",
          "text": [
            "Epoch: 8 | Loss: 1.94000, Acc: 0.31% | Test Loss: 1.66763, Test Acc: 0.29%\n"
          ]
        },
        {
          "name": "stderr",
          "output_type": "stream",
          "text": [
            "Training... : 100%|██████████| 2237/2237 [01:02<00:00, 35.69it/s]\n",
            "Validating... : 100%|██████████| 249/249 [00:06<00:00, 36.06it/s]\n"
          ]
        },
        {
          "name": "stdout",
          "output_type": "stream",
          "text": [
            "Epoch: 9 | Loss: 1.93590, Acc: 0.31% | Test Loss: 1.62614, Test Acc: 0.34%\n"
          ]
        },
        {
          "name": "stderr",
          "output_type": "stream",
          "text": [
            "Training... : 100%|██████████| 2237/2237 [01:02<00:00, 35.69it/s]\n",
            "Validating... : 100%|██████████| 249/249 [00:06<00:00, 36.14it/s]\n"
          ]
        },
        {
          "name": "stdout",
          "output_type": "stream",
          "text": [
            "Epoch: 10 | Loss: 1.93175, Acc: 0.31% | Test Loss: 1.54741, Test Acc: 0.34%\n"
          ]
        },
        {
          "name": "stderr",
          "output_type": "stream",
          "text": [
            "Training... : 100%|██████████| 2237/2237 [01:02<00:00, 35.72it/s]\n",
            "Validating... : 100%|██████████| 249/249 [00:06<00:00, 36.13it/s]\n"
          ]
        },
        {
          "name": "stdout",
          "output_type": "stream",
          "text": [
            "Epoch: 11 | Loss: 1.93446, Acc: 0.32% | Test Loss: 1.54501, Test Acc: 0.36%\n"
          ]
        },
        {
          "name": "stderr",
          "output_type": "stream",
          "text": [
            "Training... : 100%|██████████| 2237/2237 [01:02<00:00, 35.72it/s]\n",
            "Validating... : 100%|██████████| 249/249 [00:06<00:00, 36.16it/s]\n"
          ]
        },
        {
          "name": "stdout",
          "output_type": "stream",
          "text": [
            "Epoch: 12 | Loss: 1.93195, Acc: 0.32% | Test Loss: 1.51574, Test Acc: 0.34%\n"
          ]
        },
        {
          "name": "stderr",
          "output_type": "stream",
          "text": [
            "Training... : 100%|██████████| 2237/2237 [01:02<00:00, 35.74it/s]\n",
            "Validating... : 100%|██████████| 249/249 [00:06<00:00, 36.11it/s]\n"
          ]
        },
        {
          "name": "stdout",
          "output_type": "stream",
          "text": [
            "Epoch: 13 | Loss: 1.92859, Acc: 0.32% | Test Loss: 1.50382, Test Acc: 0.36%\n"
          ]
        },
        {
          "name": "stderr",
          "output_type": "stream",
          "text": [
            "Training... : 100%|██████████| 2237/2237 [01:02<00:00, 35.78it/s]\n",
            "Validating... : 100%|██████████| 249/249 [00:06<00:00, 36.12it/s]\n"
          ]
        },
        {
          "name": "stdout",
          "output_type": "stream",
          "text": [
            "Epoch: 14 | Loss: 1.92968, Acc: 0.32% | Test Loss: 1.68096, Test Acc: 0.35%\n"
          ]
        },
        {
          "name": "stderr",
          "output_type": "stream",
          "text": [
            "Training... : 100%|██████████| 2237/2237 [01:02<00:00, 35.77it/s]\n",
            "Validating... : 100%|██████████| 249/249 [00:06<00:00, 36.12it/s]\n"
          ]
        },
        {
          "name": "stdout",
          "output_type": "stream",
          "text": [
            "Epoch: 15 | Loss: 1.92427, Acc: 0.32% | Test Loss: 1.39678, Test Acc: 0.36%\n"
          ]
        },
        {
          "name": "stderr",
          "output_type": "stream",
          "text": [
            "Training... : 100%|██████████| 2237/2237 [01:02<00:00, 35.73it/s]\n",
            "Validating... : 100%|██████████| 249/249 [00:06<00:00, 36.05it/s]\n"
          ]
        },
        {
          "name": "stdout",
          "output_type": "stream",
          "text": [
            "Epoch: 16 | Loss: 1.92350, Acc: 0.32% | Test Loss: 1.47382, Test Acc: 0.35%\n"
          ]
        },
        {
          "name": "stderr",
          "output_type": "stream",
          "text": [
            "Training... : 100%|██████████| 2237/2237 [01:02<00:00, 35.68it/s]\n",
            "Validating... : 100%|██████████| 249/249 [00:06<00:00, 36.11it/s]\n"
          ]
        },
        {
          "name": "stdout",
          "output_type": "stream",
          "text": [
            "Epoch: 17 | Loss: 1.92376, Acc: 0.32% | Test Loss: 1.55320, Test Acc: 0.36%\n"
          ]
        },
        {
          "name": "stderr",
          "output_type": "stream",
          "text": [
            "Training... : 100%|██████████| 2237/2237 [01:02<00:00, 35.67it/s]\n",
            "Validating... : 100%|██████████| 249/249 [00:06<00:00, 36.11it/s]\n"
          ]
        },
        {
          "name": "stdout",
          "output_type": "stream",
          "text": [
            "Epoch: 18 | Loss: 1.92644, Acc: 0.32% | Test Loss: 1.60201, Test Acc: 0.34%\n"
          ]
        },
        {
          "name": "stderr",
          "output_type": "stream",
          "text": [
            "Training... : 100%|██████████| 2237/2237 [01:02<00:00, 35.66it/s]\n",
            "Validating... : 100%|██████████| 249/249 [00:06<00:00, 36.04it/s]\n"
          ]
        },
        {
          "name": "stdout",
          "output_type": "stream",
          "text": [
            "Epoch: 19 | Loss: 1.91974, Acc: 0.32% | Test Loss: 1.60333, Test Acc: 0.36%\n",
            "Training complete in 23m 9s\n",
            "Best val Acc: 0.361328\n"
          ]
        }
      ],
      "source": [
        "criterion = nn.CrossEntropyLoss()\n",
        "\n",
        "\n",
        "optimizer_conv = optim.SGD(pt_model.parameters(), lr=0.001, momentum=0.9)\n",
        "exp_lr_scheduler = lr_scheduler.StepLR(optimizer_conv, step_size=50, gamma=0.5)\n",
        "\n",
        "pt_model = pt_model.to(device)\n",
        "pt_model_trained_stp_rmv,best_loss,best_acc = train_model_manual(pt_model, criterion, optimizer_conv,exp_lr_scheduler,20,0.0,num_epochs=20)"
      ]
    },
    {
      "cell_type": "markdown",
      "metadata": {
        "id": "MJs4XeiFGIdq"
      },
      "source": [
        "so as we can see, when we use \"stop word removed\" data results become much worse and that is logical, so from now on we use normalized dataset,\n",
        "lets train model again and plot it confusion matrix"
      ]
    },
    {
      "cell_type": "code",
      "execution_count": null,
      "metadata": {
        "id": "C6L_I0zIGV0l"
      },
      "outputs": [],
      "source": [
        "with open('/content/Persian_poems_corpus/normalized/hafez_norm.txt') as f:\n",
        "  lines = [line.rstrip('\\n') for line in f]\n",
        "  hafez = [line for line in lines if line]\n",
        "with open('/content/Persian_poems_corpus/normalized/ferdousi_norm.txt') as f:\n",
        "  lines = [line.rstrip('\\n') for line in f]\n",
        "  ferdousi = [line for line in lines if line]\n",
        "with open('/content/Persian_poems_corpus/normalized/bidel_norm.txt') as f:\n",
        "  lines = [line.rstrip('\\n') for line in f]\n",
        "  bidel = [line for line in lines if line]\n",
        "with open('/content/Persian_poems_corpus/normalized/iqbal_norm.txt') as f:\n",
        "  lines = [line.rstrip('\\n') for line in f]\n",
        "  iqbal = [line for line in lines if line]\n",
        "with open('/content/Persian_poems_corpus/normalized/amir_norm.txt') as f:\n",
        "  lines = [line.rstrip('\\n') for line in f]\n",
        "  amir = [line for line in lines if line]\n",
        "with open('/content/Persian_poems_corpus/normalized/vahshi_norm.txt') as f:\n",
        "  lines = [line.rstrip('\\n') for line in f]\n",
        "  vahshi = [line for line in lines if line]\n",
        "with open('/content/Persian_poems_corpus/normalized/saeb_norm.txt') as f:\n",
        "  lines = [line.rstrip('\\n') for line in f]\n",
        "  saeb = [line for line in lines if line]\n",
        "with open('/content/Persian_poems_corpus/normalized/khajoo_norm.txt') as f:\n",
        "  lines = [line.rstrip('\\n') for line in f]\n",
        "  khajoo = [line for line in lines if line]\n",
        "with open('/content/Persian_poems_corpus/normalized/bahar_norm.txt') as f:\n",
        "  lines = [line.rstrip('\\n') for line in f]\n",
        "  bahar = [line for line in lines if line]\n",
        "with open('/content/Persian_poems_corpus/normalized/moulavi_norm.txt') as f:\n",
        "  lines = [line.rstrip('\\n') for line in f]\n",
        "  moulavi = [line for line in lines if line]"
      ]
    },
    {
      "cell_type": "code",
      "execution_count": null,
      "metadata": {
        "id": "ltAFlGe7Gg7H"
      },
      "outputs": [],
      "source": [
        "out_poem0,poem_label0 = beyt_creator(hafez,1,0,5000)\n",
        "out_poem1,poem_label1 = beyt_creator(ferdousi,1,1,5000)\n",
        "out_poem2,poem_label2 = beyt_creator(bidel,1,2,5000)\n",
        "out_poem3,poem_label3 = beyt_creator(iqbal,1,3,5000)\n",
        "out_poem4,poem_label4 = beyt_creator(amir,1,4,5000)\n",
        "out_poem5,poem_label5 = beyt_creator(vahshi,1,5,5000)\n",
        "out_poem6,poem_label6 = beyt_creator(saeb,1,6,5000)\n",
        "out_poem7,poem_label7 = beyt_creator(khajoo,1,7,5000)\n",
        "out_poem8,poem_label8 = beyt_creator(bahar,1,8,5000)\n",
        "out_poem9,poem_label9 = beyt_creator(moulavi,1,9,5000)\n",
        "out_poem = out_poem0 + out_poem1 + out_poem2 + out_poem3 + out_poem4 + out_poem5 + out_poem6 + out_poem7 + out_poem8 + out_poem9\n",
        "poem_label = poem_label0 + poem_label1 + poem_label2 + poem_label3 + poem_label4 + poem_label5 + poem_label6 + poem_label7 + poem_label8 + poem_label9\n",
        "temp = list(zip(out_poem, poem_label))\n",
        "random.shuffle(temp)\n",
        "X, y = zip(*temp)\n",
        "\n",
        "X_train_all = X[0:int(0.8*len(X))]\n",
        "y_train_all = y[0:int(0.8*len(y))]\n",
        "X_train = X_train_all[0:int(0.9*len(X_train_all))]\n",
        "y_train = y_train_all[0:int(0.9*len(X_train_all))]\n",
        "X_valid = X_train_all[int(0.9*len(X_train_all)):]\n",
        "y_valid = y_train_all[int(0.9*len(X_train_all)):]\n",
        "X_test = X[int(0.8*len(X)):]\n",
        "y_test = y[int(0.8*len(X)):]"
      ]
    },
    {
      "cell_type": "code",
      "execution_count": null,
      "metadata": {
        "colab": {
          "base_uri": "https://localhost:8080/"
        },
        "id": "vEY0TUmVG8q5",
        "outputId": "0df80299-c2e3-4bc5-ac5d-812b6be6a4ae"
      },
      "outputs": [
        {
          "name": "stdout",
          "output_type": "stream",
          "text": [
            "maximum length = 26\n",
            "Keys: dict_keys(['input_ids', 'token_type_ids', 'attention_mask'])\n",
            "\n",
            "input_ids:\n",
            "tensor([[    2,  2789, 10157,  4151,  2822,  2820,  2789, 10157,  2910,  2801,\n",
            "          2882,  2800, 24753,  2799,  2861, 40878,  5303,  1379,  4313, 29365,\n",
            "          2964,     4,     0,     0,     0,     0,     0,     0]])\n",
            "token_type_ids:\n",
            "tensor([[0, 0, 0, 0, 0, 0, 0, 0, 0, 0, 0, 0, 0, 0, 0, 0, 0, 0, 0, 0, 0, 0, 0, 0,\n",
            "         0, 0, 0, 0]])\n",
            "attention_mask:\n",
            "tensor([[1, 1, 1, 1, 1, 1, 1, 1, 1, 1, 1, 1, 1, 1, 1, 1, 1, 1, 1, 1, 1, 1, 0, 0,\n",
            "         0, 0, 0, 0]])\n"
          ]
        }
      ],
      "source": [
        "#finding max length\n",
        "len_max = 0;\n",
        "for i in range(len(X)):\n",
        "  x_temp = X[i].split()\n",
        "  if len(x_temp)>len_max:\n",
        "    len_max = len(x_temp)\n",
        "print(f\"maximum length = {len_max}\")\n",
        "# now tokenizing based of max length we find\n",
        "encoding = tokenizer.encode_plus(\n",
        "    X[32],\n",
        "    max_length=len_max+2,\n",
        "    truncation=True,\n",
        "    add_special_tokens=True, # Add '[CLS]' and '[SEP]'\n",
        "    return_token_type_ids=True,\n",
        "    return_attention_mask=True,\n",
        "    padding='max_length',\n",
        "    return_tensors='pt',  # Return PyTorch tensors\n",
        ")\n",
        "\n",
        "print(f'Keys: {encoding.keys()}\\n')\n",
        "for k in encoding.keys():\n",
        "    print(f'{k}:\\n{encoding[k]}')"
      ]
    },
    {
      "cell_type": "code",
      "execution_count": null,
      "metadata": {
        "colab": {
          "base_uri": "https://localhost:8080/"
        },
        "id": "KCiyasiIGoqE",
        "outputId": "f6e46969-3f44-424e-b85c-a079a5d04933"
      },
      "outputs": [
        {
          "name": "stdout",
          "output_type": "stream",
          "text": [
            "number batches in train = 2238\n",
            "number batches in validation = 249\n"
          ]
        }
      ],
      "source": [
        "dataset = poet_dataset(\n",
        "        data=X_train,\n",
        "        labels=y_train,\n",
        "        tokenizer=tokenizer,\n",
        "        max_len=MAX_LEN,)\n",
        "train_data_loader = DataLoader(dataset,batch_size = 16,shuffle = True)\n",
        "print(f\"number batches in train = {len(train_data_loader)}\")\n",
        "dataset = poet_dataset(\n",
        "        data=X_valid,\n",
        "        labels=y_valid,\n",
        "        tokenizer=tokenizer,\n",
        "        max_len=MAX_LEN,)\n",
        "valid_data_loader = DataLoader(dataset,batch_size = 16,shuffle = False)\n",
        "print(f\"number batches in validation = {len(valid_data_loader)}\")\n",
        "\n",
        "dataset = poet_dataset(\n",
        "        data=X_test,\n",
        "        labels=y_test,\n",
        "        tokenizer=tokenizer,\n",
        "        max_len=MAX_LEN,)\n",
        "test_data_loader = DataLoader(dataset,batch_size = 16,shuffle = False)\n"
      ]
    },
    {
      "cell_type": "code",
      "execution_count": null,
      "metadata": {
        "colab": {
          "base_uri": "https://localhost:8080/"
        },
        "id": "BWL0V3BdGpTL",
        "outputId": "283001a8-2d3f-4002-86e4-08be66d45b9a"
      },
      "outputs": [
        {
          "name": "stderr",
          "output_type": "stream",
          "text": [
            "Some weights of the model checkpoint at HooshvareLab/bert-fa-base-uncased were not used when initializing BertModel: ['cls.seq_relationship.weight', 'cls.predictions.transform.LayerNorm.bias', 'cls.predictions.transform.dense.bias', 'cls.predictions.decoder.weight', 'cls.predictions.transform.dense.weight', 'cls.seq_relationship.bias', 'cls.predictions.bias', 'cls.predictions.transform.LayerNorm.weight', 'cls.predictions.decoder.bias']\n",
            "- This IS expected if you are initializing BertModel from the checkpoint of a model trained on another task or with another architecture (e.g. initializing a BertForSequenceClassification model from a BertForPreTraining model).\n",
            "- This IS NOT expected if you are initializing BertModel from the checkpoint of a model that you expect to be exactly identical (initializing a BertForSequenceClassification model from a BertForSequenceClassification model).\n"
          ]
        },
        {
          "name": "stdout",
          "output_type": "stream",
          "text": [
            "pt_model <class '__main__.Poet_Bert_classifier'>\n"
          ]
        }
      ],
      "source": [
        "pt_model = Poet_Bert_classifier(config=config,MODEL_NAME_OR_PATH = \"HooshvareLab/bert-fa-base-uncased\",fine_tune = False )\n",
        "pt_model = pt_model.to(device)\n",
        "\n",
        "print('pt_model', type(pt_model))"
      ]
    },
    {
      "cell_type": "code",
      "execution_count": null,
      "metadata": {
        "colab": {
          "base_uri": "https://localhost:8080/"
        },
        "id": "COuiCdptGwxF",
        "outputId": "93532fc3-46bf-4d50-923b-0ccbd593fe10"
      },
      "outputs": [
        {
          "name": "stderr",
          "output_type": "stream",
          "text": [
            "Training... : 100%|██████████| 2238/2238 [00:56<00:00, 39.74it/s]\n",
            "Validating... : 100%|██████████| 249/249 [00:06<00:00, 38.66it/s]\n"
          ]
        },
        {
          "name": "stdout",
          "output_type": "stream",
          "text": [
            "Epoch: 0 | Loss: 2.04916, Acc: 0.26% | Test Loss: 1.95225, Test Acc: 0.32%\n"
          ]
        },
        {
          "name": "stderr",
          "output_type": "stream",
          "text": [
            "Training... : 100%|██████████| 2238/2238 [00:59<00:00, 37.42it/s]\n",
            "Validating... : 100%|██████████| 249/249 [00:06<00:00, 38.66it/s]\n"
          ]
        },
        {
          "name": "stdout",
          "output_type": "stream",
          "text": [
            "Epoch: 1 | Loss: 1.89072, Acc: 0.33% | Test Loss: 1.80072, Test Acc: 0.38%\n"
          ]
        },
        {
          "name": "stderr",
          "output_type": "stream",
          "text": [
            "Training... : 100%|██████████| 2238/2238 [00:59<00:00, 37.44it/s]\n",
            "Validating... : 100%|██████████| 249/249 [00:06<00:00, 38.26it/s]\n"
          ]
        },
        {
          "name": "stdout",
          "output_type": "stream",
          "text": [
            "Epoch: 2 | Loss: 1.85121, Acc: 0.35% | Test Loss: 1.67164, Test Acc: 0.40%\n"
          ]
        },
        {
          "name": "stderr",
          "output_type": "stream",
          "text": [
            "Training... : 100%|██████████| 2238/2238 [00:59<00:00, 37.69it/s]\n",
            "Validating... : 100%|██████████| 249/249 [00:06<00:00, 38.26it/s]\n"
          ]
        },
        {
          "name": "stdout",
          "output_type": "stream",
          "text": [
            "Epoch: 3 | Loss: 1.82128, Acc: 0.36% | Test Loss: 1.67443, Test Acc: 0.40%\n"
          ]
        },
        {
          "name": "stderr",
          "output_type": "stream",
          "text": [
            "Training... : 100%|██████████| 2238/2238 [00:59<00:00, 37.59it/s]\n",
            "Validating... : 100%|██████████| 249/249 [00:06<00:00, 38.17it/s]\n"
          ]
        },
        {
          "name": "stdout",
          "output_type": "stream",
          "text": [
            "Epoch: 4 | Loss: 1.79929, Acc: 0.37% | Test Loss: 1.67588, Test Acc: 0.38%\n"
          ]
        },
        {
          "name": "stderr",
          "output_type": "stream",
          "text": [
            "Training... : 100%|██████████| 2238/2238 [00:59<00:00, 37.52it/s]\n",
            "Validating... : 100%|██████████| 249/249 [00:06<00:00, 38.19it/s]\n"
          ]
        },
        {
          "name": "stdout",
          "output_type": "stream",
          "text": [
            "Epoch: 5 | Loss: 1.78786, Acc: 0.37% | Test Loss: 1.69557, Test Acc: 0.42%\n"
          ]
        },
        {
          "name": "stderr",
          "output_type": "stream",
          "text": [
            "Training... : 100%|██████████| 2238/2238 [00:59<00:00, 37.39it/s]\n",
            "Validating... : 100%|██████████| 249/249 [00:06<00:00, 38.25it/s]\n"
          ]
        },
        {
          "name": "stdout",
          "output_type": "stream",
          "text": [
            "Epoch: 6 | Loss: 1.77807, Acc: 0.38% | Test Loss: 1.51627, Test Acc: 0.41%\n"
          ]
        },
        {
          "name": "stderr",
          "output_type": "stream",
          "text": [
            "Training... : 100%|██████████| 2238/2238 [00:59<00:00, 37.67it/s]\n",
            "Validating... : 100%|██████████| 249/249 [00:06<00:00, 38.34it/s]\n"
          ]
        },
        {
          "name": "stdout",
          "output_type": "stream",
          "text": [
            "Epoch: 7 | Loss: 1.77503, Acc: 0.38% | Test Loss: 1.46183, Test Acc: 0.41%\n"
          ]
        },
        {
          "name": "stderr",
          "output_type": "stream",
          "text": [
            "Training... : 100%|██████████| 2238/2238 [00:59<00:00, 37.67it/s]\n",
            "Validating... : 100%|██████████| 249/249 [00:06<00:00, 38.31it/s]\n"
          ]
        },
        {
          "name": "stdout",
          "output_type": "stream",
          "text": [
            "Epoch: 8 | Loss: 1.77252, Acc: 0.38% | Test Loss: 1.47013, Test Acc: 0.42%\n"
          ]
        },
        {
          "name": "stderr",
          "output_type": "stream",
          "text": [
            "Training... : 100%|██████████| 2238/2238 [00:59<00:00, 37.51it/s]\n",
            "Validating... : 100%|██████████| 249/249 [00:06<00:00, 38.37it/s]\n"
          ]
        },
        {
          "name": "stdout",
          "output_type": "stream",
          "text": [
            "Epoch: 9 | Loss: 1.76617, Acc: 0.38% | Test Loss: 1.36434, Test Acc: 0.42%\n"
          ]
        },
        {
          "name": "stderr",
          "output_type": "stream",
          "text": [
            "Training... : 100%|██████████| 2238/2238 [00:59<00:00, 37.69it/s]\n",
            "Validating... : 100%|██████████| 249/249 [00:06<00:00, 38.34it/s]\n"
          ]
        },
        {
          "name": "stdout",
          "output_type": "stream",
          "text": [
            "Epoch: 10 | Loss: 1.75787, Acc: 0.38% | Test Loss: 1.56353, Test Acc: 0.42%\n"
          ]
        },
        {
          "name": "stderr",
          "output_type": "stream",
          "text": [
            "Training... : 100%|██████████| 2238/2238 [00:59<00:00, 37.69it/s]\n",
            "Validating... : 100%|██████████| 249/249 [00:06<00:00, 38.35it/s]\n"
          ]
        },
        {
          "name": "stdout",
          "output_type": "stream",
          "text": [
            "Epoch: 11 | Loss: 1.74975, Acc: 0.38% | Test Loss: 1.45633, Test Acc: 0.40%\n"
          ]
        },
        {
          "name": "stderr",
          "output_type": "stream",
          "text": [
            "Training... : 100%|██████████| 2238/2238 [00:59<00:00, 37.69it/s]\n",
            "Validating... : 100%|██████████| 249/249 [00:06<00:00, 37.63it/s]\n"
          ]
        },
        {
          "name": "stdout",
          "output_type": "stream",
          "text": [
            "Epoch: 12 | Loss: 1.74696, Acc: 0.38% | Test Loss: 1.41004, Test Acc: 0.44%\n"
          ]
        },
        {
          "name": "stderr",
          "output_type": "stream",
          "text": [
            "Training... : 100%|██████████| 2238/2238 [00:59<00:00, 37.68it/s]\n",
            "Validating... : 100%|██████████| 249/249 [00:06<00:00, 38.27it/s]\n"
          ]
        },
        {
          "name": "stdout",
          "output_type": "stream",
          "text": [
            "Epoch: 13 | Loss: 1.74716, Acc: 0.39% | Test Loss: 1.41695, Test Acc: 0.43%\n"
          ]
        },
        {
          "name": "stderr",
          "output_type": "stream",
          "text": [
            "Training... : 100%|██████████| 2238/2238 [00:59<00:00, 37.63it/s]\n",
            "Validating... : 100%|██████████| 249/249 [00:06<00:00, 38.27it/s]\n"
          ]
        },
        {
          "name": "stdout",
          "output_type": "stream",
          "text": [
            "Epoch: 14 | Loss: 1.74398, Acc: 0.39% | Test Loss: 1.65731, Test Acc: 0.43%\n"
          ]
        },
        {
          "name": "stderr",
          "output_type": "stream",
          "text": [
            "Training... : 100%|██████████| 2238/2238 [00:59<00:00, 37.61it/s]\n",
            "Validating... : 100%|██████████| 249/249 [00:06<00:00, 38.28it/s]\n"
          ]
        },
        {
          "name": "stdout",
          "output_type": "stream",
          "text": [
            "Epoch: 15 | Loss: 1.73999, Acc: 0.39% | Test Loss: 1.44065, Test Acc: 0.44%\n"
          ]
        },
        {
          "name": "stderr",
          "output_type": "stream",
          "text": [
            "Training... : 100%|██████████| 2238/2238 [00:59<00:00, 37.42it/s]\n",
            "Validating... : 100%|██████████| 249/249 [00:06<00:00, 38.24it/s]\n"
          ]
        },
        {
          "name": "stdout",
          "output_type": "stream",
          "text": [
            "Epoch: 16 | Loss: 1.74070, Acc: 0.39% | Test Loss: 1.52899, Test Acc: 0.42%\n"
          ]
        },
        {
          "name": "stderr",
          "output_type": "stream",
          "text": [
            "Training... : 100%|██████████| 2238/2238 [00:59<00:00, 37.61it/s]\n",
            "Validating... : 100%|██████████| 249/249 [00:06<00:00, 38.20it/s]\n"
          ]
        },
        {
          "name": "stdout",
          "output_type": "stream",
          "text": [
            "Epoch: 17 | Loss: 1.73387, Acc: 0.39% | Test Loss: 1.54976, Test Acc: 0.43%\n"
          ]
        },
        {
          "name": "stderr",
          "output_type": "stream",
          "text": [
            "Training... : 100%|██████████| 2238/2238 [00:59<00:00, 37.60it/s]\n",
            "Validating... : 100%|██████████| 249/249 [00:06<00:00, 38.26it/s]\n"
          ]
        },
        {
          "name": "stdout",
          "output_type": "stream",
          "text": [
            "Epoch: 18 | Loss: 1.73789, Acc: 0.39% | Test Loss: 1.45320, Test Acc: 0.42%\n"
          ]
        },
        {
          "name": "stderr",
          "output_type": "stream",
          "text": [
            "Training... : 100%|██████████| 2238/2238 [00:59<00:00, 37.39it/s]\n",
            "Validating... : 100%|██████████| 249/249 [00:06<00:00, 38.18it/s]\n"
          ]
        },
        {
          "name": "stdout",
          "output_type": "stream",
          "text": [
            "Epoch: 19 | Loss: 1.73650, Acc: 0.39% | Test Loss: 1.61433, Test Acc: 0.44%\n",
            "Training complete in 21m 59s\n",
            "Best val Acc: 0.441679\n"
          ]
        }
      ],
      "source": [
        "criterion = nn.CrossEntropyLoss()\n",
        "\n",
        "\n",
        "optimizer_conv = optim.SGD(pt_model.parameters(), lr=0.001, momentum=0.9)\n",
        "exp_lr_scheduler = lr_scheduler.StepLR(optimizer_conv, step_size=50, gamma=0.5)\n",
        "\n",
        "pt_model = pt_model.to(device)\n",
        "pt_model_trained_linear_tune,best_loss,best_acc = train_model_manual(pt_model, criterion, optimizer_conv,exp_lr_scheduler,20,0.0,num_epochs=20)"
      ]
    },
    {
      "cell_type": "code",
      "execution_count": null,
      "metadata": {
        "colab": {
          "base_uri": "https://localhost:8080/"
        },
        "id": "IJV1u5RMMe1e",
        "outputId": "4f5343a8-e3d6-45cf-fef7-0213df300368"
      },
      "outputs": [
        {
          "name": "stderr",
          "output_type": "stream",
          "text": [
            "Calculating Train Lables... : 100%|██████████| 2238/2238 [01:09<00:00, 32.39it/s]\n"
          ]
        }
      ],
      "source": [
        "# calculating labels for train,validation and test so we can calculate f1 score and plot confusion matrix\n",
        "pt_model_trained_linear_tune.eval()\n",
        "criterion = nn.CrossEntropyLoss()\n",
        "loss = 0\n",
        "label_train = []\n",
        "\n",
        "predict_train = []\n",
        "with torch.inference_mode():\n",
        "  for dl in tqdm(train_data_loader, total=len(train_data_loader), desc=\"Calculating Train Lables... \"):\n",
        "  # 1. Forward pass\n",
        "    input_ids = dl['input_ids']\n",
        "    attention_mask = dl['attention_mask']\n",
        "    token_type_ids = dl['token_type_ids']\n",
        "    targets = dl['targets']\n",
        "    input_ids = input_ids.to(device)\n",
        "    attention_mask = attention_mask.to(device)\n",
        "    token_type_ids = token_type_ids.to(device)\n",
        "    targets = targets.to(device)\n",
        "    outputs = pt_model_trained_linear_tune(input_ids=input_ids,attention_mask=attention_mask,token_type_ids=token_type_ids) # model outputs raw logits \n",
        "    _, preds = torch.max(outputs, 1)\n",
        "    loss_train= criterion(outputs, targets.data)\n",
        "    loss = loss + loss_train\n",
        "    label_train.append(targets.cpu().detach().numpy())\n",
        "    predict_train.append(preds.cpu().detach().numpy())"
      ]
    },
    {
      "cell_type": "code",
      "execution_count": null,
      "metadata": {
        "colab": {
          "base_uri": "https://localhost:8080/",
          "height": 382
        },
        "id": "Mft2hQjhNfID",
        "outputId": "831ca96e-5b11-4f2a-c071-068b9629dd60"
      },
      "outputs": [
        {
          "name": "stdout",
          "output_type": "stream",
          "text": [
            "accuracy score on train data: 0.4459561391255762\n",
            "f1 score(micro) on train data: 0.4459561391255762\n",
            "f1 score(macro) on train data: 0.42710778602274413\n",
            "cross entropy loss on train data:0.10005296021699905\n"
          ]
        },
        {
          "data": {
            "text/plain": [
              "Text(0.5, 1.0, 'confusion matrix for train data')"
            ]
          },
          "execution_count": 40,
          "metadata": {},
          "output_type": "execute_result"
        },
        {
          "data": {
            "image/png": "[encoded data removed]",
            "text/plain": [
              "<Figure size 432x288 with 2 Axes>"
            ]
          },
          "metadata": {},
          "output_type": "display_data"
        }
      ],
      "source": [
        "from sklearn.datasets import make_classification\n",
        "from sklearn.metrics import accuracy_score, f1_score, precision_score, recall_score, classification_report, confusion_matrix\n",
        "label_train_f =np.concatenate( label_train, axis=0 )\n",
        "predicted_train_f = np.concatenate( predict_train, axis=0 )\n",
        "\n",
        "acc_train = accuracy_score(label_train_f,predicted_train_f)\n",
        "f1_train = f1_score(label_train_f, predicted_train_f, average=\"micro\")\n",
        "f1_train_macro = f1_score(label_train_f, predicted_train_f, average=\"macro\")\n",
        "\n",
        "\n",
        "print(f\"accuracy score on train data: {acc_train}\")\n",
        "print(f\"f1 score(micro) on train data: {f1_train}\")\n",
        "print(f\"f1 score(macro) on train data: {f1_train_macro}\")\n",
        "print(f\"cross entropy loss on train data:{loss/len(label_train_f)}\")\n",
        "from sklearn import metrics\n",
        "\n",
        "confusion_matrix = metrics.confusion_matrix(label_train_f, predicted_train_f)\n",
        "\n",
        "cm_display = metrics.ConfusionMatrixDisplay(confusion_matrix = confusion_matrix)\n",
        "\n",
        "cm_display.plot()\n",
        "plt.title('confusion matrix for train data')"
      ]
    },
    {
      "cell_type": "markdown",
      "metadata": {
        "id": "F3wvkG3RRdgo"
      },
      "source": [
        "**important note:** there is difference between accuracy when we trained on train data and when evaluated on it, it is because we are in .eval()\n",
        "mode! so there is no dropout (and other things that implemented in the transformer) so we achive higher accuracy.\n",
        "\n",
        "also, In classification tasks for which every test case is guaranteed to be assigned to exactly one class, micro-F is equivalent to accuracy so because of that they are the same here but you can see there is difference in f1 score in macro mode\n"
      ]
    },
    {
      "cell_type": "markdown",
      "metadata": {
        "id": "Ivy7i2UpPPR8"
      },
      "source": [
        "for validation"
      ]
    },
    {
      "cell_type": "code",
      "execution_count": null,
      "metadata": {
        "colab": {
          "base_uri": "https://localhost:8080/"
        },
        "id": "ltt9jqpZPQIv",
        "outputId": "4f918417-8b2b-4575-b325-928f958ee7eb"
      },
      "outputs": [
        {
          "name": "stderr",
          "output_type": "stream",
          "text": [
            "Calculating Train Lables... : 100%|██████████| 249/249 [00:07<00:00, 31.81it/s]\n"
          ]
        }
      ],
      "source": [
        "# calculating labels for train,validation and test so we can calculate f1 score and plot confusion matrix\n",
        "pt_model_trained_linear_tune.eval()\n",
        "label_val = []\n",
        "predict_val = []\n",
        "criterion = nn.CrossEntropyLoss()\n",
        "loss = 0\n",
        "with torch.inference_mode():\n",
        "  for dl in tqdm(valid_data_loader, total=len(valid_data_loader), desc=\"Calculating Train Lables... \"):\n",
        "  # 1. Forward pass\n",
        "    input_ids = dl['input_ids']\n",
        "    attention_mask = dl['attention_mask']\n",
        "    token_type_ids = dl['token_type_ids']\n",
        "    targets = dl['targets']\n",
        "    input_ids = input_ids.to(device)\n",
        "    attention_mask = attention_mask.to(device)\n",
        "    token_type_ids = token_type_ids.to(device)\n",
        "    targets = targets.to(device)\n",
        "    outputs = pt_model_trained_linear_tune(input_ids=input_ids,attention_mask=attention_mask,token_type_ids=token_type_ids) # model outputs raw logits \n",
        "    _, preds = torch.max(outputs, 1)\n",
        "    label_val.append(targets.cpu().detach().numpy())\n",
        "    predict_val.append(preds.cpu().detach().numpy())\n",
        "    loss_val= criterion(outputs, targets.data)\n",
        "    loss = loss + loss_val"
      ]
    },
    {
      "cell_type": "code",
      "execution_count": null,
      "metadata": {
        "colab": {
          "base_uri": "https://localhost:8080/",
          "height": 382
        },
        "id": "RSe3Lg3FO4OV",
        "outputId": "bf9ad9ee-60f7-483a-e82a-3296ca0a69dd"
      },
      "outputs": [
        {
          "name": "stdout",
          "output_type": "stream",
          "text": [
            "accuracy score on validation data: 0.44167923579688284\n",
            "f1 score (micro) on validation data: 0.4416792357968828\n",
            "f1 score (macro) on validation data: 0.42175568227106713\n",
            "cross entropy loss on validation data:0.1019061729311943\n"
          ]
        },
        {
          "data": {
            "text/plain": [
              "Text(0.5, 1.0, 'confusion matrix for validation data')"
            ]
          },
          "execution_count": 42,
          "metadata": {},
          "output_type": "execute_result"
        },
        {
          "data": {
            "image/png": "[encoded data removed]",
            "text/plain": [
              "<Figure size 432x288 with 2 Axes>"
            ]
          },
          "metadata": {},
          "output_type": "display_data"
        }
      ],
      "source": [
        "label_val_f =np.concatenate( label_val, axis=0 )\n",
        "predicted_val_f = np.concatenate( predict_val, axis=0 )\n",
        "\n",
        "acc_train = accuracy_score(label_val_f,predicted_val_f)\n",
        "f1_train = f1_score(label_val_f, predicted_val_f, average=\"micro\")\n",
        "f1_train_macro = f1_score(label_val_f, predicted_val_f, average=\"macro\")\n",
        "\n",
        "\n",
        "print(f\"accuracy score on validation data: {acc_train}\")\n",
        "print(f\"f1 score (micro) on validation data: {f1_train}\")\n",
        "print(f\"f1 score (macro) on validation data: {f1_train_macro}\")\n",
        "print(f\"cross entropy loss on validation data:{loss/len(label_val_f)}\")\n",
        "\n",
        "from sklearn import metrics\n",
        "\n",
        "confusion_matrix = metrics.confusion_matrix(label_val_f, predicted_val_f)\n",
        "\n",
        "cm_display = metrics.ConfusionMatrixDisplay(confusion_matrix = confusion_matrix)\n",
        "\n",
        "cm_display.plot()\n",
        "plt.title('confusion matrix for validation data')"
      ]
    },
    {
      "cell_type": "code",
      "execution_count": null,
      "metadata": {
        "colab": {
          "base_uri": "https://localhost:8080/"
        },
        "id": "BfVfs0woQ99A",
        "outputId": "eb2a8753-7016-46de-9af3-3eef940254e9"
      },
      "outputs": [
        {
          "name": "stderr",
          "output_type": "stream",
          "text": [
            "Calculating Train Lables... : 100%|██████████| 622/622 [00:19<00:00, 32.21it/s]\n"
          ]
        }
      ],
      "source": [
        "# calculating labels for train,validation and test so we can calculate f1 score and plot confusion matrix\n",
        "pt_model_trained_linear_tune.eval()\n",
        "label_test = []\n",
        "predict_test = []\n",
        "criterion = nn.CrossEntropyLoss()\n",
        "loss = 0\n",
        "with torch.inference_mode():\n",
        "  for dl in tqdm(test_data_loader, total=len(test_data_loader), desc=\"Calculating Train Lables... \"):\n",
        "  # 1. Forward pass\n",
        "    input_ids = dl['input_ids']\n",
        "    attention_mask = dl['attention_mask']\n",
        "    token_type_ids = dl['token_type_ids']\n",
        "    targets = dl['targets']\n",
        "    input_ids = input_ids.to(device)\n",
        "    attention_mask = attention_mask.to(device)\n",
        "    token_type_ids = token_type_ids.to(device)\n",
        "    targets = targets.to(device)\n",
        "    outputs = pt_model_trained_linear_tune(input_ids=input_ids,attention_mask=attention_mask,token_type_ids=token_type_ids) # model outputs raw logits \n",
        "    _, preds = torch.max(outputs, 1)\n",
        "    label_test.append(targets.cpu().detach().numpy())\n",
        "    predict_test.append(preds.cpu().detach().numpy())\n",
        "    loss_test= criterion(outputs, targets.data)\n",
        "    loss = loss + loss_test"
      ]
    },
    {
      "cell_type": "code",
      "execution_count": null,
      "metadata": {
        "colab": {
          "base_uri": "https://localhost:8080/",
          "height": 382
        },
        "id": "x2G7eBosRA0t",
        "outputId": "39c14cdb-705d-41b0-acfc-ee6f190d8bf2"
      },
      "outputs": [
        {
          "name": "stdout",
          "output_type": "stream",
          "text": [
            "accuracy score on test data: 0.4358407079646018\n",
            "f1 score (micro) on test data: 0.4358407079646018\n",
            "f1 score (macro) on test data: 0.41479174766707355\n",
            "cross entropy loss on test data:0.10121414810419083\n"
          ]
        },
        {
          "data": {
            "text/plain": [
              "Text(0.5, 1.0, 'confusion matrix for test data')"
            ]
          },
          "execution_count": 45,
          "metadata": {},
          "output_type": "execute_result"
        },
        {
          "data": {
            "image/png": "[encoded data removed]",
            "text/plain": [
              "<Figure size 432x288 with 2 Axes>"
            ]
          },
          "metadata": {},
          "output_type": "display_data"
        }
      ],
      "source": [
        "label_test_f =np.concatenate( label_test, axis=0 )\n",
        "predicted_test_f = np.concatenate( predict_test, axis=0 )\n",
        "\n",
        "acc= accuracy_score(label_test_f,predicted_test_f)\n",
        "f1 = f1_score(label_test_f, predicted_test_f, average=\"micro\")\n",
        "f1_macro = f1_score(label_test_f, predicted_test_f, average=\"macro\")\n",
        "\n",
        "\n",
        "print(f\"accuracy score on test data: {acc}\")\n",
        "print(f\"f1 score (micro) on test data: {f1}\")\n",
        "print(f\"f1 score (macro) on test data: {f1_macro}\")\n",
        "print(f\"cross entropy loss on test data:{loss/len(label_test_f)}\")\n",
        "\n",
        "from sklearn import metrics\n",
        "\n",
        "confusion_matrix = metrics.confusion_matrix(label_test_f, predicted_test_f)\n",
        "\n",
        "cm_display = metrics.ConfusionMatrixDisplay(confusion_matrix = confusion_matrix)\n",
        "\n",
        "cm_display.plot()\n",
        "plt.title('confusion matrix for test data')"
      ]
    },
    {
      "cell_type": "markdown",
      "metadata": {
        "id": "TopwoPPEV5Iy"
      },
      "source": [
        "as we can see, in eval mode for model all acuracies are around 0.44, which for 10 class classification is not bad! "
      ]
    },
    {
      "cell_type": "markdown",
      "metadata": {
        "id": "FUmF3YeFWDsG"
      },
      "source": [
        "### Part B: Fine tuning whole model"
      ]
    },
    {
      "cell_type": "markdown",
      "metadata": {
        "id": "3t9jlhJBWIwl"
      },
      "source": [
        "we wrote our model creator function in previous part in a way that we can easilly make transformer trainable(we added parameter fine_tune to written class, so if we give true as input, it doesn't make transformer weights untrainable, so the whole model will be in fine-tuning process:\n"
      ]
    },
    {
      "cell_type": "code",
      "execution_count": null,
      "metadata": {
        "id": "gBBleiWNW_oY"
      },
      "outputs": [],
      "source": [
        "class Poet_Bert_classifier(nn.Module):\n",
        "\n",
        "    def __init__(self, config,MODEL_NAME_OR_PATH,fine_tune):\n",
        "        super(Poet_Bert_classifier, self).__init__()\n",
        "\n",
        "        bert_model = BertModel.from_pretrained(MODEL_NAME_OR_PATH)\n",
        "        if (fine_tune):\n",
        "          self.bert = bert_model\n",
        "        else:\n",
        "          for param in bert_model.parameters():\n",
        "            param.requires_grad = False\n",
        "          self.bert = bert_model\n",
        "        self.dropout = nn.Dropout(config.hidden_dropout_prob)\n",
        "        self.classifier = nn.Linear(config.hidden_size, config.num_labels)\n",
        "    \n",
        "    def forward(self, input_ids, attention_mask, token_type_ids):\n",
        "        _, pooled_output = self.bert(input_ids=input_ids,attention_mask=attention_mask, token_type_ids=token_type_ids,return_dict=False)\n",
        "        \n",
        "        pooled_output = self.dropout(pooled_output)\n",
        "        logits = self.classifier(pooled_output)\n",
        "        return logits \n"
      ]
    },
    {
      "cell_type": "markdown",
      "metadata": {
        "id": "Ieg1kknVXAzW"
      },
      "source": [
        "so we just have to call our class and use true for fine-tune parameter"
      ]
    },
    {
      "cell_type": "code",
      "execution_count": null,
      "metadata": {
        "colab": {
          "base_uri": "https://localhost:8080/"
        },
        "id": "oI5VujHzXP7H",
        "outputId": "b4ebcb8f-0957-4dbe-8875-1de562d27ad3"
      },
      "outputs": [
        {
          "name": "stderr",
          "output_type": "stream",
          "text": [
            "Some weights of the model checkpoint at HooshvareLab/bert-fa-base-uncased were not used when initializing BertModel: ['cls.predictions.transform.LayerNorm.bias', 'cls.predictions.transform.dense.bias', 'cls.predictions.transform.LayerNorm.weight', 'cls.predictions.decoder.weight', 'cls.predictions.transform.dense.weight', 'cls.seq_relationship.bias', 'cls.seq_relationship.weight', 'cls.predictions.decoder.bias', 'cls.predictions.bias']\n",
            "- This IS expected if you are initializing BertModel from the checkpoint of a model trained on another task or with another architecture (e.g. initializing a BertForSequenceClassification model from a BertForPreTraining model).\n",
            "- This IS NOT expected if you are initializing BertModel from the checkpoint of a model that you expect to be exactly identical (initializing a BertForSequenceClassification model from a BertForSequenceClassification model).\n"
          ]
        },
        {
          "name": "stdout",
          "output_type": "stream",
          "text": [
            "pt_model <class '__main__.Poet_Bert_classifier'>\n"
          ]
        }
      ],
      "source": [
        "pt_model_fine_tune = Poet_Bert_classifier(config=config,MODEL_NAME_OR_PATH = \"HooshvareLab/bert-fa-base-uncased\",fine_tune = True )\n",
        "pt_model_fine_tune = pt_model_fine_tune.to(device)\n",
        "\n",
        "print('pt_model', type(pt_model_fine_tune))"
      ]
    },
    {
      "cell_type": "code",
      "execution_count": null,
      "metadata": {
        "colab": {
          "base_uri": "https://localhost:8080/"
        },
        "id": "cPg83iktXWDT",
        "outputId": "d936516f-d5f1-4824-f089-4dbe85fa7a77"
      },
      "outputs": [
        {
          "name": "stdout",
          "output_type": "stream",
          "text": [
            "number of all parameters in model 162849034\n",
            "number of trainable parameters in model 162849034\n"
          ]
        }
      ],
      "source": [
        "pytorch_total_params = sum(p.numel() for p in pt_model_fine_tune.parameters())\n",
        "print(f\"number of all parameters in model {pytorch_total_params}\")\n",
        "pytorch_total_params = sum(p.numel() for p in pt_model_fine_tune.parameters() if p.requires_grad)\n",
        "print(f\"number of trainable parameters in model {pytorch_total_params}\")\n"
      ]
    },
    {
      "cell_type": "markdown",
      "metadata": {
        "id": "W1Q9M5rr4GD6"
      },
      "source": [
        "As we can see, all parameters are trainable, so in this case we fine-tune whole network"
      ]
    },
    {
      "cell_type": "code",
      "execution_count": 29,
      "metadata": {
        "id": "KPBHwmO34eVE"
      },
      "outputs": [],
      "source": [
        "def train_model_manual(model, criterion, optimizer,scheduler,val_beark,clip,len_train,len_val, num_epochs=25):\n",
        "  \"\"\"\n",
        "  function for train our model! in this function we use dataloader directly.\n",
        "  inputs: \n",
        "      model: input model \n",
        "      criterion: desired loss function\n",
        "      optimizer: our optimizer(!)\n",
        "      scheduler: for changing learning rate after sum epochs\n",
        "      num_epochs: number of epoches\n",
        "      val_beark: threshold for early stopping, if after \"val_beark\" steps our model don't get better, we end procces\n",
        "      clip: for gradient clipping\n",
        "  output:\n",
        "      model: our trained model!\n",
        "\n",
        "\n",
        "  \"\"\"\n",
        "  train_acc = []\n",
        "  train_loss = []\n",
        "  test_acc = []\n",
        "  test_loss = []\n",
        "  since = time.time()\n",
        "\n",
        "  best_model_wts = copy.deepcopy(model.state_dict())\n",
        "  best_acc = 0.0\n",
        "  best_loss = 100000000000\n",
        "  counter_val_beark = 0\n",
        "  for epoch in range(num_epochs):\n",
        "    ### Training\n",
        "    model.train()\n",
        "    loss_train = 0\n",
        "    acc_train = 0\n",
        "    counter = 1\n",
        "    for dl in tqdm(train_data_loader, total=len(train_data_loader), desc=\"Training... \"):\n",
        "      # 1. Forward pass\n",
        "      input_ids = dl['input_ids']\n",
        "      attention_mask = dl['attention_mask']\n",
        "      token_type_ids = dl['token_type_ids']\n",
        "      targets = dl['targets']\n",
        "      input_ids = input_ids.to(device)\n",
        "      attention_mask = attention_mask.to(device)\n",
        "      token_type_ids = token_type_ids.to(device)\n",
        "      targets = targets.to(device)\n",
        " \n",
        "      outputs = model(input_ids=input_ids,attention_mask=attention_mask,token_type_ids=token_type_ids) # model outputs raw logits \n",
        "      _, preds = torch.max(outputs, 1)\n",
        "\n",
        "      # print(y_logits)\n",
        "      # 2. Calculate loss and accuracy\n",
        "      counter = counter + 1\n",
        "      loss = criterion(outputs, targets)\n",
        "      acc_train += torch.sum(preds == targets.data)\n",
        "      loss_train = loss_train + loss\n",
        "      # 3. Optimizer zero grad\n",
        "      optimizer.zero_grad()\n",
        "\n",
        "      # 4. Loss backwards\n",
        "      loss.backward()\n",
        "      if clip > 0.0:\n",
        "            nn.utils.clip_grad_norm_(model.parameters(), max_norm=clip)\n",
        "\n",
        "      # 5. Optimizer step\n",
        "      optimizer.step()\n",
        "    loss_train = loss_train/counter\n",
        "    acc_train = acc_train/len_train\n",
        "    train_acc.append(acc_train)\n",
        "    train_loss.append(loss_train)\n",
        "    scheduler.step()\n",
        "    ### Testing\n",
        "    loss_test = 0\n",
        "    acc_test = 0\n",
        "    counter = 1\n",
        "    model.eval()\n",
        "    with torch.inference_mode():\n",
        "      for dl in tqdm(valid_data_loader, total=len(valid_data_loader), desc=\"Validating... \"):\n",
        "      # 1. Forward pass\n",
        "        input_ids = dl['input_ids']\n",
        "        attention_mask = dl['attention_mask']\n",
        "        token_type_ids = dl['token_type_ids']\n",
        "        targets = dl['targets']\n",
        "        input_ids = input_ids.to(device)\n",
        "        attention_mask = attention_mask.to(device)\n",
        "        token_type_ids = token_type_ids.to(device)\n",
        "        targets = targets.to(device)\n",
        "        outputs = model(input_ids=input_ids,attention_mask=attention_mask,token_type_ids=token_type_ids) # model outputs raw logits \n",
        "        _, preds = torch.max(outputs, 1)\n",
        "        loss_test= criterion(outputs, targets.data)\n",
        "        acc_test += torch.sum(preds == targets.data)\n",
        "      loss_test = loss_test/counter\n",
        "      acc_test = acc_test/len_val\n",
        "      test_loss.append(loss_test)\n",
        "      test_acc.append(acc_test)\n",
        "    if acc_test > best_acc:\n",
        "                best_acc = acc_test\n",
        "                best_model_wts = copy.deepcopy(model.state_dict())\n",
        "    if loss_test <= best_loss:\n",
        "                best_loss = loss_test\n",
        "                counter_val_beark = 0\n",
        "    if loss_test > best_loss:\n",
        "                counter_val_beark = counter_val_beark + 1\n",
        "                if (counter_val_beark > val_beark):\n",
        "                  print(f\"early stopping happend!\")\n",
        "                  break;\n",
        "\n",
        "    # Print out what's happening\n",
        "    if epoch % 1 == 0:\n",
        "      print(f\"Epoch: {epoch} | Loss: {loss_train:.5f}, Acc: {acc_train:.2f}% | Test Loss: {loss_test:.5f}, Test Acc: {acc_test:.2f}%\") \n",
        "  time_elapsed = time.time() - since\n",
        "  print(f'Training complete in {time_elapsed // 60:.0f}m {time_elapsed % 60:.0f}s')\n",
        "  print(f'Best val Acc: {best_acc:4f}')\n",
        "\n",
        "  # load best model weights\n",
        "  model.load_state_dict(best_model_wts)\n",
        "  return model,best_loss,best_acc\n"
      ]
    },
    {
      "cell_type": "markdown",
      "metadata": {
        "id": "DdHzKjIPXj50"
      },
      "source": [
        "first we train with SGD, and then we use Adam"
      ]
    },
    {
      "cell_type": "code",
      "execution_count": null,
      "metadata": {
        "colab": {
          "base_uri": "https://localhost:8080/"
        },
        "id": "4ggHak8cXi6F",
        "outputId": "6c34133d-5bd6-4bbb-ef78-ec1f11712fa2"
      },
      "outputs": [
        {
          "name": "stderr",
          "output_type": "stream",
          "text": [
            "Training... : 100%|██████████| 2238/2238 [03:47<00:00,  9.84it/s]\n",
            "Validating... : 100%|██████████| 249/249 [00:06<00:00, 38.15it/s]\n"
          ]
        },
        {
          "name": "stdout",
          "output_type": "stream",
          "text": [
            "Epoch: 0 | Loss: 1.56912, Acc: 0.45% | Test Loss: 1.09755, Test Acc: 0.60%\n"
          ]
        },
        {
          "name": "stderr",
          "output_type": "stream",
          "text": [
            "Training... : 100%|██████████| 2238/2238 [03:47<00:00,  9.85it/s]\n",
            "Validating... : 100%|██████████| 249/249 [00:06<00:00, 38.17it/s]\n"
          ]
        },
        {
          "name": "stdout",
          "output_type": "stream",
          "text": [
            "Epoch: 1 | Loss: 1.05854, Acc: 0.63% | Test Loss: 0.84867, Test Acc: 0.64%\n"
          ]
        },
        {
          "name": "stderr",
          "output_type": "stream",
          "text": [
            "Training... : 100%|██████████| 2238/2238 [03:47<00:00,  9.85it/s]\n",
            "Validating... : 100%|██████████| 249/249 [00:06<00:00, 38.16it/s]\n"
          ]
        },
        {
          "name": "stdout",
          "output_type": "stream",
          "text": [
            "Epoch: 2 | Loss: 0.80304, Acc: 0.72% | Test Loss: 0.34281, Test Acc: 0.72%\n"
          ]
        },
        {
          "name": "stderr",
          "output_type": "stream",
          "text": [
            "Training... : 100%|██████████| 2238/2238 [03:47<00:00,  9.85it/s]\n",
            "Validating... : 100%|██████████| 249/249 [00:06<00:00, 38.20it/s]\n"
          ]
        },
        {
          "name": "stdout",
          "output_type": "stream",
          "text": [
            "Epoch: 3 | Loss: 0.63137, Acc: 0.78% | Test Loss: 0.43469, Test Acc: 0.73%\n"
          ]
        },
        {
          "name": "stderr",
          "output_type": "stream",
          "text": [
            "Training... : 100%|██████████| 2238/2238 [03:47<00:00,  9.85it/s]\n",
            "Validating... : 100%|██████████| 249/249 [00:06<00:00, 38.22it/s]\n"
          ]
        },
        {
          "name": "stdout",
          "output_type": "stream",
          "text": [
            "Epoch: 4 | Loss: 0.48692, Acc: 0.83% | Test Loss: 0.23682, Test Acc: 0.75%\n"
          ]
        },
        {
          "name": "stderr",
          "output_type": "stream",
          "text": [
            "Training... : 100%|██████████| 2238/2238 [03:47<00:00,  9.85it/s]\n",
            "Validating... : 100%|██████████| 249/249 [00:06<00:00, 38.10it/s]\n"
          ]
        },
        {
          "name": "stdout",
          "output_type": "stream",
          "text": [
            "Epoch: 5 | Loss: 0.37661, Acc: 0.87% | Test Loss: 0.85255, Test Acc: 0.73%\n"
          ]
        },
        {
          "name": "stderr",
          "output_type": "stream",
          "text": [
            "Training... : 100%|██████████| 2238/2238 [03:47<00:00,  9.85it/s]\n",
            "Validating... : 100%|██████████| 249/249 [00:06<00:00, 38.12it/s]\n"
          ]
        },
        {
          "name": "stdout",
          "output_type": "stream",
          "text": [
            "Epoch: 6 | Loss: 0.29617, Acc: 0.90% | Test Loss: 0.72639, Test Acc: 0.77%\n",
            "Training complete in 27m 16s\n",
            "Best val Acc: 0.765209\n"
          ]
        }
      ],
      "source": [
        "criterion = nn.CrossEntropyLoss()\n",
        "\n",
        "\n",
        "optimizer_conv = optim.SGD(pt_model_fine_tune.parameters(), lr=0.001, momentum=0.9)\n",
        "exp_lr_scheduler = lr_scheduler.StepLR(optimizer_conv, step_size=50, gamma=0.5)\n",
        "\n",
        "pt_model_fine_tune = pt_model_fine_tune.to(device)\n",
        "pt_model_trained_tune_sgd,best_loss,best_acc = train_model_manual(pt_model_fine_tune, criterion, optimizer_conv,exp_lr_scheduler,20,0.0,len(X_train),len(X_valid),num_epochs=7)"
      ]
    },
    {
      "cell_type": "code",
      "execution_count": 34,
      "metadata": {
        "colab": {
          "base_uri": "https://localhost:8080/"
        },
        "id": "YZlZ6mUErEr0",
        "outputId": "cd6f4f92-fe09-4665-95aa-19740d225418"
      },
      "outputs": [
        {
          "output_type": "stream",
          "name": "stdout",
          "text": [
            "Mounted at /content/drive\n"
          ]
        }
      ],
      "source": [
        "from google.colab import drive\n",
        "drive.mount('/content/drive')"
      ]
    },
    {
      "cell_type": "code",
      "execution_count": null,
      "metadata": {
        "id": "AiyJDDSErZ-F"
      },
      "outputs": [],
      "source": [
        "torch.save(pt_model_trained_tune_sgd.state_dict(), '/content/drive/MyDrive/models_HW04/sgd_bert')\n"
      ]
    },
    {
      "cell_type": "code",
      "execution_count": null,
      "metadata": {
        "colab": {
          "base_uri": "https://localhost:8080/"
        },
        "id": "b9w5zCFErCN_",
        "outputId": "3d55aec9-99fd-4b40-86c5-db8579351965"
      },
      "outputs": [
        {
          "name": "stderr",
          "output_type": "stream",
          "text": [
            "Calculating Train Lables... : 100%|██████████| 2238/2238 [01:09<00:00, 32.18it/s]\n"
          ]
        }
      ],
      "source": [
        "# calculating labels for train,validation and test so we can calculate f1 score and plot confusion matrix\n",
        "pt_model_trained_tune_sgd.eval()\n",
        "criterion = nn.CrossEntropyLoss()\n",
        "loss = 0\n",
        "label_train = []\n",
        "\n",
        "predict_train = []\n",
        "with torch.inference_mode():\n",
        "  for dl in tqdm(train_data_loader, total=len(train_data_loader), desc=\"Calculating Train Lables... \"):\n",
        "  # 1. Forward pass\n",
        "    input_ids = dl['input_ids']\n",
        "    attention_mask = dl['attention_mask']\n",
        "    token_type_ids = dl['token_type_ids']\n",
        "    targets = dl['targets']\n",
        "    input_ids = input_ids.to(device)\n",
        "    attention_mask = attention_mask.to(device)\n",
        "    token_type_ids = token_type_ids.to(device)\n",
        "    targets = targets.to(device)\n",
        "    outputs = pt_model_trained_tune_sgd(input_ids=input_ids,attention_mask=attention_mask,token_type_ids=token_type_ids) # model outputs raw logits \n",
        "    _, preds = torch.max(outputs, 1)\n",
        "    loss_train= criterion(outputs, targets.data)\n",
        "    loss = loss + loss_train\n",
        "    label_train.append(targets.cpu().detach().numpy())\n",
        "    predict_train.append(preds.cpu().detach().numpy())"
      ]
    },
    {
      "cell_type": "code",
      "execution_count": null,
      "metadata": {
        "colab": {
          "base_uri": "https://localhost:8080/",
          "height": 434
        },
        "id": "H2ZozA4lr_X5",
        "outputId": "a6b0fbb1-3158-4d2c-b960-007ad9801b2b"
      },
      "outputs": [
        {
          "name": "stdout",
          "output_type": "stream",
          "text": [
            "fine tuning whole model (SGD)\n",
            "\n",
            "\n",
            "accuracy score on train data: 0.9644643106579132\n",
            "f1 score(micro) on train data: 0.9644643106579132\n",
            "f1 score(macro) on train data: 0.9643889708089199\n",
            "cross entropy loss on train data:0.006877807900309563\n"
          ]
        },
        {
          "data": {
            "text/plain": [
              "Text(0.5, 1.0, 'confusion matrix for train data')"
            ]
          },
          "execution_count": 54,
          "metadata": {},
          "output_type": "execute_result"
        },
        {
          "data": {
            "image/png": "[encoded data removed]",
            "text/plain": [
              "<Figure size 432x288 with 2 Axes>"
            ]
          },
          "metadata": {},
          "output_type": "display_data"
        }
      ],
      "source": [
        "from sklearn.datasets import make_classification\n",
        "from sklearn.metrics import accuracy_score, f1_score, precision_score, recall_score, classification_report, confusion_matrix\n",
        "label_train_f =np.concatenate( label_train, axis=0 )\n",
        "predicted_train_f = np.concatenate( predict_train, axis=0 )\n",
        "\n",
        "acc_train = accuracy_score(label_train_f,predicted_train_f)\n",
        "f1_train = f1_score(label_train_f, predicted_train_f, average=\"micro\")\n",
        "f1_train_macro = f1_score(label_train_f, predicted_train_f, average=\"macro\")\n",
        "\n",
        "print('fine tuning whole model (SGD)')\n",
        "print('\\n')\n",
        "print(f\"accuracy score on train data: {acc_train}\")\n",
        "print(f\"f1 score(micro) on train data: {f1_train}\")\n",
        "print(f\"f1 score(macro) on train data: {f1_train_macro}\")\n",
        "print(f\"cross entropy loss on train data:{loss/len(label_train_f)}\")\n",
        "from sklearn import metrics\n",
        "\n",
        "confusion_matrix = metrics.confusion_matrix(label_train_f, predicted_train_f)\n",
        "\n",
        "cm_display = metrics.ConfusionMatrixDisplay(confusion_matrix = confusion_matrix)\n",
        "\n",
        "cm_display.plot()\n",
        "plt.title('confusion matrix for train data')"
      ]
    },
    {
      "cell_type": "markdown",
      "metadata": {
        "id": "APgLH9wvA1jD"
      },
      "source": [
        "as we said before, difference between result of train accuracy when training model and after it has finished is because of it's mode, when in the end we want to report final output we use model.eval() so there is no dropout and other things like that so we have a huge boost in performance for train data, but as you can see below, score for validation is exactly the same because we reported it's value in eval mode so there is no difference"
      ]
    },
    {
      "cell_type": "code",
      "execution_count": null,
      "metadata": {
        "colab": {
          "base_uri": "https://localhost:8080/"
        },
        "id": "aLPiFRGYsXNj",
        "outputId": "671c9686-77d4-447e-c9bb-edfb33f66c1f"
      },
      "outputs": [
        {
          "name": "stderr",
          "output_type": "stream",
          "text": [
            "Calculating Train Lables... : 100%|██████████| 249/249 [00:07<00:00, 31.86it/s]\n"
          ]
        }
      ],
      "source": [
        "# calculating labels for train,validation and test so we can calculate f1 score and plot confusion matrix\n",
        "pt_model_trained_tune_sgd.eval()\n",
        "label_val = []\n",
        "predict_val = []\n",
        "criterion = nn.CrossEntropyLoss()\n",
        "loss = 0\n",
        "with torch.inference_mode():\n",
        "  for dl in tqdm(valid_data_loader, total=len(valid_data_loader), desc=\"Calculating Train Lables... \"):\n",
        "  # 1. Forward pass\n",
        "    input_ids = dl['input_ids']\n",
        "    attention_mask = dl['attention_mask']\n",
        "    token_type_ids = dl['token_type_ids']\n",
        "    targets = dl['targets']\n",
        "    input_ids = input_ids.to(device)\n",
        "    attention_mask = attention_mask.to(device)\n",
        "    token_type_ids = token_type_ids.to(device)\n",
        "    targets = targets.to(device)\n",
        "    outputs = pt_model_trained_tune_sgd(input_ids=input_ids,attention_mask=attention_mask,token_type_ids=token_type_ids) # model outputs raw logits \n",
        "    _, preds = torch.max(outputs, 1)\n",
        "    label_val.append(targets.cpu().detach().numpy())\n",
        "    predict_val.append(preds.cpu().detach().numpy())\n",
        "    loss_val= criterion(outputs, targets.data)\n",
        "    loss = loss + loss_val"
      ]
    },
    {
      "cell_type": "code",
      "execution_count": null,
      "metadata": {
        "colab": {
          "base_uri": "https://localhost:8080/",
          "height": 434
        },
        "id": "VaaiKdxBsfKE",
        "outputId": "3053cbf8-6734-4fe0-8344-d2acf02b27b0"
      },
      "outputs": [
        {
          "name": "stdout",
          "output_type": "stream",
          "text": [
            "fine tuning whole model (SGD)\n",
            "\n",
            "\n",
            "accuracy score on validation data: 0.7652086475615887\n",
            "f1 score (micro) on validation data: 0.7652086475615887\n",
            "f1 score (macro) on validation data: 0.7649364659147527\n",
            "cross entropy loss on validation data:0.05095747485756874\n"
          ]
        },
        {
          "data": {
            "text/plain": [
              "Text(0.5, 1.0, 'confusion matrix for validation data')"
            ]
          },
          "execution_count": 57,
          "metadata": {},
          "output_type": "execute_result"
        },
        {
          "data": {
            "image/png": "[encoded data removed]",
            "text/plain": [
              "<Figure size 432x288 with 2 Axes>"
            ]
          },
          "metadata": {},
          "output_type": "display_data"
        }
      ],
      "source": [
        "label_val_f =np.concatenate( label_val, axis=0 )\n",
        "predicted_val_f = np.concatenate( predict_val, axis=0 )\n",
        "\n",
        "acc_train = accuracy_score(label_val_f,predicted_val_f)\n",
        "f1_train = f1_score(label_val_f, predicted_val_f, average=\"micro\")\n",
        "f1_train_macro = f1_score(label_val_f, predicted_val_f, average=\"macro\")\n",
        "\n",
        "print('fine tuning whole model (SGD)')\n",
        "print('\\n')\n",
        "print(f\"accuracy score on validation data: {acc_train}\")\n",
        "print(f\"f1 score (micro) on validation data: {f1_train}\")\n",
        "print(f\"f1 score (macro) on validation data: {f1_train_macro}\")\n",
        "print(f\"cross entropy loss on validation data:{loss/len(label_val_f)}\")\n",
        "\n",
        "from sklearn import metrics\n",
        "\n",
        "confusion_matrix = metrics.confusion_matrix(label_val_f, predicted_val_f)\n",
        "\n",
        "cm_display = metrics.ConfusionMatrixDisplay(confusion_matrix = confusion_matrix)\n",
        "\n",
        "cm_display.plot()\n",
        "plt.title('confusion matrix for validation data')"
      ]
    },
    {
      "cell_type": "code",
      "execution_count": null,
      "metadata": {
        "colab": {
          "base_uri": "https://localhost:8080/"
        },
        "id": "6TLCszpwssn3",
        "outputId": "83e8e120-05e3-41c2-9ef1-315a8b9e0013"
      },
      "outputs": [
        {
          "name": "stderr",
          "output_type": "stream",
          "text": [
            "Calculating Train Lables... : 100%|██████████| 622/622 [00:20<00:00, 30.91it/s]\n"
          ]
        }
      ],
      "source": [
        "# calculating labels for train,validation and test so we can calculate f1 score and plot confusion matrix\n",
        "pt_model_trained_tune_sgd.eval()\n",
        "label_test = []\n",
        "predict_test = []\n",
        "criterion = nn.CrossEntropyLoss()\n",
        "loss = 0\n",
        "with torch.inference_mode():\n",
        "  for dl in tqdm(test_data_loader, total=len(test_data_loader), desc=\"Calculating Train Lables... \"):\n",
        "  # 1. Forward pass\n",
        "    input_ids = dl['input_ids']\n",
        "    attention_mask = dl['attention_mask']\n",
        "    token_type_ids = dl['token_type_ids']\n",
        "    targets = dl['targets']\n",
        "    input_ids = input_ids.to(device)\n",
        "    attention_mask = attention_mask.to(device)\n",
        "    token_type_ids = token_type_ids.to(device)\n",
        "    targets = targets.to(device)\n",
        "    outputs = pt_model_trained_tune_sgd(input_ids=input_ids,attention_mask=attention_mask,token_type_ids=token_type_ids) # model outputs raw logits \n",
        "    _, preds = torch.max(outputs, 1)\n",
        "    label_test.append(targets.cpu().detach().numpy())\n",
        "    predict_test.append(preds.cpu().detach().numpy())\n",
        "    loss_test= criterion(outputs, targets.data)\n",
        "    loss = loss + loss_test"
      ]
    },
    {
      "cell_type": "code",
      "execution_count": null,
      "metadata": {
        "colab": {
          "base_uri": "https://localhost:8080/",
          "height": 434
        },
        "id": "0b4SB-Uss2kU",
        "outputId": "35a257b4-8857-4457-abbc-dc8ddeccb2bc"
      },
      "outputs": [
        {
          "name": "stdout",
          "output_type": "stream",
          "text": [
            "fine tuning whole model (SGD)\n",
            "\n",
            "\n",
            "accuracy score on test data: 0.7642799678197908\n",
            "f1 score (micro) on test data: 0.7642799678197908\n",
            "f1 score (macro) on test data: 0.7619809759794667\n",
            "cross entropy loss on test data:0.05093097314238548\n"
          ]
        },
        {
          "data": {
            "text/plain": [
              "Text(0.5, 1.0, 'confusion matrix for test data')"
            ]
          },
          "execution_count": 59,
          "metadata": {},
          "output_type": "execute_result"
        },
        {
          "data": {
            "image/png": "[encoded data removed]",
            "text/plain": [
              "<Figure size 432x288 with 2 Axes>"
            ]
          },
          "metadata": {},
          "output_type": "display_data"
        }
      ],
      "source": [
        "label_test_f =np.concatenate( label_test, axis=0 )\n",
        "predicted_test_f = np.concatenate( predict_test, axis=0 )\n",
        "\n",
        "acc= accuracy_score(label_test_f,predicted_test_f)\n",
        "f1 = f1_score(label_test_f, predicted_test_f, average=\"micro\")\n",
        "f1_macro = f1_score(label_test_f, predicted_test_f, average=\"macro\")\n",
        "\n",
        "\n",
        "print('fine tuning whole model (SGD)')\n",
        "print('\\n')\n",
        "print(f\"accuracy score on test data: {acc}\")\n",
        "print(f\"f1 score (micro) on test data: {f1}\")\n",
        "print(f\"f1 score (macro) on test data: {f1_macro}\")\n",
        "print(f\"cross entropy loss on test data:{loss/len(label_test_f)}\")\n",
        "\n",
        "from sklearn import metrics\n",
        "\n",
        "confusion_matrix = metrics.confusion_matrix(label_test_f, predicted_test_f)\n",
        "\n",
        "cm_display = metrics.ConfusionMatrixDisplay(confusion_matrix = confusion_matrix)\n",
        "\n",
        "cm_display.plot()\n",
        "plt.title('confusion matrix for test data')"
      ]
    },
    {
      "cell_type": "markdown",
      "metadata": {
        "id": "tSDS9Q9KXcqB"
      },
      "source": [
        "now we use Adam optimizer"
      ]
    },
    {
      "cell_type": "code",
      "execution_count": null,
      "metadata": {
        "colab": {
          "base_uri": "https://localhost:8080/"
        },
        "id": "rqF6DIqytFye",
        "outputId": "2b7f3dc6-0b5d-4c1b-9f54-d7e3fe8783c3"
      },
      "outputs": [
        {
          "name": "stderr",
          "output_type": "stream",
          "text": [
            "Some weights of the model checkpoint at HooshvareLab/bert-fa-base-uncased were not used when initializing BertModel: ['cls.seq_relationship.weight', 'cls.predictions.transform.LayerNorm.bias', 'cls.predictions.transform.dense.bias', 'cls.predictions.decoder.weight', 'cls.predictions.transform.dense.weight', 'cls.seq_relationship.bias', 'cls.predictions.bias', 'cls.predictions.transform.LayerNorm.weight', 'cls.predictions.decoder.bias']\n",
            "- This IS expected if you are initializing BertModel from the checkpoint of a model trained on another task or with another architecture (e.g. initializing a BertForSequenceClassification model from a BertForPreTraining model).\n",
            "- This IS NOT expected if you are initializing BertModel from the checkpoint of a model that you expect to be exactly identical (initializing a BertForSequenceClassification model from a BertForSequenceClassification model).\n"
          ]
        },
        {
          "name": "stdout",
          "output_type": "stream",
          "text": [
            "pt_model <class '__main__.Poet_Bert_classifier'>\n"
          ]
        }
      ],
      "source": [
        "pt_model_fine_tune = Poet_Bert_classifier(config=config,MODEL_NAME_OR_PATH = \"HooshvareLab/bert-fa-base-uncased\",fine_tune = True )\n",
        "pt_model_fine_tune = pt_model_fine_tune.to(device)\n",
        "\n",
        "print('pt_model', type(pt_model_fine_tune))"
      ]
    },
    {
      "cell_type": "code",
      "execution_count": null,
      "metadata": {
        "colab": {
          "base_uri": "https://localhost:8080/"
        },
        "id": "uEmbeFOXtcvd",
        "outputId": "3c65babb-95b2-42a7-82f9-c1f7078c9b24"
      },
      "outputs": [
        {
          "name": "stderr",
          "output_type": "stream",
          "text": [
            "Training... : 100%|██████████| 2238/2238 [04:54<00:00,  7.61it/s]\n",
            "Validating... : 100%|██████████| 249/249 [00:06<00:00, 39.73it/s]\n"
          ]
        },
        {
          "name": "stdout",
          "output_type": "stream",
          "text": [
            "Epoch: 0 | Loss: 2.44597, Acc: 0.10% | Test Loss: 2.49279, Test Acc: 0.10%\n"
          ]
        },
        {
          "name": "stderr",
          "output_type": "stream",
          "text": [
            "Training... : 100%|██████████| 2238/2238 [04:52<00:00,  7.66it/s]\n",
            "Validating... : 100%|██████████| 249/249 [00:06<00:00, 39.80it/s]\n"
          ]
        },
        {
          "name": "stdout",
          "output_type": "stream",
          "text": [
            "Epoch: 1 | Loss: 2.44301, Acc: 0.10% | Test Loss: 2.48246, Test Acc: 0.10%\n"
          ]
        },
        {
          "name": "stderr",
          "output_type": "stream",
          "text": [
            "Training... : 100%|██████████| 2238/2238 [04:52<00:00,  7.66it/s]\n",
            "Validating... : 100%|██████████| 249/249 [00:06<00:00, 39.83it/s]\n"
          ]
        },
        {
          "name": "stdout",
          "output_type": "stream",
          "text": [
            "Epoch: 2 | Loss: 2.44124, Acc: 0.10% | Test Loss: 2.50837, Test Acc: 0.10%\n"
          ]
        },
        {
          "name": "stderr",
          "output_type": "stream",
          "text": [
            "Training... : 100%|██████████| 2238/2238 [04:52<00:00,  7.65it/s]\n",
            "Validating... : 100%|██████████| 249/249 [00:06<00:00, 39.79it/s]\n"
          ]
        },
        {
          "name": "stdout",
          "output_type": "stream",
          "text": [
            "Epoch: 3 | Loss: 2.44278, Acc: 0.10% | Test Loss: 2.44809, Test Acc: 0.11%\n"
          ]
        },
        {
          "name": "stderr",
          "output_type": "stream",
          "text": [
            "Training... : 100%|██████████| 2238/2238 [04:52<00:00,  7.65it/s]\n",
            "Validating... : 100%|██████████| 249/249 [00:06<00:00, 39.72it/s]\n"
          ]
        },
        {
          "name": "stdout",
          "output_type": "stream",
          "text": [
            "Epoch: 4 | Loss: 2.43600, Acc: 0.10% | Test Loss: 2.39012, Test Acc: 0.10%\n",
            "Training complete in 24m 55s\n",
            "Best val Acc: 0.105832\n"
          ]
        }
      ],
      "source": [
        "criterion = nn.CrossEntropyLoss()\n",
        "\n",
        "\n",
        "optimizer_conv = optim.Adam(pt_model_fine_tune.parameters(), lr=0.001)\n",
        "exp_lr_scheduler = lr_scheduler.StepLR(optimizer_conv, step_size=50, gamma=0.5)\n",
        "\n",
        "pt_model_fine_tune = pt_model_fine_tune.to(device)\n",
        "pt_model_trained_tune_adam,best_loss,best_acc = train_model_manual(pt_model_fine_tune, criterion, optimizer_conv,exp_lr_scheduler,20,0.0,len(X_train),len(X_valid),num_epochs=5)"
      ]
    },
    {
      "cell_type": "markdown",
      "metadata": {
        "id": "tA8_1qucJhF9"
      },
      "source": [
        "as we can see, when using adam it stuck in a local minimum(all random, we have 10 class so random probability is 0.1, which is our model accuracy) it's because adam use higher order gradient (estimation of hessian matrix) so it's more stable, but easier to stuck!(in sgd we have more aggresive approch, so it's easier to get out of this local points but more unstable) first lets plot confusion matrix and report it f1 score"
      ]
    },
    {
      "cell_type": "code",
      "execution_count": null,
      "metadata": {
        "colab": {
          "base_uri": "https://localhost:8080/"
        },
        "id": "mZiWpNIfLSZG",
        "outputId": "3312ae9a-ec36-49d4-88fc-1c71eeaf87fb"
      },
      "outputs": [
        {
          "name": "stderr",
          "output_type": "stream",
          "text": [
            "Calculating Train Lables... : 100%|██████████| 2238/2238 [01:18<00:00, 28.41it/s]\n"
          ]
        }
      ],
      "source": [
        "# calculating labels for train,validation and test so we can calculate f1 score and plot confusion matrix\n",
        "pt_model_trained_tune_adam.eval()\n",
        "criterion = nn.CrossEntropyLoss()\n",
        "loss = 0\n",
        "label_train = []\n",
        "\n",
        "predict_train = []\n",
        "with torch.inference_mode():\n",
        "  for dl in tqdm(train_data_loader, total=len(train_data_loader), desc=\"Calculating Train Lables... \"):\n",
        "  # 1. Forward pass\n",
        "    input_ids = dl['input_ids']\n",
        "    attention_mask = dl['attention_mask']\n",
        "    token_type_ids = dl['token_type_ids']\n",
        "    targets = dl['targets']\n",
        "    input_ids = input_ids.to(device)\n",
        "    attention_mask = attention_mask.to(device)\n",
        "    token_type_ids = token_type_ids.to(device)\n",
        "    targets = targets.to(device)\n",
        "    outputs = pt_model_trained_tune_adam(input_ids=input_ids,attention_mask=attention_mask,token_type_ids=token_type_ids) # model outputs raw logits \n",
        "    _, preds = torch.max(outputs, 1)\n",
        "    loss_train= criterion(outputs, targets.data)\n",
        "    loss = loss + loss_train\n",
        "    label_train.append(targets.cpu().detach().numpy())\n",
        "    predict_train.append(preds.cpu().detach().numpy())"
      ]
    },
    {
      "cell_type": "code",
      "execution_count": null,
      "metadata": {
        "colab": {
          "base_uri": "https://localhost:8080/",
          "height": 434
        },
        "id": "mkhhG6d8LbBM",
        "outputId": "fccbf125-5842-4a48-d214-f832af3dc678"
      },
      "outputs": [
        {
          "name": "stdout",
          "output_type": "stream",
          "text": [
            "fine tuning whole model (Adam)\n",
            "\n",
            "\n",
            "accuracy score on train data: 0.10074032686129347\n",
            "f1 score(micro) on train data: 0.10074032686129347\n",
            "f1 score(macro) on train data: 0.018304103956752367\n",
            "cross entropy loss on train data:0.15154102444648743\n"
          ]
        },
        {
          "data": {
            "text/plain": [
              "Text(0.5, 1.0, 'confusion matrix for train data')"
            ]
          },
          "execution_count": 64,
          "metadata": {},
          "output_type": "execute_result"
        },
        {
          "data": {
            "image/png": "[encoded data removed]",
            "text/plain": [
              "<Figure size 432x288 with 2 Axes>"
            ]
          },
          "metadata": {},
          "output_type": "display_data"
        }
      ],
      "source": [
        "from sklearn.datasets import make_classification\n",
        "from sklearn.metrics import accuracy_score, f1_score, precision_score, recall_score, classification_report, confusion_matrix\n",
        "label_train_f =np.concatenate( label_train, axis=0 )\n",
        "predicted_train_f = np.concatenate( predict_train, axis=0 )\n",
        "\n",
        "acc_train = accuracy_score(label_train_f,predicted_train_f)\n",
        "f1_train = f1_score(label_train_f, predicted_train_f, average=\"micro\")\n",
        "f1_train_macro = f1_score(label_train_f, predicted_train_f, average=\"macro\")\n",
        "\n",
        "print('fine tuning whole model (Adam)')\n",
        "print('\\n')\n",
        "print(f\"accuracy score on train data: {acc_train}\")\n",
        "print(f\"f1 score(micro) on train data: {f1_train}\")\n",
        "print(f\"f1 score(macro) on train data: {f1_train_macro}\")\n",
        "print(f\"cross entropy loss on train data:{loss/len(label_train_f)}\")\n",
        "from sklearn import metrics\n",
        "\n",
        "confusion_matrix = metrics.confusion_matrix(label_train_f, predicted_train_f)\n",
        "\n",
        "cm_display = metrics.ConfusionMatrixDisplay(confusion_matrix = confusion_matrix)\n",
        "\n",
        "cm_display.plot()\n",
        "plt.title('confusion matrix for train data')"
      ]
    },
    {
      "cell_type": "markdown",
      "metadata": {
        "id": "r14B06tOL4xb"
      },
      "source": [
        "it literally give all inputs same label!"
      ]
    },
    {
      "cell_type": "code",
      "execution_count": null,
      "metadata": {
        "colab": {
          "base_uri": "https://localhost:8080/"
        },
        "id": "4DQLO4K4Le1Y",
        "outputId": "8db9e6af-1017-4e5b-abdd-f301b3ae1f2d"
      },
      "outputs": [
        {
          "name": "stderr",
          "output_type": "stream",
          "text": [
            "Calculating Train Lables... : 100%|██████████| 249/249 [00:10<00:00, 24.89it/s]\n"
          ]
        }
      ],
      "source": [
        "# calculating labels for train,validation and test so we can calculate f1 score and plot confusion matrix\n",
        "pt_model_trained_tune_adam.eval()\n",
        "label_val = []\n",
        "predict_val = []\n",
        "criterion = nn.CrossEntropyLoss()\n",
        "loss = 0\n",
        "with torch.inference_mode():\n",
        "  for dl in tqdm(valid_data_loader, total=len(valid_data_loader), desc=\"Calculating Train Lables... \"):\n",
        "  # 1. Forward pass\n",
        "    input_ids = dl['input_ids']\n",
        "    attention_mask = dl['attention_mask']\n",
        "    token_type_ids = dl['token_type_ids']\n",
        "    targets = dl['targets']\n",
        "    input_ids = input_ids.to(device)\n",
        "    attention_mask = attention_mask.to(device)\n",
        "    token_type_ids = token_type_ids.to(device)\n",
        "    targets = targets.to(device)\n",
        "    outputs = pt_model_trained_tune_adam(input_ids=input_ids,attention_mask=attention_mask,token_type_ids=token_type_ids) # model outputs raw logits \n",
        "    _, preds = torch.max(outputs, 1)\n",
        "    label_val.append(targets.cpu().detach().numpy())\n",
        "    predict_val.append(preds.cpu().detach().numpy())\n",
        "    loss_val= criterion(outputs, targets.data)\n",
        "    loss = loss + loss_val"
      ]
    },
    {
      "cell_type": "code",
      "execution_count": null,
      "metadata": {
        "colab": {
          "base_uri": "https://localhost:8080/",
          "height": 434
        },
        "id": "DqCsI2cIMXCW",
        "outputId": "db3a36e3-a941-403b-93ac-cfb48e0dacc1"
      },
      "outputs": [
        {
          "name": "stdout",
          "output_type": "stream",
          "text": [
            "fine tuning whole model (Adam)\n",
            "\n",
            "\n",
            "accuracy score on validation data: 0.10583207642031171\n",
            "f1 score (micro) on validation data: 0.10583207642031171\n",
            "f1 score (macro) on validation data: 0.019140713798590586\n",
            "cross entropy loss on validation data:0.1523279845714569\n"
          ]
        },
        {
          "data": {
            "text/plain": [
              "Text(0.5, 1.0, 'confusion matrix for validation data')"
            ]
          },
          "execution_count": 66,
          "metadata": {},
          "output_type": "execute_result"
        },
        {
          "data": {
            "image/png": "[encoded data removed]",
            "text/plain": [
              "<Figure size 432x288 with 2 Axes>"
            ]
          },
          "metadata": {},
          "output_type": "display_data"
        }
      ],
      "source": [
        "label_val_f =np.concatenate( label_val, axis=0 )\n",
        "predicted_val_f = np.concatenate( predict_val, axis=0 )\n",
        "\n",
        "acc_train = accuracy_score(label_val_f,predicted_val_f)\n",
        "f1_train = f1_score(label_val_f, predicted_val_f, average=\"micro\")\n",
        "f1_train_macro = f1_score(label_val_f, predicted_val_f, average=\"macro\")\n",
        "\n",
        "print('fine tuning whole model (Adam)')\n",
        "print('\\n')\n",
        "print(f\"accuracy score on validation data: {acc_train}\")\n",
        "print(f\"f1 score (micro) on validation data: {f1_train}\")\n",
        "print(f\"f1 score (macro) on validation data: {f1_train_macro}\")\n",
        "print(f\"cross entropy loss on validation data:{loss/len(label_val_f)}\")\n",
        "\n",
        "from sklearn import metrics\n",
        "\n",
        "confusion_matrix = metrics.confusion_matrix(label_val_f, predicted_val_f)\n",
        "\n",
        "cm_display = metrics.ConfusionMatrixDisplay(confusion_matrix = confusion_matrix)\n",
        "\n",
        "cm_display.plot()\n",
        "plt.title('confusion matrix for validation data')"
      ]
    },
    {
      "cell_type": "code",
      "execution_count": null,
      "metadata": {
        "colab": {
          "base_uri": "https://localhost:8080/"
        },
        "id": "nyt6-3r9MmVv",
        "outputId": "4d55157c-6628-4933-d0e5-7782674cd4f9"
      },
      "outputs": [
        {
          "name": "stderr",
          "output_type": "stream",
          "text": [
            "Calculating Train Lables... : 100%|██████████| 622/622 [00:19<00:00, 31.11it/s]\n"
          ]
        }
      ],
      "source": [
        "# calculating labels for train,validation and test so we can calculate f1 score and plot confusion matrix\n",
        "pt_model_trained_tune_adam.eval()\n",
        "label_test = []\n",
        "predict_test = []\n",
        "criterion = nn.CrossEntropyLoss()\n",
        "loss = 0\n",
        "with torch.inference_mode():\n",
        "  for dl in tqdm(test_data_loader, total=len(test_data_loader), desc=\"Calculating Train Lables... \"):\n",
        "  # 1. Forward pass\n",
        "    input_ids = dl['input_ids']\n",
        "    attention_mask = dl['attention_mask']\n",
        "    token_type_ids = dl['token_type_ids']\n",
        "    targets = dl['targets']\n",
        "    input_ids = input_ids.to(device)\n",
        "    attention_mask = attention_mask.to(device)\n",
        "    token_type_ids = token_type_ids.to(device)\n",
        "    targets = targets.to(device)\n",
        "    outputs = pt_model_trained_tune_adam(input_ids=input_ids,attention_mask=attention_mask,token_type_ids=token_type_ids) # model outputs raw logits \n",
        "    _, preds = torch.max(outputs, 1)\n",
        "    label_test.append(targets.cpu().detach().numpy())\n",
        "    predict_test.append(preds.cpu().detach().numpy())\n",
        "    loss_test= criterion(outputs, targets.data)\n",
        "    loss = loss + loss_test"
      ]
    },
    {
      "cell_type": "code",
      "execution_count": null,
      "metadata": {
        "colab": {
          "base_uri": "https://localhost:8080/",
          "height": 434
        },
        "id": "GYm0Sjr9MvMF",
        "outputId": "fd09967e-191d-4454-b937-61e50a02f79c"
      },
      "outputs": [
        {
          "name": "stdout",
          "output_type": "stream",
          "text": [
            "fine tuning whole model (SGD)\n",
            "\n",
            "\n",
            "accuracy score on test data: 0.09784794851166533\n",
            "f1 score (micro) on test data: 0.09784794851166534\n",
            "f1 score (macro) on test data: 0.01782540991114775\n",
            "cross entropy loss on test data:0.15193811058998108\n"
          ]
        },
        {
          "data": {
            "text/plain": [
              "Text(0.5, 1.0, 'confusion matrix for test data')"
            ]
          },
          "execution_count": 68,
          "metadata": {},
          "output_type": "execute_result"
        },
        {
          "data": {
            "image/png": "[encoded data removed]",
            "text/plain": [
              "<Figure size 432x288 with 2 Axes>"
            ]
          },
          "metadata": {},
          "output_type": "display_data"
        }
      ],
      "source": [
        "label_test_f =np.concatenate( label_test, axis=0 )\n",
        "predicted_test_f = np.concatenate( predict_test, axis=0 )\n",
        "\n",
        "acc= accuracy_score(label_test_f,predicted_test_f)\n",
        "f1 = f1_score(label_test_f, predicted_test_f, average=\"micro\")\n",
        "f1_macro = f1_score(label_test_f, predicted_test_f, average=\"macro\")\n",
        "\n",
        "\n",
        "print('fine tuning whole model (SGD)')\n",
        "print('\\n')\n",
        "print(f\"accuracy score on test data: {acc}\")\n",
        "print(f\"f1 score (micro) on test data: {f1}\")\n",
        "print(f\"f1 score (macro) on test data: {f1_macro}\")\n",
        "print(f\"cross entropy loss on test data:{loss/len(label_test_f)}\")\n",
        "\n",
        "from sklearn import metrics\n",
        "\n",
        "confusion_matrix = metrics.confusion_matrix(label_test_f, predicted_test_f)\n",
        "\n",
        "cm_display = metrics.ConfusionMatrixDisplay(confusion_matrix = confusion_matrix)\n",
        "\n",
        "cm_display.plot()\n",
        "plt.title('confusion matrix for test data')"
      ]
    },
    {
      "cell_type": "markdown",
      "metadata": {
        "id": "0A1kfVO5Mvxo"
      },
      "source": [
        "so how we can overcome this obstecle? easy! we use SGD and train model just for one epoch so model is not totally random and in a good track and then train with adam"
      ]
    },
    {
      "cell_type": "code",
      "execution_count": null,
      "metadata": {
        "colab": {
          "base_uri": "https://localhost:8080/"
        },
        "id": "40AgO_51NZxr",
        "outputId": "c1af54f4-6f67-4a75-80a2-2f520ce20d40"
      },
      "outputs": [
        {
          "name": "stderr",
          "output_type": "stream",
          "text": [
            "Some weights of the model checkpoint at HooshvareLab/bert-fa-base-uncased were not used when initializing BertModel: ['cls.seq_relationship.weight', 'cls.predictions.transform.LayerNorm.bias', 'cls.predictions.transform.dense.bias', 'cls.predictions.decoder.weight', 'cls.predictions.transform.dense.weight', 'cls.seq_relationship.bias', 'cls.predictions.bias', 'cls.predictions.transform.LayerNorm.weight', 'cls.predictions.decoder.bias']\n",
            "- This IS expected if you are initializing BertModel from the checkpoint of a model trained on another task or with another architecture (e.g. initializing a BertForSequenceClassification model from a BertForPreTraining model).\n",
            "- This IS NOT expected if you are initializing BertModel from the checkpoint of a model that you expect to be exactly identical (initializing a BertForSequenceClassification model from a BertForSequenceClassification model).\n",
            "Training... : 100%|██████████| 2238/2238 [03:51<00:00,  9.68it/s]\n",
            "Validating... : 100%|██████████| 249/249 [00:06<00:00, 38.08it/s]\n"
          ]
        },
        {
          "name": "stdout",
          "output_type": "stream",
          "text": [
            "Epoch: 0 | Loss: 1.61177, Acc: 0.43% | Test Loss: 1.24169, Test Acc: 0.54%\n",
            "Training complete in 3m 58s\n",
            "Best val Acc: 0.542484\n"
          ]
        }
      ],
      "source": [
        "pt_model_fine_tune = Poet_Bert_classifier(config=config,MODEL_NAME_OR_PATH = \"HooshvareLab/bert-fa-base-uncased\",fine_tune = True )\n",
        "pt_model_fine_tune = pt_model_fine_tune.to(device)\n",
        "\n",
        "\n",
        "criterion = nn.CrossEntropyLoss()\n",
        "\n",
        "optimizer_conv = optim.SGD(pt_model_fine_tune.parameters(), lr=0.001, momentum=0.9)\n",
        "exp_lr_scheduler = lr_scheduler.StepLR(optimizer_conv, step_size=50, gamma=0.5)\n",
        "\n",
        "pt_model_fine_tune = pt_model_fine_tune.to(device)\n",
        "pt_model_fine_tune,best_loss,best_acc = train_model_manual(pt_model_fine_tune, criterion, optimizer_conv,exp_lr_scheduler,20,0.0,len(X_train),len(X_valid),num_epochs=1)"
      ]
    },
    {
      "cell_type": "code",
      "execution_count": null,
      "metadata": {
        "colab": {
          "base_uri": "https://localhost:8080/"
        },
        "id": "K7XSIAiRN2Te",
        "outputId": "2670b264-6809-4d9a-be5e-c1518289a1ce"
      },
      "outputs": [
        {
          "name": "stderr",
          "output_type": "stream",
          "text": [
            "Training... : 100%|██████████| 2238/2238 [04:51<00:00,  7.68it/s]\n",
            "Validating... : 100%|██████████| 249/249 [00:06<00:00, 40.10it/s]\n"
          ]
        },
        {
          "name": "stdout",
          "output_type": "stream",
          "text": [
            "Epoch: 0 | Loss: 3.57591, Acc: 0.10% | Test Loss: 2.63200, Test Acc: 0.10%\n"
          ]
        },
        {
          "name": "stderr",
          "output_type": "stream",
          "text": [
            "Training... : 100%|██████████| 2238/2238 [04:51<00:00,  7.69it/s]\n",
            "Validating... : 100%|██████████| 249/249 [00:06<00:00, 40.00it/s]\n"
          ]
        },
        {
          "name": "stdout",
          "output_type": "stream",
          "text": [
            "Epoch: 1 | Loss: 3.50783, Acc: 0.10% | Test Loss: 3.53708, Test Acc: 0.11%\n"
          ]
        },
        {
          "name": "stderr",
          "output_type": "stream",
          "text": [
            "Training... : 100%|██████████| 2238/2238 [04:49<00:00,  7.73it/s]\n",
            "Validating... : 100%|██████████| 249/249 [00:06<00:00, 40.15it/s]\n"
          ]
        },
        {
          "name": "stdout",
          "output_type": "stream",
          "text": [
            "Epoch: 2 | Loss: 3.57745, Acc: 0.10% | Test Loss: 3.47295, Test Acc: 0.11%\n"
          ]
        },
        {
          "name": "stderr",
          "output_type": "stream",
          "text": [
            "Training... : 100%|██████████| 2238/2238 [04:46<00:00,  7.80it/s]\n",
            "Validating... : 100%|██████████| 249/249 [00:06<00:00, 40.13it/s]\n"
          ]
        },
        {
          "name": "stdout",
          "output_type": "stream",
          "text": [
            "Epoch: 3 | Loss: 3.50821, Acc: 0.10% | Test Loss: 3.53198, Test Acc: 0.10%\n"
          ]
        },
        {
          "name": "stderr",
          "output_type": "stream",
          "text": [
            "Training... : 100%|██████████| 2238/2238 [04:46<00:00,  7.82it/s]\n",
            "Validating... : 100%|██████████| 249/249 [00:06<00:00, 40.12it/s]\n"
          ]
        },
        {
          "name": "stdout",
          "output_type": "stream",
          "text": [
            "Epoch: 4 | Loss: 3.55380, Acc: 0.10% | Test Loss: 3.23529, Test Acc: 0.11%\n",
            "Training complete in 24m 36s\n",
            "Best val Acc: 0.106083\n"
          ]
        }
      ],
      "source": [
        "criterion = nn.CrossEntropyLoss()\n",
        "\n",
        "\n",
        "optimizer_conv = optim.Adam(pt_model_fine_tune.parameters(), lr=0.01)\n",
        "exp_lr_scheduler = lr_scheduler.StepLR(optimizer_conv, step_size=50, gamma=0.5)\n",
        "\n",
        "pt_model_fine_tune = pt_model_fine_tune.to(device)\n",
        "pt_model_trained_tune_adam,best_loss,best_acc = train_model_manual(pt_model_fine_tune, criterion, optimizer_conv,exp_lr_scheduler,20,0.0,len(X_train),len(X_valid),num_epochs=5)"
      ]
    },
    {
      "cell_type": "markdown",
      "metadata": {
        "id": "oIZNQzjTXA59"
      },
      "source": [
        "so it looks like we didn't train model enough with sgd! lets try to train for tree epoches and then feed it to adam"
      ]
    },
    {
      "cell_type": "code",
      "execution_count": null,
      "metadata": {
        "colab": {
          "base_uri": "https://localhost:8080/"
        },
        "id": "xHhi-mmwW6Om",
        "outputId": "cdd89623-5a34-4400-88ea-1c54d382cfe7"
      },
      "outputs": [
        {
          "name": "stderr",
          "output_type": "stream",
          "text": [
            "Some weights of the model checkpoint at HooshvareLab/bert-fa-base-uncased were not used when initializing BertModel: ['cls.seq_relationship.weight', 'cls.predictions.transform.LayerNorm.bias', 'cls.predictions.transform.dense.bias', 'cls.predictions.decoder.weight', 'cls.predictions.transform.dense.weight', 'cls.seq_relationship.bias', 'cls.predictions.bias', 'cls.predictions.transform.LayerNorm.weight', 'cls.predictions.decoder.bias']\n",
            "- This IS expected if you are initializing BertModel from the checkpoint of a model trained on another task or with another architecture (e.g. initializing a BertForSequenceClassification model from a BertForPreTraining model).\n",
            "- This IS NOT expected if you are initializing BertModel from the checkpoint of a model that you expect to be exactly identical (initializing a BertForSequenceClassification model from a BertForSequenceClassification model).\n",
            "Training... : 100%|██████████| 2238/2238 [03:49<00:00,  9.75it/s]\n",
            "Validating... : 100%|██████████| 249/249 [00:06<00:00, 38.25it/s]\n"
          ]
        },
        {
          "name": "stdout",
          "output_type": "stream",
          "text": [
            "Epoch: 0 | Loss: 1.55912, Acc: 0.45% | Test Loss: 1.08052, Test Acc: 0.57%\n"
          ]
        },
        {
          "name": "stderr",
          "output_type": "stream",
          "text": [
            "Training... : 100%|██████████| 2238/2238 [03:47<00:00,  9.84it/s]\n",
            "Validating... : 100%|██████████| 249/249 [00:06<00:00, 38.06it/s]\n"
          ]
        },
        {
          "name": "stdout",
          "output_type": "stream",
          "text": [
            "Epoch: 1 | Loss: 1.05247, Acc: 0.64% | Test Loss: 0.56960, Test Acc: 0.64%\n"
          ]
        },
        {
          "name": "stderr",
          "output_type": "stream",
          "text": [
            "Training... : 100%|██████████| 2238/2238 [03:47<00:00,  9.85it/s]\n",
            "Validating... : 100%|██████████| 249/249 [00:06<00:00, 38.22it/s]\n"
          ]
        },
        {
          "name": "stdout",
          "output_type": "stream",
          "text": [
            "Epoch: 2 | Loss: 0.79686, Acc: 0.72% | Test Loss: 1.05942, Test Acc: 0.66%\n",
            "Training complete in 11m 44s\n",
            "Best val Acc: 0.661890\n"
          ]
        }
      ],
      "source": [
        "pt_model_fine_tune = Poet_Bert_classifier(config=config,MODEL_NAME_OR_PATH = \"HooshvareLab/bert-fa-base-uncased\",fine_tune = True )\n",
        "pt_model_fine_tune = pt_model_fine_tune.to(device)\n",
        "\n",
        "\n",
        "criterion = nn.CrossEntropyLoss()\n",
        "\n",
        "optimizer_conv = optim.SGD(pt_model_fine_tune.parameters(), lr=0.001, momentum=0.9)\n",
        "exp_lr_scheduler = lr_scheduler.StepLR(optimizer_conv, step_size=50, gamma=0.5)\n",
        "\n",
        "pt_model_fine_tune = pt_model_fine_tune.to(device)\n",
        "pt_model_fine_tune_initial,best_loss,best_acc = train_model_manual(pt_model_fine_tune, criterion, optimizer_conv,exp_lr_scheduler,20,0.0,len(X_train),len(X_valid),num_epochs=3)"
      ]
    },
    {
      "cell_type": "code",
      "execution_count": null,
      "metadata": {
        "colab": {
          "base_uri": "https://localhost:8080/"
        },
        "id": "aY4L3pmoaAgn",
        "outputId": "17850243-427d-4a77-c935-25ad40eec2d7"
      },
      "outputs": [
        {
          "name": "stderr",
          "output_type": "stream",
          "text": [
            "Training... : 100%|██████████| 2238/2238 [04:52<00:00,  7.66it/s]\n",
            "Validating... : 100%|██████████| 249/249 [00:06<00:00, 40.07it/s]\n"
          ]
        },
        {
          "name": "stdout",
          "output_type": "stream",
          "text": [
            "Epoch: 0 | Loss: 2.52806, Acc: 0.10% | Test Loss: 2.52150, Test Acc: 0.09%\n"
          ]
        },
        {
          "name": "stderr",
          "output_type": "stream",
          "text": [
            "Training... : 100%|██████████| 2238/2238 [04:50<00:00,  7.70it/s]\n",
            "Validating... : 100%|██████████| 249/249 [00:06<00:00, 40.13it/s]\n"
          ]
        },
        {
          "name": "stdout",
          "output_type": "stream",
          "text": [
            "Epoch: 1 | Loss: 2.49004, Acc: 0.10% | Test Loss: 2.37011, Test Acc: 0.11%\n"
          ]
        },
        {
          "name": "stderr",
          "output_type": "stream",
          "text": [
            "Training... : 100%|██████████| 2238/2238 [04:51<00:00,  7.69it/s]\n",
            "Validating... : 100%|██████████| 249/249 [00:06<00:00, 40.14it/s]\n"
          ]
        },
        {
          "name": "stdout",
          "output_type": "stream",
          "text": [
            "Epoch: 2 | Loss: 2.47020, Acc: 0.10% | Test Loss: 2.31082, Test Acc: 0.10%\n",
            "Training complete in 14m 52s\n",
            "Best val Acc: 0.105832\n"
          ]
        }
      ],
      "source": [
        "criterion = nn.CrossEntropyLoss()\n",
        "\n",
        "pt_model_fine_tune_initial = pt_model_fine_tune_initial.to(device)\n",
        "optimizer_conv = optim.Adam(pt_model_fine_tune_initial.parameters(), lr=0.001)\n",
        "exp_lr_scheduler = lr_scheduler.StepLR(optimizer_conv, step_size=50, gamma=0.5)\n",
        "\n",
        "pt_model_fine_tune = pt_model_fine_tune.to(device)\n",
        "pt_model_fine_tune_initial_sgd_adam,best_loss,best_acc = train_model_manual(pt_model_fine_tune_initial, criterion, optimizer_conv,exp_lr_scheduler,20,0.0,len(X_train),len(X_valid),num_epochs=3)"
      ]
    },
    {
      "cell_type": "markdown",
      "metadata": {
        "id": "JjSQsfOwhmtv"
      },
      "source": [
        "so even we give model head start, it coverge to a bad result when using adam, lets try another lr "
      ]
    },
    {
      "cell_type": "code",
      "execution_count": null,
      "metadata": {
        "colab": {
          "base_uri": "https://localhost:8080/"
        },
        "id": "FBxekXU2WH8z",
        "outputId": "f312dade-f0ba-4fd0-aa09-f2f2de181dbe"
      },
      "outputs": [
        {
          "name": "stderr",
          "output_type": "stream",
          "text": [
            "Some weights of the model checkpoint at HooshvareLab/bert-fa-base-uncased were not used when initializing BertModel: ['cls.predictions.transform.LayerNorm.bias', 'cls.predictions.transform.dense.bias', 'cls.predictions.transform.LayerNorm.weight', 'cls.predictions.decoder.weight', 'cls.predictions.bias', 'cls.predictions.decoder.bias', 'cls.predictions.transform.dense.weight', 'cls.seq_relationship.bias', 'cls.seq_relationship.weight']\n",
            "- This IS expected if you are initializing BertModel from the checkpoint of a model trained on another task or with another architecture (e.g. initializing a BertForSequenceClassification model from a BertForPreTraining model).\n",
            "- This IS NOT expected if you are initializing BertModel from the checkpoint of a model that you expect to be exactly identical (initializing a BertForSequenceClassification model from a BertForSequenceClassification model).\n"
          ]
        },
        {
          "name": "stdout",
          "output_type": "stream",
          "text": [
            "pt_model <class '__main__.Poet_Bert_classifier'>\n"
          ]
        },
        {
          "name": "stderr",
          "output_type": "stream",
          "text": [
            "Training... : 100%|██████████| 2238/2238 [04:43<00:00,  7.88it/s]\n",
            "Validating... : 100%|██████████| 249/249 [00:06<00:00, 41.20it/s]\n"
          ]
        },
        {
          "name": "stdout",
          "output_type": "stream",
          "text": [
            "Epoch: 0 | Loss: 31.26943, Acc: 0.10% | Test Loss: 17.95770, Test Acc: 0.10%\n"
          ]
        },
        {
          "name": "stderr",
          "output_type": "stream",
          "text": [
            "Training... : 100%|██████████| 2238/2238 [04:42<00:00,  7.93it/s]\n",
            "Validating... : 100%|██████████| 249/249 [00:06<00:00, 41.29it/s]\n"
          ]
        },
        {
          "name": "stdout",
          "output_type": "stream",
          "text": [
            "Epoch: 1 | Loss: 29.61175, Acc: 0.10% | Test Loss: 44.46133, Test Acc: 0.10%\n"
          ]
        },
        {
          "name": "stderr",
          "output_type": "stream",
          "text": [
            "Training... : 100%|██████████| 2238/2238 [04:42<00:00,  7.94it/s]\n",
            "Validating... : 100%|██████████| 249/249 [00:06<00:00, 41.22it/s]\n"
          ]
        },
        {
          "name": "stdout",
          "output_type": "stream",
          "text": [
            "Epoch: 2 | Loss: 29.25966, Acc: 0.10% | Test Loss: 33.69293, Test Acc: 0.11%\n"
          ]
        },
        {
          "name": "stderr",
          "output_type": "stream",
          "text": [
            "Training... : 100%|██████████| 2238/2238 [04:41<00:00,  7.94it/s]\n",
            "Validating... : 100%|██████████| 249/249 [00:06<00:00, 41.23it/s]\n"
          ]
        },
        {
          "name": "stdout",
          "output_type": "stream",
          "text": [
            "Epoch: 3 | Loss: 28.72706, Acc: 0.10% | Test Loss: 11.07724, Test Acc: 0.10%\n"
          ]
        },
        {
          "name": "stderr",
          "output_type": "stream",
          "text": [
            "Training... : 100%|██████████| 2238/2238 [04:41<00:00,  7.95it/s]\n",
            "Validating... : 100%|██████████| 249/249 [00:06<00:00, 41.25it/s]\n"
          ]
        },
        {
          "name": "stdout",
          "output_type": "stream",
          "text": [
            "Epoch: 4 | Loss: 30.38138, Acc: 0.10% | Test Loss: 43.75602, Test Acc: 0.11%\n",
            "Training complete in 24m 2s\n",
            "Best val Acc: 0.109100\n"
          ]
        }
      ],
      "source": [
        "pt_model_fine_tune = Poet_Bert_classifier(config=config,MODEL_NAME_OR_PATH = \"HooshvareLab/bert-fa-base-uncased\",fine_tune = True )\n",
        "pt_model_fine_tune = pt_model_fine_tune.to(device)\n",
        "\n",
        "print('pt_model', type(pt_model_fine_tune))\n",
        "criterion = nn.CrossEntropyLoss()\n",
        "\n",
        "\n",
        "optimizer_conv = optim.Adam(pt_model_fine_tune.parameters(), lr=0.1)\n",
        "exp_lr_scheduler = lr_scheduler.StepLR(optimizer_conv, step_size=50, gamma=0.5)\n",
        "\n",
        "pt_model_fine_tune = pt_model_fine_tune.to(device)\n",
        "pt_model_trained_tune_adam,best_loss,best_acc = train_model_manual(pt_model_fine_tune, criterion, optimizer_conv,exp_lr_scheduler,20,0.0,len(X_train),len(X_valid),num_epochs=5)"
      ]
    },
    {
      "cell_type": "code",
      "execution_count": null,
      "metadata": {
        "colab": {
          "base_uri": "https://localhost:8080/"
        },
        "id": "THzerxSrsnTm",
        "outputId": "184a7362-c329-4093-8529-4cae23b45919"
      },
      "outputs": [
        {
          "name": "stderr",
          "output_type": "stream",
          "text": [
            "Some weights of the model checkpoint at HooshvareLab/bert-fa-base-uncased were not used when initializing BertModel: ['cls.predictions.transform.LayerNorm.bias', 'cls.predictions.transform.dense.bias', 'cls.predictions.transform.LayerNorm.weight', 'cls.predictions.decoder.weight', 'cls.predictions.bias', 'cls.predictions.decoder.bias', 'cls.predictions.transform.dense.weight', 'cls.seq_relationship.bias', 'cls.seq_relationship.weight']\n",
            "- This IS expected if you are initializing BertModel from the checkpoint of a model trained on another task or with another architecture (e.g. initializing a BertForSequenceClassification model from a BertForPreTraining model).\n",
            "- This IS NOT expected if you are initializing BertModel from the checkpoint of a model that you expect to be exactly identical (initializing a BertForSequenceClassification model from a BertForSequenceClassification model).\n"
          ]
        },
        {
          "name": "stdout",
          "output_type": "stream",
          "text": [
            "pt_model <class '__main__.Poet_Bert_classifier'>\n"
          ]
        },
        {
          "name": "stderr",
          "output_type": "stream",
          "text": [
            "Training... : 100%|██████████| 2238/2238 [04:45<00:00,  7.85it/s]\n",
            "Validating... : 100%|██████████| 249/249 [00:05<00:00, 41.77it/s]\n"
          ]
        },
        {
          "name": "stdout",
          "output_type": "stream",
          "text": [
            "Epoch: 0 | Loss: 308.44058, Acc: 0.10% | Test Loss: 431.87656, Test Acc: 0.10%\n"
          ]
        },
        {
          "name": "stderr",
          "output_type": "stream",
          "text": [
            "Training... : 100%|██████████| 2238/2238 [04:41<00:00,  7.95it/s]\n",
            "Validating... : 100%|██████████| 249/249 [00:05<00:00, 41.70it/s]\n"
          ]
        },
        {
          "name": "stdout",
          "output_type": "stream",
          "text": [
            "Epoch: 1 | Loss: 290.00778, Acc: 0.10% | Test Loss: 237.90903, Test Acc: 0.10%\n"
          ]
        },
        {
          "name": "stderr",
          "output_type": "stream",
          "text": [
            "Validating... : 100%|██████████| 249/249 [00:05<00:00, 41.75it/s]\n"
          ]
        },
        {
          "name": "stdout",
          "output_type": "stream",
          "text": [
            "Epoch: 2 | Loss: 297.02570, Acc: 0.10% | Test Loss: 213.20496, Test Acc: 0.09%\n"
          ]
        },
        {
          "name": "stderr",
          "output_type": "stream",
          "text": [
            "Training... : 100%|██████████| 2238/2238 [04:41<00:00,  7.96it/s]\n",
            "Validating... : 100%|██████████| 249/249 [00:05<00:00, 41.73it/s]\n"
          ]
        },
        {
          "name": "stdout",
          "output_type": "stream",
          "text": [
            "Epoch: 3 | Loss: 300.38699, Acc: 0.10% | Test Loss: 574.50665, Test Acc: 0.11%\n"
          ]
        },
        {
          "name": "stderr",
          "output_type": "stream",
          "text": [
            "Training... : 100%|██████████| 2238/2238 [04:40<00:00,  7.97it/s]\n",
            "Validating... : 100%|██████████| 249/249 [00:05<00:00, 41.69it/s]\n"
          ]
        },
        {
          "name": "stdout",
          "output_type": "stream",
          "text": [
            "Epoch: 4 | Loss: 313.02524, Acc: 0.10% | Test Loss: 343.70135, Test Acc: 0.11%\n",
            "Training complete in 24m 0s\n",
            "Best val Acc: 0.105078\n"
          ]
        }
      ],
      "source": [
        "pt_model_fine_tune = Poet_Bert_classifier(config=config,MODEL_NAME_OR_PATH = \"HooshvareLab/bert-fa-base-uncased\",fine_tune = True )\n",
        "pt_model_fine_tune = pt_model_fine_tune.to(device)\n",
        "\n",
        "print('pt_model', type(pt_model_fine_tune))\n",
        "criterion = nn.CrossEntropyLoss()\n",
        "\n",
        "\n",
        "optimizer_conv = optim.Adam(pt_model_fine_tune.parameters(), lr=1)\n",
        "exp_lr_scheduler = lr_scheduler.StepLR(optimizer_conv, step_size=50, gamma=0.5)\n",
        "\n",
        "pt_model_fine_tune = pt_model_fine_tune.to(device)\n",
        "pt_model_trained_tune_adam,best_loss,best_acc = train_model_manual(pt_model_fine_tune, criterion, optimizer_conv,exp_lr_scheduler,20,0.0,len(X_train),len(X_valid),num_epochs=5)"
      ]
    },
    {
      "cell_type": "code",
      "execution_count": null,
      "metadata": {
        "colab": {
          "base_uri": "https://localhost:8080/"
        },
        "id": "yYrmrZrQyZm9",
        "outputId": "785d455a-f5b7-4296-abe6-d62551a02bb9"
      },
      "outputs": [
        {
          "name": "stderr",
          "output_type": "stream",
          "text": [
            "Some weights of the model checkpoint at HooshvareLab/bert-fa-base-uncased were not used when initializing BertModel: ['cls.predictions.transform.LayerNorm.bias', 'cls.predictions.transform.dense.bias', 'cls.predictions.transform.LayerNorm.weight', 'cls.predictions.decoder.weight', 'cls.predictions.bias', 'cls.predictions.decoder.bias', 'cls.predictions.transform.dense.weight', 'cls.seq_relationship.bias', 'cls.seq_relationship.weight']\n",
            "- This IS expected if you are initializing BertModel from the checkpoint of a model trained on another task or with another architecture (e.g. initializing a BertForSequenceClassification model from a BertForPreTraining model).\n",
            "- This IS NOT expected if you are initializing BertModel from the checkpoint of a model that you expect to be exactly identical (initializing a BertForSequenceClassification model from a BertForSequenceClassification model).\n"
          ]
        },
        {
          "name": "stdout",
          "output_type": "stream",
          "text": [
            "pt_model <class '__main__.Poet_Bert_classifier'>\n"
          ]
        },
        {
          "name": "stderr",
          "output_type": "stream",
          "text": [
            "Training... : 100%|██████████| 2238/2238 [04:50<00:00,  7.71it/s]\n",
            "Validating... : 100%|██████████| 249/249 [00:06<00:00, 39.92it/s]\n"
          ]
        },
        {
          "name": "stdout",
          "output_type": "stream",
          "text": [
            "Epoch: 0 | Loss: 2.30666, Acc: 0.11% | Test Loss: 2.23612, Test Acc: 0.11%\n"
          ]
        },
        {
          "name": "stderr",
          "output_type": "stream",
          "text": [
            "Training... : 100%|██████████| 2238/2238 [04:49<00:00,  7.73it/s]\n",
            "Validating... : 100%|██████████| 249/249 [00:06<00:00, 39.97it/s]\n"
          ]
        },
        {
          "name": "stdout",
          "output_type": "stream",
          "text": [
            "Epoch: 1 | Loss: 2.32988, Acc: 0.10% | Test Loss: 2.25181, Test Acc: 0.10%\n"
          ]
        },
        {
          "name": "stderr",
          "output_type": "stream",
          "text": [
            "Training... : 100%|██████████| 2238/2238 [04:49<00:00,  7.74it/s]\n",
            "Validating... : 100%|██████████| 249/249 [00:06<00:00, 39.93it/s]\n"
          ]
        },
        {
          "name": "stdout",
          "output_type": "stream",
          "text": [
            "Epoch: 2 | Loss: 2.32867, Acc: 0.10% | Test Loss: 2.34261, Test Acc: 0.11%\n"
          ]
        },
        {
          "name": "stderr",
          "output_type": "stream",
          "text": [
            "Training... : 100%|██████████| 2238/2238 [04:48<00:00,  7.75it/s]\n",
            "Validating... : 100%|██████████| 249/249 [00:06<00:00, 39.90it/s]\n"
          ]
        },
        {
          "name": "stdout",
          "output_type": "stream",
          "text": [
            "Epoch: 3 | Loss: 2.32730, Acc: 0.10% | Test Loss: 2.34490, Test Acc: 0.10%\n"
          ]
        },
        {
          "name": "stderr",
          "output_type": "stream",
          "text": [
            "Training... : 100%|██████████| 2238/2238 [04:48<00:00,  7.75it/s]\n",
            "Validating... : 100%|██████████| 249/249 [00:06<00:00, 39.85it/s]\n"
          ]
        },
        {
          "name": "stdout",
          "output_type": "stream",
          "text": [
            "Epoch: 4 | Loss: 2.32784, Acc: 0.10% | Test Loss: 2.28832, Test Acc: 0.10%\n",
            "Training complete in 24m 38s\n",
            "Best val Acc: 0.109351\n"
          ]
        }
      ],
      "source": [
        "pt_model_fine_tune = Poet_Bert_classifier(config=config,MODEL_NAME_OR_PATH = \"HooshvareLab/bert-fa-base-uncased\",fine_tune = True )\n",
        "pt_model_fine_tune = pt_model_fine_tune.to(device)\n",
        "\n",
        "print('pt_model', type(pt_model_fine_tune))\n",
        "criterion = nn.CrossEntropyLoss()\n",
        "\n",
        "\n",
        "optimizer_conv = optim.Adam(pt_model_fine_tune.parameters(), lr=0.0001)\n",
        "exp_lr_scheduler = lr_scheduler.StepLR(optimizer_conv, step_size=50, gamma=0.5)\n",
        "\n",
        "pt_model_fine_tune = pt_model_fine_tune.to(device)\n",
        "pt_model_trained_tune_adam,best_loss,best_acc = train_model_manual(pt_model_fine_tune, criterion, optimizer_conv,exp_lr_scheduler,20,0.0,len(X_train),len(X_valid),num_epochs=5)"
      ]
    },
    {
      "cell_type": "markdown",
      "metadata": {
        "id": "6hriwvxS4UiL"
      },
      "source": [
        "so when using Adam,we couldn't make it to work! and it always converged to a really bad local minimum (all random).\n",
        "for trying to get better results, we tried to initialize model with SGD (which we showed that could achive high accuracy (76%) ) but it didn't work, we also tried to achive better result by changing learning rate but it didn't work either.\n",
        "so lets train model with sgd again for next part"
      ]
    },
    {
      "cell_type": "code",
      "execution_count": null,
      "metadata": {
        "colab": {
          "base_uri": "https://localhost:8080/"
        },
        "id": "DHSiNCqO56vL",
        "outputId": "281e95eb-4082-4133-c749-f5443c85d14e"
      },
      "outputs": [
        {
          "name": "stderr",
          "output_type": "stream",
          "text": [
            "Some weights of the model checkpoint at HooshvareLab/bert-fa-base-uncased were not used when initializing BertModel: ['cls.predictions.transform.dense.bias', 'cls.predictions.transform.dense.weight', 'cls.predictions.decoder.bias', 'cls.seq_relationship.bias', 'cls.predictions.decoder.weight', 'cls.predictions.transform.LayerNorm.weight', 'cls.predictions.bias', 'cls.seq_relationship.weight', 'cls.predictions.transform.LayerNorm.bias']\n",
            "- This IS expected if you are initializing BertModel from the checkpoint of a model trained on another task or with another architecture (e.g. initializing a BertForSequenceClassification model from a BertForPreTraining model).\n",
            "- This IS NOT expected if you are initializing BertModel from the checkpoint of a model that you expect to be exactly identical (initializing a BertForSequenceClassification model from a BertForSequenceClassification model).\n"
          ]
        },
        {
          "name": "stdout",
          "output_type": "stream",
          "text": [
            "pt_model <class '__main__.Poet_Bert_classifier'>\n"
          ]
        },
        {
          "name": "stderr",
          "output_type": "stream",
          "text": [
            "Training... : 100%|██████████| 2238/2238 [03:27<00:00, 10.78it/s]\n",
            "Validating... : 100%|██████████| 249/249 [00:07<00:00, 35.35it/s]\n"
          ]
        },
        {
          "name": "stdout",
          "output_type": "stream",
          "text": [
            "Epoch: 0 | Loss: 1.84598, Acc: 0.35% | Test Loss: 1.42099, Test Acc: 0.50%\n"
          ]
        },
        {
          "name": "stderr",
          "output_type": "stream",
          "text": [
            "Training... : 100%|██████████| 2238/2238 [03:26<00:00, 10.83it/s]\n",
            "Validating... : 100%|██████████| 249/249 [00:06<00:00, 35.74it/s]\n"
          ]
        },
        {
          "name": "stdout",
          "output_type": "stream",
          "text": [
            "Epoch: 1 | Loss: 1.37505, Acc: 0.52% | Test Loss: 1.61255, Test Acc: 0.43%\n"
          ]
        },
        {
          "name": "stderr",
          "output_type": "stream",
          "text": [
            "Training... : 100%|██████████| 2238/2238 [03:26<00:00, 10.85it/s]\n",
            "Validating... : 100%|██████████| 249/249 [00:06<00:00, 35.71it/s]\n"
          ]
        },
        {
          "name": "stdout",
          "output_type": "stream",
          "text": [
            "Epoch: 2 | Loss: 1.14391, Acc: 0.60% | Test Loss: 1.02185, Test Acc: 0.58%\n"
          ]
        },
        {
          "name": "stderr",
          "output_type": "stream",
          "text": [
            "Training... : 100%|██████████| 2238/2238 [03:35<00:00, 10.38it/s]\n",
            "Validating... : 100%|██████████| 249/249 [00:07<00:00, 35.30it/s]\n"
          ]
        },
        {
          "name": "stdout",
          "output_type": "stream",
          "text": [
            "Epoch: 3 | Loss: 0.98841, Acc: 0.66% | Test Loss: 0.95753, Test Acc: 0.64%\n"
          ]
        },
        {
          "name": "stderr",
          "output_type": "stream",
          "text": [
            "Training... : 100%|██████████| 2238/2238 [03:27<00:00, 10.81it/s]\n",
            "Validating... : 100%|██████████| 249/249 [00:06<00:00, 35.78it/s]\n"
          ]
        },
        {
          "name": "stdout",
          "output_type": "stream",
          "text": [
            "Epoch: 4 | Loss: 0.86908, Acc: 0.70% | Test Loss: 1.08703, Test Acc: 0.62%\n"
          ]
        },
        {
          "name": "stderr",
          "output_type": "stream",
          "text": [
            "Training... : 100%|██████████| 2238/2238 [03:26<00:00, 10.83it/s]\n",
            "Validating... : 100%|██████████| 249/249 [00:07<00:00, 35.54it/s]\n"
          ]
        },
        {
          "name": "stdout",
          "output_type": "stream",
          "text": [
            "Epoch: 5 | Loss: 0.76251, Acc: 0.73% | Test Loss: 1.11364, Test Acc: 0.59%\n"
          ]
        },
        {
          "name": "stderr",
          "output_type": "stream",
          "text": [
            "Training... : 100%|██████████| 2238/2238 [03:27<00:00, 10.81it/s]\n",
            "Validating... : 100%|██████████| 249/249 [00:07<00:00, 33.20it/s]\n"
          ]
        },
        {
          "name": "stdout",
          "output_type": "stream",
          "text": [
            "Epoch: 6 | Loss: 0.67838, Acc: 0.76% | Test Loss: 1.42440, Test Acc: 0.57%\n",
            "Training complete in 25m 7s\n",
            "Best val Acc: 0.636249\n"
          ]
        }
      ],
      "source": [
        "pt_model_fine_tune = Poet_Bert_classifier(config=config,MODEL_NAME_OR_PATH = \"HooshvareLab/bert-fa-base-uncased\",fine_tune = True )\n",
        "pt_model_fine_tune = pt_model_fine_tune.to(device)\n",
        "\n",
        "print('pt_model', type(pt_model_fine_tune))\n",
        "criterion = nn.CrossEntropyLoss()\n",
        "\n",
        "\n",
        "optimizer_conv = optim.SGD(pt_model_fine_tune.parameters(), lr=0.001)\n",
        "exp_lr_scheduler = lr_scheduler.StepLR(optimizer_conv, step_size=50, gamma=0.5)\n",
        "\n",
        "pt_model_fine_tune = pt_model_fine_tune.to(device)\n",
        "pt_model_trained_tune_sgd,best_loss,best_acc = train_model_manual(pt_model_fine_tune, criterion, optimizer_conv,exp_lr_scheduler,20,0.0,len(X_train),len(X_valid),num_epochs=7)"
      ]
    },
    {
      "cell_type": "code",
      "execution_count": null,
      "metadata": {
        "id": "GY63yAKPfCQN"
      },
      "outputs": [],
      "source": [
        "torch.save(pt_model_trained_tune_sgd.state_dict(), '/content/drive/MyDrive/models_HW04/sgd_bert')\n"
      ]
    },
    {
      "cell_type": "code",
      "execution_count": null,
      "metadata": {
        "colab": {
          "base_uri": "https://localhost:8080/"
        },
        "id": "EM1FRbZojNOw",
        "outputId": "2e81c0e1-ee0f-4b8f-9b58-ac39e3c50787"
      },
      "outputs": [
        {
          "name": "stderr",
          "output_type": "stream",
          "text": [
            "Some weights of the model checkpoint at HooshvareLab/bert-fa-base-uncased were not used when initializing BertModel: ['cls.predictions.transform.dense.bias', 'cls.predictions.transform.dense.weight', 'cls.predictions.decoder.bias', 'cls.seq_relationship.bias', 'cls.predictions.decoder.weight', 'cls.predictions.transform.LayerNorm.weight', 'cls.predictions.bias', 'cls.seq_relationship.weight', 'cls.predictions.transform.LayerNorm.bias']\n",
            "- This IS expected if you are initializing BertModel from the checkpoint of a model trained on another task or with another architecture (e.g. initializing a BertForSequenceClassification model from a BertForPreTraining model).\n",
            "- This IS NOT expected if you are initializing BertModel from the checkpoint of a model that you expect to be exactly identical (initializing a BertForSequenceClassification model from a BertForSequenceClassification model).\n",
            "Training... : 100%|██████████| 2238/2238 [03:29<00:00, 10.69it/s]\n",
            "Validating... : 100%|██████████| 249/249 [00:07<00:00, 35.28it/s]\n"
          ]
        },
        {
          "name": "stdout",
          "output_type": "stream",
          "text": [
            "Epoch: 0 | Loss: 0.60509, Acc: 0.79% | Test Loss: 2.53901, Test Acc: 0.43%\n"
          ]
        },
        {
          "name": "stderr",
          "output_type": "stream",
          "text": [
            "Training... : 100%|██████████| 2238/2238 [03:26<00:00, 10.82it/s]\n",
            "Validating... : 100%|██████████| 249/249 [00:07<00:00, 35.46it/s]\n"
          ]
        },
        {
          "name": "stdout",
          "output_type": "stream",
          "text": [
            "Epoch: 1 | Loss: 0.53749, Acc: 0.81% | Test Loss: 0.54619, Test Acc: 0.73%\n"
          ]
        },
        {
          "name": "stderr",
          "output_type": "stream",
          "text": [
            "Training... : 100%|██████████| 2238/2238 [03:26<00:00, 10.84it/s]\n",
            "Validating... : 100%|██████████| 249/249 [00:07<00:00, 35.37it/s]\n"
          ]
        },
        {
          "name": "stdout",
          "output_type": "stream",
          "text": [
            "Epoch: 2 | Loss: 0.46398, Acc: 0.84% | Test Loss: 0.59616, Test Acc: 0.66%\n"
          ]
        },
        {
          "name": "stderr",
          "output_type": "stream",
          "text": [
            "Training... : 100%|██████████| 2238/2238 [03:26<00:00, 10.84it/s]\n",
            "Validating... : 100%|██████████| 249/249 [00:07<00:00, 35.57it/s]\n"
          ]
        },
        {
          "name": "stdout",
          "output_type": "stream",
          "text": [
            "Epoch: 3 | Loss: 0.40300, Acc: 0.86% | Test Loss: 0.84501, Test Acc: 0.74%\n"
          ]
        },
        {
          "name": "stderr",
          "output_type": "stream",
          "text": [
            "Training... : 100%|██████████| 2238/2238 [03:26<00:00, 10.84it/s]\n",
            "Validating... : 100%|██████████| 249/249 [00:07<00:00, 35.40it/s]\n"
          ]
        },
        {
          "name": "stdout",
          "output_type": "stream",
          "text": [
            "Epoch: 4 | Loss: 0.34376, Acc: 0.88% | Test Loss: 0.69646, Test Acc: 0.75%\n"
          ]
        },
        {
          "name": "stderr",
          "output_type": "stream",
          "text": [
            "Training... : 100%|██████████| 2238/2238 [03:26<00:00, 10.86it/s]\n",
            "Validating... : 100%|██████████| 249/249 [00:07<00:00, 35.57it/s]\n"
          ]
        },
        {
          "name": "stdout",
          "output_type": "stream",
          "text": [
            "Epoch: 5 | Loss: 0.29516, Acc: 0.90% | Test Loss: 0.64536, Test Acc: 0.73%\n"
          ]
        },
        {
          "name": "stderr",
          "output_type": "stream",
          "text": [
            "Training... : 100%|██████████| 2238/2238 [03:26<00:00, 10.84it/s]\n",
            "Validating... : 100%|██████████| 249/249 [00:07<00:00, 35.49it/s]\n"
          ]
        },
        {
          "name": "stdout",
          "output_type": "stream",
          "text": [
            "Epoch: 6 | Loss: 0.25166, Acc: 0.91% | Test Loss: 0.40538, Test Acc: 0.76%\n",
            "Training complete in 24m 58s\n",
            "Best val Acc: 0.757164\n"
          ]
        }
      ],
      "source": [
        "pt_model_fine_tune = Poet_Bert_classifier(config=config,MODEL_NAME_OR_PATH = \"HooshvareLab/bert-fa-base-uncased\",fine_tune = True )\n",
        "pt_model_fine_tune = pt_model_fine_tune.to(device)\n",
        "\n",
        "pt_model_fine_tune.load_state_dict(torch.load('/content/drive/MyDrive/models_HW04/sgd_bert'))\n",
        "criterion = nn.CrossEntropyLoss()\n",
        "\n",
        "\n",
        "optimizer_conv = optim.SGD(pt_model_fine_tune.parameters(), lr=0.001)\n",
        "exp_lr_scheduler = lr_scheduler.StepLR(optimizer_conv, step_size=50, gamma=0.5)\n",
        "\n",
        "pt_model_fine_tune = pt_model_fine_tune.to(device)\n",
        "pt_model_trained_tune_sgd,best_loss,best_acc = train_model_manual(pt_model_fine_tune, criterion, optimizer_conv,exp_lr_scheduler,20,0.0,len(X_train),len(X_valid),num_epochs=7)"
      ]
    },
    {
      "cell_type": "code",
      "execution_count": null,
      "metadata": {
        "id": "xcUnqAadsArQ"
      },
      "outputs": [],
      "source": [
        "torch.save(pt_model_trained_tune_sgd.state_dict(), '/content/drive/MyDrive/models_HW04/sgd_bert')\n"
      ]
    },
    {
      "cell_type": "code",
      "execution_count": null,
      "metadata": {
        "colab": {
          "base_uri": "https://localhost:8080/",
          "height": 451
        },
        "id": "-EGiHNF4fKSz",
        "outputId": "0176b92b-cd20-491d-fa4f-a0da157e791c"
      },
      "outputs": [
        {
          "name": "stderr",
          "output_type": "stream",
          "text": [
            "Calculating Train Lables... : 100%|██████████| 2238/2238 [01:14<00:00, 29.92it/s]\n"
          ]
        },
        {
          "name": "stdout",
          "output_type": "stream",
          "text": [
            "fine tuning whole model (SGD)\n",
            "\n",
            "\n",
            "accuracy score on train data: 0.9773432043581506\n",
            "f1 score(micro) on train data: 0.9773432043581506\n",
            "f1 score(macro) on train data: 0.977305950795136\n",
            "cross entropy loss on train data:0.005701124202460051\n"
          ]
        },
        {
          "data": {
            "text/plain": [
              "Text(0.5, 1.0, 'confusion matrix for train data')"
            ]
          },
          "execution_count": 35,
          "metadata": {},
          "output_type": "execute_result"
        },
        {
          "data": {
            "image/png": "[encoded data removed]",
            "text/plain": [
              "<Figure size 432x288 with 2 Axes>"
            ]
          },
          "metadata": {},
          "output_type": "display_data"
        }
      ],
      "source": [
        "# calculating labels for train,validation and test so we can calculate f1 score and plot confusion matrix\n",
        "pt_model_trained_tune_sgd.eval()\n",
        "criterion = nn.CrossEntropyLoss()\n",
        "loss = 0\n",
        "label_train = []\n",
        "\n",
        "predict_train = []\n",
        "with torch.inference_mode():\n",
        "  for dl in tqdm(train_data_loader, total=len(train_data_loader), desc=\"Calculating Train Lables... \"):\n",
        "  # 1. Forward pass\n",
        "    input_ids = dl['input_ids']\n",
        "    attention_mask = dl['attention_mask']\n",
        "    token_type_ids = dl['token_type_ids']\n",
        "    targets = dl['targets']\n",
        "    input_ids = input_ids.to(device)\n",
        "    attention_mask = attention_mask.to(device)\n",
        "    token_type_ids = token_type_ids.to(device)\n",
        "    targets = targets.to(device)\n",
        "    outputs = pt_model_trained_tune_sgd(input_ids=input_ids,attention_mask=attention_mask,token_type_ids=token_type_ids) # model outputs raw logits \n",
        "    _, preds = torch.max(outputs, 1)\n",
        "    loss_train= criterion(outputs, targets.data)\n",
        "    loss = loss + loss_train\n",
        "    label_train.append(targets.cpu().detach().numpy())\n",
        "    predict_train.append(preds.cpu().detach().numpy())\n",
        "from sklearn.datasets import make_classification\n",
        "from sklearn.metrics import accuracy_score, f1_score, precision_score, recall_score, classification_report, confusion_matrix\n",
        "label_train_f =np.concatenate( label_train, axis=0 )\n",
        "predicted_train_f = np.concatenate( predict_train, axis=0 )\n",
        "\n",
        "acc_train = accuracy_score(label_train_f,predicted_train_f)\n",
        "f1_train = f1_score(label_train_f, predicted_train_f, average=\"micro\")\n",
        "f1_train_macro = f1_score(label_train_f, predicted_train_f, average=\"macro\")\n",
        "\n",
        "print('fine tuning whole model (SGD)')\n",
        "print('\\n')\n",
        "print(f\"accuracy score on train data: {acc_train}\")\n",
        "print(f\"f1 score(micro) on train data: {f1_train}\")\n",
        "print(f\"f1 score(macro) on train data: {f1_train_macro}\")\n",
        "print(f\"cross entropy loss on train data:{loss/len(label_train_f)}\")\n",
        "from sklearn import metrics\n",
        "\n",
        "confusion_matrix = metrics.confusion_matrix(label_train_f, predicted_train_f)\n",
        "\n",
        "cm_display = metrics.ConfusionMatrixDisplay(confusion_matrix = confusion_matrix)\n",
        "\n",
        "cm_display.plot()\n",
        "plt.title('confusion matrix for train data')"
      ]
    },
    {
      "cell_type": "code",
      "execution_count": null,
      "metadata": {
        "colab": {
          "base_uri": "https://localhost:8080/",
          "height": 451
        },
        "id": "iPAXHVUsfR-p",
        "outputId": "db017a09-16b5-4820-d279-bc5b2a8b7408"
      },
      "outputs": [
        {
          "name": "stderr",
          "output_type": "stream",
          "text": [
            "Calculating Train Lables... : 100%|██████████| 249/249 [00:06<00:00, 37.36it/s]\n"
          ]
        },
        {
          "name": "stdout",
          "output_type": "stream",
          "text": [
            "fine tuning whole model (SGD)\n",
            "\n",
            "\n",
            "accuracy score on validation data: 0.7571644042232277\n",
            "f1 score (micro) on validation data: 0.7571644042232277\n",
            "f1 score (macro) on validation data: 0.7598156219986592\n",
            "cross entropy loss on validation data:0.049694616347551346\n"
          ]
        },
        {
          "data": {
            "text/plain": [
              "Text(0.5, 1.0, 'confusion matrix for validation data')"
            ]
          },
          "execution_count": 38,
          "metadata": {},
          "output_type": "execute_result"
        },
        {
          "data": {
            "image/png": "[encoded data removed]",
            "text/plain": [
              "<Figure size 432x288 with 2 Axes>"
            ]
          },
          "metadata": {},
          "output_type": "display_data"
        }
      ],
      "source": [
        "# calculating labels for train,validation and test so we can calculate f1 score and plot confusion matrix\n",
        "pt_model_trained_tune_sgd.eval()\n",
        "label_val = []\n",
        "predict_val = []\n",
        "criterion = nn.CrossEntropyLoss()\n",
        "loss = 0\n",
        "with torch.inference_mode():\n",
        "  for dl in tqdm(valid_data_loader, total=len(valid_data_loader), desc=\"Calculating Train Lables... \"):\n",
        "  # 1. Forward pass\n",
        "    input_ids = dl['input_ids']\n",
        "    attention_mask = dl['attention_mask']\n",
        "    token_type_ids = dl['token_type_ids']\n",
        "    targets = dl['targets']\n",
        "    input_ids = input_ids.to(device)\n",
        "    attention_mask = attention_mask.to(device)\n",
        "    token_type_ids = token_type_ids.to(device)\n",
        "    targets = targets.to(device)\n",
        "    outputs = pt_model_trained_tune_sgd(input_ids=input_ids,attention_mask=attention_mask,token_type_ids=token_type_ids) # model outputs raw logits \n",
        "    _, preds = torch.max(outputs, 1)\n",
        "    label_val.append(targets.cpu().detach().numpy())\n",
        "    predict_val.append(preds.cpu().detach().numpy())\n",
        "    loss_val= criterion(outputs, targets.data)\n",
        "    loss = loss + loss_val\n",
        "label_val_f =np.concatenate( label_val, axis=0 )\n",
        "predicted_val_f = np.concatenate( predict_val, axis=0 )\n",
        "\n",
        "acc_train = accuracy_score(label_val_f,predicted_val_f)\n",
        "f1_train = f1_score(label_val_f, predicted_val_f, average=\"micro\")\n",
        "f1_train_macro = f1_score(label_val_f, predicted_val_f, average=\"macro\")\n",
        "\n",
        "print('fine tuning whole model (SGD)')\n",
        "print('\\n')\n",
        "print(f\"accuracy score on validation data: {acc_train}\")\n",
        "print(f\"f1 score (micro) on validation data: {f1_train}\")\n",
        "print(f\"f1 score (macro) on validation data: {f1_train_macro}\")\n",
        "print(f\"cross entropy loss on validation data:{loss/len(label_val_f)}\")\n",
        "\n",
        "from sklearn import metrics\n",
        "\n",
        "confusion_matrix = metrics.confusion_matrix(label_val_f, predicted_val_f)\n",
        "\n",
        "cm_display = metrics.ConfusionMatrixDisplay(confusion_matrix = confusion_matrix)\n",
        "\n",
        "cm_display.plot()\n",
        "plt.title('confusion matrix for validation data')"
      ]
    },
    {
      "cell_type": "code",
      "execution_count": null,
      "metadata": {
        "colab": {
          "base_uri": "https://localhost:8080/",
          "height": 471
        },
        "id": "mlWnA269fjZT",
        "outputId": "559f5baf-be54-4f7c-c2f7-1d75fa2884e5"
      },
      "outputs": [
        {
          "name": "stderr",
          "output_type": "stream",
          "text": [
            "Calculating Train Lables... : 100%|██████████| 622/622 [00:19<00:00, 31.84it/s]"
          ]
        },
        {
          "name": "stdout",
          "output_type": "stream",
          "text": [
            "fine tuning whole model (SGD)\n",
            "\n",
            "\n",
            "accuracy score on test data: 0.7515084473049075\n",
            "f1 score (micro) on test data: 0.7515084473049074\n",
            "f1 score (macro) on test data: 0.7532371267549881\n",
            "cross entropy loss on test data:0.05231581628322601\n"
          ]
        },
        {
          "name": "stderr",
          "output_type": "stream",
          "text": [
            "\n"
          ]
        },
        {
          "data": {
            "text/plain": [
              "Text(0.5, 1.0, 'confusion matrix for test data')"
            ]
          },
          "execution_count": 39,
          "metadata": {},
          "output_type": "execute_result"
        },
        {
          "data": {
            "image/png": "[encoded data removed]",
            "text/plain": [
              "<Figure size 432x288 with 2 Axes>"
            ]
          },
          "metadata": {},
          "output_type": "display_data"
        }
      ],
      "source": [
        "# calculating labels for train,validation and test so we can calculate f1 score and plot confusion matrix\n",
        "pt_model_trained_tune_sgd.eval()\n",
        "label_test = []\n",
        "predict_test = []\n",
        "criterion = nn.CrossEntropyLoss()\n",
        "loss = 0\n",
        "with torch.inference_mode():\n",
        "  for dl in tqdm(test_data_loader, total=len(test_data_loader), desc=\"Calculating Train Lables... \"):\n",
        "  # 1. Forward pass\n",
        "    input_ids = dl['input_ids']\n",
        "    attention_mask = dl['attention_mask']\n",
        "    token_type_ids = dl['token_type_ids']\n",
        "    targets = dl['targets']\n",
        "    input_ids = input_ids.to(device)\n",
        "    attention_mask = attention_mask.to(device)\n",
        "    token_type_ids = token_type_ids.to(device)\n",
        "    targets = targets.to(device)\n",
        "    outputs = pt_model_trained_tune_sgd(input_ids=input_ids,attention_mask=attention_mask,token_type_ids=token_type_ids) # model outputs raw logits \n",
        "    _, preds = torch.max(outputs, 1)\n",
        "    label_test.append(targets.cpu().detach().numpy())\n",
        "    predict_test.append(preds.cpu().detach().numpy())\n",
        "    loss_test= criterion(outputs, targets.data)\n",
        "    loss = loss + loss_test\n",
        "label_test_f =np.concatenate( label_test, axis=0 )\n",
        "predicted_test_f = np.concatenate( predict_test, axis=0 )\n",
        "\n",
        "acc= accuracy_score(label_test_f,predicted_test_f)\n",
        "f1 = f1_score(label_test_f, predicted_test_f, average=\"micro\")\n",
        "f1_macro = f1_score(label_test_f, predicted_test_f, average=\"macro\")\n",
        "\n",
        "\n",
        "print('fine tuning whole model (SGD)')\n",
        "print('\\n')\n",
        "print(f\"accuracy score on test data: {acc}\")\n",
        "print(f\"f1 score (micro) on test data: {f1}\")\n",
        "print(f\"f1 score (macro) on test data: {f1_macro}\")\n",
        "print(f\"cross entropy loss on test data:{loss/len(label_test_f)}\")\n",
        "\n",
        "from sklearn import metrics\n",
        "\n",
        "confusion_matrix = metrics.confusion_matrix(label_test_f, predicted_test_f)\n",
        "\n",
        "cm_display = metrics.ConfusionMatrixDisplay(confusion_matrix = confusion_matrix)\n",
        "\n",
        "cm_display.plot()\n",
        "plt.title('confusion matrix for test data')"
      ]
    },
    {
      "cell_type": "markdown",
      "metadata": {
        "id": "Nfpt7E-JsnD7"
      },
      "source": [
        "## Calculatin Perplexity "
      ]
    },
    {
      "cell_type": "markdown",
      "metadata": {
        "id": "v8t-7ZWrsq48"
      },
      "source": [
        "first, lets load model and replace last layer with identity function and test an input to see results"
      ]
    },
    {
      "cell_type": "code",
      "execution_count": 38,
      "metadata": {
        "colab": {
          "base_uri": "https://localhost:8080/"
        },
        "id": "5HlrSxEUspyg",
        "outputId": "0c04d779-e7c6-4b95-9fa8-43c285610ae1"
      },
      "outputs": [
        {
          "output_type": "stream",
          "name": "stderr",
          "text": [
            "Some weights of the model checkpoint at HooshvareLab/bert-fa-base-uncased were not used when initializing BertModel: ['cls.predictions.transform.LayerNorm.bias', 'cls.seq_relationship.bias', 'cls.predictions.decoder.weight', 'cls.predictions.transform.LayerNorm.weight', 'cls.predictions.transform.dense.bias', 'cls.predictions.decoder.bias', 'cls.seq_relationship.weight', 'cls.predictions.transform.dense.weight', 'cls.predictions.bias']\n",
            "- This IS expected if you are initializing BertModel from the checkpoint of a model trained on another task or with another architecture (e.g. initializing a BertForSequenceClassification model from a BertForPreTraining model).\n",
            "- This IS NOT expected if you are initializing BertModel from the checkpoint of a model that you expect to be exactly identical (initializing a BertForSequenceClassification model from a BertForSequenceClassification model).\n"
          ]
        },
        {
          "output_type": "execute_result",
          "data": {
            "text/plain": [
              "Poet_Bert_classifier(\n",
              "  (bert): BertModel(\n",
              "    (embeddings): BertEmbeddings(\n",
              "      (word_embeddings): Embedding(100000, 768, padding_idx=0)\n",
              "      (position_embeddings): Embedding(512, 768)\n",
              "      (token_type_embeddings): Embedding(2, 768)\n",
              "      (LayerNorm): LayerNorm((768,), eps=1e-12, elementwise_affine=True)\n",
              "      (dropout): Dropout(p=0.1, inplace=False)\n",
              "    )\n",
              "    (encoder): BertEncoder(\n",
              "      (layer): ModuleList(\n",
              "        (0): BertLayer(\n",
              "          (attention): BertAttention(\n",
              "            (self): BertSelfAttention(\n",
              "              (query): Linear(in_features=768, out_features=768, bias=True)\n",
              "              (key): Linear(in_features=768, out_features=768, bias=True)\n",
              "              (value): Linear(in_features=768, out_features=768, bias=True)\n",
              "              (dropout): Dropout(p=0.1, inplace=False)\n",
              "            )\n",
              "            (output): BertSelfOutput(\n",
              "              (dense): Linear(in_features=768, out_features=768, bias=True)\n",
              "              (LayerNorm): LayerNorm((768,), eps=1e-12, elementwise_affine=True)\n",
              "              (dropout): Dropout(p=0.1, inplace=False)\n",
              "            )\n",
              "          )\n",
              "          (intermediate): BertIntermediate(\n",
              "            (dense): Linear(in_features=768, out_features=3072, bias=True)\n",
              "            (intermediate_act_fn): GELUActivation()\n",
              "          )\n",
              "          (output): BertOutput(\n",
              "            (dense): Linear(in_features=3072, out_features=768, bias=True)\n",
              "            (LayerNorm): LayerNorm((768,), eps=1e-12, elementwise_affine=True)\n",
              "            (dropout): Dropout(p=0.1, inplace=False)\n",
              "          )\n",
              "        )\n",
              "        (1): BertLayer(\n",
              "          (attention): BertAttention(\n",
              "            (self): BertSelfAttention(\n",
              "              (query): Linear(in_features=768, out_features=768, bias=True)\n",
              "              (key): Linear(in_features=768, out_features=768, bias=True)\n",
              "              (value): Linear(in_features=768, out_features=768, bias=True)\n",
              "              (dropout): Dropout(p=0.1, inplace=False)\n",
              "            )\n",
              "            (output): BertSelfOutput(\n",
              "              (dense): Linear(in_features=768, out_features=768, bias=True)\n",
              "              (LayerNorm): LayerNorm((768,), eps=1e-12, elementwise_affine=True)\n",
              "              (dropout): Dropout(p=0.1, inplace=False)\n",
              "            )\n",
              "          )\n",
              "          (intermediate): BertIntermediate(\n",
              "            (dense): Linear(in_features=768, out_features=3072, bias=True)\n",
              "            (intermediate_act_fn): GELUActivation()\n",
              "          )\n",
              "          (output): BertOutput(\n",
              "            (dense): Linear(in_features=3072, out_features=768, bias=True)\n",
              "            (LayerNorm): LayerNorm((768,), eps=1e-12, elementwise_affine=True)\n",
              "            (dropout): Dropout(p=0.1, inplace=False)\n",
              "          )\n",
              "        )\n",
              "        (2): BertLayer(\n",
              "          (attention): BertAttention(\n",
              "            (self): BertSelfAttention(\n",
              "              (query): Linear(in_features=768, out_features=768, bias=True)\n",
              "              (key): Linear(in_features=768, out_features=768, bias=True)\n",
              "              (value): Linear(in_features=768, out_features=768, bias=True)\n",
              "              (dropout): Dropout(p=0.1, inplace=False)\n",
              "            )\n",
              "            (output): BertSelfOutput(\n",
              "              (dense): Linear(in_features=768, out_features=768, bias=True)\n",
              "              (LayerNorm): LayerNorm((768,), eps=1e-12, elementwise_affine=True)\n",
              "              (dropout): Dropout(p=0.1, inplace=False)\n",
              "            )\n",
              "          )\n",
              "          (intermediate): BertIntermediate(\n",
              "            (dense): Linear(in_features=768, out_features=3072, bias=True)\n",
              "            (intermediate_act_fn): GELUActivation()\n",
              "          )\n",
              "          (output): BertOutput(\n",
              "            (dense): Linear(in_features=3072, out_features=768, bias=True)\n",
              "            (LayerNorm): LayerNorm((768,), eps=1e-12, elementwise_affine=True)\n",
              "            (dropout): Dropout(p=0.1, inplace=False)\n",
              "          )\n",
              "        )\n",
              "        (3): BertLayer(\n",
              "          (attention): BertAttention(\n",
              "            (self): BertSelfAttention(\n",
              "              (query): Linear(in_features=768, out_features=768, bias=True)\n",
              "              (key): Linear(in_features=768, out_features=768, bias=True)\n",
              "              (value): Linear(in_features=768, out_features=768, bias=True)\n",
              "              (dropout): Dropout(p=0.1, inplace=False)\n",
              "            )\n",
              "            (output): BertSelfOutput(\n",
              "              (dense): Linear(in_features=768, out_features=768, bias=True)\n",
              "              (LayerNorm): LayerNorm((768,), eps=1e-12, elementwise_affine=True)\n",
              "              (dropout): Dropout(p=0.1, inplace=False)\n",
              "            )\n",
              "          )\n",
              "          (intermediate): BertIntermediate(\n",
              "            (dense): Linear(in_features=768, out_features=3072, bias=True)\n",
              "            (intermediate_act_fn): GELUActivation()\n",
              "          )\n",
              "          (output): BertOutput(\n",
              "            (dense): Linear(in_features=3072, out_features=768, bias=True)\n",
              "            (LayerNorm): LayerNorm((768,), eps=1e-12, elementwise_affine=True)\n",
              "            (dropout): Dropout(p=0.1, inplace=False)\n",
              "          )\n",
              "        )\n",
              "        (4): BertLayer(\n",
              "          (attention): BertAttention(\n",
              "            (self): BertSelfAttention(\n",
              "              (query): Linear(in_features=768, out_features=768, bias=True)\n",
              "              (key): Linear(in_features=768, out_features=768, bias=True)\n",
              "              (value): Linear(in_features=768, out_features=768, bias=True)\n",
              "              (dropout): Dropout(p=0.1, inplace=False)\n",
              "            )\n",
              "            (output): BertSelfOutput(\n",
              "              (dense): Linear(in_features=768, out_features=768, bias=True)\n",
              "              (LayerNorm): LayerNorm((768,), eps=1e-12, elementwise_affine=True)\n",
              "              (dropout): Dropout(p=0.1, inplace=False)\n",
              "            )\n",
              "          )\n",
              "          (intermediate): BertIntermediate(\n",
              "            (dense): Linear(in_features=768, out_features=3072, bias=True)\n",
              "            (intermediate_act_fn): GELUActivation()\n",
              "          )\n",
              "          (output): BertOutput(\n",
              "            (dense): Linear(in_features=3072, out_features=768, bias=True)\n",
              "            (LayerNorm): LayerNorm((768,), eps=1e-12, elementwise_affine=True)\n",
              "            (dropout): Dropout(p=0.1, inplace=False)\n",
              "          )\n",
              "        )\n",
              "        (5): BertLayer(\n",
              "          (attention): BertAttention(\n",
              "            (self): BertSelfAttention(\n",
              "              (query): Linear(in_features=768, out_features=768, bias=True)\n",
              "              (key): Linear(in_features=768, out_features=768, bias=True)\n",
              "              (value): Linear(in_features=768, out_features=768, bias=True)\n",
              "              (dropout): Dropout(p=0.1, inplace=False)\n",
              "            )\n",
              "            (output): BertSelfOutput(\n",
              "              (dense): Linear(in_features=768, out_features=768, bias=True)\n",
              "              (LayerNorm): LayerNorm((768,), eps=1e-12, elementwise_affine=True)\n",
              "              (dropout): Dropout(p=0.1, inplace=False)\n",
              "            )\n",
              "          )\n",
              "          (intermediate): BertIntermediate(\n",
              "            (dense): Linear(in_features=768, out_features=3072, bias=True)\n",
              "            (intermediate_act_fn): GELUActivation()\n",
              "          )\n",
              "          (output): BertOutput(\n",
              "            (dense): Linear(in_features=3072, out_features=768, bias=True)\n",
              "            (LayerNorm): LayerNorm((768,), eps=1e-12, elementwise_affine=True)\n",
              "            (dropout): Dropout(p=0.1, inplace=False)\n",
              "          )\n",
              "        )\n",
              "        (6): BertLayer(\n",
              "          (attention): BertAttention(\n",
              "            (self): BertSelfAttention(\n",
              "              (query): Linear(in_features=768, out_features=768, bias=True)\n",
              "              (key): Linear(in_features=768, out_features=768, bias=True)\n",
              "              (value): Linear(in_features=768, out_features=768, bias=True)\n",
              "              (dropout): Dropout(p=0.1, inplace=False)\n",
              "            )\n",
              "            (output): BertSelfOutput(\n",
              "              (dense): Linear(in_features=768, out_features=768, bias=True)\n",
              "              (LayerNorm): LayerNorm((768,), eps=1e-12, elementwise_affine=True)\n",
              "              (dropout): Dropout(p=0.1, inplace=False)\n",
              "            )\n",
              "          )\n",
              "          (intermediate): BertIntermediate(\n",
              "            (dense): Linear(in_features=768, out_features=3072, bias=True)\n",
              "            (intermediate_act_fn): GELUActivation()\n",
              "          )\n",
              "          (output): BertOutput(\n",
              "            (dense): Linear(in_features=3072, out_features=768, bias=True)\n",
              "            (LayerNorm): LayerNorm((768,), eps=1e-12, elementwise_affine=True)\n",
              "            (dropout): Dropout(p=0.1, inplace=False)\n",
              "          )\n",
              "        )\n",
              "        (7): BertLayer(\n",
              "          (attention): BertAttention(\n",
              "            (self): BertSelfAttention(\n",
              "              (query): Linear(in_features=768, out_features=768, bias=True)\n",
              "              (key): Linear(in_features=768, out_features=768, bias=True)\n",
              "              (value): Linear(in_features=768, out_features=768, bias=True)\n",
              "              (dropout): Dropout(p=0.1, inplace=False)\n",
              "            )\n",
              "            (output): BertSelfOutput(\n",
              "              (dense): Linear(in_features=768, out_features=768, bias=True)\n",
              "              (LayerNorm): LayerNorm((768,), eps=1e-12, elementwise_affine=True)\n",
              "              (dropout): Dropout(p=0.1, inplace=False)\n",
              "            )\n",
              "          )\n",
              "          (intermediate): BertIntermediate(\n",
              "            (dense): Linear(in_features=768, out_features=3072, bias=True)\n",
              "            (intermediate_act_fn): GELUActivation()\n",
              "          )\n",
              "          (output): BertOutput(\n",
              "            (dense): Linear(in_features=3072, out_features=768, bias=True)\n",
              "            (LayerNorm): LayerNorm((768,), eps=1e-12, elementwise_affine=True)\n",
              "            (dropout): Dropout(p=0.1, inplace=False)\n",
              "          )\n",
              "        )\n",
              "        (8): BertLayer(\n",
              "          (attention): BertAttention(\n",
              "            (self): BertSelfAttention(\n",
              "              (query): Linear(in_features=768, out_features=768, bias=True)\n",
              "              (key): Linear(in_features=768, out_features=768, bias=True)\n",
              "              (value): Linear(in_features=768, out_features=768, bias=True)\n",
              "              (dropout): Dropout(p=0.1, inplace=False)\n",
              "            )\n",
              "            (output): BertSelfOutput(\n",
              "              (dense): Linear(in_features=768, out_features=768, bias=True)\n",
              "              (LayerNorm): LayerNorm((768,), eps=1e-12, elementwise_affine=True)\n",
              "              (dropout): Dropout(p=0.1, inplace=False)\n",
              "            )\n",
              "          )\n",
              "          (intermediate): BertIntermediate(\n",
              "            (dense): Linear(in_features=768, out_features=3072, bias=True)\n",
              "            (intermediate_act_fn): GELUActivation()\n",
              "          )\n",
              "          (output): BertOutput(\n",
              "            (dense): Linear(in_features=3072, out_features=768, bias=True)\n",
              "            (LayerNorm): LayerNorm((768,), eps=1e-12, elementwise_affine=True)\n",
              "            (dropout): Dropout(p=0.1, inplace=False)\n",
              "          )\n",
              "        )\n",
              "        (9): BertLayer(\n",
              "          (attention): BertAttention(\n",
              "            (self): BertSelfAttention(\n",
              "              (query): Linear(in_features=768, out_features=768, bias=True)\n",
              "              (key): Linear(in_features=768, out_features=768, bias=True)\n",
              "              (value): Linear(in_features=768, out_features=768, bias=True)\n",
              "              (dropout): Dropout(p=0.1, inplace=False)\n",
              "            )\n",
              "            (output): BertSelfOutput(\n",
              "              (dense): Linear(in_features=768, out_features=768, bias=True)\n",
              "              (LayerNorm): LayerNorm((768,), eps=1e-12, elementwise_affine=True)\n",
              "              (dropout): Dropout(p=0.1, inplace=False)\n",
              "            )\n",
              "          )\n",
              "          (intermediate): BertIntermediate(\n",
              "            (dense): Linear(in_features=768, out_features=3072, bias=True)\n",
              "            (intermediate_act_fn): GELUActivation()\n",
              "          )\n",
              "          (output): BertOutput(\n",
              "            (dense): Linear(in_features=3072, out_features=768, bias=True)\n",
              "            (LayerNorm): LayerNorm((768,), eps=1e-12, elementwise_affine=True)\n",
              "            (dropout): Dropout(p=0.1, inplace=False)\n",
              "          )\n",
              "        )\n",
              "        (10): BertLayer(\n",
              "          (attention): BertAttention(\n",
              "            (self): BertSelfAttention(\n",
              "              (query): Linear(in_features=768, out_features=768, bias=True)\n",
              "              (key): Linear(in_features=768, out_features=768, bias=True)\n",
              "              (value): Linear(in_features=768, out_features=768, bias=True)\n",
              "              (dropout): Dropout(p=0.1, inplace=False)\n",
              "            )\n",
              "            (output): BertSelfOutput(\n",
              "              (dense): Linear(in_features=768, out_features=768, bias=True)\n",
              "              (LayerNorm): LayerNorm((768,), eps=1e-12, elementwise_affine=True)\n",
              "              (dropout): Dropout(p=0.1, inplace=False)\n",
              "            )\n",
              "          )\n",
              "          (intermediate): BertIntermediate(\n",
              "            (dense): Linear(in_features=768, out_features=3072, bias=True)\n",
              "            (intermediate_act_fn): GELUActivation()\n",
              "          )\n",
              "          (output): BertOutput(\n",
              "            (dense): Linear(in_features=3072, out_features=768, bias=True)\n",
              "            (LayerNorm): LayerNorm((768,), eps=1e-12, elementwise_affine=True)\n",
              "            (dropout): Dropout(p=0.1, inplace=False)\n",
              "          )\n",
              "        )\n",
              "        (11): BertLayer(\n",
              "          (attention): BertAttention(\n",
              "            (self): BertSelfAttention(\n",
              "              (query): Linear(in_features=768, out_features=768, bias=True)\n",
              "              (key): Linear(in_features=768, out_features=768, bias=True)\n",
              "              (value): Linear(in_features=768, out_features=768, bias=True)\n",
              "              (dropout): Dropout(p=0.1, inplace=False)\n",
              "            )\n",
              "            (output): BertSelfOutput(\n",
              "              (dense): Linear(in_features=768, out_features=768, bias=True)\n",
              "              (LayerNorm): LayerNorm((768,), eps=1e-12, elementwise_affine=True)\n",
              "              (dropout): Dropout(p=0.1, inplace=False)\n",
              "            )\n",
              "          )\n",
              "          (intermediate): BertIntermediate(\n",
              "            (dense): Linear(in_features=768, out_features=3072, bias=True)\n",
              "            (intermediate_act_fn): GELUActivation()\n",
              "          )\n",
              "          (output): BertOutput(\n",
              "            (dense): Linear(in_features=3072, out_features=768, bias=True)\n",
              "            (LayerNorm): LayerNorm((768,), eps=1e-12, elementwise_affine=True)\n",
              "            (dropout): Dropout(p=0.1, inplace=False)\n",
              "          )\n",
              "        )\n",
              "      )\n",
              "    )\n",
              "    (pooler): BertPooler(\n",
              "      (dense): Linear(in_features=768, out_features=768, bias=True)\n",
              "      (activation): Tanh()\n",
              "    )\n",
              "  )\n",
              "  (dropout): Dropout(p=0.1, inplace=False)\n",
              "  (classifier): Linear(in_features=768, out_features=10, bias=True)\n",
              ")"
            ]
          },
          "metadata": {},
          "execution_count": 38
        }
      ],
      "source": [
        "pt_model_fine_tune = Poet_Bert_classifier(config=config,MODEL_NAME_OR_PATH = \"HooshvareLab/bert-fa-base-uncased\",fine_tune = True )\n",
        "pt_model_fine_tune = pt_model_fine_tune.to(device)\n",
        "\n",
        "pt_model_fine_tune.load_state_dict(torch.load('/content/drive/MyDrive/models_HW04/sgd_bert'))\n",
        "pt_model_fine_tune.eval()"
      ]
    },
    {
      "cell_type": "code",
      "execution_count": null,
      "metadata": {
        "id": "tL5jguHHtlpF"
      },
      "outputs": [],
      "source": [
        "class Identity(nn.Module):\n",
        "    def __init__(self):\n",
        "        super(Identity, self).__init__()\n",
        "        \n",
        "    def forward(self, x):\n",
        "        return x\n",
        "\n",
        "\n",
        "pt_model_fine_tune.classifier = Identity()"
      ]
    },
    {
      "cell_type": "code",
      "execution_count": null,
      "metadata": {
        "colab": {
          "base_uri": "https://localhost:8080/"
        },
        "id": "7tIZK4RouHhp",
        "outputId": "0a812ebf-54af-41c7-adc2-e2b3727221d3"
      },
      "outputs": [
        {
          "name": "stdout",
          "output_type": "stream",
          "text": [
            "آنجا که بر آسمان پرد مردم نازش نسزد بر اشهب و ادهم\n",
            "torch.Size([28])\n",
            "tensor([    2,  4065,  2800,  2801,  6876,  3275,  3155,  7419,  2014,  3084,\n",
            "         3181,  2801, 57294,  2016,  1379, 51766,     4,     0,     0,     0,\n",
            "            0,     0,     0,     0,     0,     0,     0,     0])\n",
            "torch.Size([28])\n",
            "tensor([1, 1, 1, 1, 1, 1, 1, 1, 1, 1, 1, 1, 1, 1, 1, 1, 1, 0, 0, 0, 0, 0, 0, 0,\n",
            "        0, 0, 0, 0])\n",
            "torch.Size([28])\n",
            "tensor([0, 0, 0, 0, 0, 0, 0, 0, 0, 0, 0, 0, 0, 0, 0, 0, 0, 0, 0, 0, 0, 0, 0, 0,\n",
            "        0, 0, 0, 0])\n",
            "torch.Size([])\n",
            "tensor(8)\n",
            "torch.Size([1, 768])\n"
          ]
        }
      ],
      "source": [
        "dataset = poet_dataset(\n",
        "        data=X_train,\n",
        "        labels=y_train,\n",
        "        tokenizer=tokenizer,\n",
        "        max_len=MAX_LEN,)\n",
        "sample_data = dataset[0]\n",
        "print(sample_data['poet'])\n",
        "print(sample_data['input_ids'].shape)\n",
        "print(sample_data['input_ids'])\n",
        "print(sample_data['attention_mask'].shape)\n",
        "print(sample_data['attention_mask'])\n",
        "print(sample_data['token_type_ids'].shape)\n",
        "print(sample_data['token_type_ids'])\n",
        "print(sample_data['targets'].shape)\n",
        "print(sample_data['targets'])\n",
        "train_data_loader = DataLoader(dataset,batch_size = 1,shuffle = True)\n",
        "sample_data = next(iter(train_data_loader))\n",
        "\n",
        "input_ids = sample_data['input_ids']\n",
        "attention_mask = sample_data['attention_mask']\n",
        "token_type_ids = sample_data['token_type_ids']\n",
        "targets = sample_data['targets']\n",
        "input_ids = input_ids.to(device)\n",
        "attention_mask = attention_mask.to(device)\n",
        "token_type_ids = token_type_ids.to(device)\n",
        "targets = targets.to(device)\n",
        "outputs = pt_model_fine_tune(input_ids=input_ids,attention_mask=attention_mask,token_type_ids=token_type_ids) # model outputs raw logits \n",
        "print(outputs.shape)"
      ]
    },
    {
      "cell_type": "markdown",
      "metadata": {
        "id": "wWMX6hZRWPvu"
      },
      "source": [
        "as we can see, output is shape of 768, which is hidden state units so we need real head for calculating output probabilities!"
      ]
    },
    {
      "cell_type": "code",
      "execution_count": null,
      "metadata": {
        "id": "Os7fBHz13ihq"
      },
      "outputs": [],
      "source": [
        "\n",
        "encoding = tokenizer(X[0], return_tensors=\"pt\")\n",
        "encoding = encoding.to(device)\n",
        "outputs = pt_model_fine_tune(**encoding)"
      ]
    },
    {
      "cell_type": "markdown",
      "metadata": {
        "id": "HaEG1ytPYWgm"
      },
      "source": [
        "for original model, we can use evaluate library to get output preploxity"
      ]
    },
    {
      "cell_type": "code",
      "execution_count": 40,
      "metadata": {
        "colab": {
          "base_uri": "https://localhost:8080/",
          "height": 1000
        },
        "id": "_r27_lUTzTMv",
        "outputId": "48687eda-66f2-4635-e325-4360b8df1bb1"
      },
      "outputs": [
        {
          "output_type": "stream",
          "name": "stdout",
          "text": [
            "Looking in indexes: https://pypi.org/simple, https://us-python.pkg.dev/colab-wheels/public/simple/\n",
            "Collecting evaluate\n",
            "  Downloading evaluate-0.4.0-py3-none-any.whl (81 kB)\n",
            "\u001b[2K     \u001b[90m━━━━━━━━━━━━━━━━━━━━━━━━━━━━━━━━━━━━━━━━\u001b[0m \u001b[32m81.4/81.4 KB\u001b[0m \u001b[31m8.5 MB/s\u001b[0m eta \u001b[36m0:00:00\u001b[0m\n",
            "\u001b[?25hRequirement already satisfied: fsspec[http]>=2021.05.0 in /usr/local/lib/python3.8/dist-packages (from evaluate) (2023.1.0)\n",
            "Collecting xxhash\n",
            "  Downloading xxhash-3.2.0-cp38-cp38-manylinux_2_17_x86_64.manylinux2014_x86_64.whl (213 kB)\n",
            "\u001b[2K     \u001b[90m━━━━━━━━━━━━━━━━━━━━━━━━━━━━━━━━━━━━━━\u001b[0m \u001b[32m213.0/213.0 KB\u001b[0m \u001b[31m15.4 MB/s\u001b[0m eta \u001b[36m0:00:00\u001b[0m\n",
            "\u001b[?25hRequirement already satisfied: numpy>=1.17 in /usr/local/lib/python3.8/dist-packages (from evaluate) (1.21.6)\n",
            "Collecting datasets>=2.0.0\n",
            "  Downloading datasets-2.9.0-py3-none-any.whl (462 kB)\n",
            "\u001b[2K     \u001b[90m━━━━━━━━━━━━━━━━━━━━━━━━━━━━━━━━━━━━━━\u001b[0m \u001b[32m462.8/462.8 KB\u001b[0m \u001b[31m32.2 MB/s\u001b[0m eta \u001b[36m0:00:00\u001b[0m\n",
            "\u001b[?25hRequirement already satisfied: tqdm>=4.62.1 in /usr/local/lib/python3.8/dist-packages (from evaluate) (4.64.1)\n",
            "Collecting responses<0.19\n",
            "  Downloading responses-0.18.0-py3-none-any.whl (38 kB)\n",
            "Collecting multiprocess\n",
            "  Downloading multiprocess-0.70.14-py38-none-any.whl (132 kB)\n",
            "\u001b[2K     \u001b[90m━━━━━━━━━━━━━━━━━━━━━━━━━━━━━━━━━━━━━━\u001b[0m \u001b[32m132.0/132.0 KB\u001b[0m \u001b[31m14.8 MB/s\u001b[0m eta \u001b[36m0:00:00\u001b[0m\n",
            "\u001b[?25hRequirement already satisfied: dill in /usr/local/lib/python3.8/dist-packages (from evaluate) (0.3.6)\n",
            "Requirement already satisfied: huggingface-hub>=0.7.0 in /usr/local/lib/python3.8/dist-packages (from evaluate) (0.12.0)\n",
            "Requirement already satisfied: pandas in /usr/local/lib/python3.8/dist-packages (from evaluate) (1.3.5)\n",
            "Requirement already satisfied: packaging in /usr/local/lib/python3.8/dist-packages (from evaluate) (23.0)\n",
            "Requirement already satisfied: requests>=2.19.0 in /usr/local/lib/python3.8/dist-packages (from evaluate) (2.25.1)\n",
            "Requirement already satisfied: pyyaml>=5.1 in /usr/local/lib/python3.8/dist-packages (from datasets>=2.0.0->evaluate) (6.0)\n",
            "Requirement already satisfied: pyarrow>=6.0.0 in /usr/local/lib/python3.8/dist-packages (from datasets>=2.0.0->evaluate) (9.0.0)\n",
            "Requirement already satisfied: aiohttp in /usr/local/lib/python3.8/dist-packages (from datasets>=2.0.0->evaluate) (3.8.3)\n",
            "Requirement already satisfied: typing-extensions>=3.7.4.3 in /usr/local/lib/python3.8/dist-packages (from huggingface-hub>=0.7.0->evaluate) (4.4.0)\n",
            "Requirement already satisfied: filelock in /usr/local/lib/python3.8/dist-packages (from huggingface-hub>=0.7.0->evaluate) (3.9.0)\n",
            "Requirement already satisfied: chardet<5,>=3.0.2 in /usr/local/lib/python3.8/dist-packages (from requests>=2.19.0->evaluate) (4.0.0)\n",
            "Requirement already satisfied: certifi>=2017.4.17 in /usr/local/lib/python3.8/dist-packages (from requests>=2.19.0->evaluate) (2022.12.7)\n",
            "Requirement already satisfied: urllib3<1.27,>=1.21.1 in /usr/local/lib/python3.8/dist-packages (from requests>=2.19.0->evaluate) (1.24.3)\n",
            "Requirement already satisfied: idna<3,>=2.5 in /usr/local/lib/python3.8/dist-packages (from requests>=2.19.0->evaluate) (2.10)\n",
            "Collecting urllib3<1.27,>=1.21.1\n",
            "  Downloading urllib3-1.26.14-py2.py3-none-any.whl (140 kB)\n",
            "\u001b[2K     \u001b[90m━━━━━━━━━━━━━━━━━━━━━━━━━━━━━━━━━━━━━━\u001b[0m \u001b[32m140.6/140.6 KB\u001b[0m \u001b[31m13.0 MB/s\u001b[0m eta \u001b[36m0:00:00\u001b[0m\n",
            "\u001b[?25hRequirement already satisfied: pytz>=2017.3 in /usr/local/lib/python3.8/dist-packages (from pandas->evaluate) (2022.7.1)\n",
            "Requirement already satisfied: python-dateutil>=2.7.3 in /usr/local/lib/python3.8/dist-packages (from pandas->evaluate) (2.8.2)\n",
            "Requirement already satisfied: multidict<7.0,>=4.5 in /usr/local/lib/python3.8/dist-packages (from aiohttp->datasets>=2.0.0->evaluate) (6.0.4)\n",
            "Requirement already satisfied: frozenlist>=1.1.1 in /usr/local/lib/python3.8/dist-packages (from aiohttp->datasets>=2.0.0->evaluate) (1.3.3)\n",
            "Requirement already satisfied: aiosignal>=1.1.2 in /usr/local/lib/python3.8/dist-packages (from aiohttp->datasets>=2.0.0->evaluate) (1.3.1)\n",
            "Requirement already satisfied: async-timeout<5.0,>=4.0.0a3 in /usr/local/lib/python3.8/dist-packages (from aiohttp->datasets>=2.0.0->evaluate) (4.0.2)\n",
            "Requirement already satisfied: charset-normalizer<3.0,>=2.0 in /usr/local/lib/python3.8/dist-packages (from aiohttp->datasets>=2.0.0->evaluate) (2.1.1)\n",
            "Requirement already satisfied: yarl<2.0,>=1.0 in /usr/local/lib/python3.8/dist-packages (from aiohttp->datasets>=2.0.0->evaluate) (1.8.2)\n",
            "Requirement already satisfied: attrs>=17.3.0 in /usr/local/lib/python3.8/dist-packages (from aiohttp->datasets>=2.0.0->evaluate) (22.2.0)\n",
            "Requirement already satisfied: six>=1.5 in /usr/local/lib/python3.8/dist-packages (from python-dateutil>=2.7.3->pandas->evaluate) (1.15.0)\n",
            "Installing collected packages: xxhash, urllib3, multiprocess, responses, datasets, evaluate\n",
            "  Attempting uninstall: urllib3\n",
            "    Found existing installation: urllib3 1.24.3\n",
            "    Uninstalling urllib3-1.24.3:\n",
            "      Successfully uninstalled urllib3-1.24.3\n",
            "Successfully installed datasets-2.9.0 evaluate-0.4.0 multiprocess-0.70.14 responses-0.18.0 urllib3-1.26.14 xxhash-3.2.0\n"
          ]
        },
        {
          "output_type": "display_data",
          "data": {
            "application/vnd.colab-display-data+json": {
              "pip_warning": {
                "packages": [
                  "urllib3"
                ]
              }
            }
          },
          "metadata": {}
        }
      ],
      "source": [
        "!pip install evaluate"
      ]
    },
    {
      "cell_type": "markdown",
      "metadata": {
        "id": "F3tAZ_ymZGD7"
      },
      "source": [
        "we have shuffled X data, so if we choose first 1000 samples, they are in random order so we directly give them to evaluation model"
      ]
    },
    {
      "cell_type": "code",
      "execution_count": 48,
      "metadata": {
        "colab": {
          "base_uri": "https://localhost:8080/",
          "height": 190,
          "referenced_widgets": [
            "5914abefb3f2496abbb40ebd241f7ea8",
            "1e92ba78cf8a4a85873c4128e478b697",
            "c695a15c10bf46ad99335c19e5bf6db5",
            "7eac86120a4d4af88bdd3c56ca4c0def",
            "82609aea238845aa96cadbd02d1b95a8",
            "e3f8860a0e194719b34a57a9adb93a59",
            "29ab848dde7647b1a9ff50826224668d",
            "fb7fe4c54b744cefba04fa72ff6b6274",
            "e9d4d234ecf84cee944e10bb3c14535c",
            "78ff67bc0d40426e88f7c5de8846c784",
            "6e56fc81b82847b6b54dbfcaec3c3823"
          ]
        },
        "id": "0MDzT8rIvKVB",
        "outputId": "f944c0d8-95f8-47a2-9e7a-8d9842e54926"
      },
      "outputs": [
        {
          "output_type": "stream",
          "name": "stderr",
          "text": [
            "If you want to use `BertLMHeadModel` as a standalone, add `is_decoder=True.`\n",
            "Some weights of the model checkpoint at HooshvareLab/bert-fa-base-uncased were not used when initializing BertLMHeadModel: ['cls.seq_relationship.bias', 'cls.seq_relationship.weight']\n",
            "- This IS expected if you are initializing BertLMHeadModel from the checkpoint of a model trained on another task or with another architecture (e.g. initializing a BertForSequenceClassification model from a BertForPreTraining model).\n",
            "- This IS NOT expected if you are initializing BertLMHeadModel from the checkpoint of a model that you expect to be exactly identical (initializing a BertForSequenceClassification model from a BertForSequenceClassification model).\n"
          ]
        },
        {
          "output_type": "display_data",
          "data": {
            "text/plain": [
              "  0%|          | 0/63 [00:00<?, ?it/s]"
            ],
            "application/vnd.jupyter.widget-view+json": {
              "version_major": 2,
              "version_minor": 0,
              "model_id": "5914abefb3f2496abbb40ebd241f7ea8"
            }
          },
          "metadata": {}
        },
        {
          "output_type": "stream",
          "name": "stdout",
          "text": [
            "\n",
            "\n",
            "mean perplexity = 3269764.9991378095\n"
          ]
        }
      ],
      "source": [
        "from evaluate import load\n",
        "perplexity = load(\"perplexity\", module_type=\"metric\")\n",
        "\n",
        "input_texts = X[1:1000]\n",
        "results = perplexity.compute(model_id= \"HooshvareLab/bert-fa-base-uncased\",\n",
        "                             add_start_token=False,\n",
        "                             predictions=input_texts)\n",
        "print('\\n')\n",
        "print(f\"mean perplexity = {results['mean_perplexity']}\")"
      ]
    },
    {
      "cell_type": "markdown",
      "source": [
        "now for fine tuned model"
      ],
      "metadata": {
        "id": "2zGEowqsyZt1"
      }
    },
    {
      "cell_type": "code",
      "source": [
        "pt_model_fine_tune = Poet_Bert_classifier(config=config,MODEL_NAME_OR_PATH = \"HooshvareLab/bert-fa-base-uncased\",fine_tune = True )\n",
        "pt_model_fine_tune = pt_model_fine_tune.to(device)\n",
        "\n",
        "pt_model_fine_tune.load_state_dict(torch.load('/content/drive/MyDrive/models_HW04/sgd_bert'))\n",
        "\n",
        "pt_model_fine_tune.eval()\n",
        "bert_fine_tune = pt_model_fine_tune.bert"
      ],
      "metadata": {
        "colab": {
          "base_uri": "https://localhost:8080/"
        },
        "id": "bsccS5RPYA20",
        "outputId": "8113f4ec-2617-4857-a2c8-99d45f760fb5"
      },
      "execution_count": 39,
      "outputs": [
        {
          "output_type": "stream",
          "name": "stderr",
          "text": [
            "Some weights of the model checkpoint at HooshvareLab/bert-fa-base-uncased were not used when initializing BertModel: ['cls.predictions.transform.LayerNorm.bias', 'cls.seq_relationship.bias', 'cls.predictions.decoder.weight', 'cls.predictions.transform.LayerNorm.weight', 'cls.predictions.transform.dense.bias', 'cls.predictions.decoder.bias', 'cls.seq_relationship.weight', 'cls.predictions.transform.dense.weight', 'cls.predictions.bias']\n",
            "- This IS expected if you are initializing BertModel from the checkpoint of a model trained on another task or with another architecture (e.g. initializing a BertForSequenceClassification model from a BertForPreTraining model).\n",
            "- This IS NOT expected if you are initializing BertModel from the checkpoint of a model that you expect to be exactly identical (initializing a BertForSequenceClassification model from a BertForSequenceClassification model).\n"
          ]
        }
      ]
    },
    {
      "cell_type": "code",
      "source": [
        "bert_fine_tune.save_pretrained('/content/config_folder')\n",
        "tokenizer.save_pretrained('/content/config_folder')\n",
        "from evaluate import load\n",
        "perplexity = load(\"perplexity\", module_type=\"metric\")\n",
        "\n",
        "input_texts = X[1:1000]\n",
        "results = perplexity.compute(model_id= \"/content/config_folder\",\n",
        "                             add_start_token=False,\n",
        "                             predictions=input_texts)\n",
        "print('\\n')\n",
        "print(f\"mean perplexity after fine-tuning = {results['mean_perplexity']}\")"
      ],
      "metadata": {
        "colab": {
          "base_uri": "https://localhost:8080/",
          "height": 173,
          "referenced_widgets": [
            "0efc7bc61e154e94a0796798bf7aeb8e",
            "be777076fcab45e1b7c77c3bbaa1f3b7",
            "c304c97ccf434a05b13b29198bffa9da",
            "c40af3c7c195483692f79f5dd9af1567",
            "f50e1a6ed1014ed1a93d49efd14c19fd",
            "305b4c57332849d5a66c0269af91b6b4",
            "10b7f06bdffc4c88ae6545619c51ed0d",
            "09984a21651c4c648b996eea38fa1923",
            "b1d5fa7595a9455dbecbec7f58038a8c",
            "6dbfdfd6bfa644cb97c3b42211665003",
            "1fb1f5ee0db54647b062ca290be87607"
          ]
        },
        "id": "c_Rr_9NsyjS5",
        "outputId": "eb198cba-798f-4ab7-f4b2-6b62c197fe68"
      },
      "execution_count": 47,
      "outputs": [
        {
          "output_type": "stream",
          "name": "stderr",
          "text": [
            "If you want to use `BertLMHeadModel` as a standalone, add `is_decoder=True.`\n",
            "Some weights of BertLMHeadModel were not initialized from the model checkpoint at /content/config_folder and are newly initialized: ['cls.predictions.transform.LayerNorm.bias', 'cls.predictions.transform.LayerNorm.weight', 'cls.predictions.transform.dense.bias', 'cls.predictions.transform.dense.weight', 'cls.predictions.bias']\n",
            "You should probably TRAIN this model on a down-stream task to be able to use it for predictions and inference.\n"
          ]
        },
        {
          "output_type": "display_data",
          "data": {
            "text/plain": [
              "  0%|          | 0/63 [00:00<?, ?it/s]"
            ],
            "application/vnd.jupyter.widget-view+json": {
              "version_major": 2,
              "version_minor": 0,
              "model_id": "0efc7bc61e154e94a0796798bf7aeb8e"
            }
          },
          "metadata": {}
        },
        {
          "output_type": "stream",
          "name": "stdout",
          "text": [
            "\n",
            "\n",
            "mean perplexity after fine-tuning = 143795.32888357108\n"
          ]
        }
      ]
    },
    {
      "cell_type": "markdown",
      "source": [
        "as we can see and expected, perplexity after fine-tuning model is much better that original model, because it is specialized on poem so it predict distribution of words better in this type of inputs."
      ],
      "metadata": {
        "id": "gHB9Lps_zOUo"
      }
    },
    {
      "cell_type": "markdown",
      "metadata": {
        "id": "UlSxo4fcbm94"
      },
      "source": [
        "if we want to calculate perplexity manually, we could easily define a function to calculate perplexity:\n",
        "(soruce: https://huggingface.co/docs/transformers/perplexity with some modifications)\n",
        "\n",
        "```\n",
        "prev_end_loc = 0\n",
        "for begin_loc in tqdm(range(0, seq_len, stride)):\n",
        "    end_loc = min(begin_loc + max_length, seq_len)\n",
        "    trg_len = end_loc - prev_end_loc  # may be different from stride on last loop\n",
        "    input_ids = encodings.input_ids[:, begin_loc:end_loc].to(device)\n",
        "    target_ids = input_ids.clone()\n",
        "    target_ids[:, :-trg_len] = -100\n",
        "\n",
        "    with torch.no_grad():\n",
        "        outputs = model(input_ids)\n",
        "        outputs_loss = cross_entropy(target_ids,outputs)\n",
        "\n",
        "        # loss is calculated using CrossEntropyLoss which averages over input tokens.\n",
        "        # Multiply it with trg_len to get the summation instead of average.\n",
        "        # We will take average over all the tokens to get the true average\n",
        "        # in the last step of this example.\n",
        "        neg_log_likelihood = outputs_loss.loss * trg_len\n",
        "\n",
        "    nlls.append(neg_log_likelihood)\n",
        "\n",
        "    prev_end_loc = end_loc\n",
        "    if end_loc == seq_len:\n",
        "        break\n",
        "\n",
        "ppl = torch.exp(torch.stack(nlls).sum() / end_loc)\n",
        "\n",
        "```\n"
      ]
    }
  ],
  "metadata": {
    "accelerator": "GPU",
    "colab": {
      "provenance": []
    },
    "gpuClass": "standard",
    "kernelspec": {
      "display_name": "Python 3",
      "name": "python3"
    },
    "language_info": {
      "name": "python"
    },
    "widgets": {
      "application/vnd.jupyter.widget-state+json": {
        "c259407b6522423fbe42bc85b2bc5d12": {
          "model_module": "@jupyter-widgets/controls",
          "model_name": "HBoxModel",
          "model_module_version": "1.5.0",
          "state": {
            "_dom_classes": [],
            "_model_module": "@jupyter-widgets/controls",
            "_model_module_version": "1.5.0",
            "_model_name": "HBoxModel",
            "_view_count": null,
            "_view_module": "@jupyter-widgets/controls",
            "_view_module_version": "1.5.0",
            "_view_name": "HBoxView",
            "box_style": "",
            "children": [
              "IPY_MODEL_6f04a938c8f849f8b1c6a19e75dc2697",
              "IPY_MODEL_8c52344eb44d48b9b8be5469c972399e",
              "IPY_MODEL_c3b68fcd729f4ebf96519141532bfec5"
            ],
            "layout": "IPY_MODEL_447d357be688490c9210c74edfe5fb0d"
          }
        },
        "6f04a938c8f849f8b1c6a19e75dc2697": {
          "model_module": "@jupyter-widgets/controls",
          "model_name": "HTMLModel",
          "model_module_version": "1.5.0",
          "state": {
            "_dom_classes": [],
            "_model_module": "@jupyter-widgets/controls",
            "_model_module_version": "1.5.0",
            "_model_name": "HTMLModel",
            "_view_count": null,
            "_view_module": "@jupyter-widgets/controls",
            "_view_module_version": "1.5.0",
            "_view_name": "HTMLView",
            "description": "",
            "description_tooltip": null,
            "layout": "IPY_MODEL_65a52e4ab6d34b79bffea843a4a3db27",
            "placeholder": "​",
            "style": "IPY_MODEL_e0d24fcdfab14ca7835f7418a311022a",
            "value": "Downloading (…)lve/main/config.json: 100%"
          }
        },
        "8c52344eb44d48b9b8be5469c972399e": {
          "model_module": "@jupyter-widgets/controls",
          "model_name": "FloatProgressModel",
          "model_module_version": "1.5.0",
          "state": {
            "_dom_classes": [],
            "_model_module": "@jupyter-widgets/controls",
            "_model_module_version": "1.5.0",
            "_model_name": "FloatProgressModel",
            "_view_count": null,
            "_view_module": "@jupyter-widgets/controls",
            "_view_module_version": "1.5.0",
            "_view_name": "ProgressView",
            "bar_style": "success",
            "description": "",
            "description_tooltip": null,
            "layout": "IPY_MODEL_a042a4f5996441ad92f6506d383786a8",
            "max": 440,
            "min": 0,
            "orientation": "horizontal",
            "style": "IPY_MODEL_85bf2300dc3d496d857d20eaa62f482b",
            "value": 440
          }
        },
        "c3b68fcd729f4ebf96519141532bfec5": {
          "model_module": "@jupyter-widgets/controls",
          "model_name": "HTMLModel",
          "model_module_version": "1.5.0",
          "state": {
            "_dom_classes": [],
            "_model_module": "@jupyter-widgets/controls",
            "_model_module_version": "1.5.0",
            "_model_name": "HTMLModel",
            "_view_count": null,
            "_view_module": "@jupyter-widgets/controls",
            "_view_module_version": "1.5.0",
            "_view_name": "HTMLView",
            "description": "",
            "description_tooltip": null,
            "layout": "IPY_MODEL_f4f309e87c7642d9bba2400e76736fc1",
            "placeholder": "​",
            "style": "IPY_MODEL_92e8a0746b484a0da257be54ecf58f2d",
            "value": " 440/440 [00:00&lt;00:00, 8.35kB/s]"
          }
        },
        "447d357be688490c9210c74edfe5fb0d": {
          "model_module": "@jupyter-widgets/base",
          "model_name": "LayoutModel",
          "model_module_version": "1.2.0",
          "state": {
            "_model_module": "@jupyter-widgets/base",
            "_model_module_version": "1.2.0",
            "_model_name": "LayoutModel",
            "_view_count": null,
            "_view_module": "@jupyter-widgets/base",
            "_view_module_version": "1.2.0",
            "_view_name": "LayoutView",
            "align_content": null,
            "align_items": null,
            "align_self": null,
            "border": null,
            "bottom": null,
            "display": null,
            "flex": null,
            "flex_flow": null,
            "grid_area": null,
            "grid_auto_columns": null,
            "grid_auto_flow": null,
            "grid_auto_rows": null,
            "grid_column": null,
            "grid_gap": null,
            "grid_row": null,
            "grid_template_areas": null,
            "grid_template_columns": null,
            "grid_template_rows": null,
            "height": null,
            "justify_content": null,
            "justify_items": null,
            "left": null,
            "margin": null,
            "max_height": null,
            "max_width": null,
            "min_height": null,
            "min_width": null,
            "object_fit": null,
            "object_position": null,
            "order": null,
            "overflow": null,
            "overflow_x": null,
            "overflow_y": null,
            "padding": null,
            "right": null,
            "top": null,
            "visibility": null,
            "width": null
          }
        },
        "65a52e4ab6d34b79bffea843a4a3db27": {
          "model_module": "@jupyter-widgets/base",
          "model_name": "LayoutModel",
          "model_module_version": "1.2.0",
          "state": {
            "_model_module": "@jupyter-widgets/base",
            "_model_module_version": "1.2.0",
            "_model_name": "LayoutModel",
            "_view_count": null,
            "_view_module": "@jupyter-widgets/base",
            "_view_module_version": "1.2.0",
            "_view_name": "LayoutView",
            "align_content": null,
            "align_items": null,
            "align_self": null,
            "border": null,
            "bottom": null,
            "display": null,
            "flex": null,
            "flex_flow": null,
            "grid_area": null,
            "grid_auto_columns": null,
            "grid_auto_flow": null,
            "grid_auto_rows": null,
            "grid_column": null,
            "grid_gap": null,
            "grid_row": null,
            "grid_template_areas": null,
            "grid_template_columns": null,
            "grid_template_rows": null,
            "height": null,
            "justify_content": null,
            "justify_items": null,
            "left": null,
            "margin": null,
            "max_height": null,
            "max_width": null,
            "min_height": null,
            "min_width": null,
            "object_fit": null,
            "object_position": null,
            "order": null,
            "overflow": null,
            "overflow_x": null,
            "overflow_y": null,
            "padding": null,
            "right": null,
            "top": null,
            "visibility": null,
            "width": null
          }
        },
        "e0d24fcdfab14ca7835f7418a311022a": {
          "model_module": "@jupyter-widgets/controls",
          "model_name": "DescriptionStyleModel",
          "model_module_version": "1.5.0",
          "state": {
            "_model_module": "@jupyter-widgets/controls",
            "_model_module_version": "1.5.0",
            "_model_name": "DescriptionStyleModel",
            "_view_count": null,
            "_view_module": "@jupyter-widgets/base",
            "_view_module_version": "1.2.0",
            "_view_name": "StyleView",
            "description_width": ""
          }
        },
        "a042a4f5996441ad92f6506d383786a8": {
          "model_module": "@jupyter-widgets/base",
          "model_name": "LayoutModel",
          "model_module_version": "1.2.0",
          "state": {
            "_model_module": "@jupyter-widgets/base",
            "_model_module_version": "1.2.0",
            "_model_name": "LayoutModel",
            "_view_count": null,
            "_view_module": "@jupyter-widgets/base",
            "_view_module_version": "1.2.0",
            "_view_name": "LayoutView",
            "align_content": null,
            "align_items": null,
            "align_self": null,
            "border": null,
            "bottom": null,
            "display": null,
            "flex": null,
            "flex_flow": null,
            "grid_area": null,
            "grid_auto_columns": null,
            "grid_auto_flow": null,
            "grid_auto_rows": null,
            "grid_column": null,
            "grid_gap": null,
            "grid_row": null,
            "grid_template_areas": null,
            "grid_template_columns": null,
            "grid_template_rows": null,
            "height": null,
            "justify_content": null,
            "justify_items": null,
            "left": null,
            "margin": null,
            "max_height": null,
            "max_width": null,
            "min_height": null,
            "min_width": null,
            "object_fit": null,
            "object_position": null,
            "order": null,
            "overflow": null,
            "overflow_x": null,
            "overflow_y": null,
            "padding": null,
            "right": null,
            "top": null,
            "visibility": null,
            "width": null
          }
        },
        "85bf2300dc3d496d857d20eaa62f482b": {
          "model_module": "@jupyter-widgets/controls",
          "model_name": "ProgressStyleModel",
          "model_module_version": "1.5.0",
          "state": {
            "_model_module": "@jupyter-widgets/controls",
            "_model_module_version": "1.5.0",
            "_model_name": "ProgressStyleModel",
            "_view_count": null,
            "_view_module": "@jupyter-widgets/base",
            "_view_module_version": "1.2.0",
            "_view_name": "StyleView",
            "bar_color": null,
            "description_width": ""
          }
        },
        "f4f309e87c7642d9bba2400e76736fc1": {
          "model_module": "@jupyter-widgets/base",
          "model_name": "LayoutModel",
          "model_module_version": "1.2.0",
          "state": {
            "_model_module": "@jupyter-widgets/base",
            "_model_module_version": "1.2.0",
            "_model_name": "LayoutModel",
            "_view_count": null,
            "_view_module": "@jupyter-widgets/base",
            "_view_module_version": "1.2.0",
            "_view_name": "LayoutView",
            "align_content": null,
            "align_items": null,
            "align_self": null,
            "border": null,
            "bottom": null,
            "display": null,
            "flex": null,
            "flex_flow": null,
            "grid_area": null,
            "grid_auto_columns": null,
            "grid_auto_flow": null,
            "grid_auto_rows": null,
            "grid_column": null,
            "grid_gap": null,
            "grid_row": null,
            "grid_template_areas": null,
            "grid_template_columns": null,
            "grid_template_rows": null,
            "height": null,
            "justify_content": null,
            "justify_items": null,
            "left": null,
            "margin": null,
            "max_height": null,
            "max_width": null,
            "min_height": null,
            "min_width": null,
            "object_fit": null,
            "object_position": null,
            "order": null,
            "overflow": null,
            "overflow_x": null,
            "overflow_y": null,
            "padding": null,
            "right": null,
            "top": null,
            "visibility": null,
            "width": null
          }
        },
        "92e8a0746b484a0da257be54ecf58f2d": {
          "model_module": "@jupyter-widgets/controls",
          "model_name": "DescriptionStyleModel",
          "model_module_version": "1.5.0",
          "state": {
            "_model_module": "@jupyter-widgets/controls",
            "_model_module_version": "1.5.0",
            "_model_name": "DescriptionStyleModel",
            "_view_count": null,
            "_view_module": "@jupyter-widgets/base",
            "_view_module_version": "1.2.0",
            "_view_name": "StyleView",
            "description_width": ""
          }
        },
        "a19f149f3bcc48aabbdfdc726e9eb04f": {
          "model_module": "@jupyter-widgets/controls",
          "model_name": "HBoxModel",
          "model_module_version": "1.5.0",
          "state": {
            "_dom_classes": [],
            "_model_module": "@jupyter-widgets/controls",
            "_model_module_version": "1.5.0",
            "_model_name": "HBoxModel",
            "_view_count": null,
            "_view_module": "@jupyter-widgets/controls",
            "_view_module_version": "1.5.0",
            "_view_name": "HBoxView",
            "box_style": "",
            "children": [
              "IPY_MODEL_65907d79f3554f5895c5943916305d1e",
              "IPY_MODEL_c8dc87445a21423fa4913c22775875a1",
              "IPY_MODEL_89facc060dcd45149b52f09d46c77fd2"
            ],
            "layout": "IPY_MODEL_eb38a84247174d96a4418d902b5205dd"
          }
        },
        "65907d79f3554f5895c5943916305d1e": {
          "model_module": "@jupyter-widgets/controls",
          "model_name": "HTMLModel",
          "model_module_version": "1.5.0",
          "state": {
            "_dom_classes": [],
            "_model_module": "@jupyter-widgets/controls",
            "_model_module_version": "1.5.0",
            "_model_name": "HTMLModel",
            "_view_count": null,
            "_view_module": "@jupyter-widgets/controls",
            "_view_module_version": "1.5.0",
            "_view_name": "HTMLView",
            "description": "",
            "description_tooltip": null,
            "layout": "IPY_MODEL_165a8b0d2e0346a69ea0713998a67345",
            "placeholder": "​",
            "style": "IPY_MODEL_29074834019446dba2dc9760275b5152",
            "value": "Downloading (…)solve/main/vocab.txt: 100%"
          }
        },
        "c8dc87445a21423fa4913c22775875a1": {
          "model_module": "@jupyter-widgets/controls",
          "model_name": "FloatProgressModel",
          "model_module_version": "1.5.0",
          "state": {
            "_dom_classes": [],
            "_model_module": "@jupyter-widgets/controls",
            "_model_module_version": "1.5.0",
            "_model_name": "FloatProgressModel",
            "_view_count": null,
            "_view_module": "@jupyter-widgets/controls",
            "_view_module_version": "1.5.0",
            "_view_name": "ProgressView",
            "bar_style": "success",
            "description": "",
            "description_tooltip": null,
            "layout": "IPY_MODEL_7af33cc249e14dcb95683ef6d28831c3",
            "max": 1198122,
            "min": 0,
            "orientation": "horizontal",
            "style": "IPY_MODEL_19c8163746c245fdb8e062c7d0394a1a",
            "value": 1198122
          }
        },
        "89facc060dcd45149b52f09d46c77fd2": {
          "model_module": "@jupyter-widgets/controls",
          "model_name": "HTMLModel",
          "model_module_version": "1.5.0",
          "state": {
            "_dom_classes": [],
            "_model_module": "@jupyter-widgets/controls",
            "_model_module_version": "1.5.0",
            "_model_name": "HTMLModel",
            "_view_count": null,
            "_view_module": "@jupyter-widgets/controls",
            "_view_module_version": "1.5.0",
            "_view_name": "HTMLView",
            "description": "",
            "description_tooltip": null,
            "layout": "IPY_MODEL_a96233aa9edc473580bf29d2c205bfc5",
            "placeholder": "​",
            "style": "IPY_MODEL_fc9df2b23b7d4fd8ac39df1c828d62e5",
            "value": " 1.20M/1.20M [00:01&lt;00:00, 900kB/s]"
          }
        },
        "eb38a84247174d96a4418d902b5205dd": {
          "model_module": "@jupyter-widgets/base",
          "model_name": "LayoutModel",
          "model_module_version": "1.2.0",
          "state": {
            "_model_module": "@jupyter-widgets/base",
            "_model_module_version": "1.2.0",
            "_model_name": "LayoutModel",
            "_view_count": null,
            "_view_module": "@jupyter-widgets/base",
            "_view_module_version": "1.2.0",
            "_view_name": "LayoutView",
            "align_content": null,
            "align_items": null,
            "align_self": null,
            "border": null,
            "bottom": null,
            "display": null,
            "flex": null,
            "flex_flow": null,
            "grid_area": null,
            "grid_auto_columns": null,
            "grid_auto_flow": null,
            "grid_auto_rows": null,
            "grid_column": null,
            "grid_gap": null,
            "grid_row": null,
            "grid_template_areas": null,
            "grid_template_columns": null,
            "grid_template_rows": null,
            "height": null,
            "justify_content": null,
            "justify_items": null,
            "left": null,
            "margin": null,
            "max_height": null,
            "max_width": null,
            "min_height": null,
            "min_width": null,
            "object_fit": null,
            "object_position": null,
            "order": null,
            "overflow": null,
            "overflow_x": null,
            "overflow_y": null,
            "padding": null,
            "right": null,
            "top": null,
            "visibility": null,
            "width": null
          }
        },
        "165a8b0d2e0346a69ea0713998a67345": {
          "model_module": "@jupyter-widgets/base",
          "model_name": "LayoutModel",
          "model_module_version": "1.2.0",
          "state": {
            "_model_module": "@jupyter-widgets/base",
            "_model_module_version": "1.2.0",
            "_model_name": "LayoutModel",
            "_view_count": null,
            "_view_module": "@jupyter-widgets/base",
            "_view_module_version": "1.2.0",
            "_view_name": "LayoutView",
            "align_content": null,
            "align_items": null,
            "align_self": null,
            "border": null,
            "bottom": null,
            "display": null,
            "flex": null,
            "flex_flow": null,
            "grid_area": null,
            "grid_auto_columns": null,
            "grid_auto_flow": null,
            "grid_auto_rows": null,
            "grid_column": null,
            "grid_gap": null,
            "grid_row": null,
            "grid_template_areas": null,
            "grid_template_columns": null,
            "grid_template_rows": null,
            "height": null,
            "justify_content": null,
            "justify_items": null,
            "left": null,
            "margin": null,
            "max_height": null,
            "max_width": null,
            "min_height": null,
            "min_width": null,
            "object_fit": null,
            "object_position": null,
            "order": null,
            "overflow": null,
            "overflow_x": null,
            "overflow_y": null,
            "padding": null,
            "right": null,
            "top": null,
            "visibility": null,
            "width": null
          }
        },
        "29074834019446dba2dc9760275b5152": {
          "model_module": "@jupyter-widgets/controls",
          "model_name": "DescriptionStyleModel",
          "model_module_version": "1.5.0",
          "state": {
            "_model_module": "@jupyter-widgets/controls",
            "_model_module_version": "1.5.0",
            "_model_name": "DescriptionStyleModel",
            "_view_count": null,
            "_view_module": "@jupyter-widgets/base",
            "_view_module_version": "1.2.0",
            "_view_name": "StyleView",
            "description_width": ""
          }
        },
        "7af33cc249e14dcb95683ef6d28831c3": {
          "model_module": "@jupyter-widgets/base",
          "model_name": "LayoutModel",
          "model_module_version": "1.2.0",
          "state": {
            "_model_module": "@jupyter-widgets/base",
            "_model_module_version": "1.2.0",
            "_model_name": "LayoutModel",
            "_view_count": null,
            "_view_module": "@jupyter-widgets/base",
            "_view_module_version": "1.2.0",
            "_view_name": "LayoutView",
            "align_content": null,
            "align_items": null,
            "align_self": null,
            "border": null,
            "bottom": null,
            "display": null,
            "flex": null,
            "flex_flow": null,
            "grid_area": null,
            "grid_auto_columns": null,
            "grid_auto_flow": null,
            "grid_auto_rows": null,
            "grid_column": null,
            "grid_gap": null,
            "grid_row": null,
            "grid_template_areas": null,
            "grid_template_columns": null,
            "grid_template_rows": null,
            "height": null,
            "justify_content": null,
            "justify_items": null,
            "left": null,
            "margin": null,
            "max_height": null,
            "max_width": null,
            "min_height": null,
            "min_width": null,
            "object_fit": null,
            "object_position": null,
            "order": null,
            "overflow": null,
            "overflow_x": null,
            "overflow_y": null,
            "padding": null,
            "right": null,
            "top": null,
            "visibility": null,
            "width": null
          }
        },
        "19c8163746c245fdb8e062c7d0394a1a": {
          "model_module": "@jupyter-widgets/controls",
          "model_name": "ProgressStyleModel",
          "model_module_version": "1.5.0",
          "state": {
            "_model_module": "@jupyter-widgets/controls",
            "_model_module_version": "1.5.0",
            "_model_name": "ProgressStyleModel",
            "_view_count": null,
            "_view_module": "@jupyter-widgets/base",
            "_view_module_version": "1.2.0",
            "_view_name": "StyleView",
            "bar_color": null,
            "description_width": ""
          }
        },
        "a96233aa9edc473580bf29d2c205bfc5": {
          "model_module": "@jupyter-widgets/base",
          "model_name": "LayoutModel",
          "model_module_version": "1.2.0",
          "state": {
            "_model_module": "@jupyter-widgets/base",
            "_model_module_version": "1.2.0",
            "_model_name": "LayoutModel",
            "_view_count": null,
            "_view_module": "@jupyter-widgets/base",
            "_view_module_version": "1.2.0",
            "_view_name": "LayoutView",
            "align_content": null,
            "align_items": null,
            "align_self": null,
            "border": null,
            "bottom": null,
            "display": null,
            "flex": null,
            "flex_flow": null,
            "grid_area": null,
            "grid_auto_columns": null,
            "grid_auto_flow": null,
            "grid_auto_rows": null,
            "grid_column": null,
            "grid_gap": null,
            "grid_row": null,
            "grid_template_areas": null,
            "grid_template_columns": null,
            "grid_template_rows": null,
            "height": null,
            "justify_content": null,
            "justify_items": null,
            "left": null,
            "margin": null,
            "max_height": null,
            "max_width": null,
            "min_height": null,
            "min_width": null,
            "object_fit": null,
            "object_position": null,
            "order": null,
            "overflow": null,
            "overflow_x": null,
            "overflow_y": null,
            "padding": null,
            "right": null,
            "top": null,
            "visibility": null,
            "width": null
          }
        },
        "fc9df2b23b7d4fd8ac39df1c828d62e5": {
          "model_module": "@jupyter-widgets/controls",
          "model_name": "DescriptionStyleModel",
          "model_module_version": "1.5.0",
          "state": {
            "_model_module": "@jupyter-widgets/controls",
            "_model_module_version": "1.5.0",
            "_model_name": "DescriptionStyleModel",
            "_view_count": null,
            "_view_module": "@jupyter-widgets/base",
            "_view_module_version": "1.2.0",
            "_view_name": "StyleView",
            "description_width": ""
          }
        },
        "705ae49cd9f749579dc1cba72ef19c7d": {
          "model_module": "@jupyter-widgets/controls",
          "model_name": "HBoxModel",
          "model_module_version": "1.5.0",
          "state": {
            "_dom_classes": [],
            "_model_module": "@jupyter-widgets/controls",
            "_model_module_version": "1.5.0",
            "_model_name": "HBoxModel",
            "_view_count": null,
            "_view_module": "@jupyter-widgets/controls",
            "_view_module_version": "1.5.0",
            "_view_name": "HBoxView",
            "box_style": "",
            "children": [
              "IPY_MODEL_3c06a56a09e14183a11fd442a7829593",
              "IPY_MODEL_62e630ca088b49ac9decb6a7c6b31473",
              "IPY_MODEL_b6e46a1832d54c97b4288eec5e8355ed"
            ],
            "layout": "IPY_MODEL_9a7e2a1b8d4c40ef98e7966343598a48"
          }
        },
        "3c06a56a09e14183a11fd442a7829593": {
          "model_module": "@jupyter-widgets/controls",
          "model_name": "HTMLModel",
          "model_module_version": "1.5.0",
          "state": {
            "_dom_classes": [],
            "_model_module": "@jupyter-widgets/controls",
            "_model_module_version": "1.5.0",
            "_model_name": "HTMLModel",
            "_view_count": null,
            "_view_module": "@jupyter-widgets/controls",
            "_view_module_version": "1.5.0",
            "_view_name": "HTMLView",
            "description": "",
            "description_tooltip": null,
            "layout": "IPY_MODEL_1a9dcb3a5224424f91bf24a841cb7f87",
            "placeholder": "​",
            "style": "IPY_MODEL_534bf190ccd84571b23dbe80be3ef0d1",
            "value": "Downloading (…)&quot;pytorch_model.bin&quot;;: 100%"
          }
        },
        "62e630ca088b49ac9decb6a7c6b31473": {
          "model_module": "@jupyter-widgets/controls",
          "model_name": "FloatProgressModel",
          "model_module_version": "1.5.0",
          "state": {
            "_dom_classes": [],
            "_model_module": "@jupyter-widgets/controls",
            "_model_module_version": "1.5.0",
            "_model_name": "FloatProgressModel",
            "_view_count": null,
            "_view_module": "@jupyter-widgets/controls",
            "_view_module_version": "1.5.0",
            "_view_name": "ProgressView",
            "bar_style": "success",
            "description": "",
            "description_tooltip": null,
            "layout": "IPY_MODEL_04eaa39ba40f452284992b52e04a87be",
            "max": 654226731,
            "min": 0,
            "orientation": "horizontal",
            "style": "IPY_MODEL_9ffc548e32ab462ea83166cf11a2bbb6",
            "value": 654226731
          }
        },
        "b6e46a1832d54c97b4288eec5e8355ed": {
          "model_module": "@jupyter-widgets/controls",
          "model_name": "HTMLModel",
          "model_module_version": "1.5.0",
          "state": {
            "_dom_classes": [],
            "_model_module": "@jupyter-widgets/controls",
            "_model_module_version": "1.5.0",
            "_model_name": "HTMLModel",
            "_view_count": null,
            "_view_module": "@jupyter-widgets/controls",
            "_view_module_version": "1.5.0",
            "_view_name": "HTMLView",
            "description": "",
            "description_tooltip": null,
            "layout": "IPY_MODEL_23a01ceee8bb49e581dd16ae2478de85",
            "placeholder": "​",
            "style": "IPY_MODEL_c199f1d51f7e4b089a406dbe900273fe",
            "value": " 654M/654M [00:04&lt;00:00, 160MB/s]"
          }
        },
        "9a7e2a1b8d4c40ef98e7966343598a48": {
          "model_module": "@jupyter-widgets/base",
          "model_name": "LayoutModel",
          "model_module_version": "1.2.0",
          "state": {
            "_model_module": "@jupyter-widgets/base",
            "_model_module_version": "1.2.0",
            "_model_name": "LayoutModel",
            "_view_count": null,
            "_view_module": "@jupyter-widgets/base",
            "_view_module_version": "1.2.0",
            "_view_name": "LayoutView",
            "align_content": null,
            "align_items": null,
            "align_self": null,
            "border": null,
            "bottom": null,
            "display": null,
            "flex": null,
            "flex_flow": null,
            "grid_area": null,
            "grid_auto_columns": null,
            "grid_auto_flow": null,
            "grid_auto_rows": null,
            "grid_column": null,
            "grid_gap": null,
            "grid_row": null,
            "grid_template_areas": null,
            "grid_template_columns": null,
            "grid_template_rows": null,
            "height": null,
            "justify_content": null,
            "justify_items": null,
            "left": null,
            "margin": null,
            "max_height": null,
            "max_width": null,
            "min_height": null,
            "min_width": null,
            "object_fit": null,
            "object_position": null,
            "order": null,
            "overflow": null,
            "overflow_x": null,
            "overflow_y": null,
            "padding": null,
            "right": null,
            "top": null,
            "visibility": null,
            "width": null
          }
        },
        "1a9dcb3a5224424f91bf24a841cb7f87": {
          "model_module": "@jupyter-widgets/base",
          "model_name": "LayoutModel",
          "model_module_version": "1.2.0",
          "state": {
            "_model_module": "@jupyter-widgets/base",
            "_model_module_version": "1.2.0",
            "_model_name": "LayoutModel",
            "_view_count": null,
            "_view_module": "@jupyter-widgets/base",
            "_view_module_version": "1.2.0",
            "_view_name": "LayoutView",
            "align_content": null,
            "align_items": null,
            "align_self": null,
            "border": null,
            "bottom": null,
            "display": null,
            "flex": null,
            "flex_flow": null,
            "grid_area": null,
            "grid_auto_columns": null,
            "grid_auto_flow": null,
            "grid_auto_rows": null,
            "grid_column": null,
            "grid_gap": null,
            "grid_row": null,
            "grid_template_areas": null,
            "grid_template_columns": null,
            "grid_template_rows": null,
            "height": null,
            "justify_content": null,
            "justify_items": null,
            "left": null,
            "margin": null,
            "max_height": null,
            "max_width": null,
            "min_height": null,
            "min_width": null,
            "object_fit": null,
            "object_position": null,
            "order": null,
            "overflow": null,
            "overflow_x": null,
            "overflow_y": null,
            "padding": null,
            "right": null,
            "top": null,
            "visibility": null,
            "width": null
          }
        },
        "534bf190ccd84571b23dbe80be3ef0d1": {
          "model_module": "@jupyter-widgets/controls",
          "model_name": "DescriptionStyleModel",
          "model_module_version": "1.5.0",
          "state": {
            "_model_module": "@jupyter-widgets/controls",
            "_model_module_version": "1.5.0",
            "_model_name": "DescriptionStyleModel",
            "_view_count": null,
            "_view_module": "@jupyter-widgets/base",
            "_view_module_version": "1.2.0",
            "_view_name": "StyleView",
            "description_width": ""
          }
        },
        "04eaa39ba40f452284992b52e04a87be": {
          "model_module": "@jupyter-widgets/base",
          "model_name": "LayoutModel",
          "model_module_version": "1.2.0",
          "state": {
            "_model_module": "@jupyter-widgets/base",
            "_model_module_version": "1.2.0",
            "_model_name": "LayoutModel",
            "_view_count": null,
            "_view_module": "@jupyter-widgets/base",
            "_view_module_version": "1.2.0",
            "_view_name": "LayoutView",
            "align_content": null,
            "align_items": null,
            "align_self": null,
            "border": null,
            "bottom": null,
            "display": null,
            "flex": null,
            "flex_flow": null,
            "grid_area": null,
            "grid_auto_columns": null,
            "grid_auto_flow": null,
            "grid_auto_rows": null,
            "grid_column": null,
            "grid_gap": null,
            "grid_row": null,
            "grid_template_areas": null,
            "grid_template_columns": null,
            "grid_template_rows": null,
            "height": null,
            "justify_content": null,
            "justify_items": null,
            "left": null,
            "margin": null,
            "max_height": null,
            "max_width": null,
            "min_height": null,
            "min_width": null,
            "object_fit": null,
            "object_position": null,
            "order": null,
            "overflow": null,
            "overflow_x": null,
            "overflow_y": null,
            "padding": null,
            "right": null,
            "top": null,
            "visibility": null,
            "width": null
          }
        },
        "9ffc548e32ab462ea83166cf11a2bbb6": {
          "model_module": "@jupyter-widgets/controls",
          "model_name": "ProgressStyleModel",
          "model_module_version": "1.5.0",
          "state": {
            "_model_module": "@jupyter-widgets/controls",
            "_model_module_version": "1.5.0",
            "_model_name": "ProgressStyleModel",
            "_view_count": null,
            "_view_module": "@jupyter-widgets/base",
            "_view_module_version": "1.2.0",
            "_view_name": "StyleView",
            "bar_color": null,
            "description_width": ""
          }
        },
        "23a01ceee8bb49e581dd16ae2478de85": {
          "model_module": "@jupyter-widgets/base",
          "model_name": "LayoutModel",
          "model_module_version": "1.2.0",
          "state": {
            "_model_module": "@jupyter-widgets/base",
            "_model_module_version": "1.2.0",
            "_model_name": "LayoutModel",
            "_view_count": null,
            "_view_module": "@jupyter-widgets/base",
            "_view_module_version": "1.2.0",
            "_view_name": "LayoutView",
            "align_content": null,
            "align_items": null,
            "align_self": null,
            "border": null,
            "bottom": null,
            "display": null,
            "flex": null,
            "flex_flow": null,
            "grid_area": null,
            "grid_auto_columns": null,
            "grid_auto_flow": null,
            "grid_auto_rows": null,
            "grid_column": null,
            "grid_gap": null,
            "grid_row": null,
            "grid_template_areas": null,
            "grid_template_columns": null,
            "grid_template_rows": null,
            "height": null,
            "justify_content": null,
            "justify_items": null,
            "left": null,
            "margin": null,
            "max_height": null,
            "max_width": null,
            "min_height": null,
            "min_width": null,
            "object_fit": null,
            "object_position": null,
            "order": null,
            "overflow": null,
            "overflow_x": null,
            "overflow_y": null,
            "padding": null,
            "right": null,
            "top": null,
            "visibility": null,
            "width": null
          }
        },
        "c199f1d51f7e4b089a406dbe900273fe": {
          "model_module": "@jupyter-widgets/controls",
          "model_name": "DescriptionStyleModel",
          "model_module_version": "1.5.0",
          "state": {
            "_model_module": "@jupyter-widgets/controls",
            "_model_module_version": "1.5.0",
            "_model_name": "DescriptionStyleModel",
            "_view_count": null,
            "_view_module": "@jupyter-widgets/base",
            "_view_module_version": "1.2.0",
            "_view_name": "StyleView",
            "description_width": ""
          }
        },
        "5914abefb3f2496abbb40ebd241f7ea8": {
          "model_module": "@jupyter-widgets/controls",
          "model_name": "HBoxModel",
          "model_module_version": "1.5.0",
          "state": {
            "_dom_classes": [],
            "_model_module": "@jupyter-widgets/controls",
            "_model_module_version": "1.5.0",
            "_model_name": "HBoxModel",
            "_view_count": null,
            "_view_module": "@jupyter-widgets/controls",
            "_view_module_version": "1.5.0",
            "_view_name": "HBoxView",
            "box_style": "",
            "children": [
              "IPY_MODEL_1e92ba78cf8a4a85873c4128e478b697",
              "IPY_MODEL_c695a15c10bf46ad99335c19e5bf6db5",
              "IPY_MODEL_7eac86120a4d4af88bdd3c56ca4c0def"
            ],
            "layout": "IPY_MODEL_82609aea238845aa96cadbd02d1b95a8"
          }
        },
        "1e92ba78cf8a4a85873c4128e478b697": {
          "model_module": "@jupyter-widgets/controls",
          "model_name": "HTMLModel",
          "model_module_version": "1.5.0",
          "state": {
            "_dom_classes": [],
            "_model_module": "@jupyter-widgets/controls",
            "_model_module_version": "1.5.0",
            "_model_name": "HTMLModel",
            "_view_count": null,
            "_view_module": "@jupyter-widgets/controls",
            "_view_module_version": "1.5.0",
            "_view_name": "HTMLView",
            "description": "",
            "description_tooltip": null,
            "layout": "IPY_MODEL_e3f8860a0e194719b34a57a9adb93a59",
            "placeholder": "​",
            "style": "IPY_MODEL_29ab848dde7647b1a9ff50826224668d",
            "value": "100%"
          }
        },
        "c695a15c10bf46ad99335c19e5bf6db5": {
          "model_module": "@jupyter-widgets/controls",
          "model_name": "FloatProgressModel",
          "model_module_version": "1.5.0",
          "state": {
            "_dom_classes": [],
            "_model_module": "@jupyter-widgets/controls",
            "_model_module_version": "1.5.0",
            "_model_name": "FloatProgressModel",
            "_view_count": null,
            "_view_module": "@jupyter-widgets/controls",
            "_view_module_version": "1.5.0",
            "_view_name": "ProgressView",
            "bar_style": "success",
            "description": "",
            "description_tooltip": null,
            "layout": "IPY_MODEL_fb7fe4c54b744cefba04fa72ff6b6274",
            "max": 63,
            "min": 0,
            "orientation": "horizontal",
            "style": "IPY_MODEL_e9d4d234ecf84cee944e10bb3c14535c",
            "value": 63
          }
        },
        "7eac86120a4d4af88bdd3c56ca4c0def": {
          "model_module": "@jupyter-widgets/controls",
          "model_name": "HTMLModel",
          "model_module_version": "1.5.0",
          "state": {
            "_dom_classes": [],
            "_model_module": "@jupyter-widgets/controls",
            "_model_module_version": "1.5.0",
            "_model_name": "HTMLModel",
            "_view_count": null,
            "_view_module": "@jupyter-widgets/controls",
            "_view_module_version": "1.5.0",
            "_view_name": "HTMLView",
            "description": "",
            "description_tooltip": null,
            "layout": "IPY_MODEL_78ff67bc0d40426e88f7c5de8846c784",
            "placeholder": "​",
            "style": "IPY_MODEL_6e56fc81b82847b6b54dbfcaec3c3823",
            "value": " 63/63 [00:03&lt;00:00, 21.93it/s]"
          }
        },
        "82609aea238845aa96cadbd02d1b95a8": {
          "model_module": "@jupyter-widgets/base",
          "model_name": "LayoutModel",
          "model_module_version": "1.2.0",
          "state": {
            "_model_module": "@jupyter-widgets/base",
            "_model_module_version": "1.2.0",
            "_model_name": "LayoutModel",
            "_view_count": null,
            "_view_module": "@jupyter-widgets/base",
            "_view_module_version": "1.2.0",
            "_view_name": "LayoutView",
            "align_content": null,
            "align_items": null,
            "align_self": null,
            "border": null,
            "bottom": null,
            "display": null,
            "flex": null,
            "flex_flow": null,
            "grid_area": null,
            "grid_auto_columns": null,
            "grid_auto_flow": null,
            "grid_auto_rows": null,
            "grid_column": null,
            "grid_gap": null,
            "grid_row": null,
            "grid_template_areas": null,
            "grid_template_columns": null,
            "grid_template_rows": null,
            "height": null,
            "justify_content": null,
            "justify_items": null,
            "left": null,
            "margin": null,
            "max_height": null,
            "max_width": null,
            "min_height": null,
            "min_width": null,
            "object_fit": null,
            "object_position": null,
            "order": null,
            "overflow": null,
            "overflow_x": null,
            "overflow_y": null,
            "padding": null,
            "right": null,
            "top": null,
            "visibility": null,
            "width": null
          }
        },
        "e3f8860a0e194719b34a57a9adb93a59": {
          "model_module": "@jupyter-widgets/base",
          "model_name": "LayoutModel",
          "model_module_version": "1.2.0",
          "state": {
            "_model_module": "@jupyter-widgets/base",
            "_model_module_version": "1.2.0",
            "_model_name": "LayoutModel",
            "_view_count": null,
            "_view_module": "@jupyter-widgets/base",
            "_view_module_version": "1.2.0",
            "_view_name": "LayoutView",
            "align_content": null,
            "align_items": null,
            "align_self": null,
            "border": null,
            "bottom": null,
            "display": null,
            "flex": null,
            "flex_flow": null,
            "grid_area": null,
            "grid_auto_columns": null,
            "grid_auto_flow": null,
            "grid_auto_rows": null,
            "grid_column": null,
            "grid_gap": null,
            "grid_row": null,
            "grid_template_areas": null,
            "grid_template_columns": null,
            "grid_template_rows": null,
            "height": null,
            "justify_content": null,
            "justify_items": null,
            "left": null,
            "margin": null,
            "max_height": null,
            "max_width": null,
            "min_height": null,
            "min_width": null,
            "object_fit": null,
            "object_position": null,
            "order": null,
            "overflow": null,
            "overflow_x": null,
            "overflow_y": null,
            "padding": null,
            "right": null,
            "top": null,
            "visibility": null,
            "width": null
          }
        },
        "29ab848dde7647b1a9ff50826224668d": {
          "model_module": "@jupyter-widgets/controls",
          "model_name": "DescriptionStyleModel",
          "model_module_version": "1.5.0",
          "state": {
            "_model_module": "@jupyter-widgets/controls",
            "_model_module_version": "1.5.0",
            "_model_name": "DescriptionStyleModel",
            "_view_count": null,
            "_view_module": "@jupyter-widgets/base",
            "_view_module_version": "1.2.0",
            "_view_name": "StyleView",
            "description_width": ""
          }
        },
        "fb7fe4c54b744cefba04fa72ff6b6274": {
          "model_module": "@jupyter-widgets/base",
          "model_name": "LayoutModel",
          "model_module_version": "1.2.0",
          "state": {
            "_model_module": "@jupyter-widgets/base",
            "_model_module_version": "1.2.0",
            "_model_name": "LayoutModel",
            "_view_count": null,
            "_view_module": "@jupyter-widgets/base",
            "_view_module_version": "1.2.0",
            "_view_name": "LayoutView",
            "align_content": null,
            "align_items": null,
            "align_self": null,
            "border": null,
            "bottom": null,
            "display": null,
            "flex": null,
            "flex_flow": null,
            "grid_area": null,
            "grid_auto_columns": null,
            "grid_auto_flow": null,
            "grid_auto_rows": null,
            "grid_column": null,
            "grid_gap": null,
            "grid_row": null,
            "grid_template_areas": null,
            "grid_template_columns": null,
            "grid_template_rows": null,
            "height": null,
            "justify_content": null,
            "justify_items": null,
            "left": null,
            "margin": null,
            "max_height": null,
            "max_width": null,
            "min_height": null,
            "min_width": null,
            "object_fit": null,
            "object_position": null,
            "order": null,
            "overflow": null,
            "overflow_x": null,
            "overflow_y": null,
            "padding": null,
            "right": null,
            "top": null,
            "visibility": null,
            "width": null
          }
        },
        "e9d4d234ecf84cee944e10bb3c14535c": {
          "model_module": "@jupyter-widgets/controls",
          "model_name": "ProgressStyleModel",
          "model_module_version": "1.5.0",
          "state": {
            "_model_module": "@jupyter-widgets/controls",
            "_model_module_version": "1.5.0",
            "_model_name": "ProgressStyleModel",
            "_view_count": null,
            "_view_module": "@jupyter-widgets/base",
            "_view_module_version": "1.2.0",
            "_view_name": "StyleView",
            "bar_color": null,
            "description_width": ""
          }
        },
        "78ff67bc0d40426e88f7c5de8846c784": {
          "model_module": "@jupyter-widgets/base",
          "model_name": "LayoutModel",
          "model_module_version": "1.2.0",
          "state": {
            "_model_module": "@jupyter-widgets/base",
            "_model_module_version": "1.2.0",
            "_model_name": "LayoutModel",
            "_view_count": null,
            "_view_module": "@jupyter-widgets/base",
            "_view_module_version": "1.2.0",
            "_view_name": "LayoutView",
            "align_content": null,
            "align_items": null,
            "align_self": null,
            "border": null,
            "bottom": null,
            "display": null,
            "flex": null,
            "flex_flow": null,
            "grid_area": null,
            "grid_auto_columns": null,
            "grid_auto_flow": null,
            "grid_auto_rows": null,
            "grid_column": null,
            "grid_gap": null,
            "grid_row": null,
            "grid_template_areas": null,
            "grid_template_columns": null,
            "grid_template_rows": null,
            "height": null,
            "justify_content": null,
            "justify_items": null,
            "left": null,
            "margin": null,
            "max_height": null,
            "max_width": null,
            "min_height": null,
            "min_width": null,
            "object_fit": null,
            "object_position": null,
            "order": null,
            "overflow": null,
            "overflow_x": null,
            "overflow_y": null,
            "padding": null,
            "right": null,
            "top": null,
            "visibility": null,
            "width": null
          }
        },
        "6e56fc81b82847b6b54dbfcaec3c3823": {
          "model_module": "@jupyter-widgets/controls",
          "model_name": "DescriptionStyleModel",
          "model_module_version": "1.5.0",
          "state": {
            "_model_module": "@jupyter-widgets/controls",
            "_model_module_version": "1.5.0",
            "_model_name": "DescriptionStyleModel",
            "_view_count": null,
            "_view_module": "@jupyter-widgets/base",
            "_view_module_version": "1.2.0",
            "_view_name": "StyleView",
            "description_width": ""
          }
        },
        "0efc7bc61e154e94a0796798bf7aeb8e": {
          "model_module": "@jupyter-widgets/controls",
          "model_name": "HBoxModel",
          "model_module_version": "1.5.0",
          "state": {
            "_dom_classes": [],
            "_model_module": "@jupyter-widgets/controls",
            "_model_module_version": "1.5.0",
            "_model_name": "HBoxModel",
            "_view_count": null,
            "_view_module": "@jupyter-widgets/controls",
            "_view_module_version": "1.5.0",
            "_view_name": "HBoxView",
            "box_style": "",
            "children": [
              "IPY_MODEL_be777076fcab45e1b7c77c3bbaa1f3b7",
              "IPY_MODEL_c304c97ccf434a05b13b29198bffa9da",
              "IPY_MODEL_c40af3c7c195483692f79f5dd9af1567"
            ],
            "layout": "IPY_MODEL_f50e1a6ed1014ed1a93d49efd14c19fd"
          }
        },
        "be777076fcab45e1b7c77c3bbaa1f3b7": {
          "model_module": "@jupyter-widgets/controls",
          "model_name": "HTMLModel",
          "model_module_version": "1.5.0",
          "state": {
            "_dom_classes": [],
            "_model_module": "@jupyter-widgets/controls",
            "_model_module_version": "1.5.0",
            "_model_name": "HTMLModel",
            "_view_count": null,
            "_view_module": "@jupyter-widgets/controls",
            "_view_module_version": "1.5.0",
            "_view_name": "HTMLView",
            "description": "",
            "description_tooltip": null,
            "layout": "IPY_MODEL_305b4c57332849d5a66c0269af91b6b4",
            "placeholder": "​",
            "style": "IPY_MODEL_10b7f06bdffc4c88ae6545619c51ed0d",
            "value": "100%"
          }
        },
        "c304c97ccf434a05b13b29198bffa9da": {
          "model_module": "@jupyter-widgets/controls",
          "model_name": "FloatProgressModel",
          "model_module_version": "1.5.0",
          "state": {
            "_dom_classes": [],
            "_model_module": "@jupyter-widgets/controls",
            "_model_module_version": "1.5.0",
            "_model_name": "FloatProgressModel",
            "_view_count": null,
            "_view_module": "@jupyter-widgets/controls",
            "_view_module_version": "1.5.0",
            "_view_name": "ProgressView",
            "bar_style": "success",
            "description": "",
            "description_tooltip": null,
            "layout": "IPY_MODEL_09984a21651c4c648b996eea38fa1923",
            "max": 63,
            "min": 0,
            "orientation": "horizontal",
            "style": "IPY_MODEL_b1d5fa7595a9455dbecbec7f58038a8c",
            "value": 63
          }
        },
        "c40af3c7c195483692f79f5dd9af1567": {
          "model_module": "@jupyter-widgets/controls",
          "model_name": "HTMLModel",
          "model_module_version": "1.5.0",
          "state": {
            "_dom_classes": [],
            "_model_module": "@jupyter-widgets/controls",
            "_model_module_version": "1.5.0",
            "_model_name": "HTMLModel",
            "_view_count": null,
            "_view_module": "@jupyter-widgets/controls",
            "_view_module_version": "1.5.0",
            "_view_name": "HTMLView",
            "description": "",
            "description_tooltip": null,
            "layout": "IPY_MODEL_6dbfdfd6bfa644cb97c3b42211665003",
            "placeholder": "​",
            "style": "IPY_MODEL_1fb1f5ee0db54647b062ca290be87607",
            "value": " 63/63 [00:03&lt;00:00, 20.98it/s]"
          }
        },
        "f50e1a6ed1014ed1a93d49efd14c19fd": {
          "model_module": "@jupyter-widgets/base",
          "model_name": "LayoutModel",
          "model_module_version": "1.2.0",
          "state": {
            "_model_module": "@jupyter-widgets/base",
            "_model_module_version": "1.2.0",
            "_model_name": "LayoutModel",
            "_view_count": null,
            "_view_module": "@jupyter-widgets/base",
            "_view_module_version": "1.2.0",
            "_view_name": "LayoutView",
            "align_content": null,
            "align_items": null,
            "align_self": null,
            "border": null,
            "bottom": null,
            "display": null,
            "flex": null,
            "flex_flow": null,
            "grid_area": null,
            "grid_auto_columns": null,
            "grid_auto_flow": null,
            "grid_auto_rows": null,
            "grid_column": null,
            "grid_gap": null,
            "grid_row": null,
            "grid_template_areas": null,
            "grid_template_columns": null,
            "grid_template_rows": null,
            "height": null,
            "justify_content": null,
            "justify_items": null,
            "left": null,
            "margin": null,
            "max_height": null,
            "max_width": null,
            "min_height": null,
            "min_width": null,
            "object_fit": null,
            "object_position": null,
            "order": null,
            "overflow": null,
            "overflow_x": null,
            "overflow_y": null,
            "padding": null,
            "right": null,
            "top": null,
            "visibility": null,
            "width": null
          }
        },
        "305b4c57332849d5a66c0269af91b6b4": {
          "model_module": "@jupyter-widgets/base",
          "model_name": "LayoutModel",
          "model_module_version": "1.2.0",
          "state": {
            "_model_module": "@jupyter-widgets/base",
            "_model_module_version": "1.2.0",
            "_model_name": "LayoutModel",
            "_view_count": null,
            "_view_module": "@jupyter-widgets/base",
            "_view_module_version": "1.2.0",
            "_view_name": "LayoutView",
            "align_content": null,
            "align_items": null,
            "align_self": null,
            "border": null,
            "bottom": null,
            "display": null,
            "flex": null,
            "flex_flow": null,
            "grid_area": null,
            "grid_auto_columns": null,
            "grid_auto_flow": null,
            "grid_auto_rows": null,
            "grid_column": null,
            "grid_gap": null,
            "grid_row": null,
            "grid_template_areas": null,
            "grid_template_columns": null,
            "grid_template_rows": null,
            "height": null,
            "justify_content": null,
            "justify_items": null,
            "left": null,
            "margin": null,
            "max_height": null,
            "max_width": null,
            "min_height": null,
            "min_width": null,
            "object_fit": null,
            "object_position": null,
            "order": null,
            "overflow": null,
            "overflow_x": null,
            "overflow_y": null,
            "padding": null,
            "right": null,
            "top": null,
            "visibility": null,
            "width": null
          }
        },
        "10b7f06bdffc4c88ae6545619c51ed0d": {
          "model_module": "@jupyter-widgets/controls",
          "model_name": "DescriptionStyleModel",
          "model_module_version": "1.5.0",
          "state": {
            "_model_module": "@jupyter-widgets/controls",
            "_model_module_version": "1.5.0",
            "_model_name": "DescriptionStyleModel",
            "_view_count": null,
            "_view_module": "@jupyter-widgets/base",
            "_view_module_version": "1.2.0",
            "_view_name": "StyleView",
            "description_width": ""
          }
        },
        "09984a21651c4c648b996eea38fa1923": {
          "model_module": "@jupyter-widgets/base",
          "model_name": "LayoutModel",
          "model_module_version": "1.2.0",
          "state": {
            "_model_module": "@jupyter-widgets/base",
            "_model_module_version": "1.2.0",
            "_model_name": "LayoutModel",
            "_view_count": null,
            "_view_module": "@jupyter-widgets/base",
            "_view_module_version": "1.2.0",
            "_view_name": "LayoutView",
            "align_content": null,
            "align_items": null,
            "align_self": null,
            "border": null,
            "bottom": null,
            "display": null,
            "flex": null,
            "flex_flow": null,
            "grid_area": null,
            "grid_auto_columns": null,
            "grid_auto_flow": null,
            "grid_auto_rows": null,
            "grid_column": null,
            "grid_gap": null,
            "grid_row": null,
            "grid_template_areas": null,
            "grid_template_columns": null,
            "grid_template_rows": null,
            "height": null,
            "justify_content": null,
            "justify_items": null,
            "left": null,
            "margin": null,
            "max_height": null,
            "max_width": null,
            "min_height": null,
            "min_width": null,
            "object_fit": null,
            "object_position": null,
            "order": null,
            "overflow": null,
            "overflow_x": null,
            "overflow_y": null,
            "padding": null,
            "right": null,
            "top": null,
            "visibility": null,
            "width": null
          }
        },
        "b1d5fa7595a9455dbecbec7f58038a8c": {
          "model_module": "@jupyter-widgets/controls",
          "model_name": "ProgressStyleModel",
          "model_module_version": "1.5.0",
          "state": {
            "_model_module": "@jupyter-widgets/controls",
            "_model_module_version": "1.5.0",
            "_model_name": "ProgressStyleModel",
            "_view_count": null,
            "_view_module": "@jupyter-widgets/base",
            "_view_module_version": "1.2.0",
            "_view_name": "StyleView",
            "bar_color": null,
            "description_width": ""
          }
        },
        "6dbfdfd6bfa644cb97c3b42211665003": {
          "model_module": "@jupyter-widgets/base",
          "model_name": "LayoutModel",
          "model_module_version": "1.2.0",
          "state": {
            "_model_module": "@jupyter-widgets/base",
            "_model_module_version": "1.2.0",
            "_model_name": "LayoutModel",
            "_view_count": null,
            "_view_module": "@jupyter-widgets/base",
            "_view_module_version": "1.2.0",
            "_view_name": "LayoutView",
            "align_content": null,
            "align_items": null,
            "align_self": null,
            "border": null,
            "bottom": null,
            "display": null,
            "flex": null,
            "flex_flow": null,
            "grid_area": null,
            "grid_auto_columns": null,
            "grid_auto_flow": null,
            "grid_auto_rows": null,
            "grid_column": null,
            "grid_gap": null,
            "grid_row": null,
            "grid_template_areas": null,
            "grid_template_columns": null,
            "grid_template_rows": null,
            "height": null,
            "justify_content": null,
            "justify_items": null,
            "left": null,
            "margin": null,
            "max_height": null,
            "max_width": null,
            "min_height": null,
            "min_width": null,
            "object_fit": null,
            "object_position": null,
            "order": null,
            "overflow": null,
            "overflow_x": null,
            "overflow_y": null,
            "padding": null,
            "right": null,
            "top": null,
            "visibility": null,
            "width": null
          }
        },
        "1fb1f5ee0db54647b062ca290be87607": {
          "model_module": "@jupyter-widgets/controls",
          "model_name": "DescriptionStyleModel",
          "model_module_version": "1.5.0",
          "state": {
            "_model_module": "@jupyter-widgets/controls",
            "_model_module_version": "1.5.0",
            "_model_name": "DescriptionStyleModel",
            "_view_count": null,
            "_view_module": "@jupyter-widgets/base",
            "_view_module_version": "1.2.0",
            "_view_name": "StyleView",
            "description_width": ""
          }
        }
      }
    }
  },
  "nbformat": 4,
  "nbformat_minor": 0
}