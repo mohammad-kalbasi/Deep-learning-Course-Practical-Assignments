{
  "nbformat": 4,
  "nbformat_minor": 0,
  "metadata": {
    "colab": {
      "provenance": []
    },
    "kernelspec": {
      "name": "python3",
      "display_name": "Python 3"
    },
    "language_info": {
      "name": "python"
    },
    "gpuClass": "standard"
  },
  "cells": [
    {
      "cell_type": "markdown",
      "source": [
        "# Deep Learning"
      ],
      "metadata": {
        "id": "GbgeyQ5pGL2j"
      }
    },
    {
      "cell_type": "markdown",
      "source": [
        "## HW4- Problem 1 - Seq to Seq model for poem generating\n"
      ],
      "metadata": {
        "id": "Nb1vlsa0GNhc"
      }
    },
    {
      "cell_type": "markdown",
      "source": [
        "1.   Full Name: Mohammad Kalbasi\n",
        "2.   Student Number: 401211028"
      ],
      "metadata": {
        "id": "xfIkF4p2GPhw"
      }
    },
    {
      "cell_type": "code",
      "execution_count": null,
      "metadata": {
        "colab": {
          "base_uri": "https://localhost:8080/"
        },
        "id": "VrGfyW5bF_Tp",
        "outputId": "d6ba485d-707e-4b40-e329-beb44bd34e68"
      },
      "outputs": [
        {
          "output_type": "stream",
          "name": "stderr",
          "text": [
            "[nltk_data] Downloading package stopwords to /root/nltk_data...\n",
            "[nltk_data]   Unzipping corpora/stopwords.zip.\n"
          ]
        }
      ],
      "source": [
        "import numpy as np\n",
        "import skimage.io as io\n",
        "import matplotlib.pyplot as plt\n",
        "import pylab\n",
        "\n",
        "import random\n",
        "import string\n",
        "\n",
        "import pickle \n",
        "\n",
        "\n",
        "import cv2\n",
        "import os\n",
        "from pickle import dump, load\n",
        "import json\n",
        "\n",
        "import nltk\n",
        "nltk.download(\"stopwords\")\n",
        "from nltk.corpus import stopwords\n",
        "\n",
        "import tensorflow as tf\n",
        "from tensorflow.keras.preprocessing.sequence import pad_sequences\n",
        "from tensorflow.keras.layers import Embedding, LSTM, Dense, Bidirectional, Input, Dropout, Attention,GRU,Concatenate\n",
        "from tensorflow.keras.preprocessing.text import Tokenizer\n",
        "from tensorflow.keras.models import Sequential\n",
        "from tensorflow.keras.optimizers import Adam\n",
        "from tensorflow.keras.applications.xception import Xception, preprocess_input\n",
        "from tensorflow.keras.applications import ResNet50\n",
        "\n",
        "from tensorflow.keras.preprocessing.image import load_img, img_to_array\n",
        "from tensorflow.keras.utils import to_categorical\n",
        "\n",
        "import tensorflow.keras.layers\n",
        "\n",
        "from tensorflow.keras.models import Model, load_model\n",
        "\n",
        "from tqdm.notebook import tqdm\n",
        "from itertools import chain\n"
      ]
    },
    {
      "cell_type": "code",
      "source": [
        "from google.colab import drive\n",
        "drive.mount('/content/gdrive') # we use google drive to load files and save models there! so change path files based on your own data and run the code!"
      ],
      "metadata": {
        "colab": {
          "base_uri": "https://localhost:8080/"
        },
        "id": "5BbEL2aiNZq-",
        "outputId": "79a134df-728d-4c4b-a32e-8e3bbbb151ad"
      },
      "execution_count": null,
      "outputs": [
        {
          "output_type": "stream",
          "name": "stdout",
          "text": [
            "Mounted at /content/gdrive\n"
          ]
        }
      ]
    },
    {
      "cell_type": "code",
      "source": [
        "with open('/content/gdrive/MyDrive/deep_learning/HW04/ferdousi.txt') as f:\n",
        "  lines = [line.rstrip('\\n') for line in f]\n",
        "  ferdousi = [line for line in lines if line]\n",
        "ferdousi = ferdousi[2:]\n"
      ],
      "metadata": {
        "id": "VvCanP6JZva7"
      },
      "execution_count": null,
      "outputs": []
    },
    {
      "cell_type": "markdown",
      "source": [
        "plotting distribution of words so we can have a sense how many times each word repear"
      ],
      "metadata": {
        "id": "-Sq52i4jBdbA"
      }
    },
    {
      "cell_type": "code",
      "source": [
        "all_words = []\n",
        "for i in range(len(ferdousi)):\n",
        "  all_words.append(ferdousi[i].split())\n",
        "all_words = list(chain.from_iterable(all_words))\n",
        "values, counts = np.unique(all_words, return_counts=True)\n",
        "sorted = np.argsort(counts)\n",
        "values_sort = values[sorted]\n",
        "counts_sort = counts[sorted]\n",
        "import matplotlib.pyplot as plt\n",
        " \n",
        "  \n",
        "  \n",
        "fig = plt.figure(figsize = (10, 5))\n",
        "counts[counts>100] = 100\n",
        "# creating the bar plot\n",
        "plt.hist(counts,bins = 100)\n",
        " \n",
        "plt.xlabel(\"words\")\n",
        "plt.ylabel(\"No. of accurance\")\n",
        "plt.show()\n",
        "\n",
        " "
      ],
      "metadata": {
        "colab": {
          "base_uri": "https://localhost:8080/",
          "height": 334
        },
        "id": "xRI32BdeWa4x",
        "outputId": "e94882fb-f9a9-43aa-f96c-538a1edf2885"
      },
      "execution_count": null,
      "outputs": [
        {
          "output_type": "display_data",
          "data": {
            "text/plain": [
              "<Figure size 720x360 with 1 Axes>"
            ],
            "image/png": "[encoded data removed]"
          },
          "metadata": {
            "needs_background": "light"
          }
        }
      ]
    },
    {
      "cell_type": "code",
      "source": [
        "bait_ferdosi = []\n",
        "for i in range(0,len(ferdousi)-1,2):\n",
        "  temp_b8 = ferdousi[i] + \" <bos> \" + ferdousi[i+1]\n",
        "  bait_ferdosi.append(temp_b8)\n"
      ],
      "metadata": {
        "id": "GnMGKF5V1b8_"
      },
      "execution_count": null,
      "outputs": []
    },
    {
      "cell_type": "code",
      "source": [
        "bait_ferdosi[0]"
      ],
      "metadata": {
        "colab": {
          "base_uri": "https://localhost:8080/",
          "height": 36
        },
        "id": "m0L7lXCp8g6l",
        "outputId": "bad603d8-5b4f-4b13-e566-459e78975274"
      },
      "execution_count": null,
      "outputs": [
        {
          "output_type": "execute_result",
          "data": {
            "text/plain": [
              "'به نام خداوند جان و خرد <bos> کزین برتر اندیشه برنگذرد'"
            ],
            "application/vnd.google.colaboratory.intrinsic+json": {
              "type": "string"
            }
          },
          "metadata": {},
          "execution_count": 6
        }
      ]
    },
    {
      "cell_type": "markdown",
      "source": [
        "## important note:\n",
        " we add \"bos\" token (between of sentence) to make our model undrestand different parts of poem, so we hope that it force that our model to have rhythm , but as you can see first part of poem is on left and then second part is on right of \"bos\" token, for example when reading this first you should read:\n",
        "\n",
        " به نام خداوند جان و خرد\n",
        "\n",
        " and then \n",
        "\n",
        " کزین برتر اندیشه برنگذرد"
      ],
      "metadata": {
        "id": "ZGj1F6312x4W"
      }
    },
    {
      "cell_type": "code",
      "source": [
        "for i in range(len(bait_ferdosi)):\n",
        "  bait_ferdosi[i] =  '<sos> ' + \"\".join(bait_ferdosi[i]) + ' <eos>'"
      ],
      "metadata": {
        "id": "AUXSwz6mZ40P"
      },
      "execution_count": null,
      "outputs": []
    },
    {
      "cell_type": "code",
      "source": [
        "tokenizer = Tokenizer(oov_token='<oov>',num_words=10000)\n",
        "tokenizer.fit_on_texts(bait_ferdosi)"
      ],
      "metadata": {
        "id": "f_h2QQkgbuZA"
      },
      "execution_count": null,
      "outputs": []
    },
    {
      "cell_type": "code",
      "source": [
        "# printing vocab size\n",
        "vocab_size = len(tokenizer.word_index)+1\n",
        "print(f\"number of unique word in our created vocabulary = {vocab_size}\")\n",
        "print(tokenizer.word_index)"
      ],
      "metadata": {
        "colab": {
          "base_uri": "https://localhost:8080/"
        },
        "id": "9sO1GvaFb_W1",
        "outputId": "db09af4e-c3ff-49e1-fa50-356d9bc568c1"
      },
      "execution_count": null,
      "outputs": [
        {
          "output_type": "stream",
          "name": "stdout",
          "text": [
            "number of unique word in our created vocabulary = 18011\n",
            "{'<oov>': 1, 'sos': 2, 'bos': 3, 'eos': 4, 'و': 5, 'به': 6, 'که': 7, 'ز': 8, 'از': 9, 'بر': 10, 'را': 11, 'چو': 12, 'با': 13, 'همی': 14, 'گفت': 15, 'شد': 16, 'شاه': 17, 'تو': 18, 'بود': 19, 'او': 20, 'یکی': 21, 'همه': 22, 'آن': 23, 'اندر': 24, 'من': 25, 'در': 26, 'تا': 27, 'سر': 28, 'دل': 29, 'چنین': 30, 'کرد': 31, 'آمد': 32, 'پیش': 33, 'این': 34, 'جهان': 35, 'بد': 36, 'پر': 37, 'بدو': 38, 'هر': 39, 'سپاه': 40, 'چون': 41, 'داد': 42, 'پس': 43, 'دو': 44, 'نه': 45, 'راه': 46, 'ای': 47, 'روی': 48, 'سوی': 49, 'کار': 50, 'لشکر': 51, 'سخن': 52, 'چه': 53, 'تخت': 54, 'بی': 55, 'هم': 56, 'ما': 57, 'مرد': 58, 'جنگ': 59, 'مرا': 60, 'گر': 61, 'جای': 62, 'دست': 63, 'زمین': 64, 'گرد': 65, 'ایران': 66, 'گشت': 67, 'بیامد': 68, 'همان': 69, 'روز': 70, 'یک': 71, 'باد': 72, 'بدین': 73, 'کسی': 74, 'شهریار': 75, 'رای': 76, 'بدان': 77, 'خویش': 78, 'کس': 79, 'ازان': 80, 'تن': 81, 'تاج': 82, 'اگر': 83, 'نام': 84, 'گنج': 85, 'اوی': 86, 'بران': 87, 'آفرین': 88, 'خون': 89, 'زین': 90, 'رنج': 91, 'آب': 92, 'کنون': 93, 'نزدیک': 94, 'نیست': 95, 'کوه': 96, 'برو': 97, 'یزدان': 98, 'کین': 99, 'نیز': 100, 'چنان': 101, 'خرد': 102, 'روان': 103, 'گیتی': 104, 'پاسخ': 105, 'شود': 106, 'زان': 107, 'رستم': 108, 'اندرون': 109, 'جز': 110, 'دید': 111, 'شیر': 112, 'میان': 113, 'آید': 114, 'دگر': 115, 'شب': 116, 'برین': 117, 'ترا': 118, 'بهرام': 119, 'جان': 120, 'شاد': 121, 'درد': 122, 'خاک': 123, 'کجا': 124, 'دشت': 125, 'بسی': 126, 'ماه': 127, 'سپه': 128, 'زمان': 129, 'یاد': 130, 'تیره': 131, 'بهر': 132, 'گفتار': 133, 'باید': 134, 'نامه': 135, 'باشد': 136, 'پدر': 137, 'کای': 138, 'برآمد': 139, 'بفرمود': 140, 'آورد': 141, 'پای': 142, 'باز': 143, 'مگر': 144, 'کند': 145, 'خسرو': 146, 'گاه': 147, 'روزگار': 148, 'ازین': 149, 'انجمن': 150, 'وز': 151, 'بشنید': 152, 'شهر': 153, 'پاک': 154, 'خود': 155, 'جهاندار': 156, 'مهر': 157, 'بخت': 158, 'تیغ': 159, 'گردان': 160, 'رفت': 161, 'نیک': 162, 'رزم': 163, 'خورشید': 164, 'گونه': 165, 'پهلوان': 166, 'کز': 167, 'پشت': 168, 'نامور': 169, 'گفتی': 170, 'فرمان': 171, 'پیل': 172, 'وزان': 173, 'ورا': 174, 'بدی': 175, 'روشن': 176, 'می': 177, 'کن': 178, 'ازو': 179, 'بلند': 180, 'چین': 181, 'سوار': 182, 'نگه': 183, 'نبرد': 184, 'راست': 185, 'بزرگان': 186, 'دارد': 187, 'کلاه': 188, 'برفتند': 189, 'رسید': 190, 'گردد': 191, 'زن': 192, 'دیده': 193, 'نهان': 194, 'بند': 195, 'نزد': 196, 'گیو': 197, 'بوم': 198, 'آتش': 199, 'زو': 200, 'وگر': 201, 'نشست': 202, 'نامداران': 203, 'خواب': 204, 'کینه': 205, 'زرین': 206, 'مر': 207, 'چشم': 208, 'کردار': 209, 'سه': 210, 'سواران': 211, 'نباید': 212, 'شدند': 213, 'افراسیاب': 214, 'کنم': 215, 'سپهبد': 216, 'دیگر': 217, 'گرفت': 218, 'کو': 219, 'تنگ': 220, 'تیر': 221, 'اسپ': 222, 'دور': 223, 'مردم': 224, 'دار': 225, 'زر': 226, 'خردمند': 227, 'چنگ': 228, 'پی': 229, 'فرستاده': 230, 'سرش': 231, 'دانش': 232, 'زیر': 233, 'بدید': 234, 'کام': 235, 'فرستاد': 236, 'پیران': 237, 'نامدار': 238, 'تیز': 239, 'کارزار': 240, 'ایوان': 241, 'فر': 242, 'آواز': 243, 'سیاوش': 244, 'چند': 245, 'کرده': 246, 'کشته': 247, 'هزار': 248, 'توران': 249, 'فرزند': 250, 'جوان': 251, 'جوی': 252, 'فراوان': 253, 'بیدار': 254, 'کمر': 255, 'بگفت': 256, 'نو': 257, 'ابا': 258, 'گوی': 259, 'یکسر': 260, 'نماند': 261, 'ده': 262, 'کشید': 263, 'گوهر': 264, 'بار': 265, 'سپهر': 266, 'گران': 267, 'پیر': 268, 'آنک': 269, 'برد': 270, 'پسر': 271, 'قیصر': 272, 'گودرز': 273, 'دلش': 274, 'راز': 275, 'نیزه': 276, 'ترکان': 277, 'سو': 278, 'مرز': 279, 'بس': 280, 'جنگی': 281, 'چیز': 282, 'سرای': 283, 'است': 284, 'بباید': 285, 'طوس': 286, 'اندیشه': 287, 'فرخ': 288, 'ماند': 289, 'ایدر': 290, 'ایرانیان': 291, 'روم': 292, 'چرخ': 293, 'هرچ': 294, 'خیره': 295, 'درفش': 296, 'شاهی': 297, 'دشمن': 298, 'شما': 299, 'فراز': 300, 'بشد': 301, 'آیین': 302, 'سان': 303, 'دلیر': 304, 'نهادند': 305, 'ام': 306, 'فرود': 307, 'سالار': 308, 'زبان': 309, 'آمدند': 310, 'بیاورد': 311, 'ایشان': 312, 'خواست': 313, 'هوا': 314, 'دین': 315, 'رخ': 316, 'گرز': 317, 'خوار': 318, 'مردی': 319, 'اکنون': 320, 'خواند': 321, 'پیروز': 322, 'هرگز': 323, 'غم': 324, 'نباشد': 325, 'بسته': 326, 'سپهدار': 327, 'لب': 328, 'آرام': 329, 'جفت': 330, 'سپاهی': 331, 'چرا': 332, 'موبد': 333, 'ابر': 334, 'کوس': 335, 'بپرسید': 336, 'خاقان': 337, 'بخواند': 338, 'شمشیر': 339, 'سیاه': 340, 'بیژن': 341, 'چاره': 342, 'پدید': 343, 'بماند': 344, 'نهاد': 345, 'دینار': 346, 'خروش': 347, 'نژاد': 348, 'نهفت': 349, 'باره': 350, 'رنگ': 351, 'کشور': 352, 'درم': 353, 'دراز': 354, 'چندی': 355, 'دریا': 356, 'جام': 357, 'سراسر': 358, 'بنده': 359, 'داشت': 360, 'هیچ': 361, 'اسفندیار': 362, 'پیمان': 363, 'مکن': 364, 'کمان': 365, 'خداوند': 366, 'بزد': 367, 'کزین': 368, 'کهن': 369, 'دیو': 370, 'سرافراز': 371, 'سام': 372, 'رزمگاه': 373, 'گزند': 374, 'سال': 375, 'بیش': 376, 'خواه': 377, 'مهتر': 378, 'شنید': 379, 'نخست': 380, 'دمان': 381, 'باش': 382, 'نشان': 383, 'رود': 384, 'زال': 385, 'هست': 386, 'جست': 387, 'اختر': 388, 'خواسته': 389, 'زرد': 390, 'مهان': 391, 'کی': 392, 'یار': 393, 'براند': 394, 'خسته': 395, 'سران': 396, 'مرگ': 397, 'زنده': 398, 'مشک': 399, 'نیکی': 400, 'داستان': 401, 'زد': 402, 'بنهاد': 403, 'صد': 404, 'آنچ': 405, 'بسیار': 406, 'درنگ': 407, 'چهر': 408, 'کم': 409, 'بدست': 410, 'سرو': 411, 'پور': 412, 'شده': 413, 'بزرگی': 414, 'گشته': 415, 'گزین': 416, 'ندید': 417, 'دم': 418, 'دژ': 419, 'زمانه': 420, 'گوش': 421, 'پیاده': 422, 'خورد': 423, 'شوم': 424, 'آباد': 425, 'نیاید': 426, 'کاووس': 427, 'بیم': 428, 'دلیران': 429, 'رهنمای': 430, 'بیاراست': 431, 'کاین': 432, 'موبدان': 433, 'خشم': 434, 'درگاه': 435, 'نبود': 436, 'دانا': 437, 'مایه': 438, 'برش': 439, 'سنگ': 440, 'مهتران': 441, 'دیدار': 442, 'نبد': 443, 'بالا': 444, 'گه': 445, 'کردگار': 446, 'سخنها': 447, 'ساز': 448, 'پند': 449, 'شگفت': 450, 'پرده': 451, 'هنر': 452, 'کنی': 453, 'رخش': 454, 'خواهد': 455, 'شاهان': 456, 'کنیم': 457, 'بن': 458, 'برفت': 459, 'آگهی': 460, 'دژم': 461, 'گشتاسپ': 462, 'سکندر': 463, 'بیرون': 464, 'رومی': 465, 'برادر': 466, 'بگشاد': 467, 'تهمتن': 468, 'جایگه': 469, 'خوب': 470, 'تر': 471, 'منست': 472, 'پراگنده': 473, 'سواری': 474, 'پرستنده': 475, 'ره': 476, 'بزرگ': 477, 'آمدش': 478, 'کنید': 479, 'راستی': 480, 'همانا': 481, 'مغز': 482, 'خواندند': 483, 'چندین': 484, 'کاخ': 485, 'ندارد': 486, 'برآورد': 487, 'خویشتن': 488, 'گویی': 489, 'شادی': 490, 'کمند': 491, 'گردش': 492, 'تنش': 493, 'چیزی': 494, 'بجنگ': 495, 'خواهی': 496, 'همیشه': 497, 'پلنگ': 498, 'گل': 499, 'گمان': 500, 'هنگام': 501, 'گو': 502, 'داری': 503, 'آسمان': 504, 'ننگ': 505, 'کان': 506, 'سپرد': 507, 'راند': 508, 'اسب': 509, 'گور': 510, 'گذشت': 511, 'مردان': 512, 'سخت': 513, 'اردشیر': 514, 'نیاز': 515, 'کیان': 516, 'پادشاهی': 517, 'ناپدید': 518, 'گروه': 519, 'گرانمایه': 520, 'درست': 521, 'شهنشاه': 522, 'گردن': 523, 'تست': 524, 'درخت': 525, 'خانه': 526, 'تیمار': 527, 'گرفتند': 528, 'ایچ': 529, 'جهانجوی': 530, 'پیوند': 531, 'اژدها': 532, 'برکشید': 533, 'نگاه': 534, 'آرد': 535, 'زور': 536, 'بکردار': 537, 'یکایک': 538, 'دادگر': 539, 'هوش': 540, 'آنکس': 541, 'بوی': 542, 'کیست': 543, 'دریای': 544, 'پادشا': 545, 'رو': 546, 'نیامد': 547, 'لشکری': 548, 'بگذرد': 549, 'دهد': 550, 'برون': 551, 'بودند': 552, 'افسر': 553, 'گذر': 554, 'شمار': 555, 'کزو': 556, 'شرم': 557, 'سخنهای': 558, 'بالای': 559, 'بنشست': 560, 'تخم': 561, 'زود': 562, 'ستاره': 563, 'گناه': 564, 'جوشن': 565, 'سزد': 566, 'دستان': 567, 'زار': 568, 'پیکار': 569, 'برگشت': 570, 'افگند': 571, 'جایی': 572, 'باشی': 573, 'هفته': 574, 'عنان': 575, 'یال': 576, 'فریدون': 577, 'بداد': 578, 'باغ': 579, 'اندران': 580, 'بودی': 581, 'بجای': 582, 'بگوی': 583, 'کردن': 584, 'کش': 585, 'کزان': 586, 'بنزدیک': 587, 'ببست': 588, 'ار': 589, 'چیست': 590, 'گستهم': 591, 'گوید': 592, 'جامه': 593, 'هامون': 594, 'کردند': 595, 'بسان': 596, 'عاج': 597, 'زره': 598, 'رفتن': 599, 'شوی': 600, 'پیلان': 601, 'گهر': 602, 'باژ': 603, 'دستور': 604, 'پذیره': 605, 'بروی': 606, 'منم': 607, 'پیدا': 608, 'مادر': 609, 'زمانی': 610, 'شتاب': 611, 'مست': 612, 'مبادا': 613, 'زهر': 614, 'غمی': 615, 'آفتاب': 616, 'تازه': 617, 'چندان': 618, 'گرم': 619, 'شدن': 620, 'ازیشان': 621, 'اندرین': 622, 'نشاید': 623, 'ترک': 624, 'دبیر': 625, 'خرم': 626, 'فزون': 627, 'آرزو': 628, 'شاپور': 629, 'بزم': 630, 'ها': 631, 'زخم': 632, 'فرو': 633, 'مهتری': 634, 'آراسته': 635, 'پیلتن': 636, 'کردی': 637, 'سی': 638, 'بیاراستند': 639, 'خوبی': 640, 'دلاور': 641, 'برخاست': 642, 'بیاید': 643, 'بانگ': 644, 'سزاوار': 645, 'نگر': 646, 'نهاده': 647, 'نبیند': 648, 'کنند': 649, 'موی': 650, 'بیداد': 651, 'مه': 652, 'وی': 653, 'بدانست': 654, 'گرگ': 655, 'کودک': 656, 'خوان': 657, 'هندی': 658, 'هرانکس': 659, 'هومان': 660, 'تاریک': 661, 'آنگه': 662, 'اسپان': 663, 'شیران': 664, 'جهاندیده': 665, 'روزی': 666, 'شگفتی': 667, 'جوید': 668, 'دوان': 669, 'بپیچید': 670, 'بارگاه': 671, 'آوریم': 672, 'ببر': 673, 'بدند': 674, 'برسان': 675, 'بپوشید': 676, 'ژیان': 677, 'ور': 678, 'خنجر': 679, 'هرکس': 680, 'آورید': 681, 'بهره': 682, 'بودش': 683, 'یافت': 684, 'یلان': 685, 'سیه': 686, 'ببرد': 687, 'تهی': 688, 'دان': 689, 'بدیشان': 690, 'خروشان': 691, 'بیابان': 692, 'کسری': 693, 'بیند': 694, 'خروشی': 695, 'پرست': 696, 'اندازه': 697, 'آگاهی': 698, 'بخندید': 699, 'برتر': 700, 'وزین': 701, 'نیو': 702, 'فرخنده': 703, 'نخچیر': 704, 'درود': 705, 'نیم': 706, 'جگر': 707, 'شاخ': 708, 'بخردان': 709, 'ترگ': 710, 'کیخسرو': 711, 'اند': 712, 'خواستند': 713, 'سرد': 714, 'آهن': 715, 'برآشفت': 716, 'دختر': 717, 'بیشه': 718, 'ایم': 719, 'دارم': 720, 'شدی': 721, 'سترگ': 722, 'ببستند': 723, 'تندی': 724, 'امروز': 725, 'نامهٔ': 726, 'یابد': 727, 'سبک': 728, 'آمدی': 729, 'بنه': 730, 'ایدونک': 731, 'فرجام': 732, 'اوست': 733, 'کشوری': 734, 'سیم': 735, 'شاهنشهی': 736, 'شست': 737, 'شارستان': 738, 'سلیح': 739, 'نخستین': 740, 'خور': 741, 'خدای': 742, 'نرم': 743, 'نگردد': 744, 'فرمود': 745, 'چینی': 746, 'برگرفت': 747, 'بپیش': 748, 'بهم': 749, 'یاقوت': 750, 'کژی': 751, 'نشسته': 752, 'خورش': 753, 'آیدت': 754, 'ببردند': 755, 'قباد': 756, 'کشتی': 757, 'فروز': 758, 'سیر': 759, 'لشکرش': 760, 'سنان': 761, 'گهی': 762, 'میدان': 763, 'ارجمند': 764, 'شادان': 765, 'نگهبان': 766, 'بهار': 767, 'دلت': 768, 'یادگار': 769, 'آزاد': 770, 'تفت': 771, 'زاد': 772, 'هفت': 773, 'دود': 774, 'گریان': 775, 'کران': 776, 'طلایه': 777, 'جایگاه': 778, 'دانی': 779, 'هرگونه': 780, 'پیشش': 781, 'گاو': 782, 'سربسر': 783, 'خم': 784, 'هرک': 785, 'سرانجام': 786, 'هند': 787, 'دلم': 788, 'درویش': 789, 'گیرد': 790, 'شادمان': 791, 'آورم': 792, 'چاک': 793, 'پیام': 794, 'سپید': 795, 'بگذشت': 796, 'گردنکشان': 797, 'بادا': 798, 'آوردگاه': 799, 'ایمن': 800, 'بنمود': 801, 'نشستند': 802, 'بدگمان': 803, 'نوشین': 804, 'کاوس': 805, 'گشاده': 806, 'توی': 807, 'رسم': 808, 'مرغ': 809, 'دستگاه': 810, 'بارهٔ': 811, 'شدست': 812, 'تباه': 813, 'گفتن': 814, 'آگاه': 815, 'نیایش': 816, 'جهانی': 817, 'گشتند': 818, 'بگویم': 819, 'بهشت': 820, 'یل': 821, 'هرآنکس': 822, 'بخشش': 823, 'دام': 824, 'نماز': 825, 'ویران': 826, 'رهنمون': 827, 'نیابد': 828, 'آشکار': 829, 'داشتی': 830, 'بکشت': 831, 'جستن': 832, 'بریشان': 833, 'گرفته': 834, 'خاست': 835, 'رسد': 836, 'مباد': 837, 'ریخت': 838, 'گرسیوز': 839, 'سود': 840, 'آوای': 841, 'برز': 842, 'لاژورد': 843, 'سپاس': 844, 'نشیب': 845, 'گرامی': 846, 'نبودی': 847, 'پنج': 848, 'بداندیش': 849, 'گذشته': 850, 'خوی': 851, 'مهی': 852, 'برنشست': 853, 'دیبای': 854, 'براه': 855, 'خلعت': 856, 'همچو': 857, 'دیبا': 858, 'زیان': 859, 'دلی': 860, 'امید': 861, 'بپای': 862, 'ستایش': 863, 'آفرید': 864, 'رها': 865, 'دیوان': 866, 'هدیه': 867, 'برگزید': 868, 'خشک': 869, 'پوزش': 870, 'ببخشید': 871, 'بگفتند': 872, 'گم': 873, 'صف': 874, 'پرمایه': 875, 'بردند': 876, 'تاخت': 877, 'بدخواه': 878, 'کهتر': 879, 'کرا': 880, 'کشیدند': 881, 'جدا': 882, 'ولیکن': 883, 'بدوی': 884, 'بسر': 885, 'آزار': 886, 'نهنگ': 887, 'پیچان': 888, 'نیا': 889, 'چار': 890, 'درون': 891, 'گردون': 892, 'سرخ': 893, 'آز': 894, 'جامهٔ': 895, 'بینی': 896, 'دیهیم': 897, 'پست': 898, 'ساختند': 899, 'سرفراز': 900, 'کردم': 901, 'بنفش': 902, 'منوچهر': 903, 'بیک': 904, 'فریبرز': 905, 'داند': 906, 'نخواهد': 907, 'چهارم': 908, 'بشست': 909, 'پیروزگر': 910, 'برزد': 911, 'بست': 912, 'بگذاشتند': 913, 'ژنده': 914, 'پراندیشه': 915, 'خوش': 916, 'خروشیدن': 917, 'پیکر': 918, 'جاودان': 919, 'شادکام': 920, 'نفرین': 921, 'تور': 922, 'گریست': 923, 'گفتند': 924, 'هور': 925, 'رویین': 926, 'ساخت': 927, 'جوش': 928, 'ضحاک': 929, 'شاهوار': 930, 'آسان': 931, 'نخواهم': 932, 'مازندران': 933, 'نکرد': 934, 'شیرین': 935, 'دریغ': 936, 'بهمن': 937, 'خواهم': 938, 'دیر': 939, 'سپر': 940, 'برزین': 941, 'نوذر': 942, 'کاری': 943, 'برآید': 944, 'ندانم': 945, 'آوری': 946, 'داده': 947, 'کشتن': 948, 'خان': 949, 'بدرد': 950, 'زشت': 951, 'پرخاشجوی': 952, 'نامبردار': 953, 'گنجور': 954, 'قلب': 955, 'آهنگ': 956, 'بدانگه': 957, 'ببند': 958, 'اندکی': 959, 'تاختن': 960, 'کشت': 961, 'نگون': 962, 'سرت': 963, 'باک': 964, 'تازی': 965, 'داور': 966, 'نره': 967, 'نوش': 968, 'ببوسید': 969, 'پولاد': 970, 'داننده': 971, 'پیروزی': 972, 'نای': 973, 'چپ': 974, 'کابل': 975, 'نشاند': 976, 'نامداری': 977, 'نمود': 978, 'دهقان': 979, 'گفتم': 980, 'وزو': 981, 'جنگجوی': 982, 'شه': 983, 'آرزوی': 984, 'نگین': 985, 'کنار': 986, 'کاستی': 987, 'شکار': 988, 'پیکان': 989, 'سرکشان': 990, 'گرگین': 991, 'سهراب': 992, 'اندرو': 993, 'تابنده': 994, 'پوست': 995, 'پسند': 996, 'مجوی': 997, 'بروبر': 998, 'همین': 999, 'خوردن': 1000, 'چاه': 1001, 'برنهاد': 1002, 'زدند': 1003, 'جزین': 1004, 'ریختن': 1005, 'دیدی': 1006, 'سور': 1007, 'خیمه': 1008, 'خندان': 1009, 'نبینی': 1010, 'نداند': 1011, 'ببینی': 1012, 'دهم': 1013, 'جوانی': 1014, 'پهلوی': 1015, 'تابان': 1016, 'بره': 1017, 'نان': 1018, 'بنگرید': 1019, 'فرهی': 1020, 'فردا': 1021, 'برانگیخت': 1022, 'بجست': 1023, 'گردی': 1024, 'زندان': 1025, 'گفته': 1026, 'نیارد': 1027, 'ستوه': 1028, 'سپنج': 1029, 'جیحون': 1030, 'بایران': 1031, 'ارجاسپ': 1032, 'برآورده': 1033, 'کدخدای': 1034, 'برید': 1035, 'پناه': 1036, 'سوگند': 1037, 'سری': 1038, 'دیدم': 1039, 'برگشاد': 1040, 'چنانچون': 1041, 'مدار': 1042, 'گیر': 1043, 'رامش': 1044, 'تخمهٔ': 1045, 'کاو': 1046, 'آنجا': 1047, 'آزادگان': 1048, 'برگ': 1049, 'ردان': 1050, 'دانشی': 1051, 'ساخته': 1052, 'خواستی': 1053, 'پاکیزه': 1054, 'سختی': 1055, 'خرامید': 1056, 'اندیشهٔ': 1057, 'برنا': 1058, 'آرم': 1059, 'اندرش': 1060, 'برهنه': 1061, 'ایزدی': 1062, 'مانده': 1063, 'گریزان': 1064, 'آگنده': 1065, 'ببد': 1066, 'برخاستند': 1067, 'قارن': 1068, 'رهام': 1069, 'کاموس': 1070, 'بیگانه': 1071, 'یکسره': 1072, 'نامجوی': 1073, 'آشکارا': 1074, 'گزید': 1075, 'شکست': 1076, 'گزیده': 1077, 'همداستان': 1078, 'بگرفت': 1079, 'آورده': 1080, 'بایست': 1081, 'آمدم': 1082, 'افگنده': 1083, 'شنگل': 1084, 'زریر': 1085, 'بینم': 1086, 'پیروزه': 1087, 'جاوید': 1088, 'نیل': 1089, 'چرم': 1090, 'کوتاه': 1091, 'ناز': 1092, 'داغ': 1093, 'فرستم': 1094, 'طوق': 1095, 'خراد': 1096, 'دوست': 1097, 'خسروی': 1098, 'آگه': 1099, 'خواستار': 1100, 'رامشگران': 1101, 'آمدست': 1102, 'برداشتند': 1103, 'بنوشت': 1104, 'تبیره': 1105, 'بکین': 1106, 'گوپال': 1107, 'فزونی': 1108, 'رواست': 1109, 'سودمند': 1110, 'کوشش': 1111, 'داوری': 1112, 'فرزانه': 1113, 'بگرد': 1114, 'نر': 1115, 'کجاست': 1116, 'دهی': 1117, 'بفرمان': 1118, 'درفشی': 1119, 'دخت': 1120, 'روانش': 1121, 'تنها': 1122, 'منذر': 1123, 'خفته': 1124, 'بهی': 1125, 'زینهار': 1126, 'شبگیر': 1127, 'منش': 1128, 'خبر': 1129, 'نگار': 1130, 'بردش': 1131, 'مهمان': 1132, 'دیدند': 1133, 'پشیمان': 1134, 'بمرد': 1135, 'شویم': 1136, 'سیاووش': 1137, 'زواره': 1138, 'لهراسپ': 1139, 'یابی': 1140, 'ست': 1141, 'گوینده': 1142, 'سست': 1143, 'دهش': 1144, 'رفتی': 1145, 'زیشان': 1146, 'بپیچد': 1147, 'آهو': 1148, 'شناس': 1149, 'ببین': 1150, 'برگشته': 1151, 'کشان': 1152, 'چنو': 1153, 'آزاده': 1154, 'ببیند': 1155, 'مرغزار': 1156, 'بردمید': 1157, 'نالهٔ': 1158, 'ساله': 1159, 'کلید': 1160, 'چهل': 1161, 'تراست': 1162, 'پارسا': 1163, 'ندارم': 1164, 'رمه': 1165, 'میمنه': 1166, 'یاره': 1167, 'ندیدم': 1168, 'شنیدم': 1169, 'زدن': 1170, 'شهریاری': 1171, 'کف': 1172, 'پهلوانان': 1173, 'تازیان': 1174, 'بدن': 1175, 'منزل': 1176, 'بخواهد': 1177, 'کنده': 1178, 'درشت': 1179, 'چادر': 1180, 'بخون': 1181, 'زابلستان': 1182, 'جویی': 1183, 'مژگان': 1184, 'رزمگه': 1185, 'توانگر': 1186, 'بوزرجمهر': 1187, 'کیوان': 1188, 'ایزد': 1189, 'کیانی': 1190, 'کاندر': 1191, 'تار': 1192, 'ندیدند': 1193, 'همانگه': 1194, 'آوران': 1195, 'سراپرده': 1196, 'برده': 1197, 'دادار': 1198, 'بجایی': 1199, 'خویشان': 1200, 'بوق': 1201, 'رستخیز': 1202, 'فرسنگ': 1203, 'زنان': 1204, 'فرهنگ': 1205, 'سیصد': 1206, 'بخواب': 1207, 'سرم': 1208, 'پیغام': 1209, 'نیروی': 1210, 'آراستند': 1211, 'فریادرس': 1212, 'درفشان': 1213, 'عهد': 1214, 'آذر': 1215, 'دشمنان': 1216, 'سودابه': 1217, 'دارا': 1218, 'شهریاران': 1219, 'پیشه': 1220, 'خفتان': 1221, 'وگوی': 1222, 'پگاه': 1223, 'بیدادگر': 1224, 'یافتی': 1225, 'ندانست': 1226, 'ستم': 1227, 'ببارید': 1228, 'هران': 1229, 'شدم': 1230, 'رفتند': 1231, 'نمانم': 1232, 'بستد': 1233, 'نثار': 1234, 'شوند': 1235, 'بگیتی': 1236, 'اسبان': 1237, 'پشوتن': 1238, 'بازی': 1239, 'دگرگونه': 1240, 'نهیب': 1241, 'زند': 1242, 'بریان': 1243, 'بگشت': 1244, 'رسیدند': 1245, 'زاری': 1246, 'تاجور': 1247, 'پسندیده': 1248, 'کامد': 1249, 'برگذشت': 1250, 'نگیرد': 1251, 'شبان': 1252, 'کیقباد': 1253, 'بدره': 1254, 'فرامرز': 1255, 'ساوه': 1256, 'آغاز': 1257, 'رفته': 1258, 'ایدون': 1259, 'سرآمد': 1260, 'بازار': 1261, 'بچنگ': 1262, 'درختی': 1263, 'خروشید': 1264, 'شبستان': 1265, 'نیابی': 1266, 'بخش': 1267, 'های': 1268, 'کرنای': 1269, 'مهراب': 1270, 'بخاک': 1271, 'پرستار': 1272, 'اردوان': 1273, 'چراغ': 1274, 'دروغ': 1275, 'رخشنده': 1276, 'بدکنش': 1277, 'دارند': 1278, 'کافور': 1279, 'برافگند': 1280, 'پویان': 1281, 'نوشت': 1282, 'برداشت': 1283, 'تابوت': 1284, 'مشت': 1285, 'گردنده': 1286, 'پارس': 1287, 'بلخ': 1288, 'نجوید': 1289, 'رومیان': 1290, 'تویی': 1291, 'نیکو': 1292, 'شو': 1293, 'بگوید': 1294, 'هرمز': 1295, 'آیدش': 1296, 'شایسته': 1297, 'بینداخت': 1298, 'برند': 1299, 'مرو': 1300, 'بندوی': 1301, 'سزید': 1302, 'گویم': 1303, 'سهی': 1304, 'رخساره': 1305, 'زی': 1306, 'تاختند': 1307, 'بپرداختند': 1308, 'برآرد': 1309, 'بخوان': 1310, 'خرامان': 1311, 'گوشوار': 1312, 'ایرج': 1313, 'مدارید': 1314, 'هژبر': 1315, 'آشتی': 1316, 'ویژه': 1317, 'گوان': 1318, 'گله': 1319, 'شور': 1320, 'نخچیرگاه': 1321, 'فرشیدورد': 1322, 'نژند': 1323, 'پری': 1324, 'پوشیده': 1325, 'فلک': 1326, 'پیشگاه': 1327, 'نهد': 1328, 'هیونی': 1329, 'گنهکار': 1330, 'هرکسی': 1331, 'شادمانی': 1332, 'نبودش': 1333, 'شدش': 1334, 'چنگال': 1335, 'بارگی': 1336, 'پرستندگان': 1337, 'پرستش': 1338, 'بخورد': 1339, 'ماهی': 1340, 'زندگانی': 1341, 'نغز': 1342, 'بگسترد': 1343, 'بیارای': 1344, 'بگویش': 1345, 'نبینم': 1346, 'آنگهی': 1347, 'کفن': 1348, 'رخشان': 1349, 'صندوق': 1350, 'گشتی': 1351, 'بودم': 1352, 'همال': 1353, 'کردش': 1354, 'گشاد': 1355, 'ستام': 1356, 'دارید': 1357, 'یادگیر': 1358, 'سبز': 1359, 'آموزگار': 1360, 'نزدیکی': 1361, 'کوهسار': 1362, 'تاو': 1363, 'آرایش': 1364, 'زنی': 1365, 'بهتر': 1366, 'مردمی': 1367, 'چشمه': 1368, 'بدیدند': 1369, 'تنگی': 1370, 'باران': 1371, 'یکیست': 1372, 'هندوستان': 1373, 'اندوه': 1374, 'هشت': 1375, 'بدرگاه': 1376, 'نامش': 1377, 'کارآگهان': 1378, 'بمالید': 1379, 'پروردگار': 1380, 'زه': 1381, 'کنداوران': 1382, 'شنود': 1383, 'فروغ': 1384, 'چشمش': 1385, 'شان': 1386, 'جادو': 1387, 'نهانی': 1388, 'آورند': 1389, 'بها': 1390, 'پرهنر': 1391, 'رام': 1392, 'بیفگند': 1393, 'بدرید': 1394, 'ریختند': 1395, 'هشیار': 1396, 'نوشته': 1397, 'نگهدار': 1398, 'میسره': 1399, 'فرنگیس': 1400, 'گریز': 1401, 'بلندی': 1402, 'نداری': 1403, 'راد': 1404, 'کیی': 1405, 'سازد': 1406, 'ناگهان': 1407, 'ماست': 1408, 'بالین': 1409, 'خدنگ': 1410, 'باشید': 1411, 'فرستادهٔ': 1412, 'بازگشت': 1413, 'آبنوس': 1414, 'شیروی': 1415, 'حریر': 1416, 'بیشی': 1417, 'بندگان': 1418, 'دندان': 1419, 'شکن': 1420, 'تاب': 1421, 'برزم': 1422, 'بما': 1423, 'جوینده': 1424, 'بهانه': 1425, 'برگرفتند': 1426, 'خجسته': 1427, 'چارهٔ': 1428, 'عنبر': 1429, 'پهلوانی': 1430, 'بیاراستی': 1431, 'خانهٔ': 1432, 'گروگان': 1433, 'کیش': 1434, 'وگرنه': 1435, 'چهره': 1436, 'بکوشید': 1437, 'شمر': 1438, 'خنک': 1439, 'روشنایی': 1440, 'نبیره': 1441, 'مهره': 1442, 'یمن': 1443, 'سلم': 1444, 'نیام': 1445, 'مشو': 1446, 'لعل': 1447, 'خوردنی': 1448, 'آوردگه': 1449, 'دلیری': 1450, 'کدامست': 1451, 'باشم': 1452, 'آری': 1453, 'مهربان': 1454, 'میل': 1455, 'پارسی': 1456, 'گره': 1457, 'ناپاک': 1458, 'همچنین': 1459, 'ژرف': 1460, 'خواری': 1461, 'سپس': 1462, 'چگونه': 1463, 'دستش': 1464, 'هیون': 1465, 'همای': 1466, 'بازو': 1467, 'گفتا': 1468, 'منشور': 1469, 'دامن': 1470, 'نجست': 1471, 'بشاه': 1472, 'نبرده': 1473, 'بشمشیر': 1474, 'جاماسپ': 1475, 'یزدگرد': 1476, 'ماهوی': 1477, 'فزود': 1478, 'ندانی': 1479, 'درمان': 1480, 'یکدگر': 1481, 'سپاهش': 1482, 'پادشاست': 1483, 'همیدون': 1484, 'گرزهٔ': 1485, 'درای': 1486, 'شکسته': 1487, 'اندرست': 1488, 'زیبای': 1489, 'دهید': 1490, 'فریب': 1491, 'رنجه': 1492, 'سپیده': 1493, 'اینک': 1494, 'بتوران': 1495, 'خسروانی': 1496, 'نظاره': 1497, 'بیاد': 1498, 'بیکار': 1499, 'زیردستان': 1500, 'توان': 1501, 'گنبد': 1502, 'دد': 1503, 'مرده': 1504, 'بید': 1505, 'برادرش': 1506, 'تبه': 1507, 'کنان': 1508, 'خارا': 1509, 'جشن': 1510, 'رهی': 1511, 'بداند': 1512, 'شمرد': 1513, 'بازگردد': 1514, 'آیی': 1515, 'تواند': 1516, 'دخمه': 1517, 'سیندخت': 1518, 'بامداد': 1519, 'لختی': 1520, 'آمدن': 1521, 'یاران': 1522, 'بادی': 1523, 'دوده': 1524, 'آلت': 1525, 'بشنوی': 1526, 'کهان': 1527, 'بردی': 1528, 'وفا': 1529, 'شاها': 1530, 'بگشای': 1531, 'کشورش': 1532, 'مادرش': 1533, 'بت': 1534, 'برنهادند': 1535, 'گرازان': 1536, 'بکشتند': 1537, 'آور': 1538, 'گمانی': 1539, 'بخفت': 1540, 'دانست': 1541, 'پرخاش': 1542, 'آرند': 1543, 'گرگسار': 1544, 'کشواد': 1545, 'بلشکر': 1546, 'بزه': 1547, 'دون': 1548, 'گیا': 1549, 'چنینست': 1550, 'گون': 1551, 'افسون': 1552, 'ببرید': 1553, 'بریده': 1554, 'خام': 1555, 'بوس': 1556, 'کهتری': 1557, 'سپارم': 1558, 'آزرم': 1559, 'لاله': 1560, 'دادی': 1561, 'کفش': 1562, 'ساو': 1563, 'بخواه': 1564, 'بدم': 1565, 'تنم': 1566, 'اندرز': 1567, 'گراز': 1568, 'گنگ': 1569, 'گشسب': 1570, 'چهار': 1571, 'دادن': 1572, 'بجنبید': 1573, 'پیوسته': 1574, 'خوانی': 1575, 'موبدی': 1576, 'بان': 1577, 'سیمین': 1578, 'برم': 1579, 'نوشتند': 1580, 'گیهان': 1581, 'یابم': 1582, 'نیرو': 1583, 'نکردی': 1584, 'ندیدی': 1585, 'پشنگ': 1586, 'میغ': 1587, 'بخواهم': 1588, 'میانش': 1589, 'چوب': 1590, 'بمن': 1591, 'بدل': 1592, 'بزیر': 1593, 'انگه': 1594, 'طلخند': 1595, 'توانا': 1596, 'بلا': 1597, 'میش': 1598, 'دیوار': 1599, 'گلاب': 1600, 'گرانمایگان': 1601, 'مراست': 1602, 'دیدگان': 1603, 'آفریدون': 1604, 'کشد': 1605, 'بباد': 1606, 'پرنیان': 1607, 'بدر': 1608, 'بدیدار': 1609, 'بسوخت': 1610, 'حصار': 1611, 'بشنود': 1612, 'فغفور': 1613, 'کژ': 1614, 'زاده': 1615, 'عقاب': 1616, 'ببودند': 1617, 'افروز': 1618, 'سینه': 1619, 'برابر': 1620, 'رد': 1621, 'چوگان': 1622, 'کرم': 1623, 'بهرامشاه': 1624, 'هشیوار': 1625, 'راغ': 1626, 'بیابی': 1627, 'کزیشان': 1628, 'سایه': 1629, 'گرفتار': 1630, 'سرزنش': 1631, 'بمان': 1632, 'زنهار': 1633, 'نبید': 1634, 'کاویانی': 1635, 'آر': 1636, 'شوید': 1637, 'انبوه': 1638, 'ببینم': 1639, 'خورده': 1640, 'روا': 1641, 'جوشان': 1642, 'دشوار': 1643, 'یله': 1644, 'ران': 1645, 'مور': 1646, 'نعل': 1647, 'کشیدن': 1648, 'سرشک': 1649, 'تند': 1650, 'رکیب': 1651, 'تاراج': 1652, 'پزشک': 1653, 'هاماوران': 1654, 'برخواند': 1655, 'آیم': 1656, 'گویا': 1657, 'بیاراسته': 1658, 'بیشتر': 1659, 'ساختن': 1660, 'باستان': 1661, 'آبروی': 1662, 'گشتم': 1663, 'گرفتش': 1664, 'نهم': 1665, 'سالیان': 1666, 'بنام': 1667, 'برآرم': 1668, 'ناگزیر': 1669, 'گشادند': 1670, 'شتر': 1671, 'گشن': 1672, 'دوش': 1673, 'کنیزک': 1674, 'هنرها': 1675, 'فرستد': 1676, 'گسترید': 1677, 'فگنده': 1678, 'بازوی': 1679, 'زرینه': 1680, 'سیمرغ': 1681, 'مگوی': 1682, 'خیزد': 1683, 'بدانش': 1684, 'دارنده': 1685, 'هجیر': 1686, 'چوبشنید': 1687, 'پاس': 1688, 'بگو': 1689, 'پرورد': 1690, 'بگذری': 1691, 'خاور': 1692, 'جانش': 1693, 'داستانها': 1694, 'لرزان': 1695, 'آسوده': 1696, 'بگیرد': 1697, 'نباشی': 1698, 'فال': 1699, 'نشیند': 1700, 'شهری': 1701, 'مبر': 1702, 'نگونسار': 1703, 'ژوپین': 1704, 'رویه': 1705, 'زبر': 1706, 'گرای': 1707, 'آرای': 1708, 'خار': 1709, 'بایدت': 1710, 'زربفت': 1711, 'افسری': 1712, 'کهتران': 1713, 'ویسه': 1714, 'دیدش': 1715, 'وزانجا': 1716, 'قیر': 1717, 'خشنود': 1718, 'چندانک': 1719, 'ارز': 1720, 'لهاک': 1721, 'مگرد': 1722, 'بنزد': 1723, 'بایرانیان': 1724, 'بپیران': 1725, 'بندگی': 1726, 'هستی': 1727, 'هفتاد': 1728, 'راستان': 1729, 'نامی': 1730, 'همگروه': 1731, 'اهرمن': 1732, 'برکشیدند': 1733, 'جمشید': 1734, 'فروزندهٔ': 1735, 'چارپای': 1736, 'غارت': 1737, 'جادوی': 1738, 'بخشایش': 1739, 'درش': 1740, 'بایوان': 1741, 'سراینده': 1742, 'وران': 1743, 'نهید': 1744, 'پیری': 1745, 'انوشه': 1746, 'انباز': 1747, 'پرآب': 1748, 'گنجی': 1749, 'بگردد': 1750, 'نیکویی': 1751, 'فراخ': 1752, 'بترسید': 1753, 'فروماند': 1754, 'کارکرد': 1755, 'پرخاشخر': 1756, 'ندیدست': 1757, 'اسیر': 1758, 'بری': 1759, 'داراب': 1760, 'یارد': 1761, 'نشانی': 1762, 'زیب': 1763, 'ناامید': 1764, 'نم': 1765, 'برج': 1766, 'هنرمند': 1767, 'برگستوان': 1768, 'بنواختش': 1769, 'بیاری': 1770, 'دویست': 1771, 'اینست': 1772, 'سرآید': 1773, 'خشت': 1774, 'چرب': 1775, 'تیرگی': 1776, 'بتو': 1777, 'پردهٔ': 1778, 'درآمد': 1779, 'اویست': 1780, 'تریاک': 1781, 'جویبار': 1782, 'باشیم': 1783, 'ریگ': 1784, 'برستم': 1785, 'نیکوی': 1786, 'بروز': 1787, 'تژاو': 1788, 'بازارگان': 1789, 'فور': 1790, 'بابک': 1791, 'سزاست': 1792, 'آنگاه': 1793, 'بندهٔ': 1794, 'شمع': 1795, 'اندرآمد': 1796, 'پرستندهٔ': 1797, 'فره': 1798, 'ترس': 1799, 'گستردنی': 1800, 'پود': 1801, 'بنشاندند': 1802, 'دری': 1803, 'مغزش': 1804, 'آویختن': 1805, 'دیگری': 1806, 'سپردم': 1807, 'زده': 1808, 'بیابد': 1809, 'ناله': 1810, 'گنه': 1811, 'کمین': 1812, 'برفروخت': 1813, 'هندوان': 1814, 'خسروپرست': 1815, 'بهنگام': 1816, 'رودابه': 1817, 'آهنین': 1818, 'آزرده': 1819, 'جهانگیر': 1820, 'برای': 1821, 'شمشیرزن': 1822, 'کسان': 1823, 'شش': 1824, 'تیزی': 1825, 'بگذاشتی': 1826, 'فرهاد': 1827, 'کاروان': 1828, 'شیده': 1829, 'کهرم': 1830, 'قیدافه': 1831, 'طیسفون': 1832, 'خوشنواز': 1833, 'مستمند': 1834, 'پهن': 1835, 'نهفته': 1836, 'روانم': 1837, 'بچه': 1838, 'مار': 1839, 'پوشش': 1840, 'یوز': 1841, 'مران': 1842, 'سازم': 1843, 'زعفران': 1844, 'صدهزار': 1845, 'بتان': 1846, 'شنیدی': 1847, 'یافتم': 1848, 'نداد': 1849, 'داریم': 1850, 'کیمیا': 1851, 'برنشاند': 1852, 'همش': 1853, 'ببود': 1854, 'باب': 1855, 'زنگ': 1856, 'زابل': 1857, 'نماید': 1858, 'نشمرد': 1859, 'غار': 1860, 'بیست': 1861, 'بشمرد': 1862, 'بجوید': 1863, 'ندارند': 1864, 'نخواند': 1865, 'امشب': 1866, 'پاسبان': 1867, 'پدیدار': 1868, 'نیاکان': 1869, 'باختر': 1870, 'موج': 1871, 'دستگیر': 1872, 'نوان': 1873, 'قنوج': 1874, 'بجستند': 1875, 'تنی': 1876, 'مام': 1877, 'گستاخ': 1878, 'بشنو': 1879, 'ببندد': 1880, 'چیره': 1881, 'درنده': 1882, 'جفا': 1883, 'پهلو': 1884, 'رسیده': 1885, 'بمهر': 1886, 'کابلستان': 1887, 'کاکنون': 1888, 'اژدهای': 1889, 'بگذاشت': 1890, 'ری': 1891, 'بارد': 1892, 'رهایی': 1893, 'بدشت': 1894, 'سستی': 1895, 'ستور': 1896, 'نیکویها': 1897, 'کشتگان': 1898, 'هیشوی': 1899, 'خشکی': 1900, 'دفتر': 1901, 'پیروزبخت': 1902, 'رده': 1903, 'کشیده': 1904, 'غو': 1905, 'بافته': 1906, 'بینادل': 1907, 'ساختی': 1908, 'بیداردل': 1909, 'درین': 1910, 'شاید': 1911, 'آهنگران': 1912, 'شنیدند': 1913, 'دهن': 1914, 'پیامی': 1915, 'بیخ': 1916, 'توایم': 1917, 'ببندم': 1918, 'شید': 1919, 'کاید': 1920, 'بماندند': 1921, 'مهد': 1922, 'پدرود': 1923, 'داماد': 1924, 'برف': 1925, 'دران': 1926, 'میگسار': 1927, 'بخشم': 1928, 'بکام': 1929, 'خامش': 1930, 'زیردست': 1931, 'گازر': 1932, 'خاتون': 1933, 'بگذرم': 1934, 'داشتند': 1935, 'کمربند': 1936, 'پیشرو': 1937, 'پراگند': 1938, 'بسپرد': 1939, 'کت': 1940, 'عود': 1941, 'لشگر': 1942, 'نیارست': 1943, 'زاغ': 1944, 'بایسته': 1945, 'ببرم': 1946, 'مغاک': 1947, 'بودن': 1948, 'بین': 1949, 'بام': 1950, 'کمندی': 1951, 'پرهیز': 1952, 'شنیده': 1953, 'خنده': 1954, 'رنجها': 1955, 'برگشادند': 1956, 'بگریست': 1957, 'سم': 1958, 'نداریم': 1959, 'بهشتم': 1960, 'نیمروز': 1961, 'برفشاند': 1962, 'پایش': 1963, 'آیدم': 1964, 'نکوهش': 1965, 'پرند': 1966, 'نتوان': 1967, 'مرزبان': 1968, 'ایمنی': 1969, 'بردار': 1970, 'اشتر': 1971, 'کودکی': 1972, 'کارها': 1973, 'یاری': 1974, 'سازیم': 1975, 'بخست': 1976, 'پاداش': 1977, 'بمردی': 1978, 'بپوشد': 1979, 'برسم': 1980, 'برتخت': 1981, 'کبود': 1982, 'غرقه': 1983, 'خسروان': 1984, 'بپردخت': 1985, 'تختش': 1986, 'نشد': 1987, 'باده': 1988, 'گام': 1989, 'هراس': 1990, 'گذار': 1991, 'افتاد': 1992, 'بودنی': 1993, 'انگشتری': 1994, 'شاهنشهان': 1995, 'بکش': 1996, 'بخواست': 1997, 'بترسم': 1998, 'نگوید': 1999, 'فریاد': 2000, 'هراسان': 2001, 'پرسید': 2002, 'بجز': 2003, 'کرسی': 2004, 'بپرسیدش': 2005, 'بازگشتن': 2006, 'بجوشید': 2007, 'بهامون': 2008, 'افزون': 2009, 'همو': 2010, 'بگویی': 2011, 'بجان': 2012, 'دلپذیر': 2013, 'بیجان': 2014, 'آی': 2015, 'پندها': 2016, 'تلخ': 2017, 'بسازیم': 2018, 'فرستادگان': 2019, 'دلارای': 2020, 'میزبان': 2021, 'هرمزد': 2022, 'بگودرز': 2023, 'درجهان': 2024, 'میرین': 2025, 'آفریننده': 2026, 'توانی': 2027, 'خروس': 2028, 'چشمهٔ': 2029, 'بخردی': 2030, 'جاه': 2031, 'خریدار': 2032, 'داشتم': 2033, 'یافته': 2034, 'برآن': 2035, 'سایهٔ': 2036, 'دهر': 2037, 'همچون': 2038, 'پردخته': 2039, 'کامروز': 2040, 'برداشتی': 2041, 'خواستم': 2042, 'رویان': 2043, 'پرسش': 2044, 'بتخت': 2045, 'پذیر': 2046, 'نیرنگ': 2047, 'دوزخ': 2048, 'آهرمنست': 2049, 'دختران': 2050, 'جم': 2051, 'نرگس': 2052, 'آتشکده': 2053, 'نشستن': 2054, 'سزا': 2055, 'افسرش': 2056, 'مبیناد': 2057, 'باشند': 2058, 'گلشن': 2059, 'بیچارگی': 2060, 'گردنش': 2061, 'آهرمنی': 2062, 'مژده': 2063, 'نکردند': 2064, 'بیایم': 2065, 'جا': 2066, 'سیستان': 2067, 'قلم': 2068, 'کمی': 2069, 'گشسپ': 2070, 'پیکرش': 2071, 'مردمان': 2072, 'خواهش': 2073, 'تازان': 2074, 'گشاید': 2075, 'گوهرنگار': 2076, 'بخوردند': 2077, 'بسوی': 2078, 'پشیمانی': 2079, 'تگاور': 2080, 'نبشتند': 2081, 'بهاران': 2082, 'رزمساز': 2083, 'بابر': 2084, 'بخشنده': 2085, 'پرویز': 2086, 'ناهید': 2087, 'برترست': 2088, 'دانندگان': 2089, 'آتشی': 2090, 'سرانشان': 2091, 'پنهان': 2092, 'بسیچ': 2093, 'نهی': 2094, 'خدیو': 2095, 'گوسفند': 2096, 'بکند': 2097, 'سخنگوی': 2098, 'نمانی': 2099, 'برکشد': 2100, 'گوا': 2101, 'پرستان': 2102, 'همواره': 2103, 'برآویختند': 2104, 'خرمی': 2105, 'نبینند': 2106, 'پهنای': 2107, 'شدندش': 2108, 'رویش': 2109, 'آیند': 2110, 'جستند': 2111, 'نیستی': 2112, 'درخشنده': 2113, 'شبیخون': 2114, 'یافتند': 2115, 'پسش': 2116, 'گلستان': 2117, 'خط': 2118, 'آخر': 2119, 'کلباد': 2120, 'بکردند': 2121, 'برآسود': 2122, 'خرگاه': 2123, 'بیارم': 2124, 'پیشین': 2125, 'بدار': 2126, 'بیچاره': 2127, 'لشکرست': 2128, 'مکافات': 2129, 'مکران': 2130, 'پیچد': 2131, 'جهن': 2132, 'گروی': 2133, 'تخوار': 2134, 'ببالا': 2135, 'بدریا': 2136, 'فرستیم': 2137, 'آبگیر': 2138, 'خواندی': 2139, 'سوفزای': 2140, 'نوروز': 2141, 'شبی': 2142, 'استوار': 2143, 'بدش': 2144, 'پایگاه': 2145, 'برآویخت': 2146, 'راندند': 2147, 'نیکخواه': 2148, 'دادش': 2149, 'خورشها': 2150, 'دختری': 2151, 'زدی': 2152, 'روزگاری': 2153, 'نوند': 2154, 'دادند': 2155, 'بگردان': 2156, 'دادم': 2157, 'بکرد': 2158, 'گفتش': 2159, 'مزن': 2160, 'بنیاد': 2161, 'انده': 2162, 'گنجها': 2163, 'جوانان': 2164, 'سپارد': 2165, 'تارک': 2166, 'بیهوده': 2167, 'سراپردهٔ': 2168, 'زبرجد': 2169, 'دهیم': 2170, 'ستون': 2171, 'لشکرگه': 2172, 'برفتم': 2173, 'برتری': 2174, 'خوشاب': 2175, 'رخان': 2176, 'سرافگنده': 2177, 'مگردان': 2178, 'وار': 2179, 'سرود': 2180, 'درنگی': 2181, 'شیردل': 2182, 'حمله': 2183, 'لگام': 2184, 'بتر': 2185, 'کارگر': 2186, 'کودکان': 2187, 'برفتی': 2188, 'پولادوند': 2189, 'فیلسوفان': 2190, 'نرسی': 2191, 'هیتال': 2192, 'گردیه': 2193, 'فروزنده': 2194, 'گسسته': 2195, 'برومند': 2196, 'ازوی': 2197, 'نپیچد': 2198, 'گذشتن': 2199, 'آرمید': 2200, 'رشک': 2201, 'شتافت': 2202, 'کوته': 2203, 'برپای': 2204, 'دردمند': 2205, 'گفتهٔ': 2206, 'تخمه': 2207, 'نماینده': 2208, 'مان': 2209, 'جویند': 2210, 'دخترش': 2211, 'بدانید': 2212, 'هیونان': 2213, 'ناسزا': 2214, 'گسترده': 2215, 'عبیر': 2216, 'نیازی': 2217, 'عمود': 2218, 'الماس': 2219, 'نمایم': 2220, 'گستوان': 2221, 'بیزدان': 2222, 'بنالید': 2223, 'جویان': 2224, 'مجلس': 2225, 'اورنگ': 2226, 'سمند': 2227, 'گردنکش': 2228, 'رایت': 2229, 'ببایست': 2230, 'بزین': 2231, 'بکار': 2232, 'زنگهٔ': 2233, 'شاوران': 2234, 'گویند': 2235, 'مانی': 2236, 'ببینیم': 2237, 'کزویست': 2238, 'بخم': 2239, 'نابسود': 2240, 'بیارند': 2241, 'فزونست': 2242, 'داران': 2243, 'بخنجر': 2244, 'بقلب': 2245, 'جنگاوران': 2246, 'بفرجام': 2247, 'بشهر': 2248, 'منیژه': 2249, 'کید': 2250, 'اسکندر': 2251, 'مهران': 2252, 'مسیحا': 2253, 'گوهران': 2254, 'آنکه': 2255, 'پایه': 2256, 'چهرهٔ': 2257, 'فسوس': 2258, 'رازها': 2259, 'خر': 2260, 'خوانند': 2261, 'ناسپاس': 2262, 'کمتر': 2263, 'بمانی': 2264, 'نگویی': 2265, 'بسود': 2266, 'دایه': 2267, 'هواست': 2268, 'نخواهیم': 2269, 'همچنان': 2270, 'پیشم': 2271, 'ماده': 2272, 'عماری': 2273, 'مزد': 2274, 'بیگناه': 2275, 'نیرزد': 2276, 'نشستنگه': 2277, 'شسته': 2278, 'قلبگاه': 2279, 'ایزدیست': 2280, 'پیگار': 2281, 'نویسنده': 2282, 'زابلی': 2283, 'نی': 2284, 'نجویم': 2285, 'آذرگشسپ': 2286, 'بگشتند': 2287, 'بارمان': 2288, 'گداز': 2289, 'درکشید': 2290, 'رخت': 2291, 'هرجای': 2292, 'غرم': 2293, 'گرازه': 2294, 'مشکوی': 2295, 'منند': 2296, 'تشت': 2297, 'بتیر': 2298, 'بکوه': 2299, 'تیرباران': 2300, 'ترجمان': 2301, 'کتایون': 2302, 'سپنجی': 2303, 'باریک': 2304, 'گراید': 2305, 'سند': 2306, 'بماناد': 2307, 'پرورش': 2308, 'سروش': 2309, 'خونین': 2310, 'فریبنده': 2311, 'آنچه': 2312, 'بخشید': 2313, 'منی': 2314, 'نیکبخت': 2315, 'تذرو': 2316, 'بکشتی': 2317, 'بارید': 2318, 'پذیرفت': 2319, 'مژه': 2320, 'بشتافتند': 2321, 'پشه': 2322, 'نیامدش': 2323, 'گمانم': 2324, 'بنواختشان': 2325, 'سوختند': 2326, 'نوا': 2327, 'نگفت': 2328, 'برآمیختند': 2329, 'داشتن': 2330, 'گزار': 2331, 'پژمرده': 2332, 'آشفته': 2333, 'درخشان': 2334, 'جشنگاه': 2335, 'بزرگست': 2336, 'بباشیم': 2337, 'کوههٔ': 2338, 'نعره': 2339, 'بجوش': 2340, 'کنام': 2341, 'فگندند': 2342, 'بدیدش': 2343, 'غمگین': 2344, 'رخسار': 2345, 'سپردند': 2346, 'گرفتن': 2347, 'خیز': 2348, 'کوهی': 2349, 'افگن': 2350, 'بنمای': 2351, 'بپیمود': 2352, 'بلور': 2353, 'دشمنی': 2354, 'رویینه': 2355, 'بگرز': 2356, 'ترکش': 2357, 'روانت': 2358, 'هشتم': 2359, 'کشوادگان': 2360, 'نیزهٔ': 2361, 'فرستی': 2362, 'بیارد': 2363, 'شنبلید': 2364, 'برنج': 2365, 'بتن': 2366, 'ببهرام': 2367, 'دانای': 2368, 'خراسان': 2369, 'مزدک': 2370, 'چوبینه': 2371, 'پرموده': 2372, 'ریش': 2373, 'بردن': 2374, 'نخواهی': 2375, 'دولت': 2376, 'شاهزاده': 2377, 'هوشنگ': 2378, 'بیازید': 2379, 'هوشمند': 2380, 'جو': 2381, 'مانند': 2382, 'بگزید': 2383, 'گوشت': 2384, 'کتف': 2385, 'شهد': 2386, 'فرزانگان': 2387, 'نزاد': 2388, 'آزمایش': 2389, 'نباشم': 2390, 'کوی': 2391, 'نوید': 2392, 'توشه': 2393, 'دشنام': 2394, 'بریم': 2395, 'درو': 2396, 'جهاندیدگان': 2397, 'گوشه': 2398, 'شایستهٔ': 2399, 'زیبا': 2400, 'نا': 2401, 'سازی': 2402, 'ببینید': 2403, 'بستر': 2404, 'ببخشود': 2405, 'گاهی': 2406, 'خواستن': 2407, 'بسیچید': 2408, 'گرزهای': 2409, 'کوپال': 2410, 'پرخرد': 2411, 'بگفتار': 2412, 'ارج': 2413, 'بباشد': 2414, 'پذیرفتم': 2415, 'نهادست': 2416, 'پیلی': 2417, 'زبانش': 2418, 'دیرینه': 2419, 'خارستان': 2420, 'جستی': 2421, 'بیاسود': 2422, 'مکوش': 2423, 'سپاهست': 2424, 'دهان': 2425, 'ختن': 2426, 'بغرید': 2427, 'نگشاد': 2428, 'بوده': 2429, 'فتراک': 2430, 'پا': 2431, 'پالیز': 2432, 'گودرزیان': 2433, 'مباشید': 2434, 'بازگشتند': 2435, 'بخورشید': 2436, 'بپشت': 2437, 'کجات': 2438, 'قرطاس': 2439, 'برشاه': 2440, 'اهرن': 2441, 'اورمزد': 2442, 'دز': 2443, 'شطرنج': 2444, 'وتخت': 2445, 'نیاطوس': 2446, 'یکسو': 2447, 'بیار': 2448, 'تنت': 2449, 'بسوزد': 2450, 'اختری': 2451, 'ناگاه': 2452, 'ببخشد': 2453, 'سالی': 2454, 'بپرداز': 2455, 'وزیشان': 2456, 'افشاندند': 2457, 'خواندش': 2458, 'جانم': 2459, 'مده': 2460, 'چونین': 2461, 'نشنود': 2462, 'برگاه': 2463, 'هلاک': 2464, 'آزموده': 2465, 'ارغوان': 2466, 'بفرمای': 2467, 'ستیز': 2468, 'بدسگالان': 2469, 'برافشاندند': 2470, 'بدادند': 2471, 'آراستن': 2472, 'بچهٔ': 2473, 'رزمخواه': 2474, 'نیمه': 2475, 'گبر': 2476, 'پاسخش': 2477, 'ستوده': 2478, 'بساز': 2479, 'خرام': 2480, 'گسی': 2481, 'پیشت': 2482, 'تگ': 2483, 'درع': 2484, 'مهربانی': 2485, 'بدادش': 2486, 'زودی': 2487, 'اسیران': 2488, 'زنجیر': 2489, 'رسیدی': 2490, 'اسپی': 2491, 'خودکامه': 2492, 'هیزم': 2493, 'مغفر': 2494, 'یازد': 2495, 'مویه': 2496, 'بردرید': 2497, 'پل': 2498, 'برفتن': 2499, 'نادان': 2500, 'خردمندی': 2501, 'ساروان': 2502, 'سقلاب': 2503, 'گشتیم': 2504, 'سوک': 2505, 'پراز': 2506, 'لهراسب': 2507, 'هفتواد': 2508, 'مهبود': 2509, 'نبشته': 2510, 'رسیدم': 2511, 'آهرمن': 2512, 'رایش': 2513, 'پنجاه': 2514, 'پنجه': 2515, 'بوستان': 2516, 'انداختند': 2517, 'بستن': 2518, 'همایون': 2519, 'شناسان': 2520, 'کاویان': 2521, 'گرین': 2522, 'کرگ': 2523, 'بپذرفت': 2524, 'بگردید': 2525, 'هستند': 2526, 'فرستید': 2527, 'دوید': 2528, 'تاجدار': 2529, 'سوگ': 2530, 'بهشتی': 2531, 'آرامگاه': 2532, 'آمدیم': 2533, 'کر': 2534, 'بدنشان': 2535, 'قبای': 2536, 'بگاه': 2537, 'سندروس': 2538, 'انگشت': 2539, 'میوه': 2540, 'نگذرد': 2541, 'نسپرد': 2542, 'فزایش': 2543, 'سندان': 2544, 'ناکام': 2545, 'پلنگان': 2546, 'آسیا': 2547, 'گواست': 2548, 'بلرزید': 2549, 'کارش': 2550, 'دستوری': 2551, 'بشادی': 2552, 'بورد': 2553, 'برآنم': 2554, 'دژخیم': 2555, 'بیفشارد': 2556, 'برشد': 2557, 'جامی': 2558, 'اندیش': 2559, 'سپاسی': 2560, 'میلاد': 2561, 'بینند': 2562, 'پاره': 2563, 'کآمد': 2564, 'خستگان': 2565, 'نشنوی': 2566, 'مپای': 2567, 'شهرها': 2568, 'بیمار': 2569, 'نبندد': 2570, 'بنیروی': 2571, 'گردوی': 2572, 'بادانش': 2573, 'جهود': 2574, 'بدانی': 2575, 'پذیرد': 2576, 'پرآواز': 2577, 'گرت': 2578, 'فرش': 2579, 'پوشیدنی': 2580, 'نیافت': 2581, 'فرمانروا': 2582, 'تیزچنگ': 2583, 'برست': 2584, 'سپردی': 2585, 'هنوز': 2586, 'مستی': 2587, 'اندک': 2588, 'دلها': 2589, 'ممان': 2590, 'ندیدیم': 2591, 'دمادم': 2592, 'آسانی': 2593, 'آمل': 2594, 'سمن': 2595, 'گراینده': 2596, 'گیری': 2597, 'برکند': 2598, 'بپیراستند': 2599, 'شیدوش': 2600, 'کره': 2601, 'بینید': 2602, 'کابلی': 2603, 'خامه': 2604, 'ساختم': 2605, 'خویشی': 2606, 'گرسنه': 2607, 'ترست': 2608, 'ساج': 2609, 'دوستی': 2610, 'غلام': 2611, 'نشنید': 2612, 'کشیدی': 2613, 'بنشاختش': 2614, 'پوی': 2615, 'تبر': 2616, 'نوندی': 2617, 'بساخت': 2618, 'زاولستان': 2619, 'آزمود': 2620, 'اغریرث': 2621, 'خستگی': 2622, 'بفروخت': 2623, 'برآرند': 2624, 'بدیدم': 2625, 'ببار': 2626, 'سرفرازان': 2627, 'هزاران': 2628, 'نابکار': 2629, 'افسرست': 2630, 'شبرنگ': 2631, 'نجنبید': 2632, 'مادرم': 2633, 'برگزین': 2634, 'بکوشد': 2635, 'بدشمن': 2636, 'کشانی': 2637, 'راهی': 2638, 'شغاد': 2639, 'روزبه': 2640, 'ستاد': 2641, 'ستود': 2642, 'توانایی': 2643, 'جنبش': 2644, 'رست': 2645, 'ایا': 2646, 'بودت': 2647, 'سپردن': 2648, 'اژدهاست': 2649, 'پوشید': 2650, 'دوال': 2651, 'آبگون': 2652, 'بشکست': 2653, 'روزه': 2654, 'خز': 2655, 'دیگرست': 2656, 'برآراست': 2657, 'کفت': 2658, 'فرزانگی': 2659, 'نرفتی': 2660, 'ناید': 2661, 'فگند': 2662, 'درگه': 2663, 'بیارید': 2664, 'لخت': 2665, 'شوربخت': 2666, 'دلارام': 2667, 'گشادن': 2668, 'بپژمرد': 2669, 'نیستان': 2670, 'پرمایگان': 2671, 'آمده': 2672, 'شیراوژن': 2673, 'نیمی': 2674, 'فرستادم': 2675, 'مهرش': 2676, 'بستند': 2677, 'بگسلد': 2678, 'مای': 2679, 'عیب': 2680, 'کیند': 2681, 'فام': 2682, 'رنجی': 2683, 'بنگرد': 2684, 'هرانگه': 2685, 'بزر': 2686, 'فروهشته': 2687, 'ببستم': 2688, 'بیگناهان': 2689, 'بپرسم': 2690, 'توام': 2691, 'بکس': 2692, 'شیرمرد': 2693, 'آزمای': 2694, 'چل': 2695, 'برگاشتند': 2696, 'نتابد': 2697, 'گاودم': 2698, 'خو': 2699, 'بیفتاد': 2700, 'تیغها': 2701, 'سپرده': 2702, 'بیان': 2703, 'سیری': 2704, 'بدریای': 2705, 'برخیزد': 2706, 'خامشی': 2707, 'مخواه': 2708, 'سگ': 2709, 'اینت': 2710, 'کنداوری': 2711, 'بپیچی': 2712, 'خزر': 2713, 'بیهشان': 2714, 'بخوبی': 2715, 'بب': 2716, 'ریونیز': 2717, 'بدگوی': 2718, 'هماون': 2719, 'بگوش': 2720, 'همراه': 2721, 'وزیر': 2722, 'ناتوان': 2723, 'دانایی': 2724, 'استاد': 2725, 'ساسان': 2726, 'مهرک': 2727, 'نعمان': 2728, 'زروان': 2729, 'کردهٔ': 2730, 'سویی': 2731, 'بمانم': 2732, 'یادگاری': 2733, 'برافروخت': 2734, 'بکوشم': 2735, 'نیارم': 2736, 'چمن': 2737, 'یا': 2738, 'سده': 2739, 'زیبد': 2740, 'پرداخته': 2741, 'بانوان': 2742, 'پتیاره': 2743, 'پیرایه': 2744, 'البرز': 2745, 'سراندر': 2746, 'بشوید': 2747, 'درازست': 2748, 'سزای': 2749, 'پرخون': 2750, 'ریخته': 2751, 'ندانند': 2752, 'آنرا': 2753, 'آمدت': 2754, 'بجنبد': 2755, 'قیرگون': 2756, 'پایدار': 2757, 'برگاشت': 2758, 'درشتی': 2759, 'نوشه': 2760, 'پرورده': 2761, 'مانم': 2762, 'بسنده': 2763, 'تاجداران': 2764, 'گذارد': 2765, 'بیشهٔ': 2766, 'برکشیده': 2767, 'پاکی': 2768, 'زدم': 2769, 'برافراخت': 2770, 'کله': 2771, 'افگنم': 2772, 'منید': 2773, 'مشکین': 2774, 'بفگند': 2775, 'بدانجا': 2776, 'مرین': 2777, 'بخیره': 2778, 'بیاور': 2779, 'زرنگار': 2780, 'کرگس': 2781, 'بشکرد': 2782, 'آشوب': 2783, 'ننگرد': 2784, 'چراست': 2785, 'برخ': 2786, 'بزمگاه': 2787, 'گرگان': 2788, 'دستبرد': 2789, 'بکوشیم': 2790, 'دهند': 2791, 'گژدهم': 2792, 'پرشتاب': 2793, 'بریدند': 2794, 'بترس': 2795, 'چوپان': 2796, 'چنگش': 2797, 'ارژنگ': 2798, 'بخواهی': 2799, 'برت': 2800, 'پردخت': 2801, 'اولاد': 2802, 'بده': 2803, 'ماندند': 2804, 'جویم': 2805, 'استا': 2806, 'خیل': 2807, 'برخیز': 2808, 'آراستی': 2809, 'رش': 2810, 'ببخت': 2811, 'بگفتم': 2812, 'افگنی': 2813, 'اورند': 2814, 'همانگاه': 2815, 'نترسد': 2816, 'دوستدار': 2817, 'توگفتی': 2818, 'کاسه': 2819, 'بینا': 2820, 'اشکش': 2821, 'بشاهی': 2822, 'ببندیم': 2823, 'بکینه': 2824, 'زبانها': 2825, 'زلشکر': 2826, 'برمنش': 2827, 'پاسبانان': 2828, 'سکوبا': 2829, 'چامه': 2830, 'باغبان': 2831, 'بروم': 2832, 'رابه': 2833, 'گزیند': 2834, 'برخورد': 2835, 'آموختن': 2836, 'کرانه': 2837, 'سنج': 2838, 'پلید': 2839, 'کمرگاه': 2840, 'بپالود': 2841, 'دهانش': 2842, 'سبزه': 2843, 'نگویم': 2844, 'فرومایه': 2845, 'نپیچی': 2846, 'باشدت': 2847, 'بسازید': 2848, 'نمودن': 2849, 'گاوسار': 2850, 'سپهری': 2851, 'نسازد': 2852, 'دادخواه': 2853, 'نوبت': 2854, 'برگشتن': 2855, 'پرآشوب': 2856, 'خواهر': 2857, 'برتو': 2858, 'مرزبانان': 2859, 'خوریم': 2860, 'خورست': 2861, 'نریمان': 2862, 'برشمرد': 2863, 'تیغهای': 2864, 'بدارید': 2865, 'خنجرگزار': 2866, 'زبون': 2867, 'پژوه': 2868, 'هش': 2869, 'گلنار': 2870, 'رسته': 2871, 'طراز': 2872, 'بلاست': 2873, 'تافته': 2874, 'برآساید': 2875, 'بکن': 2876, 'فشاند': 2877, 'شیری': 2878, 'بشتافتی': 2879, 'سرشت': 2880, 'برانگیختند': 2881, 'نهند': 2882, 'بنالد': 2883, 'بگسست': 2884, 'کنارنگ': 2885, 'رعد': 2886, 'زورمند': 2887, 'نبایست': 2888, 'دی': 2889, 'فخر': 2890, 'بگسلم': 2891, 'مکار': 2892, 'بدیدی': 2893, 'بدها': 2894, 'تاریکی': 2895, 'آژنگ': 2896, 'بربر': 2897, 'هری': 2898, 'داستانی': 2899, 'بازگرد': 2900, 'بریدن': 2901, 'پنجم': 2902, 'برزدند': 2903, 'کور': 2904, 'زشتی': 2905, 'شتروار': 2906, 'نستیهن': 2907, 'پیلسم': 2908, 'سرکش': 2909, 'نیازد': 2910, 'پیچی': 2911, 'زرسپ': 2912, 'تازیانه': 2913, 'بتندی': 2914, 'بپرهیز': 2915, 'نشستی': 2916, 'گوهری': 2917, 'خوانم': 2918, 'گردم': 2919, 'مریم': 2920, 'اختران': 2921, 'ناسودمند': 2922, 'رشنواد': 2923, 'عرض': 2924, 'فیلقوس': 2925, 'ماهیار': 2926, 'خراج': 2927, 'راکه': 2928, 'ببایدت': 2929, 'فرمانش': 2930, 'دیوانه': 2931, 'مایهٔ': 2932, 'برافراخته': 2933, 'تیزرو': 2934, 'دلفروز': 2935, 'مدان': 2936, 'سیب': 2937, 'کشمیر': 2938, 'خواندم': 2939, 'روزگاران': 2940, 'شدندی': 2941, 'سوگوار': 2942, 'برکش': 2943, 'فرهٔ': 2944, 'فروزان': 2945, 'روشنی': 2946, 'گروهی': 2947, 'اندازهٔ': 2948, 'گرفتی': 2949, 'اسپش': 2950, 'پدرت': 2951, 'ساختش': 2952, 'خایه': 2953, 'بزی': 2954, 'آوریدند': 2955, 'نهادی': 2956, 'زاید': 2957, 'روزبانان': 2958, 'پردرد': 2959, 'آزادمرد': 2960, 'مهری': 2961, 'پایگه': 2962, 'بجوی': 2963, 'پیشکار': 2964, 'چشمم': 2965, 'شاهست': 2966, 'آرزوها': 2967, 'گیرم': 2968, 'پرسد': 2969, 'نزیبد': 2970, 'تاجش': 2971, 'یکبارگی': 2972, 'چندگاه': 2973, 'گذشتی': 2974, 'رنجش': 2975, 'نیای': 2976, 'درخشیدن': 2977, 'پوینده': 2978, 'بیگنه': 2979, 'زمن': 2980, 'فرامش': 2981, 'دهلیز': 2982, 'شخ': 2983, 'شهره': 2984, 'نیاسود': 2985, 'برانم': 2986, 'شاداب': 2987, 'بربست': 2988, 'ابری': 2989, 'بودیش': 2990, 'ننمود': 2991, 'قلون': 2992, 'بنوی': 2993, 'باشدم': 2994, 'پستی': 2995, 'گشادست': 2996, 'خیر': 2997, 'بدبخت': 2998, 'فدای': 2999, 'مندیش': 3000, 'مادرت': 3001, 'ریز': 3002, 'مصر': 3003, 'برهمن': 3004, 'توش': 3005, 'گشتن': 3006, 'گوهرست': 3007, 'نیابند': 3008, 'هستم': 3009, 'ایستاده': 3010, 'شیرگیر': 3011, 'نسازم': 3012, 'هرآنگه': 3013, 'دستی': 3014, 'خواهران': 3015, 'دخترم': 3016, 'ببخشای': 3017, 'بستی': 3018, 'مباش': 3019, 'دوستان': 3020, 'باشدش': 3021, 'کایدر': 3022, 'دشمنست': 3023, 'پتک': 3024, 'تگرگ': 3025, 'پرتاب': 3026, 'بخسرو': 3027, 'پیراهن': 3028, 'ببن': 3029, 'زفتی': 3030, 'بپیروزی': 3031, 'برام': 3032, 'کامگاری': 3033, 'دارو': 3034, 'دوری': 3035, 'هفتخوان': 3036, 'جهرم': 3037, 'کارداران': 3038, 'طینوش': 3039, 'جنگیان': 3040, 'وخرد': 3041, 'چوآمد': 3042, 'جوانمرد': 3043, 'محمود': 3044, 'بدسگال': 3045, 'نستوه': 3046, 'سراپای': 3047, 'برفزود': 3048, 'نکوست': 3049, 'ناچار': 3050, 'جادویی': 3051, 'پژوهش': 3052, 'بودنیها': 3053, 'نیاورد': 3054, 'مشتری': 3055, 'ستمکاره': 3056, 'ساختشان': 3057, 'افروختند': 3058, 'منمای': 3059, 'اندیشگان': 3060, 'کهترم': 3061, 'بپاسخ': 3062, 'بندگانیم': 3063, 'گنجهای': 3064, 'آسایش': 3065, 'گزیدند': 3066, 'ابی': 3067, 'بدوخت': 3068, 'آژده': 3069, 'بارش': 3070, 'گروها': 3071, 'جنبان': 3072, 'برگرفتش': 3073, 'گرفتم': 3074, 'بسازم': 3075, 'پیغمبری': 3076, 'رزمجوی': 3077, 'جنگست': 3078, 'برنده': 3079, 'آفرینندهٔ': 3080, 'نوی': 3081, 'ننهاد': 3082, 'زلف': 3083, 'خوبان': 3084, 'شدستی': 3085, 'درگذشت': 3086, 'نکو': 3087, 'ساری': 3088, 'آراست': 3089, 'سرنامه': 3090, 'هرکو': 3091, 'استخوان': 3092, 'فش': 3093, 'ببخش': 3094, 'گفتارها': 3095, 'رسانم': 3096, 'کاسته': 3097, 'بباش': 3098, 'چوبه': 3099, 'برنیامد': 3100, 'گرزداران': 3101, 'ببینند': 3102, 'خونش': 3103, 'نوک': 3104, 'نجویند': 3105, 'نبودند': 3106, 'ترسان': 3107, 'بور': 3108, 'جوانست': 3109, 'برساختند': 3110, 'نداشت': 3111, 'غریو': 3112, 'بارگه': 3113, 'نیلگون': 3114, 'میانه': 3115, 'شاددل': 3116, 'جدایی': 3117, 'هدیهٔ': 3118, 'برکنم': 3119, 'بترسد': 3120, 'خرسند': 3121, 'مجویید': 3122, 'مساز': 3123, 'هیربد': 3124, 'تنگدل': 3125, 'جمله': 3126, 'مخوان': 3127, 'اندرند': 3128, 'بهری': 3129, 'صطخر': 3130, 'بگستهم': 3131, 'اید': 3132, 'نجویی': 3133, 'دارای': 3134, 'الیاس': 3135, 'بیدرفش': 3136, 'انگاه': 3137, 'ساسانیان': 3138, 'سپینود': 3139, 'دمید': 3140, 'نیاری': 3141, 'ازویست': 3142, 'سالخورد': 3143, 'بگذاشتم': 3144, 'بردم': 3145, 'پرنگار': 3146, 'کنش': 3147, 'کشیدش': 3148, 'گسترد': 3149, 'بدیها': 3150, 'گشایم': 3151, 'بفرمودشان': 3152, 'خنیده': 3153, 'همم': 3154, 'بکوش': 3155, 'ابلیس': 3156, 'نهانش': 3157, 'نیکخوی': 3158, 'گرچه': 3159, 'یاز': 3160, 'بشنوید': 3161, 'اخترشناسان': 3162, 'بایدم': 3163, 'بغداد': 3164, 'جادوان': 3165, 'مستان': 3166, 'تنبل': 3167, 'آسیمه': 3168, 'ژاله': 3169, 'بوید': 3170, 'روشنست': 3171, 'آویخته': 3172, 'کامگار': 3173, 'مخور': 3174, 'اورا': 3175, 'پیامش': 3176, 'بیایند': 3177, 'نشانده': 3178, 'تیزویر': 3179, 'هوشیار': 3180, 'نکردم': 3181, 'گفتها': 3182, 'آزاری': 3183, 'خاکست': 3184, 'بندی': 3185, 'گنجش': 3186, 'براز': 3187, 'گوای': 3188, 'آریم': 3189, 'یابند': 3190, 'دادست': 3191, 'خنگ': 3192, 'حلقه': 3193, 'همتای': 3194, 'بیهده': 3195, 'همرنگ': 3196, 'زنم': 3197, 'نگذرم': 3198, 'زمینش': 3199, 'آرامش': 3200, 'ویژگان': 3201, 'کشنده': 3202, 'سدیگر': 3203, 'سوخته': 3204, 'ستد': 3205, 'دوم': 3206, 'پران': 3207, 'بگوییم': 3208, 'فروخت': 3209, 'گرزی': 3210, 'خوردی': 3211, 'برترمنش': 3212, 'اندکیست': 3213, 'شناسد': 3214, 'نراند': 3215, 'دهستان': 3216, 'زوی': 3217, 'هیرمند': 3218, 'کینهٔ': 3219, 'هرچند': 3220, 'هشتاد': 3221, 'بیا': 3222, 'مگیر': 3223, 'تیزتگ': 3224, 'دیوی': 3225, 'درفشش': 3226, 'نماندی': 3227, 'بخرد': 3228, 'آنی': 3229, 'خشنودی': 3230, 'دبیری': 3231, 'کندآوران': 3232, 'ان': 3233, 'ستاند': 3234, 'برآریم': 3235, 'سگزی': 3236, 'میخ': 3237, 'سرا': 3238, 'ناخوش': 3239, 'گیرند': 3240, 'برزن': 3241, 'بزرین': 3242, 'همانست': 3243, 'جستم': 3244, 'مکان': 3245, 'بدنژاد': 3246, 'فرست': 3247, 'نویسندهٔ': 3248, 'طاق': 3249, 'بنیزه': 3250, 'نوست': 3251, 'پیراهنش': 3252, 'بخور': 3253, 'سرشکش': 3254, 'بزاری': 3255, 'بافراسیاب': 3256, 'بمشت': 3257, 'پادشاهیش': 3258, 'بگیو': 3259, 'بدیگر': 3260, 'برزوی': 3261, 'هریکی': 3262, 'فروش': 3263, 'آموی': 3264, 'بپرسد': 3265, 'زینهاری': 3266, 'نبیرهٔ': 3267, 'زآن': 3268, 'زردهشت': 3269, 'پیشی': 3270, 'بستور': 3271, 'گرزم': 3272, 'بازگردی': 3273, 'آبکش': 3274, 'کراست': 3275, 'ترسا': 3276, 'لنبک': 3277, 'آسیابان': 3278, 'چوشد': 3279, 'نامد': 3280, 'نور': 3281, 'چپش': 3282, 'هردو': 3283, 'دریده': 3284, 'چراگاه': 3285, 'برآهیخت': 3286, 'برافروختند': 3287, 'پاکدل': 3288, 'بگیر': 3289, 'برخاستی': 3290, 'بسترد': 3291, 'بنگر': 3292, 'بدخویی': 3293, 'ناباک': 3294, 'شایستگی': 3295, 'گاوان': 3296, 'دمار': 3297, 'رفتم': 3298, 'گاومیش': 3299, 'پایان': 3300, 'باری': 3301, 'بریزد': 3302, 'تشنه': 3303, 'ناخوب': 3304, 'پانصد': 3305, 'بویژه': 3306, 'فرستادشان': 3307, 'پرسی': 3308, 'پیشتر': 3309, 'برادرت': 3310, 'برکنار': 3311, 'چتر': 3312, 'خونی': 3313, 'مبارز': 3314, 'افراز': 3315, 'ببندید': 3316, 'یلی': 3317, 'مردانگی': 3318, 'بتابد': 3319, 'ببردش': 3320, 'بشکنی': 3321, 'بجویم': 3322, 'زیست': 3323, 'یکباره': 3324, 'تنست': 3325, 'بگویید': 3326, 'بسپرم': 3327, 'نار': 3328, 'ماندی': 3329, 'بگرید': 3330, 'آبدار': 3331, 'انجام': 3332, 'دیریاز': 3333, 'فزاینده': 3334, 'بارکش': 3335, 'مبند': 3336, 'ببندی': 3337, 'بردارد': 3338, 'آراستست': 3339, 'آهنست': 3340, 'شماساس': 3341, 'نشستست': 3342, 'بگریختند': 3343, 'نژندی': 3344, 'جوشنش': 3345, 'خوانیم': 3346, 'ندانیم': 3347, 'شکستن': 3348, 'درید': 3349, 'نهادیم': 3350, 'بلبل': 3351, 'تشنگی': 3352, 'مبادت': 3353, 'بخوردن': 3354, 'نیازش': 3355, 'رسن': 3356, 'ندادند': 3357, 'کاردان': 3358, 'تلی': 3359, 'بچشم': 3360, 'لبها': 3361, 'ترکی': 3362, 'سپردار': 3363, 'سرست': 3364, 'موم': 3365, 'آشنایی': 3366, 'هنرهای': 3367, 'پرآزار': 3368, 'سغد': 3369, 'بغلتید': 3370, 'منه': 3371, 'چاچ': 3372, 'بگریختی': 3373, 'زنگه': 3374, 'زانک': 3375, 'نباشند': 3376, 'جزو': 3377, 'باندیشه': 3378, 'آهسته': 3379, 'نگردم': 3380, 'نگشتی': 3381, 'بهزاد': 3382, 'بدگوهر': 3383, 'تیغی': 3384, 'نبردی': 3385, 'ببزم': 3386, 'بسالار': 3387, 'بشکند': 3388, 'بینیم': 3389, 'بسختی': 3390, 'رزمی': 3391, 'ببیژن': 3392, 'بهرجای': 3393, 'بهومان': 3394, 'بکشتن': 3395, 'رس': 3396, 'جنگجویان': 3397, 'بننگ': 3398, 'بیایی': 3399, 'اندرا': 3400, 'بخندد': 3401, 'پاکان': 3402, 'آذرگشسب': 3403, 'بستدی': 3404, 'گز': 3405, 'راهب': 3406, 'شهرگیر': 3407, 'بدنام': 3408, 'عنوان': 3409, 'سعد': 3410, 'وگنج': 3411, 'مقاتوره': 3412, 'خستو': 3413, 'ببالید': 3414, 'میانجی': 3415, 'تمام': 3416, 'عروس': 3417, 'نیابم': 3418, 'دسترس': 3419, 'سپار': 3420, 'بجستم': 3421, 'بتابید': 3422, 'مراو': 3423, 'روباه': 3424, 'مرغان': 3425, 'نمودی': 3426, 'کارشان': 3427, 'سرتاسر': 3428, 'نشاخت': 3429, 'سالخورده': 3430, 'ببردی': 3431, 'شوخ': 3432, 'داشتش': 3433, 'هول': 3434, 'ناگه': 3435, 'پادشاه': 3436, 'تان': 3437, 'کاردانان': 3438, 'یازید': 3439, 'پستان': 3440, 'ابرو': 3441, 'چشید': 3442, 'برنهاده': 3443, 'پروردهٔ': 3444, 'خواندندی': 3445, 'کندی': 3446, 'تابد': 3447, 'قار': 3448, 'بسا': 3449, 'پرستیدن': 3450, 'بخفتند': 3451, 'پراگندن': 3452, 'هنگامهٔ': 3453, 'همینست': 3454, 'نگذاشتی': 3455, 'پایهٔ': 3456, 'بجوشد': 3457, 'بدام': 3458, 'مگشای': 3459, 'بپراگند': 3460, 'اندام': 3461, 'نوبهار': 3462, 'گناهی': 3463, 'زنگی': 3464, 'نیرم': 3465, 'بگذارد': 3466, 'پوشد': 3467, 'عهدی': 3468, 'پرداختن': 3469, 'بباغ': 3470, 'ایوانها': 3471, 'رودبار': 3472, 'بشبگیر': 3473, 'جعد': 3474, 'دانم': 3475, 'دودمان': 3476, 'بدندان': 3477, 'پرگوهر': 3478, 'اهواز': 3479, 'غران': 3480, 'داناتری': 3481, 'ملخ': 3482, 'داشتندی': 3483, 'بادپای': 3484, 'کشم': 3485, 'بپوش': 3486, 'بگویند': 3487, 'کردیم': 3488, 'گنجست': 3489, 'خواستست': 3490, 'شکم': 3491, 'برافراختند': 3492, 'بیدادی': 3493, 'نژادش': 3494, 'بازش': 3495, 'بگیرم': 3496, 'کمانی': 3497, 'بستگان': 3498, 'یازان': 3499, 'خسرونژاد': 3500, 'درخور': 3501, 'برزست': 3502, 'هزیمت': 3503, 'نجوییم': 3504, 'برنهید': 3505, 'جهانبان': 3506, 'جوشنست': 3507, 'کردست': 3508, 'غرنده': 3509, 'آلوده': 3510, 'آغوش': 3511, 'نگشت': 3512, 'راندی': 3513, 'براندیش': 3514, 'تف': 3515, 'نامت': 3516, 'هرکه': 3517, 'نهیم': 3518, 'بالاش': 3519, 'بجویی': 3520, 'نارسیده': 3521, 'رساند': 3522, 'بخوانی': 3523, 'بازآمدند': 3524, 'فغان': 3525, 'زگفتار': 3526, 'آویخت': 3527, 'شمارش': 3528, 'آگند': 3529, 'نگیرند': 3530, 'نباشیم': 3531, 'بفزود': 3532, 'پرهیزگار': 3533, 'آوردش': 3534, 'ببخشم': 3535, 'سلیحش': 3536, 'بکوشی': 3537, 'پلاشان': 3538, 'بفتراک': 3539, 'راهبر': 3540, 'وزآنجا': 3541, 'بماه': 3542, 'نبودست': 3543, 'بخیمه': 3544, 'برهام': 3545, 'بانبوه': 3546, 'علف': 3547, 'ببایدش': 3548, 'فریادخواه': 3549, 'بیژنا': 3550, 'موزه': 3551, 'بازارگانان': 3552, 'خوارزم': 3553, 'یاور': 3554, 'ششم': 3555, 'شماست': 3556, 'بردست': 3557, 'وتاج': 3558, 'ارزانیان': 3559, 'نومید': 3560, 'یی': 3561, 'عرب': 3562, 'زیرگاه': 3563, 'نخواهند': 3564, 'بیطقون': 3565, 'برانوش': 3566, 'طایر': 3567, 'منادیگری': 3568, 'راهام': 3569, 'نبشت': 3570, 'اندیان': 3571, 'مداین': 3572, 'بخراد': 3573, 'برنگذرد': 3574, 'سخته': 3575, 'جانست': 3576, 'بنگری': 3577, 'خاشاک': 3578, 'بندها': 3579, 'نتابی': 3580, 'فسون': 3581, 'برایشان': 3582, 'جانت': 3583, 'ببسته': 3584, 'نصر': 3585, 'تافت': 3586, 'برترین': 3587, 'کیهان': 3588, 'ندادش': 3589, 'بشویم': 3590, 'شاهین': 3591, 'یکدل': 3592, 'صفی': 3593, 'بیجاده': 3594, 'برآب': 3595, 'کاست': 3596, 'پژوهنده': 3597, 'مادرست': 3598, 'تندرست': 3599, 'پرامید': 3600, 'سفت': 3601, 'پزشکان': 3602, 'مهترست': 3603, 'انداختن': 3604, 'پالهنگ': 3605, 'تاختی': 3606, 'غلغل': 3607, 'بارور': 3608, 'چونان': 3609, 'بزن': 3610, 'نکشت': 3611, 'پرگار': 3612, 'زورق': 3613, 'یارانش': 3614, 'ایوانش': 3615, 'زهره': 3616, 'گرش': 3617, 'عقیق': 3618, 'دشنه': 3619, 'مانندهٔ': 3620, 'پیوستهٔ': 3621, 'چربی': 3622, 'شنیدستم': 3623, 'ازیرا': 3624, 'نادیده': 3625, 'ببالین': 3626, 'نجستم': 3627, 'دیدهٔ': 3628, 'تاری': 3629, 'مریز': 3630, 'پنداشتند': 3631, 'دیدن': 3632, 'سپرهای': 3633, 'لابه': 3634, 'کیفر': 3635, 'برنهد': 3636, 'شاخی': 3637, 'کدامند': 3638, 'نارون': 3639, 'بچین': 3640, 'بریزند': 3641, 'شیپور': 3642, 'نالیدن': 3643, 'رنجور': 3644, 'بگوهر': 3645, 'گیلان': 3646, 'بنشین': 3647, 'فزاید': 3648, 'بیزار': 3649, 'غلامان': 3650, 'گرگساران': 3651, 'بندد': 3652, 'دخترست': 3653, 'تابش': 3654, 'صورت': 3655, 'کدام': 3656, 'نفس': 3657, 'نزاید': 3658, 'گیسو': 3659, 'بکفت': 3660, 'زهرش': 3661, 'راندم': 3662, 'نپیچم': 3663, 'نمانیم': 3664, 'آهرمنان': 3665, 'رانی': 3666, 'روزش': 3667, 'دگرگون': 3668, 'دخمهٔ': 3669, 'آویختند': 3670, 'ریختی': 3671, 'خدنگی': 3672, 'نیایم': 3673, 'ببخشیم': 3674, 'برنشیند': 3675, 'گوشش': 3676, 'بگزین': 3677, 'پدرم': 3678, 'بگردن': 3679, 'آرش': 3680, 'سینهٔ': 3681, 'سرفرازی': 3682, 'بنشاند': 3683, 'ناسازگار': 3684, 'جنگش': 3685, 'بدلش': 3686, 'لشکرت': 3687, 'نشنیده': 3688, 'بکف': 3689, 'ماتم': 3690, 'گوران': 3691, 'بشتاب': 3692, 'باسپ': 3693, 'نگیرم': 3694, 'خنجری': 3695, 'بسال': 3696, 'پناهید': 3697, 'بدادار': 3698, 'زرینش': 3699, 'هرآن': 3700, 'ایست': 3701, 'نپسندد': 3702, 'نویسد': 3703, 'زانو': 3704, 'سودمندی': 3705, 'گستردنیها': 3706, 'خاکش': 3707, 'ببالای': 3708, 'مدارا': 3709, 'بجا': 3710, 'خواهند': 3711, 'کیخسروست': 3712, 'آرید': 3713, 'ویرانی': 3714, 'بشنیده': 3715, 'اصفهان': 3716, 'خراب': 3717, 'بتیغ': 3718, 'مرزها': 3719, 'بیکسو': 3720, 'سرما': 3721, 'بزودی': 3722, 'بخشکی': 3723, 'کشیم': 3724, 'بباشید': 3725, 'سازند': 3726, 'زجای': 3727, 'بخاقان': 3728, 'بتاراج': 3729, 'شدیم': 3730, 'افگندنی': 3731, 'یارمند': 3732, 'لاف': 3733, 'رایگان': 3734, 'نیکان': 3735, 'هژیر': 3736, 'شکیبا': 3737, 'کلبه': 3738, 'بیاریم': 3739, 'کنابد': 3740, 'کرمان': 3741, 'سوری': 3742, 'تنه': 3743, 'بردع': 3744, 'وراست': 3745, 'خونریز': 3746, 'هریک': 3747, 'پالیزبان': 3748, 'صلیب': 3749, 'اصطخر': 3750, 'گزاف': 3751, 'حقه': 3752, 'بردبار': 3753, 'کفشگر': 3754, 'نهروان': 3755, 'بلاش': 3756, 'ورای': 3757, 'نرد': 3758, 'وآن': 3759, 'درج': 3760, 'زندگی': 3761, 'غرق': 3762, 'طبع': 3763, 'کیومرث': 3764, 'سیامک': 3765, 'ریمن': 3766, 'آهرمنا': 3767, 'طهمورث': 3768, 'ددان': 3769, 'گیتیش': 3770, 'دمنده': 3771, 'بافرین': 3772, 'دادشان': 3773, 'کاهلی': 3774, 'ناب': 3775, 'بپیوست': 3776, 'سگالش': 3777, 'اژدهافش': 3778, 'ماهیان': 3779, 'بازجوی': 3780, 'بزنهار': 3781, 'گشادی': 3782, 'بازارگاه': 3783, 'نهفتن': 3784, 'سراسیمه': 3785, 'دده': 3786, 'ببستش': 3787, 'براندازه': 3788, 'کارد': 3789, 'بشتافتم': 3790, 'خیرگی': 3791, 'بودیم': 3792, 'کبست': 3793, 'گرنه': 3794, 'ندارید': 3795, 'فروشد': 3796, 'گزاینده': 3797, 'کاینت': 3798, 'آذین': 3799, 'رادمرد': 3800, 'چاچی': 3801, 'سوم': 3802, 'بلندش': 3803, 'نازش': 3804, 'خیمهٔ': 3805, 'شکیبایی': 3806, 'ساده': 3807, 'بگیرند': 3808, 'انداخت': 3809, 'کهتریم': 3810, 'نوآیین': 3811, 'شکاری': 3812, 'ثریا': 3813, 'پدرام': 3814, 'پرگناه': 3815, 'بهرهٔ': 3816, 'بستان': 3817, 'بدیده': 3818, 'شنیدن': 3819, 'خرامد': 3820, 'برنگ': 3821, 'آوا': 3822, 'خزان': 3823, 'چمان': 3824, 'اخترشناس': 3825, 'زمی': 3826, 'بامن': 3827, 'دادمش': 3828, 'بیابند': 3829, 'تواناتری': 3830, 'بپرسش': 3831, 'بدرود': 3832, 'اندروی': 3833, 'جواز': 3834, 'شیرفش': 3835, 'ساید': 3836, 'جسته': 3837, 'پسندد': 3838, 'یابید': 3839, 'بخاست': 3840, 'پیچید': 3841, 'گلیم': 3842, 'پیوستگی': 3843, 'عمودی': 3844, 'چیند': 3845, 'خواهیم': 3846, 'سروران': 3847, 'بادبان': 3848, 'بدارد': 3849, 'چندست': 3850, 'درختان': 3851, 'خوری': 3852, 'همت': 3853, 'هنگ': 3854, 'خلیده': 3855, 'بگردیم': 3856, 'پیشدستی': 3857, 'بکژی': 3858, 'برآری': 3859, 'خفت': 3860, 'نهادن': 3861, 'برزنی': 3862, 'اگرچه': 3863, 'آواره': 3864, 'غریوان': 3865, 'کمندش': 3866, 'نجستند': 3867, 'کشیدم': 3868, 'چاکر': 3869, 'سرها': 3870, 'انداختی': 3871, 'خمیده': 3872, 'چمید': 3873, 'بشویی': 3874, 'بدیم': 3875, 'همنشان': 3876, 'بیابم': 3877, 'ببازو': 3878, 'نژادی': 3879, 'کارآزموده': 3880, 'نوشتن': 3881, 'رستمست': 3882, 'خوناب': 3883, 'کارست': 3884, 'سپهرم': 3885, 'یابیم': 3886, 'برگردد': 3887, 'فروهشت': 3888, 'سپاهت': 3889, 'بناز': 3890, 'رباب': 3891, 'چیزست': 3892, 'اندریمان': 3893, 'بنخچیر': 3894, 'گلشهر': 3895, 'بهشتست': 3896, 'منجنیق': 3897, 'آخت': 3898, 'مینو': 3899, 'آنست': 3900, 'ببندند': 3901, 'زنار': 3902, 'ستمگاره': 3903, 'کارزاری': 3904, 'سرخه': 3905, 'سوراخ': 3906, 'اردبیل': 3907, 'نگیری': 3908, 'بادپایان': 3909, 'براهی': 3910, 'کلات': 3911, 'جوییم': 3912, 'برشکست': 3913, 'بخشایشست': 3914, 'زیرش': 3915, 'بپرده': 3916, 'بازگردان': 3917, 'کمرهای': 3918, 'خورشیدفش': 3919, 'چغانی': 3920, 'نفرمود': 3921, 'بیزارم': 3922, 'اشکبوس': 3923, 'بیستون': 3924, 'کشورت': 3925, 'چینیان': 3926, 'گیرنده': 3927, 'ناپایدار': 3928, 'اکوان': 3929, 'زمانش': 3930, 'درنهان': 3931, 'زگیتی': 3932, 'بگفتی': 3933, 'بخارا': 3934, 'اسبش': 3935, 'بگذرند': 3936, 'فزونتر': 3937, 'بادافره': 3938, 'دبیران': 3939, 'آژیر': 3940, 'انجا': 3941, 'زردشت': 3942, 'مهرنوش': 3943, 'سوکوار': 3944, 'زیردستی': 3945, 'سفله': 3946, 'قیدروش': 3947, 'پیرزن': 3948, 'دوک': 3949, 'زمزم': 3950, 'گندم': 3951, 'هیتالیان': 3952, 'غاتفر': 3953, 'برمن': 3954, 'برما': 3955, 'چوبهرام': 3956, 'رابخواند': 3957, 'بیننده': 3958, 'برگزیند': 3959, 'ستودن': 3960, 'ژرفی': 3961, 'ناچیز': 3962, 'تری': 3963, 'نمایندهٔ': 3964, 'نمایش': 3965, 'نزدیکتر': 3966, 'بیت': 3967, 'انگبین': 3968, 'دشمنش': 3969, 'نیکدل': 3970, 'شمعی': 3971, 'آبشخور': 3972, 'ازآن': 3973, 'وارونه': 3974, 'پرکین': 3975, 'بگفتا': 3976, 'بتاخت': 3977, 'برمیان': 3978, 'کردشان': 3979, 'مکش': 3980, 'آوریدی': 3981, 'پیغاره': 3982, 'آراستم': 3983, 'تافتی': 3984, 'خورم': 3985, 'بوسه': 3986, 'نازی': 3987, 'خوالیگران': 3988, 'روزگارش': 3989, 'بزاد': 3990, 'بباشم': 3991, 'کدامین': 3992, 'فدی': 3993, 'مبین': 3994, 'نبایدت': 3995, 'ناسزاوار': 3996, 'اروند': 3997, 'نهادم': 3998, 'کارت': 3999, 'شناسی': 4000, 'مهترا': 4001, 'یازی': 4002, 'زبانی': 4003, 'برگرد': 4004, 'آنکسی': 4005, 'سگالید': 4006, 'اخترش': 4007, 'شرزه': 4008, 'بربند': 4009, 'سزاوارتر': 4010, 'پندمند': 4011, 'دیدیم': 4012, 'خورید': 4013, 'نخوانند': 4014, 'کشی': 4015, 'هزمان': 4016, 'بیاگند': 4017, 'بزار': 4018, 'مردست': 4019, 'بخواهیم': 4020, 'نخواست': 4021, 'سگالد': 4022, 'شصت': 4023, 'شناسندهٔ': 4024, 'تدبیر': 4025, 'سگالیده': 4026, 'حصن': 4027, 'گزافه': 4028, 'دنان': 4029, 'دمه': 4030, 'برآیین': 4031, 'کردنش': 4032, 'پاینده': 4033, 'برآشفته': 4034, 'گویید': 4035, 'گوهرش': 4036, 'بیختند': 4037, 'میاسای': 4038, 'رخانش': 4039, 'آهستگی': 4040, 'سرافشان': 4041, 'غمگسار': 4042, 'چشمها': 4043, 'مگذرید': 4044, 'تاجست': 4045, 'گهش': 4046, 'نگفتم': 4047, 'دلیرست': 4048, 'شهریارا': 4049, 'فگندی': 4050, 'یارست': 4051, 'سوده': 4052, 'برفروزد': 4053, 'بااو': 4054, 'نگفتی': 4055, 'برکشیم': 4056, 'یکسان': 4057, 'پرنده': 4058, 'دستم': 4059, 'زادشم': 4060, 'شیرست': 4061, 'خزروان': 4062, 'ستودان': 4063, 'پرآژنگ': 4064, 'مرگش': 4065, 'لبان': 4066, 'ناجوانمرد': 4067, 'سپهرش': 4068, 'مخار': 4069, 'دشتی': 4070, 'آغشته': 4071, 'بخوانم': 4072, 'بزور': 4073, 'زنند': 4074, 'بیاراستم': 4075, 'بازماند': 4076, 'بختی': 4077, 'خوشگوار': 4078, 'مبادی': 4079, 'گذاشت': 4080, 'شناخت': 4081, 'گوری': 4082, 'افروخت': 4083, 'لشکرم': 4084, 'بیاویخت': 4085, 'بگردانم': 4086, 'جلب': 4087, 'خروشش': 4088, 'جگرگاه': 4089, 'دیوانگی': 4090, 'سرآرد': 4091, 'نپذرفت': 4092, 'برانگیزد': 4093, 'توده': 4094, 'جور': 4095, 'بگنج': 4096, 'بنازد': 4097, 'برفتیم': 4098, 'تشویر': 4099, 'بتنگی': 4100, 'نخچیرگه': 4101, 'فرستمت': 4102, 'خواهرش': 4103, 'تیرش': 4104, 'گفتنش': 4105, 'بهترست': 4106, 'بپوشی': 4107, 'مردن': 4108, 'پیکانش': 4109, 'شهریارست': 4110, 'آگین': 4111, 'چلیپا': 4112, 'ایزدست': 4113, 'بسیاردان': 4114, 'اخترت': 4115, 'دخترت': 4116, 'قفیز': 4117, 'نمودم': 4118, 'نفط': 4119, 'نپیچید': 4120, 'سازید': 4121, 'مگو': 4122, 'ببخشش': 4123, 'بسازد': 4124, 'اندیشد': 4125, 'نمودند': 4126, 'بهتری': 4127, 'کشورم': 4128, 'فرمانبران': 4129, 'گذشتند': 4130, 'غمان': 4131, 'هرسو': 4132, 'نوازندهٔ': 4133, 'بیافت': 4134, 'نمک': 4135, 'بخواهش': 4136, 'کشند': 4137, 'برزند': 4138, 'بدخوی': 4139, 'بیالود': 4140, 'نیندیشد': 4141, 'ماچین': 4142, 'سرنگون': 4143, 'بمیرد': 4144, 'درستی': 4145, 'گفتارش': 4146, 'گفتارهای': 4147, 'فتاده': 4148, 'نژادست': 4149, 'شاهشان': 4150, 'نکوهیده': 4151, 'خال': 4152, 'مپوی': 4153, 'بچیز': 4154, 'سراید': 4155, 'جرس': 4156, 'بترکان': 4157, 'بسوزم': 4158, 'شوربختی': 4159, 'کوفتند': 4160, 'آرزوست': 4161, 'تورانیان': 4162, 'خودکام': 4163, 'شگنی': 4164, 'نیابیم': 4165, 'آشفت': 4166, 'خستگیها': 4167, 'بنیرو': 4168, 'گفتارشان': 4169, 'درستست': 4170, 'بدرویش': 4171, 'سلیحست': 4172, 'بگریزد': 4173, 'قراخان': 4174, 'برنامه': 4175, 'زاول': 4176, 'بگریخت': 4177, 'رادی': 4178, 'زخون': 4179, 'برکس': 4180, 'خلخ': 4181, 'پهنا': 4182, 'بگنگ': 4183, 'ملاح': 4184, 'دیرساز': 4185, 'قیصران': 4186, 'شاگرد': 4187, 'کری': 4188, 'چوگرد': 4189, 'خرید': 4190, 'دیوساز': 4191, 'برهم': 4192, 'اسکندری': 4193, 'روشنک': 4194, 'مشکنید': 4195, 'واژ': 4196, 'وبد': 4197, 'خروار': 4198, 'شاهیش': 4199, 'سرشبان': 4200, 'جوانوی': 4201, 'چوآن': 4202, 'چواین': 4203, 'ارجاسب': 4204, 'ونه': 4205, 'جمهور': 4206, 'وبوم': 4207, 'مرنجان': 4208, 'آفرینش': 4209, 'بپوی': 4210, 'آبها': 4211, 'ببالد': 4212, 'تیزگرد': 4213, 'تباهی': 4214, 'گرفتست': 4215, 'نهادش': 4216, 'همرهان': 4217, 'رانم': 4218, 'خواننده': 4219, 'برگراید': 4220, 'مرزبانی': 4221, 'ابوالقاسم': 4222, 'نبودم': 4223, 'خوارست': 4224, 'سربه': 4225, 'جانور': 4226, 'پوش': 4227, 'آوریدش': 4228, 'رفتنی': 4229, 'رهانید': 4230, 'ورز': 4231, 'تاز': 4232, 'خوشی': 4233, 'پیمانت': 4234, 'برگشایم': 4235, 'نشناختند': 4236, 'کندرو': 4237, 'آوریده': 4238, 'سوختن': 4239, 'گوییم': 4240, 'پدرش': 4241, 'بایستگی': 4242, 'کیم': 4243, 'بپویم': 4244, 'نامدارانش': 4245, 'کاوه': 4246, 'رسان': 4247, 'جشنی': 4248, 'کدخدایی': 4249, 'نسازی': 4250, 'بودمی': 4251, 'جندل': 4252, 'بخ': 4253, 'پذیرم': 4254, 'ازمن': 4255, 'نشنیدی': 4256, 'دانید': 4257, 'بجویید': 4258, 'خورند': 4259, 'شام': 4260, 'آنکو': 4261, 'آرزومند': 4262, 'گرامیش': 4263, 'نیایدت': 4264, 'ندادی': 4265, 'خست': 4266, 'دیبهٔ': 4267, 'کمانهای': 4268, 'گرشاسپ': 4269, 'فتاد': 4270, 'بخفتان': 4271, 'الانان': 4272, 'درفشیدن': 4273, 'دهاده': 4274, 'برق': 4275, 'کشیدیم': 4276, 'پشتش': 4277, 'چرمهٔ': 4278, 'بدیست': 4279, 'جویید': 4280, 'بدویم': 4281, 'رویم': 4282, 'زادهٔ': 4283, 'چکان': 4284, 'غرو': 4285, 'شیز': 4286, 'رخسارگان': 4287, 'دلگسل': 4288, 'برداشتش': 4289, 'بسد': 4290, 'پذیرفته': 4291, 'هوشمندان': 4292, 'امیدم': 4293, 'آنم': 4294, 'بنالم': 4295, 'ماندم': 4296, 'رامشی': 4297, 'افروختن': 4298, 'دنبر': 4299, 'ستودش': 4300, 'رسوا': 4301, 'دربان': 4302, 'گلان': 4303, 'سنبل': 4304, 'بهست': 4305, 'لاغر': 4306, 'بپوشم': 4307, 'فزایندهٔ': 4308, 'وان': 4309, 'دیوزاد': 4310, 'نوازنده': 4311, 'گرفتیم': 4312, 'دادیم': 4313, 'برینست': 4314, 'بادت': 4315, 'بشوی': 4316, 'گشتست': 4317, 'نشستم': 4318, 'گرزش': 4319, 'استر': 4320, 'زیراندرش': 4321, 'زندگانیش': 4322, 'فرمند': 4323, 'بشمری': 4324, 'برفرازد': 4325, 'کمربسته': 4326, 'بشنویم': 4327, 'مرجان': 4328, 'شبدیز': 4329, 'منزلی': 4330, 'چنانم': 4331, 'گرمی': 4332, 'زنگار': 4333, 'هرچه': 4334, 'شورش': 4335, 'سپهدارشان': 4336, 'روید': 4337, 'نخ': 4338, 'پوشیدگان': 4339, 'ستوران': 4340, 'سرگشته': 4341, 'نرفت': 4342, 'خواهشگری': 4343, 'لشکرشکن': 4344, 'نیارند': 4345, 'مرغی': 4346, 'برافشاند': 4347, 'فسیله': 4348, 'پرید': 4349, 'سرکشی': 4350, 'کشانش': 4351, 'زمینی': 4352, 'بخشیده': 4353, 'رسانید': 4354, 'پشین': 4355, 'نگرود': 4356, 'کهترند': 4357, 'سوزن': 4358, 'سار': 4359, 'چشمت': 4360, 'رنجست': 4361, 'طلسم': 4362, 'برخش': 4363, 'تیغش': 4364, 'نگنجد': 4365, 'نکردست': 4366, 'رانده': 4367, 'رنجهای': 4368, 'پیلست': 4369, 'آزمون': 4370, 'خرطوم': 4371, 'پرهراس': 4372, 'میخواره': 4373, 'فوج': 4374, 'برآوردهٔ': 4375, 'نترسم': 4376, 'بیمارستان': 4377, 'برنخواند': 4378, 'افراختند': 4379, 'جفاپیشه': 4380, 'الکوس': 4381, 'بیهوش': 4382, 'فرتوت': 4383, 'سمنگان': 4384, 'بیکبارگی': 4385, 'بازجویی': 4386, 'برانگیزم': 4387, 'بادپایی': 4388, 'کمندافگن': 4389, 'پایاب': 4390, 'رسی': 4391, 'نکاهد': 4392, 'تلخی': 4393, 'سرنامداران': 4394, 'بکشتم': 4395, 'آوردنی': 4396, 'بیهش': 4397, 'تخمی': 4398, 'بازگردید': 4399, 'نشایست': 4400, 'بخوانیم': 4401, 'نامشان': 4402, 'پسندیدهٔ': 4403, 'بتری': 4404, 'بشمرند': 4405, 'دربدر': 4406, 'بشستند': 4407, 'پوشیدنیها': 4408, 'پیمود': 4409, 'برنهی': 4410, 'بگذریم': 4411, 'افراخته': 4412, 'جناغ': 4413, 'نهالی': 4414, 'رازی': 4415, 'خاکسار': 4416, 'شبانان': 4417, 'چوبی': 4418, 'ورازاد': 4419, 'سنانهای': 4420, 'بازجست': 4421, 'گلزریون': 4422, 'شیب': 4423, 'وماه': 4424, 'شکر': 4425, 'نبردم': 4426, 'سالارشان': 4427, 'گوایی': 4428, 'دسته': 4429, 'بکاست': 4430, 'مشتاب': 4431, 'چکاو': 4432, 'بنیک': 4433, 'برکنیم': 4434, 'ازوست': 4435, 'فراوانش': 4436, 'برجای': 4437, 'بپا': 4438, 'اندریم': 4439, 'بروشن': 4440, 'نگیریم': 4441, 'یاورست': 4442, 'بمابر': 4443, 'بنیز': 4444, 'بدیبا': 4445, 'نامدارن': 4446, 'بتنها': 4447, 'بمی': 4448, 'بپیکار': 4449, 'بیچارگان': 4450, 'بشب': 4451, 'کارستان': 4452, 'بگردون': 4453, 'بادهٔ': 4454, 'کشتمند': 4455, 'روبه': 4456, 'شوریده': 4457, 'برگزینی': 4458, 'بفر': 4459, 'نخچیرگیر': 4460, 'جنگاور': 4461, 'آفرینی': 4462, 'باسب': 4463, 'شنیدیم': 4464, 'هفتم': 4465, 'بنشاختند': 4466, 'هاشان': 4467, 'باندازه': 4468, 'بامی': 4469, 'برگذشتی': 4470, 'بیفزود': 4471, 'بمکران': 4472, 'بو': 4473, 'وجان': 4474, 'هوم': 4475, 'سپاسم': 4476, 'مگیرید': 4477, 'افسرت': 4478, 'گشتاسپی': 4479, 'سقف': 4480, 'ش': 4481, 'برکنند': 4482, 'اسفندیاری': 4483, 'خواهید': 4484, 'ا': 4485, 'منقار': 4486, 'خوارمایه': 4487, 'بازارگانی': 4488, 'خانگی': 4489, 'فزای': 4490, 'رز': 4491, 'بیاموخت': 4492, 'پرسخن': 4493, 'نیازیم': 4494, 'فرهنگیان': 4495, 'فریان': 4496, 'توبه': 4497, 'برشهریار': 4498, 'چوخواهی': 4499, 'وهم': 4500, 'دشمنند': 4501, 'وسپاه': 4502, 'وکلاه': 4503, 'اشتاد': 4504, 'گلینوش': 4505, 'نگارندهٔ': 4506, 'نغنوی': 4507, 'گهرها': 4508, 'دانیم': 4509, 'علی': 4510, 'گواهی': 4511, 'نبی': 4512, 'تندباد': 4513, 'محمد': 4514, 'گردنفراز': 4515, 'بدانستم': 4516, 'بازگردم': 4517, 'وزآن': 4518, 'سوگواری': 4519, 'بازآر': 4520, 'یزدانش': 4521, 'پروریده': 4522, 'سامان': 4523, 'مویش': 4524, 'گویندگان': 4525, 'دیوبند': 4526, 'کاه': 4527, 'پالوده': 4528, 'کمربستهٔ': 4529, 'بسودی': 4530, 'کالبد': 4531, 'پزشکی': 4532, 'برآسوده': 4533, 'فرمانبری': 4534, 'پاکدین': 4535, 'سبکسار': 4536, 'بدوگفت': 4537, 'برفرازم': 4538, 'خورشگر': 4539, 'نابخردی': 4540, 'ارنواز': 4541, 'کوهست': 4542, 'ماهروی': 4543, 'بساید': 4544, 'گاوسر': 4545, 'پیرسر': 4546, 'سالش': 4547, 'دینی': 4548, 'برجست': 4549, 'هوای': 4550, 'نگاری': 4551, 'خرداد': 4552, 'برافگن': 4553, 'جاودانه': 4554, 'پژمرد': 4555, 'شنو': 4556, 'نگذریم': 4557, 'لاجورد': 4558, 'گرزدار': 4559, 'جایش': 4560, 'بمانده': 4561, 'مهرگان': 4562, 'روزت': 4563, 'خواندندش': 4564, 'نوز': 4565, 'بجستی': 4566, 'پرسند': 4567, 'نکردیم': 4568, 'بپیچم': 4569, 'نبینیم': 4570, 'بترسی': 4571, 'سخنهاش': 4572, 'دوخته': 4573, 'بمانیم': 4574, 'شکیب': 4575, 'نجستی': 4576, 'بربسته': 4577, 'رنگین': 4578, 'سنگی': 4579, 'ابروان': 4580, 'ربودن': 4581, 'هوی': 4582, 'اشک': 4583, 'قضا': 4584, 'بوش': 4585, 'اردیبهشت': 4586, 'گلبرگ': 4587, 'پرچین': 4588, 'بردمد': 4589, 'رخی': 4590, 'چرمه': 4591, 'آوردم': 4592, 'نسپریم': 4593, 'مریزید': 4594, 'گیل': 4595, 'بیاویختند': 4596, 'زنیم': 4597, 'بفگنی': 4598, 'راستش': 4599, 'آمدستی': 4600, 'بفرین': 4601, 'یکبار': 4602, 'شادمانه': 4603, 'خلعتی': 4604, 'پندش': 4605, 'پروراند': 4606, 'اندرآور': 4607, 'هیچکس': 4608, 'بختش': 4609, 'رازدار': 4610, 'خوبست': 4611, 'فگندست': 4612, 'بانوی': 4613, 'حجره': 4614, 'داردش': 4615, 'بماندی': 4616, 'گریغ': 4617, 'بپرد': 4618, 'بخاید': 4619, 'پسندش': 4620, 'گذارم': 4621, 'نزادی': 4622, 'یادکرد': 4623, 'مغفرش': 4624, 'برگشاید': 4625, 'سترد': 4626, 'بینداختی': 4627, 'زاینده': 4628, 'افسرم': 4629, 'زخمی': 4630, 'نخفت': 4631, 'نشانه': 4632, 'شکارش': 4633, 'دانه': 4634, 'قطره': 4635, 'پیمبر': 4636, 'پرنیانی': 4637, 'بربط': 4638, 'آمدستم': 4639, 'مجمر': 4640, 'رستمش': 4641, 'نگاریده': 4642, 'چاکران': 4643, 'جهانبین': 4644, 'سرمایه': 4645, 'سپنجست': 4646, 'ببستی': 4647, 'گیاها': 4648, 'دستت': 4649, 'فروریخت': 4650, 'ارمان': 4651, 'اندرآورد': 4652, 'مادیان': 4653, 'رستمی': 4654, 'رگ': 4655, 'آدمی': 4656, 'جویای': 4657, 'شکستی': 4658, 'بیابیم': 4659, 'مجو': 4660, 'رخنه': 4661, 'بزیست': 4662, 'بیاساید': 4663, 'بایدش': 4664, 'گیریم': 4665, 'گزیدن': 4666, 'سنجه': 4667, 'غندی': 4668, 'گذاری': 4669, 'چران': 4670, 'بویا': 4671, 'نابرده': 4672, 'نمایی': 4673, 'چاهسار': 4674, 'فرزانهٔ': 4675, 'ناخن': 4676, 'اژدهایی': 4677, 'بربرستان': 4678, 'خوابگاه': 4679, 'درخورست': 4680, 'نباشدش': 4681, 'گاهش': 4682, 'بدیبای': 4683, 'آردت': 4684, 'شبانی': 4685, 'ستاینده': 4686, 'افگنیم': 4687, 'خوابگه': 4688, 'نترسی': 4689, 'بگردی': 4690, 'بیگاه': 4691, 'نگوییم': 4692, 'فراموش': 4693, 'قبا': 4694, 'خوردم': 4695, 'کلک': 4696, 'بدانسان': 4697, 'گسل': 4698, 'رازش': 4699, 'پرداختم': 4700, 'نمای': 4701, 'برگوی': 4702, 'گفتست': 4703, 'سروبن': 4704, 'اینجا': 4705, 'نگشتند': 4706, 'سپردش': 4707, 'برگسل': 4708, 'داستانهای': 4709, 'بگرود': 4710, 'میندیش': 4711, 'نشکنی': 4712, 'بدانند': 4713, 'هرکش': 4714, 'بگروی': 4715, 'بهایی': 4716, 'برآرای': 4717, 'آویز': 4718, 'کافراسیاب': 4719, 'نابرید': 4720, 'نپرد': 4721, 'بلاها': 4722, 'ترسم': 4723, 'بطوس': 4724, 'نامم': 4725, 'بنویس': 4726, 'بتافت': 4727, 'مهست': 4728, 'خورشهای': 4729, 'پذیری': 4730, 'بتازیم': 4731, 'برگذر': 4732, 'جریره': 4733, 'ایدرست': 4734, 'برتافتی': 4735, 'کشورا': 4736, 'ارد': 4737, 'رامشگر': 4738, 'بگذراند': 4739, 'بسم': 4740, 'ممانید': 4741, 'بریدی': 4742, 'فرموده': 4743, 'سوگواران': 4744, 'بزرگیش': 4745, 'تنان': 4746, 'ردا': 4747, 'زم': 4748, 'کفک': 4749, 'چکید': 4750, 'غمگنان': 4751, 'نگردی': 4752, 'افگنند': 4753, 'بجام': 4754, 'بگردش': 4755, 'کشاورز': 4756, 'نشمریم': 4757, 'دردش': 4758, 'بپی': 4759, 'سربخت': 4760, 'آرایشست': 4761, 'دریغا': 4762, 'بچرخ': 4763, 'قلبگه': 4764, 'نیایی': 4765, 'برآشوفتند': 4766, 'برخروشید': 4767, 'ستانم': 4768, 'بستود': 4769, 'بناکام': 4770, 'مجنبید': 4771, 'فریبست': 4772, 'گردند': 4773, 'کندر': 4774, 'نماندست': 4775, 'کنداورست': 4776, 'کینست': 4777, 'خریدی': 4778, 'بگسلاند': 4779, 'مزدور': 4780, 'دودهٔ': 4781, 'بینیش': 4782, 'بنا': 4783, 'گریزد': 4784, 'دروغست': 4785, 'پخته': 4786, 'بخواری': 4787, 'بیگانگان': 4788, 'بستاند': 4789, 'چشیده': 4790, 'مشکبوی': 4791, 'تهم': 4792, 'زادگان': 4793, 'شتابید': 4794, 'بگرسیوز': 4795, 'بنیکی': 4796, 'دشمنم': 4797, 'ستان': 4798, 'فدا': 4799, 'دهاد': 4800, 'بنشاندی': 4801, 'نبودیش': 4802, 'فروهل': 4803, 'نوشتی': 4804, 'بسوگند': 4805, 'برخشنده': 4806, 'بکنده': 4807, 'حصاری': 4808, 'ویست': 4809, 'بدساز': 4810, 'یاددار': 4811, 'برآهخت': 4812, 'برخواندند': 4813, 'فروتر': 4814, 'خواستیم': 4815, 'نیوش': 4816, 'اندورن': 4817, 'برچکید': 4818, 'اسبی': 4819, 'کباب': 4820, 'خستگیهاش': 4821, 'پیغمبر': 4822, 'گردنکشی': 4823, 'مشمرید': 4824, 'مایگان': 4825, 'کوفته': 4826, 'موبدش': 4827, 'بنشاختشان': 4828, 'دانند': 4829, 'کسهای': 4830, 'مرنج': 4831, 'بارگاهش': 4832, 'بادگشت': 4833, 'نادانی': 4834, 'لهراسپی': 4835, 'نشیمن': 4836, 'قیصری': 4837, 'گنبدان': 4838, 'مهین': 4839, 'اسپهبدان': 4840, 'چواز': 4841, 'نخورد': 4842, 'دستار': 4843, 'خادم': 4844, 'بباشی': 4845, 'بیاسای': 4846, 'فرات': 4847, 'آگندن': 4848, 'خادمان': 4849, 'روغن': 4850, 'دزد': 4851, 'هروم': 4852, 'حیوان': 4853, 'شیراز': 4854, 'پنبه': 4855, 'مهترپرست': 4856, 'دلو': 4857, 'بردباری': 4858, 'سرگین': 4859, 'سیوم': 4860, 'گان': 4861, 'سرخویش': 4862, 'چوخورشید': 4863, 'چاج': 4864, 'بچیست': 4865, 'وداد': 4866, 'واین': 4867, 'درپیش': 4868, 'کلیله': 4869, 'راگفت': 4870, 'ازمیان': 4871, 'ابلق': 4872, 'نستود': 4873, 'موسیل': 4874, 'کپی': 4875, 'شیرویه': 4876, 'پیکرست': 4877, 'نیوشنده': 4878, 'سرمایهٔ': 4879, 'بدینسان': 4880, 'رهاند': 4881, 'تیرگیها': 4882, 'نتابید': 4883, 'عمر': 4884, 'بستهٔ': 4885, 'شعر': 4886, 'نیازت': 4887, 'لرز': 4888, 'پروین': 4889, 'بگفتش': 4890, 'تنا': 4891, 'مردری': 4892, 'بستم': 4893, 'گوزن': 4894, 'خروشد': 4895, 'دادمان': 4896, 'بستش': 4897, 'آسود': 4898, 'همگنان': 4899, 'گچ': 4900, 'کاخهای': 4901, 'چندگونه': 4902, 'تندرستی': 4903, 'فرومانده': 4904, 'چنانست': 4905, 'بدگهر': 4906, 'خوردنیها': 4907, 'بپرورد': 4908, 'مزه': 4909, 'بپرداختی': 4910, 'مگذار': 4911, 'پریست': 4912, 'دانسته': 4913, 'مترس': 4914, 'هرجا': 4915, 'بهاست': 4916, 'خستهٔ': 4917, 'شیرخوار': 4918, 'جادوستان': 4919, 'پژوهید': 4920, 'بشناس': 4921, 'برافراختی': 4922, 'محضر': 4923, 'بپویید': 4924, 'نگارید': 4925, 'ببخشیدشان': 4926, 'نواز': 4927, 'بپیمای': 4928, 'ورزش': 4929, 'جهانداور': 4930, 'ناکرده': 4931, 'آگهان': 4932, 'برآمیخت': 4933, 'رازست': 4934, 'خوارتر': 4935, 'پرفسون': 4936, 'چوباد': 4937, 'مبادم': 4938, 'خواندندیش': 4939, 'فرسته': 4940, 'برگش': 4941, 'فگندن': 4942, 'برزو': 4943, 'ناپارسا': 4944, 'بجایست': 4945, 'نماندش': 4946, 'گرایندهٔ': 4947, 'افسران': 4948, 'پرداخت': 4949, 'آه': 4950, 'تخته': 4951, 'پراکنده': 4952, 'بسوز': 4953, 'نمرد': 4954, 'سارا': 4955, 'شهان': 4956, 'بدینار': 4957, 'نبینید': 4958, 'کردمی': 4959, 'پشتشان': 4960, 'سیصدهزار': 4961, 'سنانها': 4962, 'جنب': 4963, 'جستیم': 4964, 'برداشتم': 4965, 'آیید': 4966, 'رشته': 4967, 'نیکنامی': 4968, 'دیبه': 4969, 'ببخشاید': 4970, 'بچگان': 4971, 'نشانش': 4972, 'سرافرازتر': 4973, 'آرمت': 4974, 'برآتش': 4975, 'مسوز': 4976, 'باشاه': 4977, 'شادتر': 4978, 'یکچند': 4979, 'زمرد': 4980, 'گردیم': 4981, 'بدویست': 4982, 'نیکوتر': 4983, 'فرمانت': 4984, 'سگسار': 4985, 'پذرفت': 4986, 'روشنم': 4987, 'آستی': 4988, 'آبش': 4989, 'بگشتم': 4990, 'بنو': 4991, 'تکاور': 4992, 'دستهٔ': 4993, 'اندرم': 4994, 'مپیمای': 4995, 'پیچ': 4996, 'بازگشتم': 4997, 'فاش': 4998, 'برگفت': 4999, 'فرستادن': 5000, 'بمانید': 5001, 'ماندیم': 5002, 'زیج': 5003, 'زبانه': 5004, 'نامدران': 5005, 'کمانها': 5006, 'بش': 5007, 'فربه': 5008, 'بارانش': 5009, 'مال': 5010, 'دادت': 5011, 'بازوش': 5012, 'کنج': 5013, 'دامنش': 5014, 'همانند': 5015, 'نارسید': 5016, 'خوردند': 5017, 'گوشهٔ': 5018, 'خوشتر': 5019, 'کارهای': 5020, 'بدوست': 5021, 'آهنی': 5022, 'سپهبدش': 5023, 'بجوییم': 5024, 'اندرآید': 5025, 'آهار': 5026, 'خاستی': 5027, 'بپرداختم': 5028, 'فرستمش': 5029, 'کامهٔ': 5030, 'یازم': 5031, 'والا': 5032, 'نگهدارشان': 5033, 'غل': 5034, 'مسمار': 5035, 'بکندند': 5036, 'بپردازم': 5037, 'حنظل': 5038, 'بدونیم': 5039, 'بیداربخت': 5040, 'بریزی': 5041, 'لبت': 5042, 'چگونست': 5043, 'درودی': 5044, 'پیداست': 5045, 'افراسیابش': 5046, 'بفشارد': 5047, 'درازی': 5048, 'چارسوی': 5049, 'برانیم': 5050, 'باآفرین': 5051, 'بسپار': 5052, 'بهاری': 5053, 'رامشگری': 5054, 'بومش': 5055, 'گرازنده': 5056, 'پردانش': 5057, 'رونده': 5058, 'زدست': 5059, 'سازان': 5060, 'نابوده': 5061, 'بنان': 5062, 'پرنهیب': 5063, 'سخنشان': 5064, 'گامزن': 5065, 'بجنبم': 5066, 'بتوفید': 5067, 'بروبوم': 5068, 'بجویند': 5069, 'بجستن': 5070, 'رستی': 5071, 'دلشان': 5072, 'نشین': 5073, 'بربری': 5074, 'تبرزین': 5075, 'نشاپور': 5076, 'ماندست': 5077, 'نیازست': 5078, 'چرید': 5079, 'سحرگه': 5080, 'نخجیر': 5081, 'کوش': 5082, 'گمانیش': 5083, 'بپاداش': 5084, 'سرآورد': 5085, 'سوارست': 5086, 'رایی': 5087, 'ازینسان': 5088, 'کامشب': 5089, 'شیرمردی': 5090, 'پرسم': 5091, 'نبوید': 5092, 'داشتیم': 5093, 'سودی': 5094, 'مهرت': 5095, 'دمیدند': 5096, 'رباید': 5097, 'مردگان': 5098, 'آهوی': 5099, 'بیورد': 5100, 'بیمد': 5101, 'فرستش': 5102, 'پیچم': 5103, 'خوبرویان': 5104, 'بگفتن': 5105, 'گزیدی': 5106, 'بخوانید': 5107, 'بدوزم': 5108, 'گرداند': 5109, 'نبندم': 5110, 'سمرقند': 5111, 'بسیچد': 5112, 'بسازند': 5113, 'برگاشتی': 5114, 'گشایند': 5115, 'زگنج': 5116, 'ایرانش': 5117, 'بباز': 5118, 'بیفزایدش': 5119, 'حکیمان': 5120, 'پهناش': 5121, 'خوبتر': 5122, 'بیارانش': 5123, 'بردهد': 5124, 'چوبین': 5125, 'برزنم': 5126, 'دمور': 5127, 'همتا': 5128, 'بیگانگی': 5129, 'رهنمونی': 5130, 'بدادی': 5131, 'بگشتی': 5132, 'دردست': 5133, 'بیازرد': 5134, 'بدرگه': 5135, 'نیایدش': 5136, 'عار': 5137, 'بدآموز': 5138, 'حال': 5139, 'گناهش': 5140, 'زیانی': 5141, 'گراییدن': 5142, 'نگارنده': 5143, 'میراث': 5144, 'دارندهٔ': 5145, 'ببسود': 5146, 'ناشاد': 5147, 'ننگست': 5148, 'دژآگاه': 5149, 'اندرافگند': 5150, 'باژخواه': 5151, 'گزندی': 5152, 'بسپرند': 5153, 'تاجی': 5154, 'خوشه': 5155, 'برته': 5156, 'بهای': 5157, 'اسپنوی': 5158, 'ببی': 5159, 'بشکنیم': 5160, 'بسایش': 5161, 'مهرهٔ': 5162, 'نبردش': 5163, 'بمردم': 5164, 'دوخت': 5165, 'غلتان': 5166, 'گونهٔ': 5167, 'بجیحون': 5168, 'اندرزها': 5169, 'بکافور': 5170, 'کنونست': 5171, 'کبوده': 5172, 'خوردنش': 5173, 'خرامی': 5174, 'زندگان': 5175, 'بنفرین': 5176, 'پیکارشان': 5177, 'سوگندهای': 5178, 'تازانه': 5179, 'تل': 5180, 'تیری': 5181, 'نامدارست': 5182, 'بسستی': 5183, 'حاجت': 5184, 'بمرگ': 5185, 'داروی': 5186, 'خرچنگ': 5187, 'بپیلان': 5188, 'برامش': 5189, 'برگزیدی': 5190, 'مهترند': 5191, 'افگندی': 5192, 'بگیرید': 5193, 'یافتیم': 5194, 'برنتابد': 5195, 'شاددار': 5196, 'فرطوس': 5197, 'گهار': 5198, 'برانند': 5199, 'نشینم': 5200, 'برچیند': 5201, 'طاوس': 5202, 'ک': 5203, 'سرایی': 5204, 'پرگزند': 5205, 'خنجرگزاران': 5206, 'سهم': 5207, 'بکاهد': 5208, 'زانجا': 5209, 'بسند': 5210, 'باداد': 5211, 'هندوی': 5212, 'ربودی': 5213, 'مغزم': 5214, 'جاثلیق': 5215, 'ببازوی': 5216, 'دشمنت': 5217, 'بپیمان': 5218, 'گرزست': 5219, 'سرافرازی': 5220, 'بزمگه': 5221, 'سزی': 5222, 'خوک': 5223, 'ببیشه': 5224, 'بیدارتر': 5225, 'بکاخ': 5226, 'ندرد': 5227, 'بچاه': 5228, 'وفاست': 5229, 'کشکین': 5230, 'خوالیگرش': 5231, 'نشانم': 5232, 'آستین': 5233, 'پشن': 5234, 'بیین': 5235, 'نوشتم': 5236, 'کردارها': 5237, 'مهرست': 5238, 'ننشست': 5239, 'بوند': 5240, 'کلاهش': 5241, 'یاب': 5242, 'برساخت': 5243, 'بدور': 5244, 'کوشد': 5245, 'زرسب': 5246, 'درودش': 5247, 'نشستش': 5248, 'ریزان': 5249, 'کناد': 5250, 'چکاچاک': 5251, 'بگلزریون': 5252, 'بخواهید': 5253, 'ننگرید': 5254, 'بدیوار': 5255, 'ویند': 5256, 'خوانمت': 5257, 'طرایف': 5258, 'براسب': 5259, 'ورنج': 5260, 'بخشی': 5261, 'ببخشی': 5262, 'بختت': 5263, 'درت': 5264, 'وبی': 5265, 'ساربان': 5266, 'آویزش': 5267, 'فراخت': 5268, 'بدندی': 5269, 'تگینان': 5270, 'گزینان': 5271, 'خونشان': 5272, 'نخوانم': 5273, 'کاسفندیار': 5274, 'سروی': 5275, 'کامش': 5276, 'پیراهنت': 5277, 'مخوانید': 5278, 'تواین': 5279, 'ستیزه': 5280, 'فروماندند': 5281, 'نیران': 5282, 'عموریه': 5283, 'کرپاس': 5284, 'ونهان': 5285, 'گزینی': 5286, 'قادسی': 5287, 'زنش': 5288, 'دورست': 5289, 'ازار': 5290, 'زما': 5291, 'بابل': 5292, 'دگرگفت': 5293, 'بهرامیان': 5294, 'هستیم': 5295, 'دوکدان': 5296, 'برگزیدند': 5297, 'غنیمت': 5298, 'بزرگیست': 5299, 'بپرهیزد': 5300, 'تاوان': 5301, 'قفل': 5302, 'ناسزاست': 5303, 'ودانش': 5304, 'گفتیم': 5305, 'زفت': 5306, 'مبادش': 5307, 'طغری': 5308, 'رزین': 5309, 'گوهرفروش': 5310, 'بنشاندم': 5311, 'فغانیش': 5312, 'انبار': 5313, 'سوفزا': 5314, 'ارجمندی': 5315, 'برخویشتن': 5316, 'زغم': 5317, 'راهمه': 5318, 'پرشد': 5319, 'وگفت': 5320, 'وراه': 5321, 'راهمی': 5322, 'بهرکار': 5323, 'آذرمهان': 5324, 'وبر': 5325, 'چوخسرو': 5326, 'ارمنی': 5327, 'کوت': 5328, 'دلگشای': 5329, 'تابناک': 5330, 'کاربند': 5331, 'معنی': 5332, 'روش': 5333, 'مپیچ': 5334, 'عشق': 5335, 'فسانه': 5336, 'افکند': 5337, 'جوانیش': 5338, 'گنجم': 5339, 'جویندگان': 5340, 'نامدی': 5341, 'هفتصد': 5342, 'دیدمی': 5343, 'پروردگان': 5344, 'بال': 5345, 'ویله': 5346, 'بازارشان': 5347, 'جنگشان': 5348, 'قصب': 5349, 'اش': 5350, 'گفتگوی': 5351, 'روانشان': 5352, 'بشناختند': 5353, 'فرودین': 5354, 'بیور': 5355, 'بشنوم': 5356, 'نتابم': 5357, 'توشهٔ': 5358, 'ببوسم': 5359, 'کتفش': 5360, 'برهان': 5361, 'شهرناز': 5362, 'تیزگوش': 5363, 'آبتین': 5364, 'فرانک': 5365, 'سرانجمن': 5366, 'بپرداخت': 5367, 'جادوپرست': 5368, 'دادمت': 5369, 'زدش': 5370, 'انگیختن': 5371, 'زبیم': 5372, 'همالان': 5373, 'برنهادی': 5374, 'بتازی': 5375, 'نوردد': 5376, 'ناسپرده': 5377, 'کئی': 5378, 'گاز': 5379, 'نغنود': 5380, 'بارنده': 5381, 'باگهر': 5382, 'منال': 5383, 'نباشدت': 5384, 'مرآن': 5385, 'کسش': 5386, 'زلفش': 5387, 'چهرگان': 5388, 'یادگارست': 5389, 'برکسی': 5390, 'رازشان': 5391, 'آوازشان': 5392, 'شمن': 5393, 'بشنیدم': 5394, 'میستان': 5395, 'مهترم': 5396, 'بگزارد': 5397, 'درختیست': 5398, 'سپاری': 5399, 'فرمایدم': 5400, 'قد': 5401, 'کوز': 5402, 'بومها': 5403, 'نویسم': 5404, 'گشایندهٔ': 5405, 'کهترست': 5406, 'بکوشش': 5407, 'زهرآبگون': 5408, 'خنجرش': 5409, 'گسست': 5410, 'جهانا': 5411, 'برگرفته': 5412, 'گلفشان': 5413, 'سوخت': 5414, 'جگرشان': 5415, 'نامزد': 5416, 'بیاموختش': 5417, 'فرستند': 5418, 'راستیها': 5419, 'نشستنگهی': 5420, 'زیبایی': 5421, 'بریدم': 5422, 'سحاب': 5423, 'دژبان': 5424, 'دژدار': 5425, 'پویی': 5426, 'برکشم': 5427, 'نز': 5428, 'بپدرود': 5429, 'بخردیست': 5430, 'جویندهٔ': 5431, 'فرازندهٔ': 5432, 'ملک': 5433, 'بپیوندم': 5434, 'تاش': 5435, 'دادمی': 5436, 'پرواز': 5437, 'خروشنده': 5438, 'کاشکی': 5439, 'نیستم': 5440, 'هرچت': 5441, 'بیاموز': 5442, 'زدندی': 5443, 'بودشان': 5444, 'جایگاهی': 5445, 'توز': 5446, 'جزان': 5447, 'رودابهٔ': 5448, 'عنانش': 5449, 'بزیبد': 5450, 'همره': 5451, 'نگسلم': 5452, 'ندیده': 5453, 'بفراخت': 5454, 'گلرخ': 5455, 'بنداخت': 5456, 'لبش': 5457, 'هشته': 5458, 'گذاریم': 5459, 'مردیست': 5460, 'بگذار': 5461, 'زبانم': 5462, 'وبا': 5463, 'لبی': 5464, 'برآمیخته': 5465, 'ایستاد': 5466, 'کجایی': 5467, 'ننگری': 5468, 'زهی': 5469, 'سودش': 5470, 'چنی': 5471, 'جوشنم': 5472, 'دوصد': 5473, 'چارپایان': 5474, 'شاهش': 5475, 'برگذشتند': 5476, 'سیاهی': 5477, 'روانها': 5478, 'درآید': 5479, 'چیزها': 5480, 'فرخی': 5481, 'برگشتم': 5482, 'فرازد': 5483, 'دردها': 5484, 'بکوب': 5485, 'دوختند': 5486, 'سمور': 5487, 'شادیش': 5488, 'ناوک': 5489, 'زمانم': 5490, 'بداشت': 5491, 'کدیور': 5492, 'پهلوانست': 5493, 'نوذری': 5494, 'آمرزش': 5495, 'نخوانی': 5496, 'خوید': 5497, 'بشمر': 5498, 'سرین': 5499, 'شنگرف': 5500, 'روشنش': 5501, 'دلیرا': 5502, 'مرزی': 5503, 'لیکن': 5504, 'منت': 5505, 'پیشست': 5506, 'آبست': 5507, 'افروزد': 5508, 'تهیست': 5509, 'کندن': 5510, 'کارکرده': 5511, 'برگیر': 5512, 'شهنشه': 5513, 'برافروخته': 5514, 'ترنج': 5515, 'بسیچیده': 5516, 'پیشدست': 5517, 'بلندیش': 5518, 'گرایدونک': 5519, 'گرفتندش': 5520, 'بمازندران': 5521, 'بخوانند': 5522, 'پنداشتی': 5523, 'راستگوی': 5524, 'بیمش': 5525, 'آبهای': 5526, 'یافه': 5527, 'همانجا': 5528, 'زخمش': 5529, 'مپرداز': 5530, 'یالش': 5531, 'رخشم': 5532, 'گرایی': 5533, 'مغزت': 5534, 'خواندن': 5535, 'تیزتر': 5536, 'بتازید': 5537, 'پرخروش': 5538, 'بسودند': 5539, 'چنگم': 5540, 'فروان': 5541, 'غمخواره': 5542, 'جلیل': 5543, 'زهرست': 5544, 'فسرد': 5545, 'گشتش': 5546, 'بادافرهٔ': 5547, 'اوستاد': 5548, 'داستانست': 5549, 'بگیریم': 5550, 'نیفگند': 5551, 'گسار': 5552, 'توزی': 5553, 'براید': 5554, 'ودیگر': 5555, 'بودست': 5556, 'خردی': 5557, 'گردآفرید': 5558, 'ربود': 5559, 'برانی': 5560, 'فرازست': 5561, 'فرستادمش': 5562, 'گراییم': 5563, 'اندرخورست': 5564, 'ترسنده': 5565, 'گزینیم': 5566, 'جوشنوران': 5567, 'دیدنش': 5568, 'نگزایدت': 5569, 'متاب': 5570, 'برخروشد': 5571, 'جوشد': 5572, 'نابسوده': 5573, 'کاردیده': 5574, 'بروها': 5575, 'هین': 5576, 'ایستادند': 5577, 'تازید': 5578, 'نجنبد': 5579, 'ناساز': 5580, 'بدسگالت': 5581, 'مارا': 5582, 'گرانمایهٔ': 5583, 'نازد': 5584, 'برخوردی': 5585, 'سوختی': 5586, 'فغستان': 5587, 'بهوش': 5588, 'خویشش': 5589, 'بداری': 5590, 'نیمهٔ': 5591, 'چکاند': 5592, 'کشتنش': 5593, 'زیجها': 5594, 'بلرزد': 5595, 'نیکوسخن': 5596, 'دیدمش': 5597, 'برمتاب': 5598, 'ترمذ': 5599, 'بخفتی': 5600, 'گزارندهٔ': 5601, 'ببیم': 5602, 'طالع': 5603, 'طبل': 5604, 'سپیجاب': 5605, 'رفتنش': 5606, 'بردل': 5607, 'پیوستگان': 5608, 'بگرداند': 5609, 'نگویند': 5610, 'زیور': 5611, 'برساز': 5612, 'شتربار': 5613, 'نشکنم': 5614, 'پیسه': 5615, 'وام': 5616, 'برنشین': 5617, 'برنهند': 5618, 'مشمر': 5619, 'نروید': 5620, 'جهانست': 5621, 'بدرند': 5622, 'چهرش': 5623, 'برافراز': 5624, 'برندش': 5625, 'چیم': 5626, 'نورسیده': 5627, 'گوسفندان': 5628, 'برکنده': 5629, 'دیگران': 5630, 'پرخاک': 5631, 'رزمت': 5632, 'سرگرفت': 5633, 'پیموده': 5634, 'نماندند': 5635, 'میازار': 5636, 'بسست': 5637, 'کسست': 5638, 'کیخسروی': 5639, 'مرغزاران': 5640, 'سرگرای': 5641, 'راهم': 5642, 'بهرسو': 5643, 'آذرابادگان': 5644, 'نشمری': 5645, 'بریخت': 5646, 'زرم': 5647, 'پاکش': 5648, 'بچپ': 5649, 'آبی': 5650, 'آزردن': 5651, 'بمژده': 5652, 'برکنی': 5653, 'گرو': 5654, 'بازگشتی': 5655, 'ننگی': 5656, 'نیاریم': 5657, 'نهنگی': 5658, 'کنداور': 5659, 'بدشنام': 5660, 'نسازند': 5661, 'بمرز': 5662, 'ریزد': 5663, 'شوشهٔ': 5664, 'بگاز': 5665, 'برویین': 5666, 'بدادم': 5667, 'آرمش': 5668, 'بیاییم': 5669, 'بپوزش': 5670, 'گرزها': 5671, 'بپند': 5672, 'بردشت': 5673, 'بگزایدت': 5674, 'بیچارگیست': 5675, 'آختن': 5676, 'هلا': 5677, 'زیستن': 5678, 'شمیران': 5679, 'دلرا': 5680, 'درگرفت': 5681, 'بنعل': 5682, 'انداز': 5683, 'بکوشند': 5684, 'کانوشه': 5685, 'پیچیده': 5686, 'بتنگ': 5687, 'روانرا': 5688, 'بقیر': 5689, 'اندود': 5690, 'کمانش': 5691, 'گوزنان': 5692, 'بیابید': 5693, 'بروهای': 5694, 'الوای': 5695, 'آورش': 5696, 'تنگست': 5697, 'شاخش': 5698, 'بجوشن': 5699, 'افسرند': 5700, 'تنومند': 5701, 'شگنان': 5702, 'بدتن': 5703, 'بزرگش': 5704, 'بیاراید': 5705, 'بگردنکشان': 5706, 'دردمندی': 5707, 'بداندیشگان': 5708, 'کمرها': 5709, 'بافزون': 5710, 'فرغار': 5711, 'شاهت': 5712, 'بغوش': 5713, 'جستنش': 5714, 'پشیز': 5715, 'شگفتست': 5716, 'ساعت': 5717, 'قدح': 5718, 'بگرگین': 5719, 'بچنگال': 5720, 'اندرآی': 5721, 'بمردان': 5722, 'نرست': 5723, 'بکوی': 5724, 'بکردیم': 5725, 'بدوبر': 5726, 'سرآرم': 5727, 'پایم': 5728, 'فروشنده': 5729, 'بخرم': 5730, 'بپیشت': 5731, 'بندم': 5732, 'کینش': 5733, 'بدستوری': 5734, 'آوردی': 5735, 'بلهراسب': 5736, 'بدلت': 5737, 'بخشد': 5738, 'فرازی': 5739, 'زترکان': 5740, 'فروبرده': 5741, 'بچاره': 5742, 'بازکش': 5743, 'ناشکیب': 5744, 'بخواننده': 5745, 'رزمگاهی': 5746, 'بیاراستیم': 5747, 'همسایه': 5748, 'بکاوس': 5749, 'نیازارم': 5750, 'زنگله': 5751, 'برومی': 5752, 'چونک': 5753, 'برکردگار': 5754, 'کد': 5755, 'گزندان': 5756, 'کاخی': 5757, 'منوشان': 5758, 'خوزیان': 5759, 'کندز': 5760, 'چگل': 5761, 'بوردگاه': 5762, 'اندیشم': 5763, 'بواز': 5764, 'خرامیم': 5765, 'فرب': 5766, 'شدشان': 5767, 'ببهشت': 5768, 'عراده': 5769, 'آویختی': 5770, 'زمستان': 5771, 'زبانت': 5772, 'بگاشت': 5773, 'تاجداری': 5774, 'درجنگ': 5775, 'بگریستند': 5776, 'دولشکر': 5777, 'بیراه': 5778, 'بخشیم': 5779, 'وبه': 5780, 'ازبرش': 5781, 'نماندت': 5782, 'خوردش': 5783, 'ناسپاسی': 5784, 'ننازی': 5785, 'رباطی': 5786, 'درنهفت': 5787, 'روستا': 5788, 'ودل': 5789, 'بپرسیدن': 5790, 'قیصرست': 5791, 'حلب': 5792, 'فیلسوفی': 5793, 'کشمر': 5794, 'هرچیز': 5795, 'گزارش': 5796, 'زردی': 5797, '؟': 5798, 'میازید': 5799, 'نگذاشتند': 5800, 'بگشاید': 5801, 'سربر': 5802, 'کلاهی': 5803, 'سرکشید': 5804, 'کلنگ': 5805, 'دفتری': 5806, 'دینارگان': 5807, 'طرخان': 5808, 'گویان': 5809, 'نجستست': 5810, 'بیاوردم': 5811, 'توای': 5812, 'خسروست': 5813, 'کاهش': 5814, 'کمتری': 5815, 'انکس': 5816, 'بیماری': 5817, 'نوازش': 5818, 'نعم': 5819, 'مثقال': 5820, 'نبات': 5821, 'بیاراستندش': 5822, 'جانوشیار': 5823, 'کارداری': 5824, 'ناتن': 5825, 'انقاس': 5826, 'نیازارد': 5827, 'کایدون': 5828, 'بدارم': 5829, 'برآنکس': 5830, 'پایکار': 5831, 'بهاگیر': 5832, 'بدکام': 5833, 'پرسنده': 5834, 'جوانمردی': 5835, 'الا': 5836, 'اشکانیان': 5837, 'سوزان': 5838, 'بدربر': 5839, 'نخوانیم': 5840, 'سباک': 5841, 'ارزیز': 5842, 'نشناختی': 5843, 'فرزد': 5844, 'وکیش': 5845, 'ردی': 5846, 'ستاننده': 5847, 'آزادی': 5848, 'مسیح': 5849, 'نصیبین': 5850, 'فرهیست': 5851, 'آژدن': 5852, 'فوردین': 5853, 'الان': 5854, 'چرغ': 5855, 'ناپسند': 5856, 'پیروزشاه': 5857, 'گزیت': 5858, 'برک': 5859, 'زرمهر': 5860, 'درمیان': 5861, 'ارمینیه': 5862, 'بسالی': 5863, 'گزارنده': 5864, 'بدستور': 5865, 'چودانی': 5866, 'کارمنست': 5867, 'وخوار': 5868, 'وچون': 5869, 'ازجهان': 5870, 'وخاقان': 5871, 'چوآگاهی': 5872, 'چوشب': 5873, 'چوشاپور': 5874, 'برخاک': 5875, 'چومن': 5876, 'وشد': 5877, 'درگنج': 5878, 'شادست': 5879, 'کهنه': 5880, 'سندلی': 5881, 'وگاه': 5882, 'آبدستان': 5883, 'رقعه': 5884, 'موکل': 5885, 'دونیم': 5886, 'زمردی': 5887, 'بپرموده': 5888, 'بدز': 5889, 'چناچون': 5890, 'زراه': 5891, 'چوگستهم': 5892, 'چولشکر': 5893, 'دره': 5894, 'زرق': 5895, 'سنجد': 5896, 'جویا': 5897, 'بپرورده': 5898, 'زویست': 5899, 'باریکتر': 5900, 'دایم': 5901, 'ستاید': 5902, 'وصی': 5903, 'ولی': 5904, 'سریر': 5905, 'دلست': 5906, 'زارتر': 5907, 'بازدارد': 5908, 'پژوهندهٔ': 5909, 'بپرسیدم': 5910, 'بیشمار': 5911, 'بترسیدم': 5912, 'وفادار': 5913, 'نهنگان': 5914, 'بردگان': 5915, 'زید': 5916, 'برتران': 5917, 'حمل': 5918, 'پلنگینه': 5919, 'خوبروی': 5920, 'برآور': 5921, 'گفتنیها': 5922, 'بازگفت': 5923, 'باهوش': 5924, 'نمایدت': 5925, 'رشتن': 5926, 'بیاوردش': 5927, 'شستن': 5928, 'هندسی': 5929, 'گرمابه': 5930, 'آمدندی': 5931, 'مراین': 5932, 'بشستی': 5933, 'کبک': 5934, 'آرامشان': 5935, 'دیوانگان': 5936, 'پاکدامن': 5937, 'رسمهای': 5938, 'ریزند': 5939, 'آوریدن': 5940, 'بیامیخت': 5941, 'یافتندی': 5942, 'صحرا': 5943, 'دماوند': 5944, 'خوابی': 5945, 'یکدیگر': 5946, 'برمایه': 5947, 'بازجای': 5948, 'پدروار': 5949, 'براندیشم': 5950, 'بپوشند': 5951, 'سپاهم': 5952, 'خشمناک': 5953, 'گلرنگ': 5954, 'بکشتش': 5955, 'لاجرم': 5956, 'کمربست': 5957, 'کمربستگان': 5958, 'فریدونش': 5959, 'فزونیش': 5960, 'گاوپیکر': 5961, 'دیوارها': 5962, 'ببندش': 5963, 'نگشاید': 5964, 'پدیدست': 5965, 'برافگنده': 5966, 'بنش': 5967, 'داوریها': 5968, 'شادکامی': 5969, 'برداشته': 5970, 'گلبن': 5971, 'بازیست': 5972, 'روانهای': 5973, 'برآسمان': 5974, 'غریبان': 5975, 'افروخته': 5976, 'اندرکشید': 5977, 'زکین': 5978, 'زبونی': 5979, 'پرمنش': 5980, 'برینسان': 5981, 'دلتان': 5982, 'نوازیدن': 5983, 'پرورید': 5984, 'بازآمدن': 5985, 'بپیچاند': 5986, 'پیلوار': 5987, 'نیاگان': 5988, 'نوآمد': 5989, 'رایشان': 5990, 'برگذشته': 5991, 'نمایند': 5992, 'تاکنون': 5993, 'تیزدندان': 5994, 'جوانه': 5995, 'یارند': 5996, 'ابلهی': 5997, 'بمانند': 5998, 'افراشتند': 5999, 'جناح': 6000, 'نماندم': 6001, 'قعر': 6002, 'ازویم': 6003, 'برافراختن': 6004, 'نقرهٔ': 6005, 'سپیدست': 6006, 'بگذارم': 6007, 'بگسلی': 6008, 'شیرخواره': 6009, 'بشکرند': 6010, 'پروراننده': 6011, 'نشیم': 6012, 'کمترین': 6013, 'افگندن': 6014, 'زرش': 6015, 'طبقها': 6016, 'گسارندهٔ': 6017, 'زیبنده': 6018, 'حلقهٔ': 6019, 'بهشتیست': 6020, 'هال': 6021, 'گساریم': 6022, 'ستودند': 6023, 'پرآتش': 6024, 'سامست': 6025, 'روزم': 6026, 'بخوابید': 6027, 'نیرزید': 6028, 'برگل': 6029, 'دستانش': 6030, 'آشنا': 6031, 'چکد': 6032, 'سیمست': 6033, 'گلست': 6034, 'سهیل': 6035, 'چارست': 6036, 'کنگره': 6037, 'لبانش': 6038, 'درودت': 6039, 'صبر': 6040, 'نپردازد': 6041, 'دیزه': 6042, 'نیازم': 6043, 'فرماید': 6044, 'غمگساران': 6045, 'دشوارتر': 6046, 'درخورد': 6047, 'آنجای': 6048, 'دیزهٔ': 6049, 'چمد': 6050, 'سوز': 6051, 'گشاینده': 6052, 'درکشیدی': 6053, 'شکستم': 6054, 'شنیدست': 6055, 'بدخشان': 6056, 'نسوزد': 6057, 'گراین': 6058, 'سیراب': 6059, 'خواندیم': 6060, 'مایست': 6061, 'بزمش': 6062, 'تیزهش': 6063, 'تای': 6064, 'شمردن': 6065, 'همانش': 6066, 'چارده': 6067, 'مزیح': 6068, 'جد': 6069, 'نرفتند': 6070, 'برنهادیم': 6071, 'نگارش': 6072, 'آرایشی': 6073, 'هودج': 6074, 'ارغوانی': 6075, 'اندروست': 6076, 'تهیگاه': 6077, 'گزندش': 6078, 'ناخورده': 6079, 'خواهندگان': 6080, 'کاخها': 6081, 'ستبر': 6082, 'بشکریم': 6083, 'برنگیرد': 6084, 'پورش': 6085, 'بکوبید': 6086, 'چارصد': 6087, 'خشمش': 6088, 'شکارست': 6089, 'جایست': 6090, 'خلعتش': 6091, 'تابه': 6092, 'بیاموزد': 6093, 'کشیدندش': 6094, 'زارا': 6095, 'اندرآرم': 6096, 'بخشود': 6097, 'فگندیم': 6098, 'آوردشان': 6099, 'برآمیختی': 6100, 'پرخشم': 6101, 'داردی': 6102, 'پیکند': 6103, 'نبودیم': 6104, 'برنداشت': 6105, 'ابرش': 6106, 'شهی': 6107, 'بپرسیدی': 6108, 'نازان': 6109, 'نشانست': 6110, 'بابزن': 6111, 'آهنش': 6112, 'ساعد': 6113, 'کوب': 6114, 'برگرفتم': 6115, 'خدا': 6116, 'قصهٔ': 6117, 'گلابست': 6118, 'فزونم': 6119, 'گویمش': 6120, 'نشنویم': 6121, 'خوارند': 6122, 'مفرمای': 6123, 'انداختم': 6124, 'اسپروز': 6125, 'ماننده': 6126, 'نشکیفتی': 6127, 'بفریفتی': 6128, 'دوهزار': 6129, 'آهرمنم': 6130, 'راهست': 6131, 'بدوزخ': 6132, 'بشکنم': 6133, 'درآورد': 6134, 'ددی': 6135, 'پیلوارش': 6136, 'بشستش': 6137, 'کوفت': 6138, 'دگرباره': 6139, 'دستکش': 6140, 'آسمانش': 6141, 'تذروان': 6142, 'ریمنست': 6143, 'طاس': 6144, 'دوز': 6145, 'خره': 6146, 'سوهان': 6147, 'گرداندرش': 6148, 'نیاویختند': 6149, 'شبه': 6150, 'پهلوش': 6151, 'باشدی': 6152, 'بنهند': 6153, 'فروزد': 6154, 'کرگسان': 6155, 'کلاهور': 6156, 'آزمودند': 6157, 'برویش': 6158, 'رهگذر': 6159, 'اهریمنی': 6160, 'قاف': 6161, 'براست': 6162, 'چرایی': 6163, 'فروریختند': 6164, 'زنید': 6165, 'تموز': 6166, 'غلامی': 6167, 'خواهان': 6168, 'بناگاه': 6169, 'چنگی': 6170, 'شباهنگ': 6171, 'گزیدم': 6172, 'برترم': 6173, 'نشانمش': 6174, 'زدوده': 6175, 'برمگرد': 6176, 'تازد': 6177, 'بازآوری': 6178, 'دیدست': 6179, 'بیازارد': 6180, 'نیکوترست': 6181, 'کهترانیم': 6182, 'دیدگاه': 6183, 'پربیم': 6184, 'بیکران': 6185, 'آهوان': 6186, 'ژند': 6187, 'سروست': 6188, 'گیوگان': 6189, 'بترست': 6190, 'مسازید': 6191, 'بکوبد': 6192, 'راییم': 6193, 'گسارید': 6194, 'برآوردش': 6195, 'همسال': 6196, 'نسازیم': 6197, 'نازک': 6198, 'بیرای': 6199, 'ناخوشی': 6200, 'برخوان': 6201, 'وین': 6202, 'تاختم': 6203, 'میانشان': 6204, 'سیاوخش': 6205, 'راندن': 6206, 'شاهم': 6207, 'آموختی': 6208, 'آموزش': 6209, 'نعلین': 6210, 'پاسبانی': 6211, 'ژکان': 6212, 'شیون': 6213, 'نادلپذیر': 6214, 'نیزش': 6215, 'بفرماید': 6216, 'بددلی': 6217, 'پاکت': 6218, 'نیازرد': 6219, 'بازیابم': 6220, 'تاختندی': 6221, 'گشاییم': 6222, 'بنشاندش': 6223, 'بغنوی': 6224, 'افزونی': 6225, 'بدیهای': 6226, 'خواندت': 6227, 'چست': 6228, 'دارشان': 6229, 'بازگردیم': 6230, 'برگشایند': 6231, 'بانش': 6232, 'پروری': 6233, 'مهدی': 6234, 'مراگر': 6235, 'بینداختند': 6236, 'بمال': 6237, 'بدرهای': 6238, 'خسپد': 6239, 'حق': 6240, 'اوج': 6241, 'نژاده': 6242, 'بانو': 6243, 'ببودن': 6244, 'اندرآیم': 6245, 'تختهای': 6246, 'مصری': 6247, 'نشینند': 6248, 'گنجت': 6249, 'گیلی': 6250, 'بمیدان': 6251, 'اینچنین': 6252, 'خوانمش': 6253, 'بنگرم': 6254, 'برانگیختی': 6255, 'حرام': 6256, 'هرانجا': 6257, 'اندرآرد': 6258, 'برخواندم': 6259, 'بگروید': 6260, 'برافروختی': 6261, 'ببرند': 6262, 'بندند': 6263, 'توانست': 6264, 'بریزم': 6265, 'یادت': 6266, 'بریدش': 6267, 'دردی': 6268, 'کاریست': 6269, 'پرجفا': 6270, 'بگیری': 6271, 'دراج': 6272, 'کردارهای': 6273, 'موبدا': 6274, 'بخردا': 6275, 'اندرآری': 6276, 'افتد': 6277, 'نگذشت': 6278, 'زادی': 6279, 'نامست': 6280, 'پرسیم': 6281, 'بداختر': 6282, 'ارغنده': 6283, 'بیندازد': 6284, 'گواژه': 6285, 'خفتگان': 6286, 'مردار': 6287, 'بددل': 6288, 'بخرید': 6289, 'پوید': 6290, 'چیزت': 6291, 'برزی': 6292, 'پناهم': 6293, 'برنهم': 6294, 'نومیدی': 6295, 'بیندش': 6296, 'زکار': 6297, 'سوران': 6298, 'برجان': 6299, 'راببست': 6300, 'برنشسته': 6301, 'بزندان': 6302, 'تابیدن': 6303, 'میم': 6304, 'براندند': 6305, 'سپد': 6306, 'دربند': 6307, 'بگل': 6308, 'برخیره': 6309, 'سواریست': 6310, 'سپدکوه': 6311, 'تبار': 6312, 'چاپلوس': 6313, 'بدژ': 6314, 'بفروختی': 6315, 'اسپری': 6316, 'نمیرم': 6317, 'کوری': 6318, 'بتیزی': 6319, 'بمشک': 6320, 'مانیم': 6321, 'بلشکرگه': 6322, 'بیژنم': 6323, 'نامورتر': 6324, 'بپیری': 6325, 'برافراختم': 6326, 'گروگرد': 6327, 'کشتند': 6328, 'داروگیر': 6329, 'آنچنان': 6330, 'بشمرید': 6331, 'بگذرید': 6332, 'نهصد': 6333, 'گریخت': 6334, 'اخترست': 6335, 'بنوک': 6336, 'بازآورم': 6337, 'بسیم': 6338, 'بپرخاش': 6339, 'همبر': 6340, 'بفرست': 6341, 'شخود': 6342, 'بغم': 6343, 'نیاساید': 6344, 'زبردست': 6345, 'خوست': 6346, 'بازور': 6347, 'بافسون': 6348, 'داوران': 6349, 'نبردست': 6350, 'نکشتی': 6351, 'درند': 6352, 'ساختیم': 6353, 'کامدی': 6354, 'رزمجویان': 6355, 'ببانگ': 6356, 'بارای': 6357, 'گهانی': 6358, 'وهر': 6359, 'ببلخ': 6360, 'بجاه': 6361, 'شبانست': 6362, 'سیل': 6363, 'بکاموس': 6364, 'بزرم': 6365, 'برادرم': 6366, 'برگیرد': 6367, 'بغرد': 6368, 'گردگیر': 6369, 'جنگیست': 6370, 'بدانم': 6371, 'وآرام': 6372, 'بکیخسرو': 6373, 'آزمودی': 6374, 'بپذیر': 6375, 'درستند': 6376, 'بخانه': 6377, 'دردم': 6378, 'بنگاه': 6379, 'بازگویم': 6380, 'بگفتیم': 6381, 'نواست': 6382, 'بسه': 6383, 'شارستانی': 6384, 'دستها': 6385, 'نپرداختند': 6386, 'بدیوان': 6387, 'بانژاد': 6388, 'مبراد': 6389, 'پوشیدن': 6390, 'بسغد': 6391, 'بدستت': 6392, 'ستونها': 6393, 'بشیده': 6394, 'سلیحم': 6395, 'رنجم': 6396, 'بگردم': 6397, 'ببیداد': 6398, 'برود': 6399, 'طبقهای': 6400, 'بپوشیده': 6401, 'آمدستش': 6402, 'بفرزند': 6403, 'چندگه': 6404, 'ایدرا': 6405, 'بتور': 6406, 'هشیارتر': 6407, 'بژرفی': 6408, 'بندش': 6409, 'گوهرا': 6410, 'برزدی': 6411, 'تباهست': 6412, 'رسیدیم': 6413, 'زوار': 6414, 'میگساران': 6415, 'نبایدش': 6416, 'بخشیدنی': 6417, 'صید': 6418, 'کاروانی': 6419, 'فروشم': 6420, 'اومید': 6421, 'وفای': 6422, 'پندم': 6423, 'بیازم': 6424, 'زتو': 6425, 'تویم': 6426, 'زایوان': 6427, 'برنهادم': 6428, 'خری': 6429, 'بازگشتیم': 6430, 'افسرده': 6431, 'ترسد': 6432, 'اندرخور': 6433, 'داناترست': 6434, 'بهفتم': 6435, 'برآیدت': 6436, 'کاینست': 6437, 'بدرع': 6438, 'ناگشته': 6439, 'گنهکارتر': 6440, 'پلنگی': 6441, 'مرکز': 6442, 'افراختن': 6443, 'پرخاشجویان': 6444, 'ویسگان': 6445, 'بتازد': 6446, 'کاستست': 6447, 'پناهش': 6448, 'بازیابی': 6449, 'هستش': 6450, 'سپاریم': 6451, 'رهانم': 6452, 'بیشست': 6453, 'کندشان': 6454, 'بچیزی': 6455, 'برکشیدی': 6456, 'بداریم': 6457, 'گستوانور': 6458, 'ورد': 6459, 'بالینش': 6460, 'برگزینم': 6461, 'بادگر': 6462, 'شایست': 6463, 'بدآنگه': 6464, 'جهد': 6465, 'نمد': 6466, 'شهریارش': 6467, 'آراستیم': 6468, 'تیغزن': 6469, 'یارش': 6470, 'برفراخت': 6471, 'ودشت': 6472, 'بشکنند': 6473, 'گفتنی': 6474, 'نیکوست': 6475, 'آموزگاران': 6476, 'ببیشی': 6477, 'انگیخت': 6478, 'بکاری': 6479, 'دیدشان': 6480, 'هیم': 6481, 'بریگ': 6482, 'رفتگان': 6483, 'دژها': 6484, 'سرون': 6485, 'بشیرین': 6486, 'مپندار': 6487, 'نساید': 6488, 'یارمندی': 6489, 'زیستند': 6490, 'پرستیز': 6491, 'دوردست': 6492, 'بگوینده': 6493, 'باژی': 6494, 'بدکیش': 6495, 'پراگندنی': 6496, 'نبندیم': 6497, 'بخستند': 6498, 'افره': 6499, 'سفندار': 6500, 'برسر': 6501, 'ناکس': 6502, 'تودانی': 6503, 'برکوه': 6504, 'زبخت': 6505, 'زیزدان': 6506, 'آوازش': 6507, 'تایی': 6508, 'بکی': 6509, 'رفتنت': 6510, 'نبردند': 6511, 'پاسخت': 6512, 'ناسپاسان': 6513, 'بتاج': 6514, 'برزمین': 6515, 'بخواندند': 6516, 'آیمت': 6517, 'جایگاهش': 6518, 'گشادم': 6519, 'جاثلیقان': 6520, 'هرچش': 6521, 'پیشگاهش': 6522, 'تاریکتر': 6523, 'مهراس': 6524, 'بگذاشتش': 6525, 'پلاس': 6526, 'پذیرنده': 6527, 'نهال': 6528, 'بکردی': 6529, 'کودکانشان': 6530, 'بتاز': 6531, 'بیفشاند': 6532, 'وکرد': 6533, 'مترسید': 6534, 'خلج': 6535, 'خواهنده': 6536, 'جزا': 6537, 'بلنداختر': 6538, 'بادش': 6539, 'آشوفته': 6540, 'سوکواران': 6541, 'بخشیدن': 6542, 'موجود': 6543, 'دادده': 6544, 'پیکارجوی': 6545, 'بدنهان': 6546, 'آمدید': 6547, 'کرکس': 6548, 'کانکو': 6549, 'بدکامه': 6550, 'توری': 6551, 'ویر': 6552, 'پاشنه': 6553, 'خواره': 6554, 'پادشاهان': 6555, 'گوهرم': 6556, 'کنداورم': 6557, 'بستدم': 6558, 'بیفزاید': 6559, 'کامرانی': 6560, 'مکر': 6561, 'بشندی': 6562, 'باتو': 6563, 'فرشی': 6564, 'آموختم': 6565, 'سبزی': 6566, 'بگرویم': 6567, 'اندرگذشت': 6568, 'بادسرد': 6569, 'کاندرو': 6570, 'قتیب': 6571, 'بردنی': 6572, 'عدد': 6573, 'داراست': 6574, 'آزادگی': 6575, 'دزدان': 6576, 'گویندهٔ': 6577, 'زانگونه': 6578, 'دانشومند': 6579, 'شارستانها': 6580, 'تختت': 6581, 'استواران': 6582, 'فیلسوف': 6583, 'پژوهان': 6584, 'مناز': 6585, 'حرم': 6586, 'سماعیل': 6587, 'مصور': 6588, 'بنهفت': 6589, 'جزع': 6590, 'زیند': 6591, 'حلوان': 6592, 'آگنید': 6593, 'بارخواه': 6594, 'آسودگی': 6595, 'شاهوی': 6596, 'ریزنده': 6597, 'بخسپد': 6598, 'صلاب': 6599, 'برخواندی': 6600, 'کاردار': 6601, 'پیرست': 6602, 'پیی': 6603, 'روزیش': 6604, 'باهشی': 6605, 'نیستت': 6606, 'نالان': 6607, 'تنند': 6608, 'بیغاره': 6609, 'شورستان': 6610, 'یمانی': 6611, 'یادگیری': 6612, 'نویس': 6613, 'وییم': 6614, 'کبروی': 6615, 'یکساله': 6616, 'بریشم': 6617, 'ارزن': 6618, 'خارزن': 6619, 'دزدی': 6620, 'نانش': 6621, 'ببازارگان': 6622, 'تره': 6623, 'برزمهر': 6624, 'زیانکارتر': 6625, 'خطی': 6626, 'لوری': 6627, 'چک': 6628, 'جاماسب': 6629, 'پرگداز': 6630, 'نادرست': 6631, 'فرایین': 6632, 'آشکارست': 6633, 'برخساره': 6634, 'انطاکیه': 6635, 'ودانا': 6636, 'اندرجهان': 6637, 'زشاه': 6638, 'چوفرمان': 6639, 'ازمرگ': 6640, 'وکم': 6641, 'چوخشنود': 6642, 'بنوشین': 6643, 'حاجب': 6644, 'تابود': 6645, 'توگویی': 6646, 'وغم': 6647, 'چوتنها': 6648, 'چوخاقان': 6649, 'اوشد': 6650, 'برحریر': 6651, 'زخاقان': 6652, 'وجنگ': 6653, 'وفر': 6654, 'کارچیست': 6655, 'ومهان': 6656, 'شوشه': 6657, 'برجهان': 6658, 'وخشم': 6659, 'تاکه': 6660, 'وخون': 6661, 'واسب': 6662, 'وپاک': 6663, 'تاچه': 6664, 'ومهر': 6665, 'چوبرزد': 6666, 'ازنهفت': 6667, 'برچشم': 6668, 'توقیع': 6669, 'پوده': 6670, 'بقیصر': 6671, 'ترم': 6672, 'سیمای': 6673, 'برتن': 6674, 'زبن': 6675, 'ویک': 6676, 'همدان': 6677, 'ر': 6678, 'ه': 6679, 'سرشاه': 6680, 'گربه': 6681, 'دوزخی': 6682, 'بریکی': 6683, 'ازی': 6684, 'وبوی': 6685, 'زتخت': 6686, 'زبهرام': 6687, 'چوپیدا': 6688, 'وراد': 6689, 'وبندوی': 6690, 'کارجهان': 6691, 'ببندوی': 6692, 'خاقانیان': 6693, 'زتخم': 6694, 'شادگان': 6695, 'بالوی': 6696, 'کامه': 6697, 'اور': 6698, 'مگویید': 6699, 'تبرگ': 6700, 'گنجد': 6701, 'هستیش': 6702, 'وصف': 6703, 'اندرخورد': 6704, 'وزویت': 6705, 'رستنی': 6706, 'پسین': 6707, 'بگزایدش': 6708, 'رستگاری': 6709, 'گوشم': 6710, 'اهل': 6711, 'ستایندهٔ': 6712, 'حکیم': 6713, 'برگردی': 6714, 'ات': 6715, 'نافه': 6716, 'ناگفته': 6717, 'بازگوی': 6718, 'کریمی': 6719, 'گردگاه': 6720, 'ماهست': 6721, 'گهواره': 6722, 'ارم': 6723, 'باج': 6724, 'مراورا': 6725, 'جداییش': 6726, 'فکند': 6727, 'مژگانش': 6728, 'خفتن': 6729, 'درندگان': 6730, 'هرای': 6731, 'بشناخت': 6732, 'آهنگری': 6733, 'برنجید': 6734, 'بورزید': 6735, 'پویندگان': 6736, 'نپیوست': 6737, 'پشم': 6738, 'سودمندش': 6739, 'زینش': 6740, 'افسونگران': 6741, 'بیاموختند': 6742, 'کتان': 6743, 'تافتن': 6744, 'جهاندارشان': 6745, 'کشورند': 6746, 'نشنوند': 6747, 'بویش': 6748, 'بز': 6749, 'خواجهٔ': 6750, 'بتابی': 6751, 'گردنت': 6752, 'پروریدش': 6753, 'رایزن': 6754, 'نیرنگها': 6755, 'گسستند': 6756, 'گرایید': 6757, 'خوالیگری': 6758, 'بانان': 6759, 'بترسیدی': 6760, 'بشاید': 6761, 'زیرک': 6762, 'تنگتر': 6763, 'طاووس': 6764, 'رنگی': 6765, 'پرداختند': 6766, 'گریزنده': 6767, 'بدنژادی': 6768, 'لشگری': 6769, 'کاهنگران': 6770, 'بدیدندش': 6771, 'نابخردان': 6772, 'سرگاه': 6773, 'دجله': 6774, 'اینها': 6775, 'زانکه': 6776, 'آلودگی': 6777, 'بنشنید': 6778, 'سالست': 6779, 'گیسوی': 6780, 'بشورید': 6781, 'برناش': 6782, 'بومتان': 6783, 'رهش': 6784, 'نایافته': 6785, 'گذشتست': 6786, 'برکان': 6787, 'تمیشه': 6788, 'آفرینت': 6789, 'نداردش': 6790, 'ببوی': 6791, 'هرسه': 6792, 'دیدارشان': 6793, 'بیدارشان': 6794, 'بسیارهوش': 6795, 'بندید': 6796, 'شهش': 6797, 'کورا': 6798, 'کاراندرون': 6799, 'پنداشت': 6800, 'دولب': 6801, 'نشاندش': 6802, 'ناهوشیار': 6803, 'اهریمن': 6804, 'مغزتان': 6805, 'آزارتان': 6806, 'ناگریز': 6807, 'آشکارت': 6808, 'گستر': 6809, 'تابوتش': 6810, 'حوض': 6811, 'شایدم': 6812, 'زادن': 6813, 'وتیر': 6814, 'بودمان': 6815, 'پناهست': 6816, 'خواهشگران': 6817, 'بپوییم': 6818, 'نرانیم': 6819, 'بچهر': 6820, 'خورشد': 6821, 'ناسگالیده': 6822, 'گزارم': 6823, 'خندید': 6824, 'برگاشتش': 6825, 'تاجت': 6826, 'برگرای': 6827, 'داورم': 6828, 'یاورم': 6829, 'بزنار': 6830, 'گرازید': 6831, 'ننگرند': 6832, 'رساننده': 6833, 'افگندگان': 6834, 'صندل': 6835, 'سماک': 6836, 'رومیش': 6837, 'درفشنده': 6838, 'برفروز': 6839, 'آوردمش': 6840, 'گلش': 6841, 'دوستداران': 6842, 'چمیدن': 6843, 'حکم': 6844, 'رزمش': 6845, 'ناردان': 6846, 'ستودنش': 6847, 'نگماشتند': 6848, 'سپیدی': 6849, 'فریبد': 6850, 'بیکاری': 6851, 'پرخنده': 6852, 'معصفر': 6853, 'غالیه': 6854, 'واژونه': 6855, 'بکابل': 6856, 'بدیدن': 6857, 'طبق': 6858, 'رویت': 6859, 'حور': 6860, 'حمایل': 6861, 'رقم': 6862, 'رابد': 6863, 'بزادم': 6864, 'آوریدم': 6865, 'دورش': 6866, 'بایستش': 6867, 'کامت': 6868, 'چماند': 6869, 'سربند': 6870, 'ستمگر': 6871, 'سانست': 6872, 'جهانم': 6873, 'آبداری': 6874, 'ببردست': 6875, 'بدگمانی': 6876, 'نرگسان': 6877, 'دلاورترند': 6878, 'برانگیختم': 6879, 'ریختم': 6880, 'بگماز': 6881, 'نژادم': 6882, 'استاده': 6883, 'میانم': 6884, 'دمش': 6885, 'نخاست': 6886, 'کوهساران': 6887, 'اسپم': 6888, 'مازنداران': 6889, 'کوبنده': 6890, 'سپردیم': 6891, 'کردمش': 6892, 'زهراب': 6893, 'بنواخت': 6894, 'نبشتم': 6895, 'روارو': 6896, 'بزال': 6897, 'ستردند': 6898, 'گفتید': 6899, 'خرامند': 6900, 'بومشان': 6901, 'سیاهست': 6902, 'ترازو': 6903, 'بیمست': 6904, 'زهازه': 6905, 'سرمیگساران': 6906, 'راهش': 6907, 'گذارند': 6908, 'گذاره': 6909, 'خوارش': 6910, 'بیفروخت': 6911, 'بیاورده': 6912, 'رنگش': 6913, 'تختشان': 6914, 'بشخود': 6915, 'بدستان': 6916, 'ببوسد': 6917, 'کاواز': 6918, 'بدوز': 6919, 'گویمت': 6920, 'بشکفید': 6921, 'نبستند': 6922, 'گشای': 6923, 'رانش': 6924, 'رویی': 6925, 'بپرسی': 6926, 'مگذر': 6927, 'آنکش': 6928, 'برفراشت': 6929, 'بردهٔ': 6930, 'دشواری': 6931, 'غنوده': 6932, 'برویست': 6933, 'نیابید': 6934, 'ویسهٔ': 6935, 'نیاراست': 6936, 'بسپریم': 6937, 'کاهل': 6938, 'مویی': 6939, 'سودن': 6940, 'شکفته': 6941, 'نگشاده': 6942, 'آسودگان': 6943, 'گاوروی': 6944, 'کوفتن': 6945, 'برانسان': 6946, 'چیرگی': 6947, 'بدتنه': 6948, 'شتابش': 6949, 'نقش': 6950, 'پسرت': 6951, 'نثاری': 6952, 'دینارشان': 6953, 'گاورنگ': 6954, 'سرفشان': 6955, 'آوریدندش': 6956, 'مپوش': 6957, 'برگشاییم': 6958, 'گشواد': 6959, 'نگاشت': 6960, 'لنگ': 6961, 'شکوه': 6962, 'پخش': 6963, 'شتابان': 6964, 'کمانست': 6965, 'موجش': 6966, 'کمرش': 6967, 'زیرکش': 6968, 'شیرچنگ': 6969, 'ببازی': 6970, 'نشایدش': 6971, 'نگردیم': 6972, 'کرباس': 6973, 'سلام': 6974, 'نکوتر': 6975, 'نوشتیم': 6976, 'لشکرند': 6977, 'خوانش': 6978, 'مخوانش': 6979, 'نبندی': 6980, 'ورین': 6981, 'پیرانش': 6982, 'تختی': 6983, 'طلسمست': 6984, 'افزونترست': 6985, 'یارم': 6986, 'آییم': 6987, 'سپاهند': 6988, 'دوباره': 6989, 'دستوار': 6990, 'خنجرگذار': 6991, 'برآیدش': 6992, 'نرفتم': 6993, 'پرورانید': 6994, 'بازداشت': 6995, 'نگرداند': 6996, 'گفتت': 6997, 'تفته': 6998, 'بیداری': 6999, 'نعلش': 7000, 'گنده': 7001, 'کشتزار': 7002, 'دشتبان': 7003, 'نهشت': 7004, 'خوانیمش': 7005, 'بستست': 7006, 'بزگوش': 7007, 'پوستشان': 7008, 'نیزم': 7009, 'گردنم': 7010, 'منظری': 7011, 'دریدم': 7012, 'برافروختن': 7013, 'باهش': 7014, 'بفشاردش': 7015, 'چاکرم': 7016, 'چاکری': 7017, 'زمانت': 7018, 'افتاده': 7019, 'بفگن': 7020, 'دارش': 7021, 'برگرایید': 7022, 'مغفرت': 7023, 'سناندار': 7024, 'ندیدش': 7025, 'ماهرویان': 7026, 'مویان': 7027, 'نموده': 7028, 'میانها': 7029, 'جگرخسته': 7030, 'برتافتند': 7031, 'شمشیرها': 7032, 'زیباترست': 7033, 'فندق': 7034, 'سگان': 7035, 'هرگه': 7036, 'بسندست': 7037, 'بستانم': 7038, 'سوریان': 7039, 'ازانجا': 7040, 'برتافت': 7041, 'نمودست': 7042, 'باسمان': 7043, 'بپوشیم': 7044, 'خرگه': 7045, 'نشاط': 7046, 'ساقی': 7047, 'دادنش': 7048, 'بدارمش': 7049, 'برگذشتن': 7050, 'ستاده': 7051, 'افسانه': 7052, 'نیرمی': 7053, 'دلپسند': 7054, 'دژی': 7055, 'هجیرش': 7056, 'بازنشناختند': 7057, 'جایگیر': 7058, 'ناورید': 7059, 'مشور': 7060, 'نبودت': 7061, 'آسیب': 7062, 'ستانندهٔ': 7063, 'تیزپای': 7064, 'تندست': 7065, 'بیهودگی': 7066, 'خاکم': 7067, 'برشمار': 7068, 'گرازست': 7069, 'گفتهای': 7070, 'بجنباند': 7071, 'آزمودیم': 7072, 'بتابم': 7073, 'کمست': 7074, 'بدت': 7075, 'بساییم': 7076, 'هژبری': 7077, 'ارچه': 7078, 'خردست': 7079, 'آبخور': 7080, 'ببری': 7081, 'بیازرده': 7082, 'مماناد': 7083, 'حسرت': 7084, 'دیرتر': 7085, 'بصندوق': 7086, 'بدانا': 7087, 'بدروی': 7088, 'یوزان': 7089, 'بستدند': 7090, 'نخچیرجوی': 7091, 'برگزیدم': 7092, 'شمارد': 7093, 'نیمد': 7094, 'سودابهٔ': 7095, 'یخ': 7096, 'فشانند': 7097, 'پرخواسته': 7098, 'برگماشت': 7099, 'مراد': 7100, 'پرسیدی': 7101, 'خراشیده': 7102, 'ببویید': 7103, 'گرانی': 7104, 'دارویی': 7105, 'طشت': 7106, 'گریزند': 7107, 'تراگر': 7108, 'سرسری': 7109, 'افگندم': 7110, 'سبوی': 7111, 'بدانگاه': 7112, 'جامهای': 7113, 'چنانی': 7114, 'شرمی': 7115, 'بخوردی': 7116, 'کوچ': 7117, 'طالقان': 7118, 'دروازهٔ': 7119, 'بگذرانم': 7120, 'بخشندهٔ': 7121, 'روشنت': 7122, 'بدنژادست': 7123, 'برگشادی': 7124, 'ناخوبی': 7125, 'پیراسته': 7126, 'وافسر': 7127, 'بگرفتش': 7128, 'آشوبد': 7129, 'بارکن': 7130, 'خران': 7131, 'نجستیم': 7132, 'سوگندها': 7133, 'افرسیاب': 7134, 'بنفرید': 7135, 'بغنوم': 7136, 'بنواختند': 7137, 'شاهزاد': 7138, 'اینش': 7139, 'آویزد': 7140, 'برندت': 7141, 'رادمردان': 7142, 'شناسم': 7143, 'نیکویست': 7144, 'فرمای': 7145, 'پایها': 7146, 'روند': 7147, 'شیدهٔ': 7148, 'بیانداخت': 7149, 'سپارید': 7150, 'عنانها': 7151, 'قربان': 7152, 'گرانتر': 7153, 'بهارش': 7154, 'دمساز': 7155, 'نسپرم': 7156, 'نیکیش': 7157, 'آسمانی': 7158, 'بپروردیم': 7159, 'دایهٔ': 7160, 'نافهٔ': 7161, 'زندانها': 7162, 'کاباد': 7163, 'بختیار': 7164, 'خوانندگان': 7165, 'برشست': 7166, 'پیغمبرش': 7167, 'بکوبند': 7168, 'کزانجا': 7169, 'گنبدی': 7170, 'بردارم': 7171, 'برگذارد': 7172, 'چنوی': 7173, 'بادسار': 7174, 'نگردانم': 7175, 'داردت': 7176, 'آمدستت': 7177, 'دورم': 7178, 'چنبر': 7179, 'ناچران': 7180, 'تیزدم': 7181, 'افروختی': 7182, 'غمها': 7183, 'دریافتی': 7184, 'چادرش': 7185, 'برنوشتند': 7186, 'وارش': 7187, 'فگندش': 7188, 'رانیز': 7189, 'بادرد': 7190, 'بتابند': 7191, 'زینسان': 7192, 'گردست': 7193, 'برفراز': 7194, 'برگزند': 7195, 'پرستشگه': 7196, 'تیزست': 7197, 'سرایندهٔ': 7198, 'گیسوش': 7199, 'حرامست': 7200, 'برگشادم': 7201, 'بخوابند': 7202, 'برآویخته': 7203, 'بسوزی': 7204, 'بینداختش': 7205, 'کایرانیان': 7206, 'خریدارم': 7207, 'شویی': 7208, 'انداختش': 7209, 'برگذاشت': 7210, 'مانا': 7211, 'پشتم': 7212, 'بتش': 7213, 'تاپیش': 7214, 'بدسگالانش': 7215, 'سلیحی': 7216, 'برشان': 7217, 'پیچش': 7218, 'برشو': 7219, 'نپیچیم': 7220, 'خنجرت': 7221, 'نبارد': 7222, 'بخوردم': 7223, 'باژگاه': 7224, 'گیوست': 7225, 'گفتارت': 7226, 'سنانم': 7227, 'بدوزد': 7228, 'برنشانم': 7229, 'پیرامن': 7230, 'رعدست': 7231, 'وقت': 7232, 'برجهد': 7233, 'براساید': 7234, 'سازنده': 7235, 'بزدود': 7236, 'دمی': 7237, 'نگروی': 7238, 'گزاران': 7239, 'شادباش': 7240, 'بردارشان': 7241, 'آزاددل': 7242, 'پرستارفش': 7243, 'بنزدیکی': 7244, 'باارز': 7245, 'وزد': 7246, 'همنبرد': 7247, 'بمنزل': 7248, 'رانیم': 7249, 'ناکار': 7250, 'بمادر': 7251, 'سپهرست': 7252, 'خوارخوار': 7253, 'فرودست': 7254, 'بتازند': 7255, 'پهلوست': 7256, 'نوذرنژاد': 7257, 'بنادانی': 7258, 'زهار': 7259, 'نشیبش': 7260, 'بمیغ': 7261, 'برنگردد': 7262, 'سوس': 7263, 'بسیچیدهٔ': 7264, 'بزخم': 7265, 'بدوش': 7266, 'گذرشان': 7267, 'بفرخ': 7268, 'بترکی': 7269, 'بچنگش': 7270, 'دیدبان': 7271, 'مل': 7272, 'بفرمودمی': 7273, 'بپیچیم': 7274, 'عزیز': 7275, 'چنویی': 7276, 'پسم': 7277, 'صواب': 7278, 'روزست': 7279, 'پرکشته': 7280, 'پروردن': 7281, 'تات': 7282, 'برفرازید': 7283, 'بژوپین': 7284, 'عقابی': 7285, 'شاهانش': 7286, 'زبانشان': 7287, 'بخسپی': 7288, 'آفریدست': 7289, 'برارد': 7290, 'ببیچارگی': 7291, 'گری': 7292, 'طبر': 7293, 'مبینید': 7294, 'جفتی': 7295, 'بیاموخته': 7296, 'بیغارهٔ': 7297, 'بسربر': 7298, 'نپرداختی': 7299, 'مولش': 7300, 'بتاریک': 7301, 'گردشان': 7302, 'ننشسته': 7303, 'زمهر': 7304, 'شگرف': 7305, 'کانی': 7306, 'ناآمده': 7307, 'پیلبان': 7308, 'اندری': 7309, 'نیند': 7310, 'بندگران': 7311, 'پیلبانان': 7312, 'سورای': 7313, 'ننگریم': 7314, 'قدر': 7315, 'دلند': 7316, 'بگسلند': 7317, 'داندش': 7318, 'بخرگاه': 7319, 'وشاه': 7320, 'شارهٔ': 7321, 'آوردگاهی': 7322, 'جایت': 7323, 'نگسست': 7324, 'ایام': 7325, 'بپیشش': 7326, 'بیخت': 7327, 'رویند': 7328, 'ماتمست': 7329, 'براندیشی': 7330, 'ناکشته': 7331, 'کییم': 7332, 'چییم': 7333, 'بچرم': 7334, 'آفریدش': 7335, 'مشنو': 7336, 'ختلان': 7337, 'چرنگیدن': 7338, 'بمغز': 7339, 'بزهر': 7340, 'تابداده': 7341, 'خوابست': 7342, 'زورمندی': 7343, 'بمهتر': 7344, 'تودهٔ': 7345, 'ببستیم': 7346, 'بجنبان': 7347, 'پیراهنست': 7348, 'زیانست': 7349, 'بپولاد': 7350, 'ناهار': 7351, 'تیزم': 7352, 'ماندگی': 7353, 'خوابش': 7354, 'فگن': 7355, 'بینداز': 7356, 'آشناه': 7357, 'برستی': 7358, 'بنشید': 7359, 'هرانکو': 7360, 'نبخشود': 7361, 'مگرمان': 7362, 'سبکسر': 7363, 'عنبرش': 7364, 'بجوشیدش': 7365, 'بگنجور': 7366, 'یارهٔ': 7367, 'فگندم': 7368, 'گزیدست': 7369, 'ایزدم': 7370, 'خنجرا': 7371, 'گوژپشت': 7372, 'نرمی': 7373, 'منا': 7374, 'بگذر': 7375, 'رسیدش': 7376, 'دیوانها': 7377, 'بزنجیر': 7378, 'بغل': 7379, 'بمسمار': 7380, 'زوارش': 7381, 'فروبرد': 7382, 'بگریستی': 7383, 'زیستی': 7384, 'سوش': 7385, 'بخوناب': 7386, 'بماندم': 7387, 'مبتلا': 7388, 'برداشتیم': 7389, 'گلگون': 7390, 'لرزلرزان': 7391, 'لشکرا': 7392, 'گوژ': 7393, 'زندست': 7394, 'جنبد': 7395, 'جویمش': 7396, 'بسازی': 7397, 'مردانگان': 7398, 'سفته': 7399, 'بگرم': 7400, 'بکندم': 7401, 'بتاریکی': 7402, 'نایدش': 7403, 'خوانده': 7404, 'زپای': 7405, 'ناماوران': 7406, 'درویشی': 7407, 'ببازار': 7408, 'نالید': 7409, 'تکاپوی': 7410, 'اندهان': 7411, 'نیکیت': 7412, 'آشکارای': 7413, 'گیتیت': 7414, 'ناموران': 7415, 'نخیزد': 7416, 'مهار': 7417, 'فرازآمد': 7418, 'لشکرپناه': 7419, 'پرستد': 7420, 'آبگیری': 7421, 'بروید': 7422, 'دریاست': 7423, 'کاهد': 7424, 'گسترم': 7425, 'باشکش': 7426, 'برنوشت': 7427, 'چز': 7428, 'بچاج': 7429, 'بسیری': 7430, 'نیستش': 7431, 'بسمان': 7432, 'بپنجم': 7433, 'بلاون': 7434, 'شناسای': 7435, 'ببریم': 7436, 'آوریدست': 7437, 'ترجمانش': 7438, 'وزانپس': 7439, 'ستودی': 7440, 'برنشستی': 7441, 'بپیوند': 7442, 'جهانداورست': 7443, 'زآهن': 7444, 'بهفتاد': 7445, 'بماندت': 7446, 'بمردانگی': 7447, 'شر': 7448, 'گزینم': 7449, 'گماشت': 7450, 'جهاندیدهٔ': 7451, 'پرفریب': 7452, 'نبستی': 7453, 'نگردند': 7454, 'تنک': 7455, 'اسبه': 7456, 'بلهاک': 7457, 'بگردنش': 7458, 'زکوه': 7459, 'بازگردند': 7460, 'گزینند': 7461, 'گاشتند': 7462, 'فرسوده': 7463, 'گوسفندش': 7464, 'روزگارانش': 7465, 'بردوخت': 7466, 'مرگست': 7467, 'سرآورده': 7468, 'بانگشت': 7469, 'زینشان': 7470, 'زداد': 7471, 'زآنجا': 7472, 'غلتید': 7473, 'نمردم': 7474, 'رسیدن': 7475, 'ندادم': 7476, 'افزایش': 7477, 'جود': 7478, 'مسند': 7479, 'بپیوستم': 7480, 'آثار': 7481, 'تاریخ': 7482, 'معدن': 7483, 'جادویها': 7484, 'خوزان': 7485, 'فرازان': 7486, 'بیکند': 7487, 'چارم': 7488, 'گرازیدن': 7489, 'بدتنی': 7490, 'کردنت': 7491, 'بوردگه': 7492, 'بداندیشی': 7493, 'ندادست': 7494, 'کلاهت': 7495, 'ایلا': 7496, 'وکوس': 7497, 'کباد': 7498, 'بدژها': 7499, 'هه': 7500, 'مالید': 7501, 'پیغامش': 7502, 'روزگارم': 7503, 'اینجام': 7504, 'وبیش': 7505, 'زشاهان': 7506, 'زننده': 7507, 'بلای': 7508, 'فرستادیم': 7509, 'فرستادیش': 7510, 'رخنهٔ': 7511, 'رزمشان': 7512, 'بینمت': 7513, 'انگیزد': 7514, 'نیکیست': 7515, 'صدبار': 7516, 'اخترم': 7517, 'بارزانیان': 7518, 'کفی': 7519, 'چشیدند': 7520, 'برافراختشان': 7521, 'سودمندیست': 7522, 'مذ': 7523, 'بتشکده': 7524, 'وکنداوران': 7525, 'پالیزها': 7526, 'پرستشگهی': 7527, 'پشمینه': 7528, 'سرتاج': 7529, 'زفرمان': 7530, 'چیچست': 7531, 'پیشینگان': 7532, 'وتن': 7533, 'بترسیم': 7534, 'بستیم': 7535, 'کوشنده': 7536, 'زنانی': 7537, 'رفتیم': 7538, 'درکشد': 7539, 'کسها': 7540, 'بسنج': 7541, 'برکنید': 7542, 'کوشم': 7543, 'هنرجوی': 7544, 'نستاو': 7545, 'غریبی': 7546, 'بوراب': 7547, 'نشستنش': 7548, 'دکان': 7549, 'سرفرازم': 7550, 'فاسقون': 7551, 'چرمش': 7552, 'بطریق': 7553, 'راستیست': 7554, 'زردروی': 7555, 'هزینه': 7556, 'سوارش': 7557, 'بگشتاسپ': 7558, 'قالوس': 7559, 'نپرسید': 7560, 'برزگان': 7561, 'فروزش': 7562, 'مکه': 7563, 'پیغمبرم': 7564, 'سگالان': 7565, 'آذران': 7566, 'یبغوی': 7567, 'برگزیده': 7568, 'سیحون': 7569, 'مرزداران': 7570, 'شیدسپ': 7571, 'سرنیزه': 7572, 'لرزه': 7573, 'ترند': 7574, 'نپوشم': 7575, 'هزارانش': 7576, 'برنشستند': 7577, 'شولک': 7578, 'گردکش': 7579, 'پذیرفتن': 7580, 'سوارا': 7581, 'نترسید': 7582, 'بگریختن': 7583, 'بازخواه': 7584, 'کامدش': 7585, 'زاریش': 7586, 'عجم': 7587, 'رهان': 7588, 'دانندگی': 7589, 'بیاموزدش': 7590, 'چنانش': 7591, 'زندانش': 7592, 'چینش': 7593, 'ناتندرست': 7594, 'بازکن': 7595, 'بکشتندشان': 7596, 'آذرش': 7597, 'بنهفته': 7598, 'مابر': 7599, 'زورآزمای': 7600, 'منزلت': 7601, 'فامش': 7602, 'خرامیدن': 7603, 'گرددش': 7604, 'کارجوی': 7605, 'گنجتان': 7606, 'گذرگاه': 7607, 'صندوقها': 7608, 'بارها': 7609, 'پنداشتم': 7610, 'کآواز': 7611, 'هایی': 7612, 'زیجهای': 7613, 'نیکش': 7614, 'نبر': 7615, 'شراعی': 7616, 'بهمنم': 7617, 'نشینیم': 7618, 'برافرازم': 7619, 'بیاویز': 7620, 'نارواست': 7621, 'دخش': 7622, 'پرستند': 7623, 'ترنجی': 7624, 'ناپارسایی': 7625, 'شنیدستی': 7626, 'کامران': 7627, 'نکوهیدن': 7628, 'یگانه': 7629, 'سوزد': 7630, 'پوشم': 7631, 'بدرگ': 7632, 'یابمش': 7633, 'اندامها': 7634, 'نخواهید': 7635, 'برشدی': 7636, 'آفریدی': 7637, 'نکوبد': 7638, 'نیندیشی': 7639, 'برپرید': 7640, 'بیفزایدت': 7641, 'بپیچند': 7642, 'برگشای': 7643, 'تارکش': 7644, 'گسستن': 7645, 'بازخواست': 7646, 'خفتست': 7647, 'توختم': 7648, 'تش': 7649, 'درخواستی': 7650, 'یاورند': 7651, 'نبخشی': 7652, 'نبرداشت': 7653, 'پیرمرد': 7654, 'پالایش': 7655, 'مپسند': 7656, 'آبستن': 7657, 'زادنش': 7658, 'گوگرد': 7659, 'داشتندش': 7660, 'صلیبی': 7661, 'هما': 7662, 'قیصرش': 7663, 'ارسطالیس': 7664, 'اسکندرست': 7665, 'بگریختم': 7666, 'پرگهر': 7667, 'پرغم': 7668, 'روزمان': 7669, 'دوریش': 7670, 'جهیز': 7671, 'خمی': 7672, 'شادم': 7673, 'رازداران': 7674, 'صفت': 7675, 'مس': 7676, 'قیطون': 7677, 'اندلس': 7678, 'فزایم': 7679, 'درشگفتی': 7680, 'بارست': 7681, 'شماس': 7682, 'دیوند': 7683, 'بنشاندیم': 7684, 'برخواندیم': 7685, 'زرند': 7686, 'تاجها': 7687, 'فردوس': 7688, 'خضر': 7689, 'زنا': 7690, 'تنین': 7691, 'سد': 7692, 'زندگانیت': 7693, 'مرگت': 7694, 'مکاو': 7695, 'آمدندش': 7696, 'ملوک': 7697, 'طوایف': 7698, 'فراخست': 7699, 'نبرداشتی': 7700, 'درمهای': 7701, 'دیلم': 7702, 'پرشکن': 7703, 'خورهٔ': 7704, 'گردید': 7705, 'کجاران': 7706, 'برنای': 7707, 'هنگامه': 7708, 'بازده': 7709, 'درشگفت': 7710, 'نگذاشتم': 7711, 'نپراگند': 7712, 'بخشندگی': 7713, 'پارسایی': 7714, 'فروشی': 7715, 'نگسلد': 7716, 'ستمدیده': 7717, 'رایست': 7718, 'بورز': 7719, 'زشتست': 7720, 'بگردند': 7721, 'نکوشد': 7722, 'مگردید': 7723, 'التوینه': 7724, 'پلی': 7725, 'بسیارگوی': 7726, 'آزارتر': 7727, 'بدرهٔ': 7728, 'برتافته': 7729, 'غسانیان': 7730, 'ماندگان': 7731, 'گریزش': 7732, 'اندرگرفت': 7733, 'آبادبوم': 7734, 'سورستان': 7735, 'میزبانی': 7736, 'میهمان': 7737, 'اوراست': 7738, 'یانس': 7739, 'بگذاشتن': 7740, 'زیچ': 7741, 'رکابش': 7742, 'شترمرغ': 7743, 'شادمانم': 7744, 'پسندیدم': 7745, 'بخواهند': 7746, 'دوختی': 7747, 'گزینید': 7748, 'داناتر': 7749, 'چندشان': 7750, 'بدزدد': 7751, 'مهربنداد': 7752, 'کلاغ': 7753, 'چامهٔ': 7754, 'یتیم': 7755, 'بازداران': 7756, 'مو': 7757, 'ستامی': 7758, 'حجرهٔ': 7759, 'خردک': 7760, 'بالش': 7761, 'پنیر': 7762, 'بیازد': 7763, 'بادام': 7764, 'ارزان': 7765, 'ابله': 7766, 'دانندهٔ': 7767, 'شیربا': 7768, 'آذرآبادگان': 7769, 'کشمیهن': 7770, 'کارکردن': 7771, 'نسیم': 7772, 'ناتندرستی': 7773, 'پسندی': 7774, 'برمبند': 7775, 'خاندان': 7776, 'بشنیدی': 7777, 'تواناترست': 7778, 'پاکرای': 7779, 'بزرمهر': 7780, 'دارست': 7781, 'بباران': 7782, 'داورست': 7783, 'بخرداد': 7784, 'برگواست': 7785, 'هنرمندی': 7786, 'مخسبید': 7787, 'زدیم': 7788, 'بلوج': 7789, 'کشتمندی': 7790, 'ناپسندیده': 7791, 'دزی': 7792, 'فرفوریوس': 7793, 'بقالینیوس': 7794, 'تواز': 7795, 'زکردار': 7796, 'نیکوییها': 7797, 'کیومرثی': 7798, 'طهمورثی': 7799, 'چوآتش': 7800, 'تاکند': 7801, 'بدانندگان': 7802, 'بداننده': 7803, 'وکاستی': 7804, 'وخوبی': 7805, 'درسخن': 7806, 'پرهیزکار': 7807, 'وفرهنگ': 7808, 'دوهفته': 7809, 'وروشن': 7810, 'باکسی': 7811, 'مهرشاه': 7812, 'برسخن': 7813, 'وخواب': 7814, 'دوجوان': 7815, 'چوشاه': 7816, 'برآرید': 7817, 'دوستداری': 7818, 'ونژاد': 7819, 'نبرداشتند': 7820, 'آهرمنند': 7821, 'وخورد': 7822, 'هرکشوری': 7823, 'ومی': 7824, 'وشمشیر': 7825, 'وخود': 7826, 'ازنامداران': 7827, 'چوایشان': 7828, 'وخسته': 7829, 'برتارک': 7830, 'وطوق': 7831, 'زمشک': 7832, 'تامن': 7833, 'وخواسته': 7834, 'راخواندند': 7835, 'برخرد': 7836, 'دگرآنک': 7837, 'وچند': 7838, 'بازیش': 7839, 'دوشاه': 7840, 'ازپی': 7841, 'ازشما': 7842, 'راسپرد': 7843, 'برآنی': 7844, 'برتاج': 7845, 'بپرس': 7846, 'برپشت': 7847, 'دومرد': 7848, 'برنامور': 7849, 'ازبخت': 7850, 'سرسوی': 7851, 'وگوهر': 7852, 'وجوان': 7853, 'منبر': 7854, 'نشستت': 7855, 'واندیشه': 7856, 'ناسزایان': 7857, 'ی': 7858, 'چوپاسخ': 7859, 'ازکار': 7860, 'بهرمزد': 7861, 'بفرمانش': 7862, 'نارسان': 7863, 'ایزدگشسب': 7864, 'چوموبد': 7865, 'چوهرمز': 7866, 'یادکن': 7867, 'پورگشسب': 7868, 'چوبیند': 7869, 'شکستند': 7870, 'ورگ': 7871, 'برنیزه': 7872, 'رانیست': 7873, 'رنجت': 7874, 'وپیل': 7875, 'پرازخون': 7876, 'کینها': 7877, 'چونامه': 7878, 'پیداگشسب': 7879, 'زپیش': 7880, 'درباغ': 7881, 'راندید': 7882, 'خسروکه': 7883, 'برتنت': 7884, 'ازدرد': 7885, 'بینه': 7886, 'برکه': 7887, 'چوبر': 7888, 'وباک': 7889, 'شمارا': 7890, 'دودیده': 7891, 'ترهٔ': 7892, 'ببام': 7893, 'شهران': 7894, 'وتیغ': 7895, 'کنکس': 7896, 'رهبان': 7897, 'وامید': 7898, 'چوخراد': 7899, 'عیسی': 7900, 'فرشته': 7901, 'غربیل': 7902, 'کشک': 7903, 'پرآمد': 7904, 'پوستین': 7905, 'رهنما': 7906, 'ربط': 7907, 'باربد': 7908, 'بگذاشتیم': 7909, 'پوران': 7910, 'شعبه': 7911, 'ببرسام': 7912, 'برسام': 7913, 'بینندگان': 7914, 'وگوش': 7915, 'ستایم': 7916, 'برشده': 7917, 'سردی': 7918, 'نپوید': 7919, 'ایرا': 7920, 'پذیرندهٔ': 7921, 'روشنا': 7922, 'شبانگاه': 7923, 'پیغمبرت': 7924, 'رسولان': 7925, 'بوبکر': 7926, 'پیغمبرست': 7927, 'ماء': 7928, 'معین': 7929, 'زادم': 7930, 'حیدرم': 7931, 'مایلست': 7932, 'علیست': 7933, 'نیکنامان': 7934, 'فکن': 7935, 'رمز': 7936, 'بیفزای': 7937, 'درنگم': 7938, 'شهرم': 7939, 'بخفتم': 7940, 'برافشاندم': 7941, 'عصر': 7942, 'خلق': 7943, 'دوتا': 7944, 'آمدندیش': 7945, 'پرآوای': 7946, 'خودکی': 7947, 'دربه': 7948, 'بادرنگ': 7949, 'کندآوری': 7950, 'برشکستند': 7951, 'تیزتاز': 7952, 'جهانسوز': 7953, 'فروغی': 7954, 'قبله': 7955, 'پرستید': 7956, 'اره': 7957, 'تیشه': 7958, 'رودها': 7959, 'فرخندگی': 7960, 'سرشان': 7961, 'قاقم': 7962, 'سنجاب': 7963, 'رمنده': 7964, 'برساختی': 7965, 'بیاموزی': 7966, 'نبشتن': 7967, 'سغدی': 7968, 'پوشند': 7969, 'ابریشم': 7970, 'بیاموختشان': 7971, 'دوختن': 7972, 'آمیختن': 7973, 'برافراشتی': 7974, 'بدشان': 7975, 'کامتان': 7976, 'سرفگنده': 7977, 'دوشیدنی': 7978, 'چاهی': 7979, 'گویدش': 7980, 'چهرتست': 7981, 'بمیرند': 7982, 'برگفتند': 7983, 'کانجا': 7984, 'شاهجوی': 7985, 'ارش': 7986, 'گشادنت': 7987, 'گشایی': 7988, 'بردندشان': 7989, 'سپردندشان': 7990, 'پیشبین': 7991, 'کردیش': 7992, 'توانیم': 7993, 'پدروارش': 7994, 'نغزش': 7995, 'بپرور': 7996, 'زنهاردار': 7997, 'لرزنده': 7998, 'بدروزگار': 7999, 'داستانم': 8000, 'بابت': 8001, 'ببردم': 8002, 'کردنی': 8003, 'کاوهٔ': 8004, 'پیکری': 8005, 'برآویختی': 8006, 'کیانوش': 8007, 'پرمایهٔ': 8008, 'اروندرود': 8009, 'رودبان': 8010, 'تیزتک': 8011, 'سازیده': 8012, 'بنمودشان': 8013, 'بکوبم': 8014, 'زتاج': 8015, 'چومشک': 8016, 'دلخواه': 8017, 'نیامدت': 8018, 'نیرنگت': 8019, 'گاهت': 8020, 'مانید': 8021, 'گیردت': 8022, 'مسمارهای': 8023, 'مهرماه': 8024, 'مهانی': 8025, 'عذار': 8026, 'زویت': 8027, 'چنانک': 8028, 'هوشیاران': 8029, 'فرزندش': 8030, 'پیامم': 8031, 'زاب': 8032, 'تاره': 8033, 'گرایم': 8034, 'بجنبی': 8035, 'سربدره': 8036, 'آرزوهای': 8037, 'سردید': 8038, 'زنهارشان': 8039, 'سبکشان': 8040, 'ناسفته': 8041, 'خورشیدچهر': 8042, 'آمدنشان': 8043, 'زلفشان': 8044, 'شکنج': 8045, 'آئین': 8046, 'پرباد': 8047, 'بفریفت': 8048, 'آمیخته': 8049, 'افراختی': 8050, 'کمتریم': 8051, 'فرستنده': 8052, 'کردید': 8053, 'خردتان': 8054, 'خماند': 8055, 'انبازتان': 8056, 'آشفتن': 8057, 'مهرآوری': 8058, 'سپنچ': 8059, 'چشیدن': 8060, 'ورشان': 8061, 'جانی': 8062, 'کایند': 8063, 'دیدارتان': 8064, 'بودنش': 8065, 'نزدیکشان': 8066, 'تاریکشان': 8067, 'لکشر': 8068, 'بخششی': 8069, 'تیرگیست': 8070, 'خشتست': 8071, 'سوزی': 8072, 'شاخت': 8073, 'بپیمایدم': 8074, 'چشمی': 8075, 'تاختندش': 8076, 'کاوگان': 8077, 'سپهکش': 8078, 'آوگان': 8079, 'جفاپیشگان': 8080, 'گردونکش': 8081, 'برآراسته': 8082, 'باگوشوار': 8083, 'خورشیدگون': 8084, 'ساختید': 8085, 'پیلانش': 8086, 'بانیا': 8087, 'تفسیده': 8088, 'نبدشان': 8089, 'تلیمان': 8090, 'عجب': 8091, 'باکاویانی': 8092, 'بپیماید': 8093, 'منهید': 8094, 'بتفت': 8095, 'بخفتانش': 8096, 'بینداختم': 8097, 'دژش': 8098, 'نگسلاند': 8099, 'رکاب': 8100, 'چوقار': 8101, 'رهگذار': 8102, 'بساری': 8103, 'گریه': 8104, 'تختست': 8105, 'نویم': 8106, 'یازیم': 8107, 'برآیم': 8108, 'مرسام': 8109, 'سربرآورد': 8110, 'جوشنده': 8111, 'مزید': 8112, 'آهوست': 8113, 'نشیمی': 8114, 'بردارمت': 8115, 'پرت': 8116, 'پروازش': 8117, 'سپیدش': 8118, 'ازنیک': 8119, 'خسروپرستان': 8120, 'گستردنیهای': 8121, 'همام': 8122, 'نشناختم': 8123, 'آبادتر': 8124, 'موبدانرا': 8125, 'وهوش': 8126, 'رعنا': 8127, 'عناب': 8128, 'درافشان': 8129, 'نشانندهٔ': 8130, 'فشانندهٔ': 8131, 'گلنارگون': 8132, 'اندازد': 8133, 'مهربانم': 8134, 'وسر': 8135, 'جادوش': 8136, 'ریدک': 8137, 'دلنواز': 8138, 'چنیم': 8139, 'اگرتان': 8140, 'بودتان': 8141, 'ساعدش': 8142, 'بایدی': 8143, 'بازگشتست': 8144, 'آنچت': 8145, 'جامشان': 8146, 'بنفشه': 8147, 'تام': 8148, 'کاشکارا': 8149, 'مهرشان': 8150, 'زالست': 8151, 'رمیدست': 8152, 'گشایش': 8153, 'ناورم': 8154, 'گمانت': 8155, 'چمانندهٔ': 8156, 'چماننده': 8157, 'بدانچت': 8158, 'بازجستند': 8159, 'زیرپای': 8160, 'بمالد': 8161, 'بیارمش': 8162, 'بجستش': 8163, 'آرندهٔ': 8164, 'پژمریده': 8165, 'پژمرید': 8166, 'سپهبدپرست': 8167, 'بکشتیم': 8168, 'گردگاهش': 8169, 'ببایستش': 8170, 'نکشتم': 8171, 'دلیرش': 8172, 'بازداری': 8173, 'قندهار': 8174, 'خوابنید': 8175, 'زگفت': 8176, 'خشتهای': 8177, 'مغزشان': 8178, 'خروشیدم': 8179, 'ستوهی': 8180, 'شرمش': 8181, 'خدایی': 8182, 'نیازارمت': 8183, 'کشف': 8184, 'تفش': 8185, 'بیفگندم': 8186, 'بانگش': 8187, 'جگرش': 8188, 'سزاتر': 8189, 'چخید': 8190, 'پزد': 8191, 'توم': 8192, 'همداستانم': 8193, 'آفریند': 8194, 'زکشت': 8195, 'شگفته': 8196, 'آزرمجوی': 8197, 'فزودی': 8198, 'نندیشم': 8199, 'همرزم': 8200, 'بپرسند': 8201, 'شتابنده': 8202, 'بگذرانند': 8203, 'برکشند': 8204, 'زلزله': 8205, 'خله': 8206, 'نپاید': 8207, 'برشگفت': 8208, 'جشنگاهی': 8209, 'نیزت': 8210, 'بویهٔ': 8211, 'شمردم': 8212, 'نقشها': 8213, 'نثارش': 8214, 'رند': 8215, 'بوسید': 8216, 'رامشگرست': 8217, 'زهش': 8218, 'گیاهی': 8219, 'بکافید': 8220, 'افزودنی': 8221, 'تهما': 8222, 'فسونست': 8223, 'بازم': 8224, 'موسی': 8225, 'درشتست': 8226, 'هوشش': 8227, 'بخواندش': 8228, 'جوشیده': 8229, 'جستنست': 8230, 'شستنست': 8231, 'سروری': 8232, 'گشادنش': 8233, 'نشوریم': 8234, 'شیروار': 8235, 'ماندن': 8236, 'نستد': 8237, 'ازیدر': 8238, 'سپاهان': 8239, 'شاهانه': 8240, 'کروخان': 8241, 'ماگر': 8242, 'خریدم': 8243, 'بازآمدم': 8244, 'بازخوردند': 8245, 'نشیبست': 8246, 'تک': 8247, 'اندرگشاد': 8248, 'شخودند': 8249, 'پرگرد': 8250, 'شها': 8251, 'مها': 8252, 'چنگهای': 8253, 'نیامیخت': 8254, 'سنگدل': 8255, 'بامین': 8256, 'گرزبان': 8257, 'یکروز': 8258, 'همزبان': 8259, 'سراییم': 8260, 'عروسی': 8261, 'فراخی': 8262, 'جشنگه': 8263, 'گریزی': 8264, 'چنبری': 8265, 'جنگیش': 8266, 'پورا': 8267, 'پروریدن': 8268, 'گرآیند': 8269, 'کشیدیش': 8270, 'نزار': 8271, 'بورابرش': 8272, 'کرهٔ': 8273, 'رم': 8274, 'زنخ': 8275, 'بشکوفهٔ': 8276, 'مرغزاری': 8277, 'باورنگ': 8278, 'بیگه': 8279, 'نوجوان': 8280, 'بنهاده': 8281, 'مجلسی': 8282, 'دهیدم': 8283, 'بیفروزی': 8284, 'بگشایم': 8285, 'پیغمبران': 8286, 'برکرد': 8287, 'دلیریش': 8288, 'تندر': 8289, 'پهلوانا': 8290, 'برافرازد': 8291, 'بردنش': 8292, 'مغان': 8293, 'دریاش': 8294, 'آگهیست': 8295, 'بفردا': 8296, 'نمودش': 8297, 'ماورالنهر': 8298, 'پادشاهیست': 8299, 'ماندمان': 8300, 'بفت': 8301, 'صدسال': 8302, 'میاغاز': 8303, 'ریک': 8304, 'بازداند': 8305, 'سازانش': 8306, 'سنبلست': 8307, 'رنگست': 8308, 'شایدی': 8309, 'مشوی': 8310, 'زالش': 8311, 'آسانش': 8312, 'نفرسود': 8313, 'نپیموده': 8314, 'افسونگرست': 8315, 'سرنامدار': 8316, 'دلسوزگی': 8317, 'بتوان': 8318, 'سپوخت': 8319, 'رضوان': 8320, 'بغارت': 8321, 'روشناییش': 8322, 'چمیم': 8323, 'چریم': 8324, 'پروریم': 8325, 'وبال': 8326, 'بگزیدم': 8327, 'دیگ': 8328, 'گرما': 8329, 'پناهت': 8330, 'گیابر': 8331, 'استخوانش': 8332, 'افشاند': 8333, 'آنزمان': 8334, 'جوشید': 8335, 'رستمم': 8336, 'تاجبخش': 8337, 'اهریمنست': 8338, 'دشتوان': 8339, 'بیفشرد': 8340, 'بفسرد': 8341, 'چاهساری': 8342, 'نپرید': 8343, 'بیدست': 8344, 'فرسنگهای': 8345, 'مغفری': 8346, 'آنسو': 8347, 'راهجوی': 8348, 'هولناک': 8349, 'دیدمت': 8350, 'نشانهای': 8351, 'بگشایدت': 8352, 'بیازاردش': 8353, 'هزارم': 8354, 'بپیموده': 8355, 'خبیره': 8356, 'مردیش': 8357, 'پرسیدنی': 8358, 'زانپس': 8359, 'پذیریم': 8360, 'سپرها': 8361, 'دیوتان': 8362, 'رویتان': 8363, 'بیفگنده': 8364, 'کنندش': 8365, 'اسپهبدی': 8366, 'مهمانی': 8367, 'لشکرستان': 8368, 'قند': 8369, 'چرپ': 8370, 'باور': 8371, 'شاهه': 8372, 'کمینگه': 8373, 'خونابه': 8374, 'وجوش': 8375, 'بخوردست': 8376, 'ایستادن': 8377, 'صدسوار': 8378, 'رهوار': 8379, 'برگستوانور': 8380, 'کایران': 8381, 'ترنگ': 8382, 'سرسرکشان': 8383, 'پرورانیدم': 8384, 'نوافگند': 8385, 'آبگینه': 8386, 'سختیست': 8387, 'بیره': 8388, 'بگرداندش': 8389, 'گمانش': 8390, 'درزها': 8391, 'نیزهای': 8392, 'حد': 8393, 'درنشاند': 8394, 'نکردش': 8395, 'زیباتر': 8396, 'صنم': 8397, 'پرداختی': 8398, 'دونده': 8399, 'سرخس': 8400, 'بیابانش': 8401, 'کاندازه': 8402, 'ترسی': 8403, 'بابلی': 8404, 'رزمسازان': 8405, 'بدزدید': 8406, 'سرایم': 8407, 'فنا': 8408, 'دژاگاه': 8409, 'ارجمندان': 8410, 'دلشاد': 8411, 'تهمینه': 8412, 'آبشخورت': 8413, 'تراام': 8414, 'اسپت': 8415, 'کریمان': 8416, 'همشیرگان': 8417, 'سامی': 8418, 'گردنگشان': 8419, 'یادش': 8420, 'برنه': 8421, 'ننگش': 8422, 'سمندش': 8423, 'درباره': 8424, 'افسوس': 8425, 'برنیاید': 8426, 'برزنیم': 8427, 'بدترست': 8428, 'شمرده': 8429, 'وزانسو': 8430, 'آزمودش': 8431, 'سمندم': 8432, 'غلافش': 8433, 'وراگیو': 8434, 'ژگان': 8435, 'بزمست': 8436, 'بخندند': 8437, 'آشفتنست': 8438, 'رستمت': 8439, 'گفتنست': 8440, 'بکندی': 8441, 'کانا': 8442, 'ممیر': 8443, 'نیارامد': 8444, 'روانست': 8445, 'کاستن': 8446, 'برزش': 8447, 'بمالم': 8448, 'مبرتاب': 8449, 'رسیدست': 8450, 'کوژپشت': 8451, 'کشتست': 8452, 'ایدونکه': 8453, 'شکاریم': 8454, 'تختم': 8455, 'خنگی': 8456, 'چهرت': 8457, 'گرسیوزست': 8458, 'مرکزست': 8459, 'شایدت': 8460, 'آزری': 8461, 'دارندگان': 8462, 'برگران': 8463, 'بیراستند': 8464, 'برآفرین': 8465, 'نیکنام': 8466, 'نمازش': 8467, 'خواهرست': 8468, 'بتخانه': 8469, 'بیراست': 8470, 'رازت': 8471, 'دخترانند': 8472, 'برگشایی': 8473, 'دارمش': 8474, 'نزدت': 8475, 'بانوانی': 8476, 'بیارایمت': 8477, 'وفایی': 8478, 'فغانش': 8479, 'پرهیزی': 8480, 'بازجستن': 8481, 'هشیواری': 8482, 'اهریمنند': 8483, 'برانگونه': 8484, 'دیگرند': 8485, 'مادرند': 8486, 'باکس': 8487, 'کاتش': 8488, 'تازیی': 8489, 'کامها': 8490, 'برتاب': 8491, 'دویدند': 8492, 'اوفتاد': 8493, 'ترسکار': 8494, 'گردآورد': 8495, 'همزور': 8496, 'بلوچ': 8497, 'سروچ': 8498, 'مرورود': 8499, 'ازانپس': 8500, 'بدتنست': 8501, 'چندش': 8502, 'براندش': 8503, 'شخی': 8504, 'دمیدی': 8505, 'نرانم': 8506, 'برخواسته': 8507, 'جداست': 8508, 'باکین': 8509, 'بازآوریم': 8510, 'بپردازی': 8511, 'بیاویخته': 8512, 'حدیث': 8513, 'خوابم': 8514, 'پدرشان': 8515, 'سیرم': 8516, 'بفرمایمش': 8517, 'ببودیم': 8518, 'کاشتی': 8519, 'کاندیشه': 8520, 'افروزش': 8521, 'اگرشان': 8522, 'فزونیست': 8523, 'آبشخورم': 8524, 'طورگ': 8525, 'بومت': 8526, 'آردش': 8527, 'بدارمت': 8528, 'قچقار': 8529, 'ببارد': 8530, 'پهلوانم': 8531, 'نیازیست': 8532, 'بماندست': 8533, 'هرکار': 8534, 'شاهند': 8535, 'چارپر': 8536, 'بنشاستند': 8537, 'غمگسارش': 8538, 'نبینمت': 8539, 'جریرست': 8540, 'حشمت': 8541, 'شیرنر': 8542, 'باورم': 8543, 'خردگیر': 8544, 'کدبانوی': 8545, 'گزیرد': 8546, 'برانگه': 8547, 'رمیده': 8548, 'خاکیم': 8549, 'ترسست': 8550, 'عبرت': 8551, 'برآشوبد': 8552, 'بنای': 8553, 'زگوهر': 8554, 'خاورست': 8555, 'آرنده': 8556, 'تیرهای': 8557, 'نبستم': 8558, 'نتافت': 8559, 'بپیچیدم': 8560, 'رازیست': 8561, 'سرآیدش': 8562, 'پایمرد': 8563, 'امیدستم': 8564, 'نالنده': 8565, 'ناچمان': 8566, 'سبکتر': 8567, 'کیخسروش': 8568, 'بروزد': 8569, 'خستی': 8570, 'بیغوله': 8571, 'نندیشد': 8572, 'خاموش': 8573, 'شمردند': 8574, 'دشتش': 8575, 'شاهوارش': 8576, 'اندرافتاد': 8577, 'آوردت': 8578, 'بدارش': 8579, 'روده': 8580, 'جملگی': 8581, 'پرآفرین': 8582, 'مبوی': 8583, 'نامدارش': 8584, 'نامبرده': 8585, 'همچنانم': 8586, 'فرزندی': 8587, 'بخار': 8588, 'کوهه': 8589, 'پرخاشجو': 8590, 'نشگفت': 8591, 'ریزی': 8592, 'رادا': 8593, 'نامدارا': 8594, 'یلا': 8595, 'بشنوده': 8596, 'برگرایم': 8597, 'نیرمست': 8598, 'بدنبال': 8599, 'فری': 8600, 'یافتندش': 8601, 'ابرست': 8602, 'قچغار': 8603, 'بنوش': 8604, 'کیمال': 8605, 'فرخش': 8606, 'قلزم': 8607, 'کردگارست': 8608, 'خردمندش': 8609, 'نپرسیده': 8610, 'شادروز': 8611, 'برفشانم': 8612, 'گودرزی': 8613, 'گیوت': 8614, 'گستردن': 8615, 'مرغزارست': 8616, 'بروب': 8617, 'لگامش': 8618, 'بپرید': 8619, 'دارز': 8620, 'خاراست': 8621, 'بافسوس': 8622, 'خوردنت': 8623, 'کشندش': 8624, 'آوریدت': 8625, 'کنونش': 8626, 'بسفت': 8627, 'بشتافتست': 8628, 'بادبانش': 8629, 'اندیشی': 8630, 'بیگمانم': 8631, 'باژدار': 8632, 'بپرستم': 8633, 'بخواهشگری': 8634, 'نشانیم': 8635, 'همویست': 8636, 'منستی': 8637, 'خدنگم': 8638, 'بهمنست': 8639, 'برنجست': 8640, 'منشین': 8641, 'کفته': 8642, 'بدانجای': 8643, 'نگذرانی': 8644, 'بیاراستست': 8645, 'بدتر': 8646, 'بغاز': 8647, 'وزویست': 8648, 'تمامی': 8649, 'ببیخت': 8650, 'بپیمودم': 8651, 'تیمارشان': 8652, 'منسوج': 8653, 'شمامه': 8654, 'برتابد': 8655, 'غریونده': 8656, 'عنانرا': 8657, 'ساکن': 8658, 'بکیوان': 8659, 'عناندار': 8660, 'آگنیم': 8661, 'سرشکی': 8662, 'بپایست': 8663, 'فرسنگها': 8664, 'پادشای': 8665, 'پش': 8666, 'ورانام': 8667, 'ریونیزست': 8668, 'ورایدونک': 8669, 'کارآگاهان': 8670, 'فرودش': 8671, 'میارای': 8672, 'پرسمت': 8673, 'بلب': 8674, 'کآری': 8675, 'بشرم': 8676, 'ریو': 8677, 'بفروز': 8678, 'طوسست': 8679, 'جفتست': 8680, 'ناکاردان': 8681, 'بباره': 8682, 'رفتست': 8683, 'مشکن': 8684, 'برنگردانم': 8685, 'زینجا': 8686, 'بارگیها': 8687, 'برگره': 8688, 'بدارنده': 8689, 'سرغین': 8690, 'بتیمار': 8691, 'تنگدست': 8692, 'شکمشان': 8693, 'ببالینش': 8694, 'وسختی': 8695, 'کافورگون': 8696, 'آرامگه': 8697, 'تژاوست': 8698, 'مادیانان': 8699, 'یلانش': 8700, 'نشدشان': 8701, 'برنشانی': 8702, 'بویرانی': 8703, 'دلان': 8704, 'ماسای': 8705, 'توست': 8706, 'مخواهید': 8707, 'خزانی': 8708, 'برگوید': 8709, 'بختشان': 8710, 'کسم': 8711, 'یکبارگیست': 8712, 'چکانید': 8713, 'هرآنکو': 8714, 'بهستی': 8715, 'بگودرزیان': 8716, 'چاهست': 8717, 'برناست': 8718, 'ننگرم': 8719, 'پایست': 8720, 'ببرده': 8721, 'سهمگین': 8722, 'فروبست': 8723, 'نازدیده': 8724, 'بپور': 8725, 'نجوشد': 8726, 'بیازند': 8727, 'بخان': 8728, 'شیونست': 8729, 'بدستم': 8730, 'شبگون': 8731, 'برارم': 8732, 'بفگنیم': 8733, 'برخروشم': 8734, 'زمهریر': 8735, 'دستهاشان': 8736, 'نگهبانش': 8737, 'برلب': 8738, 'بردوختند': 8739, 'ناچریده': 8740, 'رزمگاهست': 8741, 'فسونها': 8742, 'کجایند': 8743, 'رکیبت': 8744, 'ریزریز': 8745, 'انداختیم': 8746, 'مجنبان': 8747, 'سرند': 8748, 'دروغت': 8749, 'جنبیدن': 8750, 'نبندند': 8751, 'برنهیم': 8752, 'بشیدوش': 8753, 'سیصدست': 8754, 'جایتان': 8755, 'تال': 8756, 'بپیروز': 8757, 'بپالد': 8758, 'شتابست': 8759, 'مژدهٔ': 8760, 'پردرفش': 8761, 'ببندگران': 8762, 'بفگت': 8763, 'بلکشر': 8764, 'شادانم': 8765, 'خاره': 8766, 'بکوبندمان': 8767, 'ببدخواه': 8768, 'بپایان': 8769, 'ببارم': 8770, 'ببخشمت': 8771, 'رسند': 8772, 'شاهیست': 8773, 'زاستر': 8774, 'ساقه': 8775, 'گشادش': 8776, 'چنانیم': 8777, 'ببستر': 8778, 'بچون': 8779, 'بسور': 8780, 'آهیخت': 8781, 'وهری': 8782, 'ابنوس': 8783, 'سزدگر': 8784, 'درکنار': 8785, 'سرانگشت': 8786, 'احسنت': 8787, 'برخروشند': 8788, 'ببربیان': 8789, 'نبردارم': 8790, 'رشتهٔ': 8791, 'فرازند': 8792, 'وگرد': 8793, 'مهربانیست': 8794, 'کاهی': 8795, 'شمارم': 8796, 'کامشان': 8797, 'زابلیست': 8798, 'بزابلستان': 8799, 'خروشم': 8800, 'خوارم': 8801, 'بروهاش': 8802, 'برفشانیم': 8803, 'غمخوارگان': 8804, 'بشتافتیم': 8805, 'ازایشان': 8806, 'بدگوهران': 8807, 'پرداختیم': 8808, 'ترسیده': 8809, 'نوبنو': 8810, 'نواخت': 8811, 'گورستانی': 8812, 'همواز': 8813, 'امد': 8814, 'برویت': 8815, 'تافتم': 8816, 'بهندی': 8817, 'هان': 8818, 'پرندآوران': 8819, 'بنستیهن': 8820, 'بشستن': 8821, 'سرآهنگ': 8822, 'بچوب': 8823, 'بکشور': 8824, 'برازندهٔ': 8825, 'بخاری': 8826, 'خوردنیشان': 8827, 'ساختندی': 8828, 'زورمندان': 8829, 'دریغست': 8830, 'آفرینست': 8831, 'بپیچیده': 8832, 'قفس': 8833, 'چنداند': 8834, 'جامست': 8835, 'کهرمنست': 8836, 'بناورد': 8837, 'آزمودم': 8838, 'حیران': 8839, 'برآوردگه': 8840, 'بپولادوند': 8841, 'افراسیابست': 8842, 'سودند': 8843, 'درآورده': 8844, 'بکاف': 8845, 'آموزدش': 8846, 'افرین': 8847, 'توحید': 8848, 'سمندی': 8849, 'بدشتی': 8850, 'نمدزین': 8851, 'آبت': 8852, 'اندازدم': 8853, 'خرامش': 8854, 'رهانیده': 8855, 'قمری': 8856, 'دیوش': 8857, 'بزنگار': 8858, 'چباید': 8859, 'پریچهرگان': 8860, 'ارمانیان': 8861, 'آمدستیم': 8862, 'بیکباره': 8863, 'بمینو': 8864, 'شوری': 8865, 'بگسلانم': 8866, 'مند': 8867, 'افگنان': 8868, 'برکنان': 8869, 'برانداختند': 8870, 'گرازی': 8871, 'بیژنش': 8872, 'دندانها': 8873, 'شیرخوی': 8874, 'جشنگاهست': 8875, 'بسیچند': 8876, 'پریزاده': 8877, 'دندانهاشان': 8878, 'نشتافتم': 8879, 'آمیخت': 8880, 'چادرا': 8881, 'آیدا': 8882, 'خرگهی': 8883, 'شهرش': 8884, 'غریویدن': 8885, 'سیوز': 8886, 'پیشگه': 8887, 'آزمودن': 8888, 'توانند': 8889, 'نوشتست': 8890, 'کننده': 8891, 'بیژنست': 8892, 'سرفشاند': 8893, 'ببویی': 8894, 'بپالایم': 8895, 'زواری': 8896, 'اندوهگین': 8897, 'ببینمش': 8898, 'شخوده': 8899, 'برآنگونه': 8900, 'درآرد': 8901, 'اخترا': 8902, 'بدآگاهی': 8903, 'دندانهای': 8904, 'بجویش': 8905, 'بفروزد': 8906, 'ببارندگی': 8907, 'رستما': 8908, 'برکندی': 8909, 'بیفروختی': 8910, 'بربپای': 8911, 'چنینم': 8912, 'بجشن': 8913, 'دوانید': 8914, 'بفریاد': 8915, 'نابردنی': 8916, 'بفرزانگان': 8917, 'نژادان': 8918, 'نوذران': 8919, 'یاوران': 8920, 'بواد': 8921, 'غمش': 8922, 'سیمگون': 8923, 'نیاکانت': 8924, 'بخشدش': 8925, 'بادسارست': 8926, 'بفرمانبران': 8927, 'نیازاردم': 8928, 'استت': 8929, 'رخم': 8930, 'دستارخوان': 8931, 'نگینش': 8932, 'بهن': 8933, 'بخنده': 8934, 'نیکت': 8935, 'کارسخت': 8936, 'تورا': 8937, 'بدوزی': 8938, 'راستست': 8939, 'پیمودم': 8940, 'فرازآر': 8941, 'بپروین': 8942, 'زآنک': 8943, 'بشاخ': 8944, 'ناورد': 8945, 'تیزهوش': 8946, 'گردیدن': 8947, 'کنونم': 8948, 'ببستست': 8949, 'ببسیچ': 8950, 'بسایند': 8951, 'براندود': 8952, 'آهخت': 8953, 'مگرداد': 8954, 'گرداد': 8955, 'بنهید': 8956, 'هشیاردل': 8957, 'نادلیر': 8958, 'بموی': 8959, 'کاندیشهٔ': 8960, 'کاراگهان': 8961, 'غزنین': 8962, 'ببشخور': 8963, 'نجوشی': 8964, 'دادکن': 8965, 'خورت': 8966, 'نساخت': 8967, 'ورت': 8968, 'هزارش': 8969, 'گنهکاری': 8970, 'جنگم': 8971, 'بدامن': 8972, 'بسنگ': 8973, 'بیفروز': 8974, 'بسالارگاه': 8975, 'پیراستن': 8976, 'اندآرد': 8977, 'کارآزمای': 8978, 'بپیرانش': 8979, 'ازجنگ': 8980, 'ماهشان': 8981, 'سودهٔ': 8982, 'برنوردد': 8983, 'پرداغ': 8984, 'آریمشان': 8985, 'بازخورد': 8986, 'برافتد': 8987, 'بیدانشی': 8988, 'لاون': 8989, 'نیالاید': 8990, 'بجنگش': 8991, 'کمترست': 8992, 'نسوزی': 8993, 'ازبهر': 8994, 'فرودآمد': 8995, 'تبارت': 8996, 'سودست': 8997, 'آزادگشت': 8998, 'لشکران': 8999, 'تبش': 9000, 'پرنداوران': 9001, 'ازدست': 9002, 'مگسل': 9003, 'برفگند': 9004, 'زنگارگون': 9005, 'دواند': 9006, 'بستانی': 9007, 'شماخ': 9008, 'بگذارند': 9009, 'بفرمایم': 9010, 'کمن': 9011, 'برتابی': 9012, 'بروزی': 9013, 'غرچگان': 9014, 'نبردارد': 9015, 'فرازآوریم': 9016, 'آزارها': 9017, 'گردانم': 9018, 'ازیراک': 9019, 'پرگنه': 9020, 'سرگنجهای': 9021, 'برکشیدم': 9022, 'جوشنی': 9023, 'نارد': 9024, 'کاسمانی': 9025, 'اندرآر': 9026, 'بابخت': 9027, 'کاندرین': 9028, 'اخته': 9029, 'نیستمان': 9030, 'فرشید': 9031, 'سالارگاه': 9032, 'نریزند': 9033, 'زکینه': 9034, 'نهالیش': 9035, 'برکمند': 9036, 'باندوه': 9037, 'متازید': 9038, 'برداری': 9039, 'تاخته': 9040, 'کاستخوانش': 9041, 'فروجست': 9042, 'برببست': 9043, 'تنشان': 9044, 'دویدن': 9045, 'هوشمندی': 9046, 'پذیرهٔ': 9047, 'بدینجا': 9048, 'دورشان': 9049, 'ایزدش': 9050, 'وگرتان': 9051, 'جنگجو': 9052, 'دغو': 9053, 'برفتاد': 9054, 'برشکن': 9055, 'ماییم': 9056, 'خنجرم': 9057, 'ماهتاب': 9058, 'بدانجایگه': 9059, 'شتابم': 9060, 'نمردست': 9061, 'نامبردارشان': 9062, 'بیدرنگ': 9063, 'ببستندشان': 9064, 'کشتگانرا': 9065, 'بعنبر': 9066, 'جداشد': 9067, 'سزاوارشان': 9068, 'میرد': 9069, 'وچین': 9070, 'پروردگارست': 9071, 'بگزیده': 9072, 'بکان': 9073, 'ندهند': 9074, 'نظم': 9075, 'ثنای': 9076, 'کارم': 9077, 'بافتم': 9078, 'دوران': 9079, 'بگذاشتندی': 9080, 'رشی': 9081, 'کرخ': 9082, 'اندمان': 9083, 'کروشان': 9084, 'گذرهای': 9085, 'بازآمد': 9086, 'کهیلا': 9087, 'ساران': 9088, 'طرازی': 9089, 'جرنجاش': 9090, 'یلانرا': 9091, 'بارن': 9092, 'شیرند': 9093, 'آساید': 9094, 'پیغامها': 9095, 'پسرش': 9096, 'گزارد': 9097, 'کامجوی': 9098, 'بیازیم': 9099, 'افشان': 9100, 'باکرنای': 9101, 'آنگونه': 9102, 'تافتند': 9103, 'شبست': 9104, 'یر': 9105, 'شانه': 9106, 'رطل': 9107, 'نیوسوز': 9108, 'حلال': 9109, 'وجای': 9110, 'سرکشته': 9111, 'ریگش': 9112, 'بپرداختش': 9113, 'جنگسازان': 9114, 'کشتم': 9115, 'نابود': 9116, 'کیماک': 9117, 'برسرم': 9118, 'بینوا': 9119, 'چارسو': 9120, 'باریدن': 9121, 'بجستنش': 9122, 'خسرویم': 9123, 'مشنوید': 9124, 'خرامست': 9125, 'باگزند': 9126, 'کآتش': 9127, 'ایرجی': 9128, 'زخویشان': 9129, 'پویید': 9130, 'بماچین': 9131, 'بفغفور': 9132, 'آوردند': 9133, 'رادید': 9134, 'برسپهر': 9135, 'بیارامد': 9136, 'بیگناهیم': 9137, 'ستمکارگان': 9138, 'نرستی': 9139, 'بگماشتی': 9140, 'ببخشایش': 9141, 'طلب': 9142, 'دلاویز': 9143, 'بخلعت': 9144, 'زایران': 9145, 'تودادی': 9146, 'برداد': 9147, 'سازش': 9148, 'آمیختند': 9149, 'رانیاز': 9150, 'تواندر': 9151, 'بااوبهم': 9152, 'بشوییم': 9153, 'سرکوه': 9154, 'بهنگ': 9155, 'داورا': 9156, 'ومردانگی': 9157, 'سخنهات': 9158, 'زدریای': 9159, 'چونانک': 9160, 'بدژخیم': 9161, 'بفرهنگ': 9162, 'سیمینه': 9163, 'ببودم': 9164, 'دنور': 9165, 'شاهیت': 9166, 'نادادن': 9167, 'هفتست': 9168, 'بگشادمش': 9169, 'پرآزارتر': 9170, 'نشکنیم': 9171, 'نپیمود': 9172, 'بکوشیدم': 9173, 'گروهاگروه': 9174, 'کودکانی': 9175, 'چادرند': 9176, 'بشهری': 9177, 'آخور': 9178, 'وتاریکی': 9179, 'قم': 9180, 'پیراهنم': 9181, 'دادیش': 9182, 'یزدانت': 9183, 'شناسید': 9184, 'گیاه': 9185, 'گزیدش': 9186, 'گشتاسب': 9187, 'راهت': 9188, 'برنگذرم': 9189, 'کاوسیان': 9190, 'درشاه': 9191, 'بازگرداندم': 9192, 'ازایران': 9193, 'نامجویم': 9194, 'شدت': 9195, 'نگذاشتش': 9196, 'خوانندش': 9197, 'نیشتر': 9198, 'ایرمانی': 9199, 'گرگی': 9200, 'زانسو': 9201, 'سقیلا': 9202, 'غریب': 9203, 'بیاراستندی': 9204, 'نشتافتند': 9205, 'دفترش': 9206, 'جویست': 9207, 'گرگست': 9208, 'نپرسی': 9209, 'رسانیده': 9210, 'بکاهدش': 9211, 'گزیتش': 9212, 'پیمبرش': 9213, 'مهربرزین': 9214, 'نبشتی': 9215, 'برانجا': 9216, 'منگرید': 9217, 'بهشتیش': 9218, 'نفرمایمش': 9219, 'دعوی': 9220, 'نپذیرد': 9221, 'نوشتش': 9222, 'دینش': 9223, 'آیینش': 9224, 'برافگندی': 9225, 'ننگریدی': 9226, 'کنمشان': 9227, 'آستانه': 9228, 'بدادندش': 9229, 'پیچیدن': 9230, 'نگرید': 9231, 'نبست': 9232, 'چمنده': 9233, 'دبیرش': 9234, 'درهای': 9235, 'خشاش': 9236, 'مرزدارانش': 9237, 'زبی': 9238, 'کایزد': 9239, 'خونها': 9240, 'کندش': 9241, 'تازند': 9242, 'جایشان': 9243, 'برفتش': 9244, 'چنانند': 9245, 'بازآورد': 9246, 'خلخی': 9247, 'هوازی': 9248, 'گذارنده': 9249, 'تاختنها': 9250, 'ایتاش': 9251, 'آرشی': 9252, 'بگذارمش': 9253, 'زهرابدار': 9254, 'سرلشکر': 9255, 'جهنده': 9256, 'بکه': 9257, 'بابم': 9258, 'سیاهش': 9259, 'شاهنشه': 9260, 'خوانید': 9261, 'تاختش': 9262, 'کارجاسپ': 9263, 'دهدی': 9264, 'مبندید': 9265, 'مسپرید': 9266, 'بارزوی': 9267, 'نخفتند': 9268, 'خسروا': 9269, 'خودش': 9270, 'خانهاشان': 9271, 'گزیتی': 9272, 'جهانش': 9273, 'ایزدپرست': 9274, 'گوار': 9275, 'فرازش': 9276, 'شهریارانش': 9277, 'بفریفتست': 9278, 'چونست': 9279, 'تیماردار': 9280, 'پیماید': 9281, 'تاخ': 9282, 'استش': 9283, 'نخفتی': 9284, 'مشورید': 9285, 'بسیچم': 9286, 'گشتاسپیست': 9287, 'بستگی': 9288, 'پابند': 9289, 'شمرکان': 9290, 'خیش': 9291, 'دیوارگر': 9292, 'براندیشد': 9293, 'پیراستند': 9294, 'دژت': 9295, 'خواهرانت': 9296, 'تأیید': 9297, 'عتاب': 9298, 'دیباست': 9299, 'دریغش': 9300, 'بپرسیم': 9301, 'میانت': 9302, 'دروی': 9303, 'شمشیرشان': 9304, 'جفتش': 9305, 'درگران': 9306, 'درگر': 9307, 'تنبور': 9308, 'برداشتن': 9309, 'مسنج': 9310, 'جر': 9311, 'تیزپر': 9312, 'کجاآن': 9313, 'همرهم': 9314, 'سرهنگ': 9315, 'درمگان': 9316, 'آنش': 9317, 'بفروختند': 9318, 'ساوهٔ': 9319, 'شیراوژنا': 9320, 'بهمشان': 9321, 'کپان': 9322, 'گسارنده': 9323, 'گوسفندی': 9324, 'پرلاله': 9325, 'نالد': 9326, 'نبخشد': 9327, 'بفزایدش': 9328, 'پرسشم': 9329, 'روزگار؟': 9330, 'کاولستان': 9331, 'کودکانش': 9332, 'برانگیز': 9333, 'نکوکارتر': 9334, 'بیارش': 9335, 'دوانش': 9336, 'میفگن': 9337, 'هنرهاش': 9338, 'اول': 9339, 'گورستان': 9340, 'کرانی': 9341, 'گرفتستی': 9342, 'بیفراخت': 9343, 'سفره': 9344, 'رنجهایی': 9345, 'کاسپ': 9346, 'عاری': 9347, 'نخوانمش': 9348, 'سامش': 9349, 'گاهشان': 9350, 'گرانش': 9351, 'ریختش': 9352, 'برافزون': 9353, 'رسمی': 9354, 'سلیحت': 9355, 'بر،': 9356, 'خویی': 9357, 'چوکوه': 9358, 'ببندمت': 9359, 'غلغلستان': 9360, 'واست': 9361, 'آردی': 9362, 'بردارمش': 9363, 'نگروند': 9364, 'بریزیم': 9365, 'طبرخون': 9366, 'نابسته': 9367, 'بیاسایم': 9368, 'خستگیهای': 9369, 'بادمان': 9370, 'کانرا': 9371, 'پشمان': 9372, 'بمیرم': 9373, 'نپذیردت': 9374, 'فرومایگان': 9375, 'زالی': 9376, 'پایت': 9377, 'کوشی': 9378, 'نرانی': 9379, 'بارگیهای': 9380, 'هزارانت': 9381, 'چندگویی': 9382, 'گناهم': 9383, 'نیازید': 9384, 'مپرهیز': 9385, 'بیندود': 9386, 'توختن': 9387, 'پادشاهیت': 9388, 'کشتش': 9389, 'بدانکس': 9390, 'هرآنچت': 9391, 'آموخت': 9392, 'سهل': 9393, 'بدگوهرند': 9394, 'یادگارش': 9395, 'نیر': 9396, 'حربه': 9397, 'بیهشی': 9398, 'سپ': 9399, 'کاندران': 9400, 'هی': 9401, 'گلوی': 9402, 'چنار': 9403, 'برفگنده': 9404, 'خوابنیده': 9405, 'پرستی': 9406, 'سندی': 9407, 'هستید': 9408, 'دایگان': 9409, 'چهرزاد': 9410, 'ساسانش': 9411, 'پرشرم': 9412, 'کارگه': 9413, 'مامش': 9414, 'جاییش': 9415, 'پرزیان': 9416, 'برگاشتن': 9417, 'نسودی': 9418, 'سپهبدنژاد': 9419, 'پسندت': 9420, 'ندیشه': 9421, 'بازداد': 9422, 'رسانند': 9423, 'رودی': 9424, 'شعیب': 9425, 'برنتافت': 9426, 'ماندت': 9427, 'کییست': 9428, 'دهنده': 9429, 'عراق': 9430, 'پناهد': 9431, 'نیروت': 9432, 'نکوهیدهٔ': 9433, 'شهریارم': 9434, 'سرور': 9435, 'بدارندهٔ': 9436, 'درنگش': 9437, 'پرستندگی': 9438, 'خوابها': 9439, 'گوساله': 9440, 'زیردستانش': 9441, 'پژوهی': 9442, 'پژوهست': 9443, 'خواندیش': 9444, 'ناساخته': 9445, 'شرمست': 9446, 'علت': 9447, 'پیچند': 9448, 'بگداختند': 9449, 'آینه': 9450, 'دودش': 9451, 'زیرگاهش': 9452, 'مغنیاطیس': 9453, 'باسواران': 9454, 'مات': 9455, 'نشیبی': 9456, 'زحل': 9457, 'درونش': 9458, 'براهیم': 9459, 'آزر': 9460, 'الحرام': 9461, 'خزاعه': 9462, 'جده': 9463, 'قیدافهٔ': 9464, 'بیقطون': 9465, 'گشتنت': 9466, 'ریزندهٔ': 9467, 'پوستی': 9468, 'بازخوانی': 9469, 'بپذیرد': 9470, 'جفای': 9471, 'قوس': 9472, 'قزح': 9473, 'تختها': 9474, 'زرای': 9475, 'پیامست': 9476, 'حبش': 9477, 'تناور': 9478, 'نفت': 9479, 'بنداختند': 9480, 'چادری': 9481, 'لفچ': 9482, 'کفچ': 9483, 'کنامی': 9484, 'سرفرازد': 9485, 'پربها': 9486, 'بروباد': 9487, 'یاجوج': 9488, 'ماجوج': 9489, 'بخسپند': 9490, 'سازدی': 9491, 'شگفتیست': 9492, 'پرستم': 9493, 'بیاگنده': 9494, 'مسیحست': 9495, 'سلهٔ': 9496, 'شارستانست': 9497, 'فالش': 9498, 'مپراگنید': 9499, 'جرم': 9500, 'مهندس': 9501, 'حزم': 9502, 'بیندت': 9503, 'آفاق': 9504, 'گذشتم': 9505, 'کاریش': 9506, 'میر': 9507, 'اردشیرش': 9508, 'بابکان': 9509, 'چیزش': 9510, 'برخاستن': 9511, 'متاز': 9512, 'سترگی': 9513, 'کردگاه': 9514, 'پراندیشهٔ': 9515, 'دروازه': 9516, 'ریسمان': 9517, 'رشت': 9518, 'آنکجا': 9519, 'لختکی': 9520, 'فالی': 9521, 'بخوردنش': 9522, 'نفیر': 9523, 'ساروج': 9524, 'جنبید': 9525, 'خمار': 9526, 'بیاوردشان': 9527, 'گزیر': 9528, 'آختم': 9529, 'نتواند': 9530, 'هلاهل': 9531, 'وپیش': 9532, 'بازخواهی': 9533, 'بربود': 9534, 'سوارانش': 9535, 'گندشاپور': 9536, 'کنجی': 9537, 'بالید': 9538, 'دلوی': 9539, 'بیامیزد': 9540, 'بلاغت': 9541, 'نقط': 9542, 'شناسنده': 9543, 'آرامجوی': 9544, 'بردیش': 9545, 'ننازد': 9546, 'زیردستست': 9547, 'افزایدت': 9548, 'دگیر': 9549, 'ونبرد': 9550, 'موش': 9551, 'ناارز': 9552, 'بردیم': 9553, 'منشان': 9554, 'بنشاندت': 9555, 'یازند': 9556, 'ببالاید': 9557, 'یارتان': 9558, 'نبیدش': 9559, 'پیست': 9560, 'بالتوینه': 9561, 'باستاد': 9562, 'بیارایم': 9563, 'سفلگان': 9564, 'دانشان': 9565, 'نابودنیها': 9566, 'آژیرتر': 9567, 'پناهی': 9568, 'گزایندهٔ': 9569, 'مروت': 9570, 'پیچاند': 9571, 'بکاهی': 9572, 'آزور': 9573, 'بدخو': 9574, 'بازگیرند': 9575, 'دختش': 9576, 'مالکه': 9577, 'بدارند': 9578, 'لقب': 9579, 'جفادیده': 9580, 'کدبانو': 9581, 'خالی': 9582, 'پاسخی': 9583, 'موبه': 9584, 'درسرای': 9585, 'روزبان': 9586, 'قیصرنژاد': 9587, 'پسندم': 9588, 'چرمت': 9589, 'قسیس': 9590, 'مطران': 9591, 'کشتنت': 9592, 'بگسترده': 9593, 'خشمت': 9594, 'سزاواری': 9595, 'چربه': 9596, 'آختی': 9597, 'کزویت': 9598, 'جنبده': 9599, 'هاشمی': 9600, 'نکوکار': 9601, 'جهاندارمان': 9602, 'میاز': 9603, 'نفزود': 9604, 'نیروش': 9605, 'بیفروزدش': 9606, 'بهین': 9607, 'گلرخان': 9608, 'اشتری': 9609, 'جفته': 9610, 'پناهیم': 9611, 'برشکفت': 9612, 'نشانید': 9613, 'چاشنی': 9614, 'نیکخواهی': 9615, 'نابخردیست': 9616, 'برنایی': 9617, 'گرزه': 9618, 'نمکسود': 9619, 'حسین': 9620, 'باقی': 9621, 'دادجوی': 9622, 'جهودیست': 9623, 'بازماندم': 9624, 'وبس': 9625, 'بپخت': 9626, 'دهقانم': 9627, 'کهترانش': 9628, 'نشمرید': 9629, 'کهترانند': 9630, 'همسایگان': 9631, 'برافزود': 9632, 'کدخدایند': 9633, 'قطرهٔ': 9634, 'فروشید': 9635, 'بیوه': 9636, 'بازدار': 9637, 'ناشادکام': 9638, 'نیارمت': 9639, 'پسندید': 9640, 'زیم': 9641, 'پسندیدی': 9642, 'ویی': 9643, 'سره': 9644, 'پرسدت': 9645, 'بزرگا': 9646, 'ترف': 9647, 'غمگساری': 9648, 'کندند': 9649, 'خریم': 9650, 'آزرد': 9651, 'ژکید': 9652, 'دانگی': 9653, 'جوال': 9654, 'کدوی': 9655, 'آزادیست': 9656, 'کاره': 9657, 'گاوش': 9658, 'رسولی': 9659, 'بهارم': 9660, 'مروست': 9661, 'نسا': 9662, 'نگیرید': 9663, 'بامدادی': 9664, 'فلاطون': 9665, 'قیصرم': 9666, 'فرمانرواست': 9667, 'زیرکی': 9668, 'نیکئی': 9669, 'بازیب': 9670, 'کردگارش': 9671, 'کاران': 9672, 'دربار': 9673, 'زبانست': 9674, 'بشنگل': 9675, 'بریز': 9676, 'اندرگمان': 9677, 'بهند': 9678, 'وا': 9679, 'بماندیم': 9680, 'ودینار': 9681, 'بیای': 9682, 'بریدیم': 9683, 'روای': 9684, 'سندل': 9685, 'کرانجی': 9686, 'نریزد': 9687, 'کشتمندان': 9688, 'بیامدش': 9689, 'گسارد': 9690, 'نشمرند': 9691, 'لوریان': 9692, 'بورزد': 9693, 'پرودگار': 9694, 'وپنج': 9695, 'غله': 9696, 'بنایافت': 9697, 'بادان': 9698, 'مناره': 9699, 'بربخت': 9700, 'نشکند': 9701, 'چابلوس': 9702, 'نرمست': 9703, 'برکام': 9704, 'برآواز': 9705, 'بلاجوی': 9706, 'قبادش': 9707, 'دیدیش': 9708, 'بسیجید': 9709, 'دیدها': 9710, 'خونیست': 9711, 'بازاریان': 9712, 'تهیدست': 9713, 'چیزه': 9714, 'مسیحی': 9715, 'یافتن': 9716, 'مستمندیم': 9717, 'خرما': 9718, 'درمی': 9719, 'خوردنیهای': 9720, 'باژها': 9721, 'سرفرازست': 9722, 'دانادل': 9723, 'محابا': 9724, 'پیشکاران': 9725, 'نخسبد': 9726, 'رازهای': 9727, 'بخشایست': 9728, 'کوهش': 9729, 'بلوجی': 9730, 'سرافزار': 9731, 'بذرگشسب': 9732, 'نکشتند': 9733, 'قالینیوس': 9734, 'بفرسود': 9735, 'تود': 9736, 'زوان': 9737, 'نسنجد': 9738, 'جند': 9739, 'پرگناهان': 9740, 'گمانند': 9741, 'اویی': 9742, 'خصمش': 9743, 'پراگندگان': 9744, 'گراو': 9745, 'طریق': 9746, 'برفرازی': 9747, 'سکوبای': 9748, 'چوآگاه': 9749, 'درخواب': 9750, 'یارمنست': 9751, 'اونرم': 9752, 'ناسزای': 9753, 'درکاخ': 9754, 'ومغزش': 9755, 'وکژی': 9756, 'وآهنگ': 9757, 'چوجان': 9758, 'فروتن': 9759, 'ناکردنیست': 9760, 'نازردنیست': 9761, 'ودلش': 9762, 'وخندان': 9763, 'برچه': 9764, 'وکام': 9765, 'برپادشا': 9766, 'بنادان': 9767, 'ناپسندست': 9768, 'یارت': 9769, 'عادت': 9770, 'بامرد': 9771, 'درکاستی': 9772, 'گرنیستش': 9773, 'برمهست': 9774, 'تاهرکسی': 9775, 'راکند': 9776, 'بزند': 9777, 'برمهر': 9778, 'ابرشاه': 9779, 'حاکم': 9780, 'چوکژی': 9781, 'برسرت': 9782, 'بیخرد': 9783, 'دوروی': 9784, 'پاکست': 9785, 'ببرگشتن': 9786, 'درخورش': 9787, 'ازکسی': 9788, 'سرشته': 9789, 'گرهست': 9790, 'براندیشه': 9791, 'لفظ': 9792, 'نگوی': 9793, 'بنوازدت': 9794, 'چوگویی': 9795, 'پیداکند': 9796, 'وگرگ': 9797, 'طاقها': 9798, 'وآیین': 9799, 'وختن': 9800, 'وسپه': 9801, 'وکوپال': 9802, 'وزن': 9803, 'کارآن': 9804, 'برشدند': 9805, 'وتیمار': 9806, 'سرماه': 9807, 'هرمهتری': 9808, 'وننگ': 9809, 'گماند': 9810, 'درشهریار': 9811, 'ومردی': 9812, 'اوخواستند': 9813, 'وخردمندی': 9814, 'ازآسمان': 9815, 'وآفرین': 9816, 'اونیست': 9817, 'واندر': 9818, 'چومهران': 9819, 'ودستان': 9820, 'وکردار': 9821, 'چوپردخته': 9822, 'دوستار': 9823, 'زآیین': 9824, 'خلوق': 9825, 'وخرم': 9826, 'برستند': 9827, 'زهرهٔ': 9828, 'وآب': 9829, 'ودار': 9830, 'بهیست': 9831, 'ازمرد': 9832, 'بدوشاه': 9833, 'نمام': 9834, 'دوتن': 9835, 'وناسپاس': 9836, 'امیدوار': 9837, 'نفروشد': 9838, 'ونام': 9839, 'خصم': 9840, 'وجفت': 9841, 'بفزاید': 9842, 'سیرآید': 9843, 'وگفتش': 9844, 'وپوست': 9845, 'خردیافته': 9846, 'رهنمونش': 9847, 'کوشان': 9848, 'فرزین': 9849, 'ساوی': 9850, 'مهرها': 9851, 'وپس': 9852, 'روزگارت': 9853, 'چوگل': 9854, 'وجام': 9855, 'چوفرزند': 9856, 'آموزگارش': 9857, 'برنیک': 9858, 'وخاک': 9859, 'وشهری': 9860, 'ازتو': 9861, 'وهمه': 9862, 'رابدان': 9863, 'ازبندگان': 9864, 'تابی': 9865, 'رابگوی': 9866, 'ازاندیشه': 9867, 'برقلبگاه': 9868, 'توآرایش': 9869, 'رابر': 9870, 'ومردان': 9871, 'چوطلخند': 9872, 'بیارام': 9873, 'بدبق': 9874, 'کوراست': 9875, 'پرمدارا': 9876, 'ازباستان': 9877, 'زهردانشی': 9878, 'وکارآزموده': 9879, 'رابباید': 9880, 'یارخواه': 9881, 'زچیزی': 9882, 'زخاک': 9883, 'تودست': 9884, 'وپرمایه': 9885, 'برفزونی': 9886, 'چونزدیک': 9887, 'ازکاردانان': 9888, 'بروآفرین': 9889, 'نبشتست': 9890, 'برگیا': 9891, 'برشتاب': 9892, 'آسانتر': 9893, 'وآمد': 9894, 'تنوری': 9895, 'قفلی': 9896, 'وردان': 9897, 'استواری': 9898, 'شویست': 9899, 'پیداکنم': 9900, 'بدرج': 9901, 'بحقه': 9902, 'چراکرد': 9903, 'وچه': 9904, 'شادباد': 9905, 'بتوقیع': 9906, 'واندک': 9907, 'بازکرد': 9908, 'چوکردند': 9909, 'ودین': 9910, 'آمیز': 9911, 'بیدارباش': 9912, 'درکارزار': 9913, 'دوچشمش': 9914, 'سزوار': 9915, 'بخوی': 9916, 'هرشهریار': 9917, 'کاربر': 9918, 'بستایدش': 9919, 'امسال': 9920, 'سرتیغ': 9921, 'رانیام': 9922, 'چونیل': 9923, 'کودکیست': 9924, 'بهرمهتری': 9925, 'هماناکه': 9926, 'ازچه': 9927, 'وما': 9928, 'چیزیست': 9929, 'برگوا': 9930, 'چوچیره': 9931, 'بگاهی': 9932, 'راکردم': 9933, 'بهرنیک': 9934, 'برچرخ': 9935, 'بوقت': 9936, 'برگست': 9937, 'بپرمایه': 9938, 'یافتستیم': 9939, 'نفرماییم': 9940, 'وگریان': 9941, 'توخاقان': 9942, 'جداکرد': 9943, 'بهرمز': 9944, 'بگشتاسب': 9945, 'پیروسست': 9946, 'زدانش': 9947, 'ویادگیر': 9948, 'نسب': 9949, 'وخیل': 9950, 'توآمد': 9951, 'هرآنچش': 9952, 'سالگان': 9953, 'بهاماوران': 9954, 'زبهر': 9955, 'اوگشت': 9956, 'بازجوید': 9957, 'اوشاه': 9958, 'جوالی': 9959, 'توجست': 9960, 'بگریند': 9961, 'خردگی': 9962, 'نده': 9963, 'بخندی': 9964, 'وکوه': 9965, 'مهرتو': 9966, 'دورتر': 9967, 'چوبینی': 9968, 'بتموز': 9969, 'سراز': 9970, 'تاچون': 9971, 'چویک': 9972, 'بمردند': 9973, 'جادوام': 9974, 'سوام': 9975, 'برساوه': 9976, 'برسپاه': 9977, 'ت': 9978, 'دیریاب': 9979, 'رانبد': 9980, 'چارشنبه': 9981, 'زتیره': 9982, 'رایکی': 9983, 'سرکینه': 9984, 'ودست': 9985, 'شهرایران': 9986, 'چوکارت': 9987, 'وبند': 9988, 'نیفزایی': 9989, 'زباد': 9990, 'وبدخوی': 9991, 'گوشوارش': 9992, 'زمیدان': 9993, 'رابزد': 9994, 'ازگوهر': 9995, 'وسیمین': 9996, 'سربپیچید': 9997, 'وبرده': 9998, 'بسیجیده': 9999, 'مقناع': 10000, 'وخامشی': 10001, 'ازمهان': 10002, 'وشنید': 10003, 'چوبرگشت': 10004, 'چوگفتار': 10005, 'ومست': 10006, 'سله': 10007, 'رایکایک': 10008, 'وکین': 10009, 'پیرگرگ': 10010, 'ازبند': 10011, 'ورهی': 10012, 'برنام': 10013, 'درمها': 10014, 'زدشمن': 10015, 'یاروپشت': 10016, 'ببغداد': 10017, 'برفتست': 10018, 'خالان': 10019, 'درزمان': 10020, 'زرفتن': 10021, 'وبخت': 10022, 'کاراوی': 10023, 'چونیمی': 10024, 'چوشمع': 10025, 'ویلان': 10026, 'پیدانه': 10027, 'وباران': 10028, 'وگیر': 10029, 'ناسزایم': 10030, 'سرشتت': 10031, 'سپارند': 10032, 'وبرتر': 10033, 'زگرد': 10034, 'زنیکی': 10035, 'وبود': 10036, 'رازیان': 10037, 'بامنند': 10038, 'توبا': 10039, 'بدتنان': 10040, 'گنهگار': 10041, 'زبیگانه': 10042, 'افرازشان': 10043, 'ببردن': 10044, 'آشوفتند': 10045, 'چوشاهان': 10046, 'کایشان': 10047, 'توگر': 10048, 'بازنشناسد': 10049, 'بربام': 10050, 'چوروی': 10051, 'سرسال': 10052, 'یاربود': 10053, 'نژادکیان': 10054, 'دوات': 10055, 'دوماه': 10056, 'رابند': 10057, 'بچوگان': 10058, 'دریکی': 10059, 'مانوی': 10060, 'وریغ': 10061, 'بستام': 10062, 'ببالوی': 10063, 'چوقیصر': 10064, 'چوگشت': 10065, 'چوآیند': 10066, 'زایرانیان': 10067, 'ترشد': 10068, 'جسم': 10069, 'رابدین': 10070, 'شتاف': 10071, 'ندازه': 10072, 'زدین': 10073, 'رانام': 10074, 'جزاز': 10075, 'اندرنهفت': 10076, 'سرگس': 10077, 'آبادگان': 10078, 'برپهلوی': 10079, 'رابهم': 10080, 'وراغ': 10081, 'وجهانجوی': 10082, 'بشاپور': 10083, 'زدیگر': 10084, 'زنگوی': 10085, 'تخواره': 10086, 'ازگروه': 10087, 'بمریم': 10088, 'چودید': 10089, 'خساره': 10090, 'تاشد': 10091, 'بزرگانش': 10092, 'وهور': 10093, 'پیداشد': 10094, 'همن': 10095, 'سیلی': 10096, 'غریبیم': 10097, 'زینهارم': 10098, 'نشستیم': 10099, 'پیراستست': 10100, 'نانی': 10101, 'زاسپ': 10102, 'رابجای': 10103, 'کوبند': 10104, 'نیاسایم': 10105, 'رابکشت': 10106, 'ناودانی': 10107, 'مباداش': 10108, 'روزهٔ': 10109, 'شنبدی': 10110, 'بتشت': 10111, 'ماسپ': 10112, 'برفزودی': 10113, 'همبوی': 10114, 'کجاهست': 10115, 'خوانیش': 10116, 'فرعان': 10117, 'برطاس': 10118, 'خضرا': 10119, 'وشش': 10120, 'مستمندان': 10121, 'گوهرت': 10122, 'اشتاگشسپ': 10123, 'دودست': 10124, 'سرخود': 10125, 'شومی': 10126, 'راپیش': 10127, 'برمدار': 10128, 'وقاص': 10129, 'مرانیست': 10130, 'چبین': 10131, 'گرداب': 10132, 'غمیست': 10133, 'کمیست': 10134, 'ازویی': 10135, 'نسپری': 10136, 'حکیما': 10137, 'کافرینش': 10138, 'گرمیش': 10139, 'نوبه': 10140, 'فلکها': 10141, 'مرکزی': 10142, 'روشنائی': 10143, 'نیرویی': 10144, 'پیوندگان': 10145, 'جنبنده': 10146, 'فطرت': 10147, 'بفرسایدش': 10148, 'سرخست': 10149, 'آفتابی': 10150, 'چراغست': 10151, 'بپیمایدا': 10152, 'دیدارش': 10153, 'تنزیل': 10154, 'وحی': 10155, 'امر': 10156, 'بعد': 10157, 'اسلام': 10158, 'عثمان': 10159, 'بتول': 10160, 'رسول': 10161, 'علمم': 10162, 'علیم': 10163, 'قول': 10164, 'قوی': 10165, 'صحابان': 10166, 'برانگیخته': 10167, 'بادبانها': 10168, 'وفی': 10169, 'لوا': 10170, 'خطا': 10171, 'بغض': 10172, 'همنورد': 10173, 'کرانش': 10174, 'نخل': 10175, 'توانم': 10176, 'بپرسیدشان': 10177, 'الهی': 10178, 'عفو': 10179, 'حشر': 10180, 'جوانیت': 10181, 'پهلوانیت': 10182, 'زخاور': 10183, 'نخفته': 10184, 'بپرسیدمی': 10185, 'ستارست': 10186, 'سخاست': 10187, 'جبرئیل': 10188, 'دوستوار': 10189, 'ناصرالدین': 10190, 'کآیین': 10191, 'دشمنا': 10192, 'دیوبچه': 10193, 'خروزان': 10194, 'مخروش': 10195, 'بدخواست': 10196, 'نگماشتی': 10197, 'فسانست': 10198, 'دوچشم': 10199, 'آذرنگ': 10200, 'فروغیست': 10201, 'سمورست': 10202, 'بافر': 10203, 'درگهی': 10204, 'ماکیان': 10205, 'نوازند': 10206, 'نخوانندشان': 10207, 'شهرسپ': 10208, 'تابید': 10209, 'برتاختی': 10210, 'دیوشان': 10211, 'دگرشان': 10212, 'کشیدندشان': 10213, 'فزوده': 10214, 'آهنا': 10215, 'شنا': 10216, 'قز': 10217, 'بافتن': 10218, 'کاتوزیان': 10219, 'نیساریان': 10220, 'بکارند': 10221, 'ورزند': 10222, 'بدروند': 10223, 'اهتو': 10224, 'ورزان': 10225, 'اباسرکشی': 10226, 'هرانچ': 10227, 'بویهای': 10228, 'کردنیها': 10229, 'آرامتان': 10230, 'مرداس': 10231, 'دوشابه': 10232, 'مری': 10233, 'شیرور': 10234, 'دوشیزگان': 10235, 'پدرکش': 10236, 'پندت': 10237, 'نورد': 10238, 'دگرگوی': 10239, 'نازده': 10240, 'خوالیگرم': 10241, 'زردهٔ': 10242, 'نیرنگساز': 10243, 'فردات': 10244, 'بیاراستش': 10245, 'حاجتستم': 10246, 'عمی': 10247, 'بهٔک': 10248, 'کردوچه': 10249, 'جستجوی': 10250, 'نامجویی': 10251, 'شنودند': 10252, 'صدسالش': 10253, 'صدم': 10254, 'ضحاکش': 10255, 'ربودش': 10256, 'پروراندت': 10257, 'نرمت': 10258, 'خدایا': 10259, 'اژدهافشن': 10260, 'بپروردشان': 10261, 'ارمایل': 10262, 'گرمایل': 10263, 'راکشان': 10264, 'نشناختندی': 10265, 'بدریدش': 10266, 'صدستون': 10267, 'شودتان': 10268, 'چوی': 10269, 'آهنینی': 10270, 'سپهرت': 10271, 'بگیردت': 10272, 'ببنددت': 10273, 'بنددم': 10274, 'زنهارگیر': 10275, 'نهانت': 10276, 'شاهفش': 10277, 'پروردیدت': 10278, 'بگشادگوش': 10279, 'بربخردان': 10280, 'برآمیختن': 10281, 'ناشکبیم': 10282, 'آهنگرم': 10283, 'شماریت': 10284, 'مارانت': 10285, 'محضرش': 10286, 'نهادید': 10287, 'مردگرد': 10288, 'کافریدون': 10289, 'داورش': 10290, 'زئید': 10291, 'پولادگر': 10292, 'رودبانان': 10293, 'جوازی': 10294, 'المقدس': 10295, 'کنگ': 10296, 'دژهودجش': 10297, 'شتابیدن': 10298, 'آتشستی': 10299, 'طلسمی': 10300, 'برفرازیده': 10301, 'بپالودشان': 10302, 'شیرآمدی': 10303, 'گناهان': 10304, 'پردختگی': 10305, 'آتشست': 10306, 'ناخوشست': 10307, 'آبدن': 10308, 'مارها': 10309, 'بازآمدنش': 10310, 'بدنش': 10311, 'چوکشور': 10312, 'سوزگی': 10313, 'نبیذ': 10314, 'دلزدای': 10315, 'فروریختشان': 10316, 'برامیختشان': 10317, 'کارستش': 10318, 'بترزین': 10319, 'ببرشان': 10320, 'کارزو': 10321, 'سازندگی': 10322, 'خمیر': 10323, 'پئی': 10324, 'اژدهادوش': 10325, 'ناسود': 10326, 'کارورز': 10327, 'پندشان': 10328, 'پیمودمی': 10329, 'شیرخوان': 10330, 'روزگارا': 10331, 'نگزیردت': 10332, 'غاری': 10333, 'نیفکند': 10334, 'مپرست': 10335, 'نشناخت': 10336, 'راگشادن': 10337, 'زوپین': 10338, 'یزدانشناس': 10339, 'دلسوز': 10340, 'شتابت': 10341, 'بایدزدن': 10342, 'دروغم': 10343, 'فرمانبرم': 10344, 'دوگوش': 10345, 'هرانجمن': 10346, 'عکس': 10347, 'صنوبر': 10348, 'بدارندشان': 10349, 'نگارندشان': 10350, 'اندردگر': 10351, 'آزاندرون': 10352, 'برنورد': 10353, 'مرترا': 10354, 'اندار': 10355, 'آنسان': 10356, 'سپهریست': 10357, 'کارید': 10358, 'بدروید': 10359, 'باما': 10360, 'آزتان': 10361, 'کالبدتان': 10362, 'نخوانندش': 10363, 'بازراند': 10364, 'استشان': 10365, 'آبشخورست': 10366, 'بکارست': 10367, 'بپسیچ': 10368, 'چاشت': 10369, 'پژمراند': 10370, 'نگذرانم': 10371, 'لشگرگه': 10372, 'چگر': 10373, 'هردری': 10374, 'نگسلانی': 10375, 'بلندت': 10376, 'پالود': 10377, 'بشویند': 10378, 'ماکهی': 10379, 'پاکتر': 10380, 'دورمانم': 10381, 'مراکت': 10382, 'خودنشان': 10383, 'بپروردیش': 10384, 'بیافتاد': 10385, 'اسپانش': 10386, 'نبینیش': 10387, 'بزمگاهان': 10388, 'نزدر': 10389, 'بزناز': 10390, 'گلستانش': 10391, 'سروان': 10392, 'داغی': 10393, 'تاگیا': 10394, 'رستش': 10395, 'پروردنش': 10396, 'ایرجستی': 10397, 'شویش': 10398, 'نزدنیا': 10399, 'شادکن': 10400, 'ایرجش': 10401, 'پروردیدش': 10402, 'هردوان': 10403, 'گردونه': 10404, 'اباپیل': 10405, 'خریدن': 10406, 'منوچهرتان': 10407, 'نامورتان': 10408, 'بپرداختید': 10409, 'قارون': 10410, 'اوکس': 10411, 'پرگمان': 10412, 'مایستشان': 10413, 'بهایست': 10414, 'دستورشان': 10415, 'گنجورشان': 10416, 'رویشان': 10417, 'صیاد': 10418, 'ببادافره': 10419, 'شتابیدمی': 10420, 'بتابیدمی': 10421, 'نگشایم': 10422, 'کرشدی': 10423, 'بگرشاسپ': 10424, 'حسام': 10425, 'کاریت': 10426, 'هولست': 10427, 'گریدی': 10428, 'جنگند': 10429, 'ندانید': 10430, 'زرور': 10431, 'نمایمش': 10432, 'خستنست': 10433, 'نیکنامند': 10434, 'خمید': 10435, 'بزمگاهست': 10436, 'چیزگی': 10437, 'شرنگ': 10438, 'بپیوسته': 10439, 'آخته': 10440, 'برکشیدیم': 10441, 'ماکمین': 10442, 'کالانی': 10443, 'بربگیریم': 10444, 'انگشتر': 10445, 'بحصن': 10446, 'داستهانها': 10447, 'آماده': 10448, 'پردلی': 10449, 'فریدونت': 10450, 'پروردی': 10451, 'خارست': 10452, 'پرنیانست': 10453, 'دادگوش': 10454, 'دوستدارید': 10455, 'برکاستی': 10456, 'فسوسی': 10457, 'نیامان': 10458, 'کافرند': 10459, 'بدترند': 10460, 'دیدنست': 10461, 'پسندیدنست': 10462, 'شستی': 10463, 'پرشگفتی': 10464, 'ماهش': 10465, 'بارداشت': 10466, 'بارگران': 10467, 'دادآور': 10468, 'دورنگست': 10469, 'ننهادمی': 10470, 'خاراش': 10471, 'پلنگش': 10472, 'نازکتر': 10473, 'برافراشتندی': 10474, 'بیباک': 10475, 'سرگشت': 10476, 'رنگیست': 10477, 'مهربانتر': 10478, 'بخردانرا': 10479, 'هیبت': 10480, 'اندرپذیر': 10481, 'نشیمت': 10482, 'بچگانت': 10483, 'آزارت': 10484, 'افراشتش': 10485, 'آوردمت': 10486, 'علم': 10487, 'براوی': 10488, 'بفرمایدش': 10489, 'میازارش': 10490, 'راحت': 10491, 'آشکاراش': 10492, 'سارابد': 10493, 'برریختند': 10494, 'بیانداختم': 10495, 'بگماشتش': 10496, 'مدارم': 10497, 'چریدن': 10498, 'اخترگرای': 10499, 'فرخان': 10500, 'پورسام': 10501, 'هماناش': 10502, 'سیمنش': 10503, 'ناروان': 10504, 'ازمشک': 10505, 'برافراختش': 10506, 'عروسم': 10507, 'برودابه': 10508, 'پژمرانندهٔ': 10509, 'عاشقم': 10510, 'بحر': 10511, 'چگویید': 10512, 'پرو': 10513, 'مادران': 10514, 'پیرجوی': 10515, 'پیکارتان': 10516, 'گفتارتان': 10517, 'پیرخوانی': 10518, 'گشتمش': 10519, 'مهرجوی': 10520, 'بپریم': 10521, 'چدند': 10522, 'خشیشار': 10523, 'وشی': 10524, 'بترک': 10525, 'نیمروزست': 10526, 'ماهیست': 10527, 'کاب': 10528, 'بسانی': 10529, 'شنیدنش': 10530, 'مگوئید': 10531, 'نانهانست': 10532, 'نفگنید': 10533, 'پیلتان': 10534, 'عبیرست': 10535, 'وسمن': 10536, 'جعدش': 10537, 'صدرقم': 10538, 'فریبیم': 10539, 'سرمشک': 10540, 'ازگلستان': 10541, 'نفزایدی': 10542, 'دیار': 10543, 'ایمش': 10544, 'بهاخواستی': 10545, 'آشامشان': 10546, 'برنجیدت': 10547, 'غبغبش': 10548, 'گیسوم': 10549, 'نشکرید': 10550, 'فرمانها': 10551, 'تیرماه': 10552, 'رزان': 10553, 'لوح': 10554, 'توانای': 10555, 'بازآیدش': 10556, 'نگشتم': 10557, 'دینست': 10558, 'نیش': 10559, 'اندیشتر': 10560, 'چرانندهٔ': 10561, 'ستمها': 10562, 'دندانش': 10563, 'نراژدهاست': 10564, 'رسیدستم': 10565, 'نیاسوده': 10566, 'بجوئید': 10567, 'اندرد': 10568, 'فراخیش': 10569, 'شاره': 10570, 'درآیی': 10571, 'بیاوردمش': 10572, 'بنمایی': 10573, 'بگشایی': 10574, 'رابدو': 10575, 'خوابدار': 10576, 'ننمودمت': 10577, 'انگشتریست': 10578, 'دادخواهی': 10579, 'اویم': 10580, 'کندیش': 10581, 'نشناختش': 10582, 'بیاویختیم': 10583, 'نوآوردی': 10584, 'چرخش': 10585, 'یابمی': 10586, 'درمند': 10587, 'رودآب': 10588, 'روزگون': 10589, 'شرق': 10590, 'پرگوهران': 10591, 'ناهمالان': 10592, 'بایستها': 10593, 'سوگرای': 10594, 'ماکن': 10595, 'سرنهاده': 10596, 'پورکی': 10597, 'روئین': 10598, 'تکاورترند': 10599, 'خوانندشان': 10600, 'نمایندشان': 10601, 'کاکوی': 10602, 'سرباز': 10603, 'خمیدم': 10604, 'جستمش': 10605, 'برگسستم': 10606, 'لفج': 10607, 'سالارخواه': 10608, 'سالارجوی': 10609, 'وزاب': 10610, 'یلستم': 10611, 'فرمایم': 10612, 'پرندگان': 10613, 'آبگیرش': 10614, 'غرید': 10615, 'زفرش': 10616, 'برآهختم': 10617, 'گرزکین': 10618, 'باکوه': 10619, 'زرداب': 10620, 'سرآوردمی': 10621, 'چمانیدمی': 10622, 'تختگاه': 10623, 'گردگاهم': 10624, 'باژگونه': 10625, 'روزها': 10626, 'نیاموخت': 10627, 'زارتان': 10628, 'آبستنست': 10629, 'خونم': 10630, 'خواردار': 10631, 'پیروزهٔ': 10632, 'طرازش': 10633, 'مادهٔ': 10634, 'بازگردانم': 10635, 'آموختند': 10636, 'گرزت': 10637, 'باکی': 10638, 'بیبد': 10639, 'ضحاکم': 10640, 'بدگوهریم': 10641, 'دیگرید': 10642, 'لابهٔ': 10643, 'برآیند': 10644, 'بجنیبد': 10645, 'زباغ': 10646, 'بهتریست': 10647, 'رامشگریست': 10648, 'بستودش': 10649, 'رستست': 10650, 'نیابنده': 10651, 'داسی': 10652, 'نشیمش': 10653, 'بناها': 10654, 'یادکردن': 10655, 'بومهین': 10656, 'نقصان': 10657, 'شادب': 10658, 'درنگست': 10659, 'قرار': 10660, 'ورزیم': 10661, 'چادرست': 10662, 'داس': 10663, 'دروگر': 10664, 'زمانست': 10665, 'ببوسیدم': 10666, 'برگراییدش': 10667, 'نهنگانش': 10668, 'عاجست': 10669, 'بساطی': 10670, 'آمدنش': 10671, 'انجامش': 10672, 'اندوده': 10673, 'آفتابت': 10674, 'عقدی': 10675, 'یکزخم': 10676, 'بسپرده': 10677, 'سنگستم': 10678, 'سیمرغش': 10679, 'بکافد': 10680, 'بساو': 10681, 'برآلای': 10682, 'خستگیش': 10683, 'پیوستگیش': 10684, 'بشکفاندش': 10685, 'برومندت': 10686, 'دردگاهش': 10687, 'بسپوختند': 10688, 'شبانروز': 10689, 'نشاندندش': 10690, 'یلستی': 10691, 'هژبرا': 10692, 'نشایم': 10693, 'بسیمرغ': 10694, 'مسپر': 10695, 'برتند': 10696, 'بگرو': 10697, 'یاوری': 10698, 'بیماریی': 10699, 'آزاریی': 10700, 'درنوشت': 10701, 'ثنا': 10702, 'محالست': 10703, 'شایدش': 10704, 'نارفتن': 10705, 'ارجسپ': 10706, 'مانیده': 10707, 'ترگش': 10708, 'شکارند': 10709, 'سازدش': 10710, 'پیرگشته': 10711, 'رفتنم': 10712, 'آرمیدن': 10713, 'مژهٔ': 10714, 'سیرنادیده': 10715, 'مرگمان': 10716, 'ننهاده': 10717, 'دیدگانش': 10718, 'بیاوردن': 10719, 'زاوه': 10720, 'تپد': 10721, 'گذرهاش': 10722, 'دنب': 10723, 'لشکرآرای': 10724, 'قارنم': 10725, 'گوراب': 10726, 'تازیست': 10727, 'ازایدر': 10728, 'نبینمش': 10729, 'بخوشید': 10730, 'برانگیختن': 10731, 'آزمندی': 10732, 'بازگرداندت': 10733, 'جانشان': 10734, 'وهوی': 10735, 'نوذرا': 10736, 'تاجدارا': 10737, 'ببوید': 10738, 'گیایی': 10739, 'باردی': 10740, 'رکابست': 10741, 'ارمیده': 10742, 'برینیم': 10743, 'یلانند': 10744, 'تابند': 10745, 'ایوانهای': 10746, 'کانگیختی': 10747, 'بفرمودمت': 10748, 'ناهشیوار': 10749, 'کشتیست': 10750, 'طهماسپ': 10751, 'اسمان': 10752, 'رفتشان': 10753, 'ببخشند': 10754, 'دادگستر': 10755, 'اغریرثش': 10756, 'سپنجاب': 10757, 'بفشاردم': 10758, 'پاردم': 10759, 'ریزش': 10760, 'بیفشاردی': 10761, 'زرنگ': 10762, 'پولادسم': 10763, 'بازگیرد': 10764, 'داغش': 10765, 'فشردن': 10766, 'سپند': 10767, 'سوختندش': 10768, 'بفراز': 10769, 'ریمنند': 10770, 'میزبانیم': 10771, 'رسانی': 10772, 'خدمت': 10773, 'برطپید': 10774, 'لبالب': 10775, 'بم': 10776, 'نهادندی': 10777, 'خوابت': 10778, 'ببور': 10779, 'نغنوید': 10780, 'بجسته': 10781, 'علفزار': 10782, 'فشاندند': 10783, 'شگفتید': 10784, 'نخستینش': 10785, 'بخائید': 10786, 'نگرفتمش': 10787, 'دامغان': 10788, 'نمانند': 10789, 'فتادم': 10790, 'کشیدندم': 10791, 'زدندش': 10792, 'جستنت': 10793, 'آمدندم': 10794, 'دادندم': 10795, 'ارتنگ': 10796, 'میانچیست': 10797, 'آزمندیست': 10798, 'نیایند': 10799, 'ناراستی': 10800, 'سنانت': 10801, 'اسطخر': 10802, 'یکسرند': 10803, 'چراگاهشان': 10804, 'آرشش': 10805, 'بلورینش': 10806, 'خوشنوازم': 10807, 'مازندرانی': 10808, 'بوستانش': 10809, 'جویش': 10810, 'رزمجویش': 10811, 'هلاگ': 10812, 'بپیچیدش': 10813, 'نیاگانش': 10814, 'سرخاری': 10815, 'باکیقباد': 10816, 'بلرزند': 10817, 'دیرباز': 10818, 'همایونش': 10819, 'شدندنش': 10820, 'برآرامش': 10821, 'گردانش': 10822, 'پادشه': 10823, 'وزایدر': 10824, 'داورند': 10825, 'بردانشی': 10826, 'دانستم': 10827, 'زدگاه': 10828, 'زیاد': 10829, 'بتکده': 10830, 'بهشتند': 10831, 'گلنارشان': 10832, 'قارست': 10833, 'سپوز': 10834, 'ننهد': 10835, 'پندهای': 10836, 'یادآورم': 10837, 'بشکن': 10838, 'برآرزوی': 10839, 'امیدداری': 10840, 'بتابنده': 10841, 'تیرآتشی': 10842, 'بریانش': 10843, 'سوارم': 10844, 'نیکوسرین': 10845, 'کابشخور': 10846, 'سراور': 10847, 'سرخفته': 10848, 'گرفتت': 10849, 'شمشمیر': 10850, 'نارمید': 10851, 'صداندرصد': 10852, 'نیرمم': 10853, 'نمکدان': 10854, 'ریچال': 10855, 'طنبور': 10856, 'رهاست': 10857, 'آفرینها': 10858, 'جام،': 10859, 'گیاکرد': 10860, 'برگنبد': 10861, 'افشانده': 10862, 'سرافگند': 10863, 'پیمایش': 10864, 'پاسبانند': 10865, 'گذارندهٔ': 10866, 'سنگلاخست': 10867, 'بسایدت': 10868, 'درآویخت': 10869, 'بکندش': 10870, 'بدریدشان': 10871, 'غریوید': 10872, 'گذارت': 10873, 'کزویند': 10874, 'درمانش': 10875, 'چکانی': 10876, 'گرست': 10877, 'پرسیدمت': 10878, 'ناستاد': 10879, 'تیزش': 10880, 'ژیانی': 10881, 'فرخترست': 10882, 'خرمند': 10883, 'پولادخایان': 10884, 'لقبشان': 10885, 'استخوانها': 10886, 'انداخته': 10887, 'پرغریو': 10888, 'سرکنی': 10889, 'فرا': 10890, 'دورداشت': 10891, 'فروریخته': 10892, 'رگشان': 10893, 'گبرش': 10894, 'کاوردم': 10895, 'بارشان': 10896, 'برزنند': 10897, 'بخوابیم': 10898, 'باژجوی': 10899, 'بمهمانی': 10900, 'برخاسته': 10901, 'بگرددت': 10902, 'سپهرستش': 10903, 'درمیانش': 10904, 'اندرآویخت': 10905, 'مدام': 10906, 'لحد': 10907, 'حصنش': 10908, 'پرکارزار': 10909, 'بپیوستن': 10910, 'نرفتن': 10911, 'زندانت': 10912, 'هماور': 10913, 'سکون': 10914, 'هولش': 10915, 'برآراستند': 10916, 'بگداخت': 10917, 'صدهزارند': 10918, 'لگامی': 10919, 'بسودابه': 10920, 'نوردید': 10921, 'مردافگن': 10922, 'مردوار': 10923, 'دلیرانشان': 10924, 'بفگنید': 10925, 'تاجدارنش': 10926, 'بفرمو': 10927, 'عنبرین': 10928, 'نغزدست': 10929, 'زیباش': 10930, 'چربدستی': 10931, 'سوزش': 10932, 'پرورانیدشان': 10933, 'قماری': 10934, 'ازن': 10935, 'اهریمنش': 10936, 'پریدند': 10937, 'گیردش': 10938, 'پرهاب': 10939, 'شیرچین': 10940, 'نشنیدم': 10941, 'بارت': 10942, 'سرکشیدن': 10943, 'بفریادرس': 10944, 'دلیرت': 10945, 'نغنویم': 10946, 'رزمجو': 10947, 'بلبلی': 10948, 'بروبومش': 10949, 'بگذشته': 10950, 'شادروان': 10951, 'رمیدند': 10952, 'رزمدیده': 10953, 'کالکوس': 10954, 'بازنگشاد': 10955, 'تندبادی': 10956, 'دانیمش': 10957, 'ایمان': 10958, 'برفروزید': 10959, 'نسخت': 10960, 'امدش': 10961, 'پویم': 10962, 'عنا': 10963, 'فسار': 10964, 'مهانرا': 10965, 'رودسازان': 10966, 'معنبر': 10967, 'داستانت': 10968, 'پورم': 10969, 'بگیسوی': 10970, 'وبنمود': 10971, 'نبایدکه': 10972, 'بخواندت': 10973, 'دلارو': 10974, 'ازدر': 10975, 'بدامم': 10976, 'کاویخت': 10977, 'بشکفد': 10978, 'نراندکسی': 10979, 'شیرزن': 10980, 'پیگارمان': 10981, 'سهرابش': 10982, 'شکیبیم': 10983, 'نکوشیم': 10984, 'زاشتاب': 10985, 'بندافگند': 10986, 'برفرازند': 10987, 'اینسان': 10988, 'شیربوی': 10989, 'نماییم': 10990, 'پرخمار': 10991, 'خشمگین': 10992, 'نشورد': 10993, 'بردارکن': 10994, 'برکن': 10995, 'آزاردم': 10996, 'برآوردی': 10997, 'رامشگهی': 10998, 'عارضان': 10999, 'خنیاگران': 11000, 'برگشاده': 11001, 'ترکوار': 11002, 'خیناگران': 11003, 'غنود': 11004, 'پاسدار': 11005, 'کجاپیل': 11006, 'بویر': 11007, 'باورش': 11008, 'برکران': 11009, 'پیکرگراز': 11010, 'دردر': 11011, 'کشورست': 11012, 'جویداندر': 11013, 'اسان': 11014, 'سیخ': 11015, 'رمید': 11016, 'همرو': 11017, 'بالت': 11018, 'تپه': 11019, 'گاهم': 11020, 'بافتند': 11021, 'رسانیدم': 11022, 'خرست': 11023, 'بپچید': 11024, 'نوخاسته': 11025, 'خونخواره': 11026, 'منبرست': 11027, 'ماسخت': 11028, 'بیامی': 11029, 'خاستست': 11030, 'بایک': 11031, 'بگماشتیم': 11032, 'یکتنه': 11033, 'ستبری': 11034, 'بیفشاردم': 11035, 'کسانش': 11036, 'آوردخواه': 11037, 'ندارت': 11038, 'ازهزار': 11039, 'نشنیم': 11040, 'شرمم': 11041, 'کودکم': 11042, 'بسترست': 11043, 'شمشیرگیر': 11044, 'افگندنش': 11045, 'جوانمردیش': 11046, 'پرانده': 11047, 'راکنان': 11048, 'پیگارش': 11049, 'ببازید': 11050, 'بیگناهی': 11051, 'مرابرکشید': 11052, 'بکویند': 11053, 'بیالودی': 11054, 'براندام': 11055, 'بودمت': 11056, 'ذره': 11057, 'بدتریست': 11058, 'گمانشان': 11059, 'ترادل': 11060, 'صدگزند': 11061, 'رفتنیست': 11062, 'یادست': 11063, 'نوشدارو': 11064, 'سزاوارم': 11065, 'کشتمش': 11066, 'آرزوگاه': 11067, 'داغدل': 11068, 'جگربند': 11069, 'برانگیختش': 11070, 'سرانند': 11071, 'اندوهت': 11072, 'اوگش': 11073, 'پنچاه': 11074, 'بتقویم': 11075, 'دغوی': 11076, 'علوفه': 11077, 'گیوای': 11078, 'گرسیوزم': 11079, 'پروزم': 11080, 'بیید': 11081, 'بستهید': 11082, 'خودمگوی': 11083, 'گرمگوی': 11084, 'بگذارنیم': 11085, 'بیوز': 11086, 'گوزنست': 11087, 'دلبرست': 11088, 'خاتونیم': 11089, 'فریدونیم': 11090, 'بیراستندش': 11091, 'برنیمد': 11092, 'ززم': 11093, 'شاهانم': 11094, 'براندوه': 11095, 'تیع': 11096, 'کهستان': 11097, 'ماوراء': 11098, 'النهر': 11099, 'مجویم': 11100, 'بابند': 11101, 'ازخون': 11102, 'هرکت': 11103, 'پژوهد': 11104, 'آنجایگه': 11105, 'کآفتاب': 11106, 'دگرگاه': 11107, 'آموزم': 11108, 'پردگی': 11109, 'بییم': 11110, 'سپهد': 11111, 'پیشباز': 11112, 'بیراسته': 11113, 'بپساو': 11114, 'بربندگان': 11115, 'زیرکاه': 11116, 'بسرشتشان': 11117, 'شمارنده': 11118, 'پوشه': 11119, 'داراد': 11120, 'بیوفایی': 11121, 'تراکیست': 11122, 'نشایی': 11123, 'نیید': 11124, 'بیمیخت': 11125, 'نگارین': 11126, 'مادری': 11127, 'ارجمندش': 11128, 'سربپیچد': 11129, 'رستخیزست': 11130, 'بودبند': 11131, 'مهترپرستان': 11132, 'نکردمش': 11133, 'ببادافرهٔ': 11134, 'بسودن': 11135, 'بفتاد': 11136, 'صرلاب': 11137, 'پدیدند': 11138, 'فزونستشان': 11139, 'پژوهیم': 11140, 'دمیدن': 11141, 'روشنتر': 11142, 'خندانش': 11143, 'بیگناهم': 11144, 'آفرینم': 11145, 'تپش': 11146, 'بزاید': 11147, 'شوخیت': 11148, 'بخشیدمش': 11149, 'گرمتر': 11150, 'پرورنده': 11151, 'سپرور': 11152, 'گوزاده': 11153, 'همراهتان': 11154, 'بدخواهتان': 11155, 'گوپیلتن': 11156, 'بشدبا': 11157, 'چانچون': 11158, 'باتاج': 11159, 'بدپیشه': 11160, 'کلاهست': 11161, 'تب': 11162, 'سختم': 11163, 'نیزهاشان': 11164, 'برانگیختندی': 11165, 'بادسر': 11166, 'خروشیدمی': 11167, 'بیدرای': 11168, 'بپر': 11169, 'ببسیج': 11170, 'بیپمای': 11171, 'سغدیم': 11172, 'گوسیوز': 11173, 'آنراکه': 11174, 'پرسیدن': 11175, 'بازگشتش': 11176, 'بشتی': 11177, 'برآمده': 11178, 'بپیچیدتان': 11179, 'کآتشی': 11180, 'سازگیری': 11181, 'نگشتیم': 11182, 'بازگسترده': 11183, 'شوکین': 11184, 'کاشفته': 11185, 'نپرسد': 11186, 'شوربختیم': 11187, 'بگزایدم': 11188, 'وراگر': 11189, 'بازآرد': 11190, 'سرتان': 11191, 'نشنوم': 11192, 'ببایستها': 11193, 'نوازد': 11194, 'بداردش': 11195, 'فرزندوار': 11196, 'کنندم': 11197, 'نفرمایم': 11198, 'مپیچد': 11199, 'عروسیست': 11200, 'باطوق': 11201, 'پرنیایی': 11202, 'پرستندگانند': 11203, 'پیان': 11204, 'مشکنی': 11205, 'دیگرم': 11206, 'خویشیست': 11207, 'بیامیزی': 11208, 'بشکیبد': 11209, 'زربفتها': 11210, 'بباده': 11211, 'مایی': 11212, 'یکتا': 11213, 'ربودند': 11214, 'اسپریس': 11215, 'مکیس': 11216, 'برافشارد': 11217, 'مغربل': 11218, 'میی': 11219, 'هیمدون': 11220, 'بیاخت': 11221, 'نگسلی': 11222, 'گلی': 11223, 'گرسیوزاند': 11224, 'پروزاند': 11225, 'چهارند': 11226, 'فرونتر': 11227, 'توانش': 11228, 'امیدش': 11229, 'نشانت': 11230, 'نیکوگمان': 11231, 'راندندی': 11232, 'مگرو': 11233, 'پوشیدینها': 11234, 'بیاراستن': 11235, 'اباگرد': 11236, 'برنشستن': 11237, 'بازنگسست': 11238, 'بدگمانیش': 11239, 'یکماه': 11240, 'بختم': 11241, 'وگرکار': 11242, 'گرددت': 11243, 'حکمت': 11244, 'غفلت': 11245, 'کوهها': 11246, 'گرماش': 11247, 'سرماش': 11248, 'بپیمایدش': 11249, 'هامونی': 11250, 'جایها': 11251, 'رخام': 11252, 'جوهری': 11253, 'پنچ': 11254, 'نیکنامیت': 11255, 'پپمان': 11256, 'آگهم': 11257, 'آراید': 11258, 'پراگندم': 11259, 'بگستر': 11260, 'وزگوشوار': 11261, 'ابراندر': 11262, 'نبودیت': 11263, 'نگاریدش': 11264, 'برومندش': 11265, 'همتاکسی': 11266, 'دلاورترم': 11267, 'برنشان': 11268, 'پرگره': 11269, 'رهشان': 11270, 'رخسارهٔ': 11271, 'بدسگالم': 11272, 'مرغزارش': 11273, 'پناه؟': 11274, 'ماه؟': 11275, 'اندوخته': 11276, 'کژیی': 11277, 'سروبالا': 11278, 'بداندیشه': 11279, 'اندرآمیختی': 11280, 'برنخیزی': 11281, 'درآوردی': 11282, 'آزاردت': 11283, 'نیامیختند': 11284, 'شدستند': 11285, 'برنیفراختی': 11286, 'گمانه': 11287, 'کردت': 11288, 'تیزدل': 11289, 'برنشانده': 11290, 'بیخش': 11291, 'هرچونک': 11292, 'اندرخورم': 11293, 'بغنوید': 11294, 'نالندگی': 11295, 'نهانم': 11296, 'باشتاب': 11297, 'بدفریب': 11298, 'نپویی': 11299, 'کراگیری': 11300, 'چبودت': 11301, 'آبستنی': 11302, 'خواهدت': 11303, 'نشانند': 11304, 'فسارش': 11305, 'افعی': 11306, 'مرکبان': 11307, 'برآشفتن': 11308, 'کنیدش': 11309, 'بریزید': 11310, 'سربریدن': 11311, 'مگستر': 11312, 'بخروشد': 11313, 'خیزم': 11314, 'نیازردتی': 11315, 'کشتنست': 11316, 'بردت': 11317, 'برشناند': 11318, 'ربایی': 11319, 'برگرددت': 11320, 'بخروشدی': 11321, 'نجنبیند': 11322, 'ارغوانرا': 11323, 'زنندش': 11324, 'زاریی': 11325, 'گوسفندانش': 11326, 'درنامور': 11327, 'آرمیده': 11328, 'پیچاره': 11329, 'پرستاروار': 11330, 'گلهشر': 11331, 'خرامنده': 11332, 'خسپی': 11333, 'برگذشتست': 11334, 'افسونگرا': 11335, 'مداریدش': 11336, 'اندرمیان': 11337, 'نیاموزد': 11338, 'قلا': 11339, 'خرس': 11340, 'بیاویزدم': 11341, 'مهربانت': 11342, 'خسروآرای': 11343, 'پرورانیدش': 11344, 'بشینید': 11345, 'ایمنم': 11346, 'بشگای': 11347, 'پرسمش': 11348, 'خاکی': 11349, 'برگها': 11350, 'عنانم': 11351, 'عصا': 11352, 'لحن': 11353, 'برندهٔ': 11354, 'نسرین': 11355, 'گیتیم': 11356, 'خواهشگرست': 11357, 'سوگناک': 11358, 'پراگندی': 11359, 'تخمت': 11360, 'نشینی': 11361, 'ناکاردیده': 11362, 'کشندم': 11363, 'اندرفگند': 11364, 'برافروختم': 11365, 'انگیخته': 11366, 'بکرده': 11367, 'فرهنگش': 11368, 'پیلت': 11369, 'زورم': 11370, 'ناورند': 11371, 'شانهٔ': 11372, 'گردافگن': 11373, 'برنهندش': 11374, 'ببردندشان': 11375, 'کدخدا': 11376, 'سغدش': 11377, 'ایوز': 11378, 'نپردازم': 11379, 'ماکان': 11380, 'جفاگر': 11381, 'توختیم': 11382, 'سوختیم': 11383, 'منگر': 11384, 'نخارد': 11385, 'جاویدت': 11386, 'مردمست': 11387, 'پیرزو': 11388, 'نگهدارش': 11389, 'درکش': 11390, 'پشهٔ': 11391, 'بیاویختی': 11392, 'بربیختی': 11393, 'برگشادنت': 11394, 'گوز': 11395, 'خمیدست': 11396, 'نیونیست': 11397, 'اندرزش': 11398, 'نقطهٔ': 11399, 'پردشمنست': 11400, 'نیوشی': 11401, 'جویبارست': 11402, 'ببسای': 11403, 'نعلت': 11404, 'کاهرمن': 11405, 'اورندی': 11406, 'پاسبانیم': 11407, 'ترگی': 11408, 'پیمودن': 11409, 'نمودید': 11410, 'مرارفت': 11411, 'فشاندن': 11412, 'میانچی': 11413, 'مورست': 11414, 'گوزنی': 11415, 'هزارید': 11416, 'وگران': 11417, 'قفای': 11418, 'رادست': 11419, 'وراگوش': 11420, 'کاسپم': 11421, 'کاسان': 11422, 'رایافتست': 11423, 'نفسش': 11424, 'وپایم': 11425, 'آورمشان': 11426, 'پیمایی': 11427, 'گیرت': 11428, 'دلفزایم': 11429, 'رهنمایم': 11430, 'جوشنور': 11431, 'خرمندش': 11432, 'پدرودمان': 11433, 'باژبان': 11434, 'گاوشیدان': 11435, 'نخندیدمی': 11436, 'دیوست': 11437, 'پرخاشجویم': 11438, 'بدرم': 11439, 'کندآورست': 11440, 'کیسخرو': 11441, 'یالت': 11442, 'شکاف': 11443, 'گاهند': 11444, 'زبرجدنگار': 11445, 'طوقی': 11446, 'تراک': 11447, 'تگرگی': 11448, 'طاقهای': 11449, 'بدردیم': 11450, 'سبزش': 11451, 'بنداندرست': 11452, 'زال،': 11453, 'اوای': 11454, 'مانندگی': 11455, 'مشکاب': 11456, 'خستگانند': 11457, 'ویژهٔار': 11458, 'کاوسشان': 11459, 'لواده': 11460, 'هشتادو': 11461, 'افگنست': 11462, 'ماهرویست': 11463, 'دلبر': 11464, 'بیابدش': 11465, 'آندرآمیخته': 11466, '«ره': 11467, 'کنم»': 11468, 'فسردست': 11469, 'بزاولستان': 11470, 'ساوش': 11471, 'یاسمن': 11472, 'بفراخته': 11473, 'جستیش': 11474, 'خوچ': 11475, 'پیکرآهو': 11476, 'پیکرهمای': 11477, 'رادبا': 11478, 'سندروسست': 11479, 'دمت': 11480, 'ناپدیدند': 11481, 'رنجیم': 11482, 'بمژگان': 11483, 'سازگار': 11484, 'زآرزو': 11485, 'کلاتست': 11486, 'کینخواه': 11487, 'جدای': 11488, 'سرایند': 11489, 'چت': 11490, 'بآسمان': 11491, 'پلنگست': 11492, 'آهویش': 11493, 'شیرمردند': 11494, 'فروداشت': 11495, 'فروهشتن': 11496, 'همانانیندیشد': 11497, 'ییک': 11498, 'گودرزیانش': 11499, 'کاویانست': 11500, 'بدوییم': 11501, 'فرودی': 11502, 'فرودم': 11503, 'بتگر': 11504, 'بپرگار': 11505, 'سگالیم': 11506, 'نوذرم': 11507, 'مپرسش': 11508, 'هیچگونه': 11509, 'همزاد': 11510, 'وراگردن': 11511, 'خواهرستش': 11512, 'بخوابمش': 11513, 'کلکم': 11514, 'خمانیده': 11515, 'لشکریست': 11516, 'زسر': 11517, 'پراب': 11518, 'مینداز': 11519, 'درپرستنده': 11520, 'براوهای': 11521, 'بازآمدی': 11522, 'کشن': 11523, 'بخونست': 11524, 'جمست': 11525, 'پیکرند': 11526, 'بگوکین': 11527, 'نیلست': 11528, 'خدنگت': 11529, 'قبضهٔ': 11530, 'برگیو': 11531, 'بکیفر': 11532, 'بافراز': 11533, 'مردمرد': 11534, 'بگردنده': 11535, 'پرفراز': 11536, 'بارگیر': 11537, 'کدامت': 11538, 'برفگندند': 11539, 'گرامیترستش': 11540, 'برنگشت': 11541, 'بپستی': 11542, 'شرمت': 11543, 'پرجوشن': 11544, 'میانرا': 11545, 'بزخمی': 11546, 'وباره': 11547, 'ببازیگری': 11548, 'زکیخسرو': 11549, 'فرستادتان': 11550, 'دادتان': 11551, 'آذرم': 11552, 'هماننگه': 11553, 'بعطر': 11554, 'زراسپ': 11555, 'تران': 11556, 'کبابش': 11557, 'خاکستر': 11558, 'عمودگران': 11559, 'برها': 11560, 'کاذرگشسپ': 11561, 'نیازردیم': 11562, 'ندار': 11563, 'برران': 11564, 'بشایستگی': 11565, 'فرستندهٔ': 11566, 'نمایمت': 11567, 'مرزبانم': 11568, 'اینکه': 11569, 'اایدونک': 11570, 'ستانمت': 11571, 'نگینست': 11572, 'مراجوی': 11573, 'آبار': 11574, 'بدبند': 11575, 'سبکبار': 11576, 'نستهین': 11577, 'غریدن': 11578, 'باورد': 11579, 'میگسارند': 11580, 'بافیدن': 11581, 'اوردگاه': 11582, 'برشتابید': 11583, 'تنانشان': 11584, 'خستگانرا': 11585, 'درازیم': 11586, 'چهه': 11587, 'فرازآور': 11588, 'کمباد': 11589, 'روزکار': 11590, 'مسماری': 11591, 'بلاجست': 11592, 'برانید': 11593, 'پامس': 11594, 'برسوی': 11595, 'برنگاشت': 11596, 'برنتابیم': 11597, 'بیفشاردند': 11598, 'بگذاردند': 11599, 'ننگها': 11600, 'برامد': 11601, 'بابراندر': 11602, 'افراشتم': 11603, 'شیبش': 11604, 'نگارست': 11605, 'برگشتگان': 11606, 'بازدانست': 11607, 'خستگیست': 11608, 'نابستگیست': 11609, 'نگذارد': 11610, 'بپیرامنش': 11611, 'باتنت': 11612, 'بیناو': 11613, 'بارگیست': 11614, 'بمهرش': 11615, 'بتیرش': 11616, 'وراکار': 11617, 'بهرامشان': 11618, 'پرخسته': 11619, 'چهراوی': 11620, 'بازآمدش': 11621, 'بتابوت': 11622, 'بیفکند': 11623, 'کاینک': 11624, 'گوربان': 11625, 'ونهاد': 11626, 'تژاوش': 11627, 'گردآمدند': 11628, 'بگذرانیم': 11629, 'درددل': 11630, 'زینت': 11631, 'برشماری': 11632, 'بنامش': 11633, 'شرمگین': 11634, 'شک': 11635, 'بماتم': 11636, 'بدسپاه': 11637, 'برفروزم': 11638, 'گنهکارم': 11639, 'خویشم': 11640, 'شادمانیست': 11641, 'گرگین،': 11642, 'سرفشانیم': 11643, 'تیمارکش': 11644, 'گفتتها': 11645, 'کزایران': 11646, 'فریبش': 11647, 'برسرافشان': 11648, 'نجویید': 11649, 'بارژنگ': 11650, 'دستشان': 11651, 'جنگجویی': 11652, 'وپیوند': 11653, 'سپهبدسر': 11654, 'کفشیر': 11655, 'برایم': 11656, 'بشخودنی': 11657, 'نهل': 11658, 'شطرخ': 11659, 'اندرارید': 11660, 'گزارند': 11661, 'بدانسته': 11662, 'تواناتر': 11663, 'گودز': 11664, 'براریم': 11665, 'اهنگ': 11666, 'جایم': 11667, 'نیفزایدت': 11668, 'پیروزه،': 11669, 'براورد': 11670, 'کشتنگان': 11671, 'بیاسا': 11672, 'مولیدن': 11673, 'بیاری،': 11674, 'دستیابی': 11675, 'برفتید': 11676, 'مجنب': 11677, 'رزمگاهت': 11678, 'رفتستی': 11679, 'گرزگران': 11680, 'گوپالها': 11681, 'گرفتندشان': 11682, 'مفگنید': 11683, 'شیدوش،': 11684, 'یارمان': 11685, 'زاولستانست': 11686, 'گرزور': 11687, 'شمشیردار': 11688, 'ببالینشان': 11689, 'پروارنندهٔ': 11690, 'چاکرست': 11691, 'بتست': 11692, 'بردید': 11693, 'رکیبست': 11694, 'بتی': 11695, 'گلستانست': 11696, 'بویند': 11697, 'بشتابیش': 11698, 'مرند': 11699, 'خارگر': 11700, 'سرافرازان': 11701, 'غرچه': 11702, 'گردسوز': 11703, 'نیازند': 11704, 'بداند،': 11705, 'مستمندند': 11706, 'آغازشان': 11707, 'بختیست': 11708, 'انوشهٔ': 11709, 'بپاکیزه': 11710, 'باندرز': 11711, 'کفنها': 11712, 'برویم': 11713, 'شتابیم': 11714, 'جرسها': 11715, 'دشکن': 11716, 'یران': 11717, 'ترسانی': 11718, 'بگیتیش': 11719, 'بافتستند': 11720, 'هراسیم': 11721, 'دارانش': 11722, 'پهوان': 11723, 'دیده،': 11724, 'گفتگویست': 11725, 'غمهای': 11726, 'دلگشاده': 11727, 'گزافست': 11728, 'یپروزه': 11729, 'بیوسید': 11730, 'بزنگ': 11731, 'باروان': 11732, 'کوفتست': 11733, 'آشوفتست': 11734, 'دلیان': 11735, 'اورد': 11736, 'بیاموزمت': 11737, 'سراری': 11738, 'برآسایی': 11739, 'برآنگه': 11740, 'سوفارش': 11741, 'بپهنای': 11742, 'بازپرسم': 11743, 'گرانست': 11744, 'برشمردی': 11745, 'گرا': 11746, 'یدونک': 11747, 'رزمگاها': 11748, 'رزمسازست': 11749, 'بپروردش': 11750, 'ستیر': 11751, 'داروبرد': 11752, 'بدخواهش': 11753, 'بدیوانگی': 11754, 'مدم': 11755, 'افگندش': 11756, 'بیچید': 11757, 'نگرفت': 11758, 'نیندازد': 11759, 'همورد': 11760, 'ازینست': 11761, 'نرا': 11762, 'کشیدنت': 11763, 'نژادت': 11764, 'نوار': 11765, 'بنرمی': 11766, 'نپوشید': 11767, 'خوکردهٔ': 11768, 'گوشست': 11769, 'بوسپاسست': 11770, 'پیرانت': 11771, 'نتابند': 11772, 'ندیدمش': 11773, 'ببینیش': 11774, 'خمست': 11775, 'پیلبازی': 11776, 'خرامیدم': 11777, 'گیران': 11778, 'کدامی': 11779, 'رنجا': 11780, 'گرفتارم': 11781, 'برگاشتم': 11782, 'گریزست': 11783, 'آوردن': 11784, 'ندیدستم': 11785, 'نفرماید': 11786, 'ژرفست': 11787, 'تختند': 11788, 'شمارند': 11789, 'بمنشور': 11790, 'بسوزیم': 11791, 'خاکسترش': 11792, 'اگهی': 11793, 'بپیگار': 11794, 'گاوت': 11795, 'بپسیچم': 11796, 'بخویشان': 11797, 'مغزها': 11798, 'کهٔ': 11799, 'رنگار': 11800, 'پیامت': 11801, 'بپیر': 11802, 'بزرگند': 11803, 'بغلتی': 11804, 'پراکند': 11805, 'گاوچهر': 11806, 'گرداوژن': 11807, 'برانداختی': 11808, 'صفهای': 11809, 'غوطه': 11810, 'جویهای': 11811, 'شیرخوست': 11812, 'بدروان': 11813, 'زینهاریت': 11814, 'مچخ': 11815, 'ناگرفته': 11816, 'مبخش': 11817, 'بغلتیم': 11818, 'بشمریم': 11819, 'نامهربان': 11820, 'گرودن': 11821, 'ناباکی': 11822, 'سپردید': 11823, 'نترسیدم': 11824, 'نهار': 11825, '«و»': 11826, 'رهانیدیم': 11827, 'پرورانیدیم': 11828, 'سورست': 11829, 'پرستندگانی': 11830, 'زرهدار': 11831, 'اوبهم': 11832, 'عنانت': 11833, 'شکستش': 11834, 'بزادی': 11835, 'کمندافگنی': 11836, 'برآودر': 11837, 'نبدکس': 11838, 'ببدسازگاری': 11839, 'بکندن': 11840, 'دژکنده': 11841, 'بگشتیم': 11842, 'خوشان': 11843, 'بزرگیت': 11844, 'آزادگانست': 11845, 'جنگها': 11846, 'بفرغار': 11847, 'پهلومنش': 11848, 'بکارآگهی': 11849, 'ببیگانگان': 11850, 'گرگوی': 11851, 'بالشکر': 11852, 'هراسانم': 11853, 'ننالد': 11854, 'جوشنستش': 11855, 'یارمندست': 11856, 'اورده': 11857, 'برگیرم': 11858, 'آورانرا': 11859, 'انچ': 11860, 'باندیشهٔ': 11861, 'برآغال': 11862, 'دببند': 11863, 'نفگند': 11864, 'نیایید': 11865, 'بیافروزدش': 11866, 'نیستتان': 11867, 'آکنون': 11868, 'صنج': 11869, 'پولادوندست': 11870, 'بخستی': 11871, 'خوبکاری': 11872, 'دوامست': 11873, 'افشاندی': 11874, 'درازش': 11875, 'ششتری': 11876, 'فلسفه': 11877, 'معنیش': 11878, 'یادآوری': 11879, 'شمالی': 11880, 'سانش': 11881, 'دواندین': 11882, 'ببش': 11883, 'کیانیش': 11884, 'اکوانش': 11885, 'برافراشتش': 11886, 'اندازم': 11887, 'استخوانم': 11888, 'سازدم': 11889, 'واژگونه': 11890, 'بکوهم': 11891, 'فگندنت': 11892, 'بکارش': 11893, 'بمالیدش': 11894, 'سرآسیمه': 11895, 'سرافرازشان': 11896, 'شتابندگان': 11897, 'زدندانهای': 11898, 'اشکرم': 11899, 'روزمی': 11900, 'انسان': 11901, 'پرزاغ': 11902, 'شمعت': 11903, 'خوبت': 11904, 'هاروت': 11905, 'امشبم': 11906, 'بازگونی': 11907, 'چگفت': 11908, 'بگویمت': 11909, 'بشعر': 11910, 'ببگماز': 11911, 'بوای': 11912, 'نسترن': 11913, 'سای': 11914, 'سالاربار': 11915, 'بپایند': 11916, 'ارمانش': 11917, 'شهر،': 11918, 'ندرایم': 11919, 'بدندانشان': 11920, 'جوانم': 11921, 'همیش': 11922, 'بچشمش': 11923, 'بدنامی': 11924, 'ترسید': 11925, 'جوانوار': 11926, 'باباز': 11927, 'رفتنا': 11928, 'کامجویش': 11929, 'وبن': 11930, 'آفتابش': 11931, 'برخسارگان': 11932, 'سیاوشیا': 11933, 'بمهرت': 11934, 'جوشیا': 11935, 'شکفت': 11936, 'ایرانم': 11937, 'بتخانهٔ': 11938, 'سرایید': 11939, 'برنجانی': 11940, 'هوشبر': 11941, 'برا': 11942, 'بدربان': 11943, 'راندا': 11944, 'بجنباندا': 11945, 'دختت': 11946, 'گرفتندگرد': 11947, 'بچوشید': 11948, 'ساق': 11949, 'بسوگندها': 11950, 'کردکای': 11951, 'بزرو': 11952, 'برانداختم': 11953, 'دربیامد': 11954, 'اسبم': 11955, 'فسونی': 11956, 'کوشید': 11957, 'پیراهنا': 11958, 'بنید': 11959, 'ریمنا': 11960, 'نامرد': 11961, 'ناخسته': 11962, 'گفتمت': 11963, 'بگسلانند': 11964, 'پیوندمان': 11965, 'آمیختی': 11966, 'کهترا': 11967, 'بنگرا': 11968, 'گستردیا': 11969, 'خوردیا': 11970, 'پولادچنگ': 11971, 'بدهنر': 11972, 'رسوایی': 11973, 'برسوایی': 11974, 'پاکیزهٔ': 11975, 'بپایش': 11976, 'خایسک': 11977, 'نگونش': 11978, 'چدی': 11979, 'بسوراخ': 11980, 'رزمزن': 11981, 'گرگینش': 11982, 'گستردی': 11983, 'بگلسد': 11984, 'بجایش': 11985, 'کزاز': 11986, 'برگاشتیم': 11987, 'فگندیمشان': 11988, 'بکندیمشان': 11989, 'سیمش': 11990, 'تازیدن': 11991, 'کشتنا': 11992, 'بجانش': 11993, 'بجانست': 11994, 'زرنج': 11995, 'بدندانها': 11996, 'بکنید': 11997, 'بپولادگر': 11998, 'مسمارسر': 11999, 'یابما': 12000, 'بشتابما': 12001, 'نشاندت': 12002, 'فشاندت': 12003, 'پوشدا': 12004, 'بخروشدا': 12005, 'برازد': 12006, 'اندون': 12007, 'جهاندارا': 12008, 'فسونگرا': 12009, 'بچاهی': 12010, 'ماسا': 12011, 'دما': 12012, 'بیمت': 12013, 'ببرز': 12014, 'گشایندگان': 12015, 'جاهشان': 12016, 'یکتاهشان': 12017, 'اینرا': 12018, 'چنانکم': 12019, 'بساند': 12020, 'بصحرا': 12021, 'بلنگ': 12022, 'درام': 12023, 'نخچیرگو': 12024, 'هرتنا': 12025, 'بشناختم': 12026, 'نبایستمی': 12027, 'بادیا': 12028, 'بزدادیا': 12029, 'نمایست': 12030, 'مردمکشان': 12031, 'بپشش': 12032, 'کهترنواز': 12033, 'شهریورت': 12034, 'سفندارمذ': 12035, 'خردادت': 12036, 'مرداد': 12037, 'اورمزدت': 12038, 'دیت': 12039, 'بهیها': 12040, 'بفشاندی': 12041, 'بیپش': 12042, 'مرامادر': 12043, 'بهرسان': 12044, 'بمژگانم': 12045, 'رادمردی': 12046, 'گسترانی': 12047, 'بغلتم': 12048, 'داستانش': 12049, 'بیفروزم': 12050, 'رهاگشتی': 12051, 'بدارای': 12052, 'بدرخشدش': 12053, 'رهانیدش': 12054, 'بجنباندش': 12055, 'ببسیچم': 12056, 'زرو': 12057, 'آنچش': 12058, 'برکشورش': 12059, 'بپوشیدشان': 12060, 'تهمورثی': 12061, 'زیورش': 12062, 'ببازارگانی': 12063, 'گیردم': 12064, 'باردم': 12065, 'مویشان': 12066, 'نفشاند': 12067, 'وبنواختش': 12068, 'خویشت': 12069, 'رهنمایی': 12070, 'بکلبه': 12071, 'بستین': 12072, 'بدانت': 12073, 'بسودست': 12074, 'سالارنو': 12075, 'مرانم': 12076, 'چبود': 12077, 'رستخیزت': 12078, 'دویدم': 12079, 'نترسیدی': 12080, 'گردگرد': 12081, 'فرازآورم': 12082, 'دیدگانم': 12083, 'سنگست': 12084, 'نینگیزی': 12085, 'بجوشدش': 12086, 'بخوالیگرش': 12087, 'بدستار': 12088, 'دستگاهی': 12089, 'پراومید': 12090, 'خندیدنی': 12091, 'خندیدنش': 12092, 'خندست': 12093, 'خندد': 12094, 'برکاستست': 12095, 'رخشی': 12096, 'لالهٔ': 12097, 'رخرا': 12098, 'بدرانم': 12099, 'براندازم': 12100, 'رستیم': 12101, 'بهیزم': 12102, 'ببربر': 12103, 'گردگه': 12104, 'داست': 12105, 'گرافتد': 12106, 'گدازیده': 12107, 'گردانت': 12108, 'بداماد': 12109, 'نریزدش': 12110, 'ندانندمان': 12111, 'خوانندمان': 12112, 'دیدگه': 12113, 'زهرآبدار': 12114, 'رابسی': 12115, 'زگردان': 12116, 'کزایرانیان': 12117, 'نراژدها': 12118, 'میدانش': 12119, 'رستگان': 12120, 'چنانکش': 12121, 'بکامت': 12122, 'نیکست': 12123, 'کردگارت': 12124, 'ازفر': 12125, 'برنجش': 12126, 'مفرسا': 12127, 'سردش': 12128, 'وزانجاش': 12129, 'گستری': 12130, 'بخلخ': 12131, 'گرسیون': 12132, 'برنتابید': 12133, 'نسودن': 12134, 'بکاراگهان': 12135, 'مارکورا': 12136, 'بهندوستان': 12137, 'بکشمیر': 12138, 'غزدژ': 12139, 'هژبران': 12140, 'کمرشان': 12141, 'نگردانی': 12142, 'بجنگت': 12143, 'یادگیران': 12144, 'جهانداری': 12145, 'بکارسیاوش': 12146, 'دستگاهست': 12147, 'بیگناهست': 12148, 'انگارد': 12149, 'خویشانت': 12150, 'سگانش': 12151, 'خفتان،': 12152, 'درکنی': 12153, 'همزمان': 12154, 'نداردت': 12155, 'سپدار': 12156, 'جهاندیدگانرا': 12157, 'یپران': 12158, 'نامدارگوان': 12159, 'برادرکه': 12160, 'نزدافراسیاب': 12161, 'تاکنابد': 12162, 'فرازآوریدند': 12163, 'بسوده': 12164, 'پیلگون': 12165, 'اندرشب': 12166, 'فریبزر': 12167, 'کتمارهٔ': 12168, 'گودرزشان': 12169, 'اوژن': 12170, 'زنگولهٔ': 12171, 'رادل': 12172, 'رابرگ': 12173, 'چینن': 12174, 'گشستست': 12175, 'ناشمرده': 12176, 'گیردبدین': 12177, 'کمینگاهشان': 12178, 'کاردیدست': 12179, 'شوربختند': 12180, 'گلگلون': 12181, 'اندرآورده': 12182, 'خندند': 12183, 'جدامانده': 12184, 'بنشانده': 12185, 'بتنش': 12186, 'برنوردی': 12187, 'بروبرجهان': 12188, 'جهانداورش': 12189, 'اویش': 12190, 'ویسگانست': 12191, 'رابجنگ': 12192, 'انگاشتم': 12193, 'نپنداشتم': 12194, 'زفام': 12195, 'ازاینها': 12196, 'بپویی': 12197, 'سوارانی': 12198, 'لشکرگذشت': 12199, 'یلانت': 12200, 'بحنگم': 12201, 'تاکجاست': 12202, 'بسالارتان': 12203, 'زانست': 12204, 'کایدت': 12205, 'ارزید': 12206, 'پهلوانش': 12207, 'بروباه': 12208, 'بخایند': 12209, 'لشکرنبرد': 12210, 'بازگردانیم': 12211, 'فریبت': 12212, 'نامدراان': 12213, 'چیر': 12214, 'بازدادند': 12215, 'دوربین': 12216, 'نهیبست': 12217, 'رنامدار': 12218, 'کتفم': 12219, 'مپدار': 12220, 'بدوزدش': 12221, 'دیگرانم': 12222, 'کآهنگ': 12223, 'ایدنک': 12224, 'بچشمم': 12225, 'بگوشیدنش': 12226, 'گلم': 12227, 'بازبخشش': 12228, 'بیازردمش': 12229, 'ناوردمش': 12230, 'دمد': 12231, 'شتابی': 12232, 'برنتابم': 12233, 'کارزارت': 12234, 'یگی': 12235, 'پویانی': 12236, 'بلاف': 12237, 'بکینم': 12238, 'آهرمنت': 12239, 'سربردمید': 12240, 'بگلگون': 12241, 'بادآورش': 12242, 'دامی': 12243, 'نپویم': 12244, 'فریادرسمان': 12245, 'بپیرامن': 12246, 'زاسبان': 12247, 'چوبایست': 12248, 'زرهشان': 12249, 'دهنشان': 12250, 'ازهردو': 12251, 'تابدار': 12252, 'بکردارآتش': 12253, 'دسترسشان': 12254, 'زآویختن': 12255, 'آزمایند': 12256, 'اسپشان': 12257, 'زشبگیر': 12258, 'جستنم': 12259, 'بریدمش': 12260, 'ترجمانان': 12261, 'بپروزی': 12262, 'نیوپور': 12263, 'سرگرد': 12264, 'گهربافته': 12265, 'نستیهنا': 12266, 'بکارآگهان': 12267, 'آردنشانی': 12268, 'نستیهنم': 12269, 'بازوان': 12270, 'افن': 12271, 'این،': 12272, 'کشتیم': 12273, 'فرخجسته': 12274, 'بندگانرا': 12275, 'ببختت': 12276, 'تشستنگه': 12277, 'کاردل': 12278, 'درودست': 12279, 'باسبش': 12280, 'دوتایی': 12281, 'شاههنشهی': 12282, 'خاراگیا': 12283, 'برنیست': 12284, 'کگهی': 12285, 'غز': 12286, 'زجیحون': 12287, 'نجنباند': 12288, 'بفرما': 12289, 'خسرودمان': 12290, 'گستریدست': 12291, 'شاه،': 12292, 'رزی': 12293, 'برفته': 12294, 'بفرمایدم': 12295, 'نوردیم': 12296, 'فاریاب': 12297, 'پنجهیر': 12298, 'بامیان': 12299, 'گوزگانان': 12300, 'مولیان': 12301, 'غر': 12302, 'گستردنت': 12303, 'برگرز': 12304, 'نیازاری': 12305, 'راهشان': 12306, 'تومهمان': 12307, 'شوره': 12308, 'بسازیده': 12309, 'خرد،': 12310, 'ترانگذراند': 12311, 'جه': 12312, 'ناوریده': 12313, 'سالاری': 12314, 'تراکرد': 12315, 'بدگوهرت': 12316, 'بندیش': 12317, 'باهرک': 12318, 'بصد': 12319, 'نیارامدش': 12320, 'نخارم': 12321, 'بیژنی': 12322, 'بدخبر': 12323, 'مشست': 12324, 'پاکتن': 12325, 'دراید': 12326, 'نیازرده': 12327, 'ناورده': 12328, 'بیکسان': 12329, 'علاج': 12330, 'آیمش': 12331, 'گرید': 12332, 'فرازآید': 12333, 'وزینها': 12334, 'بگسل': 12335, 'باسیان': 12336, 'بویختن': 12337, 'بنشیند': 12338, 'براهچ': 12339, 'نگهدارتر': 12340, 'کیمن': 12341, 'بفرخنده': 12342, 'اباگرز': 12343, 'آبداده': 12344, 'سپهشان': 12345, 'نپرهیز': 12346, 'بدردش': 12347, 'بنومیدی': 12348, 'برگشید': 12349, 'درقهٔ': 12350, 'چارچوبه': 12351, 'زری': 12352, 'پایداری': 12353, 'روست': 12354, 'بتیغش': 12355, 'خدنگش': 12356, 'ازباره': 12357, 'بیالوده': 12358, 'مربندها': 12359, 'بتدبیر': 12360, 'نوندم': 12361, 'یادداد': 12362, 'زرمساز': 12363, 'شبت': 12364, 'درگذاشت': 12365, 'بدمنش': 12366, 'برتباه': 12367, 'شکوهید': 12368, 'دلخسته': 12369, 'بفرهاد': 12370, 'بکتمارهٔ': 12371, 'قارنان': 12372, 'آغازی': 12373, 'برتاختن': 12374, 'سرآری': 12375, 'ناخفتگان': 12376, 'جاهست': 12377, 'نامتان': 12378, 'کشیدید': 12379, 'بزادیم': 12380, 'دیرگه': 12381, 'گزیدستی': 12382, 'کیییم': 12383, 'برگسستند': 12384, 'کوهپایه': 12385, 'زبس': 12386, 'سربداد': 12387, 'شتابیدی': 12388, 'برنگرداند': 12389, 'بداندر': 12390, 'پرنداور': 12391, 'کمرگه': 12392, 'بگذاردش': 12393, 'بنعره': 12394, 'برانش': 12395, 'تیرشان': 12396, 'پالهنگش': 12397, 'درافتاد': 12398, 'همرزمش': 12399, 'برکاست': 12400, 'بتنشان': 12401, 'بتفسید': 12402, 'برزدن': 12403, 'بسودگی': 12404, 'اسپران': 12405, 'اسپر': 12406, 'دهدمان': 12407, 'بتورانیان': 12408, 'کوهسر': 12409, 'آنهمه': 12410, 'هستس': 12411, 'نخچیربانان': 12412, 'برآمدش': 12413, 'طپید': 12414, 'بزهراب': 12415, 'طپیده': 12416, 'درفی': 12417, 'نادیدن': 12418, 'بوردن': 12419, 'برببند': 12420, 'بیفروزد': 12421, 'بیغمست': 12422, 'خرمست': 12423, 'ارگ': 12424, 'تیزرانی': 12425, 'رنجشان': 12426, 'بپست': 12427, 'برزار': 12428, 'سرانجامت': 12429, 'سرهای': 12430, 'برنهادن': 12431, 'کنونتان': 12432, 'شهرست': 12433, 'نشوییم': 12434, 'نسود': 12435, 'هستمان': 12436, 'برببودن': 12437, 'شومشان': 12438, 'کفریننده': 12439, 'یارگاه': 12440, 'بگیتیم': 12441, 'شادمانیش': 12442, 'ورایدون': 12443, 'فرازآورد': 12444, 'مپویی': 12445, 'پاسبانیش': 12446, 'جوییش': 12447, 'بدلسوزگی': 12448, 'جنا': 12449, 'مزغزار': 12450, 'سختیت': 12451, 'برآنرد': 12452, 'رسانیدنم': 12453, 'مگرشان': 12454, 'بسودم': 12455, 'گهٔ': 12456, 'قرطه': 12457, 'بشیب': 12458, 'بشمشیرکم': 12459, 'بسرشان': 12460, 'چرای': 12461, 'نوندش': 12462, 'رسانیدن': 12463, 'روزنه': 12464, 'بیاودر': 12465, 'دیهیمش': 12466, 'جفاکرد': 12467, 'مشکش': 12468, 'بدیبار': 12469, 'برکلاه': 12470, 'سازکار': 12471, 'آنها': 12472, 'پیرانشان': 12473, 'چاکریم': 12474, 'نبدمان': 12475, 'غمست': 12476, 'شاهمان': 12477, 'اوییم': 12478, 'ببخشودشان': 12479, 'کرگسانست': 12480, 'رمیح': 12481, 'همشان': 12482, 'برنیامدش': 12483, 'بمیراث': 12484, 'ببازوش': 12485, 'یونان': 12486, 'گستهمشان': 12487, 'گوهرفشان': 12488, 'برآمیزدی': 12489, 'بپرهیزدی': 12490, 'زورمندست': 12491, 'هفصد': 12492, 'جبرییل': 12493, 'وبزم': 12494, 'مرقدست': 12495, 'احمدست': 12496, 'برادی': 12497, 'جوادی': 12498, 'جودش': 12499, 'بدرویشی': 12500, 'شستم': 12501, 'نوانتر': 12502, 'شمشیرکش': 12503, 'بناهای': 12504, 'سالها': 12505, 'شهدست': 12506, 'بیشیت': 12507, 'بتریست': 12508, 'بمرزی': 12509, 'مرطوس': 12510, 'نیوتر': 12511, 'صیاع': 12512, 'گیوهٔ': 12513, 'پورست': 12514, 'پساه': 12515, 'برآگنده': 12516, 'پیشروشان': 12517, 'زهیر': 12518, 'برستان': 12519, 'ساقهٔ': 12520, 'گروخان': 12521, 'منوچهرشان': 12522, 'برتهٔ': 12523, 'کوهیار': 12524, 'یارگیو': 12525, 'جاج': 12526, 'بکندز': 12527, 'ترفند': 12528, 'ویژگانش': 12529, 'سحر': 12530, 'برآند': 12531, 'درازای': 12532, 'برنگردیم': 12533, 'بفرمودتا': 12534, 'تالب': 12535, 'بخرطوم': 12536, 'رهست': 12537, 'کدر': 12538, 'پشنگست': 12539, 'ایلای': 12540, 'فراسیاب': 12541, 'خورسید': 12542, 'غزی': 12543, 'ترکمان': 12544, 'خورازم': 12545, 'بصلاب': 12546, 'بپروردی': 12547, 'نسپردیش': 12548, 'بدیت': 12549, 'یکتند': 12550, 'جویدی': 12551, 'وفرشیدورد': 12552, 'بتخمه': 12553, 'کنداورند': 12554, 'سرنامور': 12555, 'نیارا': 12556, 'مهترانند': 12557, 'پایمردش': 12558, 'دوراز': 12559, 'زناکاردیده': 12560, 'دردهای': 12561, 'بپیچاندم': 12562, 'بترساندم': 12563, 'مرزایران': 12564, 'سربگاشت': 12565, 'بخوایید': 12566, 'بنگریم': 12567, 'شارا': 12568, 'بیفزایدم': 12569, 'مابود': 12570, 'پولادبر': 12571, 'کراشاد': 12572, 'بدیهیم': 12573, 'جهاندارت': 12574, 'ستودانت': 12575, 'بهیچ': 12576, 'بودیت': 12577, 'فرستادمی': 12578, 'سراب': 12579, 'درمانده': 12580, 'پیاه': 12581, 'پشگ': 12582, 'عنبرآگین': 12583, 'شویده': 12584, 'باوردگه': 12585, 'پرسپاه': 12586, 'پرزجوش': 12587, 'تگینال': 12588, 'مسیره': 12589, 'طبرد': 12590, 'آوه': 12591, 'سمنکنان': 12592, 'بشماخ': 12593, 'قبلگاه': 12594, 'منوچر': 12595, 'سوارن': 12596, 'استقیلا': 12597, 'پرسشت': 12598, 'فزایست': 12599, 'لرزیده': 12600, 'گسستیم': 12601, 'بچاچ': 12602, 'براسود': 12603, 'برگان': 12604, 'چغد': 12605, 'گلگله': 12606, 'تورست': 12607, 'نگذاشتندی': 12608, 'جنگیی': 12609, 'رادرود': 12610, 'بکوره': 12611, 'ازنالهٔ': 12612, 'بجنجر': 12613, 'چیدند': 12614, 'خاکشان': 12615, 'کنیه': 12616, 'مردشست': 12617, 'کیخسرویم': 12618, 'خیمست': 12619, 'یافتست': 12620, 'گلشان': 12621, 'سیرخواب': 12622, 'برسرش': 12623, 'ترازین': 12624, 'بدلشاد': 12625, 'بدستی': 12626, 'بپروردم': 12627, 'ببرج': 12628, 'سنگهای': 12629, 'برجها': 12630, 'غونای': 12631, 'کانچنان': 12632, 'بترسند': 12633, 'کامکاری': 12634, 'پذر': 12635, 'زیورند': 12636, 'کفنشان': 12637, 'بیگمان': 12638, 'حصاریم': 12639, 'تراگاه': 12640, 'شی': 12641, 'برآفتاب': 12642, 'نیاکین': 12643, 'بسیچی': 12644, 'افروزتر': 12645, 'پیروزتر': 12646, 'نازاده': 12647, 'بپرواز': 12648, 'پیشکاره': 12649, 'نشتافتی': 12650, 'نخوانیش': 12651, 'بجنبیدت': 12652, 'بیفگندی': 12653, 'آدم': 12654, 'بدیهات': 12655, 'منجینق': 12656, 'کوفتی': 12657, 'چرخها': 12658, 'منکری': 12659, 'آلود': 12660, 'سختیی': 12661, 'مرگدان': 12662, 'جاودانرا': 12663, 'مرادار': 12664, 'زبانگ': 12665, 'چوبها': 12666, 'نااامید': 12667, 'برخنه': 12668, 'گرسیو': 12669, 'ایاروز': 12670, 'وزآنجای': 12671, 'درایوان': 12672, 'آرامگاهش': 12673, 'گلد': 12674, 'پروریدست': 12675, 'مزیدست': 12676, 'گستریدن': 12677, 'بخوری': 12678, 'نزدشان': 12679, 'ندردش': 12680, 'رخسارشان': 12681, 'اینم': 12682, 'کایمن': 12683, 'دردشان': 12684, 'دردلست': 12685, 'ایرانیانرا': 12686, 'آشوفتن': 12687, 'بویان': 12688, 'باوی': 12689, 'سرورست': 12690, 'دارکن': 12691, 'کوکها': 12692, 'جهانداران': 12693, 'رزمم': 12694, 'افسونگرم': 12695, 'باپناهند': 12696, 'مجوش': 12697, 'فریدن': 12698, 'آلودهٔ': 12699, 'پرمرد': 12700, 'نسوزید': 12701, 'مدارند': 12702, 'کینم': 12703, 'بختمان': 12704, 'بادست': 12705, 'سربسرمرده': 12706, 'هواتیره': 12707, 'ترگها': 12708, 'میغی': 12709, 'شبگرد': 12710, 'یاوریها': 12711, 'بیراه،': 12712, 'نکشتش': 12713, 'گرن': 12714, 'بلندست': 12715, 'برداشتید': 12716, 'بگذاشتید': 12717, 'رنجبرده': 12718, 'دند': 12719, 'بمهد': 12720, 'نواها': 12721, 'بنفریده': 12722, 'بندسای': 12723, 'براورنگ': 12724, 'بدادیم': 12725, 'جهانرا': 12726, 'ببدنامی': 12727, 'برادرکش': 12728, 'بدراه': 12729, 'بهایش': 12730, 'پیششان': 12731, 'دادگیرید': 12732, 'پسه': 12733, 'گذرها': 12734, 'آریمش': 12735, 'بسپری': 12736, 'مستیم': 12737, 'درفشست': 12738, 'رفش': 12739, 'گرانرا': 12740, 'زمکران': 12741, 'جوری': 12742, 'دریاتوی': 12743, 'ثری': 12744, 'برشخود': 12745, 'بشش': 12746, 'شمال': 12747, 'مدد': 12748, 'فم': 12749, 'الاسد': 12750, 'مویها': 12751, 'اندریشان': 12752, 'ندرام': 12753, 'بگنگست': 12754, 'چهانجوی': 12755, 'شمرهای': 12756, 'بلبلستان': 12757, 'باع': 12758, 'آمدیشان': 12759, 'نهشتی': 12760, 'بملاح': 12761, 'چترش': 12762, 'مراماندی': 12763, 'تومانند': 12764, 'وتنگ': 12765, 'بدثست': 12766, 'هرزمانی': 12767, 'سواره': 12768, 'ازنوازش': 12769, 'وسربر': 12770, 'مرانازش': 12771, 'سربیگناه': 12772, 'مرابازگردان': 12773, 'کاوسش': 12774, 'وغلام': 12775, 'زگستردنیها': 12776, 'آلات': 12777, 'گردونکشان': 12778, 'راندپیش': 12779, 'ونبد': 12780, 'دمدار': 12781, 'بالشکری': 12782, 'بایوانها': 12783, 'آزده': 12784, 'بسرها': 12785, 'پربانگ': 12786, 'تندرو': 12787, 'بروبرنیا': 12788, 'زجمشید': 12789, 'بفریدون': 12790, 'کانجمن': 12791, 'شمرهاو': 12792, 'ماندکاوس': 12793, 'کردارش': 12794, 'راپایگاه': 12795, 'وبشادی': 12796, 'بانامور': 12797, 'بکارسپاه': 12798, 'ازکه': 12799, 'چندمان': 12800, 'پیرانه': 12801, 'بردو': 12802, 'بودمرد': 12803, 'نگردیدیک': 12804, 'محراب': 12805, 'بغار': 12806, 'پرزخون': 12807, 'برنماند': 12808, 'برزکیان': 12809, 'پرستشگهش': 12810, 'زکافش': 12811, 'سرانامور': 12812, 'برداوران': 12813, 'ببهره': 12814, 'ونیروی': 12815, 'بسنگین': 12816, 'رهاکردو': 12817, 'زپشمینه': 12818, 'واو': 12819, 'راهوم': 12820, 'بااندهان': 12821, 'سربیگناهان': 12822, 'کرادانی': 12823, 'مردبا': 12824, 'وگردیده': 12825, 'زبند': 12826, 'کمندت': 12827, 'کجابرد': 12828, 'مرابسته': 12829, 'بروزشمار': 12830, 'تراهوش': 12831, 'کیخروست': 12832, 'باگیو': 12833, 'برمستمند': 12834, 'زارم': 12835, 'آوازم': 12836, 'نوحه': 12837, 'رستن': 12838, 'بیادآمدش': 12839, 'دلشده': 12840, 'برشهریاران': 12841, 'چوهوم': 12842, 'باهوم': 12843, 'برگنگ': 12844, 'برنهان': 12845, 'برآمدخروش': 12846, 'کشیدمش': 12847, 'بگرسیوزش': 12848, 'فرماند': 12849, 'بدوزند': 12850, 'تاگم': 12851, 'وتاو': 12852, 'باتیغ': 12853, 'زرخ': 12854, 'رابردرید': 12855, 'برکتف': 12856, 'تانماندش': 12857, 'اد': 12858, 'نوحهٔ': 12859, 'جزیره': 12860, 'چراکشت': 12861, 'برفگندندشان': 12862, 'بزمزم': 12863, 'بهرمند': 12864, 'سالم': 12865, 'یازنده': 12866, 'زیرگه': 12867, 'ستودانش': 12868, 'دبیقی': 12869, 'خاوران': 12870, 'گرددم': 12871, 'بنیکو': 12872, 'بشمع': 12873, 'برآرندهٔ': 12874, 'بیامرز': 12875, 'افکن': 12876, 'برخوردنست': 12877, 'پژمردنست': 12878, 'ستانند': 12879, 'وبدین': 12880, 'چرنگ': 12881, 'بکابلستان': 12882, 'بزابل': 12883, 'هیچو': 12884, 'پهلوانید': 12885, 'داناترید': 12886, 'تواناترید': 12887, 'اوهست': 12888, 'پاکریان': 12889, 'بنداختشان': 12890, 'ارغم': 12891, 'مشکی': 12892, 'بهمسیایگی': 12893, 'پوییم': 12894, 'کوژ': 12895, 'طهماسب': 12896, 'تیرگاه': 12897, 'یپیچد': 12898, 'پسیچید': 12899, 'بغنود': 12900, 'ناخفتنت': 12901, 'تلخست': 12902, 'بتلخی': 12903, 'برنوشتی': 12904, 'بهرمن': 12905, 'بپاکی': 12906, 'برآنیم': 12907, 'شمید': 12908, 'آنگ': 12909, 'بدهای': 12910, 'باشیده': 12911, 'برزمش': 12912, 'بتاری': 12913, 'سرآوردم': 12914, 'برتافتم': 12915, 'درگشادند': 12916, 'آگندنیست': 12917, 'پراگندنیست': 12918, 'بادآورست': 12919, 'هرکجا': 12920, 'آتشکدست': 12921, 'بادآور': 12922, 'یزال': 12923, 'کرزوها': 12924, 'بافاق': 12925, 'هزارآفرین': 12926, 'ورایار': 12927, 'پرخار': 12928, 'نگشادم': 12929, 'رخته': 12930, 'کاجی': 12931, 'توانستمی': 12932, 'پرورم': 12933, 'یکهفته': 12934, 'بردرخشد': 12935, 'زابر': 12936, 'کنداواران': 12937, 'برنگذریم': 12938, 'رنجگی': 12939, 'هواگشت': 12940, 'ببرف': 12941, 'بدآنجای': 12942, 'تپیدند': 12943, 'نپذرفته': 12944, 'برنگسلانیم': 12945, 'ورادست': 12946, 'بگودز': 12947, 'نشکست': 12948, 'بپیراست': 12949, 'ببیرون': 12950, 'بازآمدیم': 12951, 'بناراستان': 12952, 'فرایندهٔ': 12953, 'پیمانش': 12954, 'شارسانی': 12955, 'آذری': 12956, 'آرامگاهت': 12957, 'بپروردمش': 12958, 'کوهسارانش': 12959, 'نیاموزدت': 12960, 'کاوسیانست': 12961, 'نامدارم': 12962, 'اسقف': 12963, 'تازم': 12964, 'نوازی': 12965, 'ناآشنا': 12966, 'ساربانان': 12967, 'دکانش': 12968, 'آهنگر': 12969, 'پتکی': 12970, 'مژگانت': 12971, 'پیغوله': 12972, 'همالی': 12973, 'گوهرشناس': 12974, 'خریدند': 12975, 'هیشو': 12976, 'رومئی': 12977, 'ارای': 12978, 'ناسرفراز': 12979, 'زادبوم': 12980, 'فلان': 12981, 'انک': 12982, 'نامداریست': 12983, 'آزردگی': 12984, 'دبیرست': 12985, 'گردافکن': 12986, 'ترسند': 12987, 'سروهاش': 12988, 'آبنوسی': 12989, 'فرسپ': 12990, 'اسپس': 12991, 'رزمسازش': 12992, 'ناخردمند': 12993, 'سرونی': 12994, 'ناف': 12995, 'سلمش': 12996, 'بینادلش': 12997, 'خد': 12998, 'نارفته': 12999, 'زیانهای': 13000, 'سرتابسر': 13001, 'بزمگاهی': 13002, 'ودیدند': 13003, 'تاودار': 13004, 'سرافرازم': 13005, 'اهرنا': 13006, 'کهترت': 13007, 'نگزیند': 13008, 'شیراوژنست': 13009, 'بازگویی': 13010, 'اژدهار': 13011, 'شیشهٔ': 13012, 'قیصرانست': 13013, 'دامادی': 13014, 'جوانیست': 13015, 'اژدهاگیر': 13016, 'یاورت': 13017, 'سنانی': 13018, 'آویزمش': 13019, 'اژدهابرز': 13020, 'گشتید': 13021, 'نپیچیده': 13022, 'اهرنست': 13023, 'فرشتست': 13024, 'آدمیست': 13025, 'شهرقیصر': 13026, 'زیانکار': 13027, 'نگشتست': 13028, 'نیکبختی': 13029, 'پرسیدمش': 13030, 'باژست': 13031, 'گرفتید': 13032, 'یکتنست': 13033, 'آلودن': 13034, 'بازگردانمش': 13035, 'برافشانمش': 13036, 'چندن': 13037, 'گیرمش': 13038, 'بفریبد': 13039, 'مسای': 13040, 'سقیل': 13041, 'بابها': 13042, 'بیفگندش': 13043, 'بفرستی': 13044, 'پیروزشان': 13045, 'بیران': 13046, 'شگبیر': 13047, 'باژخواهش': 13048, 'زریرست': 13049, 'وایدر': 13050, 'میاسا': 13051, 'شغب': 13052, 'برومست': 13053, 'آگهند': 13054, 'برنادلی': 13055, 'پرخاشخو': 13056, 'فروزیدن': 13057, 'برافرخت': 13058, 'بپویندم': 13059, 'دقیقی': 13060, 'فردوسی': 13061, 'نکاهدش': 13062, 'بیتی': 13063, 'قیصرا': 13064, 'دخترا': 13065, 'کتایونش': 13066, 'هامال': 13067, 'سالان': 13068, 'چارها': 13069, 'گستراند': 13070, 'استبر': 13071, 'برنگشتی': 13072, 'پیشینیان': 13073, 'پرستشکده': 13074, 'کشمرش': 13075, 'چراکش': 13076, 'کیانش': 13077, 'بدهی': 13078, 'بتاو': 13079, 'پورلهراسپ': 13080, 'نیارستمش': 13081, 'پیرامنا': 13082, 'گروگر': 13083, 'ناخواسته': 13084, 'نترسیم': 13085, 'برانیمش': 13086, 'ستنبه': 13087, 'جیش': 13088, 'پذیرفتی': 13089, 'جمشیدیان': 13090, 'زیبندگی': 13091, 'مهانت': 13092, 'جادوت': 13093, 'سپیدم': 13094, 'بپذیری': 13095, 'نکورنگ': 13096, 'استامها': 13097, 'نگاران': 13098, 'نپذیری': 13099, 'بنگاهشان': 13100, 'بینبارم': 13101, 'کتفتان': 13102, 'زمینشان': 13103, 'درختانش': 13104, 'بکردش': 13105, 'تاه': 13106, 'نشینید': 13107, 'گزارید': 13108, 'براین': 13109, 'فرخندگان': 13110, 'نیژه': 13111, 'نکال': 13112, 'زریز': 13113, 'نسپرید': 13114, 'بیدارتان': 13115, 'دارتان': 13116, 'بدانستی': 13117, 'هوشت': 13118, 'خاکت': 13119, 'آهنینه': 13120, 'بگذارشان': 13121, 'گزینه': 13122, 'بنوشته': 13123, 'بنمودنی': 13124, 'پیسودنی': 13125, 'میفزای': 13126, 'گشادیم': 13127, 'افراسیابی': 13128, 'جهانشان': 13129, 'بفرسوده': 13130, 'انگیز': 13131, 'اندرآرند': 13132, 'گرزشان': 13133, 'بباشند': 13134, 'گوانند': 13135, 'مینبار': 13136, 'بردوانند': 13137, 'بدادندشان': 13138, 'باندیدمان': 13139, 'غارتگری': 13140, 'نجنبدت': 13141, 'بایین': 13142, 'یلش': 13143, 'بیایید': 13144, 'برافراشته': 13145, 'بگذاشته': 13146, 'بودو': 13147, 'میخواستم': 13148, 'هرگزت': 13149, 'نفرمایمت': 13150, 'بنداز': 13151, 'بگشته': 13152, 'زدود': 13153, 'ترنگا': 13154, 'نعرهٔ': 13155, 'گردونها': 13156, 'نکونامش': 13157, 'آورا': 13158, 'سرورا': 13159, 'ازاده': 13160, 'بنهد': 13161, 'استد': 13162, 'بردرد': 13163, 'باستد': 13164, 'درافتد': 13165, 'نابستگان': 13166, 'برگزینان': 13167, 'بتاباند': 13168, 'بگسستشان': 13169, 'هلد': 13170, 'بگریخته': 13171, 'نیزها': 13172, 'بنهفتمی': 13173, 'گفتمی': 13174, 'خسپید': 13175, 'نگفتش': 13176, 'آنان': 13177, 'نسوزم': 13178, 'خدایست': 13179, 'سپاهیست': 13180, 'همبرش': 13181, 'صدهزاران': 13182, 'نگاهش': 13183, 'بیستونست': 13184, 'نبردان': 13185, 'پیکانهاشان': 13186, 'اسپهبدست': 13187, 'ناوکش': 13188, 'قفا': 13189, 'نونده': 13190, 'پارست': 13191, 'نامخواست': 13192, 'ستونست': 13193, 'نیوزار': 13194, 'شولکی': 13195, 'برافگندنش': 13196, 'سرانجامش': 13197, 'انگیختند': 13198, 'زمینها': 13199, 'دشتها': 13200, 'پورشاه': 13201, 'سگالیدنا': 13202, 'مالیدنا': 13203, 'انگیزند': 13204, 'بگریزند': 13205, 'پاسوخ': 13206, 'بترسیده': 13207, 'کوفتشان': 13208, 'سامیش': 13209, 'یازدا': 13210, 'بندازدا': 13211, 'بسپارمش': 13212, 'ارچاسپ': 13213, 'شیرینت': 13214, 'ناباکدار': 13215, 'پرگهرش': 13216, 'پاشید': 13217, 'ورزیدن': 13218, 'کجاکین': 13219, 'ترسیدمی': 13220, 'روزیست': 13221, 'کافر': 13222, 'پشتها': 13223, 'افگنید': 13224, 'نیکم': 13225, 'اسفندیارم': 13226, 'خرامیده': 13227, 'آسودهٔ': 13228, 'برگستوران': 13229, 'اوفتادست': 13230, 'بابکش': 13231, 'فتادست': 13232, 'فروزانش': 13233, 'اسپردیم': 13234, 'بنشسته': 13235, 'واریش': 13236, 'انگیزم': 13237, 'جمشیدی': 13238, 'کشتشان': 13239, 'بازآورید': 13240, 'زریری': 13241, 'بدکنان': 13242, 'آسیاها': 13243, 'بربگشت': 13244, 'گردگیران': 13245, 'یبغو': 13246, 'دوختشان': 13247, 'گدشت': 13248, 'مره': 13249, 'نبخشودشان': 13250, 'سرکشانشان': 13251, 'کمانچای': 13252, 'آختند': 13253, 'عدو': 13254, 'زاروارند': 13255, 'مگیریدشان': 13256, 'مپایید': 13257, 'افشر': 13258, 'تابوتها': 13259, 'خستست': 13260, 'پکاه': 13261, 'رزمسار': 13262, 'سکی': 13263, 'ناداده': 13264, 'شهنشاهی': 13265, 'هیزمش': 13266, 'گشتاسپیان': 13267, 'گنبدش': 13268, 'ناآفرین': 13269, 'شاهتان': 13270, 'رایان': 13271, 'مهترنژاد': 13272, 'هنوزت': 13273, 'میسوختند': 13274, 'کنونت': 13275, 'زندی': 13276, 'کردنم': 13277, 'برزیگران': 13278, 'کاشتند': 13279, 'ببوده': 13280, 'نامجو': 13281, 'طعنه': 13282, 'آهوش': 13283, 'نیاد': 13284, 'بتاب': 13285, 'بگفتمت': 13286, 'شبش': 13287, 'اسفندیارش': 13288, 'میپای': 13289, 'پایی': 13290, 'بایدا': 13291, 'برنایدا': 13292, 'برجه': 13293, 'بپایی': 13294, 'تازنده': 13295, 'خندیدن': 13296, 'دلافروز': 13297, 'طوش': 13298, 'نوشاذرا': 13299, 'آذرا': 13300, 'بادات': 13301, 'بیاموختم': 13302, 'افروختم': 13303, 'بیاشیفتست': 13304, 'کهسار': 13305, 'نایم': 13306, 'پادشاهست': 13307, 'کهانرا': 13308, 'سرانجمنها': 13309, 'پسندند': 13310, 'گزینانش': 13311, 'نبستست': 13312, 'کردستم': 13313, 'فرما': 13314, 'زنجیرهای': 13315, 'بردندش': 13316, 'زاولش': 13317, 'میهمانی': 13318, 'بنگذاشتند': 13319, 'گذارید': 13320, 'اندرونست': 13321, 'همینند': 13322, 'لهراسپشان': 13323, 'سپردست': 13324, 'طبعی': 13325, 'منثور': 13326, 'طبایع': 13327, 'بایستمی': 13328, 'بشایستمی': 13329, 'شاهنشاهان': 13330, 'سجود': 13331, 'سرآور': 13332, 'برافشانم': 13333, 'آذرپرست': 13334, 'بشکافتی': 13335, 'نوسواریش': 13336, 'برتوختند': 13337, 'نوشتندشان': 13338, 'بخل': 13339, 'آذراندر': 13340, 'پرگیا': 13341, 'نهاند': 13342, 'فرزندت': 13343, 'ندانستی': 13344, 'درنمانده': 13345, 'ارجاسپیست': 13346, 'دوپر': 13347, 'درودم': 13348, 'آهنم': 13349, 'بکشتندش': 13350, 'برآشوب': 13351, 'نجنبی': 13352, 'ایین': 13353, 'سیراند': 13354, 'سردباد': 13355, 'گسخت': 13356, 'بیاهیخت': 13357, 'لاغری': 13358, 'بشویید': 13359, 'نوشاذر': 13360, 'بساط': 13361, 'رباط': 13362, 'گشتاسپم': 13363, 'فزرانه': 13364, 'درآیید': 13365, 'چنگست': 13366, 'کهرمش': 13367, 'اون': 13368, 'کسانی': 13369, 'پیروزئی': 13370, 'افروزئی': 13371, 'باهستگی': 13372, 'نیاست': 13373, 'کیمیاست': 13374, 'بگشتس': 13375, 'کالا': 13376, 'خفتانش': 13377, 'ریزندها': 13378, 'ببحشید': 13379, 'شادانی': 13380, 'بگریم': 13381, 'برفتنت': 13382, 'مغانی': 13383, 'بپالاید': 13384, 'نخندد': 13385, 'نشود': 13386, 'پیکارستان': 13387, 'چنگشان': 13388, 'سرمای': 13389, 'همچنانش': 13390, 'مطرفی': 13391, 'چهان': 13392, 'راتو': 13393, 'دریغت': 13394, 'بندت': 13395, 'جامش': 13396, 'دمهنج': 13397, 'غول': 13398, 'سراییدن': 13399, 'خسروانیش': 13400, 'کوهیست': 13401, 'تپید': 13402, 'بردمیدند': 13403, 'سهمشان': 13404, 'نیکیم': 13405, 'پرش': 13406, 'گیای': 13407, 'بدرایی': 13408, 'تفتست': 13409, 'توتیا': 13410, 'بامش': 13411, 'فرسودن': 13412, 'برنیارد': 13413, 'پایتان': 13414, 'رایتان': 13415, 'سرکشیدید': 13416, 'رنجتان': 13417, 'تندباری': 13418, 'بیچار': 13419, 'گسترش': 13420, 'گشیدش': 13421, 'روشناییست': 13422, 'خامت': 13423, 'مشگ': 13424, 'گورشان': 13425, 'سگانی': 13426, 'توایدر': 13427, 'پهلوم': 13428, 'خوانندت': 13429, 'تافتش': 13430, 'کاله': 13431, 'نیازاردت': 13432, 'دژاندر': 13433, 'ماهار': 13434, 'آزماید': 13435, 'کفتها': 13436, 'اسیریم': 13437, 'بگرییم': 13438, 'آگاهیت': 13439, 'رهای': 13440, 'بخواهنده': 13441, 'ساختستم': 13442, 'روکت': 13443, 'پردود': 13444, 'همباز': 13445, 'خورشیدفر': 13446, 'اسفندیارست': 13447, 'نوشیدنی': 13448, 'پربلاست': 13449, 'نغنوند': 13450, 'بگذشتشان': 13451, 'پیاپی': 13452, 'مرنچ': 13453, 'گمانتان': 13454, 'بکوبیم': 13455, 'خونیز': 13456, 'کشتت': 13457, 'بادآنک': 13458, 'بارورتر': 13459, 'ریختندش': 13460, 'سختن': 13461, 'افگندنیهای': 13462, 'بامویه': 13463, 'مپویید': 13464, 'کوفتم': 13465, 'آمدنتان': 13466, 'برآشوفتم': 13467, 'هشیاری': 13468, 'بپسندد': 13469, 'نقل': 13470, 'نخسپد': 13471, 'عاشق': 13472, 'موید': 13473, 'سحرگاه': 13474, 'ماهرویش': 13475, 'بداخترا': 13476, 'ازاین': 13477, 'آموزگار؟': 13478, 'بپذرفتم': 13479, 'بدکارگان': 13480, 'بستگیها': 13481, 'بندهای': 13482, 'برشمارم': 13483, 'کاورد': 13484, 'دیوزادی': 13485, 'اسنفدیار': 13486, 'رانداندر': 13487, 'بلایی': 13488, 'رفتنست': 13489, 'نابردن': 13490, 'شترانک': 13491, 'کانکس': 13492, 'نپیچیدم': 13493, 'شهریارند': 13494, 'ننوشته': 13495, 'گمراهی': 13496, 'بدآموزی': 13497, 'اویند': 13498, 'فرستندش': 13499, 'نیستشان': 13500, 'برافرزوم': 13501, 'نفرمودمان': 13502, 'خواهشش': 13503, 'شیرخون': 13504, 'دمست': 13505, 'نخچیرگاهش': 13506, 'خوردنیش': 13507, 'نگفتست': 13508, 'یکجای': 13509, 'نگردیدمی': 13510, 'فرت': 13511, 'یادم': 13512, 'انگار': 13513, 'فرازیم': 13514, 'سربپیچم': 13515, 'بنشینی': 13516, 'سواریش': 13517, 'دشخوار': 13518, 'آشناییش': 13519, 'کارتان': 13520, 'ندوخت': 13521, 'گرینست': 13522, 'نوساز': 13523, 'ربودم': 13524, 'رابخوانم': 13525, 'سیستانش': 13526, 'بچگی': 13527, 'غرچگی': 13528, 'نیکخواهان': 13529, 'زیانش': 13530, 'ماهیش': 13531, 'نشدی': 13532, 'برگذشتم': 13533, 'آشکارم': 13534, 'کارهایی': 13535, 'گشتاسپست': 13536, 'لهراسپست': 13537, 'بانگشان': 13538, 'بردمش': 13539, 'مراکاین': 13540, 'شدستم': 13541, 'تیزیش': 13542, 'ستبرست': 13543, 'بازوت': 13544, 'ناخنش': 13545, 'نشانمت': 13546, 'یافتستم': 13547, 'اندرآیی': 13548, 'مستای': 13549, 'فرازم': 13550, 'برنگیری': 13551, 'برنامد': 13552, 'یکتادلی': 13553, 'سختئی': 13554, 'نپیچاند': 13555, 'میاور': 13556, 'تاختت': 13557, 'بگرویده': 13558, 'کوهم': 13559, 'زیرم': 13560, 'مردمم': 13561, 'کریاس': 13562, 'ناسزایی': 13563, 'نشویم': 13564, 'بخسب': 13565, 'سرافشاند': 13566, 'برآسودی': 13567, 'سرافراخته': 13568, 'بازخر': 13569, 'گریزم': 13570, 'بشنوند': 13571, 'قبادی': 13572, 'فعفور': 13573, 'گوه': 13574, 'هماوردت': 13575, 'برخاستم': 13576, 'تنهاست': 13577, 'مستیز': 13578, 'برآویختن': 13579, 'تگاپوی': 13580, 'جنگخواه': 13581, 'دهانشان': 13582, 'نادرستی': 13583, 'سگزیان': 13584, 'نفرموده': 13585, 'نستوده': 13586, 'گرانمایگانشان': 13587, 'مشوران': 13588, 'رانت': 13589, 'برآمیزم': 13590, 'نهیبش': 13591, 'شگاع': 13592, 'شراع': 13593, 'تیرها': 13594, 'برآهنج': 13595, 'گناهت': 13596, 'امشبی': 13597, 'پذرفتی': 13598, 'رودش': 13599, 'خروشیدنی': 13600, 'جانتان': 13601, 'راایم': 13602, 'بخستم': 13603, 'تیمارتر': 13604, 'پارهٔ': 13605, 'فسونگر': 13606, 'پاسی': 13607, 'رساد': 13608, 'بازمانم': 13609, 'بپرهیزی': 13610, 'گزی': 13611, 'مکوب': 13612, 'گزپرست': 13613, 'پرها': 13614, 'برآویز': 13615, 'نشمرده': 13616, 'بکوبمت': 13617, 'روندست': 13618, 'کشتنیم': 13619, 'هزارت': 13620, 'پرستارورا': 13621, 'همنشین': 13622, 'میار': 13623, 'ننالیدم': 13624, 'برگشتی': 13625, 'برفتد': 13626, 'گریم': 13627, 'بیاموزش': 13628, 'برخوردن': 13629, 'نوگیر': 13630, 'نگریزد': 13631, 'نستایدت': 13632, 'اندرآویخته': 13633, 'جوله': 13634, 'شستند': 13635, 'درآویختند': 13636, 'اندرآویختند': 13637, 'بیناد': 13638, 'بع': 13639, 'شمارت': 13640, 'بدزاد': 13641, 'ندرود': 13642, 'بدگوش': 13643, 'زردهشتی': 13644, 'تیزبر': 13645, 'کوبی': 13646, 'شیونی': 13647, 'شادیم': 13648, 'دیدارت': 13649, 'نخجیرگاه': 13650, 'کاینم': 13651, 'احمد': 13652, 'بددین': 13653, 'مونس': 13654, 'ماهان': 13655, 'ازماه': 13656, 'نخچیرگاهی': 13657, 'براندازهٔ': 13658, 'حربهٔ': 13659, 'مرابر': 13660, 'براندم': 13661, 'برنویسم': 13662, 'سرشارهٔ': 13663, 'غرمست': 13664, 'نخچیرگور': 13665, 'گردگوی': 13666, 'یکتاه': 13667, 'نکوخواه': 13668, 'نخوا': 13669, 'خستگیهات': 13670, 'مپالای': 13671, 'نبگذشت': 13672, 'شیرگیرا': 13673, 'کنداورا': 13674, 'بیوسنده': 13675, 'بشستندش': 13676, 'درزهایش': 13677, 'برآلوده': 13678, 'جاهی': 13679, 'باگل': 13680, 'نپوشی': 13681, 'لشکراندر': 13682, 'کاستخوان': 13683, 'آویختنش': 13684, 'بنال': 13685, 'ناچریدن': 13686, 'ناخوردنش': 13687, 'نازکش': 13688, 'ماتمش': 13689, 'ماری': 13690, 'سورش': 13691, 'زندگانیم': 13692, 'رازدارش': 13693, 'مپیچید': 13694, 'بویدش': 13695, 'تارکم': 13696, 'کردندش': 13697, 'آزموه': 13698, 'افسونگر': 13699, 'گردنکشانت': 13700, 'تاجهای': 13701, 'دنیا': 13702, 'غور': 13703, 'گامی': 13704, 'بسیچیدن': 13705, 'نیرما': 13706, 'درپذیرفتش': 13707, 'بینوایی': 13708, 'بامایه': 13709, 'درگری': 13710, 'براندوده': 13711, 'پرندش': 13712, 'دبق': 13713, 'همایش': 13714, 'گازرگهی': 13715, 'خردم': 13716, 'پایین': 13717, 'شهوار': 13718, 'دانشت': 13719, 'گوهرمرا': 13720, 'خواریم': 13721, 'ناشادگر': 13722, 'گردانی': 13723, 'فرهنگیانش': 13724, 'گازری': 13725, 'بنشانیم': 13726, 'پدرجوی': 13727, 'دستکاران': 13728, 'کامکاران': 13729, 'رواق': 13730, 'زادبومت': 13731, 'زناگه': 13732, 'وزی': 13733, 'هرآنچ': 13734, 'اواز': 13735, 'کاتشکده': 13736, 'نگفتند': 13737, 'شهریور': 13738, 'بدسگالانت': 13739, 'نورسته': 13740, 'اشنان': 13741, 'مسعود': 13742, 'ژویین': 13743, 'رمح': 13744, 'بدفیلقوس': 13745, 'آزادگانرا': 13746, 'خایهٔ': 13747, 'نکهتش': 13748, 'سوزندهٔ': 13749, 'اسکندرش': 13750, 'داراش': 13751, 'داراکنون': 13752, 'ستانید': 13753, 'نوشاد': 13754, 'حکیمی': 13755, 'ترین': 13756, 'ندروی': 13757, 'زمانیش': 13758, 'بنواختی': 13759, 'بنشاختی': 13760, 'خیزرانش': 13761, 'قضیب': 13762, 'محب': 13763, 'پروریدت': 13764, 'کمترند': 13765, 'تیرهٔ': 13766, 'نبخشید': 13767, 'نریزیم': 13768, 'مداراست': 13769, 'نسوخت': 13770, 'شادمانیم': 13771, 'ورزیدهٔ': 13772, 'شبانت': 13773, 'اصفهانند': 13774, 'برماند': 13775, 'بازدارم': 13776, 'فوران': 13777, 'ماهیارش': 13778, 'خسرویش': 13779, 'پهلویش': 13780, 'رومت': 13781, 'پیشگان': 13782, 'بیاویزم': 13783, 'پیراهنیم': 13784, 'نمودار': 13785, 'هرکسم': 13786, 'مگری': 13787, 'دارهای': 13788, 'سنگسار': 13789, 'بپویند': 13790, 'پرافروزش': 13791, 'خامهٔ': 13792, 'کاف': 13793, 'نون': 13794, 'چرانی': 13795, 'ناچرند': 13796, 'صافی': 13797, 'صوفی': 13798, 'دوریشی': 13799, 'بشکنید': 13800, 'بگشادمان': 13801, 'رساناد': 13802, 'خزانست': 13803, 'زودش': 13804, 'زداید': 13805, 'دارابشان': 13806, 'مکاه': 13807, 'رنگها': 13808, 'گیاهای': 13809, 'پیداتر': 13810, 'روزن': 13811, 'مردمش': 13812, 'چونی': 13813, 'درستان': 13814, 'کلان': 13815, 'نرنجی': 13816, 'مسگال': 13817, 'یونانی': 13818, 'تشنگان': 13819, 'جواب': 13820, 'خردشان': 13821, 'گاوی': 13822, 'گوسالهٔ': 13823, 'بردمیدی': 13824, 'سکندرش': 13825, 'بازشو': 13826, 'نادیدنی': 13827, 'کمندست': 13828, 'ندیمان': 13829, 'فیلسوفست': 13830, 'نکوبم': 13831, 'کیدست': 13832, 'بودکان': 13833, 'لیک': 13834, 'آگنی': 13835, 'فیلسوفش': 13836, 'زدایم': 13837, 'بیامیزم': 13838, 'مویت': 13839, 'گیاهان': 13840, 'تریاکها': 13841, 'بیامیختی': 13842, 'تیمسار': 13843, 'نجومیست': 13844, 'هندویست': 13845, 'آگننده': 13846, 'نژد': 13847, 'خداوندپاک': 13848, 'شاهانت': 13849, 'منقش': 13850, 'بیینید': 13851, 'مرایار': 13852, 'قیصریم': 13853, 'قرطاوس': 13854, 'بنگاشتند': 13855, 'کاهنین': 13856, 'خرطومهاشان': 13857, 'باددمان': 13858, 'دادگویی': 13859, 'مردیم': 13860, 'آواس': 13861, 'نوزاش': 13862, 'بازپس': 13863, 'سورگ': 13864, 'خشمست': 13865, 'ناگذشته': 13866, 'خزاعست': 13867, 'قحطان': 13868, 'حجاز': 13869, 'سماعیلیان': 13870, 'قصر': 13871, 'نگارد': 13872, 'نبساید': 13873, 'آموزگارت': 13874, 'تهدید': 13875, 'درچاره': 13876, 'اسیرم': 13877, 'باژم': 13878, 'سنگش': 13879, 'بدودر': 13880, 'پوششی': 13881, 'خوانهای': 13882, 'کوکبش': 13883, 'مبسای': 13884, 'بلورین': 13885, 'رزمست': 13886, 'فیلقوسم': 13887, 'کاسکندری': 13888, 'بخایید': 13889, 'کشتمی': 13890, 'بدریدمی': 13891, 'ایدری': 13892, 'بنشانمت': 13893, 'بداندایش': 13894, 'استه': 13895, 'نیازاردش': 13896, 'نشماردش': 13897, 'مرزش': 13898, 'کنداوریست': 13899, 'کندمی': 13900, 'بازخواند': 13901, 'بپسندی': 13902, 'درآر': 13903, 'ارنده': 13904, 'روح': 13905, 'القدس': 13906, 'نیامیزم': 13907, 'خواهت': 13908, 'اونسازیم': 13909, 'پندمندش': 13910, 'برفرازیم': 13911, 'ازمایش': 13912, 'شهرکش': 13913, 'دنیی': 13914, 'بگزیدمش': 13915, 'شوشها': 13916, 'دانهٔ': 13917, 'درازیش': 13918, 'ملمع': 13919, 'بیرنگ': 13920, 'تازهٔ': 13921, 'نگذرم؟': 13922, 'پنجهٔ': 13923, 'طیوش': 13924, 'پرهیزگاران': 13925, 'آمدنت': 13926, 'بپوششی': 13927, 'جنبندگانند': 13928, 'آزش': 13929, 'بامرگ': 13930, 'گرزآهنی': 13931, 'بویی': 13932, 'چنارست': 13933, 'بویید': 13934, 'کژدم': 13935, 'بالابلند': 13936, 'خاشاکها': 13937, 'اژدهایست': 13938, 'نینجامید': 13939, 'مشعل': 13940, 'گلزاربرخاست': 13941, 'چرمها': 13942, 'پیوندش': 13943, 'رودگانیش': 13944, 'عمری': 13945, 'رزمهای': 13946, 'برزنست': 13947, 'زنست': 13948, 'دوشیزگانیم': 13949, 'باریده': 13950, 'کردشوی': 13951, 'آسا': 13952, 'مردوش': 13953, 'هرومش': 13954, 'ماش': 13955, 'برآویختنی': 13956, 'بینادلی': 13957, 'وگرچه': 13958, 'بلندند': 13959, 'اخترند': 13960, 'چیستتان': 13961, 'زهشتان': 13962, 'برگزیدیم': 13963, 'صدی': 13964, 'بسختیم': 13965, 'اباگوهران': 13966, 'شویمش': 13967, 'درگشت': 13968, 'دودی': 13969, 'ازنجا': 13970, 'مغرب': 13971, 'مردمانی': 13972, 'آبگیرست': 13973, 'حیوانش': 13974, 'نمیرد': 13975, 'الله': 13976, 'اکبر': 13977, 'برنگیرند': 13978, 'چنگالها': 13979, 'سرافیل': 13980, 'صوری': 13981, 'پرزنم': 13982, 'برندارد': 13983, 'رویهاشان': 13984, 'گوشهاشان': 13985, 'ندرآید': 13986, 'سالشان': 13987, 'یالشان': 13988, 'گیاشان': 13989, 'کفتر': 13990, 'بغرند': 13991, 'بپردازدی': 13992, 'نبیروی': 13993, 'کج': 13994, 'گوگردش': 13995, 'قندیلهای': 13996, 'بستری': 13997, 'نیکویهایش': 13998, 'نگنجی': 13999, 'شکنجی': 14000, 'بازپرسش': 14001, 'چادرم': 14002, 'کرگدن': 14003, 'گزندت': 14004, 'میگون': 14005, 'فرجامشان': 14006, 'زورقی': 14007, 'سندیان': 14008, 'بنداه': 14009, 'هرجامهٔ': 14010, 'گوشهای': 14011, 'بدواندر': 14012, 'سطالیس': 14013, 'سرانتان': 14014, 'هرانچش': 14015, 'عمار': 14016, 'آگنند': 14017, 'آنستم': 14018, 'پاکم': 14019, 'برخورید': 14020, 'اسکندریست': 14021, 'برگرفتی': 14022, 'نهفتی': 14023, 'کسودی': 14024, 'پوشی': 14025, 'نپوشیده': 14026, 'جویدت': 14027, 'شهرزور': 14028, 'نهفتند': 14029, 'داریی': 14030, 'کاچ': 14031, 'نپروردییی': 14032, 'نیازردییی': 14033, 'گردگار': 14034, 'ستای': 14035, 'شادمانست': 14036, 'بیسچ': 14037, 'تاجهاندار': 14038, 'بوالمظفر': 14039, 'تاجدارند': 14040, 'شوال': 14041, 'خراجی': 14042, 'عزل': 14043, 'سامانیان': 14044, 'خانها': 14045, 'قامت': 14046, 'منظرش': 14047, 'رزانیان': 14048, 'بیخشان': 14049, 'تاریخشان': 14050, 'نیاویخت': 14051, 'مزدورت': 14052, 'خاب': 14053, 'بپیراستی': 14054, 'تأویل': 14055, 'ساسانم': 14056, 'بهمنش': 14057, 'سرشبانان': 14058, 'آلتی': 14059, 'سرفرازیش': 14060, 'نیازیش': 14061, 'بیاموختندش': 14062, 'ژیانست': 14063, 'سرفرازش': 14064, 'پسروار': 14065, 'گناهست': 14066, 'فرستادمت': 14067, 'گستاخی': 14068, 'تانه': 14069, 'نشکیبی': 14070, 'سگالی': 14071, 'مستشان': 14072, 'دریابد': 14073, 'نپردخت': 14074, 'پندگوی': 14075, 'رکیبش': 14076, 'بابکی': 14077, 'کاسکندر': 14078, 'فرومایگی': 14079, 'بازگفتند': 14080, 'بشناختش': 14081, 'نژندست': 14082, 'شکیبادل': 14083, 'ترنگیدن': 14084, 'بدمهر': 14085, 'کاخش': 14086, 'خوره': 14087, 'روستاها': 14088, 'میتین': 14089, 'بدخوار': 14090, 'ردشیر': 14091, 'بسترش': 14092, 'کردان': 14093, 'نامجویند': 14094, 'برآنند': 14095, 'کماندار': 14096, 'اندرنهاد': 14097, 'گست': 14098, 'بومهاشان': 14099, 'کاسپان': 14100, 'دوکدانی': 14101, 'برآمیختندی': 14102, 'شبانگه': 14103, 'نشمردی': 14104, 'اندرگزید': 14105, 'رشتی': 14106, 'برشت': 14107, 'بریسم': 14108, 'برشتی': 14109, 'بریسی': 14110, 'خواهری': 14111, 'کرمک': 14112, 'شهراوی': 14113, 'برترش': 14114, 'کمینگاه': 14115, 'بازنشناخت': 14116, 'چشیدم': 14117, 'نقشی': 14118, 'کرمست': 14119, 'انداختیمی': 14120, 'راهید': 14121, 'سپهبدار': 14122, 'جوانانش': 14123, 'هوشمندش': 14124, 'بیارست': 14125, 'سرب': 14126, 'خربندگان': 14127, 'روستایی': 14128, 'نپرداختندی': 14129, 'خراسانیم': 14130, 'آسانیم': 14131, 'سرپرستان': 14132, 'خریدارجوی': 14133, 'خربنده': 14134, 'لوید': 14135, 'تراکی': 14136, 'حلقوم': 14137, 'عیار': 14138, 'میزبانان': 14139, 'پسندیدن': 14140, 'سپهر؟': 14141, 'یکپار': 14142, 'خودکرده': 14143, 'سزایم': 14144, 'بسیست': 14145, 'هرکسیست': 14146, 'خسروآیین': 14147, 'خوردنست': 14148, 'کردنست': 14149, 'نیروده': 14150, 'بفزای': 14151, 'تهمت': 14152, 'نشوید': 14153, 'بازیدن': 14154, 'اردشیری': 14155, 'گواه': 14156, 'نراندی': 14157, 'بازیابد': 14158, 'آسایم': 14159, 'برآمیزد': 14160, 'کاهدش': 14161, 'سردست': 14162, 'شاپورم': 14163, 'گواکن': 14164, 'ببازیش': 14165, 'بردارش': 14166, 'هزاری': 14167, 'برافراختندی': 14168, 'دیوانش': 14169, 'بپراگنید': 14170, 'ناتوانا': 14171, 'پارساست': 14172, 'حرب': 14173, 'بشناختی': 14174, 'زنهارده': 14175, 'بومی': 14176, 'دبستان': 14177, 'نچستی': 14178, 'تیرگردان': 14179, 'خداوندی': 14180, 'بازمان': 14181, 'تابندگی': 14182, 'شهرهاست': 14183, 'منازید': 14184, 'نبپسندد': 14185, 'نوبهارش': 14186, 'نتازی': 14187, 'دلید': 14188, 'آمیزش': 14189, 'مگسلید': 14190, 'ماگیتی': 14191, 'ایمنیم': 14192, 'برفگندی': 14193, 'خردها': 14194, 'شادمانند': 14195, 'ناپایداری': 14196, 'بگدازدت': 14197, 'ننوازدت': 14198, 'باددار': 14199, 'شنودی': 14200, 'بازدانی': 14201, 'شموس': 14202, 'فرهختگی': 14203, 'یکدیگرند': 14204, 'دیدیمشان': 14205, 'عامیان': 14206, 'وجو': 14207, 'عام': 14208, 'مدرا': 14209, 'برآشوبی': 14210, 'خردمندت': 14211, 'بستایدت': 14212, 'بهترین': 14213, 'فرزندمان': 14214, 'بگزاردم': 14215, 'ببالند': 14216, 'نگهدارتان': 14217, 'تارش': 14218, 'زبادش': 14219, 'میسان': 14220, 'برکهٔ': 14221, 'اردشیرست': 14222, 'شادگردان': 14223, 'پرداز': 14224, 'برگشادن': 14225, 'نبایستش': 14226, 'نسپرسم': 14227, 'کافرین': 14228, 'عرش': 14229, 'سخنهایشان': 14230, 'ستاییم': 14231, 'گوهرافشان': 14232, 'بزمون': 14233, 'بمه': 14234, 'ونیوش': 14235, 'بهرش': 14236, 'گشتاده': 14237, 'مهریم': 14238, 'نامدرای': 14239, 'گرزسپ': 14240, 'روانی': 14241, 'انبان': 14242, 'خرماستان': 14243, 'شوشتر': 14244, 'ششتر': 14245, 'بهرست': 14246, 'صلوات': 14247, 'منبرش': 14248, 'عهدش': 14249, 'رازتان': 14250, 'ستیره': 14251, 'فرمانرا': 14252, 'نگرددت': 14253, 'بردباران': 14254, 'کرایش': 14255, 'بترسان': 14256, 'جهانگیرتر': 14257, 'بدردت': 14258, 'تارکت': 14259, 'بارامش': 14260, 'ورزی': 14261, 'کوشیدنی': 14262, 'مهربانان': 14263, 'بددلیست': 14264, 'کاهلیست': 14265, 'رخشانی': 14266, 'فرزوان': 14267, 'آمختی': 14268, 'پندگیری': 14269, 'نخواندش': 14270, 'ناسپاست': 14271, 'کاهلان': 14272, 'افرازد': 14273, 'سوکش': 14274, 'مغولی': 14275, 'مسلسل': 14276, 'شهرو': 14277, 'بازاری': 14278, 'بحرین': 14279, 'نرسیست': 14280, 'مملکت': 14281, 'وش': 14282, 'بببست': 14283, 'بیارمت': 14284, 'قندیل': 14285, 'شمعست': 14286, 'خمهای': 14287, 'بدژدر': 14288, 'بویها': 14289, 'بارپردخته': 14290, 'برانگیزی': 14291, 'عرابی': 14292, 'ذوالاکتاف': 14293, 'یگه': 14294, 'منجم': 14295, 'اسد': 14296, 'فتح': 14297, 'گفتندش': 14298, 'توبر': 14299, 'نتابیم': 14300, 'کزداد': 14301, 'هرانچم': 14302, 'ایرانیی': 14303, 'کلیدش': 14304, 'تنهاش': 14305, 'وارت': 14306, 'نگذری': 14307, 'مصیب': 14308, 'شیرگرم': 14309, 'آغارم': 14310, 'سمر': 14311, 'خورستان': 14312, 'باغبانی': 14313, 'بیگهی': 14314, 'ایرانیم': 14315, 'بیشش': 14316, 'دادپاسخ': 14317, 'جاثلیقی': 14318, 'اسیرند': 14319, 'میزان': 14320, 'تومان': 14321, 'سمت': 14322, 'بدیدست': 14323, 'سربرافراختند': 14324, 'یگان': 14325, 'دوگانه': 14326, 'خجستست': 14327, 'نازپرورده': 14328, 'پیچیم': 14329, 'جرنگیدن': 14330, 'بترکید': 14331, 'نیاکانش': 14332, 'ببریدشان': 14333, 'قیصرکشان': 14334, 'ترسایی': 14335, 'رهنمایت': 14336, 'مهاری': 14337, 'برنهادش': 14338, 'خانش': 14339, 'یانسش': 14340, 'مهیب': 14341, 'مذبح': 14342, 'موشح': 14343, 'خوابنی': 14344, 'نسازمت': 14345, 'عوض': 14346, 'دلفروزو': 14347, 'رومش': 14348, 'ابلهیست': 14349, 'اسیرانش': 14350, 'صورتگری': 14351, 'فتادستم': 14352, 'ظلمت': 14353, 'دیوانگانست': 14354, 'سراپاش': 14355, 'سالیانش': 14356, 'چابک': 14357, 'آزداران': 14358, 'آدینه': 14359, 'خوردیم': 14360, 'عم': 14361, 'مطمع': 14362, 'طمع': 14363, 'چهارانش': 14364, 'مردپیر': 14365, 'کاهنده': 14366, 'برافشان': 14367, 'بپراگنم': 14368, 'آگنم': 14369, 'کافد': 14370, 'ببافد': 14371, 'بفرازد': 14372, 'سترده': 14373, 'صلابها': 14374, 'دایگانی': 14375, 'نجومی': 14376, 'سودمندت': 14377, 'سواریم': 14378, 'هندسه': 14379, 'بازارگه': 14380, 'سایگان': 14381, 'دایگی': 14382, 'سیرشیر': 14383, 'فرهنگیانم': 14384, 'نوزت': 14385, 'گوانم': 14386, 'بیاموزیم': 14387, 'دانستن': 14388, 'برافگندن': 14389, 'خوشم': 14390, 'بتازم': 14391, 'پایدارش': 14392, 'اشقری': 14393, 'کمیتی': 14394, 'ارزشان': 14395, 'کوفه': 14396, 'مرزشان': 14397, 'باهنگ': 14398, 'نگذاریم': 14399, 'زادمرد': 14400, 'افزای': 14401, 'تاجدارست': 14402, 'کلبهٔ': 14403, 'نخاس': 14404, 'همتاش': 14405, 'بخاردش': 14406, 'سروهای': 14407, 'سروگاه': 14408, 'بخارید': 14409, 'درفشاند': 14410, 'برشکافید': 14411, 'پرشان': 14412, 'خیزدم': 14413, 'برانگیزدم': 14414, 'برآرست': 14415, 'معدنش': 14416, 'عدن': 14417, 'نخارید': 14418, 'برابرش': 14419, 'گنجیش': 14420, 'فرزندم': 14421, 'مفزای': 14422, 'نتوانی': 14423, 'بخشدم': 14424, 'بدرخشدم': 14425, 'دایگانم': 14426, 'کردهر': 14427, 'بدرو': 14428, 'بگریزم': 14429, 'شیرکش': 14430, 'بنددش': 14431, 'رامی': 14432, 'خوارشان': 14433, 'شهرگرد': 14434, 'بیاگندن': 14435, 'پهلوسیاه': 14436, 'مرغزاریست': 14437, 'نیازان': 14438, 'خسروش': 14439, 'شیبان': 14440, 'قیسیان': 14441, 'سخنهایش': 14442, 'جوانو': 14443, 'چیستشان': 14444, 'درشان': 14445, 'دودیم': 14446, 'پرنیاز': 14447, 'بازآوریدند': 14448, 'ایرانی': 14449, 'چرایید': 14450, 'شادیت': 14451, 'طینوشم': 14452, 'لئیمی': 14453, 'پدربر': 14454, 'شهم': 14455, 'بزرگیم': 14456, 'بنهیم': 14457, 'شهنشاهتان': 14458, 'گاهتان': 14459, 'بیفزایم': 14460, 'بکاهم': 14461, 'دلفروزی': 14462, 'کارگان': 14463, 'منذرش': 14464, 'ایرانیانش': 14465, 'پیرم': 14466, 'فرمایدت': 14467, 'گناهیم': 14468, 'فزایندگان': 14469, 'حواصل': 14470, 'جودرو': 14471, 'کافریدست': 14472, 'نشکنید': 14473, 'داریمتان': 14474, 'نیاریمتان': 14475, 'بادین': 14476, 'برد؟': 14477, 'راهیم': 14478, 'پادشاهید': 14479, 'نود': 14480, 'شهرشان': 14481, 'بادآفره': 14482, 'بیاویزد': 14483, 'عصایی': 14484, 'جهودی': 14485, 'سقاایست': 14486, 'کلنبک': 14487, 'بیود': 14488, 'ببودی': 14489, 'جایگاهیست': 14490, 'بخسپم': 14491, 'درآی': 14492, 'آبچین': 14493, 'سرگینش': 14494, 'بروبی': 14495, 'جاروب': 14496, 'روبم': 14497, 'بروبد': 14498, 'آزادیم': 14499, 'براهام': 14500, 'کنشت': 14501, 'پردرخت': 14502, 'قبضه': 14503, 'بارآور': 14504, 'چهرها': 14505, 'شتربارها': 14506, 'درکشم': 14507, 'مرد،': 14508, 'بکندست': 14509, 'زیردستت': 14510, 'افزار': 14511, 'کندکان': 14512, 'آتشش': 14513, 'شیروان': 14514, 'شیربان': 14515, 'نایژه': 14516, 'خودرست': 14517, 'حلالست': 14518, 'سبزجای': 14519, 'مهید': 14520, 'بگه': 14521, 'نج': 14522, 'مهترید': 14523, 'پرکشتمند': 14524, 'مزدورتان': 14525, 'جعدموی': 14526, 'نخی': 14527, 'ماناد': 14528, 'ازیراش': 14529, 'سیسنک': 14530, 'سوسنک': 14531, 'پدرمان': 14532, 'دوشیزه': 14533, 'دوشیزگی': 14534, 'هرچار': 14535, 'پرستارگان': 14536, 'آرا': 14537, 'بالینت': 14538, 'برکشتمند': 14539, 'مصقول': 14540, 'کاریگران': 14541, 'آخری': 14542, 'چشمهاشان': 14543, 'گستریم': 14544, 'ننازم': 14545, 'دریاستی': 14546, 'بخشیدی': 14547, 'پالانش': 14548, 'فرزو': 14549, 'کلنگی': 14550, 'پریدنش': 14551, 'گوزبن': 14552, 'گوزین': 14553, 'برآویختست': 14554, 'بازدارش': 14555, 'دلبران': 14556, 'کوبد': 14557, 'شکارت': 14558, 'شکافی': 14559, 'ساجند': 14560, 'پراگندگی': 14561, 'پسندیدشان': 14562, 'بگزیدشان': 14563, 'تازانهٔ': 14564, 'گردرانش': 14565, 'شیرافگنی': 14566, 'زیورست': 14567, 'صدست': 14568, 'شمردست': 14569, 'پریشان': 14570, 'بلنگید': 14571, 'بدزدند': 14572, 'آبه': 14573, 'گلابش': 14574, 'میگسارست': 14575, 'گویست': 14576, 'میزبانست': 14577, 'بداندیشت': 14578, 'ندرون': 14579, 'غروست': 14580, 'رخانت': 14581, 'همالم': 14582, 'گورش': 14583, 'سرایش': 14584, 'درها': 14585, 'فقاع': 14586, 'کمردار': 14587, 'ازانجای': 14588, 'تافتست': 14589, 'بازرم': 14590, 'سترگا': 14591, 'گنهکاریم': 14592, 'پنداریم': 14593, 'شهنشاهم': 14594, 'خندی': 14595, 'برنشینم': 14596, 'ایدو': 14597, 'زربر': 14598, 'دزدت': 14599, 'کشتمندش': 14600, 'شبانش': 14601, 'خارکندی': 14602, 'افرزو': 14603, 'سیصدهراز': 14604, 'کوهسارم': 14605, 'تارست': 14606, 'افتارد': 14607, 'ننمودمی': 14608, 'چیزیش': 14609, 'برافروز': 14610, 'پرهیزگاریت': 14611, 'تنهاشویم': 14612, 'معیوب': 14613, 'مهرگانی': 14614, 'سبتر': 14615, 'شهریوری': 14616, 'سطرخ': 14617, 'پرشور': 14618, 'کاینجا': 14619, 'بخسپید': 14620, 'میگساریم': 14621, 'پشمین': 14622, 'شیرگیری': 14623, 'برقوه': 14624, 'کمانشان': 14625, 'سرونش': 14626, 'خروران': 14627, 'دادخواهندگان': 14628, 'بخفتست': 14629, 'نوکند': 14630, 'کودکانند': 14631, 'بتوزیم': 14632, 'اندهش': 14633, 'پدرمرده': 14634, 'شبستاان': 14635, 'بازارگانش': 14636, 'بادامش': 14637, 'نیاوردی': 14638, 'کارزش': 14639, 'نخستنی': 14640, 'شاگر': 14641, 'ماهیانی': 14642, 'دوبار': 14643, 'جویباران': 14644, 'حصیری': 14645, 'حصیر': 14646, 'سرکه': 14647, 'ناشسته': 14648, 'انبوهی': 14649, 'دیگی': 14650, 'هریسه': 14651, 'بهرامت': 14652, 'دادجویی': 14653, 'اندرافگن': 14654, 'بدوشم': 14655, 'کاره،': 14656, 'پستانش': 14657, 'پستانها': 14658, 'شیرخشک': 14659, 'ربا': 14660, 'آبشخورش': 14661, 'شیراوی': 14662, 'باخنده': 14663, 'هرکاره': 14664, 'کاسهٔ': 14665, 'زیربا': 14666, 'پالیزبانی': 14667, 'فروزانت': 14668, 'مهرپیروز': 14669, 'دادبرزین': 14670, 'پرکشید': 14671, 'کشیدست': 14672, 'کاخیش': 14673, 'برانداختن': 14674, 'چنگ؟': 14675, 'درنگ؟': 14676, 'راحله': 14677, 'دستورش': 14678, 'کهل': 14679, 'پرنالهٔ': 14680, 'منجوق': 14681, 'تیربارد': 14682, 'آفتابست': 14683, 'میلی': 14684, 'گج': 14685, 'ارمنده': 14686, 'چگلی': 14687, 'بلخی': 14688, 'غرجگان': 14689, 'قنطار': 14690, 'پیداوسی': 14691, 'مشکهای': 14692, 'ادیم': 14693, 'کاروانان': 14694, 'سدگیر': 14695, 'بسختید': 14696, 'پیشهٔ': 14697, 'نرانید': 14698, 'پهلونژاد': 14699, 'فامست': 14700, 'ماشان': 14701, 'بتوزید': 14702, 'دیوانهایشان': 14703, 'نویسید': 14704, 'سنگیان': 14705, 'هانی': 14706, 'خواستندی': 14707, 'میاویز': 14708, 'رسولش': 14709, 'همانت': 14710, 'ترازوست': 14711, 'بیرونش': 14712, 'بیکرانه': 14713, 'بلنداختری': 14714, 'دستورت': 14715, 'موبدم': 14716, 'ناسزاوارتر': 14717, 'بیندیش': 14718, 'تندیش': 14719, 'دامنم': 14720, 'تاوانش': 14721, 'نمایدش': 14722, 'زودیاب': 14723, 'کارسازی': 14724, 'عنوانش': 14725, 'ارجش': 14726, 'ازارش': 14727, 'برپرند': 14728, 'پیلش': 14729, 'نرانند': 14730, 'پیوستگانم': 14731, 'فرودآی': 14732, 'خرابی': 14733, 'یالی': 14734, 'بیفراز': 14735, 'یزدگردم': 14736, 'پژوهم': 14737, 'هنوزست': 14738, 'بفزودی': 14739, 'ولایت': 14740, 'سپهداری': 14741, 'ملکت': 14742, 'نپیجم': 14743, 'تیرپر': 14744, 'هنگش': 14745, 'غمین': 14746, 'نشاندند': 14747, 'آمیختم': 14748, 'غمری': 14749, 'رهانیدهٔ': 14750, 'بینمش': 14751, 'کافورنیز': 14752, 'فشرده': 14753, 'تیزت': 14754, 'کهترش': 14755, 'گورست': 14756, 'بانام': 14757, 'ایرانیانست': 14758, 'یکدلانند': 14759, 'ستایند': 14760, 'بشکیب': 14761, 'بازیابیم': 14762, 'نداندت': 14763, 'پذیردش': 14764, 'مینوی': 14765, 'ترت': 14766, 'تراکانک': 14767, 'باوفا': 14768, 'دایگانش': 14769, 'دارمت': 14770, 'بیچون': 14771, 'نکوشم': 14772, 'آزادمردان': 14773, 'ارزانیانست': 14774, 'خطش': 14775, 'مندل': 14776, 'گذراند': 14777, 'خوابگاهی': 14778, 'میخوارگان': 14779, 'بزمساز': 14780, 'بهرامشاهست': 14781, 'افگار': 14782, 'بایستشان': 14783, 'گمانیم': 14784, 'پیکاری': 14785, 'خوردشان': 14786, 'گستردشان': 14787, 'خراجش': 14788, 'راستگویان': 14789, 'دانشیست': 14790, 'دانگ': 14791, 'گورگاهی': 14792, 'نابرومند': 14793, 'برزیگری': 14794, 'هل': 14795, 'کافرید': 14796, 'برنخیرد': 14797, 'سالاروش': 14798, 'کنت': 14799, 'پاییز': 14800, 'فغانی': 14801, 'ببودستشان': 14802, 'گویندگی': 14803, 'نرخی': 14804, 'انبارها': 14805, 'انباردار': 14806, 'ریست': 14807, 'آرمام': 14808, 'پیروزنام': 14809, 'بهرجایش': 14810, 'اکنونش': 14811, 'کارسازان': 14812, 'نخوانمت': 14813, 'میانجیست': 14814, 'سنانش': 14815, 'پیکارجویان': 14816, 'پرخراش': 14817, 'خوشنودی': 14818, 'دادآفرین': 14819, 'سپهبددل': 14820, 'بغزنین': 14821, 'بسیجم': 14822, 'بیوفا': 14823, 'بازخواهم': 14824, 'تیغست': 14825, 'سوفزار': 14826, 'میهن': 14827, 'بپیکان': 14828, 'بنماید': 14829, 'سوفراز': 14830, 'شودکار': 14831, 'قبادست': 14832, 'پراگندهٔ': 14833, 'ببربط': 14834, 'چر': 14835, 'بدادآفرین': 14836, 'کهانش': 14837, 'شراب': 14838, 'ننشاندی': 14839, 'بنامی': 14840, 'برنکرد': 14841, 'بندگانند': 14842, 'سایند': 14843, 'ئی': 14844, 'شاهنشاهی': 14845, 'برخوانده': 14846, 'رهانیدم': 14847, 'بندست': 14848, 'سرخوشنواز': 14849, 'ناسودمندم': 14850, 'ناهوشمندان': 14851, 'پروریدی': 14852, 'تخواهم': 14853, 'برگشادش': 14854, 'باهواز': 14855, 'انبازش': 14856, 'پسندیدیش': 14857, 'زانوی': 14858, 'کنداورش': 14859, 'ارزش': 14860, 'پسرزاد': 14861, 'کسریش': 14862, 'شهزاد': 14863, 'بشوخی': 14864, 'مندیا': 14865, 'فارقین': 14866, 'بیامختشان': 14867, 'بنوروز': 14868, 'اران': 14869, 'بامید': 14870, 'مارش': 14871, 'مردگویی': 14872, 'دادییم': 14873, 'بگشادییم': 14874, 'میکن': 14875, 'بخشیدنیست': 14876, 'بردرند': 14877, 'نگنجند': 14878, 'مزدکی': 14879, 'وراکی': 14880, 'بازگرداند': 14881, 'بخوربید': 14882, 'کژست': 14883, 'چندروز': 14884, 'مهرآذر': 14885, 'کارجو': 14886, 'سرآگنده': 14887, 'سرمرد': 14888, 'برآتشکده': 14889, 'بدسگالش': 14890, 'بیناییش': 14891, 'ولیعهد': 14892, 'مساو': 14893, 'بربباید': 14894, 'آسایشست': 14895, 'کبستش': 14896, 'بربدوخت': 14897, 'آبادشهر': 14898, 'نرستست': 14899, 'زیتون': 14900, 'جوز': 14901, 'خردادماه': 14902, 'روزنامه': 14903, 'افلاک': 14904, 'بگرگ': 14905, 'ژاندران': 14906, 'کارندگانرا': 14907, 'بدگو': 14908, 'بفریفتند': 14909, 'بافزونی': 14910, 'نشکیفتند': 14911, 'کوبیم': 14912, 'تاروپود': 14913, 'دادگرتر': 14914, 'پرهنرتر': 14915, 'کبر': 14916, 'برافراشت': 14917, 'بازپیچی': 14918, 'پیکرنگار': 14919, 'دوسرای': 14920, 'بربگذشت': 14921, 'ناایمن': 14922, 'بگرگان': 14923, 'یه': 14924, 'کسر': 14925, 'پارسازادگان': 14926, 'کافزایشست': 14927, 'برکنون': 14928, 'دشتهای': 14929, 'الانی': 14930, 'آزادمردی': 14931, 'پذیران': 14932, 'اگرچند': 14933, 'کوچگه': 14934, 'رختها': 14935, 'آوار': 14936, 'منذرست': 14937, 'بگور': 14938, 'کنامش': 14939, 'دادیابی': 14940, 'نبالد': 14941, 'بالاست': 14942, 'وزنده': 14943, 'گرانمایگی': 14944, 'بقار': 14945, 'برنگیریم': 14946, 'روینیه': 14947, 'قرطها': 14948, 'بخسبد': 14949, 'برمیمنه': 14950, 'منادی': 14951, 'بازماندی': 14952, 'ورارای': 14953, 'ازیران': 14954, 'یدرنگ': 14955, 'بزاندان': 14956, 'شوراب': 14957, 'گرانپایه': 14958, 'شده،': 14959, 'غرمش': 14960, 'بهامونی': 14961, 'دروازها': 14962, 'قاروره': 14963, 'مردلب': 14964, 'درختش': 14965, 'نوبر': 14966, 'پالان': 14967, 'نامزدشان': 14968, 'زآستی': 14969, 'اردن': 14970, 'براگنده': 14971, 'نشستنگهش': 14972, 'باردن': 14973, 'پالیزبانش': 14974, 'صدری': 14975, 'صدریش': 14976, 'جندشاپور': 14977, 'پرگنهکار': 14978, 'بفمود': 14979, 'کنارش': 14980, 'جیب': 14981, 'گرفتنش': 14982, 'مگرش': 14983, 'چوخون': 14984, 'بتابدهمی': 14985, 'عزیزی': 14986, 'آسانیی': 14987, 'ترساست': 14988, 'پروای': 14989, 'مسیحابود': 14990, 'سرآرند': 14991, 'مپیچان': 14992, 'نهنگش': 14993, 'ازنوش': 14994, 'بدگفتن': 14995, 'نیزهمداستان': 14996, 'هنرشد': 14997, 'ازپشت': 14998, 'برنوش': 14999, 'ومبادش': 15000, 'جاثلقیان': 15001, 'اوبود': 15002, 'کارخود': 15003, 'چهرچون': 15004, 'ابد': 15005, 'ورانوش': 15006, 'مسیحاست': 15007, 'مسیحای': 15008, 'اگرکشته': 15009, 'اگرمن': 15010, 'سرآمدبدو': 15011, 'زاسقف': 15012, 'کزنوش': 15013, 'ترسای': 15014, 'ناشخود': 15015, 'شهروز': 15016, 'گذرجوی': 15017, 'سرازدین': 15018, 'وطرب': 15019, 'وسستی': 15020, 'مغزسخن': 15021, 'حب': 15022, 'محشر': 15023, 'ولیست': 15024, 'بگزیندش': 15025, 'چگاو': 15026, 'نکوهنده': 15027, 'آزادسرو': 15028, 'بازند': 15029, 'ستا': 15030, 'شکارمنست': 15031, 'گزاریدن': 15032, 'چوچیزی': 15033, 'اندرکشیده': 15034, 'ازپیش': 15035, 'کزلب': 15036, 'توبود': 15037, 'برآویختشان': 15038, 'درشبستان': 15039, 'نوسخن': 15040, 'وزیرک': 15041, 'وخوب': 15042, 'بدکزان': 15043, 'چوان': 15044, 'برزبان': 15045, 'خوارگشت': 15046, 'روشنیهای': 15047, 'دانستیش': 15048, 'تیمارجان': 15049, 'بردانش': 15050, 'بموختن': 15051, 'گرخیره': 15052, 'چوداری': 15053, 'فشرد': 15054, 'آتشت': 15055, 'کاوش': 15056, 'باخرد': 15057, 'بشادیش': 15058, 'کزآتش': 15059, 'سرتاجور': 15060, 'ازآهرمنست': 15061, 'شبشان': 15062, 'بوزرجمهرجوان': 15063, 'باحکیمان': 15064, 'وشب': 15065, 'تارو': 15066, 'کافزون': 15067, 'کرانیکویی': 15068, 'وشایستگی': 15069, 'بکردن': 15070, 'هنرچیست': 15071, 'بردبارست': 15072, 'وستد': 15073, 'کامکار': 15074, 'کزبخشش': 15075, 'بارآورد': 15076, 'بهارآورد': 15077, 'بسایی': 15078, 'درآغاز': 15079, 'چیزکانت': 15080, 'چن': 15081, 'دوکدامست': 15082, 'برنکوهیده': 15083, 'اومرد': 15084, 'خوها': 15085, 'کدامش': 15086, 'زخشم': 15087, 'بخوابد': 15088, 'نادیدنیها': 15089, 'پارسای': 15090, 'ودروغ': 15091, 'د': 15092, 'نکوهشگر': 15093, 'خستن': 15094, 'درپاک': 15095, 'وجست': 15096, 'بدویت': 15097, 'راآشکار': 15098, 'وآز': 15099, 'چوجانست': 15100, 'پسرخواندش': 15101, 'ازخواسته': 15102, 'گرامیست': 15103, 'بدهراسان': 15104, 'چوسبزی': 15105, 'چوپرسند': 15106, 'پرسندگان': 15107, 'ازگهر': 15108, 'درخرد': 15109, 'کژیش': 15110, 'چوخرسند': 15111, 'دلانرا': 15112, 'برگرفتن': 15113, 'هنرخیره': 15114, 'نیکساز': 15115, 'هنگامت': 15116, 'چونادان': 15117, 'بنایافته': 15118, 'سختیش': 15119, 'ناشناس': 15120, 'بستیهد': 15121, 'چوگسترد': 15122, 'برکشی': 15123, 'دانات': 15124, 'دربی': 15125, 'سخنی': 15126, 'برمهان': 15127, 'پژوهیدن': 15128, 'کزبار': 15129, 'بکارد': 15130, 'برخوریم': 15131, 'نرنجد': 15132, 'دشوارش': 15133, 'ودوست': 15134, 'ازبن': 15135, 'وفرجام': 15136, 'برآر': 15137, 'برسرکلاه': 15138, 'چوپرهیزکاری': 15139, 'بکنداوری': 15140, 'جائی': 15141, 'خسبد': 15142, 'باست': 15143, 'رغم': 15144, 'فزودن': 15145, 'یادآورد': 15146, 'خوباشد': 15147, 'بگسلش': 15148, 'پرآهو': 15149, 'چوباشد': 15150, 'سرموبد': 15151, 'باکیست': 15152, 'پرآسایشست': 15153, 'ازخرد': 15154, 'برآهیختن': 15155, 'رایدون': 15156, 'تیزمغز': 15157, 'زیبندهٔ': 15158, 'بامزه': 15159, 'وگرباد': 15160, 'برگمارد': 15161, 'کارگاه': 15162, 'درنیستان': 15163, 'نیزبگذشت': 15164, 'شنودن': 15165, 'بیشیش': 15166, 'چوکمی': 15167, 'بفزایدت': 15168, 'برهماورد': 15169, 'وهستند': 15170, 'چومهتر': 15171, 'چوکهتر': 15172, 'برجایگاه': 15173, 'سوست': 15174, 'راخلعت': 15175, 'چوبنیاد': 15176, 'بپوشش': 15177, 'کاندروی': 15178, 'کموختی': 15179, 'درجگر': 15180, 'آژیرکن': 15181, 'تیرکن': 15182, 'توصف': 15183, 'چوسستی': 15184, 'بنگزایدت': 15185, 'بنفزایدت': 15186, 'نیزهم': 15187, 'بشر': 15188, 'رفی': 15189, 'ترآنکس': 15190, 'مپرتاب': 15191, 'چوهستی': 15192, 'دبیریست': 15193, 'بخط': 15194, 'سازیدهٔ': 15195, 'پایگاهی': 15196, 'وخلعت': 15197, 'جهاندارشاه': 15198, 'گیتیست': 15199, 'چونیکی': 15200, 'ازشاه': 15201, 'نعمتش': 15202, 'بهرهٔابی': 15203, 'سربپیچی': 15204, 'بدمگوی': 15205, 'وکشتی': 15206, 'لنگر': 15207, 'شیروشهدست': 15208, 'کارشاه': 15209, 'دربیابد': 15210, 'صدف': 15211, 'راوی': 15212, 'هربدره': 15213, 'بایستم': 15214, 'نخوردی': 15215, 'ریختندی': 15216, 'وفرخ': 15217, 'برکار': 15218, 'رابکس': 15219, 'وخوردنیها': 15220, 'آموز': 15221, 'زشهد': 15222, 'وآراستی': 15223, 'نزدنوشین': 15224, 'ماکشته': 15225, 'راکرد': 15226, 'مشعبد': 15227, 'دواسبه': 15228, 'گرچند': 15229, 'بیرنج': 15230, 'بدوگشت': 15231, 'وخنجر': 15232, 'ومیگسار': 15233, 'پادشهر': 15234, 'پیلسته': 15235, 'کازرده': 15236, 'درسور': 15237, 'وپستی': 15238, 'بودزان': 15239, 'برهیون': 15240, 'گردیده': 15241, 'باسرکشان': 15242, 'بدآمد': 15243, 'هراسست': 15244, 'شهرما': 15245, 'واسبان': 15246, 'قجغارباشی': 15247, 'وافراسیاب': 15248, 'نپرداخت': 15249, 'زبلخ': 15250, 'سومان': 15251, 'زهرسوی': 15252, 'وتیغهای': 15253, 'وسغدی': 15254, 'برتوده': 15255, 'وسنک': 15256, 'بستنش': 15257, 'وهرکس': 15258, 'وبسته': 15259, 'چنگهاشان': 15260, 'جنگاوری': 15261, 'اوشاد': 15262, 'دورویند': 15263, 'چنینتان': 15264, 'بسیجیم': 15265, 'خوکنم': 15266, 'ودهش': 15267, 'توشاد': 15268, 'وکسری': 15269, 'تاکوه': 15270, 'درکوه': 15271, 'باگفت': 15272, 'خت': 15273, 'بیاگاهد': 15274, 'دوکارست': 15275, 'بنبشت': 15276, 'سخندان': 15277, 'درگاهشان': 15278, 'وبزرگی': 15279, 'مراخواند': 15280, 'وهیتال': 15281, 'لعلگون': 15282, 'اندرنهان': 15283, 'باشهریار': 15284, 'وبازار': 15285, 'راجایگه': 15286, 'راخواستی': 15287, 'گردسواران': 15288, 'بلوچی': 15289, 'چوسیصدز': 15290, 'وخشت': 15291, 'وهوا': 15292, 'وهند': 15293, 'وآواز': 15294, 'وهیچ': 15295, 'هنرگرد': 15296, 'یارهمراه': 15297, 'کمانکش': 15298, 'رهٔ': 15299, 'جرنگ': 15300, 'اومهان': 15301, 'برنامهٔ': 15302, 'کوسپهر': 15303, 'وتندی': 15304, 'گانیم': 15305, 'برتوانایی': 15306, 'اونشمرد': 15307, 'توتخت': 15308, 'درشتاب': 15309, 'وخاکست': 15310, 'ازهش': 15311, 'تواو': 15312, 'چوسازد': 15313, 'رانداند': 15314, 'برخشم': 15315, 'اوچشم': 15316, 'نامها': 15317, 'هرگونهٔ': 15318, 'وخویشی': 15319, 'وسرفرازی': 15320, 'راباید': 15321, 'ودستگاه': 15322, 'وگفتند': 15323, 'پرتو': 15324, 'وشایسته': 15325, 'وچرب': 15326, 'تاموبد': 15327, 'ونرمی': 15328, 'راسرافگنده': 15329, 'چودانست': 15330, 'بگزاردند': 15331, 'بفشاردند': 15332, 'ماکند': 15333, 'برگرامی': 15334, 'نپوشند': 15335, 'گزینده': 15336, 'بهرنیکی': 15337, 'زپیوند': 15338, 'پشتت': 15339, 'وگمان': 15340, 'بایدکه': 15341, 'گیرندت': 15342, 'درخترست': 15343, 'گوهرتن': 15344, 'کارخاقان': 15345, 'آرزویست': 15346, 'چهارست': 15347, 'برآسایم': 15348, 'درحجره': 15349, 'برسران': 15350, 'وگوهرنداشت': 15351, 'گرده': 15352, 'برنگارش': 15353, 'دورند': 15354, 'وخاتون': 15355, 'افزایشست': 15356, 'زیبست': 15357, 'شاسیته': 15358, 'ازعود': 15359, 'بارکرده': 15360, 'برکوههٔ': 15361, 'مردش': 15362, 'برافراشتند': 15363, 'وحریر': 15364, 'بفرموده': 15365, 'چوشاید': 15366, 'خردگیرد': 15367, 'مشکشان': 15368, 'وسالار': 15369, 'بسطام': 15370, 'وگرگان': 15371, 'طشتهای': 15372, 'وسمرقند': 15373, 'وچاج': 15374, 'قجغار': 15375, 'کردگارمکان': 15376, 'شهرهای': 15377, 'جغد': 15378, 'وسومان': 15379, 'وختلان': 15380, 'وخوارزم': 15381, 'وآموی': 15382, 'دارمی': 15383, 'چوکیخسرو': 15384, 'برستیم': 15385, 'وگزند': 15386, 'یاراوی': 15387, 'چونرسی': 15388, 'ارمزد': 15389, 'تیزدستی': 15390, 'ومه': 15391, 'ریزیم': 15392, 'وترک': 15393, 'وهشیار': 15394, 'برمور': 15395, 'سرفرازیم': 15396, 'بدریم': 15397, 'ودد': 15398, 'وهرگونه': 15399, 'سرموبدان': 15400, 'آزداگان': 15401, 'دیلمان': 15402, 'شهرشد': 15403, 'ازمیش': 15404, 'پرگاو': 15405, 'پرگوسفند': 15406, 'بهرخانه': 15407, 'ولب': 15408, 'بخشیدشان': 15409, 'هرنامداری': 15410, 'وهرکشوری': 15411, 'کشتورزی': 15412, 'پرسبزه': 15413, 'وچارپای': 15414, 'وموبد': 15415, 'بتوزد': 15416, 'چوخصمش': 15417, 'تیرست': 15418, 'پستر': 15419, 'کاغذ': 15420, 'اگرمرد': 15421, 'برکف': 15422, 'بپردازد': 15423, 'دستگاهش': 15424, 'برآرزو': 15425, 'ریا': 15426, 'دوچیزیست': 15427, 'وسودمندی': 15428, 'دوگیتی': 15429, 'دربرتری': 15430, 'وشرمست': 15431, 'پیرامنش': 15432, 'چوجانش': 15433, 'درکژی': 15434, 'نیامست': 15435, 'نشنو': 15436, 'چوخستو': 15437, 'درفزونیش': 15438, 'ادیو': 15439, 'ودوروی': 15440, 'ببنده': 15441, 'خیم': 15442, 'باینده': 15443, 'برخوشی': 15444, 'پرستست': 15445, 'همنشانست': 15446, 'نیکوکه': 15447, 'خشندی': 15448, 'امیدست': 15449, 'برهنر': 15450, 'وخوارست': 15451, 'وسست': 15452, 'زدودن': 15453, 'ودور': 15454, 'بدکاستی': 15455, 'وهنر': 15456, 'پوششست': 15457, 'کوششست': 15458, 'پرسشی': 15459, 'بدروز': 15460, 'ازمردمان': 15461, 'کوشاترست': 15462, 'دوگوشش': 15463, 'نیوشاترست': 15464, 'مازو': 15465, 'آبادجای': 15466, 'وهشیارتر': 15467, 'دردل': 15468, 'نومیدتر': 15469, 'بیفتد': 15470, 'وسترگ': 15471, 'وآرایشست': 15472, 'پیداکن': 15473, 'ازبی': 15474, 'برتنش': 15475, 'بیگار': 15476, 'وپادشا': 15477, 'بدینی': 15478, 'فرماروانست': 15479, 'کزایشان': 15480, 'کوبود': 15481, 'کوشه': 15482, 'وگفتا': 15483, 'بناپارسا': 15484, 'خشن': 15485, 'ستیهیدن': 15486, 'توانگرکه': 15487, 'فرمودن': 15488, 'وداشتن': 15489, 'بیفگن': 15490, 'ازخداوند': 15491, 'دلگیرت': 15492, 'کرزبان': 15493, 'گهرکرد': 15494, 'والماس': 15495, 'هرمهره': 15496, 'رفتار': 15497, 'فرمودشاه': 15498, 'ومهره': 15499, 'ومشک': 15500, 'چویابی': 15501, 'ببازیم': 15502, 'وموبدان': 15503, 'یکبارش': 15504, 'وپرسید': 15505, 'کارتست': 15506, 'وتندرست': 15507, 'توچه': 15508, 'توخرد': 15509, 'بنشان': 15510, 'دلربای': 15511, 'وفرزانگان': 15512, 'اندرونش': 15513, 'بدوبخت': 15514, 'واسبی': 15515, 'بادل': 15516, 'دومهره': 15517, 'بارهای': 15518, 'رسیداین': 15519, 'وآورد': 15520, 'راهنمای': 15521, 'دورن': 15522, 'وخوانندگان': 15523, 'قنوح': 15524, 'کزنیک': 15525, 'تاهرک': 15526, 'درهند': 15527, 'برهندوان': 15528, 'وهمیدون': 15529, 'دادگو': 15530, 'جمهورشان': 15531, 'وشایستهٔ': 15532, 'سازشد': 15533, 'دوساله': 15534, 'وجهان': 15535, 'باسوگ': 15536, 'وگردان': 15537, 'نژادیست': 15538, 'دوموبد': 15539, 'برمادر': 15540, 'ازماکدامست': 15541, 'باکه': 15542, 'چودارید': 15543, 'افسرکراست': 15544, 'پسرهم': 15545, 'هرد': 15546, 'وبنام': 15547, 'زرشک': 15548, 'اوفتادند': 15549, 'شهرزایشان': 15550, 'پرازبیم': 15551, 'مادرخروشان': 15552, 'کزماکه': 15553, 'برشکیباترست': 15554, 'باموبدی': 15555, 'شمارابباید': 15556, 'وباکام': 15557, 'اودارد': 15558, 'خردباید': 15559, 'وتباهی': 15560, 'ازموی': 15561, 'سرنهد': 15562, 'اوآمدند': 15563, 'گرکنم': 15564, 'بمارد': 15565, 'کرکسست': 15566, 'ازگل': 15567, 'اگرهرگز': 15568, 'وبردل': 15569, 'سن': 15570, 'باگردش': 15571, 'ودلشان': 15572, 'وجوی': 15573, 'وپاکان': 15574, 'آموختیم': 15575, 'برافروختیم': 15576, 'درسندلی': 15577, 'بهرخواست': 15578, 'ومردانگان': 15579, 'کارجنگ': 15580, 'یاریم': 15581, 'همرای': 15582, 'زگو': 15583, 'دوگردد': 15584, 'بایکی': 15585, 'بتا': 15586, 'بهترم': 15587, 'بریافتم': 15588, 'آمنی': 15589, 'وجوشن': 15590, 'دومهتر': 15591, 'چنگها': 15592, 'ازجای': 15593, 'برکوهه': 15594, 'وهندی': 15595, 'رابدوخت': 15596, 'پندگو': 15597, 'غره': 15598, 'راباد': 15599, 'چوآهنگ': 15600, 'گورکیب': 15601, 'ازعنان': 15602, 'نپوشد': 15603, 'گوچو': 15604, 'خونست': 15605, 'پندآموزگار': 15606, 'توچهر': 15607, 'برنگذری': 15608, 'وفغفور': 15609, 'پاکزاده': 15610, 'آرزویت': 15611, 'کآسمان': 15612, 'زوانت': 15613, 'توخود': 15614, 'کیستی': 15615, 'دومیل': 15616, 'چودیدی': 15617, 'تارامش': 15618, 'شیرآفتاب': 15619, 'برکشور': 15620, 'ازیلان': 15621, 'اوسخن': 15622, 'بگیریدش': 15623, 'زدهلیز': 15624, 'زیرخون': 15625, 'وگو': 15626, 'چودریای': 15627, 'یلانی': 15628, 'کارزدار': 15629, 'شاس': 15630, 'توازپیش': 15631, 'وشاد': 15632, 'بپالیز': 15633, 'زیباست': 15634, 'پدرنامور': 15635, 'زآسانی': 15636, 'رایم': 15637, 'پیوندت': 15638, 'ماهرک': 15639, 'برماکنند': 15640, 'گوآمد': 15641, 'وآوای': 15642, 'برسرگذشت': 15643, 'زقلب': 15644, 'کجاشد': 15645, 'راگردش': 15646, 'ومسکین': 15647, 'بدیاشن': 15648, 'سرتنگ': 15649, 'چوازراه': 15650, 'وهرک': 15651, 'روزمگاه': 15652, 'پرمداراکنم': 15653, 'بگیت': 15654, 'تیزویران': 15655, 'وزرمگاه': 15656, 'زایشان': 15657, 'صدخانه': 15658, 'زساج': 15659, 'زعاج': 15660, 'وجنبان': 15661, 'دوصف': 15662, 'برات': 15663, 'گوآن': 15664, 'تاچمان': 15665, 'ابرهردری': 15666, 'هرسری': 15667, 'رابدی': 15668, 'بهربهره': 15669, 'ویافته': 15670, 'دردفتر': 15671, 'بنگریدم': 15672, 'بدنبشته': 15673, 'گیاییست': 15674, 'چورومی': 15675, 'گرددهم': 15676, 'بپیمایم': 15677, 'گرزنده': 15678, 'کارباخویشتن': 15679, 'نوشگفتی': 15680, 'رمزی': 15681, 'ونامه': 15682, 'سربارها': 15683, 'اوبرگشاد': 15684, 'زکسری': 15685, 'وپادشاهی': 15686, 'ازجهاندار': 15687, 'رابا': 15688, 'وفرخنده': 15689, 'بدونیک': 15690, 'درکم': 15691, 'وگستردنی': 15692, 'ازگیا': 15693, 'اوبرنیامد': 15694, 'کورده': 15695, 'زکارنبشته': 15696, 'بیدانش': 15697, 'همسخن': 15698, 'رانزد': 15699, 'سرپرازگفت': 15700, 'اوک': 15701, 'راشکوه': 15702, 'بیدانشست': 15703, 'رامشست': 15704, 'چودانش': 15705, 'چومردم': 15706, 'زدانایی': 15707, 'گیاچوکلیله': 15708, 'کتابی': 15709, 'چوجویی': 15710, 'توازگنج': 15711, 'اوبادشد': 15712, 'توبادی': 15713, 'کتابیست': 15714, 'وبدانش': 15715, 'ببرزوی': 15716, 'ازنامه': 15717, 'هندویی': 15718, 'نوگرفته': 15719, 'تواکنون': 15720, 'بنویسد': 15721, 'آروزست': 15722, 'مامون': 15723, 'بوالفضل': 15724, 'رودکی': 15725, 'چوپیوسته': 15726, 'مغزآگند': 15727, 'برندید': 15728, 'چومرغ': 15729, 'چوبدرید': 15730, 'کارگردان': 15731, 'چوبیدارشد': 15732, 'اورمزدم': 15733, 'برگسسته': 15734, 'بگساردم': 15735, 'مراسست': 15736, 'دستشوی': 15737, 'چولب': 15738, 'نکش': 15739, 'داناش': 15740, 'چراجستی': 15741, 'برخال': 15742, 'بشیند': 15743, 'پیشکارش': 15744, 'بمابخت': 15745, 'ودژخیم': 15746, 'فگار': 15747, 'دوچمش': 15748, 'وآزاد': 15749, 'فرزانگانرا': 15750, 'حالش': 15751, 'بپژوه': 15752, 'بپرسنده': 15753, 'وشوی': 15754, 'نسایم': 15755, 'بگزار': 15756, 'زیرنهفت': 15757, 'چودانا': 15758, 'دستورباشد': 15759, 'بگذرانی': 15760, 'پوزشست': 15761, 'زارست': 15762, 'پاسپانی': 15763, 'راندارد': 15764, 'مادرانشان': 15765, 'صدمایه': 15766, 'بازخرند': 15767, 'خرند': 15768, 'کاس': 15769, 'بازارگانند': 15770, 'وچنگ': 15771, 'فروشندهٔ': 15772, 'مکیدن': 15773, 'چودندان': 15774, 'ببرزین': 15775, 'برمیانست': 15776, 'وباشدش': 15777, 'گرزاسب': 15778, 'نورزید': 15779, 'بفرمودمش': 15780, 'کودهش': 15781, 'باهرکسی': 15782, 'وبخشنده': 15783, 'طبعست': 15784, 'شیرافگن': 15785, 'وکهتر': 15786, 'ازکاردار': 15787, 'دیرماند': 15788, 'کودکانرا': 15789, 'چونامش': 15790, 'کارخوار': 15791, 'ببیداری': 15792, 'سرنگونسار': 15793, 'گناهند': 15794, 'خنیا': 15795, 'زشتگویت': 15796, 'بازگیریم': 15797, 'جهودان': 15798, 'توافزون': 15799, 'وشاخ': 15800, 'تنگخوی': 15801, 'فراخان': 15802, 'بسترید': 15803, 'همانم': 15804, 'چوآواز': 15805, 'مغزهوش': 15806, 'چومحمود': 15807, 'خطیب': 15808, 'ازسرتاج': 15809, 'فشاننده': 15810, 'گراینه': 15811, 'ماکرد': 15812, 'ببادا': 15813, 'مسپارگوش': 15814, 'هرچون': 15815, 'وبازارگانان': 15816, 'برمردم': 15817, 'بدنیی': 15818, 'باندازهٔ': 15819, 'مفرمانی': 15820, 'پاکدینی': 15821, 'کنو': 15822, 'زاندازه': 15823, 'وبخشش': 15824, 'ببرگ': 15825, 'داناست': 15826, 'برسید': 15827, 'فرر': 15828, 'چوفر': 15829, 'سفلگی': 15830, 'گرایند': 15831, 'بافتی': 15832, 'آموزشی': 15833, 'اوخاک': 15834, 'گفتاربس': 15835, 'توشدی': 15836, 'سپاست': 15837, 'نگذاشتیم': 15838, 'پیروی': 15839, 'بدانندگی': 15840, 'وفشانندگی': 15841, 'زمانرا': 15842, 'بدارو': 15843, 'نپالود': 15844, 'زبونتر': 15845, 'چومرگ': 15846, 'کزوییم': 15847, 'کزما': 15848, 'رنجتر': 15849, 'کهو': 15850, 'زنرا': 15851, 'کوشایی': 15852, 'کارناسودمند': 15853, 'وآغاز': 15854, 'چوگوید': 15855, 'سرایست': 15856, 'چوپالود': 15857, 'بدکمنش': 15858, 'بباریک': 15859, 'نفریبدت': 15860, 'نشستنت': 15861, 'نگرداندت': 15862, 'نابودنیست': 15863, 'بخشای': 15864, 'بخشودنیست': 15865, 'اکر': 15866, 'بناچیز': 15867, 'توتندی': 15868, 'کوشا': 15869, 'نیوشا': 15870, 'شاخها': 15871, 'ماندش': 15872, 'برشاخ': 15873, 'ساییم': 15874, 'وعنوان': 15875, 'نونشست': 15876, 'نبسود': 15877, 'دیدنی': 15878, 'بهرپایمردی': 15879, 'بعنوان': 15880, 'کمترم': 15881, 'بردامنست': 15882, 'برونم': 15883, 'یادگارم': 15884, 'دربارهٔ': 15885, 'پرکند': 15886, 'جنگشانرا': 15887, 'بدجا': 15888, 'ثلیق': 15889, 'سقیلان': 15890, 'باطرون': 15891, 'وبکنده': 15892, 'وخفتان': 15893, 'بروهم': 15894, 'ماهرکسست': 15895, 'نیکوکنش': 15896, 'هرمنی': 15897, 'قپان': 15898, 'بفرهنگیان': 15899, 'بخراشدش': 15900, 'بتوزی': 15901, 'وسرد': 15902, 'چوآیین': 15903, 'دوزان': 15904, 'کینت': 15905, 'وچندین': 15906, 'چومار': 15907, 'بتازه': 15908, 'کودکست': 15909, 'اندکست': 15910, 'پرکرده': 15911, 'درباژ': 15912, 'وساو': 15913, 'بکمی': 15914, 'وبیشیش': 15915, 'سرنهید': 15916, 'چوآسوده': 15917, 'محرم': 15918, 'شادند': 15919, 'وناز': 15920, 'مرگند': 15921, 'چوسالت': 15922, 'بسیجیدن': 15923, 'فسرده': 15924, 'ازکرد': 15925, 'گار': 15926, 'چوسال': 15927, 'وبینادل': 15928, 'بهوشش': 15929, 'بخوانیدش': 15930, 'نامدارنش': 15931, 'وکالبد': 15932, 'برمهتران': 15933, 'توپاسخ': 15934, 'سزاکیست': 15935, 'زودتر': 15936, 'اوشرم': 15937, 'وآزرم': 15938, 'دوستانرا': 15939, 'سرمهتران': 15940, 'پالایشست': 15941, 'رابکوشد': 15942, 'ازآرام': 15943, 'کزن': 15944, 'رادتر': 15945, 'دوستانش': 15946, 'چوگستاخ': 15947, 'سرشتش': 15948, 'ازشرم': 15949, 'لافهای': 15950, 'آفرنیش': 15951, 'چوقرطاس': 15952, 'ناسالخورده': 15953, 'آزادتر': 15954, 'بجستیم': 15955, 'بهشتاد': 15956, 'بخسبی': 15957, 'وبیدار': 15958, 'چوگردی': 15959, 'ومغز': 15960, 'سگال': 15961, 'چویابد': 15962, 'نوایی': 15963, 'وآزادگان': 15964, 'دونک': 15965, 'ترگم': 15966, 'ازبر': 15967, 'برمگذرید': 15968, 'بمستی': 15969, 'لوئلؤ': 15970, 'زبرجدت': 15971, 'بپیرایه': 15972, 'وسرخ': 15973, 'وسپید': 15974, 'نگارا': 15975, 'بهارا': 15976, 'چورنگت': 15977, 'بستایمت': 15978, 'ازهر': 15979, 'ماخ': 15980, 'بپرسیدمش': 15981, 'پیرخراسان': 15982, 'کردگانرا': 15983, 'بهرکشوری': 15984, 'بسایشست': 15985, 'برمهربانی': 15986, 'درخشش': 15987, 'چوبخشایش': 15988, 'بخشنودی': 15989, 'فزایی': 15990, 'میامیز': 15991, 'شهریارت': 15992, 'درکاستیست': 15993, 'درشتیش': 15994, 'نرمیست': 15995, 'سرنهی': 15996, 'کندواری': 15997, 'برشماست': 15998, 'سرگنج': 15999, 'ودرویش': 16000, 'درپادشاهی': 16001, 'وخوی': 16002, 'وچهر': 16003, 'وهمچون': 16004, 'بایزد': 16005, 'نسیت': 16006, 'بفزایدم': 16007, 'دوایی': 16008, 'ریشم': 16009, 'زاندان': 16010, 'ومژگان': 16011, 'سرنپیچی': 16012, 'توخورده': 16013, 'برخوب': 16014, 'دریک': 16015, 'لقمهٔ': 16016, 'ونغز': 16017, 'وافسرت': 16018, 'نیفزاییم': 16019, 'ونالان': 16020, 'زهرشد': 16021, 'برزینت': 16022, 'گزاری': 16023, 'توکیست': 16024, 'صدافزون': 16025, 'بسیمای': 16026, 'دوپیکر': 16027, 'سیمان': 16028, 'راپی': 16029, 'زسیمای': 16030, 'توخواهی': 16031, 'چوایزدگشسب': 16032, 'بکهتر': 16033, 'برخاستیم': 16034, 'ترکزاده': 16035, 'سزاوارنیست': 16036, 'جزاست': 16037, 'بگشادمت': 16038, 'فروپژمرید': 16039, 'کوشیده': 16040, 'چوخوانی': 16041, 'راسودمندی': 16042, 'رقعهٔ': 16043, 'دوسال': 16044, 'ازهرسویی': 16045, 'وآهرمنی': 16046, 'فروافگند': 16047, 'اندرهمی': 16048, 'سرهمی': 16049, 'رهنمائی': 16050, 'بدتری': 16051, 'چوپنهان': 16052, 'کارنده': 16053, 'نشگیفتی': 16054, 'کهترانرا': 16055, 'سپهبدنژادی': 16056, 'غوره': 16057, 'تاکهتر': 16058, 'خوشهٔ': 16059, 'خداوندش': 16060, 'خریده': 16061, 'بهرانجمن': 16062, 'هرکشور': 16063, 'مز': 16064, 'سازو': 16065, 'بدال': 16066, 'چوعباس': 16067, 'حمزه': 16068, 'ورست': 16069, 'ازتازیان': 16070, 'ازدیدشان': 16071, 'مارخوارند': 16072, 'سوسمار': 16073, 'جریده': 16074, 'رهانی': 16075, 'نامدارسترگ': 16076, 'برشهر': 16077, 'کزشهر': 16078, 'مینیه': 16079, 'زامید': 16080, 'پرسدم': 16081, 'بخواهندگی': 16082, 'صدو': 16083, 'پرستارزاده': 16084, 'وافسون': 16085, 'خوبند': 16086, 'وجز': 16087, 'نابردبار': 16088, 'شهریمن': 16089, 'جلد': 16090, 'چرده': 16091, 'تندگوی': 16092, 'پهلوانانشان': 16093, 'باندک': 16094, 'کشیدنش': 16095, 'بپوینده': 16096, 'پیچنده': 16097, 'باکوس': 16098, 'نشاینهای': 16099, 'وخورشید': 16100, 'چونیرو': 16101, 'ایراینان': 16102, 'بتابیم': 16103, 'عیبجوی': 16104, 'درصف': 16105, 'هشو': 16106, 'بیتن': 16107, 'درمیانه': 16108, 'سالگون': 16109, 'برکم': 16110, 'چوخواهید': 16111, 'بازارتان': 16112, 'رانید': 16113, 'وسوا': 16114, 'بیاو': 16115, 'هزا': 16116, 'جاسب': 16117, 'ازسه': 16118, 'وسازد': 16119, 'بهرا': 16120, 'زنزدیک': 16121, 'باگوی': 16122, 'جدان': 16123, 'وخسروپرست': 16124, 'تیزگفتار': 16125, 'میالای': 16126, 'زهرای': 16127, 'خوانچه': 16128, 'سرشسته': 16129, 'بفال': 16130, 'سودگشت': 16131, 'کاهست': 16132, 'لشکرساوه': 16133, 'بسیارگشت': 16134, 'بدامت': 16135, 'خوارشاه': 16136, 'بزشتی': 16137, 'ماناکه': 16138, 'سالارکیست': 16139, 'چراشد': 16140, 'جنگت': 16141, 'بپیل': 16142, 'شهریاریست': 16143, 'رزمجویی': 16144, 'سازدت': 16145, 'ببرگشتنت': 16146, 'بارانت': 16147, 'نیاوردت': 16148, 'مگربخت': 16149, 'روباز': 16150, 'دیومرد': 16151, 'برگذارم': 16152, 'انگی': 16153, 'گرمن': 16154, 'رابفرمود': 16155, 'رزمگان': 16156, 'چندپند': 16157, 'یافتستی': 16158, 'روشنند': 16159, 'جوشنند': 16160, 'اگربشمرد': 16161, 'ولشکر': 16162, 'گرددی': 16163, 'مهترت': 16164, 'نفزایدم': 16165, 'فریبندهٔ': 16166, 'شیفتست': 16167, 'مهرنیست': 16168, 'نشناسدی': 16169, 'اونیک': 16170, 'چوکشته': 16171, 'رامانم': 16172, 'وکیمیا': 16173, 'سربپیچانی': 16174, 'راچون': 16175, 'فشان': 16176, 'خواندمی': 16177, 'دادیی': 16178, 'فرستادیی': 16179, 'بگوشت': 16180, 'وسوار': 16181, 'مراکهترند': 16182, 'شارستانهای': 16183, 'توبکوبی': 16184, 'ببخشاییم': 16185, 'چوصف': 16186, 'تاسه': 16187, 'فرگیتی': 16188, 'برینگونه': 16189, 'جهانجویی': 16190, 'کارپیش': 16191, 'فروشند': 16192, 'راپیشه': 16193, 'دامست': 16194, 'بگوپال': 16195, 'درنی': 16196, 'سپیدیم': 16197, 'دواتست': 16198, 'شاییست': 16199, 'برترگ': 16200, 'وجادویست': 16201, 'وجستند': 16202, 'آهنینست': 16203, 'برسرنهید': 16204, 'بسپرید': 16205, 'وکار': 16206, 'برتازیی': 16207, 'هزبر': 16208, 'نامهربانیش': 16209, 'دورباش': 16210, 'چوترکان': 16211, 'مگرآنک': 16212, 'هرسوی': 16213, 'هرگوشه': 16214, 'کارآیمش': 16215, 'کارتنگ': 16216, 'چیزهایی': 16217, 'آهستگان': 16218, 'ازجادویی': 16219, 'رابکشتند': 16220, 'تویک': 16221, 'واز': 16222, 'برستور': 16223, 'چ': 16224, 'توگشت': 16225, 'هرنامدار': 16226, 'مگرگنج': 16227, 'هزبرست': 16228, 'وبهرام': 16229, 'چوپاسی': 16230, 'باغست': 16231, 'خشتی': 16232, 'سنگها': 16233, 'چوشیر': 16234, 'شیرمادر': 16235, 'مکی': 16236, 'مراهم': 16237, 'ترکیم': 16238, 'گریزانم': 16239, 'مغزی': 16240, 'بازجویم': 16241, 'دورکن': 16242, 'سورکن': 16243, 'زتن': 16244, 'دورکرد': 16245, 'چوبرهم': 16246, 'وچیزی': 16247, 'موده': 16248, 'یکسوی': 16249, 'اگرگنج': 16250, 'گوانجی': 16251, 'نخستینت': 16252, 'زمهتر': 16253, 'آزمایست': 16254, 'تودل': 16255, 'بگستاخی': 16256, 'برایش': 16257, 'اندریشه': 16258, 'زیرافسوس': 16259, 'چوتخم': 16260, 'پرهٔ': 16261, 'توهم': 16262, 'برگراینده': 16263, 'بربنده': 16264, 'چوتنگی': 16265, 'زپیغام': 16266, 'درازم': 16267, 'نیاش': 16268, 'بچربی': 16269, 'چویار': 16270, 'ازلشکرش': 16271, 'ونگه': 16272, 'وخانش': 16273, 'وفال': 16274, 'بتندیش': 16275, 'اوبه': 16276, 'راگله': 16277, 'زبختست': 16278, 'چوکاری': 16279, 'راخشم': 16280, 'تواندکیست': 16281, 'نیفتد': 16282, 'چوآنجارسی': 16283, 'مراکم': 16284, 'وسرسبک': 16285, 'ومغزی': 16286, 'تیزخونخوار': 16287, 'توبنیوش': 16288, 'بدمکن': 16289, 'وباکس': 16290, 'ونابخردی': 16291, 'ازشهنشاه': 16292, 'ترسانییم': 16293, 'وآسانییم': 16294, 'زگردنکشان': 16295, 'اوهمال': 16296, 'اوبدسگال': 16297, 'وآهسته': 16298, 'زوگشت': 16299, 'گورزمساز': 16300, 'ودگر': 16301, 'درشوید': 16302, 'تاشب': 16303, 'یازگار': 16304, 'ناکاسته': 16305, 'رستنش': 16306, 'زچیز': 16307, 'بهرمهره': 16308, 'ازکهان': 16309, 'درنهاد': 16310, 'وبرو': 16311, 'بسختند': 16312, 'زکشی': 16313, 'بیکسونهاد': 16314, 'اوشود': 16315, 'چونش': 16316, 'ببیندش': 16317, 'بدهلیز': 16318, 'جادوییها': 16319, 'انداره': 16320, 'چوآسود': 16321, 'تابار': 16322, 'شتران': 16323, 'بدصدهزار': 16324, 'برمی': 16325, 'وبنشست': 16326, 'ازتنگ': 16327, 'باداین': 16328, 'بسوری': 16329, 'بدیک': 16330, 'اوبخشش': 16331, 'دوبود': 16332, 'زشاهک': 16333, 'شاهک': 16334, 'سربرآرد': 16335, 'مگرشد': 16336, 'وخوردند': 16337, 'زنج': 16338, 'توازشهرمن': 16339, 'ودستش': 16340, 'وبتاج': 16341, 'بخورشیدوماه': 16342, 'آذرپناه': 16343, 'ازبرتریست': 16344, 'ومشتریست': 16345, 'سرازکوه': 16346, 'سرتاجداران': 16347, 'زخواب': 16348, 'دومنزل': 16349, 'اوبرگذشت': 16350, 'شهروده': 16351, 'چوپرموده': 16352, 'علفت': 16353, 'برتاسه': 16354, 'اورانخواند': 16355, 'دربلخ': 16356, 'زکرده': 16357, 'خشنودبود': 16358, 'زتیزی': 16359, 'ببرداشتن': 16360, 'راتوباز': 16361, 'رابزرگان': 16362, 'برنشینی': 16363, 'سربپیچیده': 16364, 'چوبنهاد': 16365, 'برمهرشاه': 16366, 'کدانی': 16367, 'شلوار': 16368, 'زتختی': 16369, 'نیزنشمارمت': 16370, 'زدرگاه': 16371, 'چوپاداش': 16372, 'ناسازگاری': 16373, 'زدادار': 16374, 'چورفتند': 16375, 'سگانند': 16376, 'زدرد': 16377, 'باصطخر': 16378, 'چونیک': 16379, 'وخواهندگان': 16380, 'ماخود': 16381, 'میخوارهٔ': 16382, 'گرمای': 16383, 'نامبرد': 16384, 'ارشیر': 16385, 'درگهر': 16386, 'بیادت': 16387, 'پرآگند': 16388, 'زینها': 16389, 'ازگمانی': 16390, 'زنخچیرگاه': 16391, 'بنخچیرگاه': 16392, 'کارلب': 16393, 'چورنگ': 16394, 'ازکارشان': 16395, 'چرارفتی': 16396, 'مراکرد': 16397, 'وببد': 16398, 'مگریز': 16399, 'بدوبازگفت': 16400, 'پرسیده': 16401, 'تاجورماند': 16402, 'خوابیست': 16403, 'جادوستانی': 16404, 'وجامهٔ': 16405, 'پرخنجری': 16406, 'داشته': 16407, 'برگاشته': 16408, 'وبنهاد': 16409, 'وایرانیان': 16410, 'اندرنشاند': 16411, 'ازونیزباد': 16412, 'راکم': 16413, 'کردآشکار': 16414, 'رامیان': 16415, 'نخواندند': 16416, 'چوهمدان': 16417, 'ودبیر': 16418, 'تیزگم': 16419, 'ودرمان': 16420, 'برخسته': 16421, 'ازپزشک': 16422, 'زمژگان': 16423, 'زدانندگان': 16424, 'کارآسان': 16425, 'دردمندیم': 16426, 'چوپرمودهٔ': 16427, 'راکارهاساختست': 16428, 'پرداختست': 16429, 'زتیمارجان': 16430, 'راگردیه': 16431, 'وانجام': 16432, 'وپاسخ': 16433, 'ماندید': 16434, 'برافشاندید': 16435, 'سرانید': 16436, 'وافسونگران': 16437, 'ازگرانمایگان': 16438, 'زبانهای': 16439, 'اوراه': 16440, 'نشتابد': 16441, 'خردیاروبا': 16442, 'برانداخت': 16443, 'بپیداگشسب': 16444, 'ازبنده': 16445, 'بندن': 16446, 'کامرا': 16447, 'چودرخور': 16448, 'ویازنده': 16449, 'بهمدان': 16450, 'وفراز': 16451, 'زنیک': 16452, 'زناآمده': 16453, 'زدیهیم': 16454, 'وکرده': 16455, 'بخرما': 16456, 'چوترسی': 16457, 'زخار': 16458, 'زگفتارشان': 16459, 'وتیره': 16460, 'زبرگشتن': 16461, 'اوبا': 16462, 'بندگیست': 16463, 'بدتخت': 16464, 'زهرگونه': 16465, 'ازبندگیست': 16466, 'زافگندگیست': 16467, 'زکاوس': 16468, 'رابشکرد': 16469, 'بدنهاد': 16470, 'چوگودرز': 16471, 'چوگفتند': 16472, 'ومباد': 16473, 'ودوهزار': 16474, 'وبرگستوانور': 16475, 'خوشنوار': 16476, 'دربیشهٔ': 16477, 'شیرگرگ': 16478, 'سرسوفزای': 16479, 'درتاج': 16480, 'بدگوهرانش': 16481, 'درپادشاهیش': 16482, 'پدربازخواهد': 16483, 'چوبرشاه': 16484, 'تاکار': 16485, 'جهاند': 16486, 'بنودرجهان': 16487, 'چونوشین': 16488, 'یاورانند': 16489, 'نیاگانت': 16490, 'باتن': 16491, 'خودکنی': 16492, 'ببسیار': 16493, 'ازبرادر': 16494, 'کهم': 16495, 'زودرشگفت': 16496, 'درانجمن': 16497, 'زهرمز': 16498, 'چراخلعت': 16499, 'ازهرمز': 16500, 'کزویاد': 16501, 'راکهتر': 16502, 'وچاکرند': 16503, 'درخروش': 16504, 'دفترست': 16505, 'ماسب': 16506, 'برامشگری': 16507, 'چوتو': 16508, 'آفریناد': 16509, 'پربوی': 16510, 'ورنگ': 16511, 'ونگار': 16512, 'پرپشیمانی': 16513, 'توباید': 16514, 'درماه': 16515, 'دربیش': 16516, 'وآرایشی': 16517, 'ببدره': 16518, 'نزدشاه': 16519, 'وکند': 16520, 'گتف': 16521, 'ازبیش': 16522, 'بردرشهریار': 16523, 'آزرمها': 16524, 'درناگهان': 16525, 'ابادگان': 16526, 'سرکشوری': 16527, 'زیل': 16528, 'وستوی': 16529, 'عمان': 16530, 'خنجست': 16531, 'تازیم': 16532, 'کشسب': 16533, 'پرازبیمم': 16534, 'اگرپیش': 16535, 'نشکنند': 16536, 'چوایمن': 16537, 'دوریم': 16538, 'فرستیش': 16539, 'بفرجامش': 16540, 'کارکوتاه': 16541, 'کیین': 16542, 'ززندان': 16543, 'زشهرت': 16544, 'زندانیم': 16545, 'توازشهریار': 16546, 'توآیم': 16547, 'رابکوشم': 16548, 'همشهری': 16549, 'درکی': 16550, 'بمزد': 16551, 'ازکارشاه': 16552, 'درگوش': 16553, 'ازخنجر': 16554, 'ازهرکس': 16555, 'فالگو': 16556, 'بیمایه': 16557, 'بریزدت': 16558, 'خواستستم': 16559, 'چوآید': 16560, 'ببرزود': 16561, 'سختیم': 16562, 'بدبختیم': 16563, 'م': 16564, 'درآیین': 16565, 'پرز': 16566, 'بشمشیرزد': 16567, 'خونخوار': 16568, 'گرخواستی': 16569, 'بدکردن': 16570, 'زخیمه': 16571, 'سردشمنت': 16572, 'سربگیتی': 16573, 'بدکار': 16574, 'چوکار': 16575, 'سربندگان': 16576, 'نفرینش': 16577, 'بگماشتند': 16578, 'شکری': 16579, 'مایکی': 16580, 'بگشتست': 16581, 'بویم': 16582, 'باهمرهان': 16583, 'اندرایوان': 16584, 'بافرهی': 16585, 'چوتاج': 16586, 'ازوگاه': 16587, 'نیکوشود': 16588, 'بماهی': 16589, 'سروپای': 16590, 'بتارک': 16591, 'ازبنه': 16592, 'کارخسرو': 16593, 'آشتیست': 16594, 'سرماتهیست': 16595, 'وربخت': 16596, 'رابسوخت': 16597, 'دوربانگ': 16598, 'تابنزد': 16599, 'نابختیار': 16600, 'بسوزن': 16601, 'نخستی': 16602, 'فرمایی': 16603, 'ناهمال': 16604, 'بادازجهان': 16605, 'پژمان': 16606, 'زگستهم': 16607, 'بازجویند': 16608, 'ازنخست': 16609, 'اویکیست': 16610, 'ببیگانگانشان': 16611, 'دمنه': 16612, 'ودمنه': 16613, 'چوگردوی': 16614, 'رادمان': 16615, 'وتوشه': 16616, 'چاربهر': 16617, 'بنمایمش': 16618, 'نوازمش': 16619, 'بستایمش': 16620, 'روسپهبد': 16621, 'زهردوسپاه': 16622, 'زبدخواه': 16623, 'وخشک': 16624, 'برخویش': 16625, 'برابلق': 16626, 'درزخم': 16627, 'چوبرق': 16628, 'آیینه': 16629, 'پرکینه': 16630, 'اگربسته': 16631, 'گرکشته': 16632, 'اورابرت': 16633, 'زیک': 16634, 'زدیبای': 16635, 'روسپی': 16636, 'زپستی': 16637, 'راسر': 16638, 'وگرز': 16639, 'برجنگ': 16640, 'قبایش': 16641, 'بدانستش': 16642, 'دودگون': 16643, 'خوابیده': 16644, 'بفرمانبری': 16645, 'توبار': 16646, 'داندکه': 16647, 'سردگر': 16648, 'بدیهاش': 16649, 'افشانی': 16650, 'پردادی': 16651, 'توپرمغزی': 16652, 'تودرگاه': 16653, 'ودیهیم': 16654, 'مداراد': 16655, 'کارتو': 16656, 'زدیدار': 16657, 'ایرانت': 16658, 'خرمم': 16659, 'کمندیت': 16660, 'مالیده': 16661, 'بیاویزمت': 16662, 'توآید': 16663, 'مهمانت': 16664, 'وفرانرواست': 16665, 'یزدانی': 16666, 'بشاهنشهی': 16667, 'نزیباست': 16668, 'وچوهرمز': 16669, 'بدوداستانت': 16670, 'ازبندهٔ': 16671, 'کارتر': 16672, 'زیباسری': 16673, 'بداختری': 16674, 'استخوانت': 16675, 'بسگ': 16676, 'چراگتشه': 16677, 'پرودرد': 16678, 'مغیلان': 16679, 'مهتریست': 16680, 'آمختت': 16681, 'وفرود': 16682, 'پرزامید': 16683, 'زشیر': 16684, 'وسیم': 16685, 'اگرکام': 16686, 'واسپ': 16687, 'نیزده': 16688, 'فشانم': 16689, 'رادهم': 16690, 'زبهرامیان': 16691, 'دیویست': 16692, 'زدیوان': 16693, 'بوستانی': 16694, 'زجان': 16695, 'نمودت': 16696, 'بشاخی': 16697, 'وبارش': 16698, 'بجوینده': 16699, 'برزت': 16700, 'وبیدادگر': 16701, 'بنابودنیها': 16702, 'پرعقاب': 16703, 'وبتخت': 16704, 'برباد': 16705, 'ندارمت': 16706, 'بازهشتیم': 16707, 'اندرانداختی': 16708, 'ناپاکی': 16709, 'جزبدی': 16710, 'دگرکاندر': 16711, 'ونامی': 16712, 'هرزمان': 16713, 'خرددارتر': 16714, 'ازکارت': 16715, 'بلهراسپ': 16716, 'وزاده': 16717, 'شداندر': 16718, 'خارستانها': 16719, 'وکشت': 16720, 'رازو': 16721, 'بسنجیم': 16722, 'ونیرو': 16723, 'وباداد': 16724, 'چوآشفته': 16725, 'زدفتر': 16726, 'بسترم': 16727, 'ناپاکدل': 16728, 'ماهمه': 16729, 'یادآرد': 16730, 'چیزگشتست': 16731, 'بنانرا': 16732, 'کارآیدت': 16733, 'ودرد': 16734, 'درناسپاسان': 16735, 'وبرترمنش': 16736, 'برماه': 16737, 'آرشم': 16738, 'سرکشم': 16739, 'بروچارصد': 16740, 'زپیلان': 16741, 'چودیو': 16742, 'ازمغفرم': 16743, 'زتختت': 16744, 'وتختش': 16745, 'وبختش': 16746, 'سیاهت': 16747, 'وسلیح': 16748, 'چواسکندری': 16749, 'جزاندر': 16750, 'وکارکرد': 16751, 'توباشی': 16752, 'زخشنودی': 16753, 'ارفزون': 16754, 'فکندن': 16755, 'پرگناهش': 16756, 'وارون': 16757, 'وپند': 16758, 'بردلت': 16759, 'ورشک': 16760, 'پندست': 16761, 'سرافکنده': 16762, 'ساسانی': 16763, 'وشبان': 16764, 'بساسان': 16765, 'وبرگشت': 16766, 'زخاقانیان': 16767, 'اوبربپای': 16768, 'چوخواهرش': 16769, 'ازجوانی': 16770, 'تیزوتند': 16771, 'درآشتی': 16772, 'بخواهر': 16773, 'داناسری': 16774, 'باتوگفت': 16775, 'بهرخویش': 16776, 'زگاوان': 16777, 'وبروی': 16778, 'پدرزنده': 16779, 'کالهٔ': 16780, 'برزمی': 16781, 'وبردمید': 16782, 'روزگارنبرد': 16783, 'ند': 16784, 'وپیروزبخت': 16785, 'چراکردی': 16786, 'ازتخمهٔ': 16787, 'بجایند': 16788, 'راپاک': 16789, 'بروبرگماشت': 16790, 'چوسام': 16791, 'شیردرنده': 16792, 'چوبگذشت': 16793, 'پرستیده': 16794, 'وکارکن': 16795, 'داندم': 16796, 'ترساندم': 16797, 'اگریار': 16798, 'برنشینید': 16799, 'آروز': 16800, 'لاش': 16801, 'سازما': 16802, 'لشکرکش': 16803, 'گریشان': 16804, 'وفرمان': 16805, 'واردبیل': 16806, 'ارمنیه': 16807, 'مازخسرو': 16808, 'کارگردد': 16809, 'لشکرآتش': 16810, 'سرافسر': 16811, 'برلشکر': 16812, 'پرنداوری': 16813, 'بزنگوی': 16814, 'تاتخوار': 16815, 'چوپیلان': 16816, 'برسریکدگر': 16817, 'وبنه': 16818, 'تنیم': 16819, 'زجنگ': 16820, 'بربارگی': 16821, 'رابخست': 16822, 'درنشست': 16823, 'ازه': 16824, 'بسیارمر': 16825, 'جزبه': 16826, 'کاربی': 16827, 'نیاویختم': 16828, 'چوجایی': 16829, 'توبخت': 16830, 'وخواستست': 16831, 'فریدونیان': 16832, 'یارانت': 16833, 'هشتیم': 16834, 'درجستنش': 16835, 'خونیان': 16836, 'کزشاه': 16837, 'فطیرست': 16838, 'اوسوار': 16839, 'پیرفرخنده': 16840, 'زخرما': 16841, 'وهنگام': 16842, 'سرخی': 16843, 'خواستا': 16844, 'کلاته': 16845, 'وزانجایگه': 16846, 'ابرپای': 16847, 'پیچانم': 16848, 'ماآنک': 16849, 'نبرداشتندی': 16850, 'زرخشنده': 16851, 'زگرما': 16852, 'برپهلوان': 16853, 'زپور': 16854, 'فرمودمت': 16855, 'بستودمت': 16856, 'زبد': 16857, 'ورادیش': 16858, 'فداکردمش': 16859, 'وبایست': 16860, 'نخواهمت': 16861, 'مطرف': 16862, 'زردفام': 16863, 'ناپدیدست': 16864, 'پیرتر': 16865, 'تابوی': 16866, 'چاربار': 16867, 'بیدارتست': 16868, 'گوست': 16869, 'باستا': 16870, 'کردگاربلند': 16871, 'بازناید': 16872, 'یارما': 16873, 'تاجاودان': 16874, 'راآب': 16875, 'سالاربود': 16876, 'بدانگونه': 16877, 'سرتخت': 16878, 'زگاه': 16879, 'سنباد': 16880, 'تاکسی': 16881, 'سرجنگیان': 16882, 'زجانش': 16883, 'ماکهتریم': 16884, 'بذر': 16885, 'دخته': 16886, 'کوبرین': 16887, 'مغنوید': 16888, 'رابباد': 16889, 'اندرزنند': 16890, 'یورش': 16891, 'زپند': 16892, 'توفرمان': 16893, 'افرازم': 16894, 'توانمش': 16895, 'ارث': 16896, 'برآرمم': 16897, 'چودود': 16898, 'زیرقبای': 16899, 'چوبندوی': 16900, 'ازخشم': 16901, 'اوچون': 16902, 'جنباند': 16903, 'یارگر': 16904, 'راکجا': 16905, 'نکشتیم': 16906, 'زایدر': 16907, 'وگیا': 16908, 'اهله': 16909, 'باهله': 16910, 'گرلشکر': 16911, 'مکنشان': 16912, 'ناهاروسست': 16913, 'توچیست': 16914, 'قیس': 16915, 'حارثم': 16916, 'وارثم': 16917, 'فراتست': 16918, 'ماندگانیم': 16919, 'توشست': 16920, 'سهر': 16921, 'ترو': 16922, 'دهیدش': 16923, 'چودستور': 16924, 'ازگوشت': 16925, 'خرهٔ': 16926, 'بازارگانم': 16927, 'برتریها': 16928, 'دربگشت': 16929, 'وابر': 16930, 'نوییان': 16931, 'اوریغ': 16932, 'پدرگشته': 16933, 'پلیدی': 16934, 'توشاهی': 16935, 'دردین': 16936, 'زارت': 16937, 'فتد': 16938, 'پیرداننده': 16939, 'برگذرد': 16940, 'برگشا': 16941, 'بستامم': 16942, 'چوسوگند': 16943, 'ترسگار': 16944, 'زمیغ': 16945, 'ریغ': 16946, 'وشاپور': 16947, 'دلانید': 16948, 'حریرآر': 16949, 'یاوه': 16950, 'بسایید': 16951, 'دهلیزشان': 16952, 'چوبالوی': 16953, 'خوارکرد': 16954, 'مرجانور': 16955, 'وگست': 16956, 'شنبلیدش': 16957, 'ازناله': 16958, 'برمرد': 16959, 'نیستیمان': 16960, 'خواستیمی': 16961, 'زیانیم': 16962, 'آهوشود': 16963, 'ایرانیانیم': 16964, 'زبوم': 16965, 'کامگاران': 16966, 'فرستادگانم': 16967, 'کارماست': 16968, 'گرکینه': 16969, 'وهشت': 16970, 'داورت': 16971, 'دیم': 16972, 'پیشینه': 16973, 'قسطنیه': 16974, 'برناشد': 16975, 'برکینها': 16976, 'آزردنی': 16977, 'ستمدیدگان': 16978, 'بفروشم': 16979, 'انگشتها': 16980, 'برخوانم': 16981, 'زدان': 16982, 'زچیزکسان': 16983, 'زپیوستن': 16984, 'زقیصر': 16985, 'نویسند': 16986, 'برتاجها': 16987, 'وچینی': 16988, 'وپیوستهٔ': 16989, 'بهمداستان': 16990, 'پدرخواستیم': 16991, 'بخویشی': 16992, 'بدمیش': 16993, 'کمیت': 16994, 'تاشمع': 16995, 'بگریان': 16996, 'برآفتی': 16997, 'شیفته': 16998, 'رابخان': 16999, 'راببین': 17000, 'نخروشد': 17001, 'رهانیست': 17002, 'ازنامور': 17003, 'اندرزتان': 17004, 'سرماهی': 17005, 'وارزتان': 17006, 'وهریک': 17007, 'ودادیم': 17008, 'سوکواریم': 17009, 'سرشکست': 17010, 'سزیدی': 17011, 'اگرخود': 17012, 'بربخندی': 17013, 'معلق': 17014, 'چوما': 17015, 'هندوش': 17016, 'اثیر': 17017, 'نعز': 17018, 'بسو': 17019, 'راببد': 17020, 'ایوانهاتان': 17021, 'شماری': 17022, 'شیرش': 17023, 'رخبین': 17024, 'جهودش': 17025, 'وبیچاره': 17026, 'نایی': 17027, 'فن': 17028, 'واژه': 17029, 'پناهند': 17030, 'ببخشیدن': 17031, 'راکزین': 17032, 'کهتربود': 17033, 'بسیارکرد': 17034, 'ازتوایران': 17035, 'ازدرکارزار': 17036, 'واسپان': 17037, 'ازکردگار': 17038, 'بریشمش': 17039, 'جلیلش': 17040, 'شاهوا': 17041, 'ودلگسل': 17042, 'ونامدار': 17043, 'بردرش': 17044, 'تارفتنش': 17045, 'راتیز': 17046, 'وزانجای': 17047, 'بااوسه': 17048, 'ورزمخواه': 17049, 'وکشورش': 17050, 'یارباشد': 17051, 'رابکوکب': 17052, 'ثریاکنم': 17053, 'جزاندیشهٔ': 17054, 'یارومهر': 17055, 'هواشد': 17056, 'زآزادگان': 17057, 'بیام': 17058, 'وراهی': 17059, 'بررمه': 17060, 'دوگرد': 17061, 'تاکیند': 17062, 'ازلشکری': 17063, 'کجاکار': 17064, 'سونگه': 17065, 'اوخال': 17066, 'گرآید': 17067, 'وباشد': 17068, 'جزاوی': 17069, 'راخاک': 17070, 'وخسرو': 17071, 'مردکیست': 17072, 'نخفتست': 17073, 'وخیمه': 17074, 'سردشمنان': 17075, 'نالم': 17076, 'سگالم': 17077, 'تومپسند': 17078, 'چوبیدار': 17079, 'نرفتست': 17080, 'جزبرتری': 17081, 'بساسانیان': 17082, 'رمزد': 17083, 'نیندیشم': 17084, 'چراخویشتن': 17085, 'ازمغاک': 17086, 'خسروبرم': 17087, 'نوبرم': 17088, 'ونیک': 17089, 'بکرسی': 17090, 'ولرزان': 17091, 'زپیشت': 17092, 'هوارا': 17093, 'چودیدند': 17094, 'بفریبدت': 17095, 'براسپ': 17096, 'میمن': 17097, 'وبیم': 17098, 'دربیشه': 17099, 'ومیمنه': 17100, 'چوکام': 17101, 'چوبرخاست': 17102, 'خاشجوی': 17103, 'کرابخت': 17104, 'تامیان': 17105, 'چواو': 17106, 'بیاموزمش': 17107, 'زکوت': 17108, 'فروریختی': 17109, 'روپیش': 17110, 'تومگریز': 17111, 'نخایی': 17112, 'زننگ': 17113, 'ونیزه': 17114, 'زونام': 17115, 'بکوت': 17116, 'تاسینه': 17117, 'خندهٔ': 17118, 'هزاره': 17119, 'اوکشته': 17120, 'نخندم': 17121, 'نیاویختی': 17122, 'گسسپ': 17123, 'تابریده': 17124, 'رازود': 17125, 'ازکوت': 17126, 'دوختش': 17127, 'دربر': 17128, 'دلشکسته': 17129, 'چکاچک': 17130, 'برفکند': 17131, 'چید': 17132, 'ازجوشنست': 17133, 'ورامیمنه': 17134, 'ودلیر': 17135, 'تاکوس': 17136, 'ازبرپشت': 17137, 'تامیمنه': 17138, 'دیوفش': 17139, 'دربندگی': 17140, 'ونشان': 17141, 'توپاداش': 17142, 'چوهنگام': 17143, 'زاندیشه': 17144, 'چوارغنده': 17145, 'برپیل': 17146, 'برتیرباران': 17147, 'چوابر': 17148, 'زپیکان': 17149, 'برکمر': 17150, 'برسرآورد': 17151, 'اودمان': 17152, 'واندرکشید': 17153, 'دوخونی': 17154, 'تونشنیدی': 17155, 'ریمنی': 17156, 'راباش': 17157, 'ذیل': 17158, 'چومردان': 17159, 'سرفرازن': 17160, 'دادمردی': 17161, 'ناکسم': 17162, 'خسروهمه': 17163, 'ایزدگشسپ': 17164, 'وگردوی': 17165, 'گوتاجور': 17166, 'توتنهاشدی': 17167, 'رازدشمن': 17168, 'ازوبازماندند': 17169, 'هردوسوار': 17170, 'اودشمن': 17171, 'غارهم': 17172, 'اوبسته': 17173, 'چراتاختی': 17174, 'بردوش': 17175, 'ننالم': 17176, 'خراشید': 17177, 'بدنه': 17178, 'تورو': 17179, 'نوکنند': 17180, 'بکژ': 17181, 'دیباش': 17182, 'چوبینهٔ': 17183, 'چومور': 17184, 'وملخ': 17185, 'غوپاسبان': 17186, 'نامبردارتر': 17187, 'ملحم': 17188, 'هیو': 17189, 'میت': 17190, 'میست': 17191, 'کدو': 17192, 'نوبد': 17193, 'جامها': 17194, 'چیستت': 17195, 'چوبا': 17196, 'خوران': 17197, 'لشکرگشن': 17198, 'چیدن': 17199, 'تنگها': 17200, 'چونستود': 17201, 'ارون': 17202, 'نبرم': 17203, 'تابری': 17204, 'رزمگاهش': 17205, 'چوبیچاره': 17206, 'اندرزدیم': 17207, 'خداونت': 17208, 'صدوشست': 17209, 'کاربا': 17210, 'پندارد': 17211, 'بردین': 17212, 'آشفتگی': 17213, 'کژگیری': 17214, 'تیماراوست': 17215, 'توبس': 17216, 'ودیوان': 17217, 'نوگر': 17218, 'درمشان': 17219, 'بدادن': 17220, 'شهرکز': 17221, 'وزند': 17222, 'ندیو': 17223, 'راندانست': 17224, 'صطرخ': 17225, 'درکف': 17226, 'بگردوی': 17227, 'منشورها': 17228, 'پادشاهند': 17229, 'برگنج': 17230, 'شماهست': 17231, 'چویابم': 17232, 'بشتابمش': 17233, 'برسی': 17234, 'بسیارش': 17235, 'برزینه': 17236, 'زدینار': 17237, 'بیستگانی': 17238, 'زرکانی': 17239, 'بازگیرم': 17240, 'مخند': 17241, 'جنگوی': 17242, 'تیزگشتی': 17243, 'شیرجویی': 17244, 'جوشم': 17245, 'کارتازین': 17246, 'شیردمان': 17247, 'نسفت': 17248, 'گورکن': 17249, 'گرمگاه': 17250, 'چوماه': 17251, 'جاده': 17252, 'وباب': 17253, 'راندانی': 17254, 'لرزد': 17255, 'مهترش': 17256, 'فراوی': 17257, 'سز': 17258, 'بنازیم': 17259, 'کارسست': 17260, 'تیروار': 17261, 'کپیش': 17262, 'شیرکپی': 17263, 'چوگیرد': 17264, 'بشگیر': 17265, 'بفشاند': 17266, 'فرخورشید': 17267, 'قژ': 17268, 'برزکوه': 17269, 'اندارن': 17270, 'برشیر': 17271, 'خبرها': 17272, 'سرخامه': 17273, 'نشاننده': 17274, 'وراستی': 17275, 'وهمتا': 17276, 'نپذیرفت': 17277, 'بپذرفتیش': 17278, 'بگرفتیش': 17279, 'شناسند': 17280, 'بیفزایدی': 17281, 'درماندند': 17282, 'سرودن': 17283, 'راشاه': 17284, 'کارخوارست': 17285, 'دشوارنیز': 17286, 'بهرم': 17287, 'دوستدارش': 17288, 'مردجوان': 17289, 'حسنوی': 17290, 'چارماه': 17291, 'باهدیه': 17292, 'مغزست': 17293, 'کینهای': 17294, 'گردندهٔ': 17295, 'رانگارنده': 17296, 'راستیهاش': 17297, 'تاسر': 17298, 'توکسست': 17299, 'نشاختش': 17300, 'بدگوهرست': 17301, 'آهر': 17302, 'چیزگفت': 17303, 'بارجش': 17304, 'تاکیست': 17305, 'پوشیدنش': 17306, 'پزشکیت': 17307, 'بودیی': 17308, 'دانشم': 17309, 'بسایم': 17310, 'کاردست': 17311, 'کارسر': 17312, 'کاسنی': 17313, 'ماکس': 17314, 'تامیانش': 17315, 'نفروشم': 17316, 'هردر': 17317, 'خوردنیهات': 17318, 'پوششت': 17319, 'سرگذشت': 17320, 'بیمناک': 17321, 'اگرتخت': 17322, 'نوردی': 17323, 'بنورد': 17324, 'نافش': 17325, 'ب': 17326, 'سهبد': 17327, 'کشندت': 17328, 'نپردازی': 17329, 'زکشتن': 17330, 'گرگشاده': 17331, 'برنگینش': 17332, 'وت': 17333, 'پدارم': 17334, 'چننی': 17335, 'پوستینی': 17336, 'گرنامه': 17337, 'بگوشم': 17338, 'مشتش': 17339, 'فکندندش': 17340, 'ازتن': 17341, 'براندیشهٔ': 17342, 'اوژنا': 17343, 'نگذرند': 17344, 'گرک': 17345, 'پشیمانم': 17346, 'تویادگارمنست': 17347, 'توگوشوارمنست': 17348, 'نیزیاد': 17349, 'شماروی': 17350, 'راسوی': 17351, 'زبدها': 17352, 'جهاندارتان': 17353, 'یاربس': 17354, 'زاندوه': 17355, 'وشادی': 17356, 'رابخت': 17357, 'بیدارخواه': 17358, 'خواهرپاک': 17359, 'اومرتو': 17360, 'رارای': 17361, 'وگشتیم': 17362, 'ازگاه': 17363, 'رامخوانید': 17364, 'برتا': 17365, 'کوشنید': 17366, 'بدبریشان': 17367, 'پوشیدشان': 17368, 'راگر': 17369, 'پیرش': 17370, 'نخوردم': 17371, 'زا': 17372, 'بشستم': 17373, 'همچوجان': 17374, 'غمگسارست': 17375, 'پیشگاهان': 17376, 'بگویندگان': 17377, 'نجنباندت': 17378, 'گاشتندی': 17379, 'ونشیب': 17380, 'شترخواست': 17381, 'اشتران': 17382, 'بنوازشان': 17383, 'جانها': 17384, 'تبرگش': 17385, 'خواهرکشته': 17386, 'داشتست': 17387, 'بگذاشتست': 17388, 'پسندست': 17389, 'برگاشتمشان': 17390, 'نبادی': 17391, 'پاسخم': 17392, 'فرخم': 17393, 'کشندهٔ': 17394, 'چوروشن': 17395, 'وپا': 17396, 'مپا': 17397, 'رابگفت': 17398, 'همگنانتان': 17399, 'شداندیشه': 17400, 'افراشتی': 17401, 'سازدندگان': 17402, 'وکشته': 17403, 'پرازناله': 17404, 'وخانهٔ': 17405, 'توآیی': 17406, 'برخورم': 17407, 'ارجمندست': 17408, 'کارزن': 17409, 'خواهرم': 17410, 'لابد': 17411, 'نگینی': 17412, 'آراد': 17413, 'اورویم': 17414, 'وباد': 17415, 'فزودشان': 17416, 'برگوهر': 17417, 'آویزی': 17418, 'اوسران': 17419, 'اوبرشمرد': 17420, 'رابخواست': 17421, 'برگویی': 17422, 'بگشا': 17423, 'چوغر': 17424, 'عیبی': 17425, 'وروی': 17426, 'فرستدش': 17427, 'بکو': 17428, 'ناودانهای': 17429, 'گربکان': 17430, 'خدایان': 17431, 'سرزنم': 17432, 'وهامون': 17433, 'ماغ': 17434, 'دردمیدند': 17435, 'گربکی': 17436, 'مردک': 17437, 'رابازخوان': 17438, 'ناودان': 17439, 'هممی': 17440, 'تاجدارانش': 17441, 'گنجای': 17442, 'ابلستان': 17443, 'مخسپید': 17444, 'ودو': 17445, 'مرزچین': 17446, 'تنهای': 17447, 'زبانتان': 17448, 'شادمانیت': 17449, 'طیب': 17450, 'رزیکیست': 17451, 'چشمشان': 17452, 'تورانش': 17453, 'بایرج': 17454, 'افسونگری': 17455, 'پرور': 17456, 'اندیشتان': 17457, 'سبزهٔ': 17458, 'بمالند': 17459, 'برخانگی': 17460, 'غمگسارم': 17461, 'ببوم': 17462, 'نیوشان': 17463, 'بخشیدم': 17464, 'ساند': 17465, 'پرسیدم': 17466, 'نیوشد': 17467, 'اوسی': 17468, 'بارکرد': 17469, 'نوکنم': 17470, 'ابیات': 17471, 'حسد': 17472, 'شیرن': 17473, 'واشه': 17474, 'یوزدار': 17475, 'شیروپلنگ': 17476, 'آموخته': 17477, 'قلاده': 17478, 'دردشت': 17479, 'بتگ': 17480, 'تامجمر': 17481, 'پهلوای': 17482, 'تاخسرو': 17483, 'وگل': 17484, 'هژب': 17485, 'سپهبدتنا': 17486, 'کیاگرد': 17487, 'پیوندما': 17488, 'برجامهٔ': 17489, 'ورود': 17490, 'نوشدست': 17491, 'بیازردم': 17492, 'تیمارتان': 17493, 'امروزمان': 17494, 'تشتی': 17495, 'پرنبید': 17496, 'وگلاب': 17497, 'توکردی': 17498, 'پربو': 17499, 'ازبوی': 17500, 'وتختت': 17501, 'تومه': 17502, 'شبستانش': 17503, 'رشکش': 17504, 'زسی': 17505, 'گاومیشی': 17506, 'وگنجور': 17507, 'باآن': 17508, 'وسه': 17509, 'اوبدند': 17510, 'براو': 17511, 'پرسه': 17512, 'رایک': 17513, 'ایوانهاشان': 17514, 'هنگامشان': 17515, 'دیس': 17516, 'دراسپریس': 17517, 'بدوشاد': 17518, 'رابنگرید': 17519, 'تابگاه': 17520, 'تخ': 17521, 'پرویزشاه': 17522, 'یادبود': 17523, 'بغدادی': 17524, 'دوازده': 17525, 'بروبش': 17526, 'درشیرگشتی': 17527, 'زهرمیوه': 17528, 'دونم': 17529, 'ببرجی': 17530, 'اخترگرا': 17531, 'بهاخوار': 17532, 'کمابیش': 17533, 'بدکش': 17534, 'منتها': 17535, 'چوناهید': 17536, 'کهین': 17537, 'راخواندی': 17538, 'دلسوزه': 17539, 'تابدان': 17540, 'ورامیش': 17541, 'کدخداییش': 17542, 'افکنده': 17543, 'وبالاش': 17544, 'ریشه': 17545, 'پیدانشان': 17546, 'بافت': 17547, 'راهفت': 17548, 'خوکامه': 17549, 'رانشد': 17550, 'مشگری': 17551, 'هنربرترست': 17552, 'کاربد': 17553, 'مردوی': 17554, 'تاببینم': 17555, 'تابجایی': 17556, 'تاگشت': 17557, 'سرودی': 17558, 'مشگرش': 17559, 'ندند': 17560, 'یکدم': 17561, 'زعنبر': 17562, 'شاهایکی': 17563, 'حنظلی': 17564, 'نامدارای': 17565, 'پیرکش': 17566, 'صفتهای': 17567, 'چارسی': 17568, 'بنایاد': 17569, 'درپذیر': 17570, 'بپذیرفت': 17571, 'چودیوار': 17572, 'بنشیندم': 17573, 'بگزیندم': 17574, 'خسور': 17575, 'بنگرند': 17576, 'کاریگری': 17577, 'پوزشت': 17578, 'آموزشت': 17579, 'پوزشم': 17580, 'افروزشم': 17581, 'ماندمی': 17582, 'زندانیان': 17583, 'بیاویختندی': 17584, 'کاریان': 17585, 'ازکوشش': 17586, 'زیرجای': 17587, 'آوازها': 17588, 'مهای': 17589, 'کاروزان': 17590, 'مساایچ': 17591, 'چرد': 17592, 'رحیل': 17593, 'روس': 17594, 'شادورد': 17595, 'دوهز': 17596, 'وگام': 17597, 'شادگشت': 17598, 'آزرمگان': 17599, 'آفرینهای': 17600, 'پیوست': 17601, 'رابشست': 17602, 'ستودم': 17603, 'رومیت': 17604, 'باسخ': 17605, 'دامش': 17606, 'وازن': 17607, 'ازدلیران': 17608, 'ایزدت': 17609, 'بدامش': 17610, 'دورمانی': 17611, 'قیصرند': 17612, 'رابسیچیده': 17613, 'تاخرهٔ': 17614, 'جانهای': 17615, 'چادریم': 17616, 'دیگریم': 17617, 'فریفتش': 17618, 'ارونگ': 17619, 'سرگناه': 17620, 'گشود': 17621, 'گشایید': 17622, 'نوشد': 17623, 'کژگوی': 17624, 'برکارها': 17625, 'بازاد': 17626, 'چونیران': 17627, 'شدنش': 17628, 'مانه': 17629, 'مخوار': 17630, 'شانزده': 17631, 'پانزده': 17632, 'بشایند': 17633, 'نهفتم': 17634, 'کاخترش': 17635, 'تیرو': 17636, 'ازخواب': 17637, 'برنرگس': 17638, 'گشتنددیده': 17639, 'نوبریم': 17640, 'برمهرهٔ': 17641, 'نانبا': 17642, 'نانوا': 17643, 'رابها': 17644, 'رابدید': 17645, 'نوبدی': 17646, 'دزدیده': 17647, 'ببریده': 17648, 'مراداد': 17649, 'بارم': 17650, 'گساری': 17651, 'درکار': 17652, 'هشیاتر': 17653, 'سیرآیی': 17654, 'بیمم': 17655, 'توباشد': 17656, 'باغش': 17657, 'تاسوی': 17658, 'طیسفونش': 17659, 'بیعت': 17660, 'خواهیش': 17661, 'باخوش': 17662, 'رابداریم': 17663, 'ندست': 17664, 'رانشکنیم': 17665, 'کارکهن': 17666, 'کارکیست': 17667, 'ازاسپ': 17668, 'بنشاندشان': 17669, 'خواندشان': 17670, 'شاهنشهیست': 17671, 'کیستت': 17672, 'سزایی': 17673, 'برافشانمت': 17674, 'همداستانی': 17675, 'اگرپارسی': 17676, 'پیامیست': 17677, 'چنا': 17678, 'خفتگی': 17679, 'مرقد': 17680, 'مالیدش': 17681, 'رانهادند': 17682, 'پیوندد': 17683, 'دانشند': 17684, 'توشود': 17685, 'گویش': 17686, 'گفتارتست': 17687, 'عیبهای': 17688, 'ماخاست': 17689, 'بگریختیم': 17690, 'نیاویختیم': 17691, 'خونخوارگان': 17692, 'روزتان': 17693, 'نینداختم': 17694, 'شاهیم': 17695, 'مانامه': 17696, 'بخواندم': 17697, 'ندم': 17698, 'مبخشای': 17699, 'جزگزند': 17700, 'مانجستیم': 17701, 'دژمنش': 17702, 'درخواست': 17703, 'درکاست': 17704, 'توداناترست': 17705, 'ماهر': 17706, 'راندیم': 17707, 'ببردیم': 17708, 'ماله': 17709, 'گند': 17710, 'ندیم': 17711, 'پرگزندان': 17712, 'فسوسیش': 17713, 'خواهندهٔ': 17714, 'سیرش': 17715, 'مهاشان': 17716, 'نشاندم': 17717, 'چوباغیست': 17718, 'نارو': 17719, 'پرچینش': 17720, 'دریاچه': 17721, 'نفگنی': 17722, 'رادهی': 17723, 'بازخواهد': 17724, 'بشمرده': 17725, 'هرحقه': 17726, 'جل': 17727, 'خواندمش': 17728, 'وتبه': 17729, 'بپردان': 17730, 'دهانت': 17731, 'نشناسد': 17732, 'خردان': 17733, 'زچنگ': 17734, 'همتانبود': 17735, 'چینود': 17736, 'تپنچه': 17737, 'پراندوه': 17738, 'چوازپیش': 17739, 'سوختندی': 17740, 'سرازتیره': 17741, 'چرایند': 17742, 'الایا': 17743, 'بزرگاسترگاتن': 17744, 'وبالا': 17745, 'وساز': 17746, 'تیغشان': 17747, 'رازوان': 17748, 'راهوار': 17749, 'استران': 17750, 'اونبیند': 17751, 'چارانگشت': 17752, 'درسرست': 17753, 'راببرند': 17754, 'نییم': 17755, 'برماسرآرد': 17756, 'روگر': 17757, 'کیسه': 17758, 'چوآب': 17759, 'لرزید': 17760, 'غریبم': 17761, 'فرومایهٔ': 17762, 'چهراو': 17763, 'ریدکی': 17764, 'بریدک': 17765, 'بروتشت': 17766, 'ترجامهٔ': 17767, 'رازاوی': 17768, 'بواژ': 17769, 'ژاژ': 17770, 'بدگمانان': 17771, 'رامخوان': 17772, 'گنکار': 17773, 'ترکس': 17774, 'برخوری': 17775, 'وانگهی': 17776, 'فرخت': 17777, 'دیدید': 17778, 'رابهی': 17779, 'باشرم': 17780, 'باخواستست': 17781, 'پوشیدگی': 17782, 'راندیدی': 17783, 'خیو': 17784, 'توراست': 17785, 'نوشدم': 17786, 'راکس': 17787, 'کافورش': 17788, 'ستمگارگان': 17789, 'درکشیم': 17790, 'زارام': 17791, 'زادشاه': 17792, 'برآسای': 17793, 'تین': 17794, 'آبتینش': 17795, 'خامی': 17796, 'ازکین': 17797, 'پردازدی': 17798, 'نسازید': 17799, 'بروگاه': 17800, 'بازه': 17801, 'غرفه': 17802, 'تیرتا': 17803, 'سرآهن': 17804, 'ازناف': 17805, 'سرسرنگون': 17806, 'چومیشان': 17807, 'تانماند': 17808, 'همچوسنگ': 17809, 'اونیز': 17810, 'رنجیده': 17811, 'زمانیست': 17812, 'یارای': 17813, 'پیمای': 17814, 'شیربازی': 17815, 'باتخت': 17816, 'وقاس': 17817, 'یزگرد': 17818, 'راببرد': 17819, 'عطارد': 17820, 'فروشیم': 17821, 'میروی': 17822, 'طبری': 17823, 'کلبوی': 17824, 'اگرمرز': 17825, 'ریشان': 17826, 'گردکن': 17827, 'گردگردان': 17828, 'مرانیز': 17829, 'ازما': 17830, 'چوگاه': 17831, 'خوشا': 17832, 'خواهدشد': 17833, 'روزشان': 17834, 'رانماند': 17835, 'زاهد': 17836, 'درشتند': 17837, 'برتخمهٔ': 17838, 'گورگاه': 17839, 'چوشید': 17840, 'قاص': 17841, 'راببند': 17842, 'بنانی': 17843, 'بارو': 17844, 'فروجاه': 17845, 'مافرست': 17846, 'زیبافرست': 17847, 'کارانده': 17848, 'پیرگردد': 17849, 'پیروزنامه': 17850, 'جنی': 17851, 'قرآن': 17852, 'وعد': 17853, 'وعید': 17854, 'جدید': 17855, 'قطران': 17856, 'مهریر': 17857, 'عالم': 17858, 'شفیع': 17859, 'مصعد': 17860, 'وکاخ': 17861, 'نخرم': 17862, 'شربتی': 17863, 'مغیره': 17864, 'چورستم': 17865, 'برخوار': 17866, 'خوارنیست': 17867, 'کاخترت': 17868, 'اززنده': 17869, 'تابرکشیدند': 17870, 'ازتشنگی': 17871, 'چواسپ': 17872, 'رابرید': 17873, 'خودآگاه': 17874, 'اندآورد': 17875, 'مولی': 17876, 'بشولی': 17877, 'وشود': 17878, 'کجاپیشکارشبانان': 17879, 'دشتبانان': 17880, 'کنارنگی': 17881, 'پروردگارش': 17882, 'نبرند': 17883, 'توآییم': 17884, 'پنداشتیم': 17885, 'سوکنون': 17886, 'شماساز': 17887, 'گیرید': 17888, 'سازکن': 17889, 'کارزای': 17890, 'راع': 17891, 'کده': 17892, 'مارخوار': 17893, 'بهرگان': 17894, 'فتادی': 17895, 'راپاسخ': 17896, 'پوستست': 17897, 'دوستست': 17898, 'بالتونیه': 17899, 'کشمگان': 17900, 'ازبندگی': 17901, 'شیندیم': 17902, 'گنبدین': 17903, 'خرمنه': 17904, 'لاژوردین': 17905, 'گفتنیم': 17906, 'طایف': 17907, 'ماپراگند': 17908, 'رانشاید': 17909, 'پسته': 17910, 'کندره': 17911, 'سرپوست': 17912, 'کنارنگیان': 17913, 'چاردانگ': 17914, 'شدشت': 17915, 'بندگیها': 17916, 'زآب': 17917, 'زشرم': 17918, 'چشمست': 17919, 'چندیش': 17920, 'گاهست': 17921, 'گرآیی': 17922, 'چوپران': 17923, 'سوریش': 17924, 'خانست': 17925, 'بشکت': 17926, 'آسیابی': 17927, 'نوشش': 17928, 'ایرانیانم': 17929, 'کشکینت': 17930, 'پردازش': 17931, 'واژگاه': 17932, 'مهترکز': 17933, 'چونر': 17934, 'بهاریست': 17935, 'دوی': 17936, 'وبرگ': 17937, 'وری': 17938, 'بکشتنش': 17939, 'پرگفت': 17940, 'توزین': 17941, 'دیوت': 17942, 'راگرد': 17943, 'ازترک': 17944, 'فرآیین': 17945, 'سزادست': 17946, 'برکشته': 17947, 'برانداره': 17948, 'رابرآرد': 17949, 'خردکاری': 17950, 'رهاشد': 17951, 'خردنیست': 17952, 'پیدابود': 17953, 'ازمسیح': 17954, 'بدشنه': 17955, 'بشکافتند': 17956, 'براندر': 17957, 'دردمندان': 17958, 'سگالت': 17959, 'بباراندرست': 17960, 'بهردیگر': 17961, 'توکشت': 17962, 'توباد': 17963, 'دادخوانیم': 17964, 'وگرکینه': 17965, 'گرهیچ': 17966, 'دخل': 17967, 'خرج': 17968, 'رازدارانش': 17969, 'یزدگردست': 17970, 'مهرم': 17971, 'کارخویش': 17972, 'بگسستی': 17973, 'بدخمه': 17974, 'برکیست': 17975, 'شوخی': 17976, 'خراسانش': 17977, 'سرنگونسارکرد': 17978, 'زیراندر': 17979, 'گرستون': 17980, 'بروکرد': 17981, 'کاریاد': 17982, 'چوآگنده': 17983, 'برمانگاه': 17984, 'قجقار': 17985, 'نخشب': 17986, 'زوکین': 17987, 'رسام': 17988, 'وچاچی': 17989, 'برکمین': 17990, 'دربیافت': 17991, 'ماهو': 17992, 'راتبر': 17993, 'خداوندکش': 17994, 'شادشد': 17995, 'خردشد': 17996, 'هرخیمه': 17997, 'جوانش': 17998, 'سرازکشتن': 17999, 'ازبرم': 18000, 'مزدورشان': 18001, 'احسنتشان': 18002, 'دیلمی': 18003, 'اصل': 18004, 'فرع': 18005, 'غلتم': 18006, 'دواج': 18007, 'مد': 18008, 'هجرت': 18009, 'هشتادبار': 18010}\n"
          ]
        }
      ]
    },
    {
      "cell_type": "code",
      "source": [
        "tokenized_poet = []\n",
        "MAXLEN = -1\n",
        "for i in range(len(bait_ferdosi)):\n",
        "  tokenized = tokenizer.texts_to_sequences(bait_ferdosi[i].split())\n",
        "  tokenized = list(chain.from_iterable(tokenized))\n",
        "  tokenized = np.asarray(tokenized)\n",
        "  if (len(tokenized) > MAXLEN):\n",
        "    MAXLEN = len(tokenized)\n",
        "  tokenized_poet.append(tokenized)\n",
        "print(f\"Max length of each line = {MAXLEN}\")\n",
        "print(f\"first sample = {tokenized_poet[0]}\")"
      ],
      "metadata": {
        "colab": {
          "base_uri": "https://localhost:8080/"
        },
        "id": "cyMhTiXRogCs",
        "outputId": "c9929bbb-8607-4f4d-dc5b-4c392240c11d"
      },
      "execution_count": null,
      "outputs": [
        {
          "output_type": "stream",
          "name": "stdout",
          "text": [
            "Max length of each line = 23\n",
            "first sample = [   2    6   84  366  120    5  102    3  368  700  287 3574    4]\n"
          ]
        }
      ]
    },
    {
      "cell_type": "code",
      "source": [
        "encoder_input = []\n",
        "decoder_input = []\n",
        "decoder_output = []\n",
        "padded_all = pad_sequences(list(tokenized_poet), maxlen=MAXLEN, padding=\"post\")\n",
        "for i in range(0,len(tokenized_poet)-1,1):\n",
        "  encoder_input.append(padded_all[i])\n",
        "  temp_decod = padded_all[i+1]\n",
        "  decoder_input.append(temp_decod[0:-1])\n",
        "  decoder_output.append(temp_decod[1:])"
      ],
      "metadata": {
        "id": "zwaRKSNQpRwv"
      },
      "execution_count": null,
      "outputs": []
    },
    {
      "cell_type": "code",
      "source": [
        "print(f\"first input of encoder = {encoder_input[0]}\")\n",
        "print(f\"first input of decoder = {decoder_input[0]}\")\n",
        "print(f\"first output of decoder = {decoder_output[0]}\")\n"
      ],
      "metadata": {
        "colab": {
          "base_uri": "https://localhost:8080/"
        },
        "id": "3URQJUnfj6MC",
        "outputId": "f5ef6cf7-52f3-455d-9fa6-62ee15cca093"
      },
      "execution_count": null,
      "outputs": [
        {
          "output_type": "stream",
          "name": "stdout",
          "text": [
            "first input of encoder = [   2    6   84  366  120    5  102    3  368  700  287 3574    4    0\n",
            "    0    0    0    0    0    0    0    0    0]\n",
            "first input of decoder = [  2 366  84   5 366  62   3 366 666 262 430   4   0   0   0   0   0   0\n",
            "   0   0   0   0]\n",
            "first output of decoder = [366  84   5 366  62   3 366 666 262 430   4   0   0   0   0   0   0   0\n",
            "   0   0   0   0]\n"
          ]
        }
      ]
    },
    {
      "cell_type": "markdown",
      "source": [
        "we train model in teacher forcing mode, so output decoder is just one index shifted of decoder input."
      ],
      "metadata": {
        "id": "IfF47Exd4ulS"
      }
    },
    {
      "cell_type": "code",
      "source": [
        "latent_dim = 512\n",
        "num_decoder_tokens = len(tokenizer.word_index)+1\n",
        "embedding = Embedding(\n",
        "    input_dim=len(tokenizer.word_index)+1,\n",
        "    output_dim=100,\n",
        "    \n",
        ")\n",
        "\n",
        "encoder_inputs = Input(shape=(MAXLEN,))\n",
        "x = embedding(encoder_inputs)\n",
        "encoder = LSTM(latent_dim, return_state=True)\n",
        "encoder_outputs, state_h, state_c = encoder(x)\n",
        "# We discard `encoder_outputs` and only keep the states.\n",
        "encoder_states = [state_h, state_c]\n",
        "\n",
        "# Set up the decoder, using `encoder_states` as initial state.\n",
        "decoder_inputs = Input(shape=(None,))\n",
        "x2 =embedding(decoder_inputs)\n",
        "# We set up our decoder to return full output sequences,\n",
        "# and to return internal states as well. We don't use the \n",
        "# return states in the training model, but we will use them in inference.\n",
        "decoder_lstm = LSTM(latent_dim, return_sequences=True, return_state=True)\n",
        "decoder_outputs, _, _ = decoder_lstm(x2,\n",
        "                                     initial_state=encoder_states)\n",
        "decoder_dense = Dense(num_decoder_tokens, activation='softmax')\n",
        "decoder_outputs = decoder_dense(decoder_outputs)\n",
        "\n",
        "# Define the model that will turn\n",
        "# `encoder_input_data` & `decoder_input_data` into `decoder_target_data`\n",
        "model = Model([encoder_inputs, decoder_inputs], decoder_outputs)"
      ],
      "metadata": {
        "id": "Kg6AEHNE2XvQ"
      },
      "execution_count": null,
      "outputs": []
    },
    {
      "cell_type": "code",
      "source": [
        "model.compile(optimizer='adam', loss='sparse_categorical_crossentropy',metrics = ['accuracy'])\n",
        "encoder_input_array = np.asarray(encoder_input[0:49600])\n",
        "decoder_input_array = np.asarray(decoder_input[0:49600])\n",
        "decoder_output_array = np.asarray(decoder_output[0:49600])"
      ],
      "metadata": {
        "id": "cdeB28ndnb6o"
      },
      "execution_count": null,
      "outputs": []
    },
    {
      "cell_type": "code",
      "source": [
        "history = model.fit([encoder_input_array, decoder_input_array], decoder_output_array,\n",
        "          batch_size=64,\n",
        "          epochs=40,\n",
        "          validation_split=0.2,\n",
        "          )"
      ],
      "metadata": {
        "colab": {
          "base_uri": "https://localhost:8080/"
        },
        "id": "rjkgwLnQnIQk",
        "outputId": "52addd7a-9d7c-4cee-ccc5-f1c60734ee96"
      },
      "execution_count": null,
      "outputs": [
        {
          "output_type": "stream",
          "name": "stdout",
          "text": [
            "Epoch 1/40\n",
            "620/620 [==============================] - 59s 89ms/step - loss: 3.7581 - accuracy: 0.4816 - val_loss: 3.3634 - val_accuracy: 0.5197\n",
            "Epoch 2/40\n",
            "620/620 [==============================] - 40s 65ms/step - loss: 3.1958 - accuracy: 0.5207 - val_loss: 3.1741 - val_accuracy: 0.5326\n",
            "Epoch 3/40\n",
            "620/620 [==============================] - 40s 65ms/step - loss: 2.9782 - accuracy: 0.5353 - val_loss: 3.0395 - val_accuracy: 0.5428\n",
            "Epoch 4/40\n",
            "620/620 [==============================] - 40s 64ms/step - loss: 2.7940 - accuracy: 0.5489 - val_loss: 2.9307 - val_accuracy: 0.5531\n",
            "Epoch 5/40\n",
            "620/620 [==============================] - 40s 65ms/step - loss: 2.6390 - accuracy: 0.5609 - val_loss: 2.8581 - val_accuracy: 0.5612\n",
            "Epoch 6/40\n",
            "620/620 [==============================] - 40s 65ms/step - loss: 2.5128 - accuracy: 0.5711 - val_loss: 2.8145 - val_accuracy: 0.5662\n",
            "Epoch 7/40\n",
            "620/620 [==============================] - 40s 64ms/step - loss: 2.4095 - accuracy: 0.5797 - val_loss: 2.7884 - val_accuracy: 0.5710\n",
            "Epoch 8/40\n",
            "620/620 [==============================] - 40s 64ms/step - loss: 2.3194 - accuracy: 0.5876 - val_loss: 2.7798 - val_accuracy: 0.5734\n",
            "Epoch 9/40\n",
            "620/620 [==============================] - 40s 65ms/step - loss: 2.2393 - accuracy: 0.5952 - val_loss: 2.7745 - val_accuracy: 0.5761\n",
            "Epoch 10/40\n",
            "620/620 [==============================] - 40s 64ms/step - loss: 2.1669 - accuracy: 0.6023 - val_loss: 2.7794 - val_accuracy: 0.5773\n",
            "Epoch 11/40\n",
            "620/620 [==============================] - 40s 64ms/step - loss: 2.1031 - accuracy: 0.6091 - val_loss: 2.7875 - val_accuracy: 0.5772\n",
            "Epoch 12/40\n",
            "620/620 [==============================] - 40s 64ms/step - loss: 2.0454 - accuracy: 0.6152 - val_loss: 2.7971 - val_accuracy: 0.5786\n",
            "Epoch 13/40\n",
            "620/620 [==============================] - 40s 65ms/step - loss: 1.9872 - accuracy: 0.6222 - val_loss: 2.8192 - val_accuracy: 0.5798\n",
            "Epoch 14/40\n",
            "620/620 [==============================] - 40s 65ms/step - loss: 1.9325 - accuracy: 0.6293 - val_loss: 2.8312 - val_accuracy: 0.5800\n",
            "Epoch 15/40\n",
            "620/620 [==============================] - 40s 64ms/step - loss: 1.8815 - accuracy: 0.6357 - val_loss: 2.8516 - val_accuracy: 0.5807\n",
            "Epoch 16/40\n",
            "620/620 [==============================] - 40s 65ms/step - loss: 1.8335 - accuracy: 0.6421 - val_loss: 2.8836 - val_accuracy: 0.5797\n",
            "Epoch 17/40\n",
            "620/620 [==============================] - 40s 65ms/step - loss: 1.7884 - accuracy: 0.6482 - val_loss: 2.9069 - val_accuracy: 0.5807\n",
            "Epoch 18/40\n",
            "620/620 [==============================] - 40s 65ms/step - loss: 1.7457 - accuracy: 0.6544 - val_loss: 2.9302 - val_accuracy: 0.5803\n",
            "Epoch 19/40\n",
            "620/620 [==============================] - 40s 65ms/step - loss: 1.7046 - accuracy: 0.6608 - val_loss: 2.9576 - val_accuracy: 0.5805\n",
            "Epoch 20/40\n",
            "620/620 [==============================] - 40s 65ms/step - loss: 1.6646 - accuracy: 0.6666 - val_loss: 2.9893 - val_accuracy: 0.5801\n",
            "Epoch 21/40\n",
            "620/620 [==============================] - 40s 65ms/step - loss: 1.6269 - accuracy: 0.6726 - val_loss: 3.0127 - val_accuracy: 0.5798\n",
            "Epoch 22/40\n",
            "620/620 [==============================] - 41s 65ms/step - loss: 1.5898 - accuracy: 0.6786 - val_loss: 3.0445 - val_accuracy: 0.5791\n",
            "Epoch 23/40\n",
            "620/620 [==============================] - 40s 65ms/step - loss: 1.5531 - accuracy: 0.6843 - val_loss: 3.0684 - val_accuracy: 0.5788\n",
            "Epoch 24/40\n",
            "620/620 [==============================] - 41s 66ms/step - loss: 1.5174 - accuracy: 0.6901 - val_loss: 3.0985 - val_accuracy: 0.5788\n",
            "Epoch 25/40\n",
            "620/620 [==============================] - 40s 65ms/step - loss: 1.4822 - accuracy: 0.6962 - val_loss: 3.1327 - val_accuracy: 0.5777\n",
            "Epoch 26/40\n",
            "620/620 [==============================] - 40s 65ms/step - loss: 1.4461 - accuracy: 0.7019 - val_loss: 3.1677 - val_accuracy: 0.5771\n",
            "Epoch 27/40\n",
            "620/620 [==============================] - 41s 66ms/step - loss: 1.4110 - accuracy: 0.7080 - val_loss: 3.2028 - val_accuracy: 0.5768\n",
            "Epoch 28/40\n",
            "620/620 [==============================] - 41s 66ms/step - loss: 1.3756 - accuracy: 0.7142 - val_loss: 3.2280 - val_accuracy: 0.5757\n",
            "Epoch 29/40\n",
            "620/620 [==============================] - 41s 66ms/step - loss: 1.3394 - accuracy: 0.7202 - val_loss: 3.2663 - val_accuracy: 0.5754\n",
            "Epoch 30/40\n",
            "620/620 [==============================] - 41s 65ms/step - loss: 1.3040 - accuracy: 0.7262 - val_loss: 3.3037 - val_accuracy: 0.5742\n",
            "Epoch 31/40\n",
            "620/620 [==============================] - 41s 66ms/step - loss: 1.2683 - accuracy: 0.7324 - val_loss: 3.3424 - val_accuracy: 0.5725\n",
            "Epoch 32/40\n",
            "620/620 [==============================] - 41s 66ms/step - loss: 1.2325 - accuracy: 0.7387 - val_loss: 3.3771 - val_accuracy: 0.5729\n",
            "Epoch 33/40\n",
            "620/620 [==============================] - 41s 66ms/step - loss: 1.1966 - accuracy: 0.7451 - val_loss: 3.4215 - val_accuracy: 0.5713\n",
            "Epoch 34/40\n",
            "620/620 [==============================] - 41s 66ms/step - loss: 1.1609 - accuracy: 0.7516 - val_loss: 3.4654 - val_accuracy: 0.5711\n",
            "Epoch 35/40\n",
            "620/620 [==============================] - 41s 66ms/step - loss: 1.1264 - accuracy: 0.7580 - val_loss: 3.5057 - val_accuracy: 0.5700\n",
            "Epoch 36/40\n",
            "620/620 [==============================] - 41s 66ms/step - loss: 1.0916 - accuracy: 0.7645 - val_loss: 3.5558 - val_accuracy: 0.5696\n",
            "Epoch 37/40\n",
            "620/620 [==============================] - 41s 66ms/step - loss: 1.0583 - accuracy: 0.7708 - val_loss: 3.5919 - val_accuracy: 0.5684\n",
            "Epoch 38/40\n",
            "620/620 [==============================] - 41s 66ms/step - loss: 1.0252 - accuracy: 0.7769 - val_loss: 3.6452 - val_accuracy: 0.5676\n",
            "Epoch 39/40\n",
            "620/620 [==============================] - 41s 66ms/step - loss: 0.9931 - accuracy: 0.7831 - val_loss: 3.6833 - val_accuracy: 0.5672\n",
            "Epoch 40/40\n",
            "620/620 [==============================] - 41s 66ms/step - loss: 0.9613 - accuracy: 0.7893 - val_loss: 3.7335 - val_accuracy: 0.5657\n"
          ]
        }
      ]
    },
    {
      "cell_type": "code",
      "source": [
        "plt.plot(history.history['accuracy'])\n",
        "plt.plot(history.history['val_accuracy'])\n",
        "plt.title('model accuracy')\n",
        "plt.ylabel('accuracy')\n",
        "plt.xlabel('epoch')\n",
        "plt.legend(['train', 'test'], loc='upper left')\n",
        "plt.show()\n",
        "# summarize history for loss\n",
        "plt.plot(history.history['loss'])\n",
        "plt.plot(history.history['val_loss'])\n",
        "plt.title('model loss')\n",
        "plt.ylabel('loss')\n",
        "plt.xlabel('epoch')\n",
        "plt.legend(['train', 'test'], loc='upper left')\n",
        "plt.show()"
      ],
      "metadata": {
        "colab": {
          "base_uri": "https://localhost:8080/",
          "height": 573
        },
        "id": "BJnFvG-1E81w",
        "outputId": "f2746e91-815d-409a-db42-fc48e2481f01"
      },
      "execution_count": null,
      "outputs": [
        {
          "output_type": "display_data",
          "data": {
            "text/plain": [
              "<Figure size 432x288 with 1 Axes>"
            ],
            "image/png": "[encoded data removed]"
          },
          "metadata": {
            "needs_background": "light"
          }
        },
        {
          "output_type": "display_data",
          "data": {
            "text/plain": [
              "<Figure size 432x288 with 1 Axes>"
            ],
            "image/png": "[encoded data removed]"
          },
          "metadata": {
            "needs_background": "light"
          }
        }
      ]
    },
    {
      "cell_type": "markdown",
      "source": [
        "we got reasonable accuracy but as we showed before, distribution of words is very focused on certain words so if model learns to output them, we should get good accuracy but bad result, so we have to print our outputs to make sure that model works as we intended to."
      ],
      "metadata": {
        "id": "uE9qRV_n5Z3P"
      }
    },
    {
      "cell_type": "markdown",
      "source": [
        "creating revrese token dictionaries so we can turn outputs to word"
      ],
      "metadata": {
        "id": "L6xQaYzJuBYQ"
      }
    },
    {
      "cell_type": "code",
      "source": [
        "reverse_target_char_index = tokenizer.index_word\n",
        "target_token_index = tokenizer.word_index"
      ],
      "metadata": {
        "id": "qhcexCWNykJy"
      },
      "execution_count": null,
      "outputs": []
    },
    {
      "cell_type": "markdown",
      "source": [
        "creting seperate decoder and encoder models (based on what we previously trained)"
      ],
      "metadata": {
        "id": "g0zoWNt4uLIj"
      }
    },
    {
      "cell_type": "code",
      "source": [
        "encoder_model = Model(encoder_inputs, encoder_states)\n",
        "\n",
        "decoder_state_input_h = Input(shape=(latent_dim,))\n",
        "decoder_state_input_c = Input(shape=(latent_dim,))\n",
        "decoder_states_inputs = [decoder_state_input_h, decoder_state_input_c]\n",
        "decoder_outputs, state_h, state_c = decoder_lstm(\n",
        "    embedding(decoder_inputs), initial_state=decoder_states_inputs)\n",
        "decoder_states = [state_h, state_c]\n",
        "decoder_outputs = decoder_dense(decoder_outputs)\n",
        "decoder_model = Model(\n",
        "    [decoder_inputs] + decoder_states_inputs,\n",
        "    [decoder_outputs] + decoder_states)"
      ],
      "metadata": {
        "id": "KmE0_4oQ0WXu"
      },
      "execution_count": null,
      "outputs": []
    },
    {
      "cell_type": "markdown",
      "source": [
        "a deterministic funtion for generating poem, in this method we get single beyt of ferdosi poet and always gives same output"
      ],
      "metadata": {
        "id": "lOpoIAjQuTF1"
      }
    },
    {
      "cell_type": "code",
      "source": [
        "def text_from_token(input_vec):\n",
        "  txt = \"\"\n",
        "  for i in range(len(input_vec)):\n",
        "    if ((input_vec[i]) != 0):\n",
        "      txt += \" \" + reverse_target_char_index[(input_vec[i])]\n",
        "  return txt\n",
        "    "
      ],
      "metadata": {
        "id": "soRAMDXAqXPk"
      },
      "execution_count": null,
      "outputs": []
    },
    {
      "cell_type": "code",
      "source": [
        "def decode_sequence(input_seq):\n",
        "  # Encode the input as state vectors.\n",
        "  states_value = encoder_model.predict(input_seq)\n",
        "\n",
        "  # Generate empty target sequence of length 1.\n",
        "  target_seq = np.zeros((1,))\n",
        "  # Populate the first character of target sequence with the start character.\n",
        "  target_seq[0,] = 1\n",
        "  target_seq = np.reshape(target_seq,(1,len(target_seq)))\n",
        "\n",
        "  # Sampling loop for a batch of sequences\n",
        "  # (to simplify, here we assume a batch of size 1).\n",
        "  stop_condition = False\n",
        "  decoded_sentence = ''\n",
        "  while not stop_condition:\n",
        "      output_tokens, h, c = decoder_model.predict(\n",
        "          [target_seq] + states_value, verbose=0)\n",
        "\n",
        "      # Sample a token\n",
        "      sampled_token_index = np.argmax(output_tokens[0, -1, :])\n",
        "      sampled_char = reverse_target_char_index[sampled_token_index]\n",
        "      decoded_sentence += \" \" +sampled_char\n",
        "\n",
        "      # Exit condition: either hit max length\n",
        "      # or find stop character.\n",
        "      if (sampled_char == 'eos' or\n",
        "          len(decoded_sentence) > 3*MAXLEN):\n",
        "          stop_condition = True\n",
        "\n",
        "      # Update the target sequence (of length 1).\n",
        "      target_seq = np.zeros((1,))\n",
        "      target_seq[0,] = sampled_token_index\n",
        "      target_seq = np.reshape(target_seq,(1,len(target_seq)))\n",
        "\n",
        "\n",
        "      # Update states\n",
        "      states_value = [h, c]\n",
        "\n",
        "\n",
        "\n",
        "  return decoded_sentence"
      ],
      "metadata": {
        "id": "blGrY4Ybzeae"
      },
      "execution_count": null,
      "outputs": []
    },
    {
      "cell_type": "markdown",
      "source": [
        "printing a sample input with our function"
      ],
      "metadata": {
        "id": "PJhBnLYJyvAk"
      }
    },
    {
      "cell_type": "code",
      "source": [
        "text_from_token(encoder_input[494])"
      ],
      "metadata": {
        "colab": {
          "base_uri": "https://localhost:8080/",
          "height": 36
        },
        "id": "Uu-eb21grpnK",
        "outputId": "5019752a-aa3d-41ff-c2d4-4fc8f4699d45"
      },
      "execution_count": null,
      "outputs": [
        {
          "output_type": "execute_result",
          "data": {
            "text/plain": [
              "' sos چنان بدگهر شوخ فرزند او bos بگشت از ره داد و پیوند او eos'"
            ],
            "application/vnd.google.colaboratory.intrinsic+json": {
              "type": "string"
            }
          },
          "metadata": {},
          "execution_count": 20
        }
      ]
    },
    {
      "cell_type": "markdown",
      "source": [
        "**as we estated befor, you should read left part of bos first and then right part**\n",
        "and we added bos token just to show between of different part of poem (first and second mesrah) and this way, making model to learn poem pattern "
      ],
      "metadata": {
        "id": "eQw8qONM6ZKK"
      }
    },
    {
      "cell_type": "markdown",
      "source": [
        "now using encoder decoder to create a new poem, first we use train data for encoding part and creating input for our decoder"
      ],
      "metadata": {
        "id": "hfmNmfKCyy_l"
      }
    },
    {
      "cell_type": "code",
      "source": [
        "input_seq = np.reshape(encoder_input[490],(1,MAXLEN))\n",
        "decode_sequence(input_seq)"
      ],
      "metadata": {
        "colab": {
          "base_uri": "https://localhost:8080/",
          "height": 53
        },
        "id": "xcOiJzTWvaut",
        "outputId": "1fceffd2-a412-4a06-ea19-93bad9af9d4b"
      },
      "execution_count": null,
      "outputs": [
        {
          "output_type": "stream",
          "name": "stdout",
          "text": [
            "1/1 [==============================] - 0s 16ms/step\n"
          ]
        },
        {
          "output_type": "execute_result",
          "data": {
            "text/plain": [
              "' یکی تیغ زد بر سر و ترگ اوی bos که ای آرزومند چندین بگوی eos'"
            ],
            "application/vnd.google.colaboratory.intrinsic+json": {
              "type": "string"
            }
          },
          "metadata": {},
          "execution_count": 22
        }
      ]
    },
    {
      "cell_type": "markdown",
      "source": [
        "as we can see, it is pretty good( it got rhythm  and rhyme, and some familiar pattern but it is also a brand new poet ( you cant find it in input) so network really learned patterns (instead of just memorising train data, in other word overfitting) so model can generate new poems and it is not overfited"
      ],
      "metadata": {
        "id": "6U8_eSCDzM39"
      }
    },
    {
      "cell_type": "code",
      "source": [
        "text_from_token(decoder_input[490])"
      ],
      "metadata": {
        "colab": {
          "base_uri": "https://localhost:8080/",
          "height": 36
        },
        "id": "pK-xgmiL6eka",
        "outputId": "f87084af-ddfa-428b-c932-d3ff18a35408"
      },
      "execution_count": null,
      "outputs": [
        {
          "output_type": "execute_result",
          "data": {
            "text/plain": [
              "' sos به چاه اندر افتاد و بشکست پست bos شد آن نیکدل مرد یزدان پرست eos'"
            ],
            "application/vnd.google.colaboratory.intrinsic+json": {
              "type": "string"
            }
          },
          "metadata": {},
          "execution_count": 16
        }
      ]
    },
    {
      "cell_type": "markdown",
      "source": [
        "so as you can see, model created entirely different output for input 490, so model indeed is not overfitted but it learned input patters and repeat them so output is have somewhat pattern, but it doesn't have meaning. "
      ],
      "metadata": {
        "id": "VM_QDqWM6o5R"
      }
    },
    {
      "cell_type": "markdown",
      "source": [
        "testing it for a input that we didn't train model on"
      ],
      "metadata": {
        "id": "S0Y-1oLDu2td"
      }
    },
    {
      "cell_type": "code",
      "source": [
        "input_seq = np.reshape(encoder_input[49606],(1,MAXLEN))\n",
        "decode_sequence(input_seq)"
      ],
      "metadata": {
        "colab": {
          "base_uri": "https://localhost:8080/",
          "height": 53
        },
        "id": "CqdqVkBZK22L",
        "outputId": "cd12945f-239f-406d-d3cf-a53ddc0a02ce"
      },
      "execution_count": null,
      "outputs": [
        {
          "output_type": "stream",
          "name": "stdout",
          "text": [
            "1/1 [==============================] - 0s 17ms/step\n"
          ]
        },
        {
          "output_type": "execute_result",
          "data": {
            "text/plain": [
              "' چنین است رای خردمند شاه bos کزان کار دیده مدارید راه eos'"
            ],
            "application/vnd.google.colaboratory.intrinsic+json": {
              "type": "string"
            }
          },
          "metadata": {},
          "execution_count": 222
        }
      ]
    },
    {
      "cell_type": "markdown",
      "source": [
        "as we can see it works great! it has rythem and its somewhat makes sense and it also has ferdosi style of writing poems, so network does really works"
      ],
      "metadata": {
        "id": "wSQL1j2TvAFG"
      }
    },
    {
      "cell_type": "markdown",
      "source": [],
      "metadata": {
        "id": "5cQYMyNbu1zt"
      }
    },
    {
      "cell_type": "markdown",
      "source": [
        "we can also give poems of other poets and see the result"
      ],
      "metadata": {
        "id": "TGFSHmCNuhaM"
      }
    },
    {
      "cell_type": "code",
      "source": [
        "a = \"نیازار موری که دانه کش است\"\n",
        "b = \"که جان دارد و جان شیرین خوش است\"\n",
        "beit_fake = a + \" <bos> \" + b\n",
        "beit_fake = \"<sos> \" + beit_fake + \" <eos>\"\n",
        "tokenized = tokenizer.texts_to_sequences(beit_fake.split())\n",
        "tokenized = list(chain.from_iterable(tokenized))\n"
      ],
      "metadata": {
        "id": "LI3T07Q9MXMN"
      },
      "execution_count": null,
      "outputs": []
    },
    {
      "cell_type": "code",
      "source": [
        "tokenized_arr = np.asarray(tokenized)\n",
        "tokenized = np.zeros((23))\n",
        "tokenized[0:len(tokenized_arr)] = tokenized_arr[0:len(tokenized_arr)]\n",
        "input_seq = np.reshape(tokenized,(1,MAXLEN))\n",
        "decode_sequence(input_seq)"
      ],
      "metadata": {
        "colab": {
          "base_uri": "https://localhost:8080/",
          "height": 53
        },
        "id": "naWcLY8fM0aa",
        "outputId": "c65d34e2-b502-461f-ed6d-d2dd799b2846"
      },
      "execution_count": null,
      "outputs": [
        {
          "output_type": "stream",
          "name": "stdout",
          "text": [
            "1/1 [==============================] - 0s 333ms/step\n"
          ]
        },
        {
          "output_type": "execute_result",
          "data": {
            "text/plain": [
              "' چو از کوه سر برکشد سرو ماه bos به سر بر همی موج دریای چین eos'"
            ],
            "application/vnd.google.colaboratory.intrinsic+json": {
              "type": "string"
            }
          },
          "metadata": {},
          "execution_count": 24
        }
      ]
    },
    {
      "cell_type": "markdown",
      "source": [
        "we can see that if input isn't from ferdosis work, output isn't as good as when it is, in other words encoder really works and learned to encoder"
      ],
      "metadata": {
        "id": "cnylwEngzwlS"
      }
    },
    {
      "cell_type": "markdown",
      "source": [
        "for making model generative, in processing output, after using softmax layer we choose output based on the created distribution (instead of just using argmax) this makes to have multiple outputs for same input so with this method, we have a generative model"
      ],
      "metadata": {
        "id": "q1jqzidVK6BG"
      }
    },
    {
      "cell_type": "code",
      "source": [
        "def decode_sequence_random(input_seq):\n",
        "  # Encode the input as state vectors.\n",
        "  states_value = encoder_model.predict(input_seq)\n",
        "\n",
        "  # Generate empty target sequence of length 1.\n",
        "  target_seq = np.zeros((1,))\n",
        "  # Populate the first character of target sequence with the start character.\n",
        "  target_seq[0,] = 1\n",
        "  target_seq = np.reshape(target_seq,(1,len(target_seq)))\n",
        "\n",
        "  # Sampling loop for a batch of sequences\n",
        "  # (to simplify, here we assume a batch of size 1).\n",
        "  stop_condition = False\n",
        "  decoded_sentence = ''\n",
        "  while not stop_condition:\n",
        "      output_tokens, h, c = decoder_model.predict(\n",
        "          [target_seq] + states_value, verbose=0)\n",
        "\n",
        "      # Sample a token\n",
        "      prob_list = output_tokens[0, -1, :]\n",
        "      sampled_token_index = np.random.choice(np.arange(0, len(prob_list)), p=prob_list) # this part make model generative!\n",
        "\n",
        "     # sampled_token_index = np.argmax(output_tokens[0, -1, :])\n",
        "      sampled_char = reverse_target_char_index[sampled_token_index]\n",
        "      decoded_sentence += \" \" +sampled_char\n",
        "\n",
        "      # Exit condition: either hit max length\n",
        "      # or find stop character.\n",
        "      if (sampled_char == 'eos' or\n",
        "          len(decoded_sentence) > 3*MAXLEN):\n",
        "          stop_condition = True\n",
        "\n",
        "      # Update the target sequence (of length 1).\n",
        "      target_seq = np.zeros((1,))\n",
        "      target_seq[0,] = sampled_token_index\n",
        "      target_seq = np.reshape(target_seq,(1,len(target_seq)))\n",
        "\n",
        "\n",
        "      # Update states\n",
        "      states_value = [h, c]\n",
        "\n",
        "\n",
        "\n",
        "  return decoded_sentence"
      ],
      "metadata": {
        "id": "i6TJY0buL7Dq"
      },
      "execution_count": null,
      "outputs": []
    },
    {
      "cell_type": "markdown",
      "source": [
        "giving same input and seeing if we get different outputs or not"
      ],
      "metadata": {
        "id": "WMyitrWN2v6g"
      }
    },
    {
      "cell_type": "code",
      "source": [
        "input_seq = np.reshape(encoder_input[49606],(1,MAXLEN))\n",
        "decode_sequence_random(input_seq)"
      ],
      "metadata": {
        "colab": {
          "base_uri": "https://localhost:8080/",
          "height": 53
        },
        "id": "LdFSYPW90RjD",
        "outputId": "e46c751d-6828-4b43-d99d-0c10cd71229a"
      },
      "execution_count": null,
      "outputs": [
        {
          "output_type": "stream",
          "name": "stdout",
          "text": [
            "1/1 [==============================] - 0s 17ms/step\n"
          ]
        },
        {
          "output_type": "execute_result",
          "data": {
            "text/plain": [
              "' بی آزار تو جست بی خواب نیست bos جز آهنگ پیکار او بند نیست eos'"
            ],
            "application/vnd.google.colaboratory.intrinsic+json": {
              "type": "string"
            }
          },
          "metadata": {},
          "execution_count": 28
        }
      ]
    },
    {
      "cell_type": "code",
      "source": [
        "input_seq = np.reshape(encoder_input[49606],(1,MAXLEN))\n",
        "decode_sequence_random(input_seq)"
      ],
      "metadata": {
        "colab": {
          "base_uri": "https://localhost:8080/",
          "height": 53
        },
        "id": "YXyltj6T0be_",
        "outputId": "c58467da-8769-4112-91d4-f550ac9ba304"
      },
      "execution_count": null,
      "outputs": [
        {
          "output_type": "stream",
          "name": "stdout",
          "text": [
            "1/1 [==============================] - 0s 15ms/step\n"
          ]
        },
        {
          "output_type": "execute_result",
          "data": {
            "text/plain": [
              "' اگر شاه بیند و تندی مکن bos به تندی که باشد کسی در کمین eos'"
            ],
            "application/vnd.google.colaboratory.intrinsic+json": {
              "type": "string"
            }
          },
          "metadata": {},
          "execution_count": 32
        }
      ]
    },
    {
      "cell_type": "markdown",
      "source": [
        "so we can see in this method, we have drastically different outputs when we use same input, in this method outpus are not always as good as always choosing most probable output of lstm, like it has  rhythm  and rhyme but sometimes output could also be very bad, other method is to only for first word afer start and then after always choose most probable output so this way we have different outputs but we expect to have better outputs overall"
      ],
      "metadata": {
        "id": "dHlYjAQc0mWY"
      }
    },
    {
      "cell_type": "code",
      "source": [
        "def decode_sequence_random_first(input_seq):\n",
        "  # Encode the input as state vectors.\n",
        "  states_value = encoder_model.predict(input_seq)\n",
        "\n",
        "  # Generate empty target sequence of length 1.\n",
        "  target_seq = np.zeros((1,))\n",
        "  # Populate the first character of target sequence with the start character.\n",
        "  target_seq[0,] = 1\n",
        "  target_seq = np.reshape(target_seq,(1,len(target_seq)))\n",
        "\n",
        "  # Sampling loop for a batch of sequences\n",
        "  # (to simplify, here we assume a batch of size 1).\n",
        "  stop_condition = False\n",
        "  decoded_sentence = ''\n",
        "  flag = 0\n",
        "  while not stop_condition:\n",
        "      output_tokens, h, c = decoder_model.predict(\n",
        "          [target_seq] + states_value, verbose=0)\n",
        "\n",
        "      # Sample a token\n",
        "      if flag == 0:\n",
        "        prob_list = output_tokens[0, -1, :]\n",
        "        sampled_token_index = np.random.choice(np.arange(0, len(prob_list)), p=prob_list) # this part make model generative!\n",
        "        flag = 1\n",
        "      else:\n",
        "        sampled_token_index = np.argmax(output_tokens[0, -1, :])\n",
        "\n",
        "     # sampled_token_index = np.argmax(output_tokens[0, -1, :])\n",
        "      sampled_char = reverse_target_char_index[sampled_token_index]\n",
        "      decoded_sentence += \" \" +sampled_char\n",
        "\n",
        "      # Exit condition: either hit max length\n",
        "      # or find stop character.\n",
        "      if (sampled_char == 'eos' or\n",
        "          len(decoded_sentence) > 3*MAXLEN):\n",
        "          stop_condition = True\n",
        "\n",
        "      # Update the target sequence (of length 1).\n",
        "      target_seq = np.zeros((1,))\n",
        "      target_seq[0,] = sampled_token_index\n",
        "      target_seq = np.reshape(target_seq,(1,len(target_seq)))\n",
        "\n",
        "\n",
        "      # Update states\n",
        "      states_value = [h, c]\n",
        "\n",
        "\n",
        "\n",
        "  return decoded_sentence"
      ],
      "metadata": {
        "id": "cX0P6JdS2Sj4"
      },
      "execution_count": null,
      "outputs": []
    },
    {
      "cell_type": "code",
      "source": [
        "input_seq = np.reshape(encoder_input[49606],(1,MAXLEN))\n",
        "decode_sequence_random_first(input_seq)"
      ],
      "metadata": {
        "colab": {
          "base_uri": "https://localhost:8080/",
          "height": 53
        },
        "id": "UuYo0NnO3ep3",
        "outputId": "bde1d64e-7d2a-45bb-c5f6-22139bd6e063"
      },
      "execution_count": null,
      "outputs": [
        {
          "output_type": "stream",
          "name": "stdout",
          "text": [
            "1/1 [==============================] - 0s 19ms/step\n"
          ]
        },
        {
          "output_type": "execute_result",
          "data": {
            "text/plain": [
              "' اگر شاه بیند ز بن چون اوی bos دلت کرد باید بدین روی اوی eos'"
            ],
            "application/vnd.google.colaboratory.intrinsic+json": {
              "type": "string"
            }
          },
          "metadata": {},
          "execution_count": 34
        }
      ]
    },
    {
      "cell_type": "code",
      "source": [
        "input_seq = np.reshape(encoder_input[49606],(1,MAXLEN))\n",
        "decode_sequence_random_first(input_seq)"
      ],
      "metadata": {
        "colab": {
          "base_uri": "https://localhost:8080/",
          "height": 53
        },
        "id": "xDObEsCf3iaf",
        "outputId": "85d8794d-97ef-4f89-d0cc-8004d02b57d0"
      },
      "execution_count": null,
      "outputs": [
        {
          "output_type": "stream",
          "name": "stdout",
          "text": [
            "1/1 [==============================] - 0s 21ms/step\n"
          ]
        },
        {
          "output_type": "execute_result",
          "data": {
            "text/plain": [
              "' چه گویید و این را چه پاسخ دهید bos همه پند و روزی بباید دهید eos'"
            ],
            "application/vnd.google.colaboratory.intrinsic+json": {
              "type": "string"
            }
          },
          "metadata": {},
          "execution_count": 35
        }
      ]
    },
    {
      "cell_type": "markdown",
      "source": [
        "now it is what we wanted! it has good rhythm , and it does have rhyme and somewhat meaning, we can clearly see it has style of ferdosi but generated poem are new ( we can see it has copied some word patterns in ferdosis poem, but overall if you search it you can't find created poem in any of ferdosies work) but to be honest, they don't always totally make sense, it learned the style of poet but the model couldn't always give us output that has a good meaning ( it make sense partially, but if we look at overall created poem, it may not make sense)\n",
        "lets try giving model some other inputs and see its effect"
      ],
      "metadata": {
        "id": "fwnrmg9-3lNt"
      }
    },
    {
      "cell_type": "code",
      "source": [
        "input_seq = np.reshape(encoder_input[117],(1,MAXLEN))\n",
        "\n",
        "for i in range(4):\n",
        "  print(f\"{i} created poet from same input\")\n",
        "  print(decode_sequence_random_first(input_seq))\n",
        "  print('\\n')"
      ],
      "metadata": {
        "colab": {
          "base_uri": "https://localhost:8080/"
        },
        "id": "u5nMY0Y46V2A",
        "outputId": "5e501a01-bd65-4dfd-c240-8d7a9a2a3e97"
      },
      "execution_count": null,
      "outputs": [
        {
          "output_type": "stream",
          "name": "stdout",
          "text": [
            "0 created poet from same input\n",
            "1/1 [==============================] - 0s 16ms/step\n",
            " گر از ما همی باژ خواهی رواست bos که جانت برنج از جهان نشمرد eos\n",
            "\n",
            "\n",
            "1 created poet from same input\n",
            "1/1 [==============================] - 0s 18ms/step\n",
            " چو از کشورم بگذری در جهان bos نکوهش بیاید بدین برگزین eos\n",
            "\n",
            "\n",
            "2 created poet from same input\n",
            "1/1 [==============================] - 0s 18ms/step\n",
            " برین نیکویها به کام تواند bos کزین چهر خود نام کردش به کار eos\n",
            "\n",
            "\n",
            "3 created poet from same input\n",
            "1/1 [==============================] - 0s 14ms/step\n",
            " چو از کشورم بگذری در جهان bos نکوهش بیاید بدین برگزین eos\n",
            "\n",
            "\n"
          ]
        }
      ]
    },
    {
      "cell_type": "markdown",
      "source": [
        "they are good! because we only choose first word(after start) randomly we can see there is probability that we have repeated output(in this case output 1 and 3 are same) but they are all good outputs!"
      ],
      "metadata": {
        "id": "upGEDq4b7vzJ"
      }
    },
    {
      "cell_type": "code",
      "source": [
        "input_seq = np.reshape(encoder_input[666],(1,MAXLEN))\n",
        "\n",
        "for i in range(4):\n",
        "  print(f\"{i} created poet from same input\")\n",
        "  print(decode_sequence_random_first(input_seq))\n",
        "  print('\\n')"
      ],
      "metadata": {
        "colab": {
          "base_uri": "https://localhost:8080/"
        },
        "id": "qmhd8-QP8M8N",
        "outputId": "35a4c6c7-4d50-494f-c477-646dad1f46e7"
      },
      "execution_count": null,
      "outputs": [
        {
          "output_type": "stream",
          "name": "stdout",
          "text": [
            "0 created poet from same input\n",
            "1/1 [==============================] - 0s 49ms/step\n",
            " پدر بر میان سپاه اندرون bos که گفتی بسوزد زمین را ز خون eos\n",
            "\n",
            "\n",
            "1 created poet from same input\n",
            "1/1 [==============================] - 0s 14ms/step\n",
            " زمین بر زمین بر <oov> bos جهان پر ز ابر <oov> گرد eos\n",
            "\n",
            "\n",
            "2 created poet from same input\n",
            "1/1 [==============================] - 0s 15ms/step\n",
            " چنان زخم او بر زمین آن بدید bos به کردار آتش کمان بردمید eos\n",
            "\n",
            "\n",
            "3 created poet from same input\n",
            "1/1 [==============================] - 0s 14ms/step\n",
            " چنان زخم او بر زمین آن بدید bos به کردار آتش کمان بردمید eos\n",
            "\n",
            "\n"
          ]
        }
      ]
    },
    {
      "cell_type": "markdown",
      "source": [
        "so with different inputs, we get different outputs and also with same input we usually get different outputs(there is probability to have same output because in our proposed generative model we only choose first word randomly ( we showed that if we sample all outputs randomly based of created distribution by model, it isn't always as good as chosing argmax of output of model and because of that we only choose first word randomly (based of distribution created by lstm output) and then only choosing most probable output(argmax), it is possible to make outputs more random by choosing more words randomly(once again, when we say randomly we mean random using distribution created by netwrok outputs, so yes every word have a probability to be seen but based of input of network, distribution will have a great bias toward 3 or 4 words so they usually will be chosen and after that we will have same pattern) instead of just first word, we can use first two or three words, lets try first two word"
      ],
      "metadata": {
        "id": "QF35SUKS8wug"
      }
    },
    {
      "cell_type": "code",
      "source": [
        "def decode_sequence_random_first_three(input_seq):\n",
        "  # Encode the input as state vectors.\n",
        "  states_value = encoder_model.predict(input_seq)\n",
        "\n",
        "  # Generate empty target sequence of length 1.\n",
        "  target_seq = np.zeros((1,))\n",
        "  # Populate the first character of target sequence with the start character.\n",
        "  target_seq[0,] = 1\n",
        "  target_seq = np.reshape(target_seq,(1,len(target_seq)))\n",
        "\n",
        "  # Sampling loop for a batch of sequences\n",
        "  # (to simplify, here we assume a batch of size 1).\n",
        "  stop_condition = False\n",
        "  decoded_sentence = ''\n",
        "  flag = 0\n",
        "  while not stop_condition:\n",
        "      output_tokens, h, c = decoder_model.predict(\n",
        "          [target_seq] + states_value, verbose=0)\n",
        "\n",
        "      # Sample a token\n",
        "      if flag != 3:\n",
        "        prob_list = output_tokens[0, -1, :]\n",
        "        sampled_token_index = np.random.choice(np.arange(0, len(prob_list)), p=prob_list) # this part make model generative!\n",
        "        flag = flag + 1\n",
        "      else:\n",
        "        sampled_token_index = np.argmax(output_tokens[0, -1, :])\n",
        "\n",
        "     # sampled_token_index = np.argmax(output_tokens[0, -1, :])\n",
        "      sampled_char = reverse_target_char_index[sampled_token_index]\n",
        "      decoded_sentence += \" \" +sampled_char\n",
        "\n",
        "      # Exit condition: either hit max length\n",
        "      # or find stop character.\n",
        "      if (sampled_char == 'eos' or\n",
        "          len(decoded_sentence) > 3*MAXLEN):\n",
        "          stop_condition = True\n",
        "\n",
        "      # Update the target sequence (of length 1).\n",
        "      target_seq = np.zeros((1,))\n",
        "      target_seq[0,] = sampled_token_index\n",
        "      target_seq = np.reshape(target_seq,(1,len(target_seq)))\n",
        "\n",
        "\n",
        "      # Update states\n",
        "      states_value = [h, c]\n",
        "\n",
        "\n",
        "\n",
        "  return decoded_sentence"
      ],
      "metadata": {
        "id": "q9CpnWBN_tXW"
      },
      "execution_count": null,
      "outputs": []
    },
    {
      "cell_type": "code",
      "source": [
        "input_seq = np.reshape(encoder_input[666],(1,MAXLEN))\n",
        "\n",
        "for i in range(4):\n",
        "  print(f\"{i} created poet from same input\")\n",
        "  print(decode_sequence_random_first_three(input_seq))\n",
        "  print('\\n')"
      ],
      "metadata": {
        "colab": {
          "base_uri": "https://localhost:8080/"
        },
        "id": "rSLs_kdEAcXc",
        "outputId": "3bf47dbf-7266-46d5-d037-7432f9d9326c"
      },
      "execution_count": null,
      "outputs": [
        {
          "output_type": "stream",
          "name": "stdout",
          "text": [
            "0 created poet from same input\n",
            "1/1 [==============================] - 0s 16ms/step\n",
            " پس از میمنه گیو گرد سپاه bos بیامد بر رستم کینه خواه eos\n",
            "\n",
            "\n",
            "1 created poet from same input\n",
            "1/1 [==============================] - 0s 14ms/step\n",
            " زمین بر چه خاک و دو پایش به خاک bos همه گبر و برگستوان چاک چاک eos\n",
            "\n",
            "\n",
            "2 created poet from same input\n",
            "1/1 [==============================] - 0s 15ms/step\n",
            " بکردار کوه تو بر کوه و کوه bos به نوک نگین و درفش و گروه eos\n",
            "\n",
            "\n",
            "3 created poet from same input\n",
            "1/1 [==============================] - 0s 18ms/step\n",
            " زمین سم ایدر چو دریا به پای bos همی رفت از کوه تا جای دست eos\n",
            "\n",
            "\n"
          ]
        }
      ]
    },
    {
      "cell_type": "code",
      "source": [
        "input_seq = np.reshape(encoder_input[4096],(1,MAXLEN))\n",
        "\n",
        "for i in range(4):\n",
        "  print(f\"{i} created poet from same input\")\n",
        "  print(decode_sequence_random_first_three(input_seq))\n",
        "  print('\\n')"
      ],
      "metadata": {
        "colab": {
          "base_uri": "https://localhost:8080/"
        },
        "id": "F83ix7XKBUH7",
        "outputId": "a535f124-3929-4a5e-87fa-0cc64bdb0664"
      },
      "execution_count": null,
      "outputs": [
        {
          "output_type": "stream",
          "name": "stdout",
          "text": [
            "0 created poet from same input\n",
            "1/1 [==============================] - 0s 17ms/step\n",
            " پس از کار یزدان چو شیر ژیان bos که گردد کهن گشته و ماه و نه eos\n",
            "\n",
            "\n",
            "1 created poet from same input\n",
            "1/1 [==============================] - 0s 15ms/step\n",
            " ازین پس مرا نیز چندی نبید bos که با تاج شاهی بباید کشید eos\n",
            "\n",
            "\n",
            "2 created poet from same input\n",
            "1/1 [==============================] - 0s 14ms/step\n",
            " پس از من که هر بد که من شاه نیست bos روانم بدان بخت با تو بود eos\n",
            "\n",
            "\n",
            "3 created poet from same input\n",
            "1/1 [==============================] - 0s 20ms/step\n",
            " یکی کم کنی دانش و رای نیست bos ز تو خوبی و دل پر و تیمار نیست eos\n",
            "\n",
            "\n"
          ]
        }
      ]
    },
    {
      "cell_type": "markdown",
      "source": [
        "so we can see if we choose first three words based of output distribution, we don't see the repeated output that often, so in this case our model seems to be really generative, because for same input we get different outputs and they are also all good outputs( have rhytme and rhyme and somewhat meaning and it certainly has ferdosis style)"
      ],
      "metadata": {
        "id": "5oK_6mAXBemR"
      }
    },
    {
      "cell_type": "markdown",
      "source": [
        "### **now using bidirectional GRU for our model**"
      ],
      "metadata": {
        "id": "-lIdU7FoBAwZ"
      }
    },
    {
      "cell_type": "markdown",
      "source": [
        "there are so many options and different models for this part, when we use bidirectional gru, we have two states, so we can encode poem forward and backward, and use this two states too feed it to decoder model.\n",
        "to be honest it isn't really good to have decoder bidirectional, because we create poem in forward direction but we test this two methods, first we use simple gru for decoder, so it's input is concatinacated states of encoder (for forward and backward path) \n",
        "in second method we use bidirectional decoder, so we feed two states manually"
      ],
      "metadata": {
        "id": "ub0A6Q2NH7UK"
      }
    },
    {
      "cell_type": "markdown",
      "source": [
        "now lets try bidirectional GRU for both encoder and decoder"
      ],
      "metadata": {
        "id": "OzXAIGlLaewK"
      }
    },
    {
      "cell_type": "code",
      "source": [
        "latent_dim = 100\n",
        "num_decoder_tokens = len(tokenizer.word_index)+1\n",
        "embedding = Embedding(\n",
        "    input_dim=len(tokenizer.word_index)+1,\n",
        "    output_dim=100,\n",
        "    \n",
        ")\n",
        "\n",
        "encoder_inputs = Input(shape=(MAXLEN,))\n",
        "x = embedding(encoder_inputs)\n",
        "encoder = Bidirectional(GRU(latent_dim, return_sequences=True, return_state=True))\n",
        "\n",
        "encoder_outputs, state_f, state_b = encoder(x)\n",
        "# We discard `encoder_outputs` and only keep the states.\n",
        "encoder_states = [state_f, state_b]\n",
        "\n",
        "# Set up the decoder, using `encoder_states` as initial state.\n",
        "decoder_inputs = Input(shape=(None,))\n",
        "x2 =embedding(decoder_inputs)\n",
        "# We set up our decoder to return full output sequences,\n",
        "# and to return internal states as well. We don't use the \n",
        "# return states in the training model, but we will use them in inference.\n",
        "decoder_gru_bi = Bidirectional(GRU(latent_dim, return_sequences=True, return_state=True))\n",
        "\n",
        "decoder_outputs, _, _ = decoder_gru_bi(x2,\n",
        "                                     initial_state=encoder_states)\n",
        "decoder_dense = Dense(num_decoder_tokens, activation='softmax')\n",
        "decoder_outputs = decoder_dense(decoder_outputs)\n",
        "\n",
        "# Define the model that will turn\n",
        "# `encoder_input_data` & `decoder_input_data` into `decoder_target_data`\n",
        "model_bi = Model([encoder_inputs, decoder_inputs], decoder_outputs)"
      ],
      "metadata": {
        "id": "RZSE8orgavvN"
      },
      "execution_count": null,
      "outputs": []
    },
    {
      "cell_type": "code",
      "source": [
        "model_bi.compile(optimizer='adam', loss='sparse_categorical_crossentropy',metrics = ['accuracy'])\n",
        "encoder_input_array = np.asarray(encoder_input[0:49600])\n",
        "decoder_input_array = np.asarray(decoder_input[0:49600])\n",
        "decoder_output_array = np.asarray(decoder_output[0:49600])"
      ],
      "metadata": {
        "id": "OPkKRF2tRhDp"
      },
      "execution_count": null,
      "outputs": []
    },
    {
      "cell_type": "markdown",
      "source": [
        "when we used bidirectional model, we saw that it overfit very fast so we train just 5 epoches"
      ],
      "metadata": {
        "id": "86Jp3PAwQTdJ"
      }
    },
    {
      "cell_type": "code",
      "source": [
        "history = model_bi.fit([encoder_input_array, decoder_input_array], decoder_output_array,\n",
        "          batch_size=64,\n",
        "          epochs=5,\n",
        "          validation_split=0.2)"
      ],
      "metadata": {
        "colab": {
          "base_uri": "https://localhost:8080/"
        },
        "id": "nCGCTkoQfkCr",
        "outputId": "b582412d-7ac0-4300-8c4d-ae46a8f69720"
      },
      "execution_count": null,
      "outputs": [
        {
          "output_type": "stream",
          "name": "stdout",
          "text": [
            "Epoch 1/5\n",
            "620/620 [==============================] - 36s 49ms/step - loss: 3.8604 - accuracy: 0.4771 - val_loss: 2.9888 - val_accuracy: 0.5506\n",
            "Epoch 2/5\n",
            "620/620 [==============================] - 30s 49ms/step - loss: 2.4546 - accuracy: 0.6020 - val_loss: 1.9754 - val_accuracy: 0.6937\n",
            "Epoch 3/5\n",
            "620/620 [==============================] - 30s 49ms/step - loss: 1.4862 - accuracy: 0.7558 - val_loss: 1.2631 - val_accuracy: 0.8178\n",
            "Epoch 4/5\n",
            "620/620 [==============================] - 30s 48ms/step - loss: 0.8577 - accuracy: 0.8689 - val_loss: 0.8427 - val_accuracy: 0.8889\n",
            "Epoch 5/5\n",
            "620/620 [==============================] - 30s 49ms/step - loss: 0.5068 - accuracy: 0.9264 - val_loss: 0.6272 - val_accuracy: 0.9219\n"
          ]
        }
      ]
    },
    {
      "cell_type": "code",
      "source": [
        "plt.plot(history.history['accuracy'])\n",
        "plt.plot(history.history['val_accuracy'])\n",
        "plt.title('model accuracy')\n",
        "plt.ylabel('accuracy')\n",
        "plt.xlabel('epoch')\n",
        "plt.legend(['train', 'test'], loc='upper left')\n",
        "plt.show()\n",
        "# summarize history for loss\n",
        "plt.plot(history.history['loss'])\n",
        "plt.plot(history.history['val_loss'])\n",
        "plt.title('model loss')\n",
        "plt.ylabel('loss')\n",
        "plt.xlabel('epoch')\n",
        "plt.legend(['train', 'test'], loc='upper left')\n",
        "plt.show()"
      ],
      "metadata": {
        "colab": {
          "base_uri": "https://localhost:8080/",
          "height": 573
        },
        "id": "97Ls_n0dQmA8",
        "outputId": "36813599-f812-4961-92f5-eaeb9299bb43"
      },
      "execution_count": null,
      "outputs": [
        {
          "output_type": "display_data",
          "data": {
            "text/plain": [
              "<Figure size 432x288 with 1 Axes>"
            ],
            "image/png": "[encoded data removed]"
          },
          "metadata": {
            "needs_background": "light"
          }
        },
        {
          "output_type": "display_data",
          "data": {
            "text/plain": [
              "<Figure size 432x288 with 1 Axes>"
            ],
            "image/png": "[encoded data removed]"
          },
          "metadata": {
            "needs_background": "light"
          }
        }
      ]
    },
    {
      "cell_type": "code",
      "source": [
        "encoder_model = Model(encoder_inputs, encoder_states)\n",
        "\n",
        "decoder_state_input_f = Input(shape=(latent_dim,))\n",
        "decoder_state_input_b = Input(shape=(latent_dim,))\n",
        "decoder_states_inputs = [decoder_state_input_f, decoder_state_input_b]\n",
        "decoder_outputs, state_fg, state_bg = decoder_gru_bi(\n",
        "    embedding(decoder_inputs), initial_state=decoder_states_inputs)\n",
        "decoder_states = [state_fg, state_bg]\n",
        "decoder_outputs = decoder_dense(decoder_outputs)\n",
        "decoder_model = Model(\n",
        "    [decoder_inputs] + decoder_states_inputs,\n",
        "    [decoder_outputs] + decoder_states)"
      ],
      "metadata": {
        "id": "lgGlFq-3loEE"
      },
      "execution_count": null,
      "outputs": []
    },
    {
      "cell_type": "code",
      "source": [
        "def decode_sequence_gru_bidirectional(input_seq):\n",
        "  # Encode the input as state vectors.\n",
        "  states_value = encoder_model.predict(input_seq)\n",
        "\n",
        "  # Generate empty target sequence of length 1.\n",
        "  target_seq = np.zeros((1,))\n",
        "  # Populate the first character of target sequence with the start character.\n",
        "  target_seq[0,] = 1\n",
        "  target_seq = np.reshape(target_seq,(1,len(target_seq)))\n",
        "\n",
        "  # Sampling loop for a batch of sequences\n",
        "  # (to simplify, here we assume a batch of size 1).\n",
        "  stop_condition = False\n",
        "  decoded_sentence = ''\n",
        "  while not stop_condition:\n",
        "      output_tokens = model_bi([input_seq, target_seq])\n",
        "\n",
        "      # Sample a token\n",
        "      #prob_list = output_tokens[0, -1, :]\n",
        "      #sampled_token_index = np.random.choice(np.arange(0, len(prob_list)), p=prob_list) # this part make model generative!\n",
        "      sampled_token_index = np.argmax(output_tokens[0, -1, :])\n",
        "      #print(sampled_token_index)\n",
        "      if  sampled_token_index == 0:\n",
        "        sampled_token_index = 1\n",
        "\n",
        "      sampled_char = reverse_target_char_index[sampled_token_index]\n",
        "      decoded_sentence += \" \" +sampled_char\n",
        "      # Exit condition: either hit max length\n",
        "      # or find stop character.\n",
        "      if (sampled_char == 'eos' or\n",
        "          len(decoded_sentence) > 3*MAXLEN):\n",
        "          stop_condition = True\n",
        "\n",
        "      # Update the target sequence (of length 1).\n",
        "  #    target_seq = np.zeros((1,))\n",
        "   #   target_seq[0,] = sampled_token_index\n",
        "      target_seq = np.hstack((target_seq,np.reshape(sampled_token_index,(1,1))))\n",
        "      n1,n2 = np.shape(target_seq)\n",
        "      target_seq = np.reshape(target_seq,(1,(n2)))\n",
        "\n",
        "\n",
        "\n",
        "  return decoded_sentence"
      ],
      "metadata": {
        "id": "6hOF0TeJmDYg"
      },
      "execution_count": null,
      "outputs": []
    },
    {
      "cell_type": "code",
      "source": [
        "input_seq = np.reshape(encoder_input[118],(1,MAXLEN))\n",
        "decode_sequence_gru_bidirectional(input_seq)"
      ],
      "metadata": {
        "colab": {
          "base_uri": "https://localhost:8080/",
          "height": 53
        },
        "id": "V8PJBwOImtXA",
        "outputId": "704232e7-df6d-4696-ce31-1bc7b1d0adee"
      },
      "execution_count": null,
      "outputs": [
        {
          "output_type": "stream",
          "name": "stdout",
          "text": [
            "1/1 [==============================] - 0s 17ms/step\n"
          ]
        },
        {
          "output_type": "execute_result",
          "data": {
            "text/plain": [
              "' دمان خواندند آفرین خواندند آفرین خواندند آفرین خواندند <oov> <oov> <oov>'"
            ],
            "application/vnd.google.colaboratory.intrinsic+json": {
              "type": "string"
            }
          },
          "metadata": {},
          "execution_count": 204
        }
      ]
    },
    {
      "cell_type": "code",
      "source": [
        "input_seq = np.reshape(encoder_input[77],(1,MAXLEN))\n",
        "decode_sequence_gru_bidirectional(input_seq)"
      ],
      "metadata": {
        "colab": {
          "base_uri": "https://localhost:8080/",
          "height": 53
        },
        "id": "hRHZUUW01-VK",
        "outputId": "edceff6d-a889-48c5-9cb4-36c8a7f73f83"
      },
      "execution_count": null,
      "outputs": [
        {
          "output_type": "stream",
          "name": "stdout",
          "text": [
            "1/1 [==============================] - 0s 17ms/step\n"
          ]
        },
        {
          "output_type": "execute_result",
          "data": {
            "text/plain": [
              "' دمان خواندند آفرین خواندند bos نگه آفرین خواندند آفرین خواندند <oov> <oov>'"
            ],
            "application/vnd.google.colaboratory.intrinsic+json": {
              "type": "string"
            }
          },
          "metadata": {},
          "execution_count": 205
        }
      ]
    },
    {
      "cell_type": "markdown",
      "source": [
        "as we can see, in this method output on this method are not very good and it didn't learn patter but overfitted on same things and so can't create true answers for us. partially it is because it doesnt have a good meaning to use bidirectional when decoding (because when training it seems it have full text but it has not!) and this method don't work"
      ],
      "metadata": {
        "id": "ueSjXhdw2BD5"
      }
    },
    {
      "cell_type": "markdown",
      "source": [
        "so lets change our approch, now we use bidirectional encdore and concatinate states for our decoder and see results"
      ],
      "metadata": {
        "id": "nOjFfnCT8QAD"
      }
    },
    {
      "cell_type": "code",
      "source": [
        "latent_dim = 256\n",
        "num_decoder_tokens = len(tokenizer.word_index)+1\n",
        "embedding = Embedding(\n",
        "    input_dim=len(tokenizer.word_index)+1,\n",
        "    output_dim=100,\n",
        "    \n",
        ")\n",
        "\n",
        "encoder_inputs = Input(shape=(MAXLEN,))\n",
        "x = embedding(encoder_inputs)\n",
        "encoder = Bidirectional(GRU(latent_dim, return_sequences=True, return_state=True))\n",
        "\n",
        "encoder_outputs, state_f, state_b = encoder(x)\n",
        "# We discard `encoder_outputs` and only keep the states.\n",
        "state_g = Concatenate()([state_f, state_b])\n",
        "\n",
        "# Set up the decoder, using `encoder_states` as initial state.\n",
        "decoder_inputs = Input(shape=(None,))\n",
        "x2 =embedding(decoder_inputs)\n",
        "# We set up our decoder to return full output sequences,\n",
        "# and to return internal states as well. We don't use the \n",
        "# return states in the training model, but we will use them in inference.\n",
        "decoder_gru = GRU(latent_dim*2, return_sequences=True, return_state=True)\n",
        "decoder_outputs, _, = decoder_gru(x2,initial_state=state_g)\n",
        "decoder_dense = Dense(num_decoder_tokens, activation='softmax')\n",
        "decoder_outputs = decoder_dense(decoder_outputs)\n",
        "\n",
        "# Define the model that will turn\n",
        "# `encoder_input_data` & `decoder_input_data` into `decoder_target_data`\n",
        "model = Model([encoder_inputs, decoder_inputs], decoder_outputs)"
      ],
      "metadata": {
        "id": "Jbo02GyVEQhU"
      },
      "execution_count": null,
      "outputs": []
    },
    {
      "cell_type": "code",
      "source": [
        "model.compile(optimizer='adam', loss='sparse_categorical_crossentropy',metrics = ['accuracy'])\n",
        "encoder_input_array = np.asarray(encoder_input[0:49600])\n",
        "decoder_input_array = np.asarray(decoder_input[0:49600])\n",
        "decoder_output_array = np.asarray(decoder_output[0:49600])"
      ],
      "metadata": {
        "id": "TEOFBAfP4-JV"
      },
      "execution_count": null,
      "outputs": []
    },
    {
      "cell_type": "markdown",
      "source": [
        "again, because of high rate of convergence(and possibility of overfitting) we only train for 15 epochs"
      ],
      "metadata": {
        "id": "VwIrGdIJSXss"
      }
    },
    {
      "cell_type": "code",
      "source": [
        "history = model.fit([encoder_input_array, decoder_input_array], decoder_output_array,\n",
        "          batch_size=64,\n",
        "          epochs=15,\n",
        "          validation_split=0.2)"
      ],
      "metadata": {
        "colab": {
          "base_uri": "https://localhost:8080/"
        },
        "id": "_IYtX6c75ER6",
        "outputId": "e17c573c-2b9f-499d-c758-587fc7d92dad"
      },
      "execution_count": null,
      "outputs": [
        {
          "output_type": "stream",
          "name": "stdout",
          "text": [
            "Epoch 1/15\n",
            "620/620 [==============================] - 44s 65ms/step - loss: 3.8612 - accuracy: 0.4775 - val_loss: 3.3707 - val_accuracy: 0.5205\n",
            "Epoch 2/15\n",
            "620/620 [==============================] - 38s 62ms/step - loss: 3.1800 - accuracy: 0.5221 - val_loss: 3.1430 - val_accuracy: 0.5341\n",
            "Epoch 3/15\n",
            "620/620 [==============================] - 38s 62ms/step - loss: 2.9063 - accuracy: 0.5414 - val_loss: 2.9704 - val_accuracy: 0.5485\n",
            "Epoch 4/15\n",
            "620/620 [==============================] - 39s 63ms/step - loss: 2.6641 - accuracy: 0.5589 - val_loss: 2.8420 - val_accuracy: 0.5609\n",
            "Epoch 5/15\n",
            "620/620 [==============================] - 39s 63ms/step - loss: 2.4433 - accuracy: 0.5761 - val_loss: 2.7710 - val_accuracy: 0.5698\n",
            "Epoch 6/15\n",
            "620/620 [==============================] - 39s 63ms/step - loss: 2.2497 - accuracy: 0.5929 - val_loss: 2.7495 - val_accuracy: 0.5740\n",
            "Epoch 7/15\n",
            "620/620 [==============================] - 39s 63ms/step - loss: 2.0784 - accuracy: 0.6109 - val_loss: 2.7528 - val_accuracy: 0.5771\n",
            "Epoch 8/15\n",
            "620/620 [==============================] - 39s 63ms/step - loss: 1.9265 - accuracy: 0.6293 - val_loss: 2.7867 - val_accuracy: 0.5770\n",
            "Epoch 9/15\n",
            "620/620 [==============================] - 39s 64ms/step - loss: 1.7916 - accuracy: 0.6478 - val_loss: 2.8212 - val_accuracy: 0.5769\n",
            "Epoch 10/15\n",
            "620/620 [==============================] - 39s 63ms/step - loss: 1.6722 - accuracy: 0.6651 - val_loss: 2.8668 - val_accuracy: 0.5757\n",
            "Epoch 11/15\n",
            "620/620 [==============================] - 39s 64ms/step - loss: 1.5643 - accuracy: 0.6819 - val_loss: 2.9138 - val_accuracy: 0.5737\n",
            "Epoch 12/15\n",
            "620/620 [==============================] - 40s 64ms/step - loss: 1.4650 - accuracy: 0.6976 - val_loss: 2.9699 - val_accuracy: 0.5718\n",
            "Epoch 13/15\n",
            "620/620 [==============================] - 40s 64ms/step - loss: 1.3735 - accuracy: 0.7137 - val_loss: 3.0315 - val_accuracy: 0.5705\n",
            "Epoch 14/15\n",
            "620/620 [==============================] - 40s 64ms/step - loss: 1.2878 - accuracy: 0.7283 - val_loss: 3.0942 - val_accuracy: 0.5690\n",
            "Epoch 15/15\n",
            "620/620 [==============================] - 40s 64ms/step - loss: 1.2089 - accuracy: 0.7429 - val_loss: 3.1579 - val_accuracy: 0.5671\n"
          ]
        }
      ]
    },
    {
      "cell_type": "code",
      "source": [
        "plt.plot(history.history['accuracy'])\n",
        "plt.plot(history.history['val_accuracy'])\n",
        "plt.title('model accuracy')\n",
        "plt.ylabel('accuracy')\n",
        "plt.xlabel('epoch')\n",
        "plt.legend(['train', 'test'], loc='upper left')\n",
        "plt.show()\n",
        "# summarize history for loss\n",
        "plt.plot(history.history['loss'])\n",
        "plt.plot(history.history['val_loss'])\n",
        "plt.title('model loss')\n",
        "plt.ylabel('loss')\n",
        "plt.xlabel('epoch')\n",
        "plt.legend(['train', 'test'], loc='upper left')\n",
        "plt.show()"
      ],
      "metadata": {
        "colab": {
          "base_uri": "https://localhost:8080/",
          "height": 573
        },
        "id": "e0gJr1PmVQ-M",
        "outputId": "9364460f-6c78-4f3e-c0d9-ae0804cf4b3d"
      },
      "execution_count": null,
      "outputs": [
        {
          "output_type": "display_data",
          "data": {
            "text/plain": [
              "<Figure size 432x288 with 1 Axes>"
            ],
            "image/png": "[encoded data removed]"
          },
          "metadata": {
            "needs_background": "light"
          }
        },
        {
          "output_type": "display_data",
          "data": {
            "text/plain": [
              "<Figure size 432x288 with 1 Axes>"
            ],
            "image/png": "[encoded data removed]"
          },
          "metadata": {
            "needs_background": "light"
          }
        }
      ]
    },
    {
      "cell_type": "code",
      "source": [
        "encoder_model = Model(encoder_inputs, state_g)\n",
        "\n",
        "decoder_state_input_g = Input(shape=(2*latent_dim,))\n",
        "decoder_outputs, state_gru = decoder_gru(\n",
        "    embedding(decoder_inputs), initial_state=decoder_state_input_g)\n",
        "decoder_outputs = decoder_dense(decoder_outputs)\n",
        "decoder_model = Model(\n",
        "    [decoder_inputs, decoder_state_input_g],\n",
        "    [decoder_outputs, state_gru])"
      ],
      "metadata": {
        "id": "EPP3zRvP9JWw"
      },
      "execution_count": null,
      "outputs": []
    },
    {
      "cell_type": "code",
      "source": [
        "def decode_sequence_gru(input_seq):\n",
        "  # Encode the input as state vectors.\n",
        "  states_value = encoder_model.predict(input_seq)\n",
        "\n",
        "  # Generate empty target sequence of length 1.\n",
        "  target_seq = np.zeros((1,))\n",
        "  # Populate the first character of target sequence with the start character.\n",
        "  target_seq[0,] = 1\n",
        "  target_seq = np.reshape(target_seq,(1,len(target_seq)))\n",
        "\n",
        "  # Sampling loop for a batch of sequences\n",
        "  # (to simplify, here we assume a batch of size 1).\n",
        "  stop_condition = False\n",
        "  decoded_sentence = ''\n",
        "  while not stop_condition:\n",
        "      output_tokens, states_gru = decoder_model.predict(\n",
        "          [target_seq, states_value], verbose=0)\n",
        "\n",
        "      # Sample a token\n",
        "      sampled_token_index = np.argmax(output_tokens[0, -1, :])\n",
        "      sampled_char = reverse_target_char_index[sampled_token_index]\n",
        "      decoded_sentence += \" \" +sampled_char\n",
        "\n",
        "      # Exit condition: either hit max length\n",
        "      # or find stop character.\n",
        "      if (sampled_char == 'eos' or\n",
        "          len(decoded_sentence) > 3*MAXLEN):\n",
        "          stop_condition = True\n",
        "\n",
        "      # Update the target sequence (of length 1).\n",
        "      target_seq = np.zeros((1,))\n",
        "      target_seq[0,] = sampled_token_index\n",
        "      target_seq = np.reshape(target_seq,(1,len(target_seq)))\n",
        "\n",
        "\n",
        "      # Update states\n",
        "      states_value = states_gru\n",
        "\n",
        "\n",
        "\n",
        "  return decoded_sentence"
      ],
      "metadata": {
        "id": "ttIXgaVTADBw"
      },
      "execution_count": null,
      "outputs": []
    },
    {
      "cell_type": "code",
      "source": [
        "reverse_target_char_index = tokenizer.index_word\n",
        "target_token_index = tokenizer.word_index"
      ],
      "metadata": {
        "id": "4DrhgjtUFCMq"
      },
      "execution_count": null,
      "outputs": []
    },
    {
      "cell_type": "markdown",
      "source": [
        "now testing gru model when onlu choosing best outputs"
      ],
      "metadata": {
        "id": "sQyBsEhjIJ6l"
      }
    },
    {
      "cell_type": "code",
      "source": [
        "input_seq = np.reshape(encoder_input[7],(1,MAXLEN))\n",
        "decode_sequence_gru(input_seq)"
      ],
      "metadata": {
        "colab": {
          "base_uri": "https://localhost:8080/",
          "height": 53
        },
        "id": "pDoo0OW_EtAr",
        "outputId": "8455e09f-3cff-438f-ffe8-5d18dd689141"
      },
      "execution_count": null,
      "outputs": [
        {
          "output_type": "stream",
          "name": "stdout",
          "text": [
            "1/1 [==============================] - 0s 16ms/step\n"
          ]
        },
        {
          "output_type": "execute_result",
          "data": {
            "text/plain": [
              "' اگر پارسا یابد از بخردان bos ز بهر تو بر نیست همداستان eos'"
            ],
            "application/vnd.google.colaboratory.intrinsic+json": {
              "type": "string"
            }
          },
          "metadata": {},
          "execution_count": 74
        }
      ]
    },
    {
      "cell_type": "markdown",
      "source": [
        "as we see, with this method we have solved our issues\n",
        "it is good, it isn't in ferdosi(we will print original output7 to show that it isn't overfitted) so model isn't overfitted, it has rhythm  and ryhme but like before, it doesn't make sense. "
      ],
      "metadata": {
        "id": "m1PGbv2bJNi7"
      }
    },
    {
      "cell_type": "code",
      "source": [
        "text_from_token(decoder_output[7])"
      ],
      "metadata": {
        "colab": {
          "base_uri": "https://localhost:8080/",
          "height": 36
        },
        "id": "6kbHTMjy7bg2",
        "outputId": "5530e801-7966-4c1b-fce0-3eb584f83d31"
      },
      "execution_count": null,
      "outputs": [
        {
          "output_type": "execute_result",
          "data": {
            "text/plain": [
              "' ستودن نداند کس او را چو هست bos میان بندگی را ببایدت بست eos'"
            ],
            "application/vnd.google.colaboratory.intrinsic+json": {
              "type": "string"
            }
          },
          "metadata": {},
          "execution_count": 231
        }
      ]
    },
    {
      "cell_type": "markdown",
      "source": [
        "so this proves that model isn't overfitted (output in train and final results are different) now lets try for samples that wasn't in train data"
      ],
      "metadata": {
        "id": "ieBMNoH9PDkS"
      }
    },
    {
      "cell_type": "code",
      "source": [
        "input_seq = np.reshape(encoder_input[49603],(1,MAXLEN))\n",
        "decode_sequence_gru(input_seq)"
      ],
      "metadata": {
        "colab": {
          "base_uri": "https://localhost:8080/",
          "height": 53
        },
        "id": "ImQ1EGHtIeTh",
        "outputId": "015c7dd6-eff4-409f-c32f-164189ae7919"
      },
      "execution_count": null,
      "outputs": [
        {
          "output_type": "stream",
          "name": "stdout",
          "text": [
            "1/1 [==============================] - 0s 17ms/step\n"
          ]
        },
        {
          "output_type": "execute_result",
          "data": {
            "text/plain": [
              "' نخواهند جز نام او زردهشت bos که هر سه یاقوت را بر نشست eos'"
            ],
            "application/vnd.google.colaboratory.intrinsic+json": {
              "type": "string"
            }
          },
          "metadata": {},
          "execution_count": 58
        }
      ]
    },
    {
      "cell_type": "markdown",
      "source": [
        "it is good enough! we said it befor we see some patterns of ferdousi poem in outputs (like combination of words) but it isn't completly copy! so our model really generate new outputs(that have ferdousi style but they don't have meaning)"
      ],
      "metadata": {
        "id": "glSmlKHyPlr2"
      }
    },
    {
      "cell_type": "markdown",
      "source": [
        "now lets make model generative by sampling 3 outputs instead of using argmax"
      ],
      "metadata": {
        "id": "MCiR1-ewP5Yq"
      }
    },
    {
      "cell_type": "code",
      "source": [
        "def decode_sequence_gru_generative(input_seq):\n",
        "  # Encode the input as state vectors.\n",
        "  states_value = encoder_model.predict(input_seq)\n",
        "\n",
        "  # Generate empty target sequence of length 1.\n",
        "  target_seq = np.zeros((1,))\n",
        "  # Populate the first character of target sequence with the start character.\n",
        "  target_seq[0,] = 1\n",
        "  target_seq = np.reshape(target_seq,(1,len(target_seq)))\n",
        "\n",
        "  # Sampling loop for a batch of sequences\n",
        "  # (to simplify, here we assume a batch of size 1).\n",
        "  stop_condition = False\n",
        "  decoded_sentence = ''\n",
        "  flag = 0\n",
        "  while not stop_condition:\n",
        "      output_tokens, states_gru = decoder_model.predict(\n",
        "          [target_seq, states_value], verbose=0)\n",
        "\n",
        "      # Sample a token\n",
        "      if flag != 3:\n",
        "        prob_list = output_tokens[0, -1, :]\n",
        "        sampled_token_index = np.random.choice(np.arange(0, len(prob_list)), p=prob_list) # this part make model generative!\n",
        "        flag = flag + 1\n",
        "      else:\n",
        "        sampled_token_index = np.argmax(output_tokens[0, -1, :])\n",
        "      sampled_char = reverse_target_char_index[sampled_token_index]\n",
        "      decoded_sentence += \" \" +sampled_char\n",
        "\n",
        "      # Exit condition: either hit max length\n",
        "      # or find stop character.\n",
        "      if (sampled_char == 'eos' or\n",
        "          len(decoded_sentence) > 3*MAXLEN):\n",
        "          stop_condition = True\n",
        "\n",
        "      # Update the target sequence (of length 1).\n",
        "      target_seq = np.zeros((1,))\n",
        "      target_seq[0,] = sampled_token_index\n",
        "      target_seq = np.reshape(target_seq,(1,len(target_seq)))\n",
        "\n",
        "\n",
        "      # Update states\n",
        "      states_value = states_gru\n",
        "\n",
        "\n",
        "\n",
        "  return decoded_sentence"
      ],
      "metadata": {
        "id": "udmqL9IdQR5p"
      },
      "execution_count": null,
      "outputs": []
    },
    {
      "cell_type": "code",
      "source": [
        "input_seq = np.reshape(encoder_input[4096],(1,MAXLEN))\n",
        "\n",
        "for i in range(4):\n",
        "  print(f\"{i} created poem from same input\")\n",
        "  print(decode_sequence_gru_generative(input_seq))\n",
        "  print('\\n')"
      ],
      "metadata": {
        "colab": {
          "base_uri": "https://localhost:8080/"
        },
        "id": "t3GHCR9KQwjz",
        "outputId": "7394e061-722b-4001-d563-73132d5468ce"
      },
      "execution_count": null,
      "outputs": [
        {
          "output_type": "stream",
          "name": "stdout",
          "text": [
            "0 created poet from same input\n",
            "1/1 [==============================] - 0s 18ms/step\n",
            " هران کس که او را سر آرد زمان bos بکژی و <oov> نبندد روان eos\n",
            "\n",
            "\n",
            "1 created poet from same input\n",
            "1/1 [==============================] - 0s 17ms/step\n",
            " که بخشش بداد و به فرمان تست bos به دیدار و دیدار تو بگذرد eos\n",
            "\n",
            "\n",
            "2 created poet from same input\n",
            "1/1 [==============================] - 0s 16ms/step\n",
            " تبه کرد پدرود و بنواختش bos به نزدیکی خویش بنشاختش eos\n",
            "\n",
            "\n",
            "3 created poet from same input\n",
            "1/1 [==============================] - 0s 18ms/step\n",
            " که باری مگر زندگانی دراز bos کند روز و رنجش برو بر فراز eos\n",
            "\n",
            "\n"
          ]
        }
      ]
    },
    {
      "cell_type": "markdown",
      "source": [
        "as we can, we can have multiple outputs for same input, if we search for closest poem by hand(on the internet) we have somehting like:\n",
        "\n",
        "که او را بود زندگانی دراز\n",
        "\n",
        "and if you compare it to last created poem we have\n",
        "\n",
        "که باری مگر زندگانی دراز\n",
        "\n",
        "as we estated befor, model learns patters and in this example it learned:\n",
        "\n",
        "زندگانی دراز\n",
        "\n",
        "pattern but it used it in different context, so we have rhythm  but we lost meaning, it shows that this models don't learn meaning but just learn somepatterns instead(which is expected!)"
      ],
      "metadata": {
        "id": "Enqbu-_0I45u"
      }
    },
    {
      "cell_type": "markdown",
      "source": [
        "testing for some different inputs:\n"
      ],
      "metadata": {
        "id": "7ihw23PTRzkC"
      }
    },
    {
      "cell_type": "code",
      "source": [
        "input_seq = np.reshape(encoder_input[666],(1,MAXLEN))\n",
        "\n",
        "for i in range(4):\n",
        "  print(f\"{i} created poem from same input\")\n",
        "  print(decode_sequence_gru_generative(input_seq))\n",
        "  print('\\n')"
      ],
      "metadata": {
        "colab": {
          "base_uri": "https://localhost:8080/"
        },
        "id": "dkD7sM7-R16b",
        "outputId": "76bbf35f-5588-453c-cd09-aa1bfea92bfc"
      },
      "execution_count": null,
      "outputs": [
        {
          "output_type": "stream",
          "name": "stdout",
          "text": [
            "0 created poem from same input\n",
            "1/1 [==============================] - 0s 60ms/step\n",
            " نیاید پی مردم کینه جوی bos که بر کوه تا پیل چون پیل و کوس eos\n",
            "\n",
            "\n",
            "1 created poem from same input\n",
            "1/1 [==============================] - 0s 14ms/step\n",
            " که چندان پسر بود همتای اوی bos که کردار بد بد کنی رزم اوی eos\n",
            "\n",
            "\n",
            "2 created poem from same input\n",
            "1/1 [==============================] - 0s 14ms/step\n",
            " چنین گفت اگر دور با دیده شیر bos که هرگز برآید به آوای نیل eos\n",
            "\n",
            "\n",
            "3 created poem from same input\n",
            "1/1 [==============================] - 0s 16ms/step\n",
            " نیاید <oov> دو مرد مرد bos که بر چرخ گردان میانش به خاک eos\n",
            "\n",
            "\n"
          ]
        }
      ]
    },
    {
      "cell_type": "code",
      "source": [
        "input_seq = np.reshape(encoder_input[4099],(1,MAXLEN))\n",
        "\n",
        "for i in range(4):\n",
        "  print(f\"{i} created poem from same input\")\n",
        "  print(decode_sequence_gru_generative(input_seq))\n",
        "  print('\\n')"
      ],
      "metadata": {
        "colab": {
          "base_uri": "https://localhost:8080/"
        },
        "id": "8W5tu0y5Sa-I",
        "outputId": "3cc54310-a168-4e7d-ce46-edb47c16e2be"
      },
      "execution_count": null,
      "outputs": [
        {
          "output_type": "stream",
          "name": "stdout",
          "text": [
            "0 created poem from same input\n",
            "1/1 [==============================] - 0s 16ms/step\n",
            " پیاده دوان پیش او شد سپاه bos که جاوید باد این دل و نیک خواه eos\n",
            "\n",
            "\n",
            "1 created poem from same input\n",
            "1/1 [==============================] - 0s 14ms/step\n",
            " که آگاه شد شاه گیتی فروز bos که ما را بشادی بکردار گرد eos\n",
            "\n",
            "\n",
            "2 created poem from same input\n",
            "1/1 [==============================] - 0s 16ms/step\n",
            " سگ و زیرش و تیر و کمان bos به <oov> و به بند و آن بدگمان eos\n",
            "\n",
            "\n",
            "3 created poem from same input\n",
            "1/1 [==============================] - 0s 18ms/step\n",
            " نخواهد سواری چو افراسیاب bos که داند که داند که آرام و خواب eos\n",
            "\n",
            "\n"
          ]
        }
      ]
    },
    {
      "cell_type": "markdown",
      "source": [
        "we can see that created poets have so many mistakes, but they have rhythm  and style of ferdousi so result are somewhat good,\n",
        "it is hard to compare results to LSTM they are both somewhat good, they generate new poems that doesn't exist and have acceptable rhythm, they have \"ghafie\" (it is easily explainable in lstm, memory can save estate of end word before bos so before ending poem, it use a word which is compatible with that word and then end the poem) "
      ],
      "metadata": {
        "id": "zGH2sBbjSnNP"
      }
    },
    {
      "cell_type": "markdown",
      "source": [
        "### conclusion:\n",
        "we showed that both lstm and bidirectional gru work good for generating poems, they both somewhat undrestand pattern to make rhythme and they had same style as ferdousi, created output usually didn't have a meaning and it's because these models learn patterns and really don't undrestant meaning to create a meaningfull poem!\n",
        "also we showed that our proposed model based on sampling are generative, which means that for same input they can make multiple unique outputs"
      ],
      "metadata": {
        "id": "XFeVAW1O7iqN"
      }
    },
    {
      "cell_type": "code",
      "source": [],
      "metadata": {
        "id": "XIxErJDG7iKC"
      },
      "execution_count": null,
      "outputs": []
    }
  ]
}