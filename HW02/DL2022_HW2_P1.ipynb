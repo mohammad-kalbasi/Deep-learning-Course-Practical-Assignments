{
  "nbformat": 4,
  "nbformat_minor": 0,
  "metadata": {
    "colab": {
      "provenance": []
    },
    "kernelspec": {
      "name": "python3",
      "display_name": "Python 3"
    },
    "language_info": {
      "name": "python"
    },
    "gpuClass": "standard",
    "accelerator": "GPU",
    "widgets": {
      "application/vnd.jupyter.widget-state+json": {
        "98b3184dd6854d9088cf09a6382727c3": {
          "model_module": "@jupyter-widgets/controls",
          "model_name": "HBoxModel",
          "model_module_version": "1.5.0",
          "state": {
            "_dom_classes": [],
            "_model_module": "@jupyter-widgets/controls",
            "_model_module_version": "1.5.0",
            "_model_name": "HBoxModel",
            "_view_count": null,
            "_view_module": "@jupyter-widgets/controls",
            "_view_module_version": "1.5.0",
            "_view_name": "HBoxView",
            "box_style": "",
            "children": [
              "IPY_MODEL_a96564b7c3d146d7a7cfb277426d3f4a",
              "IPY_MODEL_93d1fc0826b248eba6aa1c086917a8ee",
              "IPY_MODEL_36f6ccc54d3a4bb6ae020fd1808efcb3"
            ],
            "layout": "IPY_MODEL_1688306b9cb14a09801c8b573bb303a9"
          }
        },
        "a96564b7c3d146d7a7cfb277426d3f4a": {
          "model_module": "@jupyter-widgets/controls",
          "model_name": "HTMLModel",
          "model_module_version": "1.5.0",
          "state": {
            "_dom_classes": [],
            "_model_module": "@jupyter-widgets/controls",
            "_model_module_version": "1.5.0",
            "_model_name": "HTMLModel",
            "_view_count": null,
            "_view_module": "@jupyter-widgets/controls",
            "_view_module_version": "1.5.0",
            "_view_name": "HTMLView",
            "description": "",
            "description_tooltip": null,
            "layout": "IPY_MODEL_77bce8f7eda84c45afb391dc73ee2b38",
            "placeholder": "​",
            "style": "IPY_MODEL_8531657db6a94dd2bc7398b7f0b0dc13",
            "value": "100%"
          }
        },
        "93d1fc0826b248eba6aa1c086917a8ee": {
          "model_module": "@jupyter-widgets/controls",
          "model_name": "FloatProgressModel",
          "model_module_version": "1.5.0",
          "state": {
            "_dom_classes": [],
            "_model_module": "@jupyter-widgets/controls",
            "_model_module_version": "1.5.0",
            "_model_name": "FloatProgressModel",
            "_view_count": null,
            "_view_module": "@jupyter-widgets/controls",
            "_view_module_version": "1.5.0",
            "_view_name": "ProgressView",
            "bar_style": "success",
            "description": "",
            "description_tooltip": null,
            "layout": "IPY_MODEL_41365bec6f8d415d8d064475e3a7fa78",
            "max": 26421880,
            "min": 0,
            "orientation": "horizontal",
            "style": "IPY_MODEL_cf097624581542b7885ad89e0694a176",
            "value": 26421880
          }
        },
        "36f6ccc54d3a4bb6ae020fd1808efcb3": {
          "model_module": "@jupyter-widgets/controls",
          "model_name": "HTMLModel",
          "model_module_version": "1.5.0",
          "state": {
            "_dom_classes": [],
            "_model_module": "@jupyter-widgets/controls",
            "_model_module_version": "1.5.0",
            "_model_name": "HTMLModel",
            "_view_count": null,
            "_view_module": "@jupyter-widgets/controls",
            "_view_module_version": "1.5.0",
            "_view_name": "HTMLView",
            "description": "",
            "description_tooltip": null,
            "layout": "IPY_MODEL_b26d52e392ed4591bffeb50317760d82",
            "placeholder": "​",
            "style": "IPY_MODEL_b452a4b6da9a44a189cc7fb7038d91ec",
            "value": " 26421880/26421880 [00:03&lt;00:00, 13823581.52it/s]"
          }
        },
        "1688306b9cb14a09801c8b573bb303a9": {
          "model_module": "@jupyter-widgets/base",
          "model_name": "LayoutModel",
          "model_module_version": "1.2.0",
          "state": {
            "_model_module": "@jupyter-widgets/base",
            "_model_module_version": "1.2.0",
            "_model_name": "LayoutModel",
            "_view_count": null,
            "_view_module": "@jupyter-widgets/base",
            "_view_module_version": "1.2.0",
            "_view_name": "LayoutView",
            "align_content": null,
            "align_items": null,
            "align_self": null,
            "border": null,
            "bottom": null,
            "display": null,
            "flex": null,
            "flex_flow": null,
            "grid_area": null,
            "grid_auto_columns": null,
            "grid_auto_flow": null,
            "grid_auto_rows": null,
            "grid_column": null,
            "grid_gap": null,
            "grid_row": null,
            "grid_template_areas": null,
            "grid_template_columns": null,
            "grid_template_rows": null,
            "height": null,
            "justify_content": null,
            "justify_items": null,
            "left": null,
            "margin": null,
            "max_height": null,
            "max_width": null,
            "min_height": null,
            "min_width": null,
            "object_fit": null,
            "object_position": null,
            "order": null,
            "overflow": null,
            "overflow_x": null,
            "overflow_y": null,
            "padding": null,
            "right": null,
            "top": null,
            "visibility": null,
            "width": null
          }
        },
        "77bce8f7eda84c45afb391dc73ee2b38": {
          "model_module": "@jupyter-widgets/base",
          "model_name": "LayoutModel",
          "model_module_version": "1.2.0",
          "state": {
            "_model_module": "@jupyter-widgets/base",
            "_model_module_version": "1.2.0",
            "_model_name": "LayoutModel",
            "_view_count": null,
            "_view_module": "@jupyter-widgets/base",
            "_view_module_version": "1.2.0",
            "_view_name": "LayoutView",
            "align_content": null,
            "align_items": null,
            "align_self": null,
            "border": null,
            "bottom": null,
            "display": null,
            "flex": null,
            "flex_flow": null,
            "grid_area": null,
            "grid_auto_columns": null,
            "grid_auto_flow": null,
            "grid_auto_rows": null,
            "grid_column": null,
            "grid_gap": null,
            "grid_row": null,
            "grid_template_areas": null,
            "grid_template_columns": null,
            "grid_template_rows": null,
            "height": null,
            "justify_content": null,
            "justify_items": null,
            "left": null,
            "margin": null,
            "max_height": null,
            "max_width": null,
            "min_height": null,
            "min_width": null,
            "object_fit": null,
            "object_position": null,
            "order": null,
            "overflow": null,
            "overflow_x": null,
            "overflow_y": null,
            "padding": null,
            "right": null,
            "top": null,
            "visibility": null,
            "width": null
          }
        },
        "8531657db6a94dd2bc7398b7f0b0dc13": {
          "model_module": "@jupyter-widgets/controls",
          "model_name": "DescriptionStyleModel",
          "model_module_version": "1.5.0",
          "state": {
            "_model_module": "@jupyter-widgets/controls",
            "_model_module_version": "1.5.0",
            "_model_name": "DescriptionStyleModel",
            "_view_count": null,
            "_view_module": "@jupyter-widgets/base",
            "_view_module_version": "1.2.0",
            "_view_name": "StyleView",
            "description_width": ""
          }
        },
        "41365bec6f8d415d8d064475e3a7fa78": {
          "model_module": "@jupyter-widgets/base",
          "model_name": "LayoutModel",
          "model_module_version": "1.2.0",
          "state": {
            "_model_module": "@jupyter-widgets/base",
            "_model_module_version": "1.2.0",
            "_model_name": "LayoutModel",
            "_view_count": null,
            "_view_module": "@jupyter-widgets/base",
            "_view_module_version": "1.2.0",
            "_view_name": "LayoutView",
            "align_content": null,
            "align_items": null,
            "align_self": null,
            "border": null,
            "bottom": null,
            "display": null,
            "flex": null,
            "flex_flow": null,
            "grid_area": null,
            "grid_auto_columns": null,
            "grid_auto_flow": null,
            "grid_auto_rows": null,
            "grid_column": null,
            "grid_gap": null,
            "grid_row": null,
            "grid_template_areas": null,
            "grid_template_columns": null,
            "grid_template_rows": null,
            "height": null,
            "justify_content": null,
            "justify_items": null,
            "left": null,
            "margin": null,
            "max_height": null,
            "max_width": null,
            "min_height": null,
            "min_width": null,
            "object_fit": null,
            "object_position": null,
            "order": null,
            "overflow": null,
            "overflow_x": null,
            "overflow_y": null,
            "padding": null,
            "right": null,
            "top": null,
            "visibility": null,
            "width": null
          }
        },
        "cf097624581542b7885ad89e0694a176": {
          "model_module": "@jupyter-widgets/controls",
          "model_name": "ProgressStyleModel",
          "model_module_version": "1.5.0",
          "state": {
            "_model_module": "@jupyter-widgets/controls",
            "_model_module_version": "1.5.0",
            "_model_name": "ProgressStyleModel",
            "_view_count": null,
            "_view_module": "@jupyter-widgets/base",
            "_view_module_version": "1.2.0",
            "_view_name": "StyleView",
            "bar_color": null,
            "description_width": ""
          }
        },
        "b26d52e392ed4591bffeb50317760d82": {
          "model_module": "@jupyter-widgets/base",
          "model_name": "LayoutModel",
          "model_module_version": "1.2.0",
          "state": {
            "_model_module": "@jupyter-widgets/base",
            "_model_module_version": "1.2.0",
            "_model_name": "LayoutModel",
            "_view_count": null,
            "_view_module": "@jupyter-widgets/base",
            "_view_module_version": "1.2.0",
            "_view_name": "LayoutView",
            "align_content": null,
            "align_items": null,
            "align_self": null,
            "border": null,
            "bottom": null,
            "display": null,
            "flex": null,
            "flex_flow": null,
            "grid_area": null,
            "grid_auto_columns": null,
            "grid_auto_flow": null,
            "grid_auto_rows": null,
            "grid_column": null,
            "grid_gap": null,
            "grid_row": null,
            "grid_template_areas": null,
            "grid_template_columns": null,
            "grid_template_rows": null,
            "height": null,
            "justify_content": null,
            "justify_items": null,
            "left": null,
            "margin": null,
            "max_height": null,
            "max_width": null,
            "min_height": null,
            "min_width": null,
            "object_fit": null,
            "object_position": null,
            "order": null,
            "overflow": null,
            "overflow_x": null,
            "overflow_y": null,
            "padding": null,
            "right": null,
            "top": null,
            "visibility": null,
            "width": null
          }
        },
        "b452a4b6da9a44a189cc7fb7038d91ec": {
          "model_module": "@jupyter-widgets/controls",
          "model_name": "DescriptionStyleModel",
          "model_module_version": "1.5.0",
          "state": {
            "_model_module": "@jupyter-widgets/controls",
            "_model_module_version": "1.5.0",
            "_model_name": "DescriptionStyleModel",
            "_view_count": null,
            "_view_module": "@jupyter-widgets/base",
            "_view_module_version": "1.2.0",
            "_view_name": "StyleView",
            "description_width": ""
          }
        },
        "591599310dc145d59f11e8b3d6ae77f7": {
          "model_module": "@jupyter-widgets/controls",
          "model_name": "HBoxModel",
          "model_module_version": "1.5.0",
          "state": {
            "_dom_classes": [],
            "_model_module": "@jupyter-widgets/controls",
            "_model_module_version": "1.5.0",
            "_model_name": "HBoxModel",
            "_view_count": null,
            "_view_module": "@jupyter-widgets/controls",
            "_view_module_version": "1.5.0",
            "_view_name": "HBoxView",
            "box_style": "",
            "children": [
              "IPY_MODEL_573f197ff5cd49ddb9e775e2f9abdb02",
              "IPY_MODEL_56206579a2ab4d3aa945fc53f34ac1ba",
              "IPY_MODEL_8675ade40056494c94a9914409eab727"
            ],
            "layout": "IPY_MODEL_ef0594e7735c4bf3be32880268767bd6"
          }
        },
        "573f197ff5cd49ddb9e775e2f9abdb02": {
          "model_module": "@jupyter-widgets/controls",
          "model_name": "HTMLModel",
          "model_module_version": "1.5.0",
          "state": {
            "_dom_classes": [],
            "_model_module": "@jupyter-widgets/controls",
            "_model_module_version": "1.5.0",
            "_model_name": "HTMLModel",
            "_view_count": null,
            "_view_module": "@jupyter-widgets/controls",
            "_view_module_version": "1.5.0",
            "_view_name": "HTMLView",
            "description": "",
            "description_tooltip": null,
            "layout": "IPY_MODEL_79b73d6c651343be97155b260980779e",
            "placeholder": "​",
            "style": "IPY_MODEL_b155f1b146cf4b4d97ac698978ae8b67",
            "value": "100%"
          }
        },
        "56206579a2ab4d3aa945fc53f34ac1ba": {
          "model_module": "@jupyter-widgets/controls",
          "model_name": "FloatProgressModel",
          "model_module_version": "1.5.0",
          "state": {
            "_dom_classes": [],
            "_model_module": "@jupyter-widgets/controls",
            "_model_module_version": "1.5.0",
            "_model_name": "FloatProgressModel",
            "_view_count": null,
            "_view_module": "@jupyter-widgets/controls",
            "_view_module_version": "1.5.0",
            "_view_name": "ProgressView",
            "bar_style": "success",
            "description": "",
            "description_tooltip": null,
            "layout": "IPY_MODEL_2488f9fe35a44c69b6193254a0e71f32",
            "max": 29515,
            "min": 0,
            "orientation": "horizontal",
            "style": "IPY_MODEL_165b4e6e298f442e9871a76a759dbe01",
            "value": 29515
          }
        },
        "8675ade40056494c94a9914409eab727": {
          "model_module": "@jupyter-widgets/controls",
          "model_name": "HTMLModel",
          "model_module_version": "1.5.0",
          "state": {
            "_dom_classes": [],
            "_model_module": "@jupyter-widgets/controls",
            "_model_module_version": "1.5.0",
            "_model_name": "HTMLModel",
            "_view_count": null,
            "_view_module": "@jupyter-widgets/controls",
            "_view_module_version": "1.5.0",
            "_view_name": "HTMLView",
            "description": "",
            "description_tooltip": null,
            "layout": "IPY_MODEL_97e2dadc2ec04f5eb95715ec23e0aa90",
            "placeholder": "​",
            "style": "IPY_MODEL_a965d9088fe44d14875e35407f252bd5",
            "value": " 29515/29515 [00:00&lt;00:00, 145903.84it/s]"
          }
        },
        "ef0594e7735c4bf3be32880268767bd6": {
          "model_module": "@jupyter-widgets/base",
          "model_name": "LayoutModel",
          "model_module_version": "1.2.0",
          "state": {
            "_model_module": "@jupyter-widgets/base",
            "_model_module_version": "1.2.0",
            "_model_name": "LayoutModel",
            "_view_count": null,
            "_view_module": "@jupyter-widgets/base",
            "_view_module_version": "1.2.0",
            "_view_name": "LayoutView",
            "align_content": null,
            "align_items": null,
            "align_self": null,
            "border": null,
            "bottom": null,
            "display": null,
            "flex": null,
            "flex_flow": null,
            "grid_area": null,
            "grid_auto_columns": null,
            "grid_auto_flow": null,
            "grid_auto_rows": null,
            "grid_column": null,
            "grid_gap": null,
            "grid_row": null,
            "grid_template_areas": null,
            "grid_template_columns": null,
            "grid_template_rows": null,
            "height": null,
            "justify_content": null,
            "justify_items": null,
            "left": null,
            "margin": null,
            "max_height": null,
            "max_width": null,
            "min_height": null,
            "min_width": null,
            "object_fit": null,
            "object_position": null,
            "order": null,
            "overflow": null,
            "overflow_x": null,
            "overflow_y": null,
            "padding": null,
            "right": null,
            "top": null,
            "visibility": null,
            "width": null
          }
        },
        "79b73d6c651343be97155b260980779e": {
          "model_module": "@jupyter-widgets/base",
          "model_name": "LayoutModel",
          "model_module_version": "1.2.0",
          "state": {
            "_model_module": "@jupyter-widgets/base",
            "_model_module_version": "1.2.0",
            "_model_name": "LayoutModel",
            "_view_count": null,
            "_view_module": "@jupyter-widgets/base",
            "_view_module_version": "1.2.0",
            "_view_name": "LayoutView",
            "align_content": null,
            "align_items": null,
            "align_self": null,
            "border": null,
            "bottom": null,
            "display": null,
            "flex": null,
            "flex_flow": null,
            "grid_area": null,
            "grid_auto_columns": null,
            "grid_auto_flow": null,
            "grid_auto_rows": null,
            "grid_column": null,
            "grid_gap": null,
            "grid_row": null,
            "grid_template_areas": null,
            "grid_template_columns": null,
            "grid_template_rows": null,
            "height": null,
            "justify_content": null,
            "justify_items": null,
            "left": null,
            "margin": null,
            "max_height": null,
            "max_width": null,
            "min_height": null,
            "min_width": null,
            "object_fit": null,
            "object_position": null,
            "order": null,
            "overflow": null,
            "overflow_x": null,
            "overflow_y": null,
            "padding": null,
            "right": null,
            "top": null,
            "visibility": null,
            "width": null
          }
        },
        "b155f1b146cf4b4d97ac698978ae8b67": {
          "model_module": "@jupyter-widgets/controls",
          "model_name": "DescriptionStyleModel",
          "model_module_version": "1.5.0",
          "state": {
            "_model_module": "@jupyter-widgets/controls",
            "_model_module_version": "1.5.0",
            "_model_name": "DescriptionStyleModel",
            "_view_count": null,
            "_view_module": "@jupyter-widgets/base",
            "_view_module_version": "1.2.0",
            "_view_name": "StyleView",
            "description_width": ""
          }
        },
        "2488f9fe35a44c69b6193254a0e71f32": {
          "model_module": "@jupyter-widgets/base",
          "model_name": "LayoutModel",
          "model_module_version": "1.2.0",
          "state": {
            "_model_module": "@jupyter-widgets/base",
            "_model_module_version": "1.2.0",
            "_model_name": "LayoutModel",
            "_view_count": null,
            "_view_module": "@jupyter-widgets/base",
            "_view_module_version": "1.2.0",
            "_view_name": "LayoutView",
            "align_content": null,
            "align_items": null,
            "align_self": null,
            "border": null,
            "bottom": null,
            "display": null,
            "flex": null,
            "flex_flow": null,
            "grid_area": null,
            "grid_auto_columns": null,
            "grid_auto_flow": null,
            "grid_auto_rows": null,
            "grid_column": null,
            "grid_gap": null,
            "grid_row": null,
            "grid_template_areas": null,
            "grid_template_columns": null,
            "grid_template_rows": null,
            "height": null,
            "justify_content": null,
            "justify_items": null,
            "left": null,
            "margin": null,
            "max_height": null,
            "max_width": null,
            "min_height": null,
            "min_width": null,
            "object_fit": null,
            "object_position": null,
            "order": null,
            "overflow": null,
            "overflow_x": null,
            "overflow_y": null,
            "padding": null,
            "right": null,
            "top": null,
            "visibility": null,
            "width": null
          }
        },
        "165b4e6e298f442e9871a76a759dbe01": {
          "model_module": "@jupyter-widgets/controls",
          "model_name": "ProgressStyleModel",
          "model_module_version": "1.5.0",
          "state": {
            "_model_module": "@jupyter-widgets/controls",
            "_model_module_version": "1.5.0",
            "_model_name": "ProgressStyleModel",
            "_view_count": null,
            "_view_module": "@jupyter-widgets/base",
            "_view_module_version": "1.2.0",
            "_view_name": "StyleView",
            "bar_color": null,
            "description_width": ""
          }
        },
        "97e2dadc2ec04f5eb95715ec23e0aa90": {
          "model_module": "@jupyter-widgets/base",
          "model_name": "LayoutModel",
          "model_module_version": "1.2.0",
          "state": {
            "_model_module": "@jupyter-widgets/base",
            "_model_module_version": "1.2.0",
            "_model_name": "LayoutModel",
            "_view_count": null,
            "_view_module": "@jupyter-widgets/base",
            "_view_module_version": "1.2.0",
            "_view_name": "LayoutView",
            "align_content": null,
            "align_items": null,
            "align_self": null,
            "border": null,
            "bottom": null,
            "display": null,
            "flex": null,
            "flex_flow": null,
            "grid_area": null,
            "grid_auto_columns": null,
            "grid_auto_flow": null,
            "grid_auto_rows": null,
            "grid_column": null,
            "grid_gap": null,
            "grid_row": null,
            "grid_template_areas": null,
            "grid_template_columns": null,
            "grid_template_rows": null,
            "height": null,
            "justify_content": null,
            "justify_items": null,
            "left": null,
            "margin": null,
            "max_height": null,
            "max_width": null,
            "min_height": null,
            "min_width": null,
            "object_fit": null,
            "object_position": null,
            "order": null,
            "overflow": null,
            "overflow_x": null,
            "overflow_y": null,
            "padding": null,
            "right": null,
            "top": null,
            "visibility": null,
            "width": null
          }
        },
        "a965d9088fe44d14875e35407f252bd5": {
          "model_module": "@jupyter-widgets/controls",
          "model_name": "DescriptionStyleModel",
          "model_module_version": "1.5.0",
          "state": {
            "_model_module": "@jupyter-widgets/controls",
            "_model_module_version": "1.5.0",
            "_model_name": "DescriptionStyleModel",
            "_view_count": null,
            "_view_module": "@jupyter-widgets/base",
            "_view_module_version": "1.2.0",
            "_view_name": "StyleView",
            "description_width": ""
          }
        },
        "0a488f0907e4423f904f09475536781d": {
          "model_module": "@jupyter-widgets/controls",
          "model_name": "HBoxModel",
          "model_module_version": "1.5.0",
          "state": {
            "_dom_classes": [],
            "_model_module": "@jupyter-widgets/controls",
            "_model_module_version": "1.5.0",
            "_model_name": "HBoxModel",
            "_view_count": null,
            "_view_module": "@jupyter-widgets/controls",
            "_view_module_version": "1.5.0",
            "_view_name": "HBoxView",
            "box_style": "",
            "children": [
              "IPY_MODEL_0afd623559fd4ed884b283cce94bee90",
              "IPY_MODEL_a52879fa37454302858b6e5b04171434",
              "IPY_MODEL_8c1c1a2812f94e0da0983f9396ce9e91"
            ],
            "layout": "IPY_MODEL_3ba81f4a053749abaf3c892574a9d04a"
          }
        },
        "0afd623559fd4ed884b283cce94bee90": {
          "model_module": "@jupyter-widgets/controls",
          "model_name": "HTMLModel",
          "model_module_version": "1.5.0",
          "state": {
            "_dom_classes": [],
            "_model_module": "@jupyter-widgets/controls",
            "_model_module_version": "1.5.0",
            "_model_name": "HTMLModel",
            "_view_count": null,
            "_view_module": "@jupyter-widgets/controls",
            "_view_module_version": "1.5.0",
            "_view_name": "HTMLView",
            "description": "",
            "description_tooltip": null,
            "layout": "IPY_MODEL_1812c35b7aec4bdf9919b478ec6b418f",
            "placeholder": "​",
            "style": "IPY_MODEL_e33e488edd3c4904891d1d928ec11b65",
            "value": "100%"
          }
        },
        "a52879fa37454302858b6e5b04171434": {
          "model_module": "@jupyter-widgets/controls",
          "model_name": "FloatProgressModel",
          "model_module_version": "1.5.0",
          "state": {
            "_dom_classes": [],
            "_model_module": "@jupyter-widgets/controls",
            "_model_module_version": "1.5.0",
            "_model_name": "FloatProgressModel",
            "_view_count": null,
            "_view_module": "@jupyter-widgets/controls",
            "_view_module_version": "1.5.0",
            "_view_name": "ProgressView",
            "bar_style": "success",
            "description": "",
            "description_tooltip": null,
            "layout": "IPY_MODEL_3034d42f5fae4019b0227402cff0842b",
            "max": 4422102,
            "min": 0,
            "orientation": "horizontal",
            "style": "IPY_MODEL_7f03f016b6bb44ca9d1ed9f9a68c7234",
            "value": 4422102
          }
        },
        "8c1c1a2812f94e0da0983f9396ce9e91": {
          "model_module": "@jupyter-widgets/controls",
          "model_name": "HTMLModel",
          "model_module_version": "1.5.0",
          "state": {
            "_dom_classes": [],
            "_model_module": "@jupyter-widgets/controls",
            "_model_module_version": "1.5.0",
            "_model_name": "HTMLModel",
            "_view_count": null,
            "_view_module": "@jupyter-widgets/controls",
            "_view_module_version": "1.5.0",
            "_view_name": "HTMLView",
            "description": "",
            "description_tooltip": null,
            "layout": "IPY_MODEL_791866a87e82452889fa7730b712c8e9",
            "placeholder": "​",
            "style": "IPY_MODEL_365a8b06d15e40769d2dd135447bcbd0",
            "value": " 4422102/4422102 [00:04&lt;00:00, 1078959.97it/s]"
          }
        },
        "3ba81f4a053749abaf3c892574a9d04a": {
          "model_module": "@jupyter-widgets/base",
          "model_name": "LayoutModel",
          "model_module_version": "1.2.0",
          "state": {
            "_model_module": "@jupyter-widgets/base",
            "_model_module_version": "1.2.0",
            "_model_name": "LayoutModel",
            "_view_count": null,
            "_view_module": "@jupyter-widgets/base",
            "_view_module_version": "1.2.0",
            "_view_name": "LayoutView",
            "align_content": null,
            "align_items": null,
            "align_self": null,
            "border": null,
            "bottom": null,
            "display": null,
            "flex": null,
            "flex_flow": null,
            "grid_area": null,
            "grid_auto_columns": null,
            "grid_auto_flow": null,
            "grid_auto_rows": null,
            "grid_column": null,
            "grid_gap": null,
            "grid_row": null,
            "grid_template_areas": null,
            "grid_template_columns": null,
            "grid_template_rows": null,
            "height": null,
            "justify_content": null,
            "justify_items": null,
            "left": null,
            "margin": null,
            "max_height": null,
            "max_width": null,
            "min_height": null,
            "min_width": null,
            "object_fit": null,
            "object_position": null,
            "order": null,
            "overflow": null,
            "overflow_x": null,
            "overflow_y": null,
            "padding": null,
            "right": null,
            "top": null,
            "visibility": null,
            "width": null
          }
        },
        "1812c35b7aec4bdf9919b478ec6b418f": {
          "model_module": "@jupyter-widgets/base",
          "model_name": "LayoutModel",
          "model_module_version": "1.2.0",
          "state": {
            "_model_module": "@jupyter-widgets/base",
            "_model_module_version": "1.2.0",
            "_model_name": "LayoutModel",
            "_view_count": null,
            "_view_module": "@jupyter-widgets/base",
            "_view_module_version": "1.2.0",
            "_view_name": "LayoutView",
            "align_content": null,
            "align_items": null,
            "align_self": null,
            "border": null,
            "bottom": null,
            "display": null,
            "flex": null,
            "flex_flow": null,
            "grid_area": null,
            "grid_auto_columns": null,
            "grid_auto_flow": null,
            "grid_auto_rows": null,
            "grid_column": null,
            "grid_gap": null,
            "grid_row": null,
            "grid_template_areas": null,
            "grid_template_columns": null,
            "grid_template_rows": null,
            "height": null,
            "justify_content": null,
            "justify_items": null,
            "left": null,
            "margin": null,
            "max_height": null,
            "max_width": null,
            "min_height": null,
            "min_width": null,
            "object_fit": null,
            "object_position": null,
            "order": null,
            "overflow": null,
            "overflow_x": null,
            "overflow_y": null,
            "padding": null,
            "right": null,
            "top": null,
            "visibility": null,
            "width": null
          }
        },
        "e33e488edd3c4904891d1d928ec11b65": {
          "model_module": "@jupyter-widgets/controls",
          "model_name": "DescriptionStyleModel",
          "model_module_version": "1.5.0",
          "state": {
            "_model_module": "@jupyter-widgets/controls",
            "_model_module_version": "1.5.0",
            "_model_name": "DescriptionStyleModel",
            "_view_count": null,
            "_view_module": "@jupyter-widgets/base",
            "_view_module_version": "1.2.0",
            "_view_name": "StyleView",
            "description_width": ""
          }
        },
        "3034d42f5fae4019b0227402cff0842b": {
          "model_module": "@jupyter-widgets/base",
          "model_name": "LayoutModel",
          "model_module_version": "1.2.0",
          "state": {
            "_model_module": "@jupyter-widgets/base",
            "_model_module_version": "1.2.0",
            "_model_name": "LayoutModel",
            "_view_count": null,
            "_view_module": "@jupyter-widgets/base",
            "_view_module_version": "1.2.0",
            "_view_name": "LayoutView",
            "align_content": null,
            "align_items": null,
            "align_self": null,
            "border": null,
            "bottom": null,
            "display": null,
            "flex": null,
            "flex_flow": null,
            "grid_area": null,
            "grid_auto_columns": null,
            "grid_auto_flow": null,
            "grid_auto_rows": null,
            "grid_column": null,
            "grid_gap": null,
            "grid_row": null,
            "grid_template_areas": null,
            "grid_template_columns": null,
            "grid_template_rows": null,
            "height": null,
            "justify_content": null,
            "justify_items": null,
            "left": null,
            "margin": null,
            "max_height": null,
            "max_width": null,
            "min_height": null,
            "min_width": null,
            "object_fit": null,
            "object_position": null,
            "order": null,
            "overflow": null,
            "overflow_x": null,
            "overflow_y": null,
            "padding": null,
            "right": null,
            "top": null,
            "visibility": null,
            "width": null
          }
        },
        "7f03f016b6bb44ca9d1ed9f9a68c7234": {
          "model_module": "@jupyter-widgets/controls",
          "model_name": "ProgressStyleModel",
          "model_module_version": "1.5.0",
          "state": {
            "_model_module": "@jupyter-widgets/controls",
            "_model_module_version": "1.5.0",
            "_model_name": "ProgressStyleModel",
            "_view_count": null,
            "_view_module": "@jupyter-widgets/base",
            "_view_module_version": "1.2.0",
            "_view_name": "StyleView",
            "bar_color": null,
            "description_width": ""
          }
        },
        "791866a87e82452889fa7730b712c8e9": {
          "model_module": "@jupyter-widgets/base",
          "model_name": "LayoutModel",
          "model_module_version": "1.2.0",
          "state": {
            "_model_module": "@jupyter-widgets/base",
            "_model_module_version": "1.2.0",
            "_model_name": "LayoutModel",
            "_view_count": null,
            "_view_module": "@jupyter-widgets/base",
            "_view_module_version": "1.2.0",
            "_view_name": "LayoutView",
            "align_content": null,
            "align_items": null,
            "align_self": null,
            "border": null,
            "bottom": null,
            "display": null,
            "flex": null,
            "flex_flow": null,
            "grid_area": null,
            "grid_auto_columns": null,
            "grid_auto_flow": null,
            "grid_auto_rows": null,
            "grid_column": null,
            "grid_gap": null,
            "grid_row": null,
            "grid_template_areas": null,
            "grid_template_columns": null,
            "grid_template_rows": null,
            "height": null,
            "justify_content": null,
            "justify_items": null,
            "left": null,
            "margin": null,
            "max_height": null,
            "max_width": null,
            "min_height": null,
            "min_width": null,
            "object_fit": null,
            "object_position": null,
            "order": null,
            "overflow": null,
            "overflow_x": null,
            "overflow_y": null,
            "padding": null,
            "right": null,
            "top": null,
            "visibility": null,
            "width": null
          }
        },
        "365a8b06d15e40769d2dd135447bcbd0": {
          "model_module": "@jupyter-widgets/controls",
          "model_name": "DescriptionStyleModel",
          "model_module_version": "1.5.0",
          "state": {
            "_model_module": "@jupyter-widgets/controls",
            "_model_module_version": "1.5.0",
            "_model_name": "DescriptionStyleModel",
            "_view_count": null,
            "_view_module": "@jupyter-widgets/base",
            "_view_module_version": "1.2.0",
            "_view_name": "StyleView",
            "description_width": ""
          }
        },
        "f7a2a5027eeb488789258debe3614bb7": {
          "model_module": "@jupyter-widgets/controls",
          "model_name": "HBoxModel",
          "model_module_version": "1.5.0",
          "state": {
            "_dom_classes": [],
            "_model_module": "@jupyter-widgets/controls",
            "_model_module_version": "1.5.0",
            "_model_name": "HBoxModel",
            "_view_count": null,
            "_view_module": "@jupyter-widgets/controls",
            "_view_module_version": "1.5.0",
            "_view_name": "HBoxView",
            "box_style": "",
            "children": [
              "IPY_MODEL_ec3aa5eae86c4a9385535b804012fe7e",
              "IPY_MODEL_8078975a19364bb88329d60a26cc3884",
              "IPY_MODEL_e914c0934dfe45f69439390574624d73"
            ],
            "layout": "IPY_MODEL_7d163c6cc4014c228694e83ae0f28c69"
          }
        },
        "ec3aa5eae86c4a9385535b804012fe7e": {
          "model_module": "@jupyter-widgets/controls",
          "model_name": "HTMLModel",
          "model_module_version": "1.5.0",
          "state": {
            "_dom_classes": [],
            "_model_module": "@jupyter-widgets/controls",
            "_model_module_version": "1.5.0",
            "_model_name": "HTMLModel",
            "_view_count": null,
            "_view_module": "@jupyter-widgets/controls",
            "_view_module_version": "1.5.0",
            "_view_name": "HTMLView",
            "description": "",
            "description_tooltip": null,
            "layout": "IPY_MODEL_70655db6fb5a4f2fafa87e281a610414",
            "placeholder": "​",
            "style": "IPY_MODEL_4f3a70a946f64e2288dca725ec32081c",
            "value": "100%"
          }
        },
        "8078975a19364bb88329d60a26cc3884": {
          "model_module": "@jupyter-widgets/controls",
          "model_name": "FloatProgressModel",
          "model_module_version": "1.5.0",
          "state": {
            "_dom_classes": [],
            "_model_module": "@jupyter-widgets/controls",
            "_model_module_version": "1.5.0",
            "_model_name": "FloatProgressModel",
            "_view_count": null,
            "_view_module": "@jupyter-widgets/controls",
            "_view_module_version": "1.5.0",
            "_view_name": "ProgressView",
            "bar_style": "success",
            "description": "",
            "description_tooltip": null,
            "layout": "IPY_MODEL_130f05020aad45deb7976c8e03bdf879",
            "max": 5148,
            "min": 0,
            "orientation": "horizontal",
            "style": "IPY_MODEL_e476c25b164e40f98d1073482f6ffbbe",
            "value": 5148
          }
        },
        "e914c0934dfe45f69439390574624d73": {
          "model_module": "@jupyter-widgets/controls",
          "model_name": "HTMLModel",
          "model_module_version": "1.5.0",
          "state": {
            "_dom_classes": [],
            "_model_module": "@jupyter-widgets/controls",
            "_model_module_version": "1.5.0",
            "_model_name": "HTMLModel",
            "_view_count": null,
            "_view_module": "@jupyter-widgets/controls",
            "_view_module_version": "1.5.0",
            "_view_name": "HTMLView",
            "description": "",
            "description_tooltip": null,
            "layout": "IPY_MODEL_1c41d79a034c45d98cae34796883e9bf",
            "placeholder": "​",
            "style": "IPY_MODEL_5be2bdd9514640f080351c30cf0b5bfd",
            "value": " 5148/5148 [00:00&lt;00:00, 171930.83it/s]"
          }
        },
        "7d163c6cc4014c228694e83ae0f28c69": {
          "model_module": "@jupyter-widgets/base",
          "model_name": "LayoutModel",
          "model_module_version": "1.2.0",
          "state": {
            "_model_module": "@jupyter-widgets/base",
            "_model_module_version": "1.2.0",
            "_model_name": "LayoutModel",
            "_view_count": null,
            "_view_module": "@jupyter-widgets/base",
            "_view_module_version": "1.2.0",
            "_view_name": "LayoutView",
            "align_content": null,
            "align_items": null,
            "align_self": null,
            "border": null,
            "bottom": null,
            "display": null,
            "flex": null,
            "flex_flow": null,
            "grid_area": null,
            "grid_auto_columns": null,
            "grid_auto_flow": null,
            "grid_auto_rows": null,
            "grid_column": null,
            "grid_gap": null,
            "grid_row": null,
            "grid_template_areas": null,
            "grid_template_columns": null,
            "grid_template_rows": null,
            "height": null,
            "justify_content": null,
            "justify_items": null,
            "left": null,
            "margin": null,
            "max_height": null,
            "max_width": null,
            "min_height": null,
            "min_width": null,
            "object_fit": null,
            "object_position": null,
            "order": null,
            "overflow": null,
            "overflow_x": null,
            "overflow_y": null,
            "padding": null,
            "right": null,
            "top": null,
            "visibility": null,
            "width": null
          }
        },
        "70655db6fb5a4f2fafa87e281a610414": {
          "model_module": "@jupyter-widgets/base",
          "model_name": "LayoutModel",
          "model_module_version": "1.2.0",
          "state": {
            "_model_module": "@jupyter-widgets/base",
            "_model_module_version": "1.2.0",
            "_model_name": "LayoutModel",
            "_view_count": null,
            "_view_module": "@jupyter-widgets/base",
            "_view_module_version": "1.2.0",
            "_view_name": "LayoutView",
            "align_content": null,
            "align_items": null,
            "align_self": null,
            "border": null,
            "bottom": null,
            "display": null,
            "flex": null,
            "flex_flow": null,
            "grid_area": null,
            "grid_auto_columns": null,
            "grid_auto_flow": null,
            "grid_auto_rows": null,
            "grid_column": null,
            "grid_gap": null,
            "grid_row": null,
            "grid_template_areas": null,
            "grid_template_columns": null,
            "grid_template_rows": null,
            "height": null,
            "justify_content": null,
            "justify_items": null,
            "left": null,
            "margin": null,
            "max_height": null,
            "max_width": null,
            "min_height": null,
            "min_width": null,
            "object_fit": null,
            "object_position": null,
            "order": null,
            "overflow": null,
            "overflow_x": null,
            "overflow_y": null,
            "padding": null,
            "right": null,
            "top": null,
            "visibility": null,
            "width": null
          }
        },
        "4f3a70a946f64e2288dca725ec32081c": {
          "model_module": "@jupyter-widgets/controls",
          "model_name": "DescriptionStyleModel",
          "model_module_version": "1.5.0",
          "state": {
            "_model_module": "@jupyter-widgets/controls",
            "_model_module_version": "1.5.0",
            "_model_name": "DescriptionStyleModel",
            "_view_count": null,
            "_view_module": "@jupyter-widgets/base",
            "_view_module_version": "1.2.0",
            "_view_name": "StyleView",
            "description_width": ""
          }
        },
        "130f05020aad45deb7976c8e03bdf879": {
          "model_module": "@jupyter-widgets/base",
          "model_name": "LayoutModel",
          "model_module_version": "1.2.0",
          "state": {
            "_model_module": "@jupyter-widgets/base",
            "_model_module_version": "1.2.0",
            "_model_name": "LayoutModel",
            "_view_count": null,
            "_view_module": "@jupyter-widgets/base",
            "_view_module_version": "1.2.0",
            "_view_name": "LayoutView",
            "align_content": null,
            "align_items": null,
            "align_self": null,
            "border": null,
            "bottom": null,
            "display": null,
            "flex": null,
            "flex_flow": null,
            "grid_area": null,
            "grid_auto_columns": null,
            "grid_auto_flow": null,
            "grid_auto_rows": null,
            "grid_column": null,
            "grid_gap": null,
            "grid_row": null,
            "grid_template_areas": null,
            "grid_template_columns": null,
            "grid_template_rows": null,
            "height": null,
            "justify_content": null,
            "justify_items": null,
            "left": null,
            "margin": null,
            "max_height": null,
            "max_width": null,
            "min_height": null,
            "min_width": null,
            "object_fit": null,
            "object_position": null,
            "order": null,
            "overflow": null,
            "overflow_x": null,
            "overflow_y": null,
            "padding": null,
            "right": null,
            "top": null,
            "visibility": null,
            "width": null
          }
        },
        "e476c25b164e40f98d1073482f6ffbbe": {
          "model_module": "@jupyter-widgets/controls",
          "model_name": "ProgressStyleModel",
          "model_module_version": "1.5.0",
          "state": {
            "_model_module": "@jupyter-widgets/controls",
            "_model_module_version": "1.5.0",
            "_model_name": "ProgressStyleModel",
            "_view_count": null,
            "_view_module": "@jupyter-widgets/base",
            "_view_module_version": "1.2.0",
            "_view_name": "StyleView",
            "bar_color": null,
            "description_width": ""
          }
        },
        "1c41d79a034c45d98cae34796883e9bf": {
          "model_module": "@jupyter-widgets/base",
          "model_name": "LayoutModel",
          "model_module_version": "1.2.0",
          "state": {
            "_model_module": "@jupyter-widgets/base",
            "_model_module_version": "1.2.0",
            "_model_name": "LayoutModel",
            "_view_count": null,
            "_view_module": "@jupyter-widgets/base",
            "_view_module_version": "1.2.0",
            "_view_name": "LayoutView",
            "align_content": null,
            "align_items": null,
            "align_self": null,
            "border": null,
            "bottom": null,
            "display": null,
            "flex": null,
            "flex_flow": null,
            "grid_area": null,
            "grid_auto_columns": null,
            "grid_auto_flow": null,
            "grid_auto_rows": null,
            "grid_column": null,
            "grid_gap": null,
            "grid_row": null,
            "grid_template_areas": null,
            "grid_template_columns": null,
            "grid_template_rows": null,
            "height": null,
            "justify_content": null,
            "justify_items": null,
            "left": null,
            "margin": null,
            "max_height": null,
            "max_width": null,
            "min_height": null,
            "min_width": null,
            "object_fit": null,
            "object_position": null,
            "order": null,
            "overflow": null,
            "overflow_x": null,
            "overflow_y": null,
            "padding": null,
            "right": null,
            "top": null,
            "visibility": null,
            "width": null
          }
        },
        "5be2bdd9514640f080351c30cf0b5bfd": {
          "model_module": "@jupyter-widgets/controls",
          "model_name": "DescriptionStyleModel",
          "model_module_version": "1.5.0",
          "state": {
            "_model_module": "@jupyter-widgets/controls",
            "_model_module_version": "1.5.0",
            "_model_name": "DescriptionStyleModel",
            "_view_count": null,
            "_view_module": "@jupyter-widgets/base",
            "_view_module_version": "1.2.0",
            "_view_name": "StyleView",
            "description_width": ""
          }
        }
      }
    }
  },
  "cells": [
    {
      "cell_type": "markdown",
      "source": [
        "# Deep Learning"
      ],
      "metadata": {
        "id": "uqFfPGUFPcW2"
      }
    },
    {
      "cell_type": "markdown",
      "source": [
        "## HW2- Problem 1 - neural net from (almost) scratch"
      ],
      "metadata": {
        "id": "5yZluCGLPd4i"
      }
    },
    {
      "cell_type": "markdown",
      "source": [
        "1.   Full Name: Mohammad Kalbasi\n",
        "2.   Student Number: 401211028"
      ],
      "metadata": {
        "id": "JPg0f37GPpER"
      }
    },
    {
      "cell_type": "code",
      "source": [
        "import numpy as np\n",
        "import pandas as pd\n",
        "from matplotlib import pyplot as plt\n",
        "import torch\n",
        "from torch.utils.data import Dataset\n",
        "from torchvision import datasets\n",
        "from torchvision.transforms import ToTensor,Lambda\n"
      ],
      "metadata": {
        "id": "gMoksccoP5F4"
      },
      "execution_count": null,
      "outputs": []
    },
    {
      "cell_type": "code",
      "source": [
        "device = \"cuda\" if torch.cuda.is_available() else \"cpu\"\n",
        "print(device)"
      ],
      "metadata": {
        "colab": {
          "base_uri": "https://localhost:8080/"
        },
        "id": "0FfS84sU2wcX",
        "outputId": "434b6225-2f3f-46c3-a4d6-2404e89aefe0"
      },
      "execution_count": null,
      "outputs": [
        {
          "output_type": "stream",
          "name": "stdout",
          "text": [
            "cuda\n"
          ]
        }
      ]
    },
    {
      "cell_type": "markdown",
      "source": [
        "Part A)Adding dataset and showing some samples"
      ],
      "metadata": {
        "id": "pShBnHQ-PvpD"
      }
    },
    {
      "cell_type": "code",
      "source": [
        "train_data = datasets.FashionMNIST(\n",
        "    root=\"data\",\n",
        "    train=True,\n",
        "    download=True,\n",
        "    transform=ToTensor(),\n",
        "    target_transform = Lambda(lambda y: torch.zeros(10, dtype=torch.float).scatter_(dim=0, index=torch.tensor(y),\n",
        "                                                                                    value=1))\n",
        ")\n",
        "\n",
        "test_data = datasets.FashionMNIST(\n",
        "    root=\"data\",\n",
        "    train=False,\n",
        "    download=True,\n",
        "    transform=ToTensor(),\n",
        "    target_transform = Lambda(lambda y: torch.zeros(10, dtype=torch.float).scatter_(dim=0, index=torch.tensor(y),\n",
        "                                                                                    value=1))\n",
        ")"
      ],
      "metadata": {
        "id": "UW4aKDLoPtf1",
        "colab": {
          "base_uri": "https://localhost:8080/",
          "height": 437,
          "referenced_widgets": [
            "98b3184dd6854d9088cf09a6382727c3",
            "a96564b7c3d146d7a7cfb277426d3f4a",
            "93d1fc0826b248eba6aa1c086917a8ee",
            "36f6ccc54d3a4bb6ae020fd1808efcb3",
            "1688306b9cb14a09801c8b573bb303a9",
            "77bce8f7eda84c45afb391dc73ee2b38",
            "8531657db6a94dd2bc7398b7f0b0dc13",
            "41365bec6f8d415d8d064475e3a7fa78",
            "cf097624581542b7885ad89e0694a176",
            "b26d52e392ed4591bffeb50317760d82",
            "b452a4b6da9a44a189cc7fb7038d91ec",
            "591599310dc145d59f11e8b3d6ae77f7",
            "573f197ff5cd49ddb9e775e2f9abdb02",
            "56206579a2ab4d3aa945fc53f34ac1ba",
            "8675ade40056494c94a9914409eab727",
            "ef0594e7735c4bf3be32880268767bd6",
            "79b73d6c651343be97155b260980779e",
            "b155f1b146cf4b4d97ac698978ae8b67",
            "2488f9fe35a44c69b6193254a0e71f32",
            "165b4e6e298f442e9871a76a759dbe01",
            "97e2dadc2ec04f5eb95715ec23e0aa90",
            "a965d9088fe44d14875e35407f252bd5",
            "0a488f0907e4423f904f09475536781d",
            "0afd623559fd4ed884b283cce94bee90",
            "a52879fa37454302858b6e5b04171434",
            "8c1c1a2812f94e0da0983f9396ce9e91",
            "3ba81f4a053749abaf3c892574a9d04a",
            "1812c35b7aec4bdf9919b478ec6b418f",
            "e33e488edd3c4904891d1d928ec11b65",
            "3034d42f5fae4019b0227402cff0842b",
            "7f03f016b6bb44ca9d1ed9f9a68c7234",
            "791866a87e82452889fa7730b712c8e9",
            "365a8b06d15e40769d2dd135447bcbd0",
            "f7a2a5027eeb488789258debe3614bb7",
            "ec3aa5eae86c4a9385535b804012fe7e",
            "8078975a19364bb88329d60a26cc3884",
            "e914c0934dfe45f69439390574624d73",
            "7d163c6cc4014c228694e83ae0f28c69",
            "70655db6fb5a4f2fafa87e281a610414",
            "4f3a70a946f64e2288dca725ec32081c",
            "130f05020aad45deb7976c8e03bdf879",
            "e476c25b164e40f98d1073482f6ffbbe",
            "1c41d79a034c45d98cae34796883e9bf",
            "5be2bdd9514640f080351c30cf0b5bfd"
          ]
        },
        "outputId": "46ca624d-0447-4623-abd8-9eb2a0b45095"
      },
      "execution_count": null,
      "outputs": [
        {
          "output_type": "stream",
          "name": "stdout",
          "text": [
            "Downloading http://fashion-mnist.s3-website.eu-central-1.amazonaws.com/train-images-idx3-ubyte.gz\n",
            "Downloading http://fashion-mnist.s3-website.eu-central-1.amazonaws.com/train-images-idx3-ubyte.gz to data/FashionMNIST/raw/train-images-idx3-ubyte.gz\n"
          ]
        },
        {
          "output_type": "display_data",
          "data": {
            "text/plain": [
              "  0%|          | 0/26421880 [00:00<?, ?it/s]"
            ],
            "application/vnd.jupyter.widget-view+json": {
              "version_major": 2,
              "version_minor": 0,
              "model_id": "98b3184dd6854d9088cf09a6382727c3"
            }
          },
          "metadata": {}
        },
        {
          "output_type": "stream",
          "name": "stdout",
          "text": [
            "Extracting data/FashionMNIST/raw/train-images-idx3-ubyte.gz to data/FashionMNIST/raw\n",
            "\n",
            "Downloading http://fashion-mnist.s3-website.eu-central-1.amazonaws.com/train-labels-idx1-ubyte.gz\n",
            "Downloading http://fashion-mnist.s3-website.eu-central-1.amazonaws.com/train-labels-idx1-ubyte.gz to data/FashionMNIST/raw/train-labels-idx1-ubyte.gz\n"
          ]
        },
        {
          "output_type": "display_data",
          "data": {
            "text/plain": [
              "  0%|          | 0/29515 [00:00<?, ?it/s]"
            ],
            "application/vnd.jupyter.widget-view+json": {
              "version_major": 2,
              "version_minor": 0,
              "model_id": "591599310dc145d59f11e8b3d6ae77f7"
            }
          },
          "metadata": {}
        },
        {
          "output_type": "stream",
          "name": "stdout",
          "text": [
            "Extracting data/FashionMNIST/raw/train-labels-idx1-ubyte.gz to data/FashionMNIST/raw\n",
            "\n",
            "Downloading http://fashion-mnist.s3-website.eu-central-1.amazonaws.com/t10k-images-idx3-ubyte.gz\n",
            "Downloading http://fashion-mnist.s3-website.eu-central-1.amazonaws.com/t10k-images-idx3-ubyte.gz to data/FashionMNIST/raw/t10k-images-idx3-ubyte.gz\n"
          ]
        },
        {
          "output_type": "display_data",
          "data": {
            "text/plain": [
              "  0%|          | 0/4422102 [00:00<?, ?it/s]"
            ],
            "application/vnd.jupyter.widget-view+json": {
              "version_major": 2,
              "version_minor": 0,
              "model_id": "0a488f0907e4423f904f09475536781d"
            }
          },
          "metadata": {}
        },
        {
          "output_type": "stream",
          "name": "stdout",
          "text": [
            "Extracting data/FashionMNIST/raw/t10k-images-idx3-ubyte.gz to data/FashionMNIST/raw\n",
            "\n",
            "Downloading http://fashion-mnist.s3-website.eu-central-1.amazonaws.com/t10k-labels-idx1-ubyte.gz\n",
            "Downloading http://fashion-mnist.s3-website.eu-central-1.amazonaws.com/t10k-labels-idx1-ubyte.gz to data/FashionMNIST/raw/t10k-labels-idx1-ubyte.gz\n"
          ]
        },
        {
          "output_type": "display_data",
          "data": {
            "text/plain": [
              "  0%|          | 0/5148 [00:00<?, ?it/s]"
            ],
            "application/vnd.jupyter.widget-view+json": {
              "version_major": 2,
              "version_minor": 0,
              "model_id": "f7a2a5027eeb488789258debe3614bb7"
            }
          },
          "metadata": {}
        },
        {
          "output_type": "stream",
          "name": "stdout",
          "text": [
            "Extracting data/FashionMNIST/raw/t10k-labels-idx1-ubyte.gz to data/FashionMNIST/raw\n",
            "\n"
          ]
        }
      ]
    },
    {
      "cell_type": "code",
      "source": [
        "WW = torch.tensor([[1,2],[4,5]],dtype = torch.float32)\n",
        "WW.requires_grad_()\n",
        "WW.requires_grad"
      ],
      "metadata": {
        "colab": {
          "base_uri": "https://localhost:8080/"
        },
        "id": "f1029ReSZ1Vo",
        "outputId": "aed3d36f-6780-4470-8fb4-9ba2bba1f510"
      },
      "execution_count": null,
      "outputs": [
        {
          "output_type": "execute_result",
          "data": {
            "text/plain": [
              "True"
            ]
          },
          "metadata": {},
          "execution_count": 6
        }
      ]
    },
    {
      "cell_type": "code",
      "source": [
        "output_mapping = {\n",
        "                 0: \"T-shirt/Top\",\n",
        "                 1: \"Trouser\",\n",
        "                 2: \"Pullover\",\n",
        "                 3: \"Dress\",\n",
        "                 4: \"Coat\", \n",
        "                 5: \"Sandal\", \n",
        "                 6: \"Shirt\",\n",
        "                 7: \"Sneaker\",\n",
        "                 8: \"Bag\",\n",
        "                 9: \"Ankle Boot\"\n",
        "                 }"
      ],
      "metadata": {
        "id": "SLhx2jwUBxUC"
      },
      "execution_count": null,
      "outputs": []
    },
    {
      "cell_type": "code",
      "source": [
        "labels_selected = []\n",
        "fig = plt.figure(figsize = (15,15))\n",
        "for idx in range(9):\n",
        "  random_number = np.random.randint(0,len(train_data))\n",
        "  X_temp,y_temp = train_data[random_number]\n",
        "  y_temp = torch.argmax(y_temp).numpy()\n",
        "  while(y_temp in labels_selected):\n",
        "    random_number = np.random.randint(0,len(train_data))\n",
        "    X_temp,y_temp = train_data[random_number]\n",
        "    y_temp = torch.argmax(y_temp).numpy()\n",
        "  labels_selected.append(y_temp)\n",
        "  X_temp = X_temp.numpy()\n",
        "  ax = fig.add_subplot(3,3,idx + 1,xticks = [],yticks = [])\n",
        "  ax.imshow(np.squeeze(X_temp),cmap = 'gray')\n",
        "  ax.set_title(output_mapping[int(y_temp)])\n",
        "\n"
      ],
      "metadata": {
        "colab": {
          "base_uri": "https://localhost:8080/",
          "height": 866
        },
        "id": "pWD8FTw6B31a",
        "outputId": "efb8946f-6975-4af1-bbb8-57ccd950d053"
      },
      "execution_count": null,
      "outputs": [
        {
          "output_type": "display_data",
          "data": {
            "text/plain": [
              "<Figure size 1080x1080 with 9 Axes>"
            ],
            "image/png": "[encoded data removed]"
          },
          "metadata": {}
        }
      ]
    },
    {
      "cell_type": "code",
      "source": [
        "def splitter(data):\n",
        "  \"\"\"\n",
        "  function for splitting pytorch dataset to images and labels(we also resize images here)\n",
        "  input:\n",
        "    data: loaded data with pytorch library\n",
        "  output:\n",
        "    X: image data(reshaped to be a vector)\n",
        "    y:labels(targets)\n",
        "  \"\"\"\n",
        "  \n",
        "  image_sample,label_sample = data[0]\n",
        "  _,m,n = image_sample.size()\n",
        "  m = int(m)\n",
        "  n = int(n)\n",
        "  w,= label_sample.size()\n",
        "  w = int(w)\n",
        "  X = torch.zeros((int(m*n),int(len(data))),dtype=torch.float32,device = device )\n",
        "  y = torch.zeros((int(w),int(len(data))),dtype=torch.float32,device = device)\n",
        "  for i in range(len(data)):\n",
        "    im_temp,label_temp = data[i]\n",
        "    im_temp = im_temp.resize(m*n)\n",
        "    X[:,i] = im_temp\n",
        "    y[:,i] = label_temp\n",
        "  return X,y\n",
        "\n"
      ],
      "metadata": {
        "id": "qY94DVMTVOun"
      },
      "execution_count": null,
      "outputs": []
    },
    {
      "cell_type": "code",
      "source": [
        "# splitting data\n",
        "X_train,y_train = splitter(train_data)\n",
        "X_test,y_test = splitter(test_data)"
      ],
      "metadata": {
        "colab": {
          "base_uri": "https://localhost:8080/"
        },
        "id": "4BemecZuuSDw",
        "outputId": "fb0084b0-03e6-4e90-9711-2844daea67c4"
      },
      "execution_count": null,
      "outputs": [
        {
          "output_type": "stream",
          "name": "stderr",
          "text": [
            "/usr/local/lib/python3.7/dist-packages/torch/_tensor.py:586: UserWarning: non-inplace resize is deprecated\n",
            "  warnings.warn(\"non-inplace resize is deprecated\")\n"
          ]
        }
      ]
    },
    {
      "cell_type": "markdown",
      "source": [
        "part B) defining model parts"
      ],
      "metadata": {
        "id": "nQ6_4SBUJ_N8"
      }
    },
    {
      "cell_type": "code",
      "source": [
        "def relu_manual(X):\n",
        "  \"\"\"\n",
        "  manual implementation of relu function\n",
        "  input:\n",
        "    X:input,each coloumn is output for one sample\n",
        "  output:\n",
        "    z:output of function\n",
        "  \"\"\"\n",
        "  z = X - torch.minimum(X,torch.zeros_like(X))\n",
        "  \n",
        "  return z"
      ],
      "metadata": {
        "id": "69zwu66dA8og"
      },
      "execution_count": null,
      "outputs": []
    },
    {
      "cell_type": "code",
      "source": [
        "def softmax_manual(X):\n",
        "  \"\"\"\n",
        "  manual function for implementing softmax\n",
        "  input:\n",
        "    X:input, each coloumn is seperate data\n",
        "  output:\n",
        "    y\n",
        "  \"\"\"\n",
        "  \n",
        "  m,_ = X.size()\n",
        "  m = int(m)\n",
        "  x_max = (torch.max(X,axis = 0)).values\n",
        "  X = X - x_max #adding value doesn't have effect on softmax output but it helpd to stablaize our values!(because it is ways easier to comput exp(-145) compare to exp(145)! one is near zero and one is very big number that we can't store in memory)\n",
        "  exp_X = torch.exp(X)\n",
        "  exp_X_sum = torch.sum(exp_X,axis = 0)\n",
        "  exp_X_sum_rep = exp_X_sum.repeat(m,1)\n",
        "  y = exp_X/exp_X_sum_rep\n",
        "  return y\n"
      ],
      "metadata": {
        "id": "TLhYPj_82CDS"
      },
      "execution_count": null,
      "outputs": []
    },
    {
      "cell_type": "code",
      "source": [
        "def cross_entropy_manual(y,yp):\n",
        "  \"\"\"\n",
        "  manual function for calculating multi class cross entropy loss\n",
        "  input:\n",
        "    y: ground truth label (each coloumn for each sample)\n",
        "    yp = predicted label\n",
        "  output:\n",
        "    loss:calculated loss\n",
        "  \n",
        "  \"\"\"\n",
        "  epsilon =  1e-10 # adding to our test values to solve problem of calculating log of zero!\n",
        "  log_part = torch.log(yp+epsilon)\n",
        "  all_error = -1*y*log_part\n",
        "  loss = torch.sum(all_error,axis = 0).mean()\n",
        "  return loss\n"
      ],
      "metadata": {
        "id": "YzWTygt05hPx"
      },
      "execution_count": null,
      "outputs": []
    },
    {
      "cell_type": "code",
      "source": [
        "def model(X,W1,W2,W3,W4,b1,b2,b3,b4):\n",
        "  \"\"\"\n",
        "  our neural net model\n",
        "  first we check how many layers we have based on that we define model \n",
        "  output create predicted labels \n",
        "  we assume that all hidden layer activation function should be relu and output activation function should be softmax\n",
        "  input:\n",
        "    X:input data, each coloumn if for a sample\n",
        "  output:\n",
        "    yp:predicted output\n",
        "  \"\"\"\n",
        "  if (n_model == 3):\n",
        "    yp = softmax_manual(0.1*W2@relu_manual(0.1*W1@X+b1)+b2) # nlp with 3 layer\n",
        "    # we multiplied W with 0.1 because when we initialize values and multiply with our input the values became so high that network is in saturation state so we solve this problem with manually lower their values!(for some reason when you define W you can't define it like 0.1*rand directly so we use this method)\n",
        "  if(n_model == 4):\n",
        "   # yp = softmax_manual(0.1*W3@relu_manual(0.1*W2@relu_manual(0.1*W1@X+b1)+b2) + b3) # nlp with 4 layer\n",
        "   yp = softmax_manual(W3@relu_manual(W2@relu_manual(W1@X+b1)+b2) + b3) # nlp with 4 layer\n",
        "  if(n_model == 5):\n",
        "    yp = softmax_manual(0.1*W4@relu_manual(0.1*W3@relu_manual(0.1*W2@relu_manual(0.1*W1@X+b1)+b2) + b3) + b4) # nlp with 4 layer\n",
        "  return yp\n"
      ],
      "metadata": {
        "id": "k4JXpAFk6equ"
      },
      "execution_count": null,
      "outputs": []
    },
    {
      "cell_type": "code",
      "source": [
        "def accuracy_manual(y,yp):\n",
        "  \"\"\"\n",
        "  function for calculating accuracy\n",
        "  input:\n",
        "    y: true labels\n",
        "    yp:predicted labels\n",
        "  output:\n",
        "    acc = accuracy\n",
        "  \"\"\"\n",
        "  y_labels = torch.argmax(y,axis = 0)\n",
        "  yp_labels = torch.argmax(yp,axis = 0)\n",
        "  acc = torch.sum(y_labels == yp_labels)/len(y_labels)\n",
        "  return acc\n"
      ],
      "metadata": {
        "id": "N_j9o66vLq8Z"
      },
      "execution_count": null,
      "outputs": []
    },
    {
      "cell_type": "code",
      "source": [
        "# now optimizing model\n",
        "n_epochs = 100\n",
        "batch_size = 8\n",
        "learning_rate = 0.001\n",
        "train_error = []\n",
        "test_error = []\n",
        "train_acc = []\n",
        "test_acc = []\n",
        "\n",
        "\n",
        "# defining parameters,we belive that we should use all 5 layers to achive best result\n",
        "n_model = 4\n",
        "input_node = 28*28 #number of nodes in each sample input\n",
        "first_layer_nodes = 64 #number of hidden layer units\n",
        "second_layer_nodes = 64\n",
        "third_layer_nodes = 64\n",
        "output = 10 #output neurons\n",
        "\n",
        "W1 = 0.1*torch.rand(first_layer_nodes,input_node,dtype=torch.float32,device = device)\n",
        "W1.requires_grad_()\n",
        "b1 = torch.rand(first_layer_nodes,1,dtype=torch.float32,device = device,requires_grad=True)\n",
        "\n",
        "W2 = 0.1*torch.rand(second_layer_nodes,first_layer_nodes,dtype=torch.float32,device = device)\n",
        "W2.requires_grad_()\n",
        "b2 = torch.rand(second_layer_nodes,1,dtype=torch.float32,device = device,requires_grad=True)\n",
        "\n",
        "W4 = 0.1*torch.rand(third_layer_nodes,second_layer_nodes,dtype=torch.float32,device = device)\n",
        "W4.requires_grad_()\n",
        "b4 = torch.rand(third_layer_nodes,1,dtype=torch.float32,device = device,requires_grad=True)\n",
        "\n",
        "\n",
        "W3 = 0.1*torch.rand(output,second_layer_nodes,dtype=torch.float32,device = device)\n",
        "W3.requires_grad_()\n",
        "b3 = torch.rand(output,1,dtype=torch.float32,device = device,requires_grad=True)\n",
        "\n",
        "\n",
        "\n",
        "\n",
        "# Part C: training model\n",
        "for epoch in range(n_epochs):\n",
        "\n",
        "  permutation = torch.randperm(X_train.size()[1])\n",
        "\n",
        "  for i in range(0,X_train.size()[1], batch_size):\n",
        "        \n",
        "\n",
        "    indices = permutation[i:i+batch_size]\n",
        "    batch_x, batch_y = X_train[:,indices], y_train[:,indices]\n",
        "\n",
        "    # in case you wanted a semi-full example\n",
        "    yp = model(batch_x,W1,W2,W3,W4,b1,b2,b3,b4)\n",
        "    loss = cross_entropy_manual(batch_y,yp)\n",
        "    loss.backward()\n",
        "    with torch.no_grad():\n",
        "      W1 -= learning_rate * W1.grad\n",
        "      W2 -= learning_rate * W2.grad\n",
        "      W3 -= learning_rate * W3.grad\n",
        "      #W4 -= learning_rate * W4.grad\n",
        "\n",
        "\n",
        "      b1 -= learning_rate * b1.grad\n",
        "      b2 -= learning_rate * b2.grad\n",
        "      b3 -= learning_rate * b3.grad\n",
        "      #b4 -= learning_rate * b4.grad\n",
        "\n",
        "      # zero the gradients after updating\n",
        "      W1.grad.zero_()\n",
        "      W2.grad.zero_()\n",
        "      W3.grad.zero_()\n",
        "      #W4.grad.zero_()\n",
        "\n",
        "      b1.grad.zero_()\n",
        "      b2.grad.zero_()\n",
        "      b3.grad.zero_()\n",
        "      #b4.grad.zero_()\n",
        "  train_out = model(X_train,W1,W2,W3,W4,b1,b2,b3,b4)\n",
        "  train_error.append(cross_entropy_manual(y_train,train_out))\n",
        "  train_acc.append(accuracy_manual(y_train,train_out))\n",
        "\n",
        "  test_out = model(X_test,W1,W2,W3,W4,b1,b2,b3,b4)\n",
        "  test_error.append(cross_entropy_manual(y_test,test_out))\n",
        "  test_acc.append(accuracy_manual(y_test,test_out))\n",
        "  \n",
        "  print(f\"Epoch: {epoch} | Accuracy:{train_acc[epoch]:.5f} | Loss: {train_error[epoch]:.5f}| Test Accuracy:{test_acc[epoch]:.5f} | Test Loss: {test_error[epoch]:.5f}\") \n",
        "\n",
        "  \n",
        "\n",
        "        \n",
        "\n",
        "\n",
        "\n",
        "        "
      ],
      "metadata": {
        "colab": {
          "base_uri": "https://localhost:8080/"
        },
        "id": "voGbfZiMJSAN",
        "outputId": "c6ad0969-7620-43a6-cdef-86b937210df4"
      },
      "execution_count": null,
      "outputs": [
        {
          "output_type": "stream",
          "name": "stdout",
          "text": [
            "Epoch: 0 | Accuracy:0.10000 | Loss: 19.85784| Test Accuracy:0.10000 | Test Loss: 19.87853\n",
            "Epoch: 1 | Accuracy:0.53472 | Loss: 1.17730| Test Accuracy:0.53360 | Test Loss: 1.17774\n",
            "Epoch: 2 | Accuracy:0.65040 | Loss: 0.91701| Test Accuracy:0.65220 | Test Loss: 0.91765\n",
            "Epoch: 3 | Accuracy:0.71017 | Loss: 0.76941| Test Accuracy:0.70740 | Test Loss: 0.77948\n",
            "Epoch: 4 | Accuracy:0.75098 | Loss: 0.67654| Test Accuracy:0.74470 | Test Loss: 0.69384\n",
            "Epoch: 5 | Accuracy:0.76078 | Loss: 0.64238| Test Accuracy:0.74680 | Test Loss: 0.66389\n",
            "Epoch: 6 | Accuracy:0.76377 | Loss: 0.65241| Test Accuracy:0.75780 | Test Loss: 0.67224\n",
            "Epoch: 7 | Accuracy:0.78298 | Loss: 0.58662| Test Accuracy:0.77300 | Test Loss: 0.60764\n",
            "Epoch: 8 | Accuracy:0.79497 | Loss: 0.55773| Test Accuracy:0.78230 | Test Loss: 0.57848\n",
            "Epoch: 9 | Accuracy:0.79805 | Loss: 0.55706| Test Accuracy:0.78850 | Test Loss: 0.57890\n",
            "Epoch: 10 | Accuracy:0.80732 | Loss: 0.53127| Test Accuracy:0.79090 | Test Loss: 0.55772\n",
            "Epoch: 11 | Accuracy:0.81878 | Loss: 0.51161| Test Accuracy:0.80260 | Test Loss: 0.53782\n",
            "Epoch: 12 | Accuracy:0.81972 | Loss: 0.49703| Test Accuracy:0.80660 | Test Loss: 0.52188\n",
            "Epoch: 13 | Accuracy:0.81865 | Loss: 0.49838| Test Accuracy:0.80290 | Test Loss: 0.52410\n",
            "Epoch: 14 | Accuracy:0.82235 | Loss: 0.49600| Test Accuracy:0.80750 | Test Loss: 0.52503\n",
            "Epoch: 15 | Accuracy:0.82393 | Loss: 0.49069| Test Accuracy:0.80700 | Test Loss: 0.52001\n",
            "Epoch: 16 | Accuracy:0.83413 | Loss: 0.47351| Test Accuracy:0.82190 | Test Loss: 0.50251\n",
            "Epoch: 17 | Accuracy:0.82770 | Loss: 0.47454| Test Accuracy:0.81320 | Test Loss: 0.50185\n",
            "Epoch: 18 | Accuracy:0.83682 | Loss: 0.45884| Test Accuracy:0.82090 | Test Loss: 0.49045\n",
            "Epoch: 19 | Accuracy:0.83050 | Loss: 0.47532| Test Accuracy:0.81760 | Test Loss: 0.50983\n",
            "Epoch: 20 | Accuracy:0.84073 | Loss: 0.45105| Test Accuracy:0.82430 | Test Loss: 0.48577\n",
            "Epoch: 21 | Accuracy:0.84333 | Loss: 0.44074| Test Accuracy:0.83130 | Test Loss: 0.47304\n",
            "Epoch: 22 | Accuracy:0.84065 | Loss: 0.44740| Test Accuracy:0.82740 | Test Loss: 0.47931\n",
            "Epoch: 23 | Accuracy:0.84037 | Loss: 0.44315| Test Accuracy:0.82690 | Test Loss: 0.47697\n",
            "Epoch: 24 | Accuracy:0.84218 | Loss: 0.43932| Test Accuracy:0.82630 | Test Loss: 0.47436\n",
            "Epoch: 25 | Accuracy:0.84190 | Loss: 0.44412| Test Accuracy:0.82820 | Test Loss: 0.47630\n",
            "Epoch: 26 | Accuracy:0.84265 | Loss: 0.43528| Test Accuracy:0.83020 | Test Loss: 0.47087\n",
            "Epoch: 27 | Accuracy:0.84557 | Loss: 0.43534| Test Accuracy:0.83240 | Test Loss: 0.46853\n",
            "Epoch: 28 | Accuracy:0.84372 | Loss: 0.43954| Test Accuracy:0.82840 | Test Loss: 0.47454\n",
            "Epoch: 29 | Accuracy:0.84740 | Loss: 0.42862| Test Accuracy:0.83060 | Test Loss: 0.46257\n",
            "Epoch: 30 | Accuracy:0.84225 | Loss: 0.43840| Test Accuracy:0.82790 | Test Loss: 0.47382\n",
            "Epoch: 31 | Accuracy:0.85080 | Loss: 0.41744| Test Accuracy:0.83840 | Test Loss: 0.45242\n",
            "Epoch: 32 | Accuracy:0.85355 | Loss: 0.41134| Test Accuracy:0.83980 | Test Loss: 0.45058\n",
            "Epoch: 33 | Accuracy:0.85427 | Loss: 0.40809| Test Accuracy:0.83830 | Test Loss: 0.44295\n",
            "Epoch: 34 | Accuracy:0.84380 | Loss: 0.42979| Test Accuracy:0.83100 | Test Loss: 0.46495\n",
            "Epoch: 35 | Accuracy:0.85447 | Loss: 0.40732| Test Accuracy:0.84140 | Test Loss: 0.44733\n",
            "Epoch: 36 | Accuracy:0.85307 | Loss: 0.40711| Test Accuracy:0.84010 | Test Loss: 0.44576\n",
            "Epoch: 37 | Accuracy:0.85058 | Loss: 0.41451| Test Accuracy:0.83410 | Test Loss: 0.45393\n",
            "Epoch: 38 | Accuracy:0.85632 | Loss: 0.40220| Test Accuracy:0.83850 | Test Loss: 0.44389\n",
            "Epoch: 39 | Accuracy:0.85403 | Loss: 0.41053| Test Accuracy:0.83830 | Test Loss: 0.45123\n",
            "Epoch: 40 | Accuracy:0.85342 | Loss: 0.40993| Test Accuracy:0.83900 | Test Loss: 0.45012\n",
            "Epoch: 41 | Accuracy:0.85777 | Loss: 0.39696| Test Accuracy:0.83930 | Test Loss: 0.43760\n",
            "Epoch: 42 | Accuracy:0.83710 | Loss: 0.44929| Test Accuracy:0.82170 | Test Loss: 0.49261\n",
            "Epoch: 43 | Accuracy:0.85543 | Loss: 0.40002| Test Accuracy:0.84050 | Test Loss: 0.44318\n",
            "Epoch: 44 | Accuracy:0.85395 | Loss: 0.40431| Test Accuracy:0.83820 | Test Loss: 0.44610\n",
            "Epoch: 45 | Accuracy:0.85890 | Loss: 0.39194| Test Accuracy:0.84310 | Test Loss: 0.43410\n",
            "Epoch: 46 | Accuracy:0.86298 | Loss: 0.38426| Test Accuracy:0.84760 | Test Loss: 0.42711\n",
            "Epoch: 47 | Accuracy:0.86262 | Loss: 0.38124| Test Accuracy:0.84480 | Test Loss: 0.42386\n",
            "Epoch: 48 | Accuracy:0.86193 | Loss: 0.38266| Test Accuracy:0.84560 | Test Loss: 0.42407\n",
            "Epoch: 49 | Accuracy:0.86385 | Loss: 0.37691| Test Accuracy:0.84830 | Test Loss: 0.41972\n",
            "Epoch: 50 | Accuracy:0.86388 | Loss: 0.37747| Test Accuracy:0.84870 | Test Loss: 0.41994\n",
            "Epoch: 51 | Accuracy:0.85712 | Loss: 0.39102| Test Accuracy:0.84210 | Test Loss: 0.43232\n",
            "Epoch: 52 | Accuracy:0.86192 | Loss: 0.38168| Test Accuracy:0.84710 | Test Loss: 0.42360\n",
            "Epoch: 53 | Accuracy:0.86337 | Loss: 0.37729| Test Accuracy:0.84780 | Test Loss: 0.42000\n",
            "Epoch: 54 | Accuracy:0.86263 | Loss: 0.38290| Test Accuracy:0.84760 | Test Loss: 0.42702\n",
            "Epoch: 55 | Accuracy:0.85393 | Loss: 0.39698| Test Accuracy:0.83830 | Test Loss: 0.44181\n",
            "Epoch: 56 | Accuracy:0.86422 | Loss: 0.37566| Test Accuracy:0.84640 | Test Loss: 0.42045\n",
            "Epoch: 57 | Accuracy:0.86667 | Loss: 0.36907| Test Accuracy:0.85100 | Test Loss: 0.41559\n",
            "Epoch: 58 | Accuracy:0.86682 | Loss: 0.37063| Test Accuracy:0.84820 | Test Loss: 0.41366\n",
            "Epoch: 59 | Accuracy:0.86452 | Loss: 0.37100| Test Accuracy:0.84970 | Test Loss: 0.41785\n",
            "Epoch: 60 | Accuracy:0.86500 | Loss: 0.36982| Test Accuracy:0.84820 | Test Loss: 0.41704\n",
            "Epoch: 61 | Accuracy:0.86237 | Loss: 0.37733| Test Accuracy:0.84760 | Test Loss: 0.42413\n",
            "Epoch: 62 | Accuracy:0.86640 | Loss: 0.36638| Test Accuracy:0.84980 | Test Loss: 0.41346\n",
            "Epoch: 63 | Accuracy:0.86598 | Loss: 0.36764| Test Accuracy:0.84680 | Test Loss: 0.41616\n",
            "Epoch: 64 | Accuracy:0.87157 | Loss: 0.35807| Test Accuracy:0.85420 | Test Loss: 0.40715\n",
            "Epoch: 65 | Accuracy:0.86853 | Loss: 0.35946| Test Accuracy:0.85150 | Test Loss: 0.40923\n",
            "Epoch: 66 | Accuracy:0.85590 | Loss: 0.38801| Test Accuracy:0.83860 | Test Loss: 0.44051\n",
            "Epoch: 67 | Accuracy:0.85457 | Loss: 0.38692| Test Accuracy:0.83680 | Test Loss: 0.43759\n",
            "Epoch: 68 | Accuracy:0.86515 | Loss: 0.36647| Test Accuracy:0.84880 | Test Loss: 0.41632\n",
            "Epoch: 69 | Accuracy:0.86770 | Loss: 0.36906| Test Accuracy:0.84940 | Test Loss: 0.41884\n",
            "Epoch: 70 | Accuracy:0.87290 | Loss: 0.34871| Test Accuracy:0.85540 | Test Loss: 0.39622\n",
            "Epoch: 71 | Accuracy:0.87298 | Loss: 0.34858| Test Accuracy:0.85550 | Test Loss: 0.39940\n",
            "Epoch: 72 | Accuracy:0.87068 | Loss: 0.35753| Test Accuracy:0.85330 | Test Loss: 0.40640\n",
            "Epoch: 73 | Accuracy:0.86768 | Loss: 0.35907| Test Accuracy:0.84840 | Test Loss: 0.40821\n",
            "Epoch: 74 | Accuracy:0.86993 | Loss: 0.35534| Test Accuracy:0.85430 | Test Loss: 0.40405\n",
            "Epoch: 75 | Accuracy:0.87033 | Loss: 0.35522| Test Accuracy:0.85300 | Test Loss: 0.40586\n",
            "Epoch: 76 | Accuracy:0.87227 | Loss: 0.35326| Test Accuracy:0.85540 | Test Loss: 0.40764\n",
            "Epoch: 77 | Accuracy:0.86795 | Loss: 0.36121| Test Accuracy:0.85410 | Test Loss: 0.41304\n",
            "Epoch: 78 | Accuracy:0.86693 | Loss: 0.36259| Test Accuracy:0.85120 | Test Loss: 0.41654\n",
            "Epoch: 79 | Accuracy:0.86477 | Loss: 0.36471| Test Accuracy:0.84520 | Test Loss: 0.41880\n",
            "Epoch: 80 | Accuracy:0.87273 | Loss: 0.35235| Test Accuracy:0.85390 | Test Loss: 0.40390\n",
            "Epoch: 81 | Accuracy:0.87483 | Loss: 0.34244| Test Accuracy:0.85750 | Test Loss: 0.39246\n",
            "Epoch: 82 | Accuracy:0.86275 | Loss: 0.36899| Test Accuracy:0.84310 | Test Loss: 0.42389\n",
            "Epoch: 83 | Accuracy:0.87225 | Loss: 0.34665| Test Accuracy:0.85330 | Test Loss: 0.40063\n",
            "Epoch: 84 | Accuracy:0.87715 | Loss: 0.33695| Test Accuracy:0.85730 | Test Loss: 0.38963\n",
            "Epoch: 85 | Accuracy:0.87257 | Loss: 0.34571| Test Accuracy:0.85640 | Test Loss: 0.39964\n",
            "Epoch: 86 | Accuracy:0.87468 | Loss: 0.34329| Test Accuracy:0.85480 | Test Loss: 0.39794\n",
            "Epoch: 87 | Accuracy:0.87202 | Loss: 0.34581| Test Accuracy:0.85350 | Test Loss: 0.40099\n",
            "Epoch: 88 | Accuracy:0.87417 | Loss: 0.34385| Test Accuracy:0.85430 | Test Loss: 0.39816\n",
            "Epoch: 89 | Accuracy:0.87918 | Loss: 0.32968| Test Accuracy:0.86210 | Test Loss: 0.38574\n",
            "Epoch: 90 | Accuracy:0.87857 | Loss: 0.33173| Test Accuracy:0.85930 | Test Loss: 0.38847\n",
            "Epoch: 91 | Accuracy:0.87385 | Loss: 0.34283| Test Accuracy:0.85590 | Test Loss: 0.39846\n",
            "Epoch: 92 | Accuracy:0.87412 | Loss: 0.34312| Test Accuracy:0.85760 | Test Loss: 0.39963\n",
            "Epoch: 93 | Accuracy:0.87017 | Loss: 0.34959| Test Accuracy:0.85010 | Test Loss: 0.40619\n",
            "Epoch: 94 | Accuracy:0.87250 | Loss: 0.34452| Test Accuracy:0.85010 | Test Loss: 0.40314\n",
            "Epoch: 95 | Accuracy:0.87640 | Loss: 0.33876| Test Accuracy:0.85840 | Test Loss: 0.39721\n",
            "Epoch: 96 | Accuracy:0.87240 | Loss: 0.34435| Test Accuracy:0.85440 | Test Loss: 0.40092\n",
            "Epoch: 97 | Accuracy:0.88013 | Loss: 0.32700| Test Accuracy:0.86140 | Test Loss: 0.38499\n",
            "Epoch: 98 | Accuracy:0.88062 | Loss: 0.32835| Test Accuracy:0.86190 | Test Loss: 0.38559\n",
            "Epoch: 99 | Accuracy:0.88080 | Loss: 0.32380| Test Accuracy:0.86210 | Test Loss: 0.38020\n"
          ]
        }
      ]
    },
    {
      "cell_type": "code",
      "source": [
        "print(f\"accuracy on test data = {test_acc[len(test_acc)-1]}\")"
      ],
      "metadata": {
        "id": "7gSvFRkCYlDK",
        "colab": {
          "base_uri": "https://localhost:8080/"
        },
        "outputId": "28bdbb5d-ceae-4202-8410-da813d6b0520"
      },
      "execution_count": null,
      "outputs": [
        {
          "output_type": "stream",
          "name": "stdout",
          "text": [
            "accuracy on test data = 0.8621000051498413\n"
          ]
        }
      ]
    },
    {
      "cell_type": "code",
      "source": [
        "# plotting loss and accuracy\n",
        "train_error_float = []\n",
        "test_error_float = []\n",
        "for i in range(len(train_error)):\n",
        "  train_error_float.append(float(train_error[i]))\n",
        "  test_error_float.append(float(test_error[i]))\n",
        "plt.plot(train_error_float)\n",
        "plt.plot(test_error_float)\n",
        "plt.title('binary cross entropy loss')\n",
        "plt.xlabel('epcoh')\n",
        "plt.legend(['train','test'])\n",
        "plt.show()\n"
      ],
      "metadata": {
        "id": "DZ0NZcPjXN7I",
        "colab": {
          "base_uri": "https://localhost:8080/",
          "height": 295
        },
        "outputId": "4c321a0b-47f4-49ea-bbd1-29bf45d5a45f"
      },
      "execution_count": null,
      "outputs": [
        {
          "output_type": "display_data",
          "data": {
            "text/plain": [
              "<Figure size 432x288 with 1 Axes>"
            ],
            "image/png": "[encoded data removed]"
          },
          "metadata": {
            "needs_background": "light"
          }
        }
      ]
    },
    {
      "cell_type": "code",
      "source": [
        "# plotting loss and accuracy\n",
        "train_acc_float = []\n",
        "test_acc_float = []\n",
        "for i in range(len(train_error)):\n",
        "  train_acc_float.append(float(train_acc[i]))\n",
        "  test_acc_float.append(float(test_acc[i]))\n",
        "plt.plot(train_acc_float)\n",
        "plt.plot(test_acc_float)\n",
        "plt.title('accuracy')\n",
        "plt.xlabel('epcoh')\n",
        "plt.legend(['train','test'])\n",
        "plt.show()\n"
      ],
      "metadata": {
        "colab": {
          "base_uri": "https://localhost:8080/",
          "height": 295
        },
        "id": "j7MxgEiVVz8F",
        "outputId": "e07ac59d-5fa6-46d0-bbc3-c2d639e0717f"
      },
      "execution_count": null,
      "outputs": [
        {
          "output_type": "display_data",
          "data": {
            "text/plain": [
              "<Figure size 432x288 with 1 Axes>"
            ],
            "image/png": "[encoded data removed]"
          },
          "metadata": {
            "needs_background": "light"
          }
        }
      ]
    },
    {
      "cell_type": "code",
      "source": [
        "labels_selected = []\n",
        "fig = plt.figure(figsize = (15,15))\n",
        "for idx in range(9):\n",
        "  random_number = np.random.randint(0,len(test_data))\n",
        "  X_temp,y_temp = test_data[random_number]\n",
        "  \n",
        "  X_temp_model = X_test[:,random_number]\n",
        "  X_temp_model = X_temp_model.resize(784,1)\n",
        "  yp = model(X_temp_model,W1,W2,W3,W4,b1,b2,b3,b4)\n",
        "  y_temp = torch.argmax(y_temp).numpy()\n",
        "  yp_temp = torch.argmax(yp) # predicted output as label(and not one hot form!)\n",
        "  labels_selected.append(y_temp)\n",
        "  X_temp = X_temp.numpy()\n",
        "  ax = fig.add_subplot(3,3,idx + 1,xticks = [],yticks = [])\n",
        "  ax.imshow(np.squeeze(X_temp),cmap = 'gray')\n",
        "  text = \"true label = \" + output_mapping[int(y_temp)] + \"| predicted =\" + output_mapping[int(yp_temp)]\n",
        "  ax.set_title(text)\n"
      ],
      "metadata": {
        "colab": {
          "base_uri": "https://localhost:8080/",
          "height": 902
        },
        "id": "P1tGHv82VIop",
        "outputId": "a491ec09-f590-4826-9dde-776c395757f6"
      },
      "execution_count": null,
      "outputs": [
        {
          "output_type": "stream",
          "name": "stderr",
          "text": [
            "/usr/local/lib/python3.7/dist-packages/torch/_tensor.py:586: UserWarning: non-inplace resize is deprecated\n",
            "  warnings.warn(\"non-inplace resize is deprecated\")\n"
          ]
        },
        {
          "output_type": "display_data",
          "data": {
            "text/plain": [
              "<Figure size 1080x1080 with 9 Axes>"
            ],
            "image/png": "[encoded data removed]"
          },
          "metadata": {}
        }
      ]
    },
    {
      "cell_type": "markdown",
      "source": [
        "The results are pretty good!"
      ],
      "metadata": {
        "id": "6v2Vm0m1ZYZj"
      }
    }
  ]
}